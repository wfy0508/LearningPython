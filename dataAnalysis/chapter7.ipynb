{
 "cells": [
  {
   "cell_type": "markdown",
   "source": [
    "# 7 数据清洗与准备\n",
    "重点讨论缺失值、重复值、字符串操作和其他数据转换工具"
   ],
   "metadata": {
    "collapsed": false,
    "pycharm": {
     "name": "#%% md\n"
    }
   }
  },
  {
   "cell_type": "markdown",
   "source": [
    "## 7.1 处理缺失值"
   ],
   "metadata": {
    "collapsed": false,
    "pycharm": {
     "name": "#%% md\n"
    }
   }
  },
  {
   "cell_type": "code",
   "execution_count": 1,
   "outputs": [
    {
     "data": {
      "text/plain": "0     aardvark\n1    artichoke\n2          NaN\n3      avocado\ndtype: object"
     },
     "execution_count": 1,
     "metadata": {},
     "output_type": "execute_result"
    }
   ],
   "source": [
    "# pandas对象的所有描述性统计信息默认情况下是排除缺失值的\n",
    "import pandas as pd\n",
    "import numpy as np\n",
    "\n",
    "string_data = pd.Series(['aardvark', 'artichoke', np.nan, 'avocado'])\n",
    "string_data"
   ],
   "metadata": {
    "collapsed": false,
    "pycharm": {
     "name": "#%%\n"
    }
   }
  },
  {
   "cell_type": "code",
   "execution_count": 2,
   "outputs": [
    {
     "data": {
      "text/plain": "0    False\n1    False\n2     True\n3    False\ndtype: bool"
     },
     "execution_count": 2,
     "metadata": {},
     "output_type": "execute_result"
    }
   ],
   "source": [
    "string_data.isnull()"
   ],
   "metadata": {
    "collapsed": false,
    "pycharm": {
     "name": "#%%\n"
    }
   }
  },
  {
   "cell_type": "code",
   "execution_count": 4,
   "outputs": [
    {
     "data": {
      "text/plain": "0         None\n1    artichoke\n2          NaN\n3      avocado\ndtype: object"
     },
     "execution_count": 4,
     "metadata": {},
     "output_type": "execute_result"
    }
   ],
   "source": [
    "# NA意思是not available（不可用）\n",
    "# 当数据清洗时，对缺失数据本身进行分析已确定数据收集问题或数据丢失导致的数据偏差通常很重要。\n",
    "# None在对象数组中也被当作NA处理\n",
    "string_data[0] = None\n",
    "string_data"
   ],
   "metadata": {
    "collapsed": false,
    "pycharm": {
     "name": "#%%\n"
    }
   }
  },
  {
   "cell_type": "code",
   "execution_count": 5,
   "outputs": [
    {
     "data": {
      "text/plain": "0     True\n1    False\n2     True\n3    False\ndtype: bool"
     },
     "execution_count": 5,
     "metadata": {},
     "output_type": "execute_result"
    }
   ],
   "source": [
    "string_data.isnull()"
   ],
   "metadata": {
    "collapsed": false,
    "pycharm": {
     "name": "#%%\n"
    }
   }
  },
  {
   "cell_type": "markdown",
   "source": [
    "### 7.1.1 过滤缺失值"
   ],
   "metadata": {
    "collapsed": false,
    "pycharm": {
     "name": "#%% md\n"
    }
   }
  },
  {
   "cell_type": "code",
   "execution_count": 6,
   "outputs": [
    {
     "data": {
      "text/plain": "1    1.0\n2    2.0\n4    4.0\ndtype: float64"
     },
     "execution_count": 6,
     "metadata": {},
     "output_type": "execute_result"
    }
   ],
   "source": [
    "from numpy import nan as NA\n",
    "\n",
    "data = pd.Series([NA, 1, 2, NA, 4])\n",
    "# Series中使用dropna，会返回所有非NA的数据\n",
    "data.dropna()"
   ],
   "metadata": {
    "collapsed": false,
    "pycharm": {
     "name": "#%%\n"
    }
   }
  },
  {
   "cell_type": "code",
   "execution_count": 8,
   "outputs": [
    {
     "data": {
      "text/plain": "1    1.0\n2    2.0\n4    4.0\ndtype: float64"
     },
     "execution_count": 8,
     "metadata": {},
     "output_type": "execute_result"
    }
   ],
   "source": [
    "data[data.notnull()]"
   ],
   "metadata": {
    "collapsed": false,
    "pycharm": {
     "name": "#%%\n"
    }
   }
  },
  {
   "cell_type": "code",
   "execution_count": 11,
   "outputs": [
    {
     "data": {
      "text/plain": "     0     1    2\n0  1.0  6.50  3.0\n1  1.0   NaN  NaN\n2  NaN   NaN  NaN\n3  NaN  6.55  3.0",
      "text/html": "<div>\n<style scoped>\n    .dataframe tbody tr th:only-of-type {\n        vertical-align: middle;\n    }\n\n    .dataframe tbody tr th {\n        vertical-align: top;\n    }\n\n    .dataframe thead th {\n        text-align: right;\n    }\n</style>\n<table border=\"1\" class=\"dataframe\">\n  <thead>\n    <tr style=\"text-align: right;\">\n      <th></th>\n      <th>0</th>\n      <th>1</th>\n      <th>2</th>\n    </tr>\n  </thead>\n  <tbody>\n    <tr>\n      <th>0</th>\n      <td>1.0</td>\n      <td>6.50</td>\n      <td>3.0</td>\n    </tr>\n    <tr>\n      <th>1</th>\n      <td>1.0</td>\n      <td>NaN</td>\n      <td>NaN</td>\n    </tr>\n    <tr>\n      <th>2</th>\n      <td>NaN</td>\n      <td>NaN</td>\n      <td>NaN</td>\n    </tr>\n    <tr>\n      <th>3</th>\n      <td>NaN</td>\n      <td>6.55</td>\n      <td>3.0</td>\n    </tr>\n  </tbody>\n</table>\n</div>"
     },
     "execution_count": 11,
     "metadata": {},
     "output_type": "execute_result"
    }
   ],
   "source": [
    "# dropna默认删除包含NA的行\n",
    "data = pd.DataFrame([[1., 6.5, 3.], [1., NA, NA], [NA, NA, NA], [NA, 6.55, 3.]])\n",
    "cleaned = data.dropna()\n",
    "data"
   ],
   "metadata": {
    "collapsed": false,
    "pycharm": {
     "name": "#%%\n"
    }
   }
  },
  {
   "cell_type": "code",
   "execution_count": 12,
   "outputs": [
    {
     "data": {
      "text/plain": "     0    1    2\n0  1.0  6.5  3.0",
      "text/html": "<div>\n<style scoped>\n    .dataframe tbody tr th:only-of-type {\n        vertical-align: middle;\n    }\n\n    .dataframe tbody tr th {\n        vertical-align: top;\n    }\n\n    .dataframe thead th {\n        text-align: right;\n    }\n</style>\n<table border=\"1\" class=\"dataframe\">\n  <thead>\n    <tr style=\"text-align: right;\">\n      <th></th>\n      <th>0</th>\n      <th>1</th>\n      <th>2</th>\n    </tr>\n  </thead>\n  <tbody>\n    <tr>\n      <th>0</th>\n      <td>1.0</td>\n      <td>6.5</td>\n      <td>3.0</td>\n    </tr>\n  </tbody>\n</table>\n</div>"
     },
     "execution_count": 12,
     "metadata": {},
     "output_type": "execute_result"
    }
   ],
   "source": [
    "cleaned"
   ],
   "metadata": {
    "collapsed": false,
    "pycharm": {
     "name": "#%%\n"
    }
   }
  },
  {
   "cell_type": "code",
   "execution_count": 13,
   "outputs": [
    {
     "data": {
      "text/plain": "     0     1    2\n0  1.0  6.50  3.0\n1  1.0   NaN  NaN\n3  NaN  6.55  3.0",
      "text/html": "<div>\n<style scoped>\n    .dataframe tbody tr th:only-of-type {\n        vertical-align: middle;\n    }\n\n    .dataframe tbody tr th {\n        vertical-align: top;\n    }\n\n    .dataframe thead th {\n        text-align: right;\n    }\n</style>\n<table border=\"1\" class=\"dataframe\">\n  <thead>\n    <tr style=\"text-align: right;\">\n      <th></th>\n      <th>0</th>\n      <th>1</th>\n      <th>2</th>\n    </tr>\n  </thead>\n  <tbody>\n    <tr>\n      <th>0</th>\n      <td>1.0</td>\n      <td>6.50</td>\n      <td>3.0</td>\n    </tr>\n    <tr>\n      <th>1</th>\n      <td>1.0</td>\n      <td>NaN</td>\n      <td>NaN</td>\n    </tr>\n    <tr>\n      <th>3</th>\n      <td>NaN</td>\n      <td>6.55</td>\n      <td>3.0</td>\n    </tr>\n  </tbody>\n</table>\n</div>"
     },
     "execution_count": 13,
     "metadata": {},
     "output_type": "execute_result"
    }
   ],
   "source": [
    "# 当传入how='all'时，会删除所有值均为NA的行\n",
    "data.dropna(how='all')"
   ],
   "metadata": {
    "collapsed": false,
    "pycharm": {
     "name": "#%%\n"
    }
   }
  },
  {
   "cell_type": "code",
   "execution_count": 15,
   "outputs": [],
   "source": [
    "data[4] = NA"
   ],
   "metadata": {
    "collapsed": false,
    "pycharm": {
     "name": "#%%\n"
    }
   }
  },
  {
   "cell_type": "code",
   "execution_count": 16,
   "outputs": [
    {
     "data": {
      "text/plain": "     0     1    2   4\n0  1.0  6.50  3.0 NaN\n1  1.0   NaN  NaN NaN\n2  NaN   NaN  NaN NaN\n3  NaN  6.55  3.0 NaN",
      "text/html": "<div>\n<style scoped>\n    .dataframe tbody tr th:only-of-type {\n        vertical-align: middle;\n    }\n\n    .dataframe tbody tr th {\n        vertical-align: top;\n    }\n\n    .dataframe thead th {\n        text-align: right;\n    }\n</style>\n<table border=\"1\" class=\"dataframe\">\n  <thead>\n    <tr style=\"text-align: right;\">\n      <th></th>\n      <th>0</th>\n      <th>1</th>\n      <th>2</th>\n      <th>4</th>\n    </tr>\n  </thead>\n  <tbody>\n    <tr>\n      <th>0</th>\n      <td>1.0</td>\n      <td>6.50</td>\n      <td>3.0</td>\n      <td>NaN</td>\n    </tr>\n    <tr>\n      <th>1</th>\n      <td>1.0</td>\n      <td>NaN</td>\n      <td>NaN</td>\n      <td>NaN</td>\n    </tr>\n    <tr>\n      <th>2</th>\n      <td>NaN</td>\n      <td>NaN</td>\n      <td>NaN</td>\n      <td>NaN</td>\n    </tr>\n    <tr>\n      <th>3</th>\n      <td>NaN</td>\n      <td>6.55</td>\n      <td>3.0</td>\n      <td>NaN</td>\n    </tr>\n  </tbody>\n</table>\n</div>"
     },
     "execution_count": 16,
     "metadata": {},
     "output_type": "execute_result"
    }
   ],
   "source": [
    "data"
   ],
   "metadata": {
    "collapsed": false,
    "pycharm": {
     "name": "#%%\n"
    }
   }
  },
  {
   "cell_type": "code",
   "execution_count": 18,
   "outputs": [
    {
     "data": {
      "text/plain": "     0     1    2\n0  1.0  6.50  3.0\n1  1.0   NaN  NaN\n2  NaN   NaN  NaN\n3  NaN  6.55  3.0",
      "text/html": "<div>\n<style scoped>\n    .dataframe tbody tr th:only-of-type {\n        vertical-align: middle;\n    }\n\n    .dataframe tbody tr th {\n        vertical-align: top;\n    }\n\n    .dataframe thead th {\n        text-align: right;\n    }\n</style>\n<table border=\"1\" class=\"dataframe\">\n  <thead>\n    <tr style=\"text-align: right;\">\n      <th></th>\n      <th>0</th>\n      <th>1</th>\n      <th>2</th>\n    </tr>\n  </thead>\n  <tbody>\n    <tr>\n      <th>0</th>\n      <td>1.0</td>\n      <td>6.50</td>\n      <td>3.0</td>\n    </tr>\n    <tr>\n      <th>1</th>\n      <td>1.0</td>\n      <td>NaN</td>\n      <td>NaN</td>\n    </tr>\n    <tr>\n      <th>2</th>\n      <td>NaN</td>\n      <td>NaN</td>\n      <td>NaN</td>\n    </tr>\n    <tr>\n      <th>3</th>\n      <td>NaN</td>\n      <td>6.55</td>\n      <td>3.0</td>\n    </tr>\n  </tbody>\n</table>\n</div>"
     },
     "execution_count": 18,
     "metadata": {},
     "output_type": "execute_result"
    }
   ],
   "source": [
    "# 删除列加上axis=1\n",
    "data.dropna(axis=1, how='all')"
   ],
   "metadata": {
    "collapsed": false,
    "pycharm": {
     "name": "#%%\n"
    }
   }
  },
  {
   "cell_type": "code",
   "execution_count": 19,
   "outputs": [
    {
     "data": {
      "text/plain": "          0         1         2\n0  2.220267       NaN       NaN\n1  1.648893       NaN       NaN\n2  1.502815       NaN -1.576268\n3 -0.791778       NaN -0.098838\n4  0.206316  0.207775  0.431345\n5  0.552498 -1.905871  0.377752\n6 -0.794606 -2.397310 -1.736436",
      "text/html": "<div>\n<style scoped>\n    .dataframe tbody tr th:only-of-type {\n        vertical-align: middle;\n    }\n\n    .dataframe tbody tr th {\n        vertical-align: top;\n    }\n\n    .dataframe thead th {\n        text-align: right;\n    }\n</style>\n<table border=\"1\" class=\"dataframe\">\n  <thead>\n    <tr style=\"text-align: right;\">\n      <th></th>\n      <th>0</th>\n      <th>1</th>\n      <th>2</th>\n    </tr>\n  </thead>\n  <tbody>\n    <tr>\n      <th>0</th>\n      <td>2.220267</td>\n      <td>NaN</td>\n      <td>NaN</td>\n    </tr>\n    <tr>\n      <th>1</th>\n      <td>1.648893</td>\n      <td>NaN</td>\n      <td>NaN</td>\n    </tr>\n    <tr>\n      <th>2</th>\n      <td>1.502815</td>\n      <td>NaN</td>\n      <td>-1.576268</td>\n    </tr>\n    <tr>\n      <th>3</th>\n      <td>-0.791778</td>\n      <td>NaN</td>\n      <td>-0.098838</td>\n    </tr>\n    <tr>\n      <th>4</th>\n      <td>0.206316</td>\n      <td>0.207775</td>\n      <td>0.431345</td>\n    </tr>\n    <tr>\n      <th>5</th>\n      <td>0.552498</td>\n      <td>-1.905871</td>\n      <td>0.377752</td>\n    </tr>\n    <tr>\n      <th>6</th>\n      <td>-0.794606</td>\n      <td>-2.397310</td>\n      <td>-1.736436</td>\n    </tr>\n  </tbody>\n</table>\n</div>"
     },
     "execution_count": 19,
     "metadata": {},
     "output_type": "execute_result"
    }
   ],
   "source": [
    "# 只想保留一定数量的行，使用thresh参数来表示\n",
    "df = pd.DataFrame(np.random.randn(7, 3))\n",
    "df.iloc[:4, 1] = NA\n",
    "df.iloc[:2, 2] = NA\n",
    "df"
   ],
   "metadata": {
    "collapsed": false,
    "pycharm": {
     "name": "#%%\n"
    }
   }
  },
  {
   "cell_type": "code",
   "execution_count": 20,
   "outputs": [
    {
     "data": {
      "text/plain": "          0         1         2\n4  0.206316  0.207775  0.431345\n5  0.552498 -1.905871  0.377752\n6 -0.794606 -2.397310 -1.736436",
      "text/html": "<div>\n<style scoped>\n    .dataframe tbody tr th:only-of-type {\n        vertical-align: middle;\n    }\n\n    .dataframe tbody tr th {\n        vertical-align: top;\n    }\n\n    .dataframe thead th {\n        text-align: right;\n    }\n</style>\n<table border=\"1\" class=\"dataframe\">\n  <thead>\n    <tr style=\"text-align: right;\">\n      <th></th>\n      <th>0</th>\n      <th>1</th>\n      <th>2</th>\n    </tr>\n  </thead>\n  <tbody>\n    <tr>\n      <th>4</th>\n      <td>0.206316</td>\n      <td>0.207775</td>\n      <td>0.431345</td>\n    </tr>\n    <tr>\n      <th>5</th>\n      <td>0.552498</td>\n      <td>-1.905871</td>\n      <td>0.377752</td>\n    </tr>\n    <tr>\n      <th>6</th>\n      <td>-0.794606</td>\n      <td>-2.397310</td>\n      <td>-1.736436</td>\n    </tr>\n  </tbody>\n</table>\n</div>"
     },
     "execution_count": 20,
     "metadata": {},
     "output_type": "execute_result"
    }
   ],
   "source": [
    "df.dropna()"
   ],
   "metadata": {
    "collapsed": false,
    "pycharm": {
     "name": "#%%\n"
    }
   }
  },
  {
   "cell_type": "code",
   "execution_count": 21,
   "outputs": [
    {
     "data": {
      "text/plain": "          0         1         2\n2  1.502815       NaN -1.576268\n3 -0.791778       NaN -0.098838\n4  0.206316  0.207775  0.431345\n5  0.552498 -1.905871  0.377752\n6 -0.794606 -2.397310 -1.736436",
      "text/html": "<div>\n<style scoped>\n    .dataframe tbody tr th:only-of-type {\n        vertical-align: middle;\n    }\n\n    .dataframe tbody tr th {\n        vertical-align: top;\n    }\n\n    .dataframe thead th {\n        text-align: right;\n    }\n</style>\n<table border=\"1\" class=\"dataframe\">\n  <thead>\n    <tr style=\"text-align: right;\">\n      <th></th>\n      <th>0</th>\n      <th>1</th>\n      <th>2</th>\n    </tr>\n  </thead>\n  <tbody>\n    <tr>\n      <th>2</th>\n      <td>1.502815</td>\n      <td>NaN</td>\n      <td>-1.576268</td>\n    </tr>\n    <tr>\n      <th>3</th>\n      <td>-0.791778</td>\n      <td>NaN</td>\n      <td>-0.098838</td>\n    </tr>\n    <tr>\n      <th>4</th>\n      <td>0.206316</td>\n      <td>0.207775</td>\n      <td>0.431345</td>\n    </tr>\n    <tr>\n      <th>5</th>\n      <td>0.552498</td>\n      <td>-1.905871</td>\n      <td>0.377752</td>\n    </tr>\n    <tr>\n      <th>6</th>\n      <td>-0.794606</td>\n      <td>-2.397310</td>\n      <td>-1.736436</td>\n    </tr>\n  </tbody>\n</table>\n</div>"
     },
     "execution_count": 21,
     "metadata": {},
     "output_type": "execute_result"
    }
   ],
   "source": [
    "df.dropna(thresh=2)"
   ],
   "metadata": {
    "collapsed": false,
    "pycharm": {
     "name": "#%%\n"
    }
   }
  },
  {
   "cell_type": "markdown",
   "source": [
    "### 7.1.2 补全缺失值"
   ],
   "metadata": {
    "collapsed": false,
    "pycharm": {
     "name": "#%% md\n"
    }
   }
  },
  {
   "cell_type": "code",
   "execution_count": 23,
   "outputs": [
    {
     "data": {
      "text/plain": "          0         1         2\n0  2.220267  0.000000  0.000000\n1  1.648893  0.000000  0.000000\n2  1.502815  0.000000 -1.576268\n3 -0.791778  0.000000 -0.098838\n4  0.206316  0.207775  0.431345\n5  0.552498 -1.905871  0.377752\n6 -0.794606 -2.397310 -1.736436",
      "text/html": "<div>\n<style scoped>\n    .dataframe tbody tr th:only-of-type {\n        vertical-align: middle;\n    }\n\n    .dataframe tbody tr th {\n        vertical-align: top;\n    }\n\n    .dataframe thead th {\n        text-align: right;\n    }\n</style>\n<table border=\"1\" class=\"dataframe\">\n  <thead>\n    <tr style=\"text-align: right;\">\n      <th></th>\n      <th>0</th>\n      <th>1</th>\n      <th>2</th>\n    </tr>\n  </thead>\n  <tbody>\n    <tr>\n      <th>0</th>\n      <td>2.220267</td>\n      <td>0.000000</td>\n      <td>0.000000</td>\n    </tr>\n    <tr>\n      <th>1</th>\n      <td>1.648893</td>\n      <td>0.000000</td>\n      <td>0.000000</td>\n    </tr>\n    <tr>\n      <th>2</th>\n      <td>1.502815</td>\n      <td>0.000000</td>\n      <td>-1.576268</td>\n    </tr>\n    <tr>\n      <th>3</th>\n      <td>-0.791778</td>\n      <td>0.000000</td>\n      <td>-0.098838</td>\n    </tr>\n    <tr>\n      <th>4</th>\n      <td>0.206316</td>\n      <td>0.207775</td>\n      <td>0.431345</td>\n    </tr>\n    <tr>\n      <th>5</th>\n      <td>0.552498</td>\n      <td>-1.905871</td>\n      <td>0.377752</td>\n    </tr>\n    <tr>\n      <th>6</th>\n      <td>-0.794606</td>\n      <td>-2.397310</td>\n      <td>-1.736436</td>\n    </tr>\n  </tbody>\n</table>\n</div>"
     },
     "execution_count": 23,
     "metadata": {},
     "output_type": "execute_result"
    }
   ],
   "source": [
    "# 大多数情况下使用fillna来不全缺失值\n",
    "df.fillna(0)"
   ],
   "metadata": {
    "collapsed": false,
    "pycharm": {
     "name": "#%%\n"
    }
   }
  },
  {
   "cell_type": "code",
   "execution_count": 24,
   "outputs": [
    {
     "data": {
      "text/plain": "          0         1         2\n0  2.220267  0.500000  1.000000\n1  1.648893  0.500000  1.000000\n2  1.502815  0.500000 -1.576268\n3 -0.791778  0.500000 -0.098838\n4  0.206316  0.207775  0.431345\n5  0.552498 -1.905871  0.377752\n6 -0.794606 -2.397310 -1.736436",
      "text/html": "<div>\n<style scoped>\n    .dataframe tbody tr th:only-of-type {\n        vertical-align: middle;\n    }\n\n    .dataframe tbody tr th {\n        vertical-align: top;\n    }\n\n    .dataframe thead th {\n        text-align: right;\n    }\n</style>\n<table border=\"1\" class=\"dataframe\">\n  <thead>\n    <tr style=\"text-align: right;\">\n      <th></th>\n      <th>0</th>\n      <th>1</th>\n      <th>2</th>\n    </tr>\n  </thead>\n  <tbody>\n    <tr>\n      <th>0</th>\n      <td>2.220267</td>\n      <td>0.500000</td>\n      <td>1.000000</td>\n    </tr>\n    <tr>\n      <th>1</th>\n      <td>1.648893</td>\n      <td>0.500000</td>\n      <td>1.000000</td>\n    </tr>\n    <tr>\n      <th>2</th>\n      <td>1.502815</td>\n      <td>0.500000</td>\n      <td>-1.576268</td>\n    </tr>\n    <tr>\n      <th>3</th>\n      <td>-0.791778</td>\n      <td>0.500000</td>\n      <td>-0.098838</td>\n    </tr>\n    <tr>\n      <th>4</th>\n      <td>0.206316</td>\n      <td>0.207775</td>\n      <td>0.431345</td>\n    </tr>\n    <tr>\n      <th>5</th>\n      <td>0.552498</td>\n      <td>-1.905871</td>\n      <td>0.377752</td>\n    </tr>\n    <tr>\n      <th>6</th>\n      <td>-0.794606</td>\n      <td>-2.397310</td>\n      <td>-1.736436</td>\n    </tr>\n  </tbody>\n</table>\n</div>"
     },
     "execution_count": 24,
     "metadata": {},
     "output_type": "execute_result"
    }
   ],
   "source": [
    "# 可以使用字典来为不同的列填充不同的值\n",
    "df.fillna({1: 0.5, 2: 1})"
   ],
   "metadata": {
    "collapsed": false,
    "pycharm": {
     "name": "#%%\n"
    }
   }
  },
  {
   "cell_type": "code",
   "execution_count": 27,
   "outputs": [
    {
     "data": {
      "text/plain": "          0         1         2\n0  2.220267  0.500000  1.000000\n1  1.648893  0.500000  1.000000\n2  1.502815  0.500000 -1.576268\n3 -0.791778  0.500000 -0.098838\n4  0.206316  0.207775  0.431345\n5  0.552498 -1.905871  0.377752\n6 -0.794606 -2.397310 -1.736436",
      "text/html": "<div>\n<style scoped>\n    .dataframe tbody tr th:only-of-type {\n        vertical-align: middle;\n    }\n\n    .dataframe tbody tr th {\n        vertical-align: top;\n    }\n\n    .dataframe thead th {\n        text-align: right;\n    }\n</style>\n<table border=\"1\" class=\"dataframe\">\n  <thead>\n    <tr style=\"text-align: right;\">\n      <th></th>\n      <th>0</th>\n      <th>1</th>\n      <th>2</th>\n    </tr>\n  </thead>\n  <tbody>\n    <tr>\n      <th>0</th>\n      <td>2.220267</td>\n      <td>0.500000</td>\n      <td>1.000000</td>\n    </tr>\n    <tr>\n      <th>1</th>\n      <td>1.648893</td>\n      <td>0.500000</td>\n      <td>1.000000</td>\n    </tr>\n    <tr>\n      <th>2</th>\n      <td>1.502815</td>\n      <td>0.500000</td>\n      <td>-1.576268</td>\n    </tr>\n    <tr>\n      <th>3</th>\n      <td>-0.791778</td>\n      <td>0.500000</td>\n      <td>-0.098838</td>\n    </tr>\n    <tr>\n      <th>4</th>\n      <td>0.206316</td>\n      <td>0.207775</td>\n      <td>0.431345</td>\n    </tr>\n    <tr>\n      <th>5</th>\n      <td>0.552498</td>\n      <td>-1.905871</td>\n      <td>0.377752</td>\n    </tr>\n    <tr>\n      <th>6</th>\n      <td>-0.794606</td>\n      <td>-2.397310</td>\n      <td>-1.736436</td>\n    </tr>\n  </tbody>\n</table>\n</div>"
     },
     "execution_count": 27,
     "metadata": {},
     "output_type": "execute_result"
    }
   ],
   "source": [
    "# fillna默认不会修改原有的对象，加inplace=True会就地修改\n",
    "_ = df.fillna({1: 0.5, 2: 1}, inplace=True)\n",
    "df"
   ],
   "metadata": {
    "collapsed": false,
    "pycharm": {
     "name": "#%%\n"
    }
   }
  },
  {
   "cell_type": "code",
   "execution_count": 28,
   "outputs": [
    {
     "data": {
      "text/plain": "          0         1         2\n0  0.365008  0.284544 -0.677766\n1  0.592913 -1.810273 -2.835809\n2  0.256803       NaN -0.688223\n3 -1.758211       NaN  1.070885\n4 -0.309773       NaN       NaN\n5 -0.772189       NaN       NaN",
      "text/html": "<div>\n<style scoped>\n    .dataframe tbody tr th:only-of-type {\n        vertical-align: middle;\n    }\n\n    .dataframe tbody tr th {\n        vertical-align: top;\n    }\n\n    .dataframe thead th {\n        text-align: right;\n    }\n</style>\n<table border=\"1\" class=\"dataframe\">\n  <thead>\n    <tr style=\"text-align: right;\">\n      <th></th>\n      <th>0</th>\n      <th>1</th>\n      <th>2</th>\n    </tr>\n  </thead>\n  <tbody>\n    <tr>\n      <th>0</th>\n      <td>0.365008</td>\n      <td>0.284544</td>\n      <td>-0.677766</td>\n    </tr>\n    <tr>\n      <th>1</th>\n      <td>0.592913</td>\n      <td>-1.810273</td>\n      <td>-2.835809</td>\n    </tr>\n    <tr>\n      <th>2</th>\n      <td>0.256803</td>\n      <td>NaN</td>\n      <td>-0.688223</td>\n    </tr>\n    <tr>\n      <th>3</th>\n      <td>-1.758211</td>\n      <td>NaN</td>\n      <td>1.070885</td>\n    </tr>\n    <tr>\n      <th>4</th>\n      <td>-0.309773</td>\n      <td>NaN</td>\n      <td>NaN</td>\n    </tr>\n    <tr>\n      <th>5</th>\n      <td>-0.772189</td>\n      <td>NaN</td>\n      <td>NaN</td>\n    </tr>\n  </tbody>\n</table>\n</div>"
     },
     "execution_count": 28,
     "metadata": {},
     "output_type": "execute_result"
    }
   ],
   "source": [
    "df = pd.DataFrame(np.random.randn(6, 3))\n",
    "df.iloc[2:, 1] = NA\n",
    "df.iloc[4:, 2] = NA\n",
    "df"
   ],
   "metadata": {
    "collapsed": false,
    "pycharm": {
     "name": "#%%\n"
    }
   }
  },
  {
   "cell_type": "code",
   "execution_count": 30,
   "outputs": [
    {
     "data": {
      "text/plain": "          0         1         2\n0  0.365008  0.284544 -0.677766\n1  0.592913 -1.810273 -2.835809\n2  0.256803 -1.810273 -0.688223\n3 -1.758211 -1.810273  1.070885\n4 -0.309773 -1.810273  1.070885\n5 -0.772189 -1.810273  1.070885",
      "text/html": "<div>\n<style scoped>\n    .dataframe tbody tr th:only-of-type {\n        vertical-align: middle;\n    }\n\n    .dataframe tbody tr th {\n        vertical-align: top;\n    }\n\n    .dataframe thead th {\n        text-align: right;\n    }\n</style>\n<table border=\"1\" class=\"dataframe\">\n  <thead>\n    <tr style=\"text-align: right;\">\n      <th></th>\n      <th>0</th>\n      <th>1</th>\n      <th>2</th>\n    </tr>\n  </thead>\n  <tbody>\n    <tr>\n      <th>0</th>\n      <td>0.365008</td>\n      <td>0.284544</td>\n      <td>-0.677766</td>\n    </tr>\n    <tr>\n      <th>1</th>\n      <td>0.592913</td>\n      <td>-1.810273</td>\n      <td>-2.835809</td>\n    </tr>\n    <tr>\n      <th>2</th>\n      <td>0.256803</td>\n      <td>-1.810273</td>\n      <td>-0.688223</td>\n    </tr>\n    <tr>\n      <th>3</th>\n      <td>-1.758211</td>\n      <td>-1.810273</td>\n      <td>1.070885</td>\n    </tr>\n    <tr>\n      <th>4</th>\n      <td>-0.309773</td>\n      <td>-1.810273</td>\n      <td>1.070885</td>\n    </tr>\n    <tr>\n      <th>5</th>\n      <td>-0.772189</td>\n      <td>-1.810273</td>\n      <td>1.070885</td>\n    </tr>\n  </tbody>\n</table>\n</div>"
     },
     "execution_count": 30,
     "metadata": {},
     "output_type": "execute_result"
    }
   ],
   "source": [
    "# 使用前一项值来填充空值\n",
    "df.fillna(method='ffill')"
   ],
   "metadata": {
    "collapsed": false,
    "pycharm": {
     "name": "#%%\n"
    }
   }
  },
  {
   "cell_type": "code",
   "execution_count": 31,
   "outputs": [
    {
     "data": {
      "text/plain": "          0         1         2\n0  0.365008  0.284544 -0.677766\n1  0.592913 -1.810273 -2.835809\n2  0.256803 -0.762864 -0.688223\n3 -1.758211 -0.762864  1.070885\n4 -0.309773 -0.762864 -0.782728\n5 -0.772189 -0.762864 -0.782728",
      "text/html": "<div>\n<style scoped>\n    .dataframe tbody tr th:only-of-type {\n        vertical-align: middle;\n    }\n\n    .dataframe tbody tr th {\n        vertical-align: top;\n    }\n\n    .dataframe thead th {\n        text-align: right;\n    }\n</style>\n<table border=\"1\" class=\"dataframe\">\n  <thead>\n    <tr style=\"text-align: right;\">\n      <th></th>\n      <th>0</th>\n      <th>1</th>\n      <th>2</th>\n    </tr>\n  </thead>\n  <tbody>\n    <tr>\n      <th>0</th>\n      <td>0.365008</td>\n      <td>0.284544</td>\n      <td>-0.677766</td>\n    </tr>\n    <tr>\n      <th>1</th>\n      <td>0.592913</td>\n      <td>-1.810273</td>\n      <td>-2.835809</td>\n    </tr>\n    <tr>\n      <th>2</th>\n      <td>0.256803</td>\n      <td>-0.762864</td>\n      <td>-0.688223</td>\n    </tr>\n    <tr>\n      <th>3</th>\n      <td>-1.758211</td>\n      <td>-0.762864</td>\n      <td>1.070885</td>\n    </tr>\n    <tr>\n      <th>4</th>\n      <td>-0.309773</td>\n      <td>-0.762864</td>\n      <td>-0.782728</td>\n    </tr>\n    <tr>\n      <th>5</th>\n      <td>-0.772189</td>\n      <td>-0.762864</td>\n      <td>-0.782728</td>\n    </tr>\n  </tbody>\n</table>\n</div>"
     },
     "execution_count": 31,
     "metadata": {},
     "output_type": "execute_result"
    }
   ],
   "source": [
    "# 也可以使用均值等来填充缺失值\n",
    "df.fillna(df.mean())"
   ],
   "metadata": {
    "collapsed": false,
    "pycharm": {
     "name": "#%%\n"
    }
   }
  },
  {
   "cell_type": "code",
   "execution_count": null,
   "outputs": [],
   "source": [],
   "metadata": {
    "collapsed": false,
    "pycharm": {
     "name": "#%%\n"
    }
   }
  }
 ],
 "metadata": {
  "kernelspec": {
   "display_name": "Python 3",
   "language": "python",
   "name": "python3"
  },
  "language_info": {
   "codemirror_mode": {
    "name": "ipython",
    "version": 2
   },
   "file_extension": ".py",
   "mimetype": "text/x-python",
   "name": "python",
   "nbconvert_exporter": "python",
   "pygments_lexer": "ipython2",
   "version": "2.7.6"
  }
 },
 "nbformat": 4,
 "nbformat_minor": 0
}