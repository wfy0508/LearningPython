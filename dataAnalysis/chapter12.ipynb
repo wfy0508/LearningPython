{
 "cells": [
  {
   "cell_type": "markdown",
   "source": [
    "# 12 高阶pandas"
   ],
   "metadata": {
    "collapsed": false,
    "pycharm": {
     "name": "#%% md\n"
    }
   }
  },
  {
   "cell_type": "markdown",
   "source": [
    "## 12.1 分类数据"
   ],
   "metadata": {
    "collapsed": false,
    "pycharm": {
     "name": "#%% md\n"
    }
   }
  },
  {
   "cell_type": "code",
   "execution_count": 2,
   "outputs": [],
   "source": [
    "import pandas as pd\n",
    "import numpy as np"
   ],
   "metadata": {
    "collapsed": false,
    "pycharm": {
     "name": "#%%\n"
    }
   }
  },
  {
   "cell_type": "code",
   "execution_count": 3,
   "outputs": [
    {
     "data": {
      "text/plain": "0      apple\n1       pear\n2     orange\n3     banana\n4      apple\n5       pear\n6     orange\n7     banana\n8      apple\n9       pear\n10    orange\n11    banana\n12     apple\n13      pear\n14    orange\n15    banana\ndtype: object"
     },
     "execution_count": 3,
     "metadata": {},
     "output_type": "execute_result"
    }
   ],
   "source": [
    "# 如果一列经常包含重复值，经常使用unique和value_counts这样的函数\n",
    "values = pd.Series(['apple', 'pear', 'orange', 'banana'] * 4)\n",
    "values"
   ],
   "metadata": {
    "collapsed": false,
    "pycharm": {
     "name": "#%%\n"
    }
   }
  },
  {
   "cell_type": "code",
   "execution_count": 4,
   "outputs": [
    {
     "data": {
      "text/plain": "array(['apple', 'pear', 'orange', 'banana'], dtype=object)"
     },
     "execution_count": 4,
     "metadata": {},
     "output_type": "execute_result"
    }
   ],
   "source": [
    "pd.unique(values)"
   ],
   "metadata": {
    "collapsed": false,
    "pycharm": {
     "name": "#%%\n"
    }
   }
  },
  {
   "cell_type": "code",
   "execution_count": 5,
   "outputs": [
    {
     "data": {
      "text/plain": "apple     4\npear      4\norange    4\nbanana    4\ndtype: int64"
     },
     "execution_count": 5,
     "metadata": {},
     "output_type": "execute_result"
    }
   ],
   "source": [
    "pd.value_counts(values)"
   ],
   "metadata": {
    "collapsed": false,
    "pycharm": {
     "name": "#%%\n"
    }
   }
  },
  {
   "cell_type": "code",
   "execution_count": 8,
   "outputs": [
    {
     "data": {
      "text/plain": "0     apple\n1    orange\ndtype: object"
     },
     "execution_count": 8,
     "metadata": {},
     "output_type": "execute_result"
    }
   ],
   "source": [
    "# 使用维度表来存储重复数据，维度表包含了不同值，并将主要观测值存储为引用维度表的整数键\n",
    "# 值\n",
    "values = pd.Series([0, 1, 0, 0] * 2)\n",
    "# 维度数据Series\n",
    "dim = pd.Series(['apple', 'orange'])\n",
    "dim"
   ],
   "metadata": {
    "collapsed": false,
    "pycharm": {
     "name": "#%%\n"
    }
   }
  },
  {
   "cell_type": "code",
   "execution_count": 9,
   "outputs": [
    {
     "data": {
      "text/plain": "0     apple\n1    orange\n0     apple\n0     apple\n0     apple\n1    orange\n0     apple\n0     apple\ndtype: object"
     },
     "execution_count": 9,
     "metadata": {},
     "output_type": "execute_result"
    }
   ],
   "source": [
    "dim.take(values)"
   ],
   "metadata": {
    "collapsed": false,
    "pycharm": {
     "name": "#%%\n"
    }
   }
  },
  {
   "cell_type": "code",
   "execution_count": 10,
   "outputs": [
    {
     "data": {
      "text/plain": "0    0\n1    1\n2    0\n3    0\n4    0\n5    1\n6    0\n7    0\ndtype: int64"
     },
     "execution_count": 10,
     "metadata": {},
     "output_type": "execute_result"
    }
   ],
   "source": [
    "values"
   ],
   "metadata": {
    "collapsed": false,
    "pycharm": {
     "name": "#%%\n"
    }
   }
  },
  {
   "cell_type": "markdown",
   "source": [
    "> 在数据分析时，分类展示会产生显著的性能提升，可以在类别上进行转换的同时不改变代码：\n",
    "> 1 重命名类别\n",
    "> 2 在不改变已有的类别顺序的情况下添加一个新的类别"
   ],
   "metadata": {
    "collapsed": false,
    "pycharm": {
     "name": "#%% md\n"
    }
   }
  },
  {
   "cell_type": "markdown",
   "source": [
    "### 12.1.2 pandas中Categorical类型"
   ],
   "metadata": {
    "collapsed": false,
    "pycharm": {
     "name": "#%% md\n"
    }
   }
  },
  {
   "cell_type": "code",
   "execution_count": 14,
   "outputs": [
    {
     "data": {
      "text/plain": "   basket_id   fruit  count    weight\n0          0   apple      5  1.924889\n1          1  orange     11  2.394817\n2          2   apple      3  1.792333\n3          3   apple     12  0.885257\n4          4   apple      6  1.795776\n5          5  orange     14  2.776889\n6          6   apple     14  3.632011\n7          7   apple      9  3.331917",
      "text/html": "<div>\n<style scoped>\n    .dataframe tbody tr th:only-of-type {\n        vertical-align: middle;\n    }\n\n    .dataframe tbody tr th {\n        vertical-align: top;\n    }\n\n    .dataframe thead th {\n        text-align: right;\n    }\n</style>\n<table border=\"1\" class=\"dataframe\">\n  <thead>\n    <tr style=\"text-align: right;\">\n      <th></th>\n      <th>basket_id</th>\n      <th>fruit</th>\n      <th>count</th>\n      <th>weight</th>\n    </tr>\n  </thead>\n  <tbody>\n    <tr>\n      <th>0</th>\n      <td>0</td>\n      <td>apple</td>\n      <td>5</td>\n      <td>1.924889</td>\n    </tr>\n    <tr>\n      <th>1</th>\n      <td>1</td>\n      <td>orange</td>\n      <td>11</td>\n      <td>2.394817</td>\n    </tr>\n    <tr>\n      <th>2</th>\n      <td>2</td>\n      <td>apple</td>\n      <td>3</td>\n      <td>1.792333</td>\n    </tr>\n    <tr>\n      <th>3</th>\n      <td>3</td>\n      <td>apple</td>\n      <td>12</td>\n      <td>0.885257</td>\n    </tr>\n    <tr>\n      <th>4</th>\n      <td>4</td>\n      <td>apple</td>\n      <td>6</td>\n      <td>1.795776</td>\n    </tr>\n    <tr>\n      <th>5</th>\n      <td>5</td>\n      <td>orange</td>\n      <td>14</td>\n      <td>2.776889</td>\n    </tr>\n    <tr>\n      <th>6</th>\n      <td>6</td>\n      <td>apple</td>\n      <td>14</td>\n      <td>3.632011</td>\n    </tr>\n    <tr>\n      <th>7</th>\n      <td>7</td>\n      <td>apple</td>\n      <td>9</td>\n      <td>3.331917</td>\n    </tr>\n  </tbody>\n</table>\n</div>"
     },
     "execution_count": 14,
     "metadata": {},
     "output_type": "execute_result"
    }
   ],
   "source": [
    "# Categorical用于承载基于整数的类别展示或编码的数据\n",
    "fruits = ['apple', 'orange', 'apple', 'apple'] * 2\n",
    "N = len(fruits)\n",
    "df = pd.DataFrame({'fruit': fruits,\n",
    "                   'basket_id': np.arange(N),\n",
    "                   'count': np.random.randint(3, 15, size=N),\n",
    "                   'weight': np.random.uniform(0, 4, size=N)},\n",
    "                  columns=['basket_id', 'fruit', 'count', 'weight'])\n",
    "df"
   ],
   "metadata": {
    "collapsed": false,
    "pycharm": {
     "name": "#%%\n"
    }
   }
  },
  {
   "cell_type": "code",
   "execution_count": 16,
   "outputs": [
    {
     "data": {
      "text/plain": "0     apple\n1    orange\n2     apple\n3     apple\n4     apple\n5    orange\n6     apple\n7     apple\nName: fruit, dtype: category\nCategories (2, object): ['apple', 'orange']"
     },
     "execution_count": 16,
     "metadata": {},
     "output_type": "execute_result"
    }
   ],
   "source": [
    "fruit_cat = df.fruit.astype('category')\n",
    "fruit_cat  # 并不是Numpy数组，而是pandas.Categorical实例"
   ],
   "metadata": {
    "collapsed": false,
    "pycharm": {
     "name": "#%%\n"
    }
   }
  },
  {
   "cell_type": "code",
   "execution_count": 17,
   "outputs": [
    {
     "data": {
      "text/plain": "pandas.core.arrays.categorical.Categorical"
     },
     "execution_count": 17,
     "metadata": {},
     "output_type": "execute_result"
    }
   ],
   "source": [
    "c = fruit_cat.values\n",
    "type(c)"
   ],
   "metadata": {
    "collapsed": false,
    "pycharm": {
     "name": "#%%\n"
    }
   }
  },
  {
   "cell_type": "code",
   "execution_count": 18,
   "outputs": [
    {
     "data": {
      "text/plain": "Index(['apple', 'orange'], dtype='object')"
     },
     "execution_count": 18,
     "metadata": {},
     "output_type": "execute_result"
    }
   ],
   "source": [
    "# Categorical对象拥有categories和codes属性\n",
    "c.categories"
   ],
   "metadata": {
    "collapsed": false,
    "pycharm": {
     "name": "#%%\n"
    }
   }
  },
  {
   "cell_type": "code",
   "execution_count": 19,
   "outputs": [
    {
     "data": {
      "text/plain": "array([0, 1, 0, 0, 0, 1, 0, 0], dtype=int8)"
     },
     "execution_count": 19,
     "metadata": {},
     "output_type": "execute_result"
    }
   ],
   "source": [
    "c.codes"
   ],
   "metadata": {
    "collapsed": false,
    "pycharm": {
     "name": "#%%\n"
    }
   }
  },
  {
   "cell_type": "code",
   "execution_count": 20,
   "outputs": [
    {
     "data": {
      "text/plain": "   basket_id   fruit  count    weight\n0          0   apple      5  1.924889\n1          1  orange     11  2.394817\n2          2   apple      3  1.792333\n3          3   apple     12  0.885257\n4          4   apple      6  1.795776\n5          5  orange     14  2.776889\n6          6   apple     14  3.632011\n7          7   apple      9  3.331917",
      "text/html": "<div>\n<style scoped>\n    .dataframe tbody tr th:only-of-type {\n        vertical-align: middle;\n    }\n\n    .dataframe tbody tr th {\n        vertical-align: top;\n    }\n\n    .dataframe thead th {\n        text-align: right;\n    }\n</style>\n<table border=\"1\" class=\"dataframe\">\n  <thead>\n    <tr style=\"text-align: right;\">\n      <th></th>\n      <th>basket_id</th>\n      <th>fruit</th>\n      <th>count</th>\n      <th>weight</th>\n    </tr>\n  </thead>\n  <tbody>\n    <tr>\n      <th>0</th>\n      <td>0</td>\n      <td>apple</td>\n      <td>5</td>\n      <td>1.924889</td>\n    </tr>\n    <tr>\n      <th>1</th>\n      <td>1</td>\n      <td>orange</td>\n      <td>11</td>\n      <td>2.394817</td>\n    </tr>\n    <tr>\n      <th>2</th>\n      <td>2</td>\n      <td>apple</td>\n      <td>3</td>\n      <td>1.792333</td>\n    </tr>\n    <tr>\n      <th>3</th>\n      <td>3</td>\n      <td>apple</td>\n      <td>12</td>\n      <td>0.885257</td>\n    </tr>\n    <tr>\n      <th>4</th>\n      <td>4</td>\n      <td>apple</td>\n      <td>6</td>\n      <td>1.795776</td>\n    </tr>\n    <tr>\n      <th>5</th>\n      <td>5</td>\n      <td>orange</td>\n      <td>14</td>\n      <td>2.776889</td>\n    </tr>\n    <tr>\n      <th>6</th>\n      <td>6</td>\n      <td>apple</td>\n      <td>14</td>\n      <td>3.632011</td>\n    </tr>\n    <tr>\n      <th>7</th>\n      <td>7</td>\n      <td>apple</td>\n      <td>9</td>\n      <td>3.331917</td>\n    </tr>\n  </tbody>\n</table>\n</div>"
     },
     "execution_count": 20,
     "metadata": {},
     "output_type": "execute_result"
    }
   ],
   "source": [
    "# 可以通过分配已转换的结果将DataFrame的一列转换为Categorical对西那个\n",
    "df['fruit'] = df['fruit'].astype('category')\n",
    "df"
   ],
   "metadata": {
    "collapsed": false,
    "pycharm": {
     "name": "#%%\n"
    }
   }
  },
  {
   "cell_type": "code",
   "execution_count": 21,
   "outputs": [
    {
     "data": {
      "text/plain": "CategoricalDtype(categories=['apple', 'orange'], ordered=False)"
     },
     "execution_count": 21,
     "metadata": {},
     "output_type": "execute_result"
    }
   ],
   "source": [
    "df.fruit.dtype  # categorical对象"
   ],
   "metadata": {
    "collapsed": false,
    "pycharm": {
     "name": "#%%\n"
    }
   }
  },
  {
   "cell_type": "code",
   "execution_count": 22,
   "outputs": [
    {
     "data": {
      "text/plain": "dtype('int64')"
     },
     "execution_count": 22,
     "metadata": {},
     "output_type": "execute_result"
    }
   ],
   "source": [
    "df.basket_id.dtype  # int64"
   ],
   "metadata": {
    "collapsed": false,
    "pycharm": {
     "name": "#%%\n"
    }
   }
  },
  {
   "cell_type": "code",
   "execution_count": 23,
   "outputs": [
    {
     "data": {
      "text/plain": "['foo', 'bar', 'baz', 'foo', 'bar']\nCategories (3, object): ['bar', 'baz', 'foo']"
     },
     "execution_count": 23,
     "metadata": {},
     "output_type": "execute_result"
    }
   ],
   "source": [
    "# 可以直接生成pandas.Categorical\n",
    "my_catefories = pd.Categorical(['foo', 'bar', 'baz', 'foo', 'bar'])\n",
    "my_catefories"
   ],
   "metadata": {
    "collapsed": false,
    "pycharm": {
     "name": "#%%\n"
    }
   }
  },
  {
   "cell_type": "code",
   "execution_count": 24,
   "outputs": [
    {
     "data": {
      "text/plain": "CategoricalDtype(categories=['bar', 'baz', 'foo'], ordered=False)"
     },
     "execution_count": 24,
     "metadata": {},
     "output_type": "execute_result"
    }
   ],
   "source": [
    "my_catefories.dtype"
   ],
   "metadata": {
    "collapsed": false,
    "pycharm": {
     "name": "#%%\n"
    }
   }
  },
  {
   "cell_type": "code",
   "execution_count": 31,
   "outputs": [
    {
     "data": {
      "text/plain": "['foo', 'bar', 'baz', 'foo', 'foo', 'bar']\nCategories (3, object): ['foo', 'bar', 'baz']"
     },
     "execution_count": 31,
     "metadata": {},
     "output_type": "execute_result"
    }
   ],
   "source": [
    "# 从另一个数据源获得分类编码数据，可以通过from_codes构造函数创建Categorical\n",
    "# 默认foo:0, bar:1, baz:2，并且categories中的元素是唯一的，不能存在重复值\n",
    "categories = ['foo', 'bar', 'baz']\n",
    "codes = [0, 1, 2, 0, 0, 1]\n",
    "my_cats_2 = pd.Categorical.from_codes(codes, categories)\n",
    "my_cats_2"
   ],
   "metadata": {
    "collapsed": false,
    "pycharm": {
     "name": "#%%\n"
    }
   }
  },
  {
   "cell_type": "code",
   "execution_count": 30,
   "outputs": [
    {
     "data": {
      "text/plain": "['foo', 'bar', 'baz', 'foo', 'foo', 'bar']\nCategories (3, object): ['foo' < 'bar' < 'baz']"
     },
     "execution_count": 30,
     "metadata": {},
     "output_type": "execute_result"
    }
   ],
   "source": [
    "# 可以自定义一个有意义的顺序\n",
    "categories = ['foo', 'bar', 'baz']\n",
    "codes = [0, 1, 2, 0, 0, 1]\n",
    "my_cats_3 = pd.Categorical.from_codes(codes, categories, ordered=True)\n",
    "my_cats_3"
   ],
   "metadata": {
    "collapsed": false,
    "pycharm": {
     "name": "#%%\n"
    }
   }
  },
  {
   "cell_type": "code",
   "execution_count": 32,
   "outputs": [
    {
     "data": {
      "text/plain": "['foo', 'bar', 'baz', 'foo', 'foo', 'bar']\nCategories (3, object): ['foo' < 'bar' < 'baz']"
     },
     "execution_count": 32,
     "metadata": {},
     "output_type": "execute_result"
    }
   ],
   "source": [
    "# 对一个未排序的Categorical进行排序\n",
    "my_cats_2.as_ordered()"
   ],
   "metadata": {
    "collapsed": false,
    "pycharm": {
     "name": "#%%\n"
    }
   }
  },
  {
   "cell_type": "markdown",
   "source": [
    "### 12.1.3 使用Categorical对象进行计算"
   ],
   "metadata": {
    "collapsed": false,
    "pycharm": {
     "name": "#%% md\n"
    }
   }
  },
  {
   "cell_type": "code",
   "execution_count": 39,
   "outputs": [
    {
     "data": {
      "text/plain": "[(-0.684, -0.0101], (-0.0101, 0.63], (-0.684, -0.0101], (-0.684, -0.0101], (0.63, 3.928], ..., (-0.0101, 0.63], (-0.684, -0.0101], (-2.9499999999999997, -0.684], (-0.0101, 0.63], (0.63, 3.928]]\nLength: 1000\nCategories (4, interval[float64, right]): [(-2.9499999999999997, -0.684] < (-0.684, -0.0101] < (-0.0101, 0.63] < (0.63, 3.928]]"
     },
     "execution_count": 39,
     "metadata": {},
     "output_type": "execute_result"
    }
   ],
   "source": [
    "# 对于使用Categorical和非编码方式的pandas数据整体上是一致的，但使用某些函数，比如groupby，Categorical性能会更好，还有一些函数可以利用ordered标识。\n",
    "np.random.seed(12345)\n",
    "draws = np.random.randn(1000)\n",
    "bins = pd.qcut(draws, 4)\n",
    "bins"
   ],
   "metadata": {
    "collapsed": false,
    "pycharm": {
     "name": "#%%\n"
    }
   }
  },
  {
   "cell_type": "code",
   "execution_count": 46,
   "outputs": [
    {
     "data": {
      "text/plain": "['Q2', 'Q3', 'Q2', 'Q2', 'Q4', ..., 'Q3', 'Q2', 'Q1', 'Q3', 'Q4']\nLength: 1000\nCategories (4, object): ['Q1' < 'Q2' < 'Q3' < 'Q4']"
     },
     "execution_count": 46,
     "metadata": {},
     "output_type": "execute_result"
    }
   ],
   "source": [
    "# 指定四分位数名称(不关注分位落在哪个区间)\n",
    "# 被标记的bins分类数据并不包含数据中箱边界的相关信息\n",
    "bins = pd.qcut(draws, 4, labels=['Q1', 'Q2', 'Q3', 'Q4'])\n",
    "bins"
   ],
   "metadata": {
    "collapsed": false,
    "pycharm": {
     "name": "#%%\n"
    }
   }
  },
  {
   "cell_type": "code",
   "execution_count": 47,
   "outputs": [
    {
     "data": {
      "text/plain": "  quartile       max       min  count\n0       Q1 -0.685484 -2.949343    250\n1       Q2 -0.010115 -0.683066    250\n2       Q3  0.628894 -0.010032    250\n3       Q4  3.927528  0.634238    250",
      "text/html": "<div>\n<style scoped>\n    .dataframe tbody tr th:only-of-type {\n        vertical-align: middle;\n    }\n\n    .dataframe tbody tr th {\n        vertical-align: top;\n    }\n\n    .dataframe thead th {\n        text-align: right;\n    }\n</style>\n<table border=\"1\" class=\"dataframe\">\n  <thead>\n    <tr style=\"text-align: right;\">\n      <th></th>\n      <th>quartile</th>\n      <th>max</th>\n      <th>min</th>\n      <th>count</th>\n    </tr>\n  </thead>\n  <tbody>\n    <tr>\n      <th>0</th>\n      <td>Q1</td>\n      <td>-0.685484</td>\n      <td>-2.949343</td>\n      <td>250</td>\n    </tr>\n    <tr>\n      <th>1</th>\n      <td>Q2</td>\n      <td>-0.010115</td>\n      <td>-0.683066</td>\n      <td>250</td>\n    </tr>\n    <tr>\n      <th>2</th>\n      <td>Q3</td>\n      <td>0.628894</td>\n      <td>-0.010032</td>\n      <td>250</td>\n    </tr>\n    <tr>\n      <th>3</th>\n      <td>Q4</td>\n      <td>3.927528</td>\n      <td>0.634238</td>\n      <td>250</td>\n    </tr>\n  </tbody>\n</table>\n</div>"
     },
     "execution_count": 47,
     "metadata": {},
     "output_type": "execute_result"
    }
   ],
   "source": [
    "# 可以做汇总统计\n",
    "bins = pd.Series(bins, name='quartile')\n",
    "result = (pd.Series(draws).groupby(bins).agg(['max', 'min', 'count']).reset_index())\n",
    "result"
   ],
   "metadata": {
    "collapsed": false,
    "pycharm": {
     "name": "#%%\n"
    }
   }
  },
  {
   "cell_type": "code",
   "execution_count": 52,
   "outputs": [],
   "source": [
    "# 使用分类获得更高的性能\n",
    "# 如果在特定的数据集上做了大量的分析，将数据转换为分类数据可以产生大幅的性能提升。\n",
    "# DataFrame中一列的分类版本通常也会明显使用更少的内存\n",
    "# 下面来看含有1000万元素的Series以及少量的不同类别\n",
    "N = 10000000\n",
    "draws_1 = pd.Series(np.random.randn(N))\n",
    "labels = pd.Series(['foo', 'bar', 'baz', 'qux'] * (N // 4))"
   ],
   "metadata": {
    "collapsed": false,
    "pycharm": {
     "name": "#%%\n"
    }
   }
  },
  {
   "cell_type": "code",
   "execution_count": 53,
   "outputs": [],
   "source": [
    "# 将labels转换为Categorical\n",
    "categories = labels.astype('category')"
   ],
   "metadata": {
    "collapsed": false,
    "pycharm": {
     "name": "#%%\n"
    }
   }
  },
  {
   "cell_type": "code",
   "execution_count": 54,
   "outputs": [
    {
     "data": {
      "text/plain": "80000128"
     },
     "execution_count": 54,
     "metadata": {},
     "output_type": "execute_result"
    }
   ],
   "source": [
    "# 未转换的数据占用了更多的内存\n",
    "labels.memory_usage()"
   ],
   "metadata": {
    "collapsed": false,
    "pycharm": {
     "name": "#%%\n"
    }
   }
  },
  {
   "cell_type": "code",
   "execution_count": 55,
   "outputs": [
    {
     "data": {
      "text/plain": "10000332"
     },
     "execution_count": 55,
     "metadata": {},
     "output_type": "execute_result"
    }
   ],
   "source": [
    "categories.memory_usage()"
   ],
   "metadata": {
    "collapsed": false,
    "pycharm": {
     "name": "#%%\n"
    }
   }
  },
  {
   "cell_type": "code",
   "execution_count": 56,
   "outputs": [
    {
     "name": "stdout",
     "output_type": "stream",
     "text": [
      "CPU times: user 320 ms, sys: 10.8 ms, total: 330 ms\n",
      "Wall time: 330 ms\n"
     ]
    }
   ],
   "source": [
    "# 转换需要花费时间，但转换是一次性开销\n",
    "%time _=labels.astype('category')"
   ],
   "metadata": {
    "collapsed": false,
    "pycharm": {
     "name": "#%%\n"
    }
   }
  },
  {
   "cell_type": "markdown",
   "source": [
    "> 使用分类对象进行groupby操作明显更快，这是因为底层算法使用了基于整数代码的数组而不是字符串数组"
   ],
   "metadata": {
    "collapsed": false,
    "pycharm": {
     "name": "#%% md\n"
    }
   }
  },
  {
   "cell_type": "markdown",
   "source": [
    "### 12.1.4 分类方法"
   ],
   "metadata": {
    "collapsed": false,
    "pycharm": {
     "name": "#%% md\n"
    }
   }
  },
  {
   "cell_type": "code",
   "execution_count": 59,
   "outputs": [
    {
     "data": {
      "text/plain": "0    a\n1    b\n2    c\n3    d\n4    a\n5    b\n6    c\n7    d\ndtype: category\nCategories (4, object): ['a', 'b', 'c', 'd']"
     },
     "execution_count": 59,
     "metadata": {},
     "output_type": "execute_result"
    }
   ],
   "source": [
    "# 转换为分类对象后，提供了快捷访问类别和代码的方式\n",
    "s = pd.Series(list('abcd')*2)\n",
    "cat_s = s.astype('category')\n",
    "cat_s"
   ],
   "metadata": {
    "collapsed": false,
    "pycharm": {
     "name": "#%%\n"
    }
   }
  },
  {
   "cell_type": "code",
   "execution_count": 61,
   "outputs": [
    {
     "data": {
      "text/plain": "0    0\n1    1\n2    2\n3    3\n4    0\n5    1\n6    2\n7    3\ndtype: int8"
     },
     "execution_count": 61,
     "metadata": {},
     "output_type": "execute_result"
    }
   ],
   "source": [
    "# 查看编码分类\n",
    "cat_s.cat.codes"
   ],
   "metadata": {
    "collapsed": false,
    "pycharm": {
     "name": "#%%\n"
    }
   }
  },
  {
   "cell_type": "code",
   "execution_count": 62,
   "outputs": [
    {
     "data": {
      "text/plain": "0    a\n1    b\n2    c\n3    d\n4    a\n5    b\n6    c\n7    d\ndtype: category\nCategories (6, object): ['a', 'b', 'c', 'd', 'e', 'f']"
     },
     "execution_count": 62,
     "metadata": {},
     "output_type": "execute_result"
    }
   ],
   "source": [
    "# 可以改变类别集合\n",
    "actual_categories = list('abcdef')\n",
    "cat_s2 = cat_s.cat.set_categories(actual_categories)\n",
    "cat_s2"
   ],
   "metadata": {
    "collapsed": false,
    "pycharm": {
     "name": "#%%\n"
    }
   }
  },
  {
   "cell_type": "code",
   "execution_count": 63,
   "outputs": [
    {
     "data": {
      "text/plain": "a    2\nb    2\nc    2\nd    2\ne    0\nf    0\ndtype: int64"
     },
     "execution_count": 63,
     "metadata": {},
     "output_type": "execute_result"
    }
   ],
   "source": [
    "# 虽然看起来没有什么改变，但在做数据统计时遵循新的类别\n",
    "cat_s2.value_counts()"
   ],
   "metadata": {
    "collapsed": false,
    "pycharm": {
     "name": "#%%\n"
    }
   }
  },
  {
   "cell_type": "code",
   "execution_count": 64,
   "outputs": [
    {
     "data": {
      "text/plain": "0    a\n1    b\n4    a\n5    b\ndtype: category\nCategories (4, object): ['a', 'b', 'c', 'd']"
     },
     "execution_count": 64,
     "metadata": {},
     "output_type": "execute_result"
    }
   ],
   "source": [
    "# 在大型数据集中，可以通过移除未使用的类别来节省内存和提升处理数据的速度\n",
    "cat_s3 = cat_s[cat_s.isin(['a','b'])]\n",
    "cat_s3"
   ],
   "metadata": {
    "collapsed": false,
    "pycharm": {
     "name": "#%%\n"
    }
   }
  },
  {
   "cell_type": "code",
   "execution_count": 65,
   "outputs": [
    {
     "data": {
      "text/plain": "0    a\n1    b\n4    a\n5    b\ndtype: category\nCategories (2, object): ['a', 'b']"
     },
     "execution_count": 65,
     "metadata": {},
     "output_type": "execute_result"
    }
   ],
   "source": [
    "# 会移除未使用的c和d\n",
    "cat_s3.cat.remove_unused_categories()"
   ],
   "metadata": {
    "collapsed": false,
    "pycharm": {
     "name": "#%%\n"
    }
   }
  },
  {
   "cell_type": "code",
   "execution_count": 66,
   "outputs": [
    {
     "data": {
      "text/plain": "   a  b  c  d\n0  1  0  0  0\n1  0  1  0  0\n2  0  0  1  0\n3  0  0  0  1\n4  1  0  0  0\n5  0  1  0  0\n6  0  0  1  0\n7  0  0  0  1",
      "text/html": "<div>\n<style scoped>\n    .dataframe tbody tr th:only-of-type {\n        vertical-align: middle;\n    }\n\n    .dataframe tbody tr th {\n        vertical-align: top;\n    }\n\n    .dataframe thead th {\n        text-align: right;\n    }\n</style>\n<table border=\"1\" class=\"dataframe\">\n  <thead>\n    <tr style=\"text-align: right;\">\n      <th></th>\n      <th>a</th>\n      <th>b</th>\n      <th>c</th>\n      <th>d</th>\n    </tr>\n  </thead>\n  <tbody>\n    <tr>\n      <th>0</th>\n      <td>1</td>\n      <td>0</td>\n      <td>0</td>\n      <td>0</td>\n    </tr>\n    <tr>\n      <th>1</th>\n      <td>0</td>\n      <td>1</td>\n      <td>0</td>\n      <td>0</td>\n    </tr>\n    <tr>\n      <th>2</th>\n      <td>0</td>\n      <td>0</td>\n      <td>1</td>\n      <td>0</td>\n    </tr>\n    <tr>\n      <th>3</th>\n      <td>0</td>\n      <td>0</td>\n      <td>0</td>\n      <td>1</td>\n    </tr>\n    <tr>\n      <th>4</th>\n      <td>1</td>\n      <td>0</td>\n      <td>0</td>\n      <td>0</td>\n    </tr>\n    <tr>\n      <th>5</th>\n      <td>0</td>\n      <td>1</td>\n      <td>0</td>\n      <td>0</td>\n    </tr>\n    <tr>\n      <th>6</th>\n      <td>0</td>\n      <td>0</td>\n      <td>1</td>\n      <td>0</td>\n    </tr>\n    <tr>\n      <th>7</th>\n      <td>0</td>\n      <td>0</td>\n      <td>0</td>\n      <td>1</td>\n    </tr>\n  </tbody>\n</table>\n</div>"
     },
     "execution_count": 66,
     "metadata": {},
     "output_type": "execute_result"
    }
   ],
   "source": [
    "# 生成哑变量\n",
    "cat_s = pd.Series(list('abcd')*2, dtype='category')\n",
    "pd.get_dummies(cat_s)"
   ],
   "metadata": {
    "collapsed": false,
    "pycharm": {
     "name": "#%%\n"
    }
   }
  },
  {
   "cell_type": "code",
   "execution_count": null,
   "outputs": [],
   "source": [],
   "metadata": {
    "collapsed": false,
    "pycharm": {
     "name": "#%%\n"
    }
   }
  }
 ],
 "metadata": {
  "kernelspec": {
   "display_name": "Python 3",
   "language": "python",
   "name": "python3"
  },
  "language_info": {
   "codemirror_mode": {
    "name": "ipython",
    "version": 2
   },
   "file_extension": ".py",
   "mimetype": "text/x-python",
   "name": "python",
   "nbconvert_exporter": "python",
   "pygments_lexer": "ipython2",
   "version": "2.7.6"
  }
 },
 "nbformat": 4,
 "nbformat_minor": 0
}