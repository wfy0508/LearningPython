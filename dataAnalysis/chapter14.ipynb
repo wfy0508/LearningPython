{
 "cells": [
  {
   "cell_type": "markdown",
   "source": [
    "# 14 数据分析示例"
   ],
   "metadata": {
    "collapsed": false,
    "pycharm": {
     "name": "#%% md\n"
    }
   }
  },
  {
   "cell_type": "markdown",
   "source": [
    "## 14.1 从Bitly获取1.USA.gov数据"
   ],
   "metadata": {
    "collapsed": false,
    "pycharm": {
     "name": "#%% md\n"
    }
   }
  },
  {
   "cell_type": "code",
   "execution_count": 1,
   "outputs": [],
   "source": [
    "# 用户匿名数据，每一行都包含一种通用形式的web数据，为json格式\n",
    "import json\n",
    "\n",
    "lines = []\n",
    "with open(\"./examples/example.txt\", 'r') as f:\n",
    "    for line in f:\n",
    "        lines.append(line)"
   ],
   "metadata": {
    "collapsed": false,
    "pycharm": {
     "name": "#%%\n"
    }
   }
  },
  {
   "cell_type": "code",
   "execution_count": 2,
   "outputs": [],
   "source": [
    "# 返回一个Python字典的列表\n",
    "records = [json.loads(lines[i]) for i in range(0, len(lines))]"
   ],
   "metadata": {
    "collapsed": false,
    "pycharm": {
     "name": "#%%\n"
    }
   }
  },
  {
   "cell_type": "code",
   "execution_count": 3,
   "outputs": [
    {
     "data": {
      "text/plain": "{'a': 'Mozilla/5.0 (Windows NT 6.1; WOW64) AppleWebKit/535.11 (KHTML, like Gecko) Chrome/17.0.963.78 Safari/535.11',\n 'c': 'US',\n 'nk': 1,\n 'tz': 'America/New_York',\n 'gr': 'MA',\n 'g': 'A6qOVH',\n 'h': 'wfLQtf',\n 'l': 'orofrog',\n 'al': 'en-US,en;q=0.8',\n 'hh': '1.usa.gov',\n 'r': 'http://www.facebook.com/l/7AQEFzjSi/1.usa.gov/wfLQtf',\n 'u': 'http://www.ncbi.nlm.nih.gov/pubmed/22415991',\n 't': 1331923247,\n 'hc': 1331822918,\n 'cy': 'Danvers',\n 'll': [42.576698, -70.954903]}"
     },
     "execution_count": 3,
     "metadata": {},
     "output_type": "execute_result"
    }
   ],
   "source": [
    "records[0]"
   ],
   "metadata": {
    "collapsed": false,
    "pycharm": {
     "name": "#%%\n"
    }
   }
  },
  {
   "cell_type": "code",
   "execution_count": 4,
   "outputs": [],
   "source": [
    "# 提取时区\n",
    "timestamp_zone = [rec['tz'] for rec in records if 'tz' in rec]"
   ],
   "metadata": {
    "collapsed": false,
    "pycharm": {
     "name": "#%%\n"
    }
   }
  },
  {
   "cell_type": "code",
   "execution_count": 5,
   "outputs": [],
   "source": [
    "# 删除空置\n",
    "tz = [i for i in timestamp_zone if i != '']"
   ],
   "metadata": {
    "collapsed": false,
    "pycharm": {
     "name": "#%%\n"
    }
   }
  },
  {
   "cell_type": "code",
   "execution_count": 6,
   "outputs": [],
   "source": [
    "# 遍历时区，用字典来存储计数\n",
    "def get_counts(sequence):\n",
    "    counts = {}\n",
    "    for x in sequence:\n",
    "        if x in counts:\n",
    "            counts[x] += 1\n",
    "        else:\n",
    "            counts[x] = 1\n",
    "    return counts"
   ],
   "metadata": {
    "collapsed": false,
    "pycharm": {
     "name": "#%%\n"
    }
   }
  },
  {
   "cell_type": "code",
   "execution_count": 7,
   "outputs": [],
   "source": [
    "from collections import defaultdict\n",
    "\n",
    "\n",
    "def get_counts2(sequence):\n",
    "    counts = defaultdict(int)  # 将值初始化为0\n",
    "    for x in sequence:\n",
    "        counts[x] += 1\n",
    "    return counts"
   ],
   "metadata": {
    "collapsed": false,
    "pycharm": {
     "name": "#%%\n"
    }
   }
  },
  {
   "cell_type": "code",
   "execution_count": 8,
   "outputs": [
    {
     "data": {
      "text/plain": "1251"
     },
     "execution_count": 8,
     "metadata": {},
     "output_type": "execute_result"
    }
   ],
   "source": [
    "counts = get_counts(timestamp_zone)\n",
    "counts['America/New_York']"
   ],
   "metadata": {
    "collapsed": false,
    "pycharm": {
     "name": "#%%\n"
    }
   }
  },
  {
   "cell_type": "code",
   "execution_count": 9,
   "outputs": [
    {
     "data": {
      "text/plain": "3440"
     },
     "execution_count": 9,
     "metadata": {},
     "output_type": "execute_result"
    }
   ],
   "source": [
    "len(timestamp_zone)"
   ],
   "metadata": {
    "collapsed": false,
    "pycharm": {
     "name": "#%%\n"
    }
   }
  },
  {
   "cell_type": "code",
   "execution_count": 10,
   "outputs": [],
   "source": [
    "# 取前10的时区和它们的计数\n",
    "def top10_counts(count_dict, n=10):\n",
    "    value_key_pairs = [(count, tz) for tz, count in count_dict.items()]\n",
    "    value_key_pairs.sort(reverse=True)\n",
    "    return value_key_pairs[:10]"
   ],
   "metadata": {
    "collapsed": false,
    "pycharm": {
     "name": "#%%\n"
    }
   }
  },
  {
   "cell_type": "code",
   "execution_count": 11,
   "outputs": [
    {
     "data": {
      "text/plain": "[(1251, 'America/New_York'),\n (521, ''),\n (400, 'America/Chicago'),\n (382, 'America/Los_Angeles'),\n (191, 'America/Denver'),\n (74, 'Europe/London'),\n (37, 'Asia/Tokyo'),\n (36, 'Pacific/Honolulu'),\n (35, 'Europe/Madrid'),\n (33, 'America/Sao_Paulo')]"
     },
     "execution_count": 11,
     "metadata": {},
     "output_type": "execute_result"
    }
   ],
   "source": [
    "top10_counts(counts)"
   ],
   "metadata": {
    "collapsed": false,
    "pycharm": {
     "name": "#%%\n"
    }
   }
  },
  {
   "cell_type": "code",
   "execution_count": 12,
   "outputs": [
    {
     "data": {
      "text/plain": "[('America/New_York', 1251),\n ('', 521),\n ('America/Chicago', 400),\n ('America/Los_Angeles', 382),\n ('America/Denver', 191),\n ('Europe/London', 74),\n ('Asia/Tokyo', 37),\n ('Pacific/Honolulu', 36),\n ('Europe/Madrid', 35),\n ('America/Sao_Paulo', 33)]"
     },
     "execution_count": 12,
     "metadata": {},
     "output_type": "execute_result"
    }
   ],
   "source": [
    "# 使用标准库collections.Counter更简单\n",
    "from collections import Counter\n",
    "\n",
    "counts = Counter(timestamp_zone)\n",
    "counts.most_common(10)"
   ],
   "metadata": {
    "collapsed": false,
    "pycharm": {
     "name": "#%%\n"
    }
   }
  },
  {
   "cell_type": "markdown",
   "source": [
    "### 14.1.2 使用pandas进行时区计数"
   ],
   "metadata": {
    "collapsed": false,
    "pycharm": {
     "name": "#%% md\n"
    }
   }
  },
  {
   "cell_type": "code",
   "execution_count": 13,
   "outputs": [
    {
     "data": {
      "text/plain": "                                                   a   c   nk  \\\n0  Mozilla/5.0 (Windows NT 6.1; WOW64) AppleWebKi...  US  1.0   \n1                             GoogleMaps/RochesterNY  US  0.0   \n2  Mozilla/4.0 (compatible; MSIE 8.0; Windows NT ...  US  1.0   \n3  Mozilla/5.0 (Macintosh; Intel Mac OS X 10_6_8)...  BR  0.0   \n4  Mozilla/5.0 (Windows NT 6.1; WOW64) AppleWebKi...  US  0.0   \n\n                  tz  gr       g       h         l              al         hh  \\\n0   America/New_York  MA  A6qOVH  wfLQtf   orofrog  en-US,en;q=0.8  1.usa.gov   \n1     America/Denver  UT  mwszkS  mwszkS     bitly             NaN       j.mp   \n2   America/New_York  DC  xxr3Qb  xxr3Qb     bitly           en-US  1.usa.gov   \n3  America/Sao_Paulo  27  zCaLwp  zUtuOu  alelex88           pt-br  1.usa.gov   \n4   America/New_York  MA  9b6kNl  9b6kNl     bitly  en-US,en;q=0.8     bit.ly   \n\n                                                   r  \\\n0  http://www.facebook.com/l/7AQEFzjSi/1.usa.gov/...   \n1                           http://www.AwareMap.com/   \n2                               http://t.co/03elZC4Q   \n3                                             direct   \n4                http://www.shrewsbury-ma.gov/selco/   \n\n                                                   u             t  \\\n0        http://www.ncbi.nlm.nih.gov/pubmed/22415991  1.331923e+09   \n1        http://www.monroecounty.gov/etc/911/rss.php  1.331923e+09   \n2  http://boxer.senate.gov/en/press/releases/0316...  1.331923e+09   \n3            http://apod.nasa.gov/apod/ap120312.html  1.331923e+09   \n4  http://www.shrewsbury-ma.gov/egov/gallery/1341...  1.331923e+09   \n\n             hc          cy                        ll  _heartbeat_   kw  \n0  1.331823e+09     Danvers   [42.576698, -70.954903]          NaN  NaN  \n1  1.308262e+09       Provo  [40.218102, -111.613297]          NaN  NaN  \n2  1.331920e+09  Washington     [38.9007, -77.043098]          NaN  NaN  \n3  1.331923e+09        Braz  [-23.549999, -46.616699]          NaN  NaN  \n4  1.273672e+09  Shrewsbury   [42.286499, -71.714699]          NaN  NaN  ",
      "text/html": "<div>\n<style scoped>\n    .dataframe tbody tr th:only-of-type {\n        vertical-align: middle;\n    }\n\n    .dataframe tbody tr th {\n        vertical-align: top;\n    }\n\n    .dataframe thead th {\n        text-align: right;\n    }\n</style>\n<table border=\"1\" class=\"dataframe\">\n  <thead>\n    <tr style=\"text-align: right;\">\n      <th></th>\n      <th>a</th>\n      <th>c</th>\n      <th>nk</th>\n      <th>tz</th>\n      <th>gr</th>\n      <th>g</th>\n      <th>h</th>\n      <th>l</th>\n      <th>al</th>\n      <th>hh</th>\n      <th>r</th>\n      <th>u</th>\n      <th>t</th>\n      <th>hc</th>\n      <th>cy</th>\n      <th>ll</th>\n      <th>_heartbeat_</th>\n      <th>kw</th>\n    </tr>\n  </thead>\n  <tbody>\n    <tr>\n      <th>0</th>\n      <td>Mozilla/5.0 (Windows NT 6.1; WOW64) AppleWebKi...</td>\n      <td>US</td>\n      <td>1.0</td>\n      <td>America/New_York</td>\n      <td>MA</td>\n      <td>A6qOVH</td>\n      <td>wfLQtf</td>\n      <td>orofrog</td>\n      <td>en-US,en;q=0.8</td>\n      <td>1.usa.gov</td>\n      <td>http://www.facebook.com/l/7AQEFzjSi/1.usa.gov/...</td>\n      <td>http://www.ncbi.nlm.nih.gov/pubmed/22415991</td>\n      <td>1.331923e+09</td>\n      <td>1.331823e+09</td>\n      <td>Danvers</td>\n      <td>[42.576698, -70.954903]</td>\n      <td>NaN</td>\n      <td>NaN</td>\n    </tr>\n    <tr>\n      <th>1</th>\n      <td>GoogleMaps/RochesterNY</td>\n      <td>US</td>\n      <td>0.0</td>\n      <td>America/Denver</td>\n      <td>UT</td>\n      <td>mwszkS</td>\n      <td>mwszkS</td>\n      <td>bitly</td>\n      <td>NaN</td>\n      <td>j.mp</td>\n      <td>http://www.AwareMap.com/</td>\n      <td>http://www.monroecounty.gov/etc/911/rss.php</td>\n      <td>1.331923e+09</td>\n      <td>1.308262e+09</td>\n      <td>Provo</td>\n      <td>[40.218102, -111.613297]</td>\n      <td>NaN</td>\n      <td>NaN</td>\n    </tr>\n    <tr>\n      <th>2</th>\n      <td>Mozilla/4.0 (compatible; MSIE 8.0; Windows NT ...</td>\n      <td>US</td>\n      <td>1.0</td>\n      <td>America/New_York</td>\n      <td>DC</td>\n      <td>xxr3Qb</td>\n      <td>xxr3Qb</td>\n      <td>bitly</td>\n      <td>en-US</td>\n      <td>1.usa.gov</td>\n      <td>http://t.co/03elZC4Q</td>\n      <td>http://boxer.senate.gov/en/press/releases/0316...</td>\n      <td>1.331923e+09</td>\n      <td>1.331920e+09</td>\n      <td>Washington</td>\n      <td>[38.9007, -77.043098]</td>\n      <td>NaN</td>\n      <td>NaN</td>\n    </tr>\n    <tr>\n      <th>3</th>\n      <td>Mozilla/5.0 (Macintosh; Intel Mac OS X 10_6_8)...</td>\n      <td>BR</td>\n      <td>0.0</td>\n      <td>America/Sao_Paulo</td>\n      <td>27</td>\n      <td>zCaLwp</td>\n      <td>zUtuOu</td>\n      <td>alelex88</td>\n      <td>pt-br</td>\n      <td>1.usa.gov</td>\n      <td>direct</td>\n      <td>http://apod.nasa.gov/apod/ap120312.html</td>\n      <td>1.331923e+09</td>\n      <td>1.331923e+09</td>\n      <td>Braz</td>\n      <td>[-23.549999, -46.616699]</td>\n      <td>NaN</td>\n      <td>NaN</td>\n    </tr>\n    <tr>\n      <th>4</th>\n      <td>Mozilla/5.0 (Windows NT 6.1; WOW64) AppleWebKi...</td>\n      <td>US</td>\n      <td>0.0</td>\n      <td>America/New_York</td>\n      <td>MA</td>\n      <td>9b6kNl</td>\n      <td>9b6kNl</td>\n      <td>bitly</td>\n      <td>en-US,en;q=0.8</td>\n      <td>bit.ly</td>\n      <td>http://www.shrewsbury-ma.gov/selco/</td>\n      <td>http://www.shrewsbury-ma.gov/egov/gallery/1341...</td>\n      <td>1.331923e+09</td>\n      <td>1.273672e+09</td>\n      <td>Shrewsbury</td>\n      <td>[42.286499, -71.714699]</td>\n      <td>NaN</td>\n      <td>NaN</td>\n    </tr>\n  </tbody>\n</table>\n</div>"
     },
     "execution_count": 13,
     "metadata": {},
     "output_type": "execute_result"
    }
   ],
   "source": [
    "import pandas as pd\n",
    "\n",
    "frame = pd.DataFrame(records)\n",
    "frame.head()"
   ],
   "metadata": {
    "collapsed": false,
    "pycharm": {
     "name": "#%%\n"
    }
   }
  },
  {
   "cell_type": "code",
   "execution_count": 14,
   "outputs": [
    {
     "data": {
      "text/plain": "0          America/New_York\n1            America/Denver\n2          America/New_York\n3         America/Sao_Paulo\n4          America/New_York\n               ...         \n3555       America/New_York\n3556        America/Chicago\n3557         America/Denver\n3558    America/Los_Angeles\n3559       America/New_York\nName: tz, Length: 3560, dtype: object"
     },
     "execution_count": 14,
     "metadata": {},
     "output_type": "execute_result"
    }
   ],
   "source": [
    "clean_tz = frame.tz.fillna('Missing')\n",
    "clean_tz[clean_tz == ''] = 'Unknown'\n",
    "clean_tz"
   ],
   "metadata": {
    "collapsed": false,
    "pycharm": {
     "name": "#%%\n"
    }
   }
  },
  {
   "cell_type": "code",
   "execution_count": 15,
   "outputs": [
    {
     "data": {
      "text/plain": "<AxesSubplot:>"
     },
     "execution_count": 15,
     "metadata": {},
     "output_type": "execute_result"
    },
    {
     "data": {
      "text/plain": "<Figure size 432x288 with 1 Axes>",
      "image/png": "[encoded data removed]"
     },
     "metadata": {},
     "output_type": "display_data"
    }
   ],
   "source": [
    "# 绘图\n",
    "import seaborn as sns\n",
    "\n",
    "#%matplotlib notebook\n",
    "\n",
    "tz_top10 = clean_tz.value_counts()[:10]\n",
    "sns.barplot(y=tz_top10.index, x=tz_top10.values)"
   ],
   "metadata": {
    "collapsed": false,
    "pycharm": {
     "name": "#%%\n"
    }
   }
  },
  {
   "cell_type": "markdown",
   "source": [],
   "metadata": {
    "collapsed": false,
    "pycharm": {
     "name": "#%% md\n"
    }
   }
  },
  {
   "cell_type": "code",
   "execution_count": 18,
   "outputs": [
    {
     "data": {
      "text/plain": "0    Mozilla/5.0 (Windows NT 6.1; WOW64) AppleWebKi...\n1                               GoogleMaps/RochesterNY\n2    Mozilla/4.0 (compatible; MSIE 8.0; Windows NT ...\n3    Mozilla/5.0 (Macintosh; Intel Mac OS X 10_6_8)...\n4    Mozilla/5.0 (Windows NT 6.1; WOW64) AppleWebKi...\nName: a, dtype: object"
     },
     "execution_count": 18,
     "metadata": {},
     "output_type": "execute_result"
    }
   ],
   "source": [
    "# 解析frame的a列\n",
    "frame.a.head()"
   ],
   "metadata": {
    "collapsed": false,
    "pycharm": {
     "name": "#%%\n"
    }
   }
  },
  {
   "cell_type": "code",
   "execution_count": 38,
   "outputs": [
    {
     "data": {
      "text/plain": "                                                      a   c   nk  \\\n0     Mozilla/5.0 (Windows NT 6.1; WOW64) AppleWebKi...  US  1.0   \n1                                GoogleMaps/RochesterNY  US  0.0   \n2     Mozilla/4.0 (compatible; MSIE 8.0; Windows NT ...  US  1.0   \n3     Mozilla/5.0 (Macintosh; Intel Mac OS X 10_6_8)...  BR  0.0   \n4     Mozilla/5.0 (Windows NT 6.1; WOW64) AppleWebKi...  US  0.0   \n...                                                 ...  ..  ...   \n3555  Mozilla/4.0 (compatible; MSIE 9.0; Windows NT ...  US  1.0   \n3556  Mozilla/5.0 (Windows NT 5.1) AppleWebKit/535.1...  US  0.0   \n3557                             GoogleMaps/RochesterNY  US  0.0   \n3558                                     GoogleProducer  US  0.0   \n3559  Mozilla/4.0 (compatible; MSIE 8.0; Windows NT ...  US  0.0   \n\n                       tz  gr       g       h             l              al  \\\n0        America/New_York  MA  A6qOVH  wfLQtf       orofrog  en-US,en;q=0.8   \n1          America/Denver  UT  mwszkS  mwszkS         bitly             NaN   \n2        America/New_York  DC  xxr3Qb  xxr3Qb         bitly           en-US   \n3       America/Sao_Paulo  27  zCaLwp  zUtuOu      alelex88           pt-br   \n4        America/New_York  MA  9b6kNl  9b6kNl         bitly  en-US,en;q=0.8   \n...                   ...  ..     ...     ...           ...             ...   \n3555     America/New_York  NJ  e5SvKE  fqPSr9  tweetdeckapi              en   \n3556      America/Chicago  OK  jQLtP4  jQLtP4         bitly  en-US,en;q=0.8   \n3557       America/Denver  UT  mwszkS  mwszkS         bitly             NaN   \n3558  America/Los_Angeles  CA  zjtI4X  zjtI4X         bitly             NaN   \n3559     America/New_York  VA  qxKrTK  qxKrTK         bitly           en-US   \n\n             hh                                                  r  \\\n0     1.usa.gov  http://www.facebook.com/l/7AQEFzjSi/1.usa.gov/...   \n1          j.mp                           http://www.AwareMap.com/   \n2     1.usa.gov                               http://t.co/03elZC4Q   \n3     1.usa.gov                                             direct   \n4        bit.ly                http://www.shrewsbury-ma.gov/selco/   \n...         ...                                                ...   \n3555  1.usa.gov                                             direct   \n3556  1.usa.gov  http://www.facebook.com/l.php?u=http%3A%2F%2F1...   \n3557       j.mp                           http://www.AwareMap.com/   \n3558  1.usa.gov                                             direct   \n3559  1.usa.gov                               http://t.co/OEEEvwjU   \n\n                                                      u             t  \\\n0           http://www.ncbi.nlm.nih.gov/pubmed/22415991  1.331923e+09   \n1           http://www.monroecounty.gov/etc/911/rss.php  1.331923e+09   \n2     http://boxer.senate.gov/en/press/releases/0316...  1.331923e+09   \n3               http://apod.nasa.gov/apod/ap120312.html  1.331923e+09   \n4     http://www.shrewsbury-ma.gov/egov/gallery/1341...  1.331923e+09   \n...                                                 ...           ...   \n3555  http://www.fda.gov/AdvisoryCommittees/Committe...  1.331927e+09   \n3556  http://www.okc.gov/PublicNotificationSystem/Fo...  1.331927e+09   \n3557        http://www.monroecounty.gov/etc/911/rss.php  1.331927e+09   \n3558                http://www.ahrq.gov/qual/qitoolkit/  1.331927e+09   \n3559  http://herndon-va.gov/Content/public_safety/Pu...  1.331927e+09   \n\n                hc             cy                        ll  _heartbeat_   kw  \n0     1.331823e+09        Danvers   [42.576698, -70.954903]          NaN  NaN  \n1     1.308262e+09          Provo  [40.218102, -111.613297]          NaN  NaN  \n2     1.331920e+09     Washington     [38.9007, -77.043098]          NaN  NaN  \n3     1.331923e+09           Braz  [-23.549999, -46.616699]          NaN  NaN  \n4     1.273672e+09     Shrewsbury   [42.286499, -71.714699]          NaN  NaN  \n...            ...            ...                       ...          ...  ...  \n3555  1.301298e+09        Paramus         [40.9445, -74.07]          NaN  NaN  \n3556  1.307530e+09  Oklahoma City     [35.4715, -97.518997]          NaN  NaN  \n3557  1.308262e+09          Provo  [40.218102, -111.613297]          NaN  NaN  \n3558  1.327529e+09  Mountain View  [37.419201, -122.057404]          NaN  NaN  \n3559  1.312898e+09        Mc Lean   [38.935799, -77.162102]          NaN  NaN  \n\n[3440 rows x 18 columns]",
      "text/html": "<div>\n<style scoped>\n    .dataframe tbody tr th:only-of-type {\n        vertical-align: middle;\n    }\n\n    .dataframe tbody tr th {\n        vertical-align: top;\n    }\n\n    .dataframe thead th {\n        text-align: right;\n    }\n</style>\n<table border=\"1\" class=\"dataframe\">\n  <thead>\n    <tr style=\"text-align: right;\">\n      <th></th>\n      <th>a</th>\n      <th>c</th>\n      <th>nk</th>\n      <th>tz</th>\n      <th>gr</th>\n      <th>g</th>\n      <th>h</th>\n      <th>l</th>\n      <th>al</th>\n      <th>hh</th>\n      <th>r</th>\n      <th>u</th>\n      <th>t</th>\n      <th>hc</th>\n      <th>cy</th>\n      <th>ll</th>\n      <th>_heartbeat_</th>\n      <th>kw</th>\n    </tr>\n  </thead>\n  <tbody>\n    <tr>\n      <th>0</th>\n      <td>Mozilla/5.0 (Windows NT 6.1; WOW64) AppleWebKi...</td>\n      <td>US</td>\n      <td>1.0</td>\n      <td>America/New_York</td>\n      <td>MA</td>\n      <td>A6qOVH</td>\n      <td>wfLQtf</td>\n      <td>orofrog</td>\n      <td>en-US,en;q=0.8</td>\n      <td>1.usa.gov</td>\n      <td>http://www.facebook.com/l/7AQEFzjSi/1.usa.gov/...</td>\n      <td>http://www.ncbi.nlm.nih.gov/pubmed/22415991</td>\n      <td>1.331923e+09</td>\n      <td>1.331823e+09</td>\n      <td>Danvers</td>\n      <td>[42.576698, -70.954903]</td>\n      <td>NaN</td>\n      <td>NaN</td>\n    </tr>\n    <tr>\n      <th>1</th>\n      <td>GoogleMaps/RochesterNY</td>\n      <td>US</td>\n      <td>0.0</td>\n      <td>America/Denver</td>\n      <td>UT</td>\n      <td>mwszkS</td>\n      <td>mwszkS</td>\n      <td>bitly</td>\n      <td>NaN</td>\n      <td>j.mp</td>\n      <td>http://www.AwareMap.com/</td>\n      <td>http://www.monroecounty.gov/etc/911/rss.php</td>\n      <td>1.331923e+09</td>\n      <td>1.308262e+09</td>\n      <td>Provo</td>\n      <td>[40.218102, -111.613297]</td>\n      <td>NaN</td>\n      <td>NaN</td>\n    </tr>\n    <tr>\n      <th>2</th>\n      <td>Mozilla/4.0 (compatible; MSIE 8.0; Windows NT ...</td>\n      <td>US</td>\n      <td>1.0</td>\n      <td>America/New_York</td>\n      <td>DC</td>\n      <td>xxr3Qb</td>\n      <td>xxr3Qb</td>\n      <td>bitly</td>\n      <td>en-US</td>\n      <td>1.usa.gov</td>\n      <td>http://t.co/03elZC4Q</td>\n      <td>http://boxer.senate.gov/en/press/releases/0316...</td>\n      <td>1.331923e+09</td>\n      <td>1.331920e+09</td>\n      <td>Washington</td>\n      <td>[38.9007, -77.043098]</td>\n      <td>NaN</td>\n      <td>NaN</td>\n    </tr>\n    <tr>\n      <th>3</th>\n      <td>Mozilla/5.0 (Macintosh; Intel Mac OS X 10_6_8)...</td>\n      <td>BR</td>\n      <td>0.0</td>\n      <td>America/Sao_Paulo</td>\n      <td>27</td>\n      <td>zCaLwp</td>\n      <td>zUtuOu</td>\n      <td>alelex88</td>\n      <td>pt-br</td>\n      <td>1.usa.gov</td>\n      <td>direct</td>\n      <td>http://apod.nasa.gov/apod/ap120312.html</td>\n      <td>1.331923e+09</td>\n      <td>1.331923e+09</td>\n      <td>Braz</td>\n      <td>[-23.549999, -46.616699]</td>\n      <td>NaN</td>\n      <td>NaN</td>\n    </tr>\n    <tr>\n      <th>4</th>\n      <td>Mozilla/5.0 (Windows NT 6.1; WOW64) AppleWebKi...</td>\n      <td>US</td>\n      <td>0.0</td>\n      <td>America/New_York</td>\n      <td>MA</td>\n      <td>9b6kNl</td>\n      <td>9b6kNl</td>\n      <td>bitly</td>\n      <td>en-US,en;q=0.8</td>\n      <td>bit.ly</td>\n      <td>http://www.shrewsbury-ma.gov/selco/</td>\n      <td>http://www.shrewsbury-ma.gov/egov/gallery/1341...</td>\n      <td>1.331923e+09</td>\n      <td>1.273672e+09</td>\n      <td>Shrewsbury</td>\n      <td>[42.286499, -71.714699]</td>\n      <td>NaN</td>\n      <td>NaN</td>\n    </tr>\n    <tr>\n      <th>...</th>\n      <td>...</td>\n      <td>...</td>\n      <td>...</td>\n      <td>...</td>\n      <td>...</td>\n      <td>...</td>\n      <td>...</td>\n      <td>...</td>\n      <td>...</td>\n      <td>...</td>\n      <td>...</td>\n      <td>...</td>\n      <td>...</td>\n      <td>...</td>\n      <td>...</td>\n      <td>...</td>\n      <td>...</td>\n      <td>...</td>\n    </tr>\n    <tr>\n      <th>3555</th>\n      <td>Mozilla/4.0 (compatible; MSIE 9.0; Windows NT ...</td>\n      <td>US</td>\n      <td>1.0</td>\n      <td>America/New_York</td>\n      <td>NJ</td>\n      <td>e5SvKE</td>\n      <td>fqPSr9</td>\n      <td>tweetdeckapi</td>\n      <td>en</td>\n      <td>1.usa.gov</td>\n      <td>direct</td>\n      <td>http://www.fda.gov/AdvisoryCommittees/Committe...</td>\n      <td>1.331927e+09</td>\n      <td>1.301298e+09</td>\n      <td>Paramus</td>\n      <td>[40.9445, -74.07]</td>\n      <td>NaN</td>\n      <td>NaN</td>\n    </tr>\n    <tr>\n      <th>3556</th>\n      <td>Mozilla/5.0 (Windows NT 5.1) AppleWebKit/535.1...</td>\n      <td>US</td>\n      <td>0.0</td>\n      <td>America/Chicago</td>\n      <td>OK</td>\n      <td>jQLtP4</td>\n      <td>jQLtP4</td>\n      <td>bitly</td>\n      <td>en-US,en;q=0.8</td>\n      <td>1.usa.gov</td>\n      <td>http://www.facebook.com/l.php?u=http%3A%2F%2F1...</td>\n      <td>http://www.okc.gov/PublicNotificationSystem/Fo...</td>\n      <td>1.331927e+09</td>\n      <td>1.307530e+09</td>\n      <td>Oklahoma City</td>\n      <td>[35.4715, -97.518997]</td>\n      <td>NaN</td>\n      <td>NaN</td>\n    </tr>\n    <tr>\n      <th>3557</th>\n      <td>GoogleMaps/RochesterNY</td>\n      <td>US</td>\n      <td>0.0</td>\n      <td>America/Denver</td>\n      <td>UT</td>\n      <td>mwszkS</td>\n      <td>mwszkS</td>\n      <td>bitly</td>\n      <td>NaN</td>\n      <td>j.mp</td>\n      <td>http://www.AwareMap.com/</td>\n      <td>http://www.monroecounty.gov/etc/911/rss.php</td>\n      <td>1.331927e+09</td>\n      <td>1.308262e+09</td>\n      <td>Provo</td>\n      <td>[40.218102, -111.613297]</td>\n      <td>NaN</td>\n      <td>NaN</td>\n    </tr>\n    <tr>\n      <th>3558</th>\n      <td>GoogleProducer</td>\n      <td>US</td>\n      <td>0.0</td>\n      <td>America/Los_Angeles</td>\n      <td>CA</td>\n      <td>zjtI4X</td>\n      <td>zjtI4X</td>\n      <td>bitly</td>\n      <td>NaN</td>\n      <td>1.usa.gov</td>\n      <td>direct</td>\n      <td>http://www.ahrq.gov/qual/qitoolkit/</td>\n      <td>1.331927e+09</td>\n      <td>1.327529e+09</td>\n      <td>Mountain View</td>\n      <td>[37.419201, -122.057404]</td>\n      <td>NaN</td>\n      <td>NaN</td>\n    </tr>\n    <tr>\n      <th>3559</th>\n      <td>Mozilla/4.0 (compatible; MSIE 8.0; Windows NT ...</td>\n      <td>US</td>\n      <td>0.0</td>\n      <td>America/New_York</td>\n      <td>VA</td>\n      <td>qxKrTK</td>\n      <td>qxKrTK</td>\n      <td>bitly</td>\n      <td>en-US</td>\n      <td>1.usa.gov</td>\n      <td>http://t.co/OEEEvwjU</td>\n      <td>http://herndon-va.gov/Content/public_safety/Pu...</td>\n      <td>1.331927e+09</td>\n      <td>1.312898e+09</td>\n      <td>Mc Lean</td>\n      <td>[38.935799, -77.162102]</td>\n      <td>NaN</td>\n      <td>NaN</td>\n    </tr>\n  </tbody>\n</table>\n<p>3440 rows × 18 columns</p>\n</div>"
     },
     "execution_count": 38,
     "metadata": {},
     "output_type": "execute_result"
    }
   ],
   "source": [
    "# 来区分是否包含Windows\n",
    "frame_os = frame[frame.a.notnull()]\n",
    "frame_os"
   ],
   "metadata": {
    "collapsed": false,
    "pycharm": {
     "name": "#%%\n"
    }
   }
  },
  {
   "cell_type": "code",
   "execution_count": 42,
   "outputs": [
    {
     "name": "stderr",
     "output_type": "stream",
     "text": [
      "/var/folders/ml/8mffbtvx25b6ftr05mlfbtqm0000gn/T/ipykernel_42517/127378519.py:2: SettingWithCopyWarning: \n",
      "A value is trying to be set on a copy of a slice from a DataFrame.\n",
      "Try using .loc[row_indexer,col_indexer] = value instead\n",
      "\n",
      "See the caveats in the documentation: https://pandas.pydata.org/pandas-docs/stable/user_guide/indexing.html#returning-a-view-versus-a-copy\n",
      "  frame_os['os'] = np.where(frame_os['a'].str.contains('Windows'), 'Windows', 'Not Windows')\n"
     ]
    }
   ],
   "source": [
    "import numpy as np\n",
    "\n",
    "frame_os['os'] = np.where(frame_os['a'].str.contains('Windows'), 'Windows', 'Not Windows')"
   ],
   "metadata": {
    "collapsed": false,
    "pycharm": {
     "name": "#%%\n"
    }
   }
  },
  {
   "cell_type": "code",
   "execution_count": 43,
   "outputs": [
    {
     "data": {
      "text/plain": "Windows        2246\nNot Windows    1194\nName: os, dtype: int64"
     },
     "execution_count": 43,
     "metadata": {},
     "output_type": "execute_result"
    }
   ],
   "source": [
    "frame_os.os.value_counts()"
   ],
   "metadata": {
    "collapsed": false,
    "pycharm": {
     "name": "#%%\n"
    }
   }
  },
  {
   "cell_type": "code",
   "execution_count": 44,
   "outputs": [
    {
     "data": {
      "text/plain": "str"
     },
     "execution_count": 44,
     "metadata": {},
     "output_type": "execute_result"
    }
   ],
   "source": [
    "type(frame_os['a'][0])"
   ],
   "metadata": {
    "collapsed": false,
    "pycharm": {
     "name": "#%%\n"
    }
   }
  },
  {
   "cell_type": "code",
   "execution_count": 54,
   "outputs": [
    {
     "data": {
      "text/plain": "os                              Not Windows  Windows\ntz                                                  \n                                      245.0    276.0\nAfrica/Cairo                            0.0      3.0\nAfrica/Casablanca                       0.0      1.0\nAfrica/Ceuta                            0.0      2.0\nAfrica/Johannesburg                     0.0      1.0\nAfrica/Lusaka                           0.0      1.0\nAmerica/Anchorage                       4.0      1.0\nAmerica/Argentina/Buenos_Aires          1.0      0.0\nAmerica/Argentina/Cordoba               0.0      1.0\nAmerica/Argentina/Mendoza               0.0      1.0",
      "text/html": "<div>\n<style scoped>\n    .dataframe tbody tr th:only-of-type {\n        vertical-align: middle;\n    }\n\n    .dataframe tbody tr th {\n        vertical-align: top;\n    }\n\n    .dataframe thead th {\n        text-align: right;\n    }\n</style>\n<table border=\"1\" class=\"dataframe\">\n  <thead>\n    <tr style=\"text-align: right;\">\n      <th>os</th>\n      <th>Not Windows</th>\n      <th>Windows</th>\n    </tr>\n    <tr>\n      <th>tz</th>\n      <th></th>\n      <th></th>\n    </tr>\n  </thead>\n  <tbody>\n    <tr>\n      <th></th>\n      <td>245.0</td>\n      <td>276.0</td>\n    </tr>\n    <tr>\n      <th>Africa/Cairo</th>\n      <td>0.0</td>\n      <td>3.0</td>\n    </tr>\n    <tr>\n      <th>Africa/Casablanca</th>\n      <td>0.0</td>\n      <td>1.0</td>\n    </tr>\n    <tr>\n      <th>Africa/Ceuta</th>\n      <td>0.0</td>\n      <td>2.0</td>\n    </tr>\n    <tr>\n      <th>Africa/Johannesburg</th>\n      <td>0.0</td>\n      <td>1.0</td>\n    </tr>\n    <tr>\n      <th>Africa/Lusaka</th>\n      <td>0.0</td>\n      <td>1.0</td>\n    </tr>\n    <tr>\n      <th>America/Anchorage</th>\n      <td>4.0</td>\n      <td>1.0</td>\n    </tr>\n    <tr>\n      <th>America/Argentina/Buenos_Aires</th>\n      <td>1.0</td>\n      <td>0.0</td>\n    </tr>\n    <tr>\n      <th>America/Argentina/Cordoba</th>\n      <td>0.0</td>\n      <td>1.0</td>\n    </tr>\n    <tr>\n      <th>America/Argentina/Mendoza</th>\n      <td>0.0</td>\n      <td>1.0</td>\n    </tr>\n  </tbody>\n</table>\n</div>"
     },
     "execution_count": 54,
     "metadata": {},
     "output_type": "execute_result"
    }
   ],
   "source": [
    "# 使用时区和操作系统分组\n",
    "groupby_tz_os = frame_os.groupby(['tz', 'os'])\n",
    "agg_counts = groupby_tz_os.size().unstack().fillna(0)\n",
    "agg_counts[:10]"
   ],
   "metadata": {
    "collapsed": false,
    "pycharm": {
     "name": "#%%\n"
    }
   }
  },
  {
   "cell_type": "code",
   "execution_count": 62,
   "outputs": [
    {
     "data": {
      "text/plain": "tz\n                       24\nAfrica/Cairo           20\nAfrica/Casablanca      21\nAfrica/Ceuta           92\nAfrica/Johannesburg    87\n                       ..\nEurope/Volgograd       15\nEurope/Warsaw          22\nEurope/Zurich          12\nPacific/Auckland        0\nPacific/Honolulu       29\nLength: 97, dtype: int64"
     },
     "execution_count": 62,
     "metadata": {},
     "output_type": "execute_result"
    }
   ],
   "source": [
    "# 选出总体计数最高的时区\n",
    "indexer = agg_counts.sum(1).argsort()\n",
    "indexer"
   ],
   "metadata": {
    "collapsed": false,
    "pycharm": {
     "name": "#%%\n"
    }
   }
  },
  {
   "cell_type": "code",
   "execution_count": 72,
   "outputs": [
    {
     "data": {
      "text/plain": "os                   Not Windows  Windows\ntz                                       \nAmerica/Sao_Paulo           13.0     20.0\nEurope/Madrid               16.0     19.0\nPacific/Honolulu             0.0     36.0\nAsia/Tokyo                   2.0     35.0\nEurope/London               43.0     31.0\nAmerica/Denver             132.0     59.0\nAmerica/Los_Angeles        130.0    252.0\nAmerica/Chicago            115.0    285.0\n                           245.0    276.0\nAmerica/New_York           339.0    912.0",
      "text/html": "<div>\n<style scoped>\n    .dataframe tbody tr th:only-of-type {\n        vertical-align: middle;\n    }\n\n    .dataframe tbody tr th {\n        vertical-align: top;\n    }\n\n    .dataframe thead th {\n        text-align: right;\n    }\n</style>\n<table border=\"1\" class=\"dataframe\">\n  <thead>\n    <tr style=\"text-align: right;\">\n      <th>os</th>\n      <th>Not Windows</th>\n      <th>Windows</th>\n    </tr>\n    <tr>\n      <th>tz</th>\n      <th></th>\n      <th></th>\n    </tr>\n  </thead>\n  <tbody>\n    <tr>\n      <th>America/Sao_Paulo</th>\n      <td>13.0</td>\n      <td>20.0</td>\n    </tr>\n    <tr>\n      <th>Europe/Madrid</th>\n      <td>16.0</td>\n      <td>19.0</td>\n    </tr>\n    <tr>\n      <th>Pacific/Honolulu</th>\n      <td>0.0</td>\n      <td>36.0</td>\n    </tr>\n    <tr>\n      <th>Asia/Tokyo</th>\n      <td>2.0</td>\n      <td>35.0</td>\n    </tr>\n    <tr>\n      <th>Europe/London</th>\n      <td>43.0</td>\n      <td>31.0</td>\n    </tr>\n    <tr>\n      <th>America/Denver</th>\n      <td>132.0</td>\n      <td>59.0</td>\n    </tr>\n    <tr>\n      <th>America/Los_Angeles</th>\n      <td>130.0</td>\n      <td>252.0</td>\n    </tr>\n    <tr>\n      <th>America/Chicago</th>\n      <td>115.0</td>\n      <td>285.0</td>\n    </tr>\n    <tr>\n      <th></th>\n      <td>245.0</td>\n      <td>276.0</td>\n    </tr>\n    <tr>\n      <th>America/New_York</th>\n      <td>339.0</td>\n      <td>912.0</td>\n    </tr>\n  </tbody>\n</table>\n</div>"
     },
     "execution_count": 72,
     "metadata": {},
     "output_type": "execute_result"
    }
   ],
   "source": [
    "# 使用take方法按顺序选出行，之后再对最后10行进行切片\n",
    "count_subset = agg_counts.take(indexer[-10:])\n",
    "count_subset"
   ],
   "metadata": {
    "collapsed": false,
    "pycharm": {
     "name": "#%%\n"
    }
   }
  },
  {
   "cell_type": "code",
   "execution_count": 73,
   "outputs": [
    {
     "data": {
      "text/plain": "tz\nAmerica/New_York       1251.0\n                        521.0\nAmerica/Chicago         400.0\nAmerica/Los_Angeles     382.0\nAmerica/Denver          191.0\nEurope/London            74.0\nAsia/Tokyo               37.0\nPacific/Honolulu         36.0\nEurope/Madrid            35.0\nAmerica/Sao_Paulo        33.0\ndtype: float64"
     },
     "execution_count": 73,
     "metadata": {},
     "output_type": "execute_result"
    }
   ],
   "source": [
    "top_tz = agg_counts.sum(1).nlargest(10)\n",
    "top_tz"
   ],
   "metadata": {
    "collapsed": false,
    "pycharm": {
     "name": "#%%\n"
    }
   }
  },
  {
   "cell_type": "code",
   "execution_count": 74,
   "outputs": [
    {
     "data": {
      "text/plain": "<AxesSubplot:ylabel='tz'>"
     },
     "execution_count": 74,
     "metadata": {},
     "output_type": "execute_result"
    },
    {
     "data": {
      "text/plain": "<Figure size 432x288 with 1 Axes>",
      "image/png": "[encoded data removed]"
     },
     "metadata": {},
     "output_type": "display_data"
    }
   ],
   "source": [
    "sns.barplot(y=top_tz.index, x=top_tz.values)"
   ],
   "metadata": {
    "collapsed": false,
    "pycharm": {
     "name": "#%%\n"
    }
   }
  },
  {
   "cell_type": "code",
   "execution_count": 75,
   "outputs": [
    {
     "data": {
      "text/plain": "                  tz           os  total\n0  America/Sao_Paulo  Not Windows   13.0\n1  America/Sao_Paulo      Windows   20.0\n2      Europe/Madrid  Not Windows   16.0\n3      Europe/Madrid      Windows   19.0\n4   Pacific/Honolulu  Not Windows    0.0\n5   Pacific/Honolulu      Windows   36.0\n6         Asia/Tokyo  Not Windows    2.0\n7         Asia/Tokyo      Windows   35.0\n8      Europe/London  Not Windows   43.0\n9      Europe/London      Windows   31.0",
      "text/html": "<div>\n<style scoped>\n    .dataframe tbody tr th:only-of-type {\n        vertical-align: middle;\n    }\n\n    .dataframe tbody tr th {\n        vertical-align: top;\n    }\n\n    .dataframe thead th {\n        text-align: right;\n    }\n</style>\n<table border=\"1\" class=\"dataframe\">\n  <thead>\n    <tr style=\"text-align: right;\">\n      <th></th>\n      <th>tz</th>\n      <th>os</th>\n      <th>total</th>\n    </tr>\n  </thead>\n  <tbody>\n    <tr>\n      <th>0</th>\n      <td>America/Sao_Paulo</td>\n      <td>Not Windows</td>\n      <td>13.0</td>\n    </tr>\n    <tr>\n      <th>1</th>\n      <td>America/Sao_Paulo</td>\n      <td>Windows</td>\n      <td>20.0</td>\n    </tr>\n    <tr>\n      <th>2</th>\n      <td>Europe/Madrid</td>\n      <td>Not Windows</td>\n      <td>16.0</td>\n    </tr>\n    <tr>\n      <th>3</th>\n      <td>Europe/Madrid</td>\n      <td>Windows</td>\n      <td>19.0</td>\n    </tr>\n    <tr>\n      <th>4</th>\n      <td>Pacific/Honolulu</td>\n      <td>Not Windows</td>\n      <td>0.0</td>\n    </tr>\n    <tr>\n      <th>5</th>\n      <td>Pacific/Honolulu</td>\n      <td>Windows</td>\n      <td>36.0</td>\n    </tr>\n    <tr>\n      <th>6</th>\n      <td>Asia/Tokyo</td>\n      <td>Not Windows</td>\n      <td>2.0</td>\n    </tr>\n    <tr>\n      <th>7</th>\n      <td>Asia/Tokyo</td>\n      <td>Windows</td>\n      <td>35.0</td>\n    </tr>\n    <tr>\n      <th>8</th>\n      <td>Europe/London</td>\n      <td>Not Windows</td>\n      <td>43.0</td>\n    </tr>\n    <tr>\n      <th>9</th>\n      <td>Europe/London</td>\n      <td>Windows</td>\n      <td>31.0</td>\n    </tr>\n  </tbody>\n</table>\n</div>"
     },
     "execution_count": 75,
     "metadata": {},
     "output_type": "execute_result"
    }
   ],
   "source": [
    "count_subset = count_subset.stack()\n",
    "count_subset.name = 'total'\n",
    "count_subset = count_subset.reset_index()\n",
    "count_subset[:10]"
   ],
   "metadata": {
    "collapsed": false,
    "pycharm": {
     "name": "#%%\n"
    }
   }
  },
  {
   "cell_type": "code",
   "execution_count": 76,
   "outputs": [
    {
     "data": {
      "text/plain": "<AxesSubplot:xlabel='total', ylabel='tz'>"
     },
     "execution_count": 76,
     "metadata": {},
     "output_type": "execute_result"
    },
    {
     "data": {
      "text/plain": "<Figure size 432x288 with 1 Axes>",
      "image/png": "[encoded data removed]"
     },
     "metadata": {},
     "output_type": "display_data"
    }
   ],
   "source": [
    "sns.barplot(x='total', y='tz', hue='os', data=count_subset)"
   ],
   "metadata": {
    "collapsed": false,
    "pycharm": {
     "name": "#%%\n"
    }
   }
  },
  {
   "cell_type": "code",
   "execution_count": 79,
   "outputs": [
    {
     "data": {
      "text/plain": "<AxesSubplot:xlabel='norm_total', ylabel='tz'>"
     },
     "execution_count": 79,
     "metadata": {},
     "output_type": "execute_result"
    },
    {
     "data": {
      "text/plain": "<Figure size 432x288 with 1 Axes>",
      "image/png": "[encoded data removed]"
     },
     "metadata": {},
     "output_type": "display_data"
    }
   ],
   "source": [
    "# 该图不容易看出较小组中Windows用户的相对百分比，因此可以将百分比归一化为1\n",
    "def norm_total(group):\n",
    "    group['norm_total'] = group.total / group.total.sum()\n",
    "    return group\n",
    "\n",
    "\n",
    "results = count_subset.groupby('tz').apply(norm_total)\n",
    "sns.barplot(x='norm_total', y='tz', hue='os', data=results)"
   ],
   "metadata": {
    "collapsed": false,
    "pycharm": {
     "name": "#%%\n"
    }
   }
  },
  {
   "cell_type": "code",
   "execution_count": 80,
   "outputs": [
    {
     "data": {
      "text/plain": "                  tz           os  total\n0  America/Sao_Paulo  Not Windows   13.0\n1  America/Sao_Paulo      Windows   20.0\n2      Europe/Madrid  Not Windows   16.0\n3      Europe/Madrid      Windows   19.0\n4   Pacific/Honolulu  Not Windows    0.0",
      "text/html": "<div>\n<style scoped>\n    .dataframe tbody tr th:only-of-type {\n        vertical-align: middle;\n    }\n\n    .dataframe tbody tr th {\n        vertical-align: top;\n    }\n\n    .dataframe thead th {\n        text-align: right;\n    }\n</style>\n<table border=\"1\" class=\"dataframe\">\n  <thead>\n    <tr style=\"text-align: right;\">\n      <th></th>\n      <th>tz</th>\n      <th>os</th>\n      <th>total</th>\n    </tr>\n  </thead>\n  <tbody>\n    <tr>\n      <th>0</th>\n      <td>America/Sao_Paulo</td>\n      <td>Not Windows</td>\n      <td>13.0</td>\n    </tr>\n    <tr>\n      <th>1</th>\n      <td>America/Sao_Paulo</td>\n      <td>Windows</td>\n      <td>20.0</td>\n    </tr>\n    <tr>\n      <th>2</th>\n      <td>Europe/Madrid</td>\n      <td>Not Windows</td>\n      <td>16.0</td>\n    </tr>\n    <tr>\n      <th>3</th>\n      <td>Europe/Madrid</td>\n      <td>Windows</td>\n      <td>19.0</td>\n    </tr>\n    <tr>\n      <th>4</th>\n      <td>Pacific/Honolulu</td>\n      <td>Not Windows</td>\n      <td>0.0</td>\n    </tr>\n  </tbody>\n</table>\n</div>"
     },
     "execution_count": 80,
     "metadata": {},
     "output_type": "execute_result"
    }
   ],
   "source": [
    "count_subset.head()"
   ],
   "metadata": {
    "collapsed": false,
    "pycharm": {
     "name": "#%%\n"
    }
   }
  },
  {
   "cell_type": "code",
   "execution_count": 81,
   "outputs": [
    {
     "data": {
      "text/plain": "0     0.393939\n1     0.606061\n2     0.457143\n3     0.542857\n4     0.000000\n5     1.000000\n6     0.054054\n7     0.945946\n8     0.581081\n9     0.418919\n10    0.691099\n11    0.308901\n12    0.340314\n13    0.659686\n14    0.287500\n15    0.712500\n16    0.470250\n17    0.529750\n18    0.270983\n19    0.729017\nName: total, dtype: float64"
     },
     "execution_count": 81,
     "metadata": {},
     "output_type": "execute_result"
    }
   ],
   "source": [
    "# 可以通过transform和groupby方法有效地计算归一化只和\n",
    "g = count_subset.groupby('tz')\n",
    "results2 = count_subset.total / g.total.transform('sum')\n",
    "results2"
   ],
   "metadata": {
    "collapsed": false,
    "pycharm": {
     "name": "#%%\n"
    }
   }
  },
  {
   "cell_type": "code",
   "execution_count": null,
   "outputs": [],
   "source": [],
   "metadata": {
    "collapsed": false,
    "pycharm": {
     "name": "#%%\n"
    }
   }
  }
 ],
 "metadata": {
  "kernelspec": {
   "display_name": "Python 3",
   "language": "python",
   "name": "python3"
  },
  "language_info": {
   "codemirror_mode": {
    "name": "ipython",
    "version": 2
   },
   "file_extension": ".py",
   "mimetype": "text/x-python",
   "name": "python",
   "nbconvert_exporter": "python",
   "pygments_lexer": "ipython2",
   "version": "2.7.6"
  }
 },
 "nbformat": 4,
 "nbformat_minor": 0
}