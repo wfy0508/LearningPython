{
 "cells": [
  {
   "cell_type": "markdown",
   "source": [
    "# 14 数据分析示例"
   ],
   "metadata": {
    "collapsed": false,
    "pycharm": {
     "name": "#%% md\n"
    }
   }
  },
  {
   "cell_type": "markdown",
   "source": [
    "## 14.1 从Bitly获取1.USA.gov数据"
   ],
   "metadata": {
    "collapsed": false,
    "pycharm": {
     "name": "#%% md\n"
    }
   }
  },
  {
   "cell_type": "code",
   "execution_count": 1,
   "outputs": [],
   "source": [
    "# 用户匿名数据，每一行都包含一种通用形式的web数据，为json格式\n",
    "import json\n",
    "\n",
    "import matplotlib.pyplot as plt\n",
    "\n",
    "lines = []\n",
    "with open(\"./examples/example.txt\", 'r') as f:\n",
    "    for line in f:\n",
    "        lines.append(line)"
   ],
   "metadata": {
    "collapsed": false,
    "pycharm": {
     "name": "#%%\n"
    }
   }
  },
  {
   "cell_type": "code",
   "execution_count": 2,
   "outputs": [],
   "source": [
    "# 返回一个Python字典的列表\n",
    "records = [json.loads(lines[i]) for i in range(0, len(lines))]"
   ],
   "metadata": {
    "collapsed": false,
    "pycharm": {
     "name": "#%%\n"
    }
   }
  },
  {
   "cell_type": "code",
   "execution_count": 3,
   "outputs": [
    {
     "data": {
      "text/plain": "{'a': 'Mozilla/5.0 (Windows NT 6.1; WOW64) AppleWebKit/535.11 (KHTML, like Gecko) Chrome/17.0.963.78 Safari/535.11',\n 'c': 'US',\n 'nk': 1,\n 'tz': 'America/New_York',\n 'gr': 'MA',\n 'g': 'A6qOVH',\n 'h': 'wfLQtf',\n 'l': 'orofrog',\n 'al': 'en-US,en;q=0.8',\n 'hh': '1.usa.gov',\n 'r': 'http://www.facebook.com/l/7AQEFzjSi/1.usa.gov/wfLQtf',\n 'u': 'http://www.ncbi.nlm.nih.gov/pubmed/22415991',\n 't': 1331923247,\n 'hc': 1331822918,\n 'cy': 'Danvers',\n 'll': [42.576698, -70.954903]}"
     },
     "execution_count": 3,
     "metadata": {},
     "output_type": "execute_result"
    }
   ],
   "source": [
    "records[0]"
   ],
   "metadata": {
    "collapsed": false,
    "pycharm": {
     "name": "#%%\n"
    }
   }
  },
  {
   "cell_type": "code",
   "execution_count": 4,
   "outputs": [],
   "source": [
    "# 提取时区\n",
    "timestamp_zone = [rec['tz'] for rec in records if 'tz' in rec]"
   ],
   "metadata": {
    "collapsed": false,
    "pycharm": {
     "name": "#%%\n"
    }
   }
  },
  {
   "cell_type": "code",
   "execution_count": 5,
   "outputs": [],
   "source": [
    "# 删除空置\n",
    "tz = [i for i in timestamp_zone if i != '']"
   ],
   "metadata": {
    "collapsed": false,
    "pycharm": {
     "name": "#%%\n"
    }
   }
  },
  {
   "cell_type": "code",
   "execution_count": 6,
   "outputs": [],
   "source": [
    "# 遍历时区，用字典来存储计数\n",
    "def get_counts(sequence):\n",
    "    counts = {}\n",
    "    for x in sequence:\n",
    "        if x in counts:\n",
    "            counts[x] += 1\n",
    "        else:\n",
    "            counts[x] = 1\n",
    "    return counts"
   ],
   "metadata": {
    "collapsed": false,
    "pycharm": {
     "name": "#%%\n"
    }
   }
  },
  {
   "cell_type": "code",
   "execution_count": 7,
   "outputs": [],
   "source": [
    "from collections import defaultdict\n",
    "\n",
    "\n",
    "def get_counts2(sequence):\n",
    "    counts = defaultdict(int)  # 将值初始化为0\n",
    "    for x in sequence:\n",
    "        counts[x] += 1\n",
    "    return counts"
   ],
   "metadata": {
    "collapsed": false,
    "pycharm": {
     "name": "#%%\n"
    }
   }
  },
  {
   "cell_type": "code",
   "execution_count": 8,
   "outputs": [
    {
     "data": {
      "text/plain": "1251"
     },
     "execution_count": 8,
     "metadata": {},
     "output_type": "execute_result"
    }
   ],
   "source": [
    "counts = get_counts(timestamp_zone)\n",
    "counts['America/New_York']"
   ],
   "metadata": {
    "collapsed": false,
    "pycharm": {
     "name": "#%%\n"
    }
   }
  },
  {
   "cell_type": "code",
   "execution_count": 9,
   "outputs": [
    {
     "data": {
      "text/plain": "3440"
     },
     "execution_count": 9,
     "metadata": {},
     "output_type": "execute_result"
    }
   ],
   "source": [
    "len(timestamp_zone)"
   ],
   "metadata": {
    "collapsed": false,
    "pycharm": {
     "name": "#%%\n"
    }
   }
  },
  {
   "cell_type": "code",
   "execution_count": 10,
   "outputs": [],
   "source": [
    "# 取前10的时区和它们的计数\n",
    "def top10_counts(count_dict, n=10):\n",
    "    value_key_pairs = [(count, tz) for tz, count in count_dict.items()]\n",
    "    value_key_pairs.sort(reverse=True)\n",
    "    return value_key_pairs[:10]"
   ],
   "metadata": {
    "collapsed": false,
    "pycharm": {
     "name": "#%%\n"
    }
   }
  },
  {
   "cell_type": "code",
   "execution_count": 11,
   "outputs": [
    {
     "data": {
      "text/plain": "[(1251, 'America/New_York'),\n (521, ''),\n (400, 'America/Chicago'),\n (382, 'America/Los_Angeles'),\n (191, 'America/Denver'),\n (74, 'Europe/London'),\n (37, 'Asia/Tokyo'),\n (36, 'Pacific/Honolulu'),\n (35, 'Europe/Madrid'),\n (33, 'America/Sao_Paulo')]"
     },
     "execution_count": 11,
     "metadata": {},
     "output_type": "execute_result"
    }
   ],
   "source": [
    "top10_counts(counts)"
   ],
   "metadata": {
    "collapsed": false,
    "pycharm": {
     "name": "#%%\n"
    }
   }
  },
  {
   "cell_type": "code",
   "execution_count": 12,
   "outputs": [
    {
     "data": {
      "text/plain": "[('America/New_York', 1251),\n ('', 521),\n ('America/Chicago', 400),\n ('America/Los_Angeles', 382),\n ('America/Denver', 191),\n ('Europe/London', 74),\n ('Asia/Tokyo', 37),\n ('Pacific/Honolulu', 36),\n ('Europe/Madrid', 35),\n ('America/Sao_Paulo', 33)]"
     },
     "execution_count": 12,
     "metadata": {},
     "output_type": "execute_result"
    }
   ],
   "source": [
    "# 使用标准库collections.Counter更简单\n",
    "from collections import Counter\n",
    "\n",
    "counts = Counter(timestamp_zone)\n",
    "counts.most_common(10)"
   ],
   "metadata": {
    "collapsed": false,
    "pycharm": {
     "name": "#%%\n"
    }
   }
  },
  {
   "cell_type": "markdown",
   "source": [
    "### 14.1.2 使用pandas进行时区计数"
   ],
   "metadata": {
    "collapsed": false,
    "pycharm": {
     "name": "#%% md\n"
    }
   }
  },
  {
   "cell_type": "code",
   "execution_count": 13,
   "outputs": [
    {
     "data": {
      "text/plain": "                                                   a   c   nk  \\\n0  Mozilla/5.0 (Windows NT 6.1; WOW64) AppleWebKi...  US  1.0   \n1                             GoogleMaps/RochesterNY  US  0.0   \n2  Mozilla/4.0 (compatible; MSIE 8.0; Windows NT ...  US  1.0   \n3  Mozilla/5.0 (Macintosh; Intel Mac OS X 10_6_8)...  BR  0.0   \n4  Mozilla/5.0 (Windows NT 6.1; WOW64) AppleWebKi...  US  0.0   \n\n                  tz  gr       g       h         l              al         hh  \\\n0   America/New_York  MA  A6qOVH  wfLQtf   orofrog  en-US,en;q=0.8  1.usa.gov   \n1     America/Denver  UT  mwszkS  mwszkS     bitly             NaN       j.mp   \n2   America/New_York  DC  xxr3Qb  xxr3Qb     bitly           en-US  1.usa.gov   \n3  America/Sao_Paulo  27  zCaLwp  zUtuOu  alelex88           pt-br  1.usa.gov   \n4   America/New_York  MA  9b6kNl  9b6kNl     bitly  en-US,en;q=0.8     bit.ly   \n\n                                                   r  \\\n0  http://www.facebook.com/l/7AQEFzjSi/1.usa.gov/...   \n1                           http://www.AwareMap.com/   \n2                               http://t.co/03elZC4Q   \n3                                             direct   \n4                http://www.shrewsbury-ma.gov/selco/   \n\n                                                   u             t  \\\n0        http://www.ncbi.nlm.nih.gov/pubmed/22415991  1.331923e+09   \n1        http://www.monroecounty.gov/etc/911/rss.php  1.331923e+09   \n2  http://boxer.senate.gov/en/press/releases/0316...  1.331923e+09   \n3            http://apod.nasa.gov/apod/ap120312.html  1.331923e+09   \n4  http://www.shrewsbury-ma.gov/egov/gallery/1341...  1.331923e+09   \n\n             hc          cy                        ll  _heartbeat_   kw  \n0  1.331823e+09     Danvers   [42.576698, -70.954903]          NaN  NaN  \n1  1.308262e+09       Provo  [40.218102, -111.613297]          NaN  NaN  \n2  1.331920e+09  Washington     [38.9007, -77.043098]          NaN  NaN  \n3  1.331923e+09        Braz  [-23.549999, -46.616699]          NaN  NaN  \n4  1.273672e+09  Shrewsbury   [42.286499, -71.714699]          NaN  NaN  ",
      "text/html": "<div>\n<style scoped>\n    .dataframe tbody tr th:only-of-type {\n        vertical-align: middle;\n    }\n\n    .dataframe tbody tr th {\n        vertical-align: top;\n    }\n\n    .dataframe thead th {\n        text-align: right;\n    }\n</style>\n<table border=\"1\" class=\"dataframe\">\n  <thead>\n    <tr style=\"text-align: right;\">\n      <th></th>\n      <th>a</th>\n      <th>c</th>\n      <th>nk</th>\n      <th>tz</th>\n      <th>gr</th>\n      <th>g</th>\n      <th>h</th>\n      <th>l</th>\n      <th>al</th>\n      <th>hh</th>\n      <th>r</th>\n      <th>u</th>\n      <th>t</th>\n      <th>hc</th>\n      <th>cy</th>\n      <th>ll</th>\n      <th>_heartbeat_</th>\n      <th>kw</th>\n    </tr>\n  </thead>\n  <tbody>\n    <tr>\n      <th>0</th>\n      <td>Mozilla/5.0 (Windows NT 6.1; WOW64) AppleWebKi...</td>\n      <td>US</td>\n      <td>1.0</td>\n      <td>America/New_York</td>\n      <td>MA</td>\n      <td>A6qOVH</td>\n      <td>wfLQtf</td>\n      <td>orofrog</td>\n      <td>en-US,en;q=0.8</td>\n      <td>1.usa.gov</td>\n      <td>http://www.facebook.com/l/7AQEFzjSi/1.usa.gov/...</td>\n      <td>http://www.ncbi.nlm.nih.gov/pubmed/22415991</td>\n      <td>1.331923e+09</td>\n      <td>1.331823e+09</td>\n      <td>Danvers</td>\n      <td>[42.576698, -70.954903]</td>\n      <td>NaN</td>\n      <td>NaN</td>\n    </tr>\n    <tr>\n      <th>1</th>\n      <td>GoogleMaps/RochesterNY</td>\n      <td>US</td>\n      <td>0.0</td>\n      <td>America/Denver</td>\n      <td>UT</td>\n      <td>mwszkS</td>\n      <td>mwszkS</td>\n      <td>bitly</td>\n      <td>NaN</td>\n      <td>j.mp</td>\n      <td>http://www.AwareMap.com/</td>\n      <td>http://www.monroecounty.gov/etc/911/rss.php</td>\n      <td>1.331923e+09</td>\n      <td>1.308262e+09</td>\n      <td>Provo</td>\n      <td>[40.218102, -111.613297]</td>\n      <td>NaN</td>\n      <td>NaN</td>\n    </tr>\n    <tr>\n      <th>2</th>\n      <td>Mozilla/4.0 (compatible; MSIE 8.0; Windows NT ...</td>\n      <td>US</td>\n      <td>1.0</td>\n      <td>America/New_York</td>\n      <td>DC</td>\n      <td>xxr3Qb</td>\n      <td>xxr3Qb</td>\n      <td>bitly</td>\n      <td>en-US</td>\n      <td>1.usa.gov</td>\n      <td>http://t.co/03elZC4Q</td>\n      <td>http://boxer.senate.gov/en/press/releases/0316...</td>\n      <td>1.331923e+09</td>\n      <td>1.331920e+09</td>\n      <td>Washington</td>\n      <td>[38.9007, -77.043098]</td>\n      <td>NaN</td>\n      <td>NaN</td>\n    </tr>\n    <tr>\n      <th>3</th>\n      <td>Mozilla/5.0 (Macintosh; Intel Mac OS X 10_6_8)...</td>\n      <td>BR</td>\n      <td>0.0</td>\n      <td>America/Sao_Paulo</td>\n      <td>27</td>\n      <td>zCaLwp</td>\n      <td>zUtuOu</td>\n      <td>alelex88</td>\n      <td>pt-br</td>\n      <td>1.usa.gov</td>\n      <td>direct</td>\n      <td>http://apod.nasa.gov/apod/ap120312.html</td>\n      <td>1.331923e+09</td>\n      <td>1.331923e+09</td>\n      <td>Braz</td>\n      <td>[-23.549999, -46.616699]</td>\n      <td>NaN</td>\n      <td>NaN</td>\n    </tr>\n    <tr>\n      <th>4</th>\n      <td>Mozilla/5.0 (Windows NT 6.1; WOW64) AppleWebKi...</td>\n      <td>US</td>\n      <td>0.0</td>\n      <td>America/New_York</td>\n      <td>MA</td>\n      <td>9b6kNl</td>\n      <td>9b6kNl</td>\n      <td>bitly</td>\n      <td>en-US,en;q=0.8</td>\n      <td>bit.ly</td>\n      <td>http://www.shrewsbury-ma.gov/selco/</td>\n      <td>http://www.shrewsbury-ma.gov/egov/gallery/1341...</td>\n      <td>1.331923e+09</td>\n      <td>1.273672e+09</td>\n      <td>Shrewsbury</td>\n      <td>[42.286499, -71.714699]</td>\n      <td>NaN</td>\n      <td>NaN</td>\n    </tr>\n  </tbody>\n</table>\n</div>"
     },
     "execution_count": 13,
     "metadata": {},
     "output_type": "execute_result"
    }
   ],
   "source": [
    "import pandas as pd\n",
    "\n",
    "frame = pd.DataFrame(records)\n",
    "frame.head()"
   ],
   "metadata": {
    "collapsed": false,
    "pycharm": {
     "name": "#%%\n"
    }
   }
  },
  {
   "cell_type": "code",
   "execution_count": 14,
   "outputs": [
    {
     "data": {
      "text/plain": "0          America/New_York\n1            America/Denver\n2          America/New_York\n3         America/Sao_Paulo\n4          America/New_York\n               ...         \n3555       America/New_York\n3556        America/Chicago\n3557         America/Denver\n3558    America/Los_Angeles\n3559       America/New_York\nName: tz, Length: 3560, dtype: object"
     },
     "execution_count": 14,
     "metadata": {},
     "output_type": "execute_result"
    }
   ],
   "source": [
    "clean_tz = frame.tz.fillna('Missing')\n",
    "clean_tz[clean_tz == ''] = 'Unknown'\n",
    "clean_tz"
   ],
   "metadata": {
    "collapsed": false,
    "pycharm": {
     "name": "#%%\n"
    }
   }
  },
  {
   "cell_type": "code",
   "execution_count": 15,
   "outputs": [
    {
     "data": {
      "text/plain": "<AxesSubplot:>"
     },
     "execution_count": 15,
     "metadata": {},
     "output_type": "execute_result"
    },
    {
     "data": {
      "text/plain": "<Figure size 432x288 with 1 Axes>",
      "image/png": "[encoded data removed]"
     },
     "metadata": {},
     "output_type": "display_data"
    }
   ],
   "source": [
    "# 绘图\n",
    "import seaborn as sns\n",
    "\n",
    "#%matplotlib notebook\n",
    "\n",
    "tz_top10 = clean_tz.value_counts()[:10]\n",
    "sns.barplot(y=tz_top10.index, x=tz_top10.values)"
   ],
   "metadata": {
    "collapsed": false,
    "pycharm": {
     "name": "#%%\n"
    }
   }
  },
  {
   "cell_type": "markdown",
   "source": [],
   "metadata": {
    "collapsed": false,
    "pycharm": {
     "name": "#%% md\n"
    }
   }
  },
  {
   "cell_type": "code",
   "execution_count": 16,
   "outputs": [
    {
     "data": {
      "text/plain": "0    Mozilla/5.0 (Windows NT 6.1; WOW64) AppleWebKi...\n1                               GoogleMaps/RochesterNY\n2    Mozilla/4.0 (compatible; MSIE 8.0; Windows NT ...\n3    Mozilla/5.0 (Macintosh; Intel Mac OS X 10_6_8)...\n4    Mozilla/5.0 (Windows NT 6.1; WOW64) AppleWebKi...\nName: a, dtype: object"
     },
     "execution_count": 16,
     "metadata": {},
     "output_type": "execute_result"
    }
   ],
   "source": [
    "# 解析frame的a列\n",
    "frame.a.head()"
   ],
   "metadata": {
    "collapsed": false,
    "pycharm": {
     "name": "#%%\n"
    }
   }
  },
  {
   "cell_type": "code",
   "execution_count": 17,
   "outputs": [
    {
     "data": {
      "text/plain": "                                                   a   c   nk  \\\n0  Mozilla/5.0 (Windows NT 6.1; WOW64) AppleWebKi...  US  1.0   \n1                             GoogleMaps/RochesterNY  US  0.0   \n2  Mozilla/4.0 (compatible; MSIE 8.0; Windows NT ...  US  1.0   \n3  Mozilla/5.0 (Macintosh; Intel Mac OS X 10_6_8)...  BR  0.0   \n4  Mozilla/5.0 (Windows NT 6.1; WOW64) AppleWebKi...  US  0.0   \n\n                  tz  gr       g       h         l              al         hh  \\\n0   America/New_York  MA  A6qOVH  wfLQtf   orofrog  en-US,en;q=0.8  1.usa.gov   \n1     America/Denver  UT  mwszkS  mwszkS     bitly             NaN       j.mp   \n2   America/New_York  DC  xxr3Qb  xxr3Qb     bitly           en-US  1.usa.gov   \n3  America/Sao_Paulo  27  zCaLwp  zUtuOu  alelex88           pt-br  1.usa.gov   \n4   America/New_York  MA  9b6kNl  9b6kNl     bitly  en-US,en;q=0.8     bit.ly   \n\n                                                   r  \\\n0  http://www.facebook.com/l/7AQEFzjSi/1.usa.gov/...   \n1                           http://www.AwareMap.com/   \n2                               http://t.co/03elZC4Q   \n3                                             direct   \n4                http://www.shrewsbury-ma.gov/selco/   \n\n                                                   u             t  \\\n0        http://www.ncbi.nlm.nih.gov/pubmed/22415991  1.331923e+09   \n1        http://www.monroecounty.gov/etc/911/rss.php  1.331923e+09   \n2  http://boxer.senate.gov/en/press/releases/0316...  1.331923e+09   \n3            http://apod.nasa.gov/apod/ap120312.html  1.331923e+09   \n4  http://www.shrewsbury-ma.gov/egov/gallery/1341...  1.331923e+09   \n\n             hc          cy                        ll  _heartbeat_   kw  \n0  1.331823e+09     Danvers   [42.576698, -70.954903]          NaN  NaN  \n1  1.308262e+09       Provo  [40.218102, -111.613297]          NaN  NaN  \n2  1.331920e+09  Washington     [38.9007, -77.043098]          NaN  NaN  \n3  1.331923e+09        Braz  [-23.549999, -46.616699]          NaN  NaN  \n4  1.273672e+09  Shrewsbury   [42.286499, -71.714699]          NaN  NaN  ",
      "text/html": "<div>\n<style scoped>\n    .dataframe tbody tr th:only-of-type {\n        vertical-align: middle;\n    }\n\n    .dataframe tbody tr th {\n        vertical-align: top;\n    }\n\n    .dataframe thead th {\n        text-align: right;\n    }\n</style>\n<table border=\"1\" class=\"dataframe\">\n  <thead>\n    <tr style=\"text-align: right;\">\n      <th></th>\n      <th>a</th>\n      <th>c</th>\n      <th>nk</th>\n      <th>tz</th>\n      <th>gr</th>\n      <th>g</th>\n      <th>h</th>\n      <th>l</th>\n      <th>al</th>\n      <th>hh</th>\n      <th>r</th>\n      <th>u</th>\n      <th>t</th>\n      <th>hc</th>\n      <th>cy</th>\n      <th>ll</th>\n      <th>_heartbeat_</th>\n      <th>kw</th>\n    </tr>\n  </thead>\n  <tbody>\n    <tr>\n      <th>0</th>\n      <td>Mozilla/5.0 (Windows NT 6.1; WOW64) AppleWebKi...</td>\n      <td>US</td>\n      <td>1.0</td>\n      <td>America/New_York</td>\n      <td>MA</td>\n      <td>A6qOVH</td>\n      <td>wfLQtf</td>\n      <td>orofrog</td>\n      <td>en-US,en;q=0.8</td>\n      <td>1.usa.gov</td>\n      <td>http://www.facebook.com/l/7AQEFzjSi/1.usa.gov/...</td>\n      <td>http://www.ncbi.nlm.nih.gov/pubmed/22415991</td>\n      <td>1.331923e+09</td>\n      <td>1.331823e+09</td>\n      <td>Danvers</td>\n      <td>[42.576698, -70.954903]</td>\n      <td>NaN</td>\n      <td>NaN</td>\n    </tr>\n    <tr>\n      <th>1</th>\n      <td>GoogleMaps/RochesterNY</td>\n      <td>US</td>\n      <td>0.0</td>\n      <td>America/Denver</td>\n      <td>UT</td>\n      <td>mwszkS</td>\n      <td>mwszkS</td>\n      <td>bitly</td>\n      <td>NaN</td>\n      <td>j.mp</td>\n      <td>http://www.AwareMap.com/</td>\n      <td>http://www.monroecounty.gov/etc/911/rss.php</td>\n      <td>1.331923e+09</td>\n      <td>1.308262e+09</td>\n      <td>Provo</td>\n      <td>[40.218102, -111.613297]</td>\n      <td>NaN</td>\n      <td>NaN</td>\n    </tr>\n    <tr>\n      <th>2</th>\n      <td>Mozilla/4.0 (compatible; MSIE 8.0; Windows NT ...</td>\n      <td>US</td>\n      <td>1.0</td>\n      <td>America/New_York</td>\n      <td>DC</td>\n      <td>xxr3Qb</td>\n      <td>xxr3Qb</td>\n      <td>bitly</td>\n      <td>en-US</td>\n      <td>1.usa.gov</td>\n      <td>http://t.co/03elZC4Q</td>\n      <td>http://boxer.senate.gov/en/press/releases/0316...</td>\n      <td>1.331923e+09</td>\n      <td>1.331920e+09</td>\n      <td>Washington</td>\n      <td>[38.9007, -77.043098]</td>\n      <td>NaN</td>\n      <td>NaN</td>\n    </tr>\n    <tr>\n      <th>3</th>\n      <td>Mozilla/5.0 (Macintosh; Intel Mac OS X 10_6_8)...</td>\n      <td>BR</td>\n      <td>0.0</td>\n      <td>America/Sao_Paulo</td>\n      <td>27</td>\n      <td>zCaLwp</td>\n      <td>zUtuOu</td>\n      <td>alelex88</td>\n      <td>pt-br</td>\n      <td>1.usa.gov</td>\n      <td>direct</td>\n      <td>http://apod.nasa.gov/apod/ap120312.html</td>\n      <td>1.331923e+09</td>\n      <td>1.331923e+09</td>\n      <td>Braz</td>\n      <td>[-23.549999, -46.616699]</td>\n      <td>NaN</td>\n      <td>NaN</td>\n    </tr>\n    <tr>\n      <th>4</th>\n      <td>Mozilla/5.0 (Windows NT 6.1; WOW64) AppleWebKi...</td>\n      <td>US</td>\n      <td>0.0</td>\n      <td>America/New_York</td>\n      <td>MA</td>\n      <td>9b6kNl</td>\n      <td>9b6kNl</td>\n      <td>bitly</td>\n      <td>en-US,en;q=0.8</td>\n      <td>bit.ly</td>\n      <td>http://www.shrewsbury-ma.gov/selco/</td>\n      <td>http://www.shrewsbury-ma.gov/egov/gallery/1341...</td>\n      <td>1.331923e+09</td>\n      <td>1.273672e+09</td>\n      <td>Shrewsbury</td>\n      <td>[42.286499, -71.714699]</td>\n      <td>NaN</td>\n      <td>NaN</td>\n    </tr>\n  </tbody>\n</table>\n</div>"
     },
     "execution_count": 17,
     "metadata": {},
     "output_type": "execute_result"
    }
   ],
   "source": [
    "# 来区分是否包含Windows\n",
    "frame_os = frame[frame.a.notnull()]\n",
    "frame_os.head()"
   ],
   "metadata": {
    "collapsed": false,
    "pycharm": {
     "name": "#%%\n"
    }
   }
  },
  {
   "cell_type": "code",
   "execution_count": 18,
   "outputs": [
    {
     "name": "stderr",
     "output_type": "stream",
     "text": [
      "/var/folders/ml/8mffbtvx25b6ftr05mlfbtqm0000gn/T/ipykernel_91613/480775385.py:3: SettingWithCopyWarning: \n",
      "A value is trying to be set on a copy of a slice from a DataFrame.\n",
      "Try using .loc[row_indexer,col_indexer] = value instead\n",
      "\n",
      "See the caveats in the documentation: https://pandas.pydata.org/pandas-docs/stable/user_guide/indexing.html#returning-a-view-versus-a-copy\n",
      "  frame_os['os'] = np.where(frame_os.a.str.contains('Windows'), 'Windows', 'Not Windows')\n"
     ]
    }
   ],
   "source": [
    "import numpy as np\n",
    "\n",
    "frame_os['os'] = np.where(frame_os.a.str.contains('Windows'), 'Windows', 'Not Windows')"
   ],
   "metadata": {
    "collapsed": false,
    "pycharm": {
     "name": "#%%\n"
    }
   }
  },
  {
   "cell_type": "code",
   "execution_count": 19,
   "outputs": [
    {
     "data": {
      "text/plain": "Windows        2246\nNot Windows    1194\nName: os, dtype: int64"
     },
     "execution_count": 19,
     "metadata": {},
     "output_type": "execute_result"
    }
   ],
   "source": [
    "frame_os.os.value_counts()"
   ],
   "metadata": {
    "collapsed": false,
    "pycharm": {
     "name": "#%%\n"
    }
   }
  },
  {
   "cell_type": "code",
   "execution_count": 20,
   "outputs": [
    {
     "data": {
      "text/plain": "str"
     },
     "execution_count": 20,
     "metadata": {},
     "output_type": "execute_result"
    }
   ],
   "source": [
    "type(frame_os['a'][0])"
   ],
   "metadata": {
    "collapsed": false,
    "pycharm": {
     "name": "#%%\n"
    }
   }
  },
  {
   "cell_type": "code",
   "execution_count": 21,
   "outputs": [
    {
     "data": {
      "text/plain": "os                              Not Windows  Windows\ntz                                                  \n                                      245.0    276.0\nAfrica/Cairo                            0.0      3.0\nAfrica/Casablanca                       0.0      1.0\nAfrica/Ceuta                            0.0      2.0\nAfrica/Johannesburg                     0.0      1.0\nAfrica/Lusaka                           0.0      1.0\nAmerica/Anchorage                       4.0      1.0\nAmerica/Argentina/Buenos_Aires          1.0      0.0\nAmerica/Argentina/Cordoba               0.0      1.0\nAmerica/Argentina/Mendoza               0.0      1.0",
      "text/html": "<div>\n<style scoped>\n    .dataframe tbody tr th:only-of-type {\n        vertical-align: middle;\n    }\n\n    .dataframe tbody tr th {\n        vertical-align: top;\n    }\n\n    .dataframe thead th {\n        text-align: right;\n    }\n</style>\n<table border=\"1\" class=\"dataframe\">\n  <thead>\n    <tr style=\"text-align: right;\">\n      <th>os</th>\n      <th>Not Windows</th>\n      <th>Windows</th>\n    </tr>\n    <tr>\n      <th>tz</th>\n      <th></th>\n      <th></th>\n    </tr>\n  </thead>\n  <tbody>\n    <tr>\n      <th></th>\n      <td>245.0</td>\n      <td>276.0</td>\n    </tr>\n    <tr>\n      <th>Africa/Cairo</th>\n      <td>0.0</td>\n      <td>3.0</td>\n    </tr>\n    <tr>\n      <th>Africa/Casablanca</th>\n      <td>0.0</td>\n      <td>1.0</td>\n    </tr>\n    <tr>\n      <th>Africa/Ceuta</th>\n      <td>0.0</td>\n      <td>2.0</td>\n    </tr>\n    <tr>\n      <th>Africa/Johannesburg</th>\n      <td>0.0</td>\n      <td>1.0</td>\n    </tr>\n    <tr>\n      <th>Africa/Lusaka</th>\n      <td>0.0</td>\n      <td>1.0</td>\n    </tr>\n    <tr>\n      <th>America/Anchorage</th>\n      <td>4.0</td>\n      <td>1.0</td>\n    </tr>\n    <tr>\n      <th>America/Argentina/Buenos_Aires</th>\n      <td>1.0</td>\n      <td>0.0</td>\n    </tr>\n    <tr>\n      <th>America/Argentina/Cordoba</th>\n      <td>0.0</td>\n      <td>1.0</td>\n    </tr>\n    <tr>\n      <th>America/Argentina/Mendoza</th>\n      <td>0.0</td>\n      <td>1.0</td>\n    </tr>\n  </tbody>\n</table>\n</div>"
     },
     "execution_count": 21,
     "metadata": {},
     "output_type": "execute_result"
    }
   ],
   "source": [
    "# 使用时区和操作系统分组\n",
    "groupby_tz_os = frame_os.groupby(['tz', 'os'])\n",
    "agg_counts = groupby_tz_os.size().unstack().fillna(0)\n",
    "agg_counts[:10]"
   ],
   "metadata": {
    "collapsed": false,
    "pycharm": {
     "name": "#%%\n"
    }
   }
  },
  {
   "cell_type": "code",
   "execution_count": 22,
   "outputs": [
    {
     "data": {
      "text/plain": "tz\n                       24\nAfrica/Cairo           20\nAfrica/Casablanca      21\nAfrica/Ceuta           92\nAfrica/Johannesburg    87\n                       ..\nEurope/Volgograd       15\nEurope/Warsaw          22\nEurope/Zurich          12\nPacific/Auckland        0\nPacific/Honolulu       29\nLength: 97, dtype: int64"
     },
     "execution_count": 22,
     "metadata": {},
     "output_type": "execute_result"
    }
   ],
   "source": [
    "# 选出总体计数最高的时区\n",
    "indexer = agg_counts.sum(1).argsort()\n",
    "indexer"
   ],
   "metadata": {
    "collapsed": false,
    "pycharm": {
     "name": "#%%\n"
    }
   }
  },
  {
   "cell_type": "code",
   "execution_count": 23,
   "outputs": [
    {
     "data": {
      "text/plain": "os                   Not Windows  Windows\ntz                                       \nAmerica/Sao_Paulo           13.0     20.0\nEurope/Madrid               16.0     19.0\nPacific/Honolulu             0.0     36.0\nAsia/Tokyo                   2.0     35.0\nEurope/London               43.0     31.0\nAmerica/Denver             132.0     59.0\nAmerica/Los_Angeles        130.0    252.0\nAmerica/Chicago            115.0    285.0\n                           245.0    276.0\nAmerica/New_York           339.0    912.0",
      "text/html": "<div>\n<style scoped>\n    .dataframe tbody tr th:only-of-type {\n        vertical-align: middle;\n    }\n\n    .dataframe tbody tr th {\n        vertical-align: top;\n    }\n\n    .dataframe thead th {\n        text-align: right;\n    }\n</style>\n<table border=\"1\" class=\"dataframe\">\n  <thead>\n    <tr style=\"text-align: right;\">\n      <th>os</th>\n      <th>Not Windows</th>\n      <th>Windows</th>\n    </tr>\n    <tr>\n      <th>tz</th>\n      <th></th>\n      <th></th>\n    </tr>\n  </thead>\n  <tbody>\n    <tr>\n      <th>America/Sao_Paulo</th>\n      <td>13.0</td>\n      <td>20.0</td>\n    </tr>\n    <tr>\n      <th>Europe/Madrid</th>\n      <td>16.0</td>\n      <td>19.0</td>\n    </tr>\n    <tr>\n      <th>Pacific/Honolulu</th>\n      <td>0.0</td>\n      <td>36.0</td>\n    </tr>\n    <tr>\n      <th>Asia/Tokyo</th>\n      <td>2.0</td>\n      <td>35.0</td>\n    </tr>\n    <tr>\n      <th>Europe/London</th>\n      <td>43.0</td>\n      <td>31.0</td>\n    </tr>\n    <tr>\n      <th>America/Denver</th>\n      <td>132.0</td>\n      <td>59.0</td>\n    </tr>\n    <tr>\n      <th>America/Los_Angeles</th>\n      <td>130.0</td>\n      <td>252.0</td>\n    </tr>\n    <tr>\n      <th>America/Chicago</th>\n      <td>115.0</td>\n      <td>285.0</td>\n    </tr>\n    <tr>\n      <th></th>\n      <td>245.0</td>\n      <td>276.0</td>\n    </tr>\n    <tr>\n      <th>America/New_York</th>\n      <td>339.0</td>\n      <td>912.0</td>\n    </tr>\n  </tbody>\n</table>\n</div>"
     },
     "execution_count": 23,
     "metadata": {},
     "output_type": "execute_result"
    }
   ],
   "source": [
    "# 使用take方法按顺序选出行，之后再对最后10行进行切片\n",
    "count_subset = agg_counts.take(indexer[-10:])\n",
    "count_subset"
   ],
   "metadata": {
    "collapsed": false,
    "pycharm": {
     "name": "#%%\n"
    }
   }
  },
  {
   "cell_type": "code",
   "execution_count": 24,
   "outputs": [
    {
     "data": {
      "text/plain": "tz\nAmerica/New_York       1251.0\n                        521.0\nAmerica/Chicago         400.0\nAmerica/Los_Angeles     382.0\nAmerica/Denver          191.0\nEurope/London            74.0\nAsia/Tokyo               37.0\nPacific/Honolulu         36.0\nEurope/Madrid            35.0\nAmerica/Sao_Paulo        33.0\ndtype: float64"
     },
     "execution_count": 24,
     "metadata": {},
     "output_type": "execute_result"
    }
   ],
   "source": [
    "top_tz = agg_counts.sum(1).nlargest(10)\n",
    "top_tz"
   ],
   "metadata": {
    "collapsed": false,
    "pycharm": {
     "name": "#%%\n"
    }
   }
  },
  {
   "cell_type": "code",
   "execution_count": 25,
   "outputs": [
    {
     "data": {
      "text/plain": "<AxesSubplot:ylabel='tz'>"
     },
     "execution_count": 25,
     "metadata": {},
     "output_type": "execute_result"
    },
    {
     "data": {
      "text/plain": "<Figure size 432x288 with 1 Axes>",
      "image/png": "[encoded data removed]"
     },
     "metadata": {},
     "output_type": "display_data"
    }
   ],
   "source": [
    "sns.barplot(y=top_tz.index, x=top_tz.values)"
   ],
   "metadata": {
    "collapsed": false,
    "pycharm": {
     "name": "#%%\n"
    }
   }
  },
  {
   "cell_type": "code",
   "execution_count": 26,
   "outputs": [
    {
     "data": {
      "text/plain": "                  tz           os  total\n0  America/Sao_Paulo  Not Windows   13.0\n1  America/Sao_Paulo      Windows   20.0\n2      Europe/Madrid  Not Windows   16.0\n3      Europe/Madrid      Windows   19.0\n4   Pacific/Honolulu  Not Windows    0.0\n5   Pacific/Honolulu      Windows   36.0\n6         Asia/Tokyo  Not Windows    2.0\n7         Asia/Tokyo      Windows   35.0\n8      Europe/London  Not Windows   43.0\n9      Europe/London      Windows   31.0",
      "text/html": "<div>\n<style scoped>\n    .dataframe tbody tr th:only-of-type {\n        vertical-align: middle;\n    }\n\n    .dataframe tbody tr th {\n        vertical-align: top;\n    }\n\n    .dataframe thead th {\n        text-align: right;\n    }\n</style>\n<table border=\"1\" class=\"dataframe\">\n  <thead>\n    <tr style=\"text-align: right;\">\n      <th></th>\n      <th>tz</th>\n      <th>os</th>\n      <th>total</th>\n    </tr>\n  </thead>\n  <tbody>\n    <tr>\n      <th>0</th>\n      <td>America/Sao_Paulo</td>\n      <td>Not Windows</td>\n      <td>13.0</td>\n    </tr>\n    <tr>\n      <th>1</th>\n      <td>America/Sao_Paulo</td>\n      <td>Windows</td>\n      <td>20.0</td>\n    </tr>\n    <tr>\n      <th>2</th>\n      <td>Europe/Madrid</td>\n      <td>Not Windows</td>\n      <td>16.0</td>\n    </tr>\n    <tr>\n      <th>3</th>\n      <td>Europe/Madrid</td>\n      <td>Windows</td>\n      <td>19.0</td>\n    </tr>\n    <tr>\n      <th>4</th>\n      <td>Pacific/Honolulu</td>\n      <td>Not Windows</td>\n      <td>0.0</td>\n    </tr>\n    <tr>\n      <th>5</th>\n      <td>Pacific/Honolulu</td>\n      <td>Windows</td>\n      <td>36.0</td>\n    </tr>\n    <tr>\n      <th>6</th>\n      <td>Asia/Tokyo</td>\n      <td>Not Windows</td>\n      <td>2.0</td>\n    </tr>\n    <tr>\n      <th>7</th>\n      <td>Asia/Tokyo</td>\n      <td>Windows</td>\n      <td>35.0</td>\n    </tr>\n    <tr>\n      <th>8</th>\n      <td>Europe/London</td>\n      <td>Not Windows</td>\n      <td>43.0</td>\n    </tr>\n    <tr>\n      <th>9</th>\n      <td>Europe/London</td>\n      <td>Windows</td>\n      <td>31.0</td>\n    </tr>\n  </tbody>\n</table>\n</div>"
     },
     "execution_count": 26,
     "metadata": {},
     "output_type": "execute_result"
    }
   ],
   "source": [
    "count_subset = count_subset.stack()\n",
    "count_subset.name = 'total'\n",
    "count_subset = count_subset.reset_index()\n",
    "count_subset[:10]"
   ],
   "metadata": {
    "collapsed": false,
    "pycharm": {
     "name": "#%%\n"
    }
   }
  },
  {
   "cell_type": "code",
   "execution_count": 27,
   "outputs": [
    {
     "data": {
      "text/plain": "<AxesSubplot:xlabel='total', ylabel='tz'>"
     },
     "execution_count": 27,
     "metadata": {},
     "output_type": "execute_result"
    },
    {
     "data": {
      "text/plain": "<Figure size 432x288 with 1 Axes>",
      "image/png": "[encoded data removed]"
     },
     "metadata": {},
     "output_type": "display_data"
    }
   ],
   "source": [
    "sns.barplot(x='total', y='tz', hue='os', data=count_subset)"
   ],
   "metadata": {
    "collapsed": false,
    "pycharm": {
     "name": "#%%\n"
    }
   }
  },
  {
   "cell_type": "code",
   "execution_count": 28,
   "outputs": [
    {
     "data": {
      "text/plain": "<AxesSubplot:xlabel='norm_total', ylabel='tz'>"
     },
     "execution_count": 28,
     "metadata": {},
     "output_type": "execute_result"
    },
    {
     "data": {
      "text/plain": "<Figure size 432x288 with 1 Axes>",
      "image/png": "[encoded data removed]"
     },
     "metadata": {},
     "output_type": "display_data"
    }
   ],
   "source": [
    "# 该图不容易看出较小组中Windows用户的相对百分比，因此可以将百分比归一化为1\n",
    "def norm_total(group):\n",
    "    group['norm_total'] = group.total / group.total.sum()\n",
    "    return group\n",
    "\n",
    "\n",
    "results = count_subset.groupby('tz').apply(norm_total)\n",
    "sns.barplot(x='norm_total', y='tz', hue='os', data=results)"
   ],
   "metadata": {
    "collapsed": false,
    "pycharm": {
     "name": "#%%\n"
    }
   }
  },
  {
   "cell_type": "code",
   "execution_count": 29,
   "outputs": [
    {
     "data": {
      "text/plain": "                  tz           os  total\n0  America/Sao_Paulo  Not Windows   13.0\n1  America/Sao_Paulo      Windows   20.0\n2      Europe/Madrid  Not Windows   16.0\n3      Europe/Madrid      Windows   19.0\n4   Pacific/Honolulu  Not Windows    0.0",
      "text/html": "<div>\n<style scoped>\n    .dataframe tbody tr th:only-of-type {\n        vertical-align: middle;\n    }\n\n    .dataframe tbody tr th {\n        vertical-align: top;\n    }\n\n    .dataframe thead th {\n        text-align: right;\n    }\n</style>\n<table border=\"1\" class=\"dataframe\">\n  <thead>\n    <tr style=\"text-align: right;\">\n      <th></th>\n      <th>tz</th>\n      <th>os</th>\n      <th>total</th>\n    </tr>\n  </thead>\n  <tbody>\n    <tr>\n      <th>0</th>\n      <td>America/Sao_Paulo</td>\n      <td>Not Windows</td>\n      <td>13.0</td>\n    </tr>\n    <tr>\n      <th>1</th>\n      <td>America/Sao_Paulo</td>\n      <td>Windows</td>\n      <td>20.0</td>\n    </tr>\n    <tr>\n      <th>2</th>\n      <td>Europe/Madrid</td>\n      <td>Not Windows</td>\n      <td>16.0</td>\n    </tr>\n    <tr>\n      <th>3</th>\n      <td>Europe/Madrid</td>\n      <td>Windows</td>\n      <td>19.0</td>\n    </tr>\n    <tr>\n      <th>4</th>\n      <td>Pacific/Honolulu</td>\n      <td>Not Windows</td>\n      <td>0.0</td>\n    </tr>\n  </tbody>\n</table>\n</div>"
     },
     "execution_count": 29,
     "metadata": {},
     "output_type": "execute_result"
    }
   ],
   "source": [
    "count_subset.head()"
   ],
   "metadata": {
    "collapsed": false,
    "pycharm": {
     "name": "#%%\n"
    }
   }
  },
  {
   "cell_type": "code",
   "execution_count": 30,
   "outputs": [
    {
     "data": {
      "text/plain": "0     0.393939\n1     0.606061\n2     0.457143\n3     0.542857\n4     0.000000\n5     1.000000\n6     0.054054\n7     0.945946\n8     0.581081\n9     0.418919\n10    0.691099\n11    0.308901\n12    0.340314\n13    0.659686\n14    0.287500\n15    0.712500\n16    0.470250\n17    0.529750\n18    0.270983\n19    0.729017\nName: total, dtype: float64"
     },
     "execution_count": 30,
     "metadata": {},
     "output_type": "execute_result"
    }
   ],
   "source": [
    "# 可以通过transform和groupby方法有效地计算归一化只和\n",
    "g = count_subset.groupby('tz')\n",
    "results2 = count_subset.total / g.total.transform('sum')\n",
    "results2"
   ],
   "metadata": {
    "collapsed": false,
    "pycharm": {
     "name": "#%%\n"
    }
   }
  },
  {
   "cell_type": "markdown",
   "source": [
    "## 14.2 MovieLens 1M数据集\n",
    "MovieLens 1M数据集包含了6000用户对4000部电影的100万个评分，数据分布在三个个表格中：评分，用户信息和电影信息"
   ],
   "metadata": {
    "collapsed": false,
    "pycharm": {
     "name": "#%% md\n"
    }
   }
  },
  {
   "cell_type": "code",
   "execution_count": 31,
   "outputs": [],
   "source": [
    "# 展示内容设置为10行\n",
    "pd.options.display.max_rows = 10\n",
    "# 读取用户数据\n",
    "user_names = ['user_id', 'gender', 'age', 'occupation', 'zip']\n",
    "users = pd.read_table('./examples/users.dat',\n",
    "                      sep='::',\n",
    "                      header=None,\n",
    "                      names=user_names,\n",
    "                      engine='python')\n",
    "# 读取评分数据\n",
    "rate_names = ['user_id', 'movie_id', 'rating', 'timestamp']\n",
    "ratings = pd.read_table('./examples/ratings.dat',\n",
    "                        sep='::',\n",
    "                        header=None,\n",
    "                        names=rate_names,\n",
    "                        engine='python')\n",
    "# 读取电影数据\n",
    "movie_names = ['movie_id', 'title', 'genres']\n",
    "movies = pd.read_table('./examples/movies.dat',\n",
    "                       sep='::',\n",
    "                       header=None,\n",
    "                       names=movie_names,\n",
    "                       engine='python')"
   ],
   "metadata": {
    "collapsed": false,
    "pycharm": {
     "name": "#%%\n"
    }
   }
  },
  {
   "cell_type": "code",
   "execution_count": 32,
   "outputs": [
    {
     "data": {
      "text/plain": "   user_id gender  age  occupation    zip\n0        1      F    1          10  48067\n1        2      M   56          16  70072\n2        3      M   25          15  55117\n3        4      M   45           7  02460\n4        5      M   25          20  55455",
      "text/html": "<div>\n<style scoped>\n    .dataframe tbody tr th:only-of-type {\n        vertical-align: middle;\n    }\n\n    .dataframe tbody tr th {\n        vertical-align: top;\n    }\n\n    .dataframe thead th {\n        text-align: right;\n    }\n</style>\n<table border=\"1\" class=\"dataframe\">\n  <thead>\n    <tr style=\"text-align: right;\">\n      <th></th>\n      <th>user_id</th>\n      <th>gender</th>\n      <th>age</th>\n      <th>occupation</th>\n      <th>zip</th>\n    </tr>\n  </thead>\n  <tbody>\n    <tr>\n      <th>0</th>\n      <td>1</td>\n      <td>F</td>\n      <td>1</td>\n      <td>10</td>\n      <td>48067</td>\n    </tr>\n    <tr>\n      <th>1</th>\n      <td>2</td>\n      <td>M</td>\n      <td>56</td>\n      <td>16</td>\n      <td>70072</td>\n    </tr>\n    <tr>\n      <th>2</th>\n      <td>3</td>\n      <td>M</td>\n      <td>25</td>\n      <td>15</td>\n      <td>55117</td>\n    </tr>\n    <tr>\n      <th>3</th>\n      <td>4</td>\n      <td>M</td>\n      <td>45</td>\n      <td>7</td>\n      <td>02460</td>\n    </tr>\n    <tr>\n      <th>4</th>\n      <td>5</td>\n      <td>M</td>\n      <td>25</td>\n      <td>20</td>\n      <td>55455</td>\n    </tr>\n  </tbody>\n</table>\n</div>"
     },
     "execution_count": 32,
     "metadata": {},
     "output_type": "execute_result"
    }
   ],
   "source": [
    "users[:5]\n",
    "# 年龄职业都是编码"
   ],
   "metadata": {
    "collapsed": false,
    "pycharm": {
     "name": "#%%\n"
    }
   }
  },
  {
   "cell_type": "code",
   "execution_count": 33,
   "outputs": [
    {
     "data": {
      "text/plain": "   user_id  movie_id  rating  timestamp\n0        1      1193       5  978300760\n1        1       661       3  978302109\n2        1       914       3  978301968\n3        1      3408       4  978300275\n4        1      2355       5  978824291",
      "text/html": "<div>\n<style scoped>\n    .dataframe tbody tr th:only-of-type {\n        vertical-align: middle;\n    }\n\n    .dataframe tbody tr th {\n        vertical-align: top;\n    }\n\n    .dataframe thead th {\n        text-align: right;\n    }\n</style>\n<table border=\"1\" class=\"dataframe\">\n  <thead>\n    <tr style=\"text-align: right;\">\n      <th></th>\n      <th>user_id</th>\n      <th>movie_id</th>\n      <th>rating</th>\n      <th>timestamp</th>\n    </tr>\n  </thead>\n  <tbody>\n    <tr>\n      <th>0</th>\n      <td>1</td>\n      <td>1193</td>\n      <td>5</td>\n      <td>978300760</td>\n    </tr>\n    <tr>\n      <th>1</th>\n      <td>1</td>\n      <td>661</td>\n      <td>3</td>\n      <td>978302109</td>\n    </tr>\n    <tr>\n      <th>2</th>\n      <td>1</td>\n      <td>914</td>\n      <td>3</td>\n      <td>978301968</td>\n    </tr>\n    <tr>\n      <th>3</th>\n      <td>1</td>\n      <td>3408</td>\n      <td>4</td>\n      <td>978300275</td>\n    </tr>\n    <tr>\n      <th>4</th>\n      <td>1</td>\n      <td>2355</td>\n      <td>5</td>\n      <td>978824291</td>\n    </tr>\n  </tbody>\n</table>\n</div>"
     },
     "execution_count": 33,
     "metadata": {},
     "output_type": "execute_result"
    }
   ],
   "source": [
    "ratings[:5]"
   ],
   "metadata": {
    "collapsed": false,
    "pycharm": {
     "name": "#%%\n"
    }
   }
  },
  {
   "cell_type": "code",
   "execution_count": 34,
   "outputs": [
    {
     "data": {
      "text/plain": "   movie_id                               title                        genres\n0         1                    Toy Story (1995)   Animation|Children's|Comedy\n1         2                      Jumanji (1995)  Adventure|Children's|Fantasy\n2         3             Grumpier Old Men (1995)                Comedy|Romance\n3         4            Waiting to Exhale (1995)                  Comedy|Drama\n4         5  Father of the Bride Part II (1995)                        Comedy",
      "text/html": "<div>\n<style scoped>\n    .dataframe tbody tr th:only-of-type {\n        vertical-align: middle;\n    }\n\n    .dataframe tbody tr th {\n        vertical-align: top;\n    }\n\n    .dataframe thead th {\n        text-align: right;\n    }\n</style>\n<table border=\"1\" class=\"dataframe\">\n  <thead>\n    <tr style=\"text-align: right;\">\n      <th></th>\n      <th>movie_id</th>\n      <th>title</th>\n      <th>genres</th>\n    </tr>\n  </thead>\n  <tbody>\n    <tr>\n      <th>0</th>\n      <td>1</td>\n      <td>Toy Story (1995)</td>\n      <td>Animation|Children's|Comedy</td>\n    </tr>\n    <tr>\n      <th>1</th>\n      <td>2</td>\n      <td>Jumanji (1995)</td>\n      <td>Adventure|Children's|Fantasy</td>\n    </tr>\n    <tr>\n      <th>2</th>\n      <td>3</td>\n      <td>Grumpier Old Men (1995)</td>\n      <td>Comedy|Romance</td>\n    </tr>\n    <tr>\n      <th>3</th>\n      <td>4</td>\n      <td>Waiting to Exhale (1995)</td>\n      <td>Comedy|Drama</td>\n    </tr>\n    <tr>\n      <th>4</th>\n      <td>5</td>\n      <td>Father of the Bride Part II (1995)</td>\n      <td>Comedy</td>\n    </tr>\n  </tbody>\n</table>\n</div>"
     },
     "execution_count": 34,
     "metadata": {},
     "output_type": "execute_result"
    }
   ],
   "source": [
    "movies[:5]"
   ],
   "metadata": {
    "collapsed": false,
    "pycharm": {
     "name": "#%%\n"
    }
   }
  },
  {
   "cell_type": "code",
   "execution_count": 35,
   "outputs": [
    {
     "data": {
      "text/plain": "   user_id gender  age  occupation    zip  movie_id  rating  timestamp  \\\n0        1      F    1          10  48067      1193       5  978300760   \n1        2      M   56          16  70072      1193       5  978298413   \n2       12      M   25          12  32793      1193       4  978220179   \n3       15      M   25           7  22903      1193       4  978199279   \n4       17      M   50           1  95350      1193       5  978158471   \n\n                                    title genres  \n0  One Flew Over the Cuckoo's Nest (1975)  Drama  \n1  One Flew Over the Cuckoo's Nest (1975)  Drama  \n2  One Flew Over the Cuckoo's Nest (1975)  Drama  \n3  One Flew Over the Cuckoo's Nest (1975)  Drama  \n4  One Flew Over the Cuckoo's Nest (1975)  Drama  ",
      "text/html": "<div>\n<style scoped>\n    .dataframe tbody tr th:only-of-type {\n        vertical-align: middle;\n    }\n\n    .dataframe tbody tr th {\n        vertical-align: top;\n    }\n\n    .dataframe thead th {\n        text-align: right;\n    }\n</style>\n<table border=\"1\" class=\"dataframe\">\n  <thead>\n    <tr style=\"text-align: right;\">\n      <th></th>\n      <th>user_id</th>\n      <th>gender</th>\n      <th>age</th>\n      <th>occupation</th>\n      <th>zip</th>\n      <th>movie_id</th>\n      <th>rating</th>\n      <th>timestamp</th>\n      <th>title</th>\n      <th>genres</th>\n    </tr>\n  </thead>\n  <tbody>\n    <tr>\n      <th>0</th>\n      <td>1</td>\n      <td>F</td>\n      <td>1</td>\n      <td>10</td>\n      <td>48067</td>\n      <td>1193</td>\n      <td>5</td>\n      <td>978300760</td>\n      <td>One Flew Over the Cuckoo's Nest (1975)</td>\n      <td>Drama</td>\n    </tr>\n    <tr>\n      <th>1</th>\n      <td>2</td>\n      <td>M</td>\n      <td>56</td>\n      <td>16</td>\n      <td>70072</td>\n      <td>1193</td>\n      <td>5</td>\n      <td>978298413</td>\n      <td>One Flew Over the Cuckoo's Nest (1975)</td>\n      <td>Drama</td>\n    </tr>\n    <tr>\n      <th>2</th>\n      <td>12</td>\n      <td>M</td>\n      <td>25</td>\n      <td>12</td>\n      <td>32793</td>\n      <td>1193</td>\n      <td>4</td>\n      <td>978220179</td>\n      <td>One Flew Over the Cuckoo's Nest (1975)</td>\n      <td>Drama</td>\n    </tr>\n    <tr>\n      <th>3</th>\n      <td>15</td>\n      <td>M</td>\n      <td>25</td>\n      <td>7</td>\n      <td>22903</td>\n      <td>1193</td>\n      <td>4</td>\n      <td>978199279</td>\n      <td>One Flew Over the Cuckoo's Nest (1975)</td>\n      <td>Drama</td>\n    </tr>\n    <tr>\n      <th>4</th>\n      <td>17</td>\n      <td>M</td>\n      <td>50</td>\n      <td>1</td>\n      <td>95350</td>\n      <td>1193</td>\n      <td>5</td>\n      <td>978158471</td>\n      <td>One Flew Over the Cuckoo's Nest (1975)</td>\n      <td>Drama</td>\n    </tr>\n  </tbody>\n</table>\n</div>"
     },
     "execution_count": 35,
     "metadata": {},
     "output_type": "execute_result"
    }
   ],
   "source": [
    "# 要分析数据，首先将3份数据合并到一起\n",
    "data = pd.merge(pd.merge(users, ratings), movies)\n",
    "data[:5]"
   ],
   "metadata": {
    "collapsed": false,
    "pycharm": {
     "name": "#%%\n"
    }
   }
  },
  {
   "cell_type": "code",
   "execution_count": 36,
   "outputs": [
    {
     "data": {
      "text/plain": "       user_id gender  age  occupation    zip  movie_id  rating  timestamp  \\\n41626        1      F    1          10  48067         1       5  978824268   \n41627        6      F   50           9  55117         1       4  978237008   \n41628        8      M   25          12  11413         1       4  978233496   \n41629        9      M   25          17  61614         1       5  978225952   \n41630       10      F   35           1  95370         1       5  978226474   \n...        ...    ...  ...         ...    ...       ...     ...        ...   \n43698     6022      M   25          17  57006         1       5  956755763   \n43699     6025      F   25           1  32607         1       5  956812867   \n43700     6032      M   45           7  55108         1       4  956718127   \n43701     6035      F   25           1  78734         1       4  956712849   \n43702     6040      M   25           6  11106         1       3  957717358   \n\n                  title                       genres  \n41626  Toy Story (1995)  Animation|Children's|Comedy  \n41627  Toy Story (1995)  Animation|Children's|Comedy  \n41628  Toy Story (1995)  Animation|Children's|Comedy  \n41629  Toy Story (1995)  Animation|Children's|Comedy  \n41630  Toy Story (1995)  Animation|Children's|Comedy  \n...                 ...                          ...  \n43698  Toy Story (1995)  Animation|Children's|Comedy  \n43699  Toy Story (1995)  Animation|Children's|Comedy  \n43700  Toy Story (1995)  Animation|Children's|Comedy  \n43701  Toy Story (1995)  Animation|Children's|Comedy  \n43702  Toy Story (1995)  Animation|Children's|Comedy  \n\n[2077 rows x 10 columns]",
      "text/html": "<div>\n<style scoped>\n    .dataframe tbody tr th:only-of-type {\n        vertical-align: middle;\n    }\n\n    .dataframe tbody tr th {\n        vertical-align: top;\n    }\n\n    .dataframe thead th {\n        text-align: right;\n    }\n</style>\n<table border=\"1\" class=\"dataframe\">\n  <thead>\n    <tr style=\"text-align: right;\">\n      <th></th>\n      <th>user_id</th>\n      <th>gender</th>\n      <th>age</th>\n      <th>occupation</th>\n      <th>zip</th>\n      <th>movie_id</th>\n      <th>rating</th>\n      <th>timestamp</th>\n      <th>title</th>\n      <th>genres</th>\n    </tr>\n  </thead>\n  <tbody>\n    <tr>\n      <th>41626</th>\n      <td>1</td>\n      <td>F</td>\n      <td>1</td>\n      <td>10</td>\n      <td>48067</td>\n      <td>1</td>\n      <td>5</td>\n      <td>978824268</td>\n      <td>Toy Story (1995)</td>\n      <td>Animation|Children's|Comedy</td>\n    </tr>\n    <tr>\n      <th>41627</th>\n      <td>6</td>\n      <td>F</td>\n      <td>50</td>\n      <td>9</td>\n      <td>55117</td>\n      <td>1</td>\n      <td>4</td>\n      <td>978237008</td>\n      <td>Toy Story (1995)</td>\n      <td>Animation|Children's|Comedy</td>\n    </tr>\n    <tr>\n      <th>41628</th>\n      <td>8</td>\n      <td>M</td>\n      <td>25</td>\n      <td>12</td>\n      <td>11413</td>\n      <td>1</td>\n      <td>4</td>\n      <td>978233496</td>\n      <td>Toy Story (1995)</td>\n      <td>Animation|Children's|Comedy</td>\n    </tr>\n    <tr>\n      <th>41629</th>\n      <td>9</td>\n      <td>M</td>\n      <td>25</td>\n      <td>17</td>\n      <td>61614</td>\n      <td>1</td>\n      <td>5</td>\n      <td>978225952</td>\n      <td>Toy Story (1995)</td>\n      <td>Animation|Children's|Comedy</td>\n    </tr>\n    <tr>\n      <th>41630</th>\n      <td>10</td>\n      <td>F</td>\n      <td>35</td>\n      <td>1</td>\n      <td>95370</td>\n      <td>1</td>\n      <td>5</td>\n      <td>978226474</td>\n      <td>Toy Story (1995)</td>\n      <td>Animation|Children's|Comedy</td>\n    </tr>\n    <tr>\n      <th>...</th>\n      <td>...</td>\n      <td>...</td>\n      <td>...</td>\n      <td>...</td>\n      <td>...</td>\n      <td>...</td>\n      <td>...</td>\n      <td>...</td>\n      <td>...</td>\n      <td>...</td>\n    </tr>\n    <tr>\n      <th>43698</th>\n      <td>6022</td>\n      <td>M</td>\n      <td>25</td>\n      <td>17</td>\n      <td>57006</td>\n      <td>1</td>\n      <td>5</td>\n      <td>956755763</td>\n      <td>Toy Story (1995)</td>\n      <td>Animation|Children's|Comedy</td>\n    </tr>\n    <tr>\n      <th>43699</th>\n      <td>6025</td>\n      <td>F</td>\n      <td>25</td>\n      <td>1</td>\n      <td>32607</td>\n      <td>1</td>\n      <td>5</td>\n      <td>956812867</td>\n      <td>Toy Story (1995)</td>\n      <td>Animation|Children's|Comedy</td>\n    </tr>\n    <tr>\n      <th>43700</th>\n      <td>6032</td>\n      <td>M</td>\n      <td>45</td>\n      <td>7</td>\n      <td>55108</td>\n      <td>1</td>\n      <td>4</td>\n      <td>956718127</td>\n      <td>Toy Story (1995)</td>\n      <td>Animation|Children's|Comedy</td>\n    </tr>\n    <tr>\n      <th>43701</th>\n      <td>6035</td>\n      <td>F</td>\n      <td>25</td>\n      <td>1</td>\n      <td>78734</td>\n      <td>1</td>\n      <td>4</td>\n      <td>956712849</td>\n      <td>Toy Story (1995)</td>\n      <td>Animation|Children's|Comedy</td>\n    </tr>\n    <tr>\n      <th>43702</th>\n      <td>6040</td>\n      <td>M</td>\n      <td>25</td>\n      <td>6</td>\n      <td>11106</td>\n      <td>1</td>\n      <td>3</td>\n      <td>957717358</td>\n      <td>Toy Story (1995)</td>\n      <td>Animation|Children's|Comedy</td>\n    </tr>\n  </tbody>\n</table>\n<p>2077 rows × 10 columns</p>\n</div>"
     },
     "execution_count": 36,
     "metadata": {},
     "output_type": "execute_result"
    }
   ],
   "source": [
    "data.loc[data.title == 'Toy Story (1995)']"
   ],
   "metadata": {
    "collapsed": false,
    "pycharm": {
     "name": "#%%\n"
    }
   }
  },
  {
   "cell_type": "code",
   "execution_count": 37,
   "outputs": [
    {
     "data": {
      "text/plain": "gender                                F         M\ntitle                                            \n$1,000,000 Duck (1971)         3.375000  2.761905\n'Night Mother (1986)           3.388889  3.352941\n'Til There Was You (1997)      2.675676  2.733333\n'burbs, The (1989)             2.793478  2.962085\n...And Justice for All (1979)  3.828571  3.689024",
      "text/html": "<div>\n<style scoped>\n    .dataframe tbody tr th:only-of-type {\n        vertical-align: middle;\n    }\n\n    .dataframe tbody tr th {\n        vertical-align: top;\n    }\n\n    .dataframe thead th {\n        text-align: right;\n    }\n</style>\n<table border=\"1\" class=\"dataframe\">\n  <thead>\n    <tr style=\"text-align: right;\">\n      <th>gender</th>\n      <th>F</th>\n      <th>M</th>\n    </tr>\n    <tr>\n      <th>title</th>\n      <th></th>\n      <th></th>\n    </tr>\n  </thead>\n  <tbody>\n    <tr>\n      <th>$1,000,000 Duck (1971)</th>\n      <td>3.375000</td>\n      <td>2.761905</td>\n    </tr>\n    <tr>\n      <th>'Night Mother (1986)</th>\n      <td>3.388889</td>\n      <td>3.352941</td>\n    </tr>\n    <tr>\n      <th>'Til There Was You (1997)</th>\n      <td>2.675676</td>\n      <td>2.733333</td>\n    </tr>\n    <tr>\n      <th>'burbs, The (1989)</th>\n      <td>2.793478</td>\n      <td>2.962085</td>\n    </tr>\n    <tr>\n      <th>...And Justice for All (1979)</th>\n      <td>3.828571</td>\n      <td>3.689024</td>\n    </tr>\n  </tbody>\n</table>\n</div>"
     },
     "execution_count": 37,
     "metadata": {},
     "output_type": "execute_result"
    }
   ],
   "source": [
    "# 为了获得性别分级的每部电影的平均电影评分，使用pivot_table方法\n",
    "mean_rating = data.pivot_table('rating', index='title', columns='gender', aggfunc='mean')\n",
    "mean_rating[:5]"
   ],
   "metadata": {
    "collapsed": false,
    "pycharm": {
     "name": "#%%\n"
    }
   }
  },
  {
   "cell_type": "code",
   "execution_count": 38,
   "outputs": [
    {
     "data": {
      "text/plain": "title\n$1,000,000 Duck (1971)            37\n'Night Mother (1986)              70\n'Til There Was You (1997)         52\n'burbs, The (1989)               303\n...And Justice for All (1979)    199\ndtype: int64"
     },
     "execution_count": 38,
     "metadata": {},
     "output_type": "execute_result"
    }
   ],
   "source": [
    "# 过滤掉评分较少的电影\n",
    "rating_count = data.groupby('title').size()\n",
    "rating_count[:5]"
   ],
   "metadata": {
    "collapsed": false,
    "pycharm": {
     "name": "#%%\n"
    }
   }
  },
  {
   "cell_type": "code",
   "execution_count": 39,
   "outputs": [
    {
     "data": {
      "text/plain": "Index([''burbs, The (1989)', '10 Things I Hate About You (1999)',\n       '101 Dalmatians (1961)', '101 Dalmatians (1996)',\n       '12 Angry Men (1957)'],\n      dtype='object', name='title')"
     },
     "execution_count": 39,
     "metadata": {},
     "output_type": "execute_result"
    }
   ],
   "source": [
    "active_titles = rating_count.index[rating_count.values >= 250]\n",
    "active_titles[:5]"
   ],
   "metadata": {
    "collapsed": false,
    "pycharm": {
     "name": "#%%\n"
    }
   }
  },
  {
   "cell_type": "code",
   "execution_count": 40,
   "outputs": [
    {
     "data": {
      "text/plain": "gender                                      F         M\ntitle                                                  \n'burbs, The (1989)                   2.793478  2.962085\n10 Things I Hate About You (1999)    3.646552  3.311966\n101 Dalmatians (1961)                3.791444  3.500000\n101 Dalmatians (1996)                3.240000  2.911215\n12 Angry Men (1957)                  4.184397  4.328421\n13th Warrior, The (1999)             3.112000  3.168000\n2 Days in the Valley (1996)          3.488889  3.244813\n20,000 Leagues Under the Sea (1954)  3.670103  3.709205\n2001: A Space Odyssey (1968)         3.825581  4.129738\n2010 (1984)                          3.446809  3.413712",
      "text/html": "<div>\n<style scoped>\n    .dataframe tbody tr th:only-of-type {\n        vertical-align: middle;\n    }\n\n    .dataframe tbody tr th {\n        vertical-align: top;\n    }\n\n    .dataframe thead th {\n        text-align: right;\n    }\n</style>\n<table border=\"1\" class=\"dataframe\">\n  <thead>\n    <tr style=\"text-align: right;\">\n      <th>gender</th>\n      <th>F</th>\n      <th>M</th>\n    </tr>\n    <tr>\n      <th>title</th>\n      <th></th>\n      <th></th>\n    </tr>\n  </thead>\n  <tbody>\n    <tr>\n      <th>'burbs, The (1989)</th>\n      <td>2.793478</td>\n      <td>2.962085</td>\n    </tr>\n    <tr>\n      <th>10 Things I Hate About You (1999)</th>\n      <td>3.646552</td>\n      <td>3.311966</td>\n    </tr>\n    <tr>\n      <th>101 Dalmatians (1961)</th>\n      <td>3.791444</td>\n      <td>3.500000</td>\n    </tr>\n    <tr>\n      <th>101 Dalmatians (1996)</th>\n      <td>3.240000</td>\n      <td>2.911215</td>\n    </tr>\n    <tr>\n      <th>12 Angry Men (1957)</th>\n      <td>4.184397</td>\n      <td>4.328421</td>\n    </tr>\n    <tr>\n      <th>13th Warrior, The (1999)</th>\n      <td>3.112000</td>\n      <td>3.168000</td>\n    </tr>\n    <tr>\n      <th>2 Days in the Valley (1996)</th>\n      <td>3.488889</td>\n      <td>3.244813</td>\n    </tr>\n    <tr>\n      <th>20,000 Leagues Under the Sea (1954)</th>\n      <td>3.670103</td>\n      <td>3.709205</td>\n    </tr>\n    <tr>\n      <th>2001: A Space Odyssey (1968)</th>\n      <td>3.825581</td>\n      <td>4.129738</td>\n    </tr>\n    <tr>\n      <th>2010 (1984)</th>\n      <td>3.446809</td>\n      <td>3.413712</td>\n    </tr>\n  </tbody>\n</table>\n</div>"
     },
     "execution_count": 40,
     "metadata": {},
     "output_type": "execute_result"
    }
   ],
   "source": [
    "# 获取评分大于等于250个的电影平均评分\n",
    "mean_rating = mean_rating.loc[active_titles]\n",
    "mean_rating[:10]"
   ],
   "metadata": {
    "collapsed": false,
    "pycharm": {
     "name": "#%%\n"
    }
   }
  },
  {
   "cell_type": "code",
   "execution_count": 41,
   "outputs": [
    {
     "data": {
      "text/plain": "                                            F         M  rating_count\ntitle                                                                \n'burbs, The (1989)                   2.793478  2.962085           303\n10 Things I Hate About You (1999)    3.646552  3.311966           700\n101 Dalmatians (1961)                3.791444  3.500000           565\n101 Dalmatians (1996)                3.240000  2.911215           364\n12 Angry Men (1957)                  4.184397  4.328421           616\n13th Warrior, The (1999)             3.112000  3.168000           750\n2 Days in the Valley (1996)          3.488889  3.244813           286\n20,000 Leagues Under the Sea (1954)  3.670103  3.709205           575\n2001: A Space Odyssey (1968)         3.825581  4.129738          1716\n2010 (1984)                          3.446809  3.413712           470",
      "text/html": "<div>\n<style scoped>\n    .dataframe tbody tr th:only-of-type {\n        vertical-align: middle;\n    }\n\n    .dataframe tbody tr th {\n        vertical-align: top;\n    }\n\n    .dataframe thead th {\n        text-align: right;\n    }\n</style>\n<table border=\"1\" class=\"dataframe\">\n  <thead>\n    <tr style=\"text-align: right;\">\n      <th></th>\n      <th>F</th>\n      <th>M</th>\n      <th>rating_count</th>\n    </tr>\n    <tr>\n      <th>title</th>\n      <th></th>\n      <th></th>\n      <th></th>\n    </tr>\n  </thead>\n  <tbody>\n    <tr>\n      <th>'burbs, The (1989)</th>\n      <td>2.793478</td>\n      <td>2.962085</td>\n      <td>303</td>\n    </tr>\n    <tr>\n      <th>10 Things I Hate About You (1999)</th>\n      <td>3.646552</td>\n      <td>3.311966</td>\n      <td>700</td>\n    </tr>\n    <tr>\n      <th>101 Dalmatians (1961)</th>\n      <td>3.791444</td>\n      <td>3.500000</td>\n      <td>565</td>\n    </tr>\n    <tr>\n      <th>101 Dalmatians (1996)</th>\n      <td>3.240000</td>\n      <td>2.911215</td>\n      <td>364</td>\n    </tr>\n    <tr>\n      <th>12 Angry Men (1957)</th>\n      <td>4.184397</td>\n      <td>4.328421</td>\n      <td>616</td>\n    </tr>\n    <tr>\n      <th>13th Warrior, The (1999)</th>\n      <td>3.112000</td>\n      <td>3.168000</td>\n      <td>750</td>\n    </tr>\n    <tr>\n      <th>2 Days in the Valley (1996)</th>\n      <td>3.488889</td>\n      <td>3.244813</td>\n      <td>286</td>\n    </tr>\n    <tr>\n      <th>20,000 Leagues Under the Sea (1954)</th>\n      <td>3.670103</td>\n      <td>3.709205</td>\n      <td>575</td>\n    </tr>\n    <tr>\n      <th>2001: A Space Odyssey (1968)</th>\n      <td>3.825581</td>\n      <td>4.129738</td>\n      <td>1716</td>\n    </tr>\n    <tr>\n      <th>2010 (1984)</th>\n      <td>3.446809</td>\n      <td>3.413712</td>\n      <td>470</td>\n    </tr>\n  </tbody>\n</table>\n</div>"
     },
     "execution_count": 41,
     "metadata": {},
     "output_type": "execute_result"
    }
   ],
   "source": [
    "# 通过join方式实现\n",
    "# 首先获取评分数量大于等于250的电影\n",
    "rating_250 = rating_count[rating_count.values >= 250]\n",
    "rating_250.name = 'rating_count'\n",
    "mean_rating_250 = mean_rating.join(rating_250, on='title')\n",
    "mean_rating_250[:10]"
   ],
   "metadata": {
    "collapsed": false,
    "pycharm": {
     "name": "#%%\n"
    }
   }
  },
  {
   "cell_type": "code",
   "execution_count": 42,
   "outputs": [
    {
     "data": {
      "text/plain": "                                            F         M  rating_count\ntitle                                                                \n'burbs, The (1989)                   2.793478  2.962085           303\n10 Things I Hate About You (1999)    3.646552  3.311966           700\n101 Dalmatians (1961)                3.791444  3.500000           565\n101 Dalmatians (1996)                3.240000  2.911215           364\n12 Angry Men (1957)                  4.184397  4.328421           616\n13th Warrior, The (1999)             3.112000  3.168000           750\n2 Days in the Valley (1996)          3.488889  3.244813           286\n20,000 Leagues Under the Sea (1954)  3.670103  3.709205           575\n2001: A Space Odyssey (1968)         3.825581  4.129738          1716\n2010 (1984)                          3.446809  3.413712           470",
      "text/html": "<div>\n<style scoped>\n    .dataframe tbody tr th:only-of-type {\n        vertical-align: middle;\n    }\n\n    .dataframe tbody tr th {\n        vertical-align: top;\n    }\n\n    .dataframe thead th {\n        text-align: right;\n    }\n</style>\n<table border=\"1\" class=\"dataframe\">\n  <thead>\n    <tr style=\"text-align: right;\">\n      <th></th>\n      <th>F</th>\n      <th>M</th>\n      <th>rating_count</th>\n    </tr>\n    <tr>\n      <th>title</th>\n      <th></th>\n      <th></th>\n      <th></th>\n    </tr>\n  </thead>\n  <tbody>\n    <tr>\n      <th>'burbs, The (1989)</th>\n      <td>2.793478</td>\n      <td>2.962085</td>\n      <td>303</td>\n    </tr>\n    <tr>\n      <th>10 Things I Hate About You (1999)</th>\n      <td>3.646552</td>\n      <td>3.311966</td>\n      <td>700</td>\n    </tr>\n    <tr>\n      <th>101 Dalmatians (1961)</th>\n      <td>3.791444</td>\n      <td>3.500000</td>\n      <td>565</td>\n    </tr>\n    <tr>\n      <th>101 Dalmatians (1996)</th>\n      <td>3.240000</td>\n      <td>2.911215</td>\n      <td>364</td>\n    </tr>\n    <tr>\n      <th>12 Angry Men (1957)</th>\n      <td>4.184397</td>\n      <td>4.328421</td>\n      <td>616</td>\n    </tr>\n    <tr>\n      <th>13th Warrior, The (1999)</th>\n      <td>3.112000</td>\n      <td>3.168000</td>\n      <td>750</td>\n    </tr>\n    <tr>\n      <th>2 Days in the Valley (1996)</th>\n      <td>3.488889</td>\n      <td>3.244813</td>\n      <td>286</td>\n    </tr>\n    <tr>\n      <th>20,000 Leagues Under the Sea (1954)</th>\n      <td>3.670103</td>\n      <td>3.709205</td>\n      <td>575</td>\n    </tr>\n    <tr>\n      <th>2001: A Space Odyssey (1968)</th>\n      <td>3.825581</td>\n      <td>4.129738</td>\n      <td>1716</td>\n    </tr>\n    <tr>\n      <th>2010 (1984)</th>\n      <td>3.446809</td>\n      <td>3.413712</td>\n      <td>470</td>\n    </tr>\n  </tbody>\n</table>\n</div>"
     },
     "execution_count": 42,
     "metadata": {},
     "output_type": "execute_result"
    }
   ],
   "source": [
    "# 通过merge方式实现\n",
    "mean_rating_merge = pd.merge(mean_rating, rating_250, left_index=True, right_index=True)\n",
    "mean_rating_merge[:10]"
   ],
   "metadata": {
    "collapsed": false,
    "pycharm": {
     "name": "#%%\n"
    }
   }
  },
  {
   "cell_type": "code",
   "execution_count": 43,
   "outputs": [
    {
     "data": {
      "text/plain": "gender                                                     F         M\ntitle                                                                 \nClose Shave, A (1995)                               4.644444  4.473795\nWrong Trousers, The (1993)                          4.588235  4.478261\nSunset Blvd. (a.k.a. Sunset Boulevard) (1950)       4.572650  4.464589\nWallace & Gromit: The Best of Aardman Animation...  4.563107  4.385075\nSchindler's List (1993)                             4.562602  4.491415",
      "text/html": "<div>\n<style scoped>\n    .dataframe tbody tr th:only-of-type {\n        vertical-align: middle;\n    }\n\n    .dataframe tbody tr th {\n        vertical-align: top;\n    }\n\n    .dataframe thead th {\n        text-align: right;\n    }\n</style>\n<table border=\"1\" class=\"dataframe\">\n  <thead>\n    <tr style=\"text-align: right;\">\n      <th>gender</th>\n      <th>F</th>\n      <th>M</th>\n    </tr>\n    <tr>\n      <th>title</th>\n      <th></th>\n      <th></th>\n    </tr>\n  </thead>\n  <tbody>\n    <tr>\n      <th>Close Shave, A (1995)</th>\n      <td>4.644444</td>\n      <td>4.473795</td>\n    </tr>\n    <tr>\n      <th>Wrong Trousers, The (1993)</th>\n      <td>4.588235</td>\n      <td>4.478261</td>\n    </tr>\n    <tr>\n      <th>Sunset Blvd. (a.k.a. Sunset Boulevard) (1950)</th>\n      <td>4.572650</td>\n      <td>4.464589</td>\n    </tr>\n    <tr>\n      <th>Wallace &amp; Gromit: The Best of Aardman Animation (1996)</th>\n      <td>4.563107</td>\n      <td>4.385075</td>\n    </tr>\n    <tr>\n      <th>Schindler's List (1993)</th>\n      <td>4.562602</td>\n      <td>4.491415</td>\n    </tr>\n  </tbody>\n</table>\n</div>"
     },
     "execution_count": 43,
     "metadata": {},
     "output_type": "execute_result"
    }
   ],
   "source": [
    "# 查看女性评分排名\n",
    "top_female_ratings = mean_rating.sort_values(by='F', ascending=False)\n",
    "top_female_ratings[:5]"
   ],
   "metadata": {
    "collapsed": false,
    "pycharm": {
     "name": "#%%\n"
    }
   }
  },
  {
   "cell_type": "markdown",
   "source": [
    "### 14.2.1 测量评价分歧\n",
    "男性与女性评分平均值差别最大的电影"
   ],
   "metadata": {
    "collapsed": false,
    "pycharm": {
     "name": "#%% md\n"
    }
   }
  },
  {
   "cell_type": "code",
   "execution_count": 44,
   "outputs": [
    {
     "data": {
      "text/plain": "gender                                        F         M      diff\ntitle                                                              \nDirty Dancing (1987)                   3.790378  2.959596 -0.830782\nJumpin' Jack Flash (1986)              3.254717  2.578358 -0.676359\nGrease (1978)                          3.975265  3.367041 -0.608224\nLittle Women (1994)                    3.870588  3.321739 -0.548849\nSteel Magnolias (1989)                 3.901734  3.365957 -0.535777\nAnastasia (1997)                       3.800000  3.281609 -0.518391\nRocky Horror Picture Show, The (1975)  3.673016  3.160131 -0.512885\nColor Purple, The (1985)               4.158192  3.659341 -0.498851\nAge of Innocence, The (1993)           3.827068  3.339506 -0.487561\nFree Willy (1993)                      2.921348  2.438776 -0.482573",
      "text/html": "<div>\n<style scoped>\n    .dataframe tbody tr th:only-of-type {\n        vertical-align: middle;\n    }\n\n    .dataframe tbody tr th {\n        vertical-align: top;\n    }\n\n    .dataframe thead th {\n        text-align: right;\n    }\n</style>\n<table border=\"1\" class=\"dataframe\">\n  <thead>\n    <tr style=\"text-align: right;\">\n      <th>gender</th>\n      <th>F</th>\n      <th>M</th>\n      <th>diff</th>\n    </tr>\n    <tr>\n      <th>title</th>\n      <th></th>\n      <th></th>\n      <th></th>\n    </tr>\n  </thead>\n  <tbody>\n    <tr>\n      <th>Dirty Dancing (1987)</th>\n      <td>3.790378</td>\n      <td>2.959596</td>\n      <td>-0.830782</td>\n    </tr>\n    <tr>\n      <th>Jumpin' Jack Flash (1986)</th>\n      <td>3.254717</td>\n      <td>2.578358</td>\n      <td>-0.676359</td>\n    </tr>\n    <tr>\n      <th>Grease (1978)</th>\n      <td>3.975265</td>\n      <td>3.367041</td>\n      <td>-0.608224</td>\n    </tr>\n    <tr>\n      <th>Little Women (1994)</th>\n      <td>3.870588</td>\n      <td>3.321739</td>\n      <td>-0.548849</td>\n    </tr>\n    <tr>\n      <th>Steel Magnolias (1989)</th>\n      <td>3.901734</td>\n      <td>3.365957</td>\n      <td>-0.535777</td>\n    </tr>\n    <tr>\n      <th>Anastasia (1997)</th>\n      <td>3.800000</td>\n      <td>3.281609</td>\n      <td>-0.518391</td>\n    </tr>\n    <tr>\n      <th>Rocky Horror Picture Show, The (1975)</th>\n      <td>3.673016</td>\n      <td>3.160131</td>\n      <td>-0.512885</td>\n    </tr>\n    <tr>\n      <th>Color Purple, The (1985)</th>\n      <td>4.158192</td>\n      <td>3.659341</td>\n      <td>-0.498851</td>\n    </tr>\n    <tr>\n      <th>Age of Innocence, The (1993)</th>\n      <td>3.827068</td>\n      <td>3.339506</td>\n      <td>-0.487561</td>\n    </tr>\n    <tr>\n      <th>Free Willy (1993)</th>\n      <td>2.921348</td>\n      <td>2.438776</td>\n      <td>-0.482573</td>\n    </tr>\n  </tbody>\n</table>\n</div>"
     },
     "execution_count": 44,
     "metadata": {},
     "output_type": "execute_result"
    }
   ],
   "source": [
    "mean_rating['diff'] = mean_rating['M'] - mean_rating['F']\n",
    "mean_rating.sort_values(by='diff', ascending=True)[:10]"
   ],
   "metadata": {
    "collapsed": false,
    "pycharm": {
     "name": "#%%\n"
    }
   }
  },
  {
   "cell_type": "code",
   "execution_count": 45,
   "outputs": [
    {
     "data": {
      "text/plain": "title\nDumb & Dumber (1994)                     1.321333\nBlair Witch Project, The (1999)          1.316368\nNatural Born Killers (1994)              1.307198\nTank Girl (1995)                         1.277695\nRocky Horror Picture Show, The (1975)    1.260177\nEyes Wide Shut (1999)                    1.259624\nEvita (1996)                             1.253631\nBilly Madison (1995)                     1.249970\nFear and Loathing in Las Vegas (1998)    1.246408\nBicentennial Man (1999)                  1.245533\nName: rating, dtype: float64"
     },
     "execution_count": 45,
     "metadata": {},
     "output_type": "execute_result"
    }
   ],
   "source": [
    "# 不依赖性别，电影评分分歧最大的，可以通过标准差来评估\n",
    "rating_std_by_title = data.groupby('title')['rating'].std()\n",
    "rating_std_by_title = rating_std_by_title.loc[active_titles]\n",
    "rating_std_by_title.sort_values(ascending=False)[:10]"
   ],
   "metadata": {
    "collapsed": false,
    "pycharm": {
     "name": "#%%\n"
    }
   }
  },
  {
   "cell_type": "code",
   "execution_count": 46,
   "outputs": [],
   "source": [
    "genres_cat = data.groupby(['title', 'genres']).size()\n",
    "genres_cat.name = 'count'"
   ],
   "metadata": {
    "collapsed": false,
    "pycharm": {
     "name": "#%%\n"
    }
   }
  },
  {
   "cell_type": "code",
   "execution_count": 47,
   "outputs": [
    {
     "data": {
      "text/plain": "                               title                genres  count\n0             $1,000,000 Duck (1971)     Children's|Comedy     37\n1               'Night Mother (1986)                 Drama     70\n2          'Til There Was You (1997)         Drama|Romance     52\n3                 'burbs, The (1989)                Comedy    303\n4      ...And Justice for All (1979)        Drama|Thriller    199\n5                       1-900 (1994)               Romance      2\n6  10 Things I Hate About You (1999)        Comedy|Romance    700\n7              101 Dalmatians (1961)  Animation|Children's    565\n8              101 Dalmatians (1996)     Children's|Comedy    364\n9                12 Angry Men (1957)                 Drama    616",
      "text/html": "<div>\n<style scoped>\n    .dataframe tbody tr th:only-of-type {\n        vertical-align: middle;\n    }\n\n    .dataframe tbody tr th {\n        vertical-align: top;\n    }\n\n    .dataframe thead th {\n        text-align: right;\n    }\n</style>\n<table border=\"1\" class=\"dataframe\">\n  <thead>\n    <tr style=\"text-align: right;\">\n      <th></th>\n      <th>title</th>\n      <th>genres</th>\n      <th>count</th>\n    </tr>\n  </thead>\n  <tbody>\n    <tr>\n      <th>0</th>\n      <td>$1,000,000 Duck (1971)</td>\n      <td>Children's|Comedy</td>\n      <td>37</td>\n    </tr>\n    <tr>\n      <th>1</th>\n      <td>'Night Mother (1986)</td>\n      <td>Drama</td>\n      <td>70</td>\n    </tr>\n    <tr>\n      <th>2</th>\n      <td>'Til There Was You (1997)</td>\n      <td>Drama|Romance</td>\n      <td>52</td>\n    </tr>\n    <tr>\n      <th>3</th>\n      <td>'burbs, The (1989)</td>\n      <td>Comedy</td>\n      <td>303</td>\n    </tr>\n    <tr>\n      <th>4</th>\n      <td>...And Justice for All (1979)</td>\n      <td>Drama|Thriller</td>\n      <td>199</td>\n    </tr>\n    <tr>\n      <th>5</th>\n      <td>1-900 (1994)</td>\n      <td>Romance</td>\n      <td>2</td>\n    </tr>\n    <tr>\n      <th>6</th>\n      <td>10 Things I Hate About You (1999)</td>\n      <td>Comedy|Romance</td>\n      <td>700</td>\n    </tr>\n    <tr>\n      <th>7</th>\n      <td>101 Dalmatians (1961)</td>\n      <td>Animation|Children's</td>\n      <td>565</td>\n    </tr>\n    <tr>\n      <th>8</th>\n      <td>101 Dalmatians (1996)</td>\n      <td>Children's|Comedy</td>\n      <td>364</td>\n    </tr>\n    <tr>\n      <th>9</th>\n      <td>12 Angry Men (1957)</td>\n      <td>Drama</td>\n      <td>616</td>\n    </tr>\n  </tbody>\n</table>\n</div>"
     },
     "execution_count": 47,
     "metadata": {},
     "output_type": "execute_result"
    }
   ],
   "source": [
    "genres_cat_df = genres_cat.to_frame().reset_index()\n",
    "genres_cat_df[:10]"
   ],
   "metadata": {
    "collapsed": false,
    "pycharm": {
     "name": "#%%\n"
    }
   }
  },
  {
   "cell_type": "code",
   "execution_count": 47,
   "outputs": [],
   "source": [],
   "metadata": {
    "collapsed": false,
    "pycharm": {
     "name": "#%%\n"
    }
   }
  },
  {
   "cell_type": "code",
   "execution_count": 47,
   "outputs": [],
   "source": [],
   "metadata": {
    "collapsed": false,
    "pycharm": {
     "name": "#%%\n"
    }
   }
  },
  {
   "cell_type": "markdown",
   "source": [
    "### 14.3 美国1880-2010出生婴儿的名字"
   ],
   "metadata": {
    "collapsed": false,
    "pycharm": {
     "name": "#%% md\n"
    }
   }
  },
  {
   "cell_type": "code",
   "execution_count": 48,
   "outputs": [],
   "source": [
    "# 首先读取数据，每一年的数据存放于一个文件中，将其合并到一起\n",
    "years = range(1880, 2011)\n",
    "pieces = []\n",
    "columns = ['name', 'sex', 'births']\n",
    "for year in years:\n",
    "    path = './examples/babynames/yob' + str(year) + '.txt'\n",
    "    frame = pd.read_table(path, names=columns, sep=',')\n",
    "    frame['year'] = year\n",
    "    pieces.append(frame)\n",
    "names = pd.concat(pieces, ignore_index=True)"
   ],
   "metadata": {
    "collapsed": false,
    "pycharm": {
     "name": "#%%\n"
    }
   }
  },
  {
   "cell_type": "code",
   "execution_count": 49,
   "outputs": [
    {
     "data": {
      "text/plain": "        name sex  births  year\n0       Mary   F    7065  1880\n1       Anna   F    2604  1880\n2       Emma   F    2003  1880\n3  Elizabeth   F    1939  1880\n4     Minnie   F    1746  1880",
      "text/html": "<div>\n<style scoped>\n    .dataframe tbody tr th:only-of-type {\n        vertical-align: middle;\n    }\n\n    .dataframe tbody tr th {\n        vertical-align: top;\n    }\n\n    .dataframe thead th {\n        text-align: right;\n    }\n</style>\n<table border=\"1\" class=\"dataframe\">\n  <thead>\n    <tr style=\"text-align: right;\">\n      <th></th>\n      <th>name</th>\n      <th>sex</th>\n      <th>births</th>\n      <th>year</th>\n    </tr>\n  </thead>\n  <tbody>\n    <tr>\n      <th>0</th>\n      <td>Mary</td>\n      <td>F</td>\n      <td>7065</td>\n      <td>1880</td>\n    </tr>\n    <tr>\n      <th>1</th>\n      <td>Anna</td>\n      <td>F</td>\n      <td>2604</td>\n      <td>1880</td>\n    </tr>\n    <tr>\n      <th>2</th>\n      <td>Emma</td>\n      <td>F</td>\n      <td>2003</td>\n      <td>1880</td>\n    </tr>\n    <tr>\n      <th>3</th>\n      <td>Elizabeth</td>\n      <td>F</td>\n      <td>1939</td>\n      <td>1880</td>\n    </tr>\n    <tr>\n      <th>4</th>\n      <td>Minnie</td>\n      <td>F</td>\n      <td>1746</td>\n      <td>1880</td>\n    </tr>\n  </tbody>\n</table>\n</div>"
     },
     "execution_count": 49,
     "metadata": {},
     "output_type": "execute_result"
    }
   ],
   "source": [
    "names.head()"
   ],
   "metadata": {
    "collapsed": false,
    "pycharm": {
     "name": "#%%\n"
    }
   }
  },
  {
   "cell_type": "code",
   "execution_count": 50,
   "outputs": [
    {
     "data": {
      "text/plain": "sex\nF    1003985\nM     686799\ndtype: int64"
     },
     "execution_count": 50,
     "metadata": {},
     "output_type": "execute_result"
    }
   ],
   "source": [
    "names.groupby('sex').size()"
   ],
   "metadata": {
    "collapsed": false,
    "pycharm": {
     "name": "#%%\n"
    }
   }
  },
  {
   "cell_type": "code",
   "execution_count": 51,
   "outputs": [
    {
     "data": {
      "text/plain": "<AxesSubplot:xlabel='year', ylabel='F'>"
     },
     "execution_count": 51,
     "metadata": {},
     "output_type": "execute_result"
    },
    {
     "data": {
      "text/plain": "<Figure size 432x288 with 1 Axes>",
      "image/png": "[encoded data removed]"
     },
     "metadata": {},
     "output_type": "display_data"
    }
   ],
   "source": [
    "import seaborn as sns\n",
    "\n",
    "# 汇总每年出生小孩的数量\n",
    "year_born_cnt = names.groupby(['year', 'sex']).size().unstack()\n",
    "# 画图\n",
    "sns.lineplot(y=year_born_cnt.F, x=year_born_cnt.index)"
   ],
   "metadata": {
    "collapsed": false,
    "pycharm": {
     "name": "#%%\n"
    }
   }
  },
  {
   "cell_type": "code",
   "execution_count": 52,
   "outputs": [
    {
     "data": {
      "text/plain": "<Figure size 432x288 with 1 Axes>",
      "image/png": "[encoded data removed]"
     },
     "metadata": {},
     "output_type": "display_data"
    }
   ],
   "source": [
    "import matplotlib.pyplot as plt\n",
    "\n",
    "year_born_cnt.plot(title='Total births by sex and year')\n",
    "plt.show()"
   ],
   "metadata": {
    "collapsed": false,
    "pycharm": {
     "name": "#%%\n"
    }
   }
  },
  {
   "cell_type": "code",
   "execution_count": 53,
   "outputs": [
    {
     "data": {
      "text/plain": "        name sex  births  year      prop\n0       Mary   F    7065  1880  0.077643\n1       Anna   F    2604  1880  0.028618\n2       Emma   F    2003  1880  0.022013\n3  Elizabeth   F    1939  1880  0.021309\n4     Minnie   F    1746  1880  0.019188",
      "text/html": "<div>\n<style scoped>\n    .dataframe tbody tr th:only-of-type {\n        vertical-align: middle;\n    }\n\n    .dataframe tbody tr th {\n        vertical-align: top;\n    }\n\n    .dataframe thead th {\n        text-align: right;\n    }\n</style>\n<table border=\"1\" class=\"dataframe\">\n  <thead>\n    <tr style=\"text-align: right;\">\n      <th></th>\n      <th>name</th>\n      <th>sex</th>\n      <th>births</th>\n      <th>year</th>\n      <th>prop</th>\n    </tr>\n  </thead>\n  <tbody>\n    <tr>\n      <th>0</th>\n      <td>Mary</td>\n      <td>F</td>\n      <td>7065</td>\n      <td>1880</td>\n      <td>0.077643</td>\n    </tr>\n    <tr>\n      <th>1</th>\n      <td>Anna</td>\n      <td>F</td>\n      <td>2604</td>\n      <td>1880</td>\n      <td>0.028618</td>\n    </tr>\n    <tr>\n      <th>2</th>\n      <td>Emma</td>\n      <td>F</td>\n      <td>2003</td>\n      <td>1880</td>\n      <td>0.022013</td>\n    </tr>\n    <tr>\n      <th>3</th>\n      <td>Elizabeth</td>\n      <td>F</td>\n      <td>1939</td>\n      <td>1880</td>\n      <td>0.021309</td>\n    </tr>\n    <tr>\n      <th>4</th>\n      <td>Minnie</td>\n      <td>F</td>\n      <td>1746</td>\n      <td>1880</td>\n      <td>0.019188</td>\n    </tr>\n  </tbody>\n</table>\n</div>"
     },
     "execution_count": 53,
     "metadata": {},
     "output_type": "execute_result"
    }
   ],
   "source": [
    "# 计算每个婴儿名字占比\n",
    "def add_prop(group):\n",
    "    group['prop'] = group.births / group.births.sum()\n",
    "    return group\n",
    "\n",
    "\n",
    "names = names.groupby(['year', 'sex']).apply(add_prop)\n",
    "names.head()"
   ],
   "metadata": {
    "collapsed": false,
    "pycharm": {
     "name": "#%%\n"
    }
   }
  },
  {
   "cell_type": "code",
   "execution_count": 54,
   "outputs": [
    {
     "data": {
      "text/plain": "year  sex\n1880  F      1.0\n      M      1.0\n1881  F      1.0\n      M      1.0\n1882  F      1.0\nName: prop, dtype: float64"
     },
     "execution_count": 54,
     "metadata": {},
     "output_type": "execute_result"
    }
   ],
   "source": [
    "# 验证总体占比是否为1\n",
    "names.groupby(['year', 'sex']).prop.sum().head()"
   ],
   "metadata": {
    "collapsed": false,
    "pycharm": {
     "name": "#%%\n"
    }
   }
  },
  {
   "cell_type": "code",
   "execution_count": 55,
   "outputs": [
    {
     "data": {
      "text/plain": "        name sex  births  year      prop\n0       Mary   F    7065  1880  0.077643\n1       Anna   F    2604  1880  0.028618\n2       Emma   F    2003  1880  0.022013\n3  Elizabeth   F    1939  1880  0.021309\n4     Minnie   F    1746  1880  0.019188",
      "text/html": "<div>\n<style scoped>\n    .dataframe tbody tr th:only-of-type {\n        vertical-align: middle;\n    }\n\n    .dataframe tbody tr th {\n        vertical-align: top;\n    }\n\n    .dataframe thead th {\n        text-align: right;\n    }\n</style>\n<table border=\"1\" class=\"dataframe\">\n  <thead>\n    <tr style=\"text-align: right;\">\n      <th></th>\n      <th>name</th>\n      <th>sex</th>\n      <th>births</th>\n      <th>year</th>\n      <th>prop</th>\n    </tr>\n  </thead>\n  <tbody>\n    <tr>\n      <th>0</th>\n      <td>Mary</td>\n      <td>F</td>\n      <td>7065</td>\n      <td>1880</td>\n      <td>0.077643</td>\n    </tr>\n    <tr>\n      <th>1</th>\n      <td>Anna</td>\n      <td>F</td>\n      <td>2604</td>\n      <td>1880</td>\n      <td>0.028618</td>\n    </tr>\n    <tr>\n      <th>2</th>\n      <td>Emma</td>\n      <td>F</td>\n      <td>2003</td>\n      <td>1880</td>\n      <td>0.022013</td>\n    </tr>\n    <tr>\n      <th>3</th>\n      <td>Elizabeth</td>\n      <td>F</td>\n      <td>1939</td>\n      <td>1880</td>\n      <td>0.021309</td>\n    </tr>\n    <tr>\n      <th>4</th>\n      <td>Minnie</td>\n      <td>F</td>\n      <td>1746</td>\n      <td>1880</td>\n      <td>0.019188</td>\n    </tr>\n  </tbody>\n</table>\n</div>"
     },
     "execution_count": 55,
     "metadata": {},
     "output_type": "execute_result"
    }
   ],
   "source": [
    "names.head(5)"
   ],
   "metadata": {
    "collapsed": false,
    "pycharm": {
     "name": "#%%\n"
    }
   }
  },
  {
   "cell_type": "code",
   "execution_count": 56,
   "outputs": [],
   "source": [
    "# 每个性别/年份组合的前1000名\n",
    "def get_top1000(group):\n",
    "    group.sort_values(by='births', ascending=False)\n",
    "\n",
    "\n",
    "top1000 = None\n",
    "grouped = names.groupby(['year', 'sex'])\n",
    "top1000 = grouped.apply(get_top1000)\n",
    "top1000.reset_index(inplace=True, drop=True)"
   ],
   "metadata": {
    "collapsed": false,
    "pycharm": {
     "name": "#%%\n"
    }
   }
  },
  {
   "cell_type": "code",
   "execution_count": 57,
   "outputs": [
    {
     "data": {
      "text/plain": "        name sex  births  year      prop\n0       Mary   F    7065  1880  0.077643\n1       Anna   F    2604  1880  0.028618\n2       Emma   F    2003  1880  0.022013\n3  Elizabeth   F    1939  1880  0.021309\n4     Minnie   F    1746  1880  0.019188\n5   Margaret   F    1578  1880  0.017342\n6        Ida   F    1472  1880  0.016177\n7      Alice   F    1414  1880  0.015540\n8     Bertha   F    1320  1880  0.014507\n9      Sarah   F    1288  1880  0.014155",
      "text/html": "<div>\n<style scoped>\n    .dataframe tbody tr th:only-of-type {\n        vertical-align: middle;\n    }\n\n    .dataframe tbody tr th {\n        vertical-align: top;\n    }\n\n    .dataframe thead th {\n        text-align: right;\n    }\n</style>\n<table border=\"1\" class=\"dataframe\">\n  <thead>\n    <tr style=\"text-align: right;\">\n      <th></th>\n      <th>name</th>\n      <th>sex</th>\n      <th>births</th>\n      <th>year</th>\n      <th>prop</th>\n    </tr>\n  </thead>\n  <tbody>\n    <tr>\n      <th>0</th>\n      <td>Mary</td>\n      <td>F</td>\n      <td>7065</td>\n      <td>1880</td>\n      <td>0.077643</td>\n    </tr>\n    <tr>\n      <th>1</th>\n      <td>Anna</td>\n      <td>F</td>\n      <td>2604</td>\n      <td>1880</td>\n      <td>0.028618</td>\n    </tr>\n    <tr>\n      <th>2</th>\n      <td>Emma</td>\n      <td>F</td>\n      <td>2003</td>\n      <td>1880</td>\n      <td>0.022013</td>\n    </tr>\n    <tr>\n      <th>3</th>\n      <td>Elizabeth</td>\n      <td>F</td>\n      <td>1939</td>\n      <td>1880</td>\n      <td>0.021309</td>\n    </tr>\n    <tr>\n      <th>4</th>\n      <td>Minnie</td>\n      <td>F</td>\n      <td>1746</td>\n      <td>1880</td>\n      <td>0.019188</td>\n    </tr>\n    <tr>\n      <th>5</th>\n      <td>Margaret</td>\n      <td>F</td>\n      <td>1578</td>\n      <td>1880</td>\n      <td>0.017342</td>\n    </tr>\n    <tr>\n      <th>6</th>\n      <td>Ida</td>\n      <td>F</td>\n      <td>1472</td>\n      <td>1880</td>\n      <td>0.016177</td>\n    </tr>\n    <tr>\n      <th>7</th>\n      <td>Alice</td>\n      <td>F</td>\n      <td>1414</td>\n      <td>1880</td>\n      <td>0.015540</td>\n    </tr>\n    <tr>\n      <th>8</th>\n      <td>Bertha</td>\n      <td>F</td>\n      <td>1320</td>\n      <td>1880</td>\n      <td>0.014507</td>\n    </tr>\n    <tr>\n      <th>9</th>\n      <td>Sarah</td>\n      <td>F</td>\n      <td>1288</td>\n      <td>1880</td>\n      <td>0.014155</td>\n    </tr>\n  </tbody>\n</table>\n</div>"
     },
     "execution_count": 57,
     "metadata": {},
     "output_type": "execute_result"
    }
   ],
   "source": [
    "# 或者使用这种方式也可以\n",
    "pieces = []\n",
    "for year, group in names.groupby(['year', 'sex']):\n",
    "    pieces.append(group.sort_values(by='births', ascending=False)[:1000])\n",
    "top1000 = pd.concat(pieces, ignore_index=True)\n",
    "top1000.head(10)"
   ],
   "metadata": {
    "collapsed": false,
    "pycharm": {
     "name": "#%%\n"
    }
   }
  },
  {
   "cell_type": "code",
   "execution_count": 58,
   "outputs": [],
   "source": [
    "# 取年份&性别组合下，名字的前100名\n",
    "def get_top1000(group):\n",
    "    group.sort_values(by='births', ascending=False)\n",
    "\n",
    "\n",
    "top_1k = names.groupby(['year', 'sex']).apply(get_top1000)\n",
    "# 这个代码并没有用，top1k为空\n",
    "top_1k.reset_index(inplace=True, drop=True)"
   ],
   "metadata": {
    "collapsed": false,
    "pycharm": {
     "name": "#%%\n"
    }
   }
  },
  {
   "cell_type": "code",
   "execution_count": 59,
   "outputs": [
    {
     "data": {
      "text/plain": "        name sex  births  year      prop\n0       Mary   F    7065  1880  0.077643\n1       Anna   F    2604  1880  0.028618\n2       Emma   F    2003  1880  0.022013\n3  Elizabeth   F    1939  1880  0.021309\n4     Minnie   F    1746  1880  0.019188",
      "text/html": "<div>\n<style scoped>\n    .dataframe tbody tr th:only-of-type {\n        vertical-align: middle;\n    }\n\n    .dataframe tbody tr th {\n        vertical-align: top;\n    }\n\n    .dataframe thead th {\n        text-align: right;\n    }\n</style>\n<table border=\"1\" class=\"dataframe\">\n  <thead>\n    <tr style=\"text-align: right;\">\n      <th></th>\n      <th>name</th>\n      <th>sex</th>\n      <th>births</th>\n      <th>year</th>\n      <th>prop</th>\n    </tr>\n  </thead>\n  <tbody>\n    <tr>\n      <th>0</th>\n      <td>Mary</td>\n      <td>F</td>\n      <td>7065</td>\n      <td>1880</td>\n      <td>0.077643</td>\n    </tr>\n    <tr>\n      <th>1</th>\n      <td>Anna</td>\n      <td>F</td>\n      <td>2604</td>\n      <td>1880</td>\n      <td>0.028618</td>\n    </tr>\n    <tr>\n      <th>2</th>\n      <td>Emma</td>\n      <td>F</td>\n      <td>2003</td>\n      <td>1880</td>\n      <td>0.022013</td>\n    </tr>\n    <tr>\n      <th>3</th>\n      <td>Elizabeth</td>\n      <td>F</td>\n      <td>1939</td>\n      <td>1880</td>\n      <td>0.021309</td>\n    </tr>\n    <tr>\n      <th>4</th>\n      <td>Minnie</td>\n      <td>F</td>\n      <td>1746</td>\n      <td>1880</td>\n      <td>0.019188</td>\n    </tr>\n  </tbody>\n</table>\n</div>"
     },
     "execution_count": 59,
     "metadata": {},
     "output_type": "execute_result"
    }
   ],
   "source": [
    "pieces = []\n",
    "for _, group in names.groupby(['year', 'sex']):\n",
    "    pieces.append(group.sort_values(by='births', ascending=False)[:1000])\n",
    "top1000 = pd.concat(pieces, ignore_index=False)\n",
    "top1000.head()"
   ],
   "metadata": {
    "collapsed": false,
    "pycharm": {
     "name": "#%%\n"
    }
   }
  },
  {
   "cell_type": "code",
   "execution_count": 60,
   "outputs": [
    {
     "name": "stdout",
     "output_type": "stream",
     "text": [
      "<class 'tuple'> <class 'pandas.core.frame.DataFrame'>\n"
     ]
    }
   ],
   "source": [
    "# groupby之后时可迭代的数据结构，可以取出其中的数据\n",
    "# 第一个为元组，例如(1880, F)\n",
    "# 第二个为DataFrame\n",
    "for _, group in names.groupby(['year', 'sex']):\n",
    "    print(type(_), type(group))\n",
    "    break"
   ],
   "metadata": {
    "collapsed": false,
    "pycharm": {
     "name": "#%%\n"
    }
   }
  },
  {
   "cell_type": "code",
   "execution_count": 61,
   "outputs": [
    {
     "data": {
      "text/plain": "pandas.core.groupby.generic.DataFrameGroupBy"
     },
     "execution_count": 61,
     "metadata": {},
     "output_type": "execute_result"
    }
   ],
   "source": [
    "# groupby之后生成的数据结构是pandas.core.groupby.generic.DataFrameGroupBy\n",
    "type(names.groupby(['year', 'sex']))"
   ],
   "metadata": {
    "collapsed": false,
    "pycharm": {
     "name": "#%%\n"
    }
   }
  },
  {
   "cell_type": "markdown",
   "source": [
    "### 14.3.1 分析名字的趋势"
   ],
   "metadata": {
    "collapsed": false,
    "pycharm": {
     "name": "#%% md\n"
    }
   }
  },
  {
   "cell_type": "code",
   "execution_count": 62,
   "outputs": [],
   "source": [
    "boys = top1000[top1000.sex == 'M']\n",
    "girls = top1000[top1000.sex == 'F']"
   ],
   "metadata": {
    "collapsed": false,
    "pycharm": {
     "name": "#%%\n"
    }
   }
  },
  {
   "cell_type": "code",
   "execution_count": 63,
   "outputs": [
    {
     "name": "stdout",
     "output_type": "stream",
     "text": [
      "<class 'pandas.core.frame.DataFrame'>\n",
      "Int64Index: 131 entries, 1880 to 2010\n",
      "Columns: 6868 entries, Aaden to Zuri\n",
      "dtypes: float64(6868)\n",
      "memory usage: 6.9 MB\n"
     ]
    }
   ],
   "source": [
    "total_births = top1000.pivot_table('births', index='year', columns='name', aggfunc=sum)\n",
    "total_births.info()"
   ],
   "metadata": {
    "collapsed": false,
    "pycharm": {
     "name": "#%%\n"
    }
   }
  },
  {
   "cell_type": "code",
   "execution_count": 64,
   "outputs": [
    {
     "data": {
      "text/plain": "array([<AxesSubplot:xlabel='year'>, <AxesSubplot:xlabel='year'>,\n       <AxesSubplot:xlabel='year'>, <AxesSubplot:xlabel='year'>],\n      dtype=object)"
     },
     "execution_count": 64,
     "metadata": {},
     "output_type": "execute_result"
    },
    {
     "data": {
      "text/plain": "<Figure size 864x720 with 4 Axes>",
      "image/png": "[encoded data removed]"
     },
     "metadata": {},
     "output_type": "display_data"
    }
   ],
   "source": [
    "subset = total_births[['John', 'Harry', 'Mary', 'Marilyn']]\n",
    "subset.plot(subplots=True, figsize=(12, 10), title='Number of births per year', grid=False)"
   ],
   "metadata": {
    "collapsed": false,
    "pycharm": {
     "name": "#%%\n"
    }
   }
  },
  {
   "cell_type": "code",
   "execution_count": 65,
   "outputs": [
    {
     "data": {
      "text/plain": "<AxesSubplot:title={'center':'Sum os Top1000.prop by year and sex'}, xlabel='year'>"
     },
     "execution_count": 65,
     "metadata": {},
     "output_type": "execute_result"
    },
    {
     "data": {
      "text/plain": "<Figure size 432x288 with 1 Axes>",
      "image/png": "[encoded data removed]"
     },
     "metadata": {},
     "output_type": "display_data"
    }
   ],
   "source": [
    "# Top1000最受欢迎的名字所涵盖婴儿的出生比例\n",
    "name_rate = top1000.pivot_table('prop', index='year', columns='sex', aggfunc=sum)\n",
    "name_rate.plot(title='Sum os Top1000.prop by year and sex',\n",
    "               xticks=range(1880, 2020, 20),\n",
    "               yticks=np.linspace(0.6, 1.2, 13))"
   ],
   "metadata": {
    "collapsed": false,
    "pycharm": {
     "name": "#%%\n"
    }
   }
  },
  {
   "cell_type": "code",
   "execution_count": 66,
   "outputs": [
    {
     "data": {
      "text/plain": "1676644    0.011523\n1676645    0.020934\n1676646    0.029959\n1676647    0.038930\n1676648    0.047817\n1676649    0.056579\n1676650    0.065155\n1676651    0.073414\n1676652    0.081528\n1676653    0.089621\nName: prop, dtype: float64"
     },
     "execution_count": 66,
     "metadata": {},
     "output_type": "execute_result"
    }
   ],
   "source": [
    "# 2020年男孩最受欢迎的名字在出生人群中占比最高的50%\n",
    "df = boys[boys.year == 2010]\n",
    "prop_cumsum = df.sort_values(by='prop', ascending=False).prop.cumsum()\n",
    "prop_cumsum[:10]"
   ],
   "metadata": {
    "collapsed": false,
    "pycharm": {
     "name": "#%%\n"
    }
   }
  },
  {
   "cell_type": "code",
   "execution_count": 67,
   "outputs": [
    {
     "data": {
      "text/plain": "116"
     },
     "execution_count": 67,
     "metadata": {},
     "output_type": "execute_result"
    }
   ],
   "source": [
    "# 想知道最受欢迎的50%，可以获取prop的累计总和cumsum，然后调用searchsorted方法返回累计和中的位置，在该处插入0.5以保持排序顺序\n",
    "prop_cumsum.values.searchsorted(0.5)"
   ],
   "metadata": {
    "collapsed": false,
    "pycharm": {
     "name": "#%%\n"
    }
   }
  },
  {
   "cell_type": "code",
   "execution_count": 68,
   "outputs": [
    {
     "data": {
      "text/plain": "sex       F      M\nyear              \n2008    NaN  109.0\n2009  241.0  114.0\n2010  246.0  117.0",
      "text/html": "<div>\n<style scoped>\n    .dataframe tbody tr th:only-of-type {\n        vertical-align: middle;\n    }\n\n    .dataframe tbody tr th {\n        vertical-align: top;\n    }\n\n    .dataframe thead th {\n        text-align: right;\n    }\n</style>\n<table border=\"1\" class=\"dataframe\">\n  <thead>\n    <tr style=\"text-align: right;\">\n      <th>sex</th>\n      <th>F</th>\n      <th>M</th>\n    </tr>\n    <tr>\n      <th>year</th>\n      <th></th>\n      <th></th>\n    </tr>\n  </thead>\n  <tbody>\n    <tr>\n      <th>2008</th>\n      <td>NaN</td>\n      <td>109.0</td>\n    </tr>\n    <tr>\n      <th>2009</th>\n      <td>241.0</td>\n      <td>114.0</td>\n    </tr>\n    <tr>\n      <th>2010</th>\n      <td>246.0</td>\n      <td>117.0</td>\n    </tr>\n  </tbody>\n</table>\n</div>"
     },
     "execution_count": 68,
     "metadata": {},
     "output_type": "execute_result"
    }
   ],
   "source": [
    "# 按照此方法找出每年最受欢迎的50%的名字\n",
    "def get_quantile_count(group, q=0.5):\n",
    "    group = group.sort_values(by='prop', ascending=False)\n",
    "    # 范围超过50%的名字所在的行号，也就是名字的数量\n",
    "    return group.prop.cumsum().values.searchsorted(q) + 1\n",
    "\n",
    "\n",
    "diversity = top1000.groupby(['year', 'sex']).apply(get_quantile_count)\n",
    "diversity.tail().unstack()"
   ],
   "metadata": {
    "collapsed": false,
    "pycharm": {
     "name": "#%%\n"
    }
   }
  },
  {
   "cell_type": "code",
   "execution_count": 69,
   "outputs": [
    {
     "data": {
      "text/plain": "<AxesSubplot:xlabel='year'>"
     },
     "execution_count": 69,
     "metadata": {},
     "output_type": "execute_result"
    },
    {
     "data": {
      "text/plain": "<Figure size 432x288 with 1 Axes>",
      "image/png": "[encoded data removed]"
     },
     "metadata": {},
     "output_type": "display_data"
    }
   ],
   "source": [
    "diversity.unstack().plot()"
   ],
   "metadata": {
    "collapsed": false,
    "pycharm": {
     "name": "#%%\n"
    }
   }
  },
  {
   "cell_type": "code",
   "execution_count": 70,
   "outputs": [
    {
     "data": {
      "text/plain": "sex                F                                                        \\\nyear            1880     1881     1882     1883     1884     1885     1886   \nlast_letter                                                                  \na            31446.0  31581.0  36536.0  38330.0  43680.0  45408.0  49100.0   \nb                NaN      NaN      NaN      NaN      NaN      NaN      NaN   \nc                NaN      NaN      5.0      5.0      NaN      NaN      NaN   \nd              609.0    607.0    734.0    810.0    916.0    862.0   1007.0   \ne            33378.0  34080.0  40399.0  41914.0  48089.0  49616.0  53884.0   \n\nsex                                     ...         M                      \\\nyear            1887     1888     1889  ...      2001      2002      2003   \nlast_letter                             ...                                 \na            48942.0  59442.0  58631.0  ...   39124.0   38815.0   37825.0   \nb                NaN      NaN      NaN  ...   50950.0   49284.0   48065.0   \nc                NaN      NaN      NaN  ...   27113.0   27238.0   27697.0   \nd             1027.0   1298.0   1374.0  ...   60838.0   55829.0   53391.0   \ne            54353.0  66750.0  66663.0  ...  145395.0  144651.0  144769.0   \n\nsex                                                                      \\\nyear             2004      2005      2006      2007      2008      2009   \nlast_letter                                                               \na             38650.0   36838.0   36156.0   34654.0   32901.0   31430.0   \nb             45914.0   43144.0   42600.0   42123.0   39945.0   38862.0   \nc             26778.0   26078.0   26635.0   26864.0   25318.0   24048.0   \nd             51754.0   50670.0   51410.0   50595.0   47910.0   46172.0   \ne            142098.0  141123.0  142999.0  143698.0  140966.0  135496.0   \n\nsex                    \nyear             2010  \nlast_letter            \na             28438.0  \nb             38859.0  \nc             23125.0  \nd             44398.0  \ne            129012.0  \n\n[5 rows x 262 columns]",
      "text/html": "<div>\n<style scoped>\n    .dataframe tbody tr th:only-of-type {\n        vertical-align: middle;\n    }\n\n    .dataframe tbody tr th {\n        vertical-align: top;\n    }\n\n    .dataframe thead tr th {\n        text-align: left;\n    }\n\n    .dataframe thead tr:last-of-type th {\n        text-align: right;\n    }\n</style>\n<table border=\"1\" class=\"dataframe\">\n  <thead>\n    <tr>\n      <th>sex</th>\n      <th colspan=\"10\" halign=\"left\">F</th>\n      <th>...</th>\n      <th colspan=\"10\" halign=\"left\">M</th>\n    </tr>\n    <tr>\n      <th>year</th>\n      <th>1880</th>\n      <th>1881</th>\n      <th>1882</th>\n      <th>1883</th>\n      <th>1884</th>\n      <th>1885</th>\n      <th>1886</th>\n      <th>1887</th>\n      <th>1888</th>\n      <th>1889</th>\n      <th>...</th>\n      <th>2001</th>\n      <th>2002</th>\n      <th>2003</th>\n      <th>2004</th>\n      <th>2005</th>\n      <th>2006</th>\n      <th>2007</th>\n      <th>2008</th>\n      <th>2009</th>\n      <th>2010</th>\n    </tr>\n    <tr>\n      <th>last_letter</th>\n      <th></th>\n      <th></th>\n      <th></th>\n      <th></th>\n      <th></th>\n      <th></th>\n      <th></th>\n      <th></th>\n      <th></th>\n      <th></th>\n      <th></th>\n      <th></th>\n      <th></th>\n      <th></th>\n      <th></th>\n      <th></th>\n      <th></th>\n      <th></th>\n      <th></th>\n      <th></th>\n      <th></th>\n    </tr>\n  </thead>\n  <tbody>\n    <tr>\n      <th>a</th>\n      <td>31446.0</td>\n      <td>31581.0</td>\n      <td>36536.0</td>\n      <td>38330.0</td>\n      <td>43680.0</td>\n      <td>45408.0</td>\n      <td>49100.0</td>\n      <td>48942.0</td>\n      <td>59442.0</td>\n      <td>58631.0</td>\n      <td>...</td>\n      <td>39124.0</td>\n      <td>38815.0</td>\n      <td>37825.0</td>\n      <td>38650.0</td>\n      <td>36838.0</td>\n      <td>36156.0</td>\n      <td>34654.0</td>\n      <td>32901.0</td>\n      <td>31430.0</td>\n      <td>28438.0</td>\n    </tr>\n    <tr>\n      <th>b</th>\n      <td>NaN</td>\n      <td>NaN</td>\n      <td>NaN</td>\n      <td>NaN</td>\n      <td>NaN</td>\n      <td>NaN</td>\n      <td>NaN</td>\n      <td>NaN</td>\n      <td>NaN</td>\n      <td>NaN</td>\n      <td>...</td>\n      <td>50950.0</td>\n      <td>49284.0</td>\n      <td>48065.0</td>\n      <td>45914.0</td>\n      <td>43144.0</td>\n      <td>42600.0</td>\n      <td>42123.0</td>\n      <td>39945.0</td>\n      <td>38862.0</td>\n      <td>38859.0</td>\n    </tr>\n    <tr>\n      <th>c</th>\n      <td>NaN</td>\n      <td>NaN</td>\n      <td>5.0</td>\n      <td>5.0</td>\n      <td>NaN</td>\n      <td>NaN</td>\n      <td>NaN</td>\n      <td>NaN</td>\n      <td>NaN</td>\n      <td>NaN</td>\n      <td>...</td>\n      <td>27113.0</td>\n      <td>27238.0</td>\n      <td>27697.0</td>\n      <td>26778.0</td>\n      <td>26078.0</td>\n      <td>26635.0</td>\n      <td>26864.0</td>\n      <td>25318.0</td>\n      <td>24048.0</td>\n      <td>23125.0</td>\n    </tr>\n    <tr>\n      <th>d</th>\n      <td>609.0</td>\n      <td>607.0</td>\n      <td>734.0</td>\n      <td>810.0</td>\n      <td>916.0</td>\n      <td>862.0</td>\n      <td>1007.0</td>\n      <td>1027.0</td>\n      <td>1298.0</td>\n      <td>1374.0</td>\n      <td>...</td>\n      <td>60838.0</td>\n      <td>55829.0</td>\n      <td>53391.0</td>\n      <td>51754.0</td>\n      <td>50670.0</td>\n      <td>51410.0</td>\n      <td>50595.0</td>\n      <td>47910.0</td>\n      <td>46172.0</td>\n      <td>44398.0</td>\n    </tr>\n    <tr>\n      <th>e</th>\n      <td>33378.0</td>\n      <td>34080.0</td>\n      <td>40399.0</td>\n      <td>41914.0</td>\n      <td>48089.0</td>\n      <td>49616.0</td>\n      <td>53884.0</td>\n      <td>54353.0</td>\n      <td>66750.0</td>\n      <td>66663.0</td>\n      <td>...</td>\n      <td>145395.0</td>\n      <td>144651.0</td>\n      <td>144769.0</td>\n      <td>142098.0</td>\n      <td>141123.0</td>\n      <td>142999.0</td>\n      <td>143698.0</td>\n      <td>140966.0</td>\n      <td>135496.0</td>\n      <td>129012.0</td>\n    </tr>\n  </tbody>\n</table>\n<p>5 rows × 262 columns</p>\n</div>"
     },
     "execution_count": 70,
     "metadata": {},
     "output_type": "execute_result"
    }
   ],
   "source": [
    "get_last_letter = lambda x: x[-1]\n",
    "last_letters = names.name.map(get_last_letter)\n",
    "last_letters.name = 'last_letter'\n",
    "table = names.pivot_table('births', index=last_letters, columns=['sex', 'year'], aggfunc='sum')\n",
    "table.head()"
   ],
   "metadata": {
    "collapsed": false,
    "pycharm": {
     "name": "#%%\n"
    }
   }
  },
  {
   "cell_type": "code",
   "execution_count": 71,
   "outputs": [
    {
     "data": {
      "text/plain": "sex                 F                            M                    \nyear             1910      1960      2010     1910      1960      2010\nlast_letter                                                           \na            108376.0  691247.0  670605.0    977.0    5204.0   28438.0\nb                 NaN     694.0     450.0    411.0    3912.0   38859.0\nc                 5.0      49.0     946.0    482.0   15476.0   23125.0\nd              6750.0    3729.0    2607.0  22111.0  262112.0   44398.0\ne            133569.0  435013.0  313833.0  28655.0  178823.0  129012.0",
      "text/html": "<div>\n<style scoped>\n    .dataframe tbody tr th:only-of-type {\n        vertical-align: middle;\n    }\n\n    .dataframe tbody tr th {\n        vertical-align: top;\n    }\n\n    .dataframe thead tr th {\n        text-align: left;\n    }\n\n    .dataframe thead tr:last-of-type th {\n        text-align: right;\n    }\n</style>\n<table border=\"1\" class=\"dataframe\">\n  <thead>\n    <tr>\n      <th>sex</th>\n      <th colspan=\"3\" halign=\"left\">F</th>\n      <th colspan=\"3\" halign=\"left\">M</th>\n    </tr>\n    <tr>\n      <th>year</th>\n      <th>1910</th>\n      <th>1960</th>\n      <th>2010</th>\n      <th>1910</th>\n      <th>1960</th>\n      <th>2010</th>\n    </tr>\n    <tr>\n      <th>last_letter</th>\n      <th></th>\n      <th></th>\n      <th></th>\n      <th></th>\n      <th></th>\n      <th></th>\n    </tr>\n  </thead>\n  <tbody>\n    <tr>\n      <th>a</th>\n      <td>108376.0</td>\n      <td>691247.0</td>\n      <td>670605.0</td>\n      <td>977.0</td>\n      <td>5204.0</td>\n      <td>28438.0</td>\n    </tr>\n    <tr>\n      <th>b</th>\n      <td>NaN</td>\n      <td>694.0</td>\n      <td>450.0</td>\n      <td>411.0</td>\n      <td>3912.0</td>\n      <td>38859.0</td>\n    </tr>\n    <tr>\n      <th>c</th>\n      <td>5.0</td>\n      <td>49.0</td>\n      <td>946.0</td>\n      <td>482.0</td>\n      <td>15476.0</td>\n      <td>23125.0</td>\n    </tr>\n    <tr>\n      <th>d</th>\n      <td>6750.0</td>\n      <td>3729.0</td>\n      <td>2607.0</td>\n      <td>22111.0</td>\n      <td>262112.0</td>\n      <td>44398.0</td>\n    </tr>\n    <tr>\n      <th>e</th>\n      <td>133569.0</td>\n      <td>435013.0</td>\n      <td>313833.0</td>\n      <td>28655.0</td>\n      <td>178823.0</td>\n      <td>129012.0</td>\n    </tr>\n  </tbody>\n</table>\n</div>"
     },
     "execution_count": 71,
     "metadata": {},
     "output_type": "execute_result"
    }
   ],
   "source": [
    "# 选出三个有代表性的年份\n",
    "subtable = table.reindex(level='year', columns=[1910, 1960, 2010])\n",
    "subtable.head()"
   ],
   "metadata": {
    "collapsed": false,
    "pycharm": {
     "name": "#%%\n"
    }
   }
  },
  {
   "cell_type": "code",
   "execution_count": 72,
   "outputs": [
    {
     "data": {
      "text/plain": "sex                 F                             M                    \nyear             1910      1960      2010      1910      1960      2010\nlast_letter                                                            \na            0.273390  0.341853  0.381240  0.005031  0.002440  0.014980\nb                 NaN  0.000343  0.000256  0.002116  0.001834  0.020470\nc            0.000013  0.000024  0.000538  0.002482  0.007257  0.012181\nd            0.017028  0.001844  0.001482  0.113858  0.122908  0.023387\ne            0.336941  0.215133  0.178415  0.147556  0.083853  0.067959",
      "text/html": "<div>\n<style scoped>\n    .dataframe tbody tr th:only-of-type {\n        vertical-align: middle;\n    }\n\n    .dataframe tbody tr th {\n        vertical-align: top;\n    }\n\n    .dataframe thead tr th {\n        text-align: left;\n    }\n\n    .dataframe thead tr:last-of-type th {\n        text-align: right;\n    }\n</style>\n<table border=\"1\" class=\"dataframe\">\n  <thead>\n    <tr>\n      <th>sex</th>\n      <th colspan=\"3\" halign=\"left\">F</th>\n      <th colspan=\"3\" halign=\"left\">M</th>\n    </tr>\n    <tr>\n      <th>year</th>\n      <th>1910</th>\n      <th>1960</th>\n      <th>2010</th>\n      <th>1910</th>\n      <th>1960</th>\n      <th>2010</th>\n    </tr>\n    <tr>\n      <th>last_letter</th>\n      <th></th>\n      <th></th>\n      <th></th>\n      <th></th>\n      <th></th>\n      <th></th>\n    </tr>\n  </thead>\n  <tbody>\n    <tr>\n      <th>a</th>\n      <td>0.273390</td>\n      <td>0.341853</td>\n      <td>0.381240</td>\n      <td>0.005031</td>\n      <td>0.002440</td>\n      <td>0.014980</td>\n    </tr>\n    <tr>\n      <th>b</th>\n      <td>NaN</td>\n      <td>0.000343</td>\n      <td>0.000256</td>\n      <td>0.002116</td>\n      <td>0.001834</td>\n      <td>0.020470</td>\n    </tr>\n    <tr>\n      <th>c</th>\n      <td>0.000013</td>\n      <td>0.000024</td>\n      <td>0.000538</td>\n      <td>0.002482</td>\n      <td>0.007257</td>\n      <td>0.012181</td>\n    </tr>\n    <tr>\n      <th>d</th>\n      <td>0.017028</td>\n      <td>0.001844</td>\n      <td>0.001482</td>\n      <td>0.113858</td>\n      <td>0.122908</td>\n      <td>0.023387</td>\n    </tr>\n    <tr>\n      <th>e</th>\n      <td>0.336941</td>\n      <td>0.215133</td>\n      <td>0.178415</td>\n      <td>0.147556</td>\n      <td>0.083853</td>\n      <td>0.067959</td>\n    </tr>\n  </tbody>\n</table>\n</div>"
     },
     "execution_count": 72,
     "metadata": {},
     "output_type": "execute_result"
    }
   ],
   "source": [
    "# 归一化处理\n",
    "letter_prop = subtable / subtable.sum()\n",
    "letter_prop.head()"
   ],
   "metadata": {
    "collapsed": false,
    "pycharm": {
     "name": "#%%\n"
    }
   }
  },
  {
   "cell_type": "code",
   "execution_count": 73,
   "outputs": [
    {
     "data": {
      "text/plain": "<AxesSubplot:title={'center':'Male'}, xlabel='last_letter'>"
     },
     "execution_count": 73,
     "metadata": {},
     "output_type": "execute_result"
    },
    {
     "data": {
      "text/plain": "<Figure size 720x576 with 2 Axes>",
      "image/png": "[encoded data removed]"
     },
     "metadata": {},
     "output_type": "display_data"
    }
   ],
   "source": [
    "fig, axes = plt.subplots(2, 1, figsize=(10, 8))\n",
    "letter_prop.F.plot(kind='bar', rot=0, ax=axes[0], title='Female')\n",
    "letter_prop.M.plot(kind='bar', rot=0, ax=axes[1], title='Male')"
   ],
   "metadata": {
    "collapsed": false,
    "pycharm": {
     "name": "#%%\n"
    }
   }
  },
  {
   "cell_type": "code",
   "execution_count": 74,
   "outputs": [
    {
     "data": {
      "text/plain": "last_letter         d         n         y\nyear                                     \n1880         0.083055  0.153213  0.075760\n1881         0.083247  0.153214  0.077451\n1882         0.085340  0.149560  0.077537\n1883         0.084066  0.151646  0.079144\n1884         0.086120  0.149915  0.080405",
      "text/html": "<div>\n<style scoped>\n    .dataframe tbody tr th:only-of-type {\n        vertical-align: middle;\n    }\n\n    .dataframe tbody tr th {\n        vertical-align: top;\n    }\n\n    .dataframe thead th {\n        text-align: right;\n    }\n</style>\n<table border=\"1\" class=\"dataframe\">\n  <thead>\n    <tr style=\"text-align: right;\">\n      <th>last_letter</th>\n      <th>d</th>\n      <th>n</th>\n      <th>y</th>\n    </tr>\n    <tr>\n      <th>year</th>\n      <th></th>\n      <th></th>\n      <th></th>\n    </tr>\n  </thead>\n  <tbody>\n    <tr>\n      <th>1880</th>\n      <td>0.083055</td>\n      <td>0.153213</td>\n      <td>0.075760</td>\n    </tr>\n    <tr>\n      <th>1881</th>\n      <td>0.083247</td>\n      <td>0.153214</td>\n      <td>0.077451</td>\n    </tr>\n    <tr>\n      <th>1882</th>\n      <td>0.085340</td>\n      <td>0.149560</td>\n      <td>0.077537</td>\n    </tr>\n    <tr>\n      <th>1883</th>\n      <td>0.084066</td>\n      <td>0.151646</td>\n      <td>0.079144</td>\n    </tr>\n    <tr>\n      <th>1884</th>\n      <td>0.086120</td>\n      <td>0.149915</td>\n      <td>0.080405</td>\n    </tr>\n  </tbody>\n</table>\n</div>"
     },
     "execution_count": 74,
     "metadata": {},
     "output_type": "execute_result"
    }
   ],
   "source": [
    "# 回到table，再次按照年份和性别进行标准化，并为男孩名选择一个字母子集，最后转换为一个时间序列\n",
    "letter_prop = table / table.sum()\n",
    "dny_ts = letter_prop.loc[['d', 'n', 'y'], 'M'].T\n",
    "dny_ts.head()"
   ],
   "metadata": {
    "collapsed": false,
    "pycharm": {
     "name": "#%%\n"
    }
   }
  },
  {
   "cell_type": "code",
   "execution_count": 75,
   "outputs": [
    {
     "data": {
      "text/plain": "<AxesSubplot:xlabel='year'>"
     },
     "execution_count": 75,
     "metadata": {},
     "output_type": "execute_result"
    },
    {
     "data": {
      "text/plain": "<Figure size 432x288 with 1 Axes>",
      "image/png": "[encoded data removed]"
     },
     "metadata": {},
     "output_type": "display_data"
    }
   ],
   "source": [
    "dny_ts.plot()"
   ],
   "metadata": {
    "collapsed": false,
    "pycharm": {
     "name": "#%%\n"
    }
   }
  },
  {
   "cell_type": "markdown",
   "source": [
    "## 14.4 美国农业食品数据库"
   ],
   "metadata": {
    "collapsed": false,
    "pycharm": {
     "name": "#%% md\n"
    }
   }
  },
  {
   "cell_type": "code",
   "execution_count": 76,
   "outputs": [],
   "source": [
    "import json"
   ],
   "metadata": {
    "collapsed": false,
    "pycharm": {
     "name": "#%%\n"
    }
   }
  },
  {
   "cell_type": "code",
   "execution_count": 77,
   "outputs": [
    {
     "data": {
      "text/plain": "6636"
     },
     "execution_count": 77,
     "metadata": {},
     "output_type": "execute_result"
    }
   ],
   "source": [
    "db = json.load(open('./examples/database.json'))\n",
    "len(db)"
   ],
   "metadata": {
    "collapsed": false,
    "pycharm": {
     "name": "#%%\n"
    }
   }
  },
  {
   "cell_type": "code",
   "execution_count": 78,
   "outputs": [
    {
     "data": {
      "text/plain": "dict_keys(['id', 'description', 'tags', 'manufacturer', 'group', 'portions', 'nutrients'])"
     },
     "execution_count": 78,
     "metadata": {},
     "output_type": "execute_result"
    }
   ],
   "source": [
    "db[0].keys()"
   ],
   "metadata": {
    "collapsed": false,
    "pycharm": {
     "name": "#%%\n"
    }
   }
  },
  {
   "cell_type": "code",
   "execution_count": 79,
   "outputs": [
    {
     "data": {
      "text/plain": "{'value': 25.18,\n 'units': 'g',\n 'description': 'Protein',\n 'group': 'Composition'}"
     },
     "execution_count": 79,
     "metadata": {},
     "output_type": "execute_result"
    }
   ],
   "source": [
    "db[0]['nutrients'][0]"
   ],
   "metadata": {
    "collapsed": false,
    "pycharm": {
     "name": "#%%\n"
    }
   }
  },
  {
   "cell_type": "code",
   "execution_count": 80,
   "outputs": [
    {
     "data": {
      "text/plain": "    value units                  description        group\n0   25.18     g                      Protein  Composition\n1   29.20     g            Total lipid (fat)  Composition\n2    3.06     g  Carbohydrate, by difference  Composition\n3    3.28     g                          Ash        Other\n4  376.00  kcal                       Energy       Energy",
      "text/html": "<div>\n<style scoped>\n    .dataframe tbody tr th:only-of-type {\n        vertical-align: middle;\n    }\n\n    .dataframe tbody tr th {\n        vertical-align: top;\n    }\n\n    .dataframe thead th {\n        text-align: right;\n    }\n</style>\n<table border=\"1\" class=\"dataframe\">\n  <thead>\n    <tr style=\"text-align: right;\">\n      <th></th>\n      <th>value</th>\n      <th>units</th>\n      <th>description</th>\n      <th>group</th>\n    </tr>\n  </thead>\n  <tbody>\n    <tr>\n      <th>0</th>\n      <td>25.18</td>\n      <td>g</td>\n      <td>Protein</td>\n      <td>Composition</td>\n    </tr>\n    <tr>\n      <th>1</th>\n      <td>29.20</td>\n      <td>g</td>\n      <td>Total lipid (fat)</td>\n      <td>Composition</td>\n    </tr>\n    <tr>\n      <th>2</th>\n      <td>3.06</td>\n      <td>g</td>\n      <td>Carbohydrate, by difference</td>\n      <td>Composition</td>\n    </tr>\n    <tr>\n      <th>3</th>\n      <td>3.28</td>\n      <td>g</td>\n      <td>Ash</td>\n      <td>Other</td>\n    </tr>\n    <tr>\n      <th>4</th>\n      <td>376.00</td>\n      <td>kcal</td>\n      <td>Energy</td>\n      <td>Energy</td>\n    </tr>\n  </tbody>\n</table>\n</div>"
     },
     "execution_count": 80,
     "metadata": {},
     "output_type": "execute_result"
    }
   ],
   "source": [
    "# 将nutrients转化为DataFrame\n",
    "nutrients = pd.DataFrame(db[0]['nutrients'])\n",
    "nutrients.head()"
   ],
   "metadata": {
    "collapsed": false,
    "pycharm": {
     "name": "#%%\n"
    }
   }
  },
  {
   "cell_type": "code",
   "execution_count": 81,
   "outputs": [
    {
     "data": {
      "text/plain": "                          description                   group    id  \\\n0                     Cheese, caraway  Dairy and Egg Products  1008   \n1                     Cheese, cheddar  Dairy and Egg Products  1009   \n2                        Cheese, edam  Dairy and Egg Products  1018   \n3                        Cheese, feta  Dairy and Egg Products  1019   \n4  Cheese, mozzarella, part skim milk  Dairy and Egg Products  1028   \n\n  manufacturer  \n0               \n1               \n2               \n3               \n4               ",
      "text/html": "<div>\n<style scoped>\n    .dataframe tbody tr th:only-of-type {\n        vertical-align: middle;\n    }\n\n    .dataframe tbody tr th {\n        vertical-align: top;\n    }\n\n    .dataframe thead th {\n        text-align: right;\n    }\n</style>\n<table border=\"1\" class=\"dataframe\">\n  <thead>\n    <tr style=\"text-align: right;\">\n      <th></th>\n      <th>description</th>\n      <th>group</th>\n      <th>id</th>\n      <th>manufacturer</th>\n    </tr>\n  </thead>\n  <tbody>\n    <tr>\n      <th>0</th>\n      <td>Cheese, caraway</td>\n      <td>Dairy and Egg Products</td>\n      <td>1008</td>\n      <td></td>\n    </tr>\n    <tr>\n      <th>1</th>\n      <td>Cheese, cheddar</td>\n      <td>Dairy and Egg Products</td>\n      <td>1009</td>\n      <td></td>\n    </tr>\n    <tr>\n      <th>2</th>\n      <td>Cheese, edam</td>\n      <td>Dairy and Egg Products</td>\n      <td>1018</td>\n      <td></td>\n    </tr>\n    <tr>\n      <th>3</th>\n      <td>Cheese, feta</td>\n      <td>Dairy and Egg Products</td>\n      <td>1019</td>\n      <td></td>\n    </tr>\n    <tr>\n      <th>4</th>\n      <td>Cheese, mozzarella, part skim milk</td>\n      <td>Dairy and Egg Products</td>\n      <td>1028</td>\n      <td></td>\n    </tr>\n  </tbody>\n</table>\n</div>"
     },
     "execution_count": 81,
     "metadata": {},
     "output_type": "execute_result"
    }
   ],
   "source": [
    "# 将部分字段转化为DataFrame\n",
    "info_keys = ['description', 'group', 'id', 'manufacturer']\n",
    "info = pd.DataFrame(db, columns=info_keys)\n",
    "info.head()"
   ],
   "metadata": {
    "collapsed": false,
    "pycharm": {
     "name": "#%%\n"
    }
   }
  },
  {
   "cell_type": "code",
   "execution_count": 82,
   "outputs": [
    {
     "name": "stdout",
     "output_type": "stream",
     "text": [
      "<class 'pandas.core.frame.DataFrame'>\n",
      "RangeIndex: 6636 entries, 0 to 6635\n",
      "Data columns (total 4 columns):\n",
      " #   Column        Non-Null Count  Dtype \n",
      "---  ------        --------------  ----- \n",
      " 0   description   6636 non-null   object\n",
      " 1   group         6636 non-null   object\n",
      " 2   id            6636 non-null   int64 \n",
      " 3   manufacturer  5195 non-null   object\n",
      "dtypes: int64(1), object(3)\n",
      "memory usage: 207.5+ KB\n"
     ]
    }
   ],
   "source": [
    "info.info()"
   ],
   "metadata": {
    "collapsed": false,
    "pycharm": {
     "name": "#%%\n"
    }
   }
  },
  {
   "cell_type": "code",
   "execution_count": 83,
   "outputs": [
    {
     "data": {
      "text/plain": "Vegetables and Vegetable Products    812\nBeef Products                        618\nBaked Products                       496\nBreakfast Cereals                    403\nLegumes and Legume Products          365\nFast Foods                           365\nLamb, Veal, and Game Products        345\nSweets                               341\nFruits and Fruit Juices              328\nPork Products                        328\nName: group, dtype: int64"
     },
     "execution_count": 83,
     "metadata": {},
     "output_type": "execute_result"
    }
   ],
   "source": [
    "pd.value_counts(info.group)[:10]"
   ],
   "metadata": {
    "collapsed": false,
    "pycharm": {
     "name": "#%%\n"
    }
   }
  },
  {
   "cell_type": "code",
   "execution_count": 84,
   "outputs": [
    {
     "data": {
      "text/plain": "108"
     },
     "execution_count": 84,
     "metadata": {},
     "output_type": "execute_result"
    }
   ],
   "source": [
    "nutrients.duplicated().sum()"
   ],
   "metadata": {
    "collapsed": false,
    "pycharm": {
     "name": "#%%\n"
    }
   }
  },
  {
   "cell_type": "code",
   "execution_count": 85,
   "outputs": [],
   "source": [
    "# 删除nutrients中的重复数据\n",
    "nutrients = nutrients.drop_duplicates()"
   ],
   "metadata": {
    "collapsed": false,
    "pycharm": {
     "name": "#%%\n"
    }
   }
  },
  {
   "cell_type": "code",
   "execution_count": 86,
   "outputs": [
    {
     "name": "stdout",
     "output_type": "stream",
     "text": [
      "<class 'pandas.core.frame.DataFrame'>\n",
      "RangeIndex: 6636 entries, 0 to 6635\n",
      "Data columns (total 4 columns):\n",
      " #   Column        Non-Null Count  Dtype \n",
      "---  ------        --------------  ----- \n",
      " 0   food          6636 non-null   object\n",
      " 1   fgroup        6636 non-null   object\n",
      " 2   id            6636 non-null   int64 \n",
      " 3   manufacturer  5195 non-null   object\n",
      "dtypes: int64(1), object(3)\n",
      "memory usage: 207.5+ KB\n"
     ]
    }
   ],
   "source": [
    "# 重命名列\n",
    "col_mapping = {'description': 'food', 'group': 'fgroup'}\n",
    "info = info.rename(columns=col_mapping, copy=False)\n",
    "info.info()"
   ],
   "metadata": {
    "collapsed": false,
    "pycharm": {
     "name": "#%%\n"
    }
   }
  },
  {
   "cell_type": "code",
   "execution_count": 87,
   "outputs": [
    {
     "data": {
      "text/plain": "    value units                         food       fgroup\n0   25.18     g                      Protein  Composition\n1   29.20     g            Total lipid (fat)  Composition\n2    3.06     g  Carbohydrate, by difference  Composition\n3    3.28     g                          Ash        Other\n4  376.00  kcal                       Energy       Energy",
      "text/html": "<div>\n<style scoped>\n    .dataframe tbody tr th:only-of-type {\n        vertical-align: middle;\n    }\n\n    .dataframe tbody tr th {\n        vertical-align: top;\n    }\n\n    .dataframe thead th {\n        text-align: right;\n    }\n</style>\n<table border=\"1\" class=\"dataframe\">\n  <thead>\n    <tr style=\"text-align: right;\">\n      <th></th>\n      <th>value</th>\n      <th>units</th>\n      <th>food</th>\n      <th>fgroup</th>\n    </tr>\n  </thead>\n  <tbody>\n    <tr>\n      <th>0</th>\n      <td>25.18</td>\n      <td>g</td>\n      <td>Protein</td>\n      <td>Composition</td>\n    </tr>\n    <tr>\n      <th>1</th>\n      <td>29.20</td>\n      <td>g</td>\n      <td>Total lipid (fat)</td>\n      <td>Composition</td>\n    </tr>\n    <tr>\n      <th>2</th>\n      <td>3.06</td>\n      <td>g</td>\n      <td>Carbohydrate, by difference</td>\n      <td>Composition</td>\n    </tr>\n    <tr>\n      <th>3</th>\n      <td>3.28</td>\n      <td>g</td>\n      <td>Ash</td>\n      <td>Other</td>\n    </tr>\n    <tr>\n      <th>4</th>\n      <td>376.00</td>\n      <td>kcal</td>\n      <td>Energy</td>\n      <td>Energy</td>\n    </tr>\n  </tbody>\n</table>\n</div>"
     },
     "execution_count": 87,
     "metadata": {},
     "output_type": "execute_result"
    }
   ],
   "source": [
    "nutrients = nutrients.rename(columns=col_mapping, copy=False)\n",
    "nutrients.head()"
   ],
   "metadata": {
    "collapsed": false,
    "pycharm": {
     "name": "#%%\n"
    }
   }
  },
  {
   "cell_type": "code",
   "execution_count": 88,
   "outputs": [
    {
     "data": {
      "text/plain": "                                 food                  fgroup    id  \\\n0                     Cheese, caraway  Dairy and Egg Products  1008   \n1                     Cheese, cheddar  Dairy and Egg Products  1009   \n2                        Cheese, edam  Dairy and Egg Products  1018   \n3                        Cheese, feta  Dairy and Egg Products  1019   \n4  Cheese, mozzarella, part skim milk  Dairy and Egg Products  1028   \n\n  manufacturer  \n0               \n1               \n2               \n3               \n4               ",
      "text/html": "<div>\n<style scoped>\n    .dataframe tbody tr th:only-of-type {\n        vertical-align: middle;\n    }\n\n    .dataframe tbody tr th {\n        vertical-align: top;\n    }\n\n    .dataframe thead th {\n        text-align: right;\n    }\n</style>\n<table border=\"1\" class=\"dataframe\">\n  <thead>\n    <tr style=\"text-align: right;\">\n      <th></th>\n      <th>food</th>\n      <th>fgroup</th>\n      <th>id</th>\n      <th>manufacturer</th>\n    </tr>\n  </thead>\n  <tbody>\n    <tr>\n      <th>0</th>\n      <td>Cheese, caraway</td>\n      <td>Dairy and Egg Products</td>\n      <td>1008</td>\n      <td></td>\n    </tr>\n    <tr>\n      <th>1</th>\n      <td>Cheese, cheddar</td>\n      <td>Dairy and Egg Products</td>\n      <td>1009</td>\n      <td></td>\n    </tr>\n    <tr>\n      <th>2</th>\n      <td>Cheese, edam</td>\n      <td>Dairy and Egg Products</td>\n      <td>1018</td>\n      <td></td>\n    </tr>\n    <tr>\n      <th>3</th>\n      <td>Cheese, feta</td>\n      <td>Dairy and Egg Products</td>\n      <td>1019</td>\n      <td></td>\n    </tr>\n    <tr>\n      <th>4</th>\n      <td>Cheese, mozzarella, part skim milk</td>\n      <td>Dairy and Egg Products</td>\n      <td>1028</td>\n      <td></td>\n    </tr>\n  </tbody>\n</table>\n</div>"
     },
     "execution_count": 88,
     "metadata": {},
     "output_type": "execute_result"
    }
   ],
   "source": [
    "info.head()"
   ],
   "metadata": {
    "collapsed": false,
    "pycharm": {
     "name": "#%%\n"
    }
   }
  },
  {
   "cell_type": "code",
   "execution_count": 89,
   "outputs": [
    {
     "data": {
      "text/plain": "    value units                  description        group    id\n0   25.18     g                      Protein  Composition  1008\n1   29.20     g            Total lipid (fat)  Composition  1008\n2    3.06     g  Carbohydrate, by difference  Composition  1008\n3    3.28     g                          Ash        Other  1008\n4  376.00  kcal                       Energy       Energy  1008",
      "text/html": "<div>\n<style scoped>\n    .dataframe tbody tr th:only-of-type {\n        vertical-align: middle;\n    }\n\n    .dataframe tbody tr th {\n        vertical-align: top;\n    }\n\n    .dataframe thead th {\n        text-align: right;\n    }\n</style>\n<table border=\"1\" class=\"dataframe\">\n  <thead>\n    <tr style=\"text-align: right;\">\n      <th></th>\n      <th>value</th>\n      <th>units</th>\n      <th>description</th>\n      <th>group</th>\n      <th>id</th>\n    </tr>\n  </thead>\n  <tbody>\n    <tr>\n      <th>0</th>\n      <td>25.18</td>\n      <td>g</td>\n      <td>Protein</td>\n      <td>Composition</td>\n      <td>1008</td>\n    </tr>\n    <tr>\n      <th>1</th>\n      <td>29.20</td>\n      <td>g</td>\n      <td>Total lipid (fat)</td>\n      <td>Composition</td>\n      <td>1008</td>\n    </tr>\n    <tr>\n      <th>2</th>\n      <td>3.06</td>\n      <td>g</td>\n      <td>Carbohydrate, by difference</td>\n      <td>Composition</td>\n      <td>1008</td>\n    </tr>\n    <tr>\n      <th>3</th>\n      <td>3.28</td>\n      <td>g</td>\n      <td>Ash</td>\n      <td>Other</td>\n      <td>1008</td>\n    </tr>\n    <tr>\n      <th>4</th>\n      <td>376.00</td>\n      <td>kcal</td>\n      <td>Energy</td>\n      <td>Energy</td>\n      <td>1008</td>\n    </tr>\n  </tbody>\n</table>\n</div>"
     },
     "execution_count": 89,
     "metadata": {},
     "output_type": "execute_result"
    }
   ],
   "source": [
    "# 将每个食物的id和营养元素组装成一张大表\n",
    "db_list = []\n",
    "for i in range(0, len(db)):\n",
    "    df = pd.DataFrame(db[i]['nutrients'])\n",
    "    # 给营养元素添加上id\n",
    "    df['id'] = db[i]['id']\n",
    "    db_list.append(df)\n",
    "# 使用concat将DataFrame连接起来\n",
    "nutrients = None\n",
    "nutrients = pd.concat(db_list, ignore_index=True)\n",
    "nutrients.head()"
   ],
   "metadata": {
    "collapsed": false,
    "pycharm": {
     "name": "#%%\n"
    }
   }
  },
  {
   "cell_type": "code",
   "execution_count": 90,
   "outputs": [
    {
     "data": {
      "text/plain": "389355"
     },
     "execution_count": 90,
     "metadata": {},
     "output_type": "execute_result"
    }
   ],
   "source": [
    "len(nutrients)"
   ],
   "metadata": {
    "collapsed": false,
    "pycharm": {
     "name": "#%%\n"
    }
   }
  },
  {
   "cell_type": "code",
   "execution_count": 91,
   "outputs": [],
   "source": [
    "# 删除nutrients中重复的数据\n",
    "nutrients = nutrients.drop_duplicates()"
   ],
   "metadata": {
    "collapsed": false,
    "pycharm": {
     "name": "#%%\n"
    }
   }
  },
  {
   "cell_type": "code",
   "execution_count": 92,
   "outputs": [],
   "source": [
    "# 重命名nutrients中列名\n",
    "col_mapping_1 = {'description': 'nutrient', 'group': 'nutgroup'}\n",
    "nutrients = nutrients.rename(columns=col_mapping_1, copy=False)"
   ],
   "metadata": {
    "collapsed": false,
    "pycharm": {
     "name": "#%%\n"
    }
   }
  },
  {
   "cell_type": "code",
   "execution_count": 93,
   "outputs": [
    {
     "name": "stdout",
     "output_type": "stream",
     "text": [
      "<class 'pandas.core.frame.DataFrame'>\n",
      "Int64Index: 375176 entries, 0 to 375175\n",
      "Data columns (total 8 columns):\n",
      " #   Column        Non-Null Count   Dtype  \n",
      "---  ------        --------------   -----  \n",
      " 0   value         375176 non-null  float64\n",
      " 1   units         375176 non-null  object \n",
      " 2   nutrient      375176 non-null  object \n",
      " 3   nutgroup      375176 non-null  object \n",
      " 4   id            375176 non-null  int64  \n",
      " 5   food          375176 non-null  object \n",
      " 6   fgroup        375176 non-null  object \n",
      " 7   manufacturer  293054 non-null  object \n",
      "dtypes: float64(1), int64(1), object(6)\n",
      "memory usage: 25.8+ MB\n"
     ]
    }
   ],
   "source": [
    "# 将info和nutrients合并\n",
    "ndata = None\n",
    "ndata = pd.merge(nutrients, info, on='id', how='outer')\n",
    "ndata.info()"
   ],
   "metadata": {
    "collapsed": false,
    "pycharm": {
     "name": "#%%\n"
    }
   }
  },
  {
   "cell_type": "code",
   "execution_count": 94,
   "outputs": [
    {
     "data": {
      "text/plain": "value                                             0.04\nunits                                                g\nnutrient                                       Glycine\nnutgroup                                   Amino Acids\nid                                                6158\nfood            Soup, tomato bisque, canned, condensed\nfgroup                      Soups, Sauces, and Gravies\nmanufacturer                                          \nName: 30000, dtype: object"
     },
     "execution_count": 94,
     "metadata": {},
     "output_type": "execute_result"
    }
   ],
   "source": [
    "ndata.iloc[30000]"
   ],
   "metadata": {
    "collapsed": false,
    "pycharm": {
     "name": "#%%\n"
    }
   }
  },
  {
   "cell_type": "code",
   "execution_count": 95,
   "outputs": [
    {
     "data": {
      "text/plain": "<AxesSubplot:title={'center':'Ranking of food zinc content'}, ylabel='fgroup'>"
     },
     "execution_count": 95,
     "metadata": {},
     "output_type": "execute_result"
    },
    {
     "data": {
      "text/plain": "<Figure size 432x288 with 1 Axes>",
      "image/png": "[encoded data removed]"
     },
     "metadata": {},
     "output_type": "display_data"
    }
   ],
   "source": [
    "# 可以根据食物组和营养类型制作一个中位数图\n",
    "result = ndata.groupby(['nutrient', 'fgroup'])['value'].quantile()\n",
    "result['Zinc, Zn'].sort_values().plot(kind='barh', title='Ranking of food zinc content')"
   ],
   "metadata": {
    "collapsed": false,
    "pycharm": {
     "name": "#%%\n"
    }
   }
  },
  {
   "cell_type": "markdown",
   "source": [
    "## 14.5 2012年联邦选举委员会数据库"
   ],
   "metadata": {
    "collapsed": false,
    "pycharm": {
     "name": "#%% md\n"
    }
   }
  },
  {
   "cell_type": "code",
   "execution_count": 97,
   "outputs": [
    {
     "name": "stderr",
     "output_type": "stream",
     "text": [
      "/var/folders/ml/8mffbtvx25b6ftr05mlfbtqm0000gn/T/ipykernel_91613/350368369.py:1: DtypeWarning: Columns (6) have mixed types. Specify dtype option on import or set low_memory=False.\n",
      "  fec = pd.read_csv('./examples/P00000001-ALL.csv')\n"
     ]
    },
    {
     "data": {
      "text/plain": "     cmte_id    cand_id             cand_nm           contbr_nm  \\\n0  C00410118  P20002978  Bachmann, Michelle     HARVEY, WILLIAM   \n1  C00410118  P20002978  Bachmann, Michelle     HARVEY, WILLIAM   \n2  C00410118  P20002978  Bachmann, Michelle       SMITH, LANIER   \n3  C00410118  P20002978  Bachmann, Michelle    BLEVINS, DARONDA   \n4  C00410118  P20002978  Bachmann, Michelle  WARDENBURG, HAROLD   \n\n          contbr_city contbr_st   contbr_zip        contbr_employer  \\\n0              MOBILE        AL  366010290.0                RETIRED   \n1              MOBILE        AL  366010290.0                RETIRED   \n2              LANETT        AL  368633403.0  INFORMATION REQUESTED   \n3             PIGGOTT        AR  724548253.0                   NONE   \n4  HOT SPRINGS NATION        AR  719016467.0                   NONE   \n\n       contbr_occupation  contb_receipt_amt contb_receipt_dt receipt_desc  \\\n0                RETIRED              250.0        20-JUN-11          NaN   \n1                RETIRED               50.0        23-JUN-11          NaN   \n2  INFORMATION REQUESTED              250.0        05-JUL-11          NaN   \n3                RETIRED              250.0        01-AUG-11          NaN   \n4                RETIRED              300.0        20-JUN-11          NaN   \n\n  memo_cd memo_text form_tp  file_num  \n0     NaN       NaN   SA17A    736166  \n1     NaN       NaN   SA17A    736166  \n2     NaN       NaN   SA17A    749073  \n3     NaN       NaN   SA17A    749073  \n4     NaN       NaN   SA17A    736166  ",
      "text/html": "<div>\n<style scoped>\n    .dataframe tbody tr th:only-of-type {\n        vertical-align: middle;\n    }\n\n    .dataframe tbody tr th {\n        vertical-align: top;\n    }\n\n    .dataframe thead th {\n        text-align: right;\n    }\n</style>\n<table border=\"1\" class=\"dataframe\">\n  <thead>\n    <tr style=\"text-align: right;\">\n      <th></th>\n      <th>cmte_id</th>\n      <th>cand_id</th>\n      <th>cand_nm</th>\n      <th>contbr_nm</th>\n      <th>contbr_city</th>\n      <th>contbr_st</th>\n      <th>contbr_zip</th>\n      <th>contbr_employer</th>\n      <th>contbr_occupation</th>\n      <th>contb_receipt_amt</th>\n      <th>contb_receipt_dt</th>\n      <th>receipt_desc</th>\n      <th>memo_cd</th>\n      <th>memo_text</th>\n      <th>form_tp</th>\n      <th>file_num</th>\n    </tr>\n  </thead>\n  <tbody>\n    <tr>\n      <th>0</th>\n      <td>C00410118</td>\n      <td>P20002978</td>\n      <td>Bachmann, Michelle</td>\n      <td>HARVEY, WILLIAM</td>\n      <td>MOBILE</td>\n      <td>AL</td>\n      <td>366010290.0</td>\n      <td>RETIRED</td>\n      <td>RETIRED</td>\n      <td>250.0</td>\n      <td>20-JUN-11</td>\n      <td>NaN</td>\n      <td>NaN</td>\n      <td>NaN</td>\n      <td>SA17A</td>\n      <td>736166</td>\n    </tr>\n    <tr>\n      <th>1</th>\n      <td>C00410118</td>\n      <td>P20002978</td>\n      <td>Bachmann, Michelle</td>\n      <td>HARVEY, WILLIAM</td>\n      <td>MOBILE</td>\n      <td>AL</td>\n      <td>366010290.0</td>\n      <td>RETIRED</td>\n      <td>RETIRED</td>\n      <td>50.0</td>\n      <td>23-JUN-11</td>\n      <td>NaN</td>\n      <td>NaN</td>\n      <td>NaN</td>\n      <td>SA17A</td>\n      <td>736166</td>\n    </tr>\n    <tr>\n      <th>2</th>\n      <td>C00410118</td>\n      <td>P20002978</td>\n      <td>Bachmann, Michelle</td>\n      <td>SMITH, LANIER</td>\n      <td>LANETT</td>\n      <td>AL</td>\n      <td>368633403.0</td>\n      <td>INFORMATION REQUESTED</td>\n      <td>INFORMATION REQUESTED</td>\n      <td>250.0</td>\n      <td>05-JUL-11</td>\n      <td>NaN</td>\n      <td>NaN</td>\n      <td>NaN</td>\n      <td>SA17A</td>\n      <td>749073</td>\n    </tr>\n    <tr>\n      <th>3</th>\n      <td>C00410118</td>\n      <td>P20002978</td>\n      <td>Bachmann, Michelle</td>\n      <td>BLEVINS, DARONDA</td>\n      <td>PIGGOTT</td>\n      <td>AR</td>\n      <td>724548253.0</td>\n      <td>NONE</td>\n      <td>RETIRED</td>\n      <td>250.0</td>\n      <td>01-AUG-11</td>\n      <td>NaN</td>\n      <td>NaN</td>\n      <td>NaN</td>\n      <td>SA17A</td>\n      <td>749073</td>\n    </tr>\n    <tr>\n      <th>4</th>\n      <td>C00410118</td>\n      <td>P20002978</td>\n      <td>Bachmann, Michelle</td>\n      <td>WARDENBURG, HAROLD</td>\n      <td>HOT SPRINGS NATION</td>\n      <td>AR</td>\n      <td>719016467.0</td>\n      <td>NONE</td>\n      <td>RETIRED</td>\n      <td>300.0</td>\n      <td>20-JUN-11</td>\n      <td>NaN</td>\n      <td>NaN</td>\n      <td>NaN</td>\n      <td>SA17A</td>\n      <td>736166</td>\n    </tr>\n  </tbody>\n</table>\n</div>"
     },
     "execution_count": 97,
     "metadata": {},
     "output_type": "execute_result"
    }
   ],
   "source": [
    "fec = pd.read_csv('./examples/P00000001-ALL.csv')\n",
    "fec.head()"
   ],
   "metadata": {
    "collapsed": false,
    "pycharm": {
     "name": "#%%\n"
    }
   }
  },
  {
   "cell_type": "code",
   "execution_count": 98,
   "outputs": [
    {
     "name": "stdout",
     "output_type": "stream",
     "text": [
      "<class 'pandas.core.frame.DataFrame'>\n",
      "RangeIndex: 1001731 entries, 0 to 1001730\n",
      "Data columns (total 16 columns):\n",
      " #   Column             Non-Null Count    Dtype  \n",
      "---  ------             --------------    -----  \n",
      " 0   cmte_id            1001731 non-null  object \n",
      " 1   cand_id            1001731 non-null  object \n",
      " 2   cand_nm            1001731 non-null  object \n",
      " 3   contbr_nm          1001731 non-null  object \n",
      " 4   contbr_city        1001712 non-null  object \n",
      " 5   contbr_st          1001727 non-null  object \n",
      " 6   contbr_zip         1001620 non-null  object \n",
      " 7   contbr_employer    988002 non-null   object \n",
      " 8   contbr_occupation  993301 non-null   object \n",
      " 9   contb_receipt_amt  1001731 non-null  float64\n",
      " 10  contb_receipt_dt   1001731 non-null  object \n",
      " 11  receipt_desc       14166 non-null    object \n",
      " 12  memo_cd            92482 non-null    object \n",
      " 13  memo_text          97770 non-null    object \n",
      " 14  form_tp            1001731 non-null  object \n",
      " 15  file_num           1001731 non-null  int64  \n",
      "dtypes: float64(1), int64(1), object(14)\n",
      "memory usage: 122.3+ MB\n"
     ]
    }
   ],
   "source": [
    "fec.info()"
   ],
   "metadata": {
    "collapsed": false,
    "pycharm": {
     "name": "#%%\n"
    }
   }
  },
  {
   "cell_type": "code",
   "execution_count": 99,
   "outputs": [
    {
     "data": {
      "text/plain": "cmte_id             C00431445\ncand_id             P80003338\ncand_nm         Obama, Barack\ncontbr_nm         ELLMAN, IRA\ncontbr_city             TEMPE\n                    ...      \nreceipt_desc              NaN\nmemo_cd                   NaN\nmemo_text                 NaN\nform_tp                 SA17A\nfile_num               772372\nName: 123456, Length: 16, dtype: object"
     },
     "execution_count": 99,
     "metadata": {},
     "output_type": "execute_result"
    }
   ],
   "source": [
    "fec.iloc[123456]"
   ],
   "metadata": {
    "collapsed": false,
    "pycharm": {
     "name": "#%%\n"
    }
   }
  },
  {
   "cell_type": "code",
   "execution_count": null,
   "outputs": [],
   "source": [],
   "metadata": {
    "collapsed": false,
    "pycharm": {
     "name": "#%%\n"
    }
   }
  }
 ],
 "metadata": {
  "kernelspec": {
   "display_name": "Python 3",
   "language": "python",
   "name": "python3"
  },
  "language_info": {
   "codemirror_mode": {
    "name": "ipython",
    "version": 2
   },
   "file_extension": ".py",
   "mimetype": "text/x-python",
   "name": "python",
   "nbconvert_exporter": "python",
   "pygments_lexer": "ipython2",
   "version": "2.7.6"
  }
 },
 "nbformat": 4,
 "nbformat_minor": 0
}