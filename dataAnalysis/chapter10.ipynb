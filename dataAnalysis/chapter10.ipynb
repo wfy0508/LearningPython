{
 "cells": [
  {
   "cell_type": "markdown",
   "source": [
    "# 10 数据聚合与分组操作\n",
    "1 使用一个或多个键将pandas对象拆分\n",
    "2 计算组内汇总统计信息，如计数，平均值或标准差或用户定义的函数\n",
    "3 应用组内变换或其他操作，如标准化、线性回归、排位或子集选择\n",
    "4 计算数据透视表和交叉表\n",
    "5 执行分位数分析和其他统计组分析"
   ],
   "metadata": {
    "collapsed": false,
    "pycharm": {
     "name": "#%% md\n"
    }
   }
  },
  {
   "cell_type": "code",
   "execution_count": 1,
   "outputs": [],
   "source": [
    "import numpy as np\n",
    "import pandas as pd"
   ],
   "metadata": {
    "collapsed": false,
    "pycharm": {
     "name": "#%%\n"
    }
   }
  },
  {
   "cell_type": "code",
   "execution_count": 2,
   "outputs": [
    {
     "data": {
      "text/plain": "  key1 key2     data1     data2\n0    a  one -0.844591 -1.393349\n1    a  two  0.555978  0.910947\n2    b  one  1.354937 -0.938447\n3    b  two  0.101097  0.004430\n4    a  one -0.994137 -0.911844",
      "text/html": "<div>\n<style scoped>\n    .dataframe tbody tr th:only-of-type {\n        vertical-align: middle;\n    }\n\n    .dataframe tbody tr th {\n        vertical-align: top;\n    }\n\n    .dataframe thead th {\n        text-align: right;\n    }\n</style>\n<table border=\"1\" class=\"dataframe\">\n  <thead>\n    <tr style=\"text-align: right;\">\n      <th></th>\n      <th>key1</th>\n      <th>key2</th>\n      <th>data1</th>\n      <th>data2</th>\n    </tr>\n  </thead>\n  <tbody>\n    <tr>\n      <th>0</th>\n      <td>a</td>\n      <td>one</td>\n      <td>-0.844591</td>\n      <td>-1.393349</td>\n    </tr>\n    <tr>\n      <th>1</th>\n      <td>a</td>\n      <td>two</td>\n      <td>0.555978</td>\n      <td>0.910947</td>\n    </tr>\n    <tr>\n      <th>2</th>\n      <td>b</td>\n      <td>one</td>\n      <td>1.354937</td>\n      <td>-0.938447</td>\n    </tr>\n    <tr>\n      <th>3</th>\n      <td>b</td>\n      <td>two</td>\n      <td>0.101097</td>\n      <td>0.004430</td>\n    </tr>\n    <tr>\n      <th>4</th>\n      <td>a</td>\n      <td>one</td>\n      <td>-0.994137</td>\n      <td>-0.911844</td>\n    </tr>\n  </tbody>\n</table>\n</div>"
     },
     "execution_count": 2,
     "metadata": {},
     "output_type": "execute_result"
    }
   ],
   "source": [
    "df = pd.DataFrame({'key1': list('aabba'),\n",
    "                   'key2': ['one', 'two', 'one', 'two', 'one'],\n",
    "                   'data1': np.random.randn(5),\n",
    "                   'data2': np.random.randn(5)})\n",
    "df"
   ],
   "metadata": {
    "collapsed": false,
    "pycharm": {
     "name": "#%%\n"
    }
   }
  },
  {
   "cell_type": "code",
   "execution_count": 3,
   "outputs": [
    {
     "data": {
      "text/plain": "key1\na   -0.427583\nb    0.728017\nName: data1, dtype: float64"
     },
     "execution_count": 3,
     "metadata": {},
     "output_type": "execute_result"
    }
   ],
   "source": [
    "# 根据key1计算data1的平均值\n",
    "df['data1'].groupby(df['key1']).mean()"
   ],
   "metadata": {
    "collapsed": false,
    "pycharm": {
     "name": "#%%\n"
    }
   }
  },
  {
   "cell_type": "code",
   "execution_count": 4,
   "outputs": [
    {
     "data": {
      "text/plain": "key1  key2\na     one    -0.919364\n      two     0.555978\nb     one     1.354937\n      two     0.101097\nName: data1, dtype: float64"
     },
     "execution_count": 4,
     "metadata": {},
     "output_type": "execute_result"
    }
   ],
   "source": [
    "# 也可以使用多列进行groupby，传入一个列表\n",
    "df['data1'].groupby([df['key1'], df['key2']]).mean()"
   ],
   "metadata": {
    "collapsed": false,
    "pycharm": {
     "name": "#%%\n"
    }
   }
  },
  {
   "cell_type": "code",
   "execution_count": 5,
   "outputs": [
    {
     "data": {
      "text/plain": "key1  key2\na     one    -0.919364\n      two     0.555978\nb     one     1.354937\n      two     0.101097\nName: data1, dtype: float64"
     },
     "execution_count": 5,
     "metadata": {},
     "output_type": "execute_result"
    }
   ],
   "source": [
    "# 改变顺序不影响最终结果\n",
    "# groupby和mean操作之后发生了什么？\n",
    "# 首先根据分组键进行了聚合，并产生一个新的Series，\n",
    "# 这个Series使用key1，key2组合后的唯一值作为索引，然后计算data1对应索引上的均值\n",
    "df.groupby([df['key1'], df['key2']])['data1'].mean()"
   ],
   "metadata": {
    "collapsed": false,
    "pycharm": {
     "name": "#%%\n"
    }
   }
  },
  {
   "cell_type": "code",
   "execution_count": 6,
   "outputs": [
    {
     "data": {
      "text/plain": "  key1 key2     data1     data2\n0    a  one -0.844591 -1.393349\n1    a  two  0.555978  0.910947\n2    b  one  1.354937 -0.938447\n3    b  two  0.101097  0.004430\n4    a  one -0.994137 -0.911844",
      "text/html": "<div>\n<style scoped>\n    .dataframe tbody tr th:only-of-type {\n        vertical-align: middle;\n    }\n\n    .dataframe tbody tr th {\n        vertical-align: top;\n    }\n\n    .dataframe thead th {\n        text-align: right;\n    }\n</style>\n<table border=\"1\" class=\"dataframe\">\n  <thead>\n    <tr style=\"text-align: right;\">\n      <th></th>\n      <th>key1</th>\n      <th>key2</th>\n      <th>data1</th>\n      <th>data2</th>\n    </tr>\n  </thead>\n  <tbody>\n    <tr>\n      <th>0</th>\n      <td>a</td>\n      <td>one</td>\n      <td>-0.844591</td>\n      <td>-1.393349</td>\n    </tr>\n    <tr>\n      <th>1</th>\n      <td>a</td>\n      <td>two</td>\n      <td>0.555978</td>\n      <td>0.910947</td>\n    </tr>\n    <tr>\n      <th>2</th>\n      <td>b</td>\n      <td>one</td>\n      <td>1.354937</td>\n      <td>-0.938447</td>\n    </tr>\n    <tr>\n      <th>3</th>\n      <td>b</td>\n      <td>two</td>\n      <td>0.101097</td>\n      <td>0.004430</td>\n    </tr>\n    <tr>\n      <th>4</th>\n      <td>a</td>\n      <td>one</td>\n      <td>-0.994137</td>\n      <td>-0.911844</td>\n    </tr>\n  </tbody>\n</table>\n</div>"
     },
     "execution_count": 6,
     "metadata": {},
     "output_type": "execute_result"
    }
   ],
   "source": [
    "df"
   ],
   "metadata": {
    "collapsed": false,
    "pycharm": {
     "name": "#%%\n"
    }
   }
  },
  {
   "cell_type": "code",
   "execution_count": 8,
   "outputs": [
    {
     "data": {
      "text/plain": "California  2005    1.354937\n            2006    0.555978\nOhio        2005   -0.919364\n            2006    0.101097\nName: data1, dtype: float64"
     },
     "execution_count": 8,
     "metadata": {},
     "output_type": "execute_result"
    }
   ],
   "source": [
    "# 分组键可以是正确长度的任意数组\n",
    "states = np.array(['Ohio', 'California', 'California', 'Ohio', 'Ohio'])\n",
    "years = np.array([2005, 2006, 2005, 2006, 2005])\n",
    "df.groupby([states, years])['data1'].mean()"
   ],
   "metadata": {
    "collapsed": false,
    "pycharm": {
     "name": "#%%\n"
    }
   }
  },
  {
   "cell_type": "code",
   "execution_count": 9,
   "outputs": [
    {
     "data": {
      "text/plain": "         data1     data2\nkey1                    \na    -0.427583 -0.464749\nb     0.728017 -0.467009",
      "text/html": "<div>\n<style scoped>\n    .dataframe tbody tr th:only-of-type {\n        vertical-align: middle;\n    }\n\n    .dataframe tbody tr th {\n        vertical-align: top;\n    }\n\n    .dataframe thead th {\n        text-align: right;\n    }\n</style>\n<table border=\"1\" class=\"dataframe\">\n  <thead>\n    <tr style=\"text-align: right;\">\n      <th></th>\n      <th>data1</th>\n      <th>data2</th>\n    </tr>\n    <tr>\n      <th>key1</th>\n      <th></th>\n      <th></th>\n    </tr>\n  </thead>\n  <tbody>\n    <tr>\n      <th>a</th>\n      <td>-0.427583</td>\n      <td>-0.464749</td>\n    </tr>\n    <tr>\n      <th>b</th>\n      <td>0.728017</td>\n      <td>-0.467009</td>\n    </tr>\n  </tbody>\n</table>\n</div>"
     },
     "execution_count": 9,
     "metadata": {},
     "output_type": "execute_result"
    }
   ],
   "source": [
    "# 传递列名也可以作为分组键\n",
    "# 可以看到结果中并没有key2，因为key2并不是数值数据\n",
    "df.groupby('key1').mean()"
   ],
   "metadata": {
    "collapsed": false,
    "pycharm": {
     "name": "#%%\n"
    }
   }
  },
  {
   "cell_type": "code",
   "execution_count": 10,
   "outputs": [
    {
     "data": {
      "text/plain": "              data1     data2\nkey1 key2                    \na    one  -0.919364 -1.152596\n     two   0.555978  0.910947\nb    one   1.354937 -0.938447\n     two   0.101097  0.004430",
      "text/html": "<div>\n<style scoped>\n    .dataframe tbody tr th:only-of-type {\n        vertical-align: middle;\n    }\n\n    .dataframe tbody tr th {\n        vertical-align: top;\n    }\n\n    .dataframe thead th {\n        text-align: right;\n    }\n</style>\n<table border=\"1\" class=\"dataframe\">\n  <thead>\n    <tr style=\"text-align: right;\">\n      <th></th>\n      <th></th>\n      <th>data1</th>\n      <th>data2</th>\n    </tr>\n    <tr>\n      <th>key1</th>\n      <th>key2</th>\n      <th></th>\n      <th></th>\n    </tr>\n  </thead>\n  <tbody>\n    <tr>\n      <th rowspan=\"2\" valign=\"top\">a</th>\n      <th>one</th>\n      <td>-0.919364</td>\n      <td>-1.152596</td>\n    </tr>\n    <tr>\n      <th>two</th>\n      <td>0.555978</td>\n      <td>0.910947</td>\n    </tr>\n    <tr>\n      <th rowspan=\"2\" valign=\"top\">b</th>\n      <th>one</th>\n      <td>1.354937</td>\n      <td>-0.938447</td>\n    </tr>\n    <tr>\n      <th>two</th>\n      <td>0.101097</td>\n      <td>0.004430</td>\n    </tr>\n  </tbody>\n</table>\n</div>"
     },
     "execution_count": 10,
     "metadata": {},
     "output_type": "execute_result"
    }
   ],
   "source": [
    "df.groupby(['key1', 'key2']).mean()"
   ],
   "metadata": {
    "collapsed": false,
    "pycharm": {
     "name": "#%%\n"
    }
   }
  },
  {
   "cell_type": "code",
   "execution_count": 13,
   "outputs": [
    {
     "data": {
      "text/plain": "key1  key2\na     one     2\n      two     1\nb     one     1\n      two     1\ndtype: int64"
     },
     "execution_count": 13,
     "metadata": {},
     "output_type": "execute_result"
    }
   ],
   "source": [
    "df.groupby(['key1', 'key2']).size()"
   ],
   "metadata": {
    "collapsed": false,
    "pycharm": {
     "name": "#%%\n"
    }
   }
  },
  {
   "cell_type": "markdown",
   "source": [
    "### 10.1.1 遍历各分组"
   ],
   "metadata": {
    "collapsed": false,
    "pycharm": {
     "name": "#%% md\n"
    }
   }
  },
  {
   "cell_type": "code",
   "execution_count": 14,
   "outputs": [
    {
     "name": "stdout",
     "output_type": "stream",
     "text": [
      "a\n",
      "  key1 key2     data1     data2\n",
      "0    a  one -0.844591 -1.393349\n",
      "1    a  two  0.555978  0.910947\n",
      "4    a  one -0.994137 -0.911844\n",
      "b\n",
      "  key1 key2     data1     data2\n",
      "2    b  one  1.354937 -0.938447\n",
      "3    b  two  0.101097  0.004430\n"
     ]
    }
   ],
   "source": [
    "# groupby对象支持迭代，会生成一个包含组名和数据块的2维元组序列\n",
    "for name, group in df.groupby('key1'):\n",
    "    print(name)\n",
    "    print(group)"
   ],
   "metadata": {
    "collapsed": false,
    "pycharm": {
     "name": "#%%\n"
    }
   }
  },
  {
   "cell_type": "code",
   "execution_count": 15,
   "outputs": [
    {
     "name": "stdout",
     "output_type": "stream",
     "text": [
      "('a', 'one')\n",
      "  key1 key2     data1     data2\n",
      "0    a  one -0.844591 -1.393349\n",
      "4    a  one -0.994137 -0.911844\n",
      "('a', 'two')\n",
      "  key1 key2     data1     data2\n",
      "1    a  two  0.555978  0.910947\n",
      "('b', 'one')\n",
      "  key1 key2     data1     data2\n",
      "2    b  one  1.354937 -0.938447\n",
      "('b', 'two')\n",
      "  key1 key2     data1    data2\n",
      "3    b  two  0.101097  0.00443\n"
     ]
    }
   ],
   "source": [
    "# 在多个分组键的情况下，元组中的第一个元素是键值的元组\n",
    "for (k1, k2), group in df.groupby(['key1', 'key2']):\n",
    "    print((k1, k2))\n",
    "    print(group)"
   ],
   "metadata": {
    "collapsed": false,
    "pycharm": {
     "name": "#%%\n"
    }
   }
  },
  {
   "cell_type": "code",
   "execution_count": 16,
   "outputs": [
    {
     "data": {
      "text/plain": "{'a':   key1 key2     data1     data2\n 0    a  one -0.844591 -1.393349\n 1    a  two  0.555978  0.910947\n 4    a  one -0.994137 -0.911844,\n 'b':   key1 key2     data1     data2\n 2    b  one  1.354937 -0.938447\n 3    b  two  0.101097  0.004430}"
     },
     "execution_count": 16,
     "metadata": {},
     "output_type": "execute_result"
    }
   ],
   "source": [
    "pieces = dict(list(df.groupby('key1')))\n",
    "pieces"
   ],
   "metadata": {
    "collapsed": false,
    "pycharm": {
     "name": "#%%\n"
    }
   }
  },
  {
   "cell_type": "markdown",
   "source": [
    "### 10.1.2 选择一列或所有列的子集"
   ],
   "metadata": {
    "collapsed": false,
    "pycharm": {
     "name": "#%% md\n"
    }
   }
  },
  {
   "cell_type": "code",
   "execution_count": 18,
   "outputs": [
    {
     "data": {
      "text/plain": "key1\na   -1.282750\nb    1.456034\nName: data1, dtype: float64"
     },
     "execution_count": 18,
     "metadata": {},
     "output_type": "execute_result"
    }
   ],
   "source": [
    "# 只有data1\n",
    "df.groupby('key1')['data1'].sum()"
   ],
   "metadata": {
    "collapsed": false,
    "pycharm": {
     "name": "#%%\n"
    }
   }
  },
  {
   "cell_type": "code",
   "execution_count": 21,
   "outputs": [
    {
     "data": {
      "text/plain": "key1\na   -1.282750\nb    1.456034\nName: data1, dtype: float64"
     },
     "execution_count": 21,
     "metadata": {},
     "output_type": "execute_result"
    }
   ],
   "source": [
    "df['data1'].groupby(df['key1']).sum()"
   ],
   "metadata": {
    "collapsed": false,
    "pycharm": {
     "name": "#%%\n"
    }
   }
  },
  {
   "cell_type": "code",
   "execution_count": 22,
   "outputs": [
    {
     "data": {
      "text/plain": "key1  key2\na     one    -2.305193\n      two     0.910947\nb     one    -0.938447\n      two     0.004430\nName: data2, dtype: float64"
     },
     "execution_count": 22,
     "metadata": {},
     "output_type": "execute_result"
    }
   ],
   "source": [
    "# 选择一部分数据列，只需要指定就好\n",
    "df.groupby(['key1', 'key2'])['data2'].sum()"
   ],
   "metadata": {
    "collapsed": false,
    "pycharm": {
     "name": "#%%\n"
    }
   }
  },
  {
   "cell_type": "code",
   "execution_count": 23,
   "outputs": [
    {
     "data": {
      "text/plain": "<pandas.core.groupby.generic.SeriesGroupBy object at 0x7fc2c012d2b0>"
     },
     "execution_count": 23,
     "metadata": {},
     "output_type": "execute_result"
    }
   ],
   "source": [
    "# 1 如果只有单个列名作为标量传递，则为分组的Series\n",
    "s_grouped = df.groupby(['key1', 'key2'])['data2']\n",
    "s_grouped"
   ],
   "metadata": {
    "collapsed": false,
    "pycharm": {
     "name": "#%%\n"
    }
   }
  },
  {
   "cell_type": "code",
   "execution_count": 24,
   "outputs": [
    {
     "data": {
      "text/plain": "key1  key2\na     one    -1.152596\n      two     0.910947\nb     one    -0.938447\n      two     0.004430\nName: data2, dtype: float64"
     },
     "execution_count": 24,
     "metadata": {},
     "output_type": "execute_result"
    }
   ],
   "source": [
    "s_grouped.mean()"
   ],
   "metadata": {
    "collapsed": false,
    "pycharm": {
     "name": "#%%\n"
    }
   }
  },
  {
   "cell_type": "code",
   "execution_count": 26,
   "outputs": [
    {
     "data": {
      "text/plain": "<pandas.core.groupby.generic.DataFrameGroupBy object at 0x7fc2e03bd070>"
     },
     "execution_count": 26,
     "metadata": {},
     "output_type": "execute_result"
    }
   ],
   "source": [
    "# 2 如果传递的是列表或数组，则此索引操作返回的对象是分组的DataFrame\n",
    "# 传入列表，返回DataFrame\n",
    "s_grouped = df.groupby('key1')[['data2']]\n",
    "s_grouped"
   ],
   "metadata": {
    "collapsed": false,
    "pycharm": {
     "name": "#%%\n"
    }
   }
  },
  {
   "cell_type": "markdown",
   "source": [
    "### 10.1.3 使用字典和Series分组"
   ],
   "metadata": {
    "collapsed": false,
    "pycharm": {
     "name": "#%% md\n"
    }
   }
  },
  {
   "cell_type": "code",
   "execution_count": 27,
   "outputs": [
    {
     "data": {
      "text/plain": "               a         b         c         d         e\nJoe     0.553660 -2.508598  0.709008  0.021766 -0.926256\nSteve   0.736930  0.450232  1.831150  0.819195  0.978891\nWes     0.961692 -0.405816 -0.669264  0.104635  0.213450\nJim    -0.805714  1.622042  0.932485 -1.750847 -2.252258\nTravis -0.590660 -0.622607  1.144758 -1.018615 -0.458426",
      "text/html": "<div>\n<style scoped>\n    .dataframe tbody tr th:only-of-type {\n        vertical-align: middle;\n    }\n\n    .dataframe tbody tr th {\n        vertical-align: top;\n    }\n\n    .dataframe thead th {\n        text-align: right;\n    }\n</style>\n<table border=\"1\" class=\"dataframe\">\n  <thead>\n    <tr style=\"text-align: right;\">\n      <th></th>\n      <th>a</th>\n      <th>b</th>\n      <th>c</th>\n      <th>d</th>\n      <th>e</th>\n    </tr>\n  </thead>\n  <tbody>\n    <tr>\n      <th>Joe</th>\n      <td>0.553660</td>\n      <td>-2.508598</td>\n      <td>0.709008</td>\n      <td>0.021766</td>\n      <td>-0.926256</td>\n    </tr>\n    <tr>\n      <th>Steve</th>\n      <td>0.736930</td>\n      <td>0.450232</td>\n      <td>1.831150</td>\n      <td>0.819195</td>\n      <td>0.978891</td>\n    </tr>\n    <tr>\n      <th>Wes</th>\n      <td>0.961692</td>\n      <td>-0.405816</td>\n      <td>-0.669264</td>\n      <td>0.104635</td>\n      <td>0.213450</td>\n    </tr>\n    <tr>\n      <th>Jim</th>\n      <td>-0.805714</td>\n      <td>1.622042</td>\n      <td>0.932485</td>\n      <td>-1.750847</td>\n      <td>-2.252258</td>\n    </tr>\n    <tr>\n      <th>Travis</th>\n      <td>-0.590660</td>\n      <td>-0.622607</td>\n      <td>1.144758</td>\n      <td>-1.018615</td>\n      <td>-0.458426</td>\n    </tr>\n  </tbody>\n</table>\n</div>"
     },
     "execution_count": 27,
     "metadata": {},
     "output_type": "execute_result"
    }
   ],
   "source": [
    "# 分组信息可能会以非数组形式存在\n",
    "people = pd.DataFrame(np.random.randn(5, 5),\n",
    "                      columns=list('abcde'),\n",
    "                      index=['Joe', 'Steve', 'Wes', 'Jim', 'Travis'])\n",
    "people"
   ],
   "metadata": {
    "collapsed": false,
    "pycharm": {
     "name": "#%%\n"
    }
   }
  },
  {
   "cell_type": "code",
   "execution_count": 29,
   "outputs": [
    {
     "data": {
      "text/plain": "               a         b         c         d         e\nJoe     0.553660 -2.508598  0.709008  0.021766 -0.926256\nSteve   0.736930  0.450232  1.831150  0.819195  0.978891\nWes     0.961692       NaN       NaN  0.104635  0.213450\nJim    -0.805714  1.622042  0.932485 -1.750847 -2.252258\nTravis -0.590660 -0.622607  1.144758 -1.018615 -0.458426",
      "text/html": "<div>\n<style scoped>\n    .dataframe tbody tr th:only-of-type {\n        vertical-align: middle;\n    }\n\n    .dataframe tbody tr th {\n        vertical-align: top;\n    }\n\n    .dataframe thead th {\n        text-align: right;\n    }\n</style>\n<table border=\"1\" class=\"dataframe\">\n  <thead>\n    <tr style=\"text-align: right;\">\n      <th></th>\n      <th>a</th>\n      <th>b</th>\n      <th>c</th>\n      <th>d</th>\n      <th>e</th>\n    </tr>\n  </thead>\n  <tbody>\n    <tr>\n      <th>Joe</th>\n      <td>0.553660</td>\n      <td>-2.508598</td>\n      <td>0.709008</td>\n      <td>0.021766</td>\n      <td>-0.926256</td>\n    </tr>\n    <tr>\n      <th>Steve</th>\n      <td>0.736930</td>\n      <td>0.450232</td>\n      <td>1.831150</td>\n      <td>0.819195</td>\n      <td>0.978891</td>\n    </tr>\n    <tr>\n      <th>Wes</th>\n      <td>0.961692</td>\n      <td>NaN</td>\n      <td>NaN</td>\n      <td>0.104635</td>\n      <td>0.213450</td>\n    </tr>\n    <tr>\n      <th>Jim</th>\n      <td>-0.805714</td>\n      <td>1.622042</td>\n      <td>0.932485</td>\n      <td>-1.750847</td>\n      <td>-2.252258</td>\n    </tr>\n    <tr>\n      <th>Travis</th>\n      <td>-0.590660</td>\n      <td>-0.622607</td>\n      <td>1.144758</td>\n      <td>-1.018615</td>\n      <td>-0.458426</td>\n    </tr>\n  </tbody>\n</table>\n</div>"
     },
     "execution_count": 29,
     "metadata": {},
     "output_type": "execute_result"
    }
   ],
   "source": [
    "people.iloc[2:3, [1, 2]] = np.nan\n",
    "people"
   ],
   "metadata": {
    "collapsed": false,
    "pycharm": {
     "name": "#%%\n"
    }
   }
  },
  {
   "cell_type": "code",
   "execution_count": 30,
   "outputs": [],
   "source": [
    "# 各列的分组对应关系，并且想把各列按组累加\n",
    "mapping = {'a': 'red', 'b': 'red', 'c': 'blue', 'd': 'blue', 'e': 'red', 'f': 'orange'}"
   ],
   "metadata": {
    "collapsed": false,
    "pycharm": {
     "name": "#%%\n"
    }
   }
  },
  {
   "cell_type": "code",
   "execution_count": 31,
   "outputs": [
    {
     "data": {
      "text/plain": "            blue       red\nJoe     0.730774 -2.881193\nSteve   2.650345  2.166053\nWes     0.104635  1.175141\nJim    -0.818363 -1.435931\nTravis  0.126143 -1.671693",
      "text/html": "<div>\n<style scoped>\n    .dataframe tbody tr th:only-of-type {\n        vertical-align: middle;\n    }\n\n    .dataframe tbody tr th {\n        vertical-align: top;\n    }\n\n    .dataframe thead th {\n        text-align: right;\n    }\n</style>\n<table border=\"1\" class=\"dataframe\">\n  <thead>\n    <tr style=\"text-align: right;\">\n      <th></th>\n      <th>blue</th>\n      <th>red</th>\n    </tr>\n  </thead>\n  <tbody>\n    <tr>\n      <th>Joe</th>\n      <td>0.730774</td>\n      <td>-2.881193</td>\n    </tr>\n    <tr>\n      <th>Steve</th>\n      <td>2.650345</td>\n      <td>2.166053</td>\n    </tr>\n    <tr>\n      <th>Wes</th>\n      <td>0.104635</td>\n      <td>1.175141</td>\n    </tr>\n    <tr>\n      <th>Jim</th>\n      <td>-0.818363</td>\n      <td>-1.435931</td>\n    </tr>\n    <tr>\n      <th>Travis</th>\n      <td>0.126143</td>\n      <td>-1.671693</td>\n    </tr>\n  </tbody>\n</table>\n</div>"
     },
     "execution_count": 31,
     "metadata": {},
     "output_type": "execute_result"
    }
   ],
   "source": [
    "by_column = people.groupby(mapping, axis=1)\n",
    "by_column.sum()"
   ],
   "metadata": {
    "collapsed": false,
    "pycharm": {
     "name": "#%%\n"
    }
   }
  },
  {
   "cell_type": "code",
   "execution_count": 32,
   "outputs": [
    {
     "data": {
      "text/plain": "a       red\nb       red\nc      blue\nd      blue\ne       red\nf    orange\ndtype: object"
     },
     "execution_count": 32,
     "metadata": {},
     "output_type": "execute_result"
    }
   ],
   "source": [
    "map_series = pd.Series(mapping)\n",
    "map_series"
   ],
   "metadata": {
    "collapsed": false,
    "pycharm": {
     "name": "#%%\n"
    }
   }
  },
  {
   "cell_type": "markdown",
   "source": [
    "### 10.1.4 使用函数分组"
   ],
   "metadata": {
    "collapsed": false,
    "pycharm": {
     "name": "#%% md\n"
    }
   }
  },
  {
   "cell_type": "code",
   "execution_count": 33,
   "outputs": [
    {
     "data": {
      "text/plain": "          a         b         c         d         e\n3  0.709638 -0.886556  1.641493 -1.624447 -2.965064\n5  0.736930  0.450232  1.831150  0.819195  0.978891\n6 -0.590660 -0.622607  1.144758 -1.018615 -0.458426",
      "text/html": "<div>\n<style scoped>\n    .dataframe tbody tr th:only-of-type {\n        vertical-align: middle;\n    }\n\n    .dataframe tbody tr th {\n        vertical-align: top;\n    }\n\n    .dataframe thead th {\n        text-align: right;\n    }\n</style>\n<table border=\"1\" class=\"dataframe\">\n  <thead>\n    <tr style=\"text-align: right;\">\n      <th></th>\n      <th>a</th>\n      <th>b</th>\n      <th>c</th>\n      <th>d</th>\n      <th>e</th>\n    </tr>\n  </thead>\n  <tbody>\n    <tr>\n      <th>3</th>\n      <td>0.709638</td>\n      <td>-0.886556</td>\n      <td>1.641493</td>\n      <td>-1.624447</td>\n      <td>-2.965064</td>\n    </tr>\n    <tr>\n      <th>5</th>\n      <td>0.736930</td>\n      <td>0.450232</td>\n      <td>1.831150</td>\n      <td>0.819195</td>\n      <td>0.978891</td>\n    </tr>\n    <tr>\n      <th>6</th>\n      <td>-0.590660</td>\n      <td>-0.622607</td>\n      <td>1.144758</td>\n      <td>-1.018615</td>\n      <td>-0.458426</td>\n    </tr>\n  </tbody>\n</table>\n</div>"
     },
     "execution_count": 33,
     "metadata": {},
     "output_type": "execute_result"
    }
   ],
   "source": [
    "# 按照名字的长度分组\n",
    "people.groupby(len).sum()"
   ],
   "metadata": {
    "collapsed": false,
    "pycharm": {
     "name": "#%%\n"
    }
   }
  },
  {
   "cell_type": "code",
   "execution_count": 34,
   "outputs": [
    {
     "data": {
      "text/plain": "               a         b         c         d         e\nJoe     0.553660 -2.508598  0.709008  0.021766 -0.926256\nSteve   0.736930  0.450232  1.831150  0.819195  0.978891\nWes     0.961692       NaN       NaN  0.104635  0.213450\nJim    -0.805714  1.622042  0.932485 -1.750847 -2.252258\nTravis -0.590660 -0.622607  1.144758 -1.018615 -0.458426",
      "text/html": "<div>\n<style scoped>\n    .dataframe tbody tr th:only-of-type {\n        vertical-align: middle;\n    }\n\n    .dataframe tbody tr th {\n        vertical-align: top;\n    }\n\n    .dataframe thead th {\n        text-align: right;\n    }\n</style>\n<table border=\"1\" class=\"dataframe\">\n  <thead>\n    <tr style=\"text-align: right;\">\n      <th></th>\n      <th>a</th>\n      <th>b</th>\n      <th>c</th>\n      <th>d</th>\n      <th>e</th>\n    </tr>\n  </thead>\n  <tbody>\n    <tr>\n      <th>Joe</th>\n      <td>0.553660</td>\n      <td>-2.508598</td>\n      <td>0.709008</td>\n      <td>0.021766</td>\n      <td>-0.926256</td>\n    </tr>\n    <tr>\n      <th>Steve</th>\n      <td>0.736930</td>\n      <td>0.450232</td>\n      <td>1.831150</td>\n      <td>0.819195</td>\n      <td>0.978891</td>\n    </tr>\n    <tr>\n      <th>Wes</th>\n      <td>0.961692</td>\n      <td>NaN</td>\n      <td>NaN</td>\n      <td>0.104635</td>\n      <td>0.213450</td>\n    </tr>\n    <tr>\n      <th>Jim</th>\n      <td>-0.805714</td>\n      <td>1.622042</td>\n      <td>0.932485</td>\n      <td>-1.750847</td>\n      <td>-2.252258</td>\n    </tr>\n    <tr>\n      <th>Travis</th>\n      <td>-0.590660</td>\n      <td>-0.622607</td>\n      <td>1.144758</td>\n      <td>-1.018615</td>\n      <td>-0.458426</td>\n    </tr>\n  </tbody>\n</table>\n</div>"
     },
     "execution_count": 34,
     "metadata": {},
     "output_type": "execute_result"
    }
   ],
   "source": [
    "people"
   ],
   "metadata": {
    "collapsed": false,
    "pycharm": {
     "name": "#%%\n"
    }
   }
  },
  {
   "cell_type": "code",
   "execution_count": 35,
   "outputs": [
    {
     "data": {
      "text/plain": "              a         b         c         d         e\n3 one  1.515352 -2.508598  0.709008  0.126401 -0.712806\n  two -0.805714  1.622042  0.932485 -1.750847 -2.252258\n5 one  0.736930  0.450232  1.831150  0.819195  0.978891\n6 two -0.590660 -0.622607  1.144758 -1.018615 -0.458426",
      "text/html": "<div>\n<style scoped>\n    .dataframe tbody tr th:only-of-type {\n        vertical-align: middle;\n    }\n\n    .dataframe tbody tr th {\n        vertical-align: top;\n    }\n\n    .dataframe thead th {\n        text-align: right;\n    }\n</style>\n<table border=\"1\" class=\"dataframe\">\n  <thead>\n    <tr style=\"text-align: right;\">\n      <th></th>\n      <th></th>\n      <th>a</th>\n      <th>b</th>\n      <th>c</th>\n      <th>d</th>\n      <th>e</th>\n    </tr>\n  </thead>\n  <tbody>\n    <tr>\n      <th rowspan=\"2\" valign=\"top\">3</th>\n      <th>one</th>\n      <td>1.515352</td>\n      <td>-2.508598</td>\n      <td>0.709008</td>\n      <td>0.126401</td>\n      <td>-0.712806</td>\n    </tr>\n    <tr>\n      <th>two</th>\n      <td>-0.805714</td>\n      <td>1.622042</td>\n      <td>0.932485</td>\n      <td>-1.750847</td>\n      <td>-2.252258</td>\n    </tr>\n    <tr>\n      <th>5</th>\n      <th>one</th>\n      <td>0.736930</td>\n      <td>0.450232</td>\n      <td>1.831150</td>\n      <td>0.819195</td>\n      <td>0.978891</td>\n    </tr>\n    <tr>\n      <th>6</th>\n      <th>two</th>\n      <td>-0.590660</td>\n      <td>-0.622607</td>\n      <td>1.144758</td>\n      <td>-1.018615</td>\n      <td>-0.458426</td>\n    </tr>\n  </tbody>\n</table>\n</div>"
     },
     "execution_count": 35,
     "metadata": {},
     "output_type": "execute_result"
    }
   ],
   "source": [
    "# 将函数与数组、字典或Series进行混合并不困难，所有的对象那个都会在内部转换为数组\n",
    "key_list = ['one', 'one', 'one', 'two', 'two']\n",
    "people.groupby([len, key_list]).sum()"
   ],
   "metadata": {
    "collapsed": false,
    "pycharm": {
     "name": "#%%\n"
    }
   }
  },
  {
   "cell_type": "markdown",
   "source": [
    "### 10.1.5 根据索引层级分组"
   ],
   "metadata": {
    "collapsed": false,
    "pycharm": {
     "name": "#%% md\n"
    }
   }
  },
  {
   "cell_type": "code",
   "execution_count": 36,
   "outputs": [
    {
     "data": {
      "text/plain": "city         US                            JP          \ntenor         1         3         5         1         3\n0      1.069803 -0.845073  2.057548 -1.672885 -0.760306\n1      1.250289  1.074574  1.148241  1.187818  0.576493\n2      0.350411 -0.100084  0.406645  0.983204 -0.178269\n3     -0.485553 -1.253105  0.632496 -0.850636 -0.401723",
      "text/html": "<div>\n<style scoped>\n    .dataframe tbody tr th:only-of-type {\n        vertical-align: middle;\n    }\n\n    .dataframe tbody tr th {\n        vertical-align: top;\n    }\n\n    .dataframe thead tr th {\n        text-align: left;\n    }\n</style>\n<table border=\"1\" class=\"dataframe\">\n  <thead>\n    <tr>\n      <th>city</th>\n      <th colspan=\"3\" halign=\"left\">US</th>\n      <th colspan=\"2\" halign=\"left\">JP</th>\n    </tr>\n    <tr>\n      <th>tenor</th>\n      <th>1</th>\n      <th>3</th>\n      <th>5</th>\n      <th>1</th>\n      <th>3</th>\n    </tr>\n  </thead>\n  <tbody>\n    <tr>\n      <th>0</th>\n      <td>1.069803</td>\n      <td>-0.845073</td>\n      <td>2.057548</td>\n      <td>-1.672885</td>\n      <td>-0.760306</td>\n    </tr>\n    <tr>\n      <th>1</th>\n      <td>1.250289</td>\n      <td>1.074574</td>\n      <td>1.148241</td>\n      <td>1.187818</td>\n      <td>0.576493</td>\n    </tr>\n    <tr>\n      <th>2</th>\n      <td>0.350411</td>\n      <td>-0.100084</td>\n      <td>0.406645</td>\n      <td>0.983204</td>\n      <td>-0.178269</td>\n    </tr>\n    <tr>\n      <th>3</th>\n      <td>-0.485553</td>\n      <td>-1.253105</td>\n      <td>0.632496</td>\n      <td>-0.850636</td>\n      <td>-0.401723</td>\n    </tr>\n  </tbody>\n</table>\n</div>"
     },
     "execution_count": 36,
     "metadata": {},
     "output_type": "execute_result"
    }
   ],
   "source": [
    "# 分层索引的数据有一个非常方便的地方，就是能够在周索引的某个层级上进行聚合\n",
    "columns = pd.MultiIndex.from_arrays([['US', 'US', 'US', 'JP', 'JP'],\n",
    "                                     [1, 3, 5, 1, 3]],\n",
    "                                    names=['city', 'tenor'])\n",
    "hier_df = pd.DataFrame(np.random.randn(4, 5), columns=columns)\n",
    "hier_df"
   ],
   "metadata": {
    "collapsed": false,
    "pycharm": {
     "name": "#%%\n"
    }
   }
  },
  {
   "cell_type": "code",
   "execution_count": 37,
   "outputs": [
    {
     "data": {
      "text/plain": "city  JP  US\n0      2   3\n1      2   3\n2      2   3\n3      2   3",
      "text/html": "<div>\n<style scoped>\n    .dataframe tbody tr th:only-of-type {\n        vertical-align: middle;\n    }\n\n    .dataframe tbody tr th {\n        vertical-align: top;\n    }\n\n    .dataframe thead th {\n        text-align: right;\n    }\n</style>\n<table border=\"1\" class=\"dataframe\">\n  <thead>\n    <tr style=\"text-align: right;\">\n      <th>city</th>\n      <th>JP</th>\n      <th>US</th>\n    </tr>\n  </thead>\n  <tbody>\n    <tr>\n      <th>0</th>\n      <td>2</td>\n      <td>3</td>\n    </tr>\n    <tr>\n      <th>1</th>\n      <td>2</td>\n      <td>3</td>\n    </tr>\n    <tr>\n      <th>2</th>\n      <td>2</td>\n      <td>3</td>\n    </tr>\n    <tr>\n      <th>3</th>\n      <td>2</td>\n      <td>3</td>\n    </tr>\n  </tbody>\n</table>\n</div>"
     },
     "execution_count": 37,
     "metadata": {},
     "output_type": "execute_result"
    }
   ],
   "source": [
    "hier_df.groupby(level='city', axis=1).count()"
   ],
   "metadata": {
    "collapsed": false,
    "pycharm": {
     "name": "#%%\n"
    }
   }
  },
  {
   "cell_type": "markdown",
   "source": [
    "## 10.2 数据聚合"
   ],
   "metadata": {
    "collapsed": false,
    "pycharm": {
     "name": "#%% md\n"
    }
   }
  },
  {
   "cell_type": "code",
   "execution_count": 38,
   "outputs": [
    {
     "data": {
      "text/plain": "  key1 key2     data1     data2\n0    a  one -0.844591 -1.393349\n1    a  two  0.555978  0.910947\n2    b  one  1.354937 -0.938447\n3    b  two  0.101097  0.004430\n4    a  one -0.994137 -0.911844",
      "text/html": "<div>\n<style scoped>\n    .dataframe tbody tr th:only-of-type {\n        vertical-align: middle;\n    }\n\n    .dataframe tbody tr th {\n        vertical-align: top;\n    }\n\n    .dataframe thead th {\n        text-align: right;\n    }\n</style>\n<table border=\"1\" class=\"dataframe\">\n  <thead>\n    <tr style=\"text-align: right;\">\n      <th></th>\n      <th>key1</th>\n      <th>key2</th>\n      <th>data1</th>\n      <th>data2</th>\n    </tr>\n  </thead>\n  <tbody>\n    <tr>\n      <th>0</th>\n      <td>a</td>\n      <td>one</td>\n      <td>-0.844591</td>\n      <td>-1.393349</td>\n    </tr>\n    <tr>\n      <th>1</th>\n      <td>a</td>\n      <td>two</td>\n      <td>0.555978</td>\n      <td>0.910947</td>\n    </tr>\n    <tr>\n      <th>2</th>\n      <td>b</td>\n      <td>one</td>\n      <td>1.354937</td>\n      <td>-0.938447</td>\n    </tr>\n    <tr>\n      <th>3</th>\n      <td>b</td>\n      <td>two</td>\n      <td>0.101097</td>\n      <td>0.004430</td>\n    </tr>\n    <tr>\n      <th>4</th>\n      <td>a</td>\n      <td>one</td>\n      <td>-0.994137</td>\n      <td>-0.911844</td>\n    </tr>\n  </tbody>\n</table>\n</div>"
     },
     "execution_count": 38,
     "metadata": {},
     "output_type": "execute_result"
    }
   ],
   "source": [
    "df"
   ],
   "metadata": {
    "collapsed": false,
    "pycharm": {
     "name": "#%%\n"
    }
   }
  },
  {
   "cell_type": "code",
   "execution_count": 41,
   "outputs": [
    {
     "data": {
      "text/plain": "key1\na   -0.844591\nb    0.728017\nName: data1, dtype: float64"
     },
     "execution_count": 41,
     "metadata": {},
     "output_type": "execute_result"
    }
   ],
   "source": [
    "df.groupby('key1')['data1'].quantile(0.5)"
   ],
   "metadata": {
    "collapsed": false,
    "pycharm": {
     "name": "#%%\n"
    }
   }
  },
  {
   "cell_type": "code",
   "execution_count": 43,
   "outputs": [
    {
     "data": {
      "text/plain": "key1\na    1.550115\nb    1.253841\nName: data1, dtype: float64"
     },
     "execution_count": 43,
     "metadata": {},
     "output_type": "execute_result"
    }
   ],
   "source": [
    "# 要使用子集的聚合函数，需要将函数传递给aggregate或agg方法\n",
    "def peak_to_peak(arr):\n",
    "    return arr.max() - arr.min()\n",
    "\n",
    "\n",
    "df.groupby('key1')['data1'].agg(peak_to_peak)"
   ],
   "metadata": {
    "collapsed": false,
    "pycharm": {
     "name": "#%%\n"
    }
   }
  },
  {
   "cell_type": "code",
   "execution_count": 45,
   "outputs": [
    {
     "data": {
      "text/plain": "     data1                                                              \\\n     count      mean       std       min       25%       50%       75%   \nkey1                                                                     \na      3.0 -0.427583  0.855065 -0.994137 -0.919364 -0.844591 -0.144306   \nb      2.0  0.728017  0.886599  0.101097  0.414557  0.728017  1.041477   \n\n               data2                                                    \\\n           max count      mean       std       min       25%       50%   \nkey1                                                                     \na     0.555978   3.0 -0.464749  1.215469 -1.393349 -1.152596 -0.911844   \nb     1.354937   2.0 -0.467009  0.666714 -0.938447 -0.702728 -0.467009   \n\n                          \n           75%       max  \nkey1                      \na    -0.000449  0.910947  \nb    -0.231290  0.004430  ",
      "text/html": "<div>\n<style scoped>\n    .dataframe tbody tr th:only-of-type {\n        vertical-align: middle;\n    }\n\n    .dataframe tbody tr th {\n        vertical-align: top;\n    }\n\n    .dataframe thead tr th {\n        text-align: left;\n    }\n\n    .dataframe thead tr:last-of-type th {\n        text-align: right;\n    }\n</style>\n<table border=\"1\" class=\"dataframe\">\n  <thead>\n    <tr>\n      <th></th>\n      <th colspan=\"8\" halign=\"left\">data1</th>\n      <th colspan=\"8\" halign=\"left\">data2</th>\n    </tr>\n    <tr>\n      <th></th>\n      <th>count</th>\n      <th>mean</th>\n      <th>std</th>\n      <th>min</th>\n      <th>25%</th>\n      <th>50%</th>\n      <th>75%</th>\n      <th>max</th>\n      <th>count</th>\n      <th>mean</th>\n      <th>std</th>\n      <th>min</th>\n      <th>25%</th>\n      <th>50%</th>\n      <th>75%</th>\n      <th>max</th>\n    </tr>\n    <tr>\n      <th>key1</th>\n      <th></th>\n      <th></th>\n      <th></th>\n      <th></th>\n      <th></th>\n      <th></th>\n      <th></th>\n      <th></th>\n      <th></th>\n      <th></th>\n      <th></th>\n      <th></th>\n      <th></th>\n      <th></th>\n      <th></th>\n      <th></th>\n    </tr>\n  </thead>\n  <tbody>\n    <tr>\n      <th>a</th>\n      <td>3.0</td>\n      <td>-0.427583</td>\n      <td>0.855065</td>\n      <td>-0.994137</td>\n      <td>-0.919364</td>\n      <td>-0.844591</td>\n      <td>-0.144306</td>\n      <td>0.555978</td>\n      <td>3.0</td>\n      <td>-0.464749</td>\n      <td>1.215469</td>\n      <td>-1.393349</td>\n      <td>-1.152596</td>\n      <td>-0.911844</td>\n      <td>-0.000449</td>\n      <td>0.910947</td>\n    </tr>\n    <tr>\n      <th>b</th>\n      <td>2.0</td>\n      <td>0.728017</td>\n      <td>0.886599</td>\n      <td>0.101097</td>\n      <td>0.414557</td>\n      <td>0.728017</td>\n      <td>1.041477</td>\n      <td>1.354937</td>\n      <td>2.0</td>\n      <td>-0.467009</td>\n      <td>0.666714</td>\n      <td>-0.938447</td>\n      <td>-0.702728</td>\n      <td>-0.467009</td>\n      <td>-0.231290</td>\n      <td>0.004430</td>\n    </tr>\n  </tbody>\n</table>\n</div>"
     },
     "execution_count": 45,
     "metadata": {},
     "output_type": "execute_result"
    }
   ],
   "source": [
    "# 列出groupby默认的所有聚合结果\n",
    "df.groupby('key1').describe()"
   ],
   "metadata": {
    "collapsed": false,
    "pycharm": {
     "name": "#%%\n"
    }
   }
  },
  {
   "cell_type": "markdown",
   "source": [
    "### 10.2.1 逐列及多函数应用"
   ],
   "metadata": {
    "collapsed": false,
    "pycharm": {
     "name": "#%% md\n"
    }
   }
  },
  {
   "cell_type": "code",
   "execution_count": 46,
   "outputs": [
    {
     "data": {
      "text/plain": "   total_bill   tip smoker  day    time  size   tip_pct\n0       16.99  1.01     No  Sun  Dinner     2  0.059447\n1       10.34  1.66     No  Sun  Dinner     3  0.160542\n2       21.01  3.50     No  Sun  Dinner     3  0.166587\n3       23.68  3.31     No  Sun  Dinner     2  0.139780\n4       24.59  3.61     No  Sun  Dinner     4  0.146808\n5       25.29  4.71     No  Sun  Dinner     4  0.186240",
      "text/html": "<div>\n<style scoped>\n    .dataframe tbody tr th:only-of-type {\n        vertical-align: middle;\n    }\n\n    .dataframe tbody tr th {\n        vertical-align: top;\n    }\n\n    .dataframe thead th {\n        text-align: right;\n    }\n</style>\n<table border=\"1\" class=\"dataframe\">\n  <thead>\n    <tr style=\"text-align: right;\">\n      <th></th>\n      <th>total_bill</th>\n      <th>tip</th>\n      <th>smoker</th>\n      <th>day</th>\n      <th>time</th>\n      <th>size</th>\n      <th>tip_pct</th>\n    </tr>\n  </thead>\n  <tbody>\n    <tr>\n      <th>0</th>\n      <td>16.99</td>\n      <td>1.01</td>\n      <td>No</td>\n      <td>Sun</td>\n      <td>Dinner</td>\n      <td>2</td>\n      <td>0.059447</td>\n    </tr>\n    <tr>\n      <th>1</th>\n      <td>10.34</td>\n      <td>1.66</td>\n      <td>No</td>\n      <td>Sun</td>\n      <td>Dinner</td>\n      <td>3</td>\n      <td>0.160542</td>\n    </tr>\n    <tr>\n      <th>2</th>\n      <td>21.01</td>\n      <td>3.50</td>\n      <td>No</td>\n      <td>Sun</td>\n      <td>Dinner</td>\n      <td>3</td>\n      <td>0.166587</td>\n    </tr>\n    <tr>\n      <th>3</th>\n      <td>23.68</td>\n      <td>3.31</td>\n      <td>No</td>\n      <td>Sun</td>\n      <td>Dinner</td>\n      <td>2</td>\n      <td>0.139780</td>\n    </tr>\n    <tr>\n      <th>4</th>\n      <td>24.59</td>\n      <td>3.61</td>\n      <td>No</td>\n      <td>Sun</td>\n      <td>Dinner</td>\n      <td>4</td>\n      <td>0.146808</td>\n    </tr>\n    <tr>\n      <th>5</th>\n      <td>25.29</td>\n      <td>4.71</td>\n      <td>No</td>\n      <td>Sun</td>\n      <td>Dinner</td>\n      <td>4</td>\n      <td>0.186240</td>\n    </tr>\n  </tbody>\n</table>\n</div>"
     },
     "execution_count": 46,
     "metadata": {},
     "output_type": "execute_result"
    }
   ],
   "source": [
    "tips = pd.read_csv('./examples/tips.csv')\n",
    "tips['tip_pct'] = tips['tip'] / (tips['total_bill'])\n",
    "tips[:6]"
   ],
   "metadata": {
    "collapsed": false,
    "pycharm": {
     "name": "#%%\n"
    }
   }
  },
  {
   "cell_type": "code",
   "execution_count": 47,
   "outputs": [
    {
     "data": {
      "text/plain": "             total_bill       tip      size   tip_pct\nsmoker day                                           \nNo     Fri    18.420000  2.812500  2.250000  0.151650\n       Sat    19.661778  3.102889  2.555556  0.158048\n       Sun    20.506667  3.167895  2.929825  0.160113\n       Thur   17.113111  2.673778  2.488889  0.160298\nYes    Fri    16.813333  2.714000  2.066667  0.174783\n       Sat    21.276667  2.875476  2.476190  0.147906\n       Sun    24.120000  3.516842  2.578947  0.187250\n       Thur   19.190588  3.030000  2.352941  0.163863",
      "text/html": "<div>\n<style scoped>\n    .dataframe tbody tr th:only-of-type {\n        vertical-align: middle;\n    }\n\n    .dataframe tbody tr th {\n        vertical-align: top;\n    }\n\n    .dataframe thead th {\n        text-align: right;\n    }\n</style>\n<table border=\"1\" class=\"dataframe\">\n  <thead>\n    <tr style=\"text-align: right;\">\n      <th></th>\n      <th></th>\n      <th>total_bill</th>\n      <th>tip</th>\n      <th>size</th>\n      <th>tip_pct</th>\n    </tr>\n    <tr>\n      <th>smoker</th>\n      <th>day</th>\n      <th></th>\n      <th></th>\n      <th></th>\n      <th></th>\n    </tr>\n  </thead>\n  <tbody>\n    <tr>\n      <th rowspan=\"4\" valign=\"top\">No</th>\n      <th>Fri</th>\n      <td>18.420000</td>\n      <td>2.812500</td>\n      <td>2.250000</td>\n      <td>0.151650</td>\n    </tr>\n    <tr>\n      <th>Sat</th>\n      <td>19.661778</td>\n      <td>3.102889</td>\n      <td>2.555556</td>\n      <td>0.158048</td>\n    </tr>\n    <tr>\n      <th>Sun</th>\n      <td>20.506667</td>\n      <td>3.167895</td>\n      <td>2.929825</td>\n      <td>0.160113</td>\n    </tr>\n    <tr>\n      <th>Thur</th>\n      <td>17.113111</td>\n      <td>2.673778</td>\n      <td>2.488889</td>\n      <td>0.160298</td>\n    </tr>\n    <tr>\n      <th rowspan=\"4\" valign=\"top\">Yes</th>\n      <th>Fri</th>\n      <td>16.813333</td>\n      <td>2.714000</td>\n      <td>2.066667</td>\n      <td>0.174783</td>\n    </tr>\n    <tr>\n      <th>Sat</th>\n      <td>21.276667</td>\n      <td>2.875476</td>\n      <td>2.476190</td>\n      <td>0.147906</td>\n    </tr>\n    <tr>\n      <th>Sun</th>\n      <td>24.120000</td>\n      <td>3.516842</td>\n      <td>2.578947</td>\n      <td>0.187250</td>\n    </tr>\n    <tr>\n      <th>Thur</th>\n      <td>19.190588</td>\n      <td>3.030000</td>\n      <td>2.352941</td>\n      <td>0.163863</td>\n    </tr>\n  </tbody>\n</table>\n</div>"
     },
     "execution_count": 47,
     "metadata": {},
     "output_type": "execute_result"
    }
   ],
   "source": [
    "grouped = tips.groupby(['smoker', 'day'])\n",
    "grouped.agg('mean')"
   ],
   "metadata": {
    "collapsed": false,
    "pycharm": {
     "name": "#%%\n"
    }
   }
  },
  {
   "cell_type": "code",
   "execution_count": 49,
   "outputs": [
    {
     "data": {
      "text/plain": "smoker  day \nNo      Fri     0.151650\n        Sat     0.158048\n        Sun     0.160113\n        Thur    0.160298\nYes     Fri     0.174783\n        Sat     0.147906\n        Sun     0.187250\n        Thur    0.163863\nName: tip_pct, dtype: float64"
     },
     "execution_count": 49,
     "metadata": {},
     "output_type": "execute_result"
    }
   ],
   "source": [
    "# 你可以将函数名以字符串形式传递\n",
    "grouped_pct = grouped['tip_pct']\n",
    "grouped_pct.agg('mean')"
   ],
   "metadata": {
    "collapsed": false,
    "pycharm": {
     "name": "#%%\n"
    }
   }
  },
  {
   "cell_type": "code",
   "execution_count": 50,
   "outputs": [
    {
     "data": {
      "text/plain": "                 mean       std  peak_to_peak\nsmoker day                                   \nNo     Fri   0.151650  0.028123      0.067349\n       Sat   0.158048  0.039767      0.235193\n       Sun   0.160113  0.042347      0.193226\n       Thur  0.160298  0.038774      0.193350\nYes    Fri   0.174783  0.051293      0.159925\n       Sat   0.147906  0.061375      0.290095\n       Sun   0.187250  0.154134      0.644685\n       Thur  0.163863  0.039389      0.151240",
      "text/html": "<div>\n<style scoped>\n    .dataframe tbody tr th:only-of-type {\n        vertical-align: middle;\n    }\n\n    .dataframe tbody tr th {\n        vertical-align: top;\n    }\n\n    .dataframe thead th {\n        text-align: right;\n    }\n</style>\n<table border=\"1\" class=\"dataframe\">\n  <thead>\n    <tr style=\"text-align: right;\">\n      <th></th>\n      <th></th>\n      <th>mean</th>\n      <th>std</th>\n      <th>peak_to_peak</th>\n    </tr>\n    <tr>\n      <th>smoker</th>\n      <th>day</th>\n      <th></th>\n      <th></th>\n      <th></th>\n    </tr>\n  </thead>\n  <tbody>\n    <tr>\n      <th rowspan=\"4\" valign=\"top\">No</th>\n      <th>Fri</th>\n      <td>0.151650</td>\n      <td>0.028123</td>\n      <td>0.067349</td>\n    </tr>\n    <tr>\n      <th>Sat</th>\n      <td>0.158048</td>\n      <td>0.039767</td>\n      <td>0.235193</td>\n    </tr>\n    <tr>\n      <th>Sun</th>\n      <td>0.160113</td>\n      <td>0.042347</td>\n      <td>0.193226</td>\n    </tr>\n    <tr>\n      <th>Thur</th>\n      <td>0.160298</td>\n      <td>0.038774</td>\n      <td>0.193350</td>\n    </tr>\n    <tr>\n      <th rowspan=\"4\" valign=\"top\">Yes</th>\n      <th>Fri</th>\n      <td>0.174783</td>\n      <td>0.051293</td>\n      <td>0.159925</td>\n    </tr>\n    <tr>\n      <th>Sat</th>\n      <td>0.147906</td>\n      <td>0.061375</td>\n      <td>0.290095</td>\n    </tr>\n    <tr>\n      <th>Sun</th>\n      <td>0.187250</td>\n      <td>0.154134</td>\n      <td>0.644685</td>\n    </tr>\n    <tr>\n      <th>Thur</th>\n      <td>0.163863</td>\n      <td>0.039389</td>\n      <td>0.151240</td>\n    </tr>\n  </tbody>\n</table>\n</div>"
     },
     "execution_count": 50,
     "metadata": {},
     "output_type": "execute_result"
    }
   ],
   "source": [
    "grouped_pct.agg(['mean', 'std', peak_to_peak])"
   ],
   "metadata": {
    "collapsed": false,
    "pycharm": {
     "name": "#%%\n"
    }
   }
  },
  {
   "cell_type": "code",
   "execution_count": 52,
   "outputs": [
    {
     "data": {
      "text/plain": "                  foo       bar\nsmoker day                     \nNo     Fri   0.151650  0.028123\n       Sat   0.158048  0.039767\n       Sun   0.160113  0.042347\n       Thur  0.160298  0.038774\nYes    Fri   0.174783  0.051293\n       Sat   0.147906  0.061375\n       Sun   0.187250  0.154134\n       Thur  0.163863  0.039389",
      "text/html": "<div>\n<style scoped>\n    .dataframe tbody tr th:only-of-type {\n        vertical-align: middle;\n    }\n\n    .dataframe tbody tr th {\n        vertical-align: top;\n    }\n\n    .dataframe thead th {\n        text-align: right;\n    }\n</style>\n<table border=\"1\" class=\"dataframe\">\n  <thead>\n    <tr style=\"text-align: right;\">\n      <th></th>\n      <th></th>\n      <th>foo</th>\n      <th>bar</th>\n    </tr>\n    <tr>\n      <th>smoker</th>\n      <th>day</th>\n      <th></th>\n      <th></th>\n    </tr>\n  </thead>\n  <tbody>\n    <tr>\n      <th rowspan=\"4\" valign=\"top\">No</th>\n      <th>Fri</th>\n      <td>0.151650</td>\n      <td>0.028123</td>\n    </tr>\n    <tr>\n      <th>Sat</th>\n      <td>0.158048</td>\n      <td>0.039767</td>\n    </tr>\n    <tr>\n      <th>Sun</th>\n      <td>0.160113</td>\n      <td>0.042347</td>\n    </tr>\n    <tr>\n      <th>Thur</th>\n      <td>0.160298</td>\n      <td>0.038774</td>\n    </tr>\n    <tr>\n      <th rowspan=\"4\" valign=\"top\">Yes</th>\n      <th>Fri</th>\n      <td>0.174783</td>\n      <td>0.051293</td>\n    </tr>\n    <tr>\n      <th>Sat</th>\n      <td>0.147906</td>\n      <td>0.061375</td>\n    </tr>\n    <tr>\n      <th>Sun</th>\n      <td>0.187250</td>\n      <td>0.154134</td>\n    </tr>\n    <tr>\n      <th>Thur</th>\n      <td>0.163863</td>\n      <td>0.039389</td>\n    </tr>\n  </tbody>\n</table>\n</div>"
     },
     "execution_count": 52,
     "metadata": {},
     "output_type": "execute_result"
    }
   ],
   "source": [
    "# 传递的是(name, function)元组的列表，每个元组的第一个元素将作为DataFrame的列名\n",
    "grouped_pct.agg([('foo', 'mean'), ('bar', np.std)])"
   ],
   "metadata": {
    "collapsed": false,
    "pycharm": {
     "name": "#%%\n"
    }
   }
  },
  {
   "cell_type": "code",
   "execution_count": 54,
   "outputs": [
    {
     "data": {
      "text/plain": "            tip_pct                     total_bill                  \n              count      mean       max      count       mean    max\nsmoker day                                                          \nNo     Fri        4  0.151650  0.187735          4  18.420000  22.75\n       Sat       45  0.158048  0.291990         45  19.661778  48.33\n       Sun       57  0.160113  0.252672         57  20.506667  48.17\n       Thur      45  0.160298  0.266312         45  17.113111  41.19\nYes    Fri       15  0.174783  0.263480         15  16.813333  40.17\n       Sat       42  0.147906  0.325733         42  21.276667  50.81\n       Sun       19  0.187250  0.710345         19  24.120000  45.35\n       Thur      17  0.163863  0.241255         17  19.190588  43.11",
      "text/html": "<div>\n<style scoped>\n    .dataframe tbody tr th:only-of-type {\n        vertical-align: middle;\n    }\n\n    .dataframe tbody tr th {\n        vertical-align: top;\n    }\n\n    .dataframe thead tr th {\n        text-align: left;\n    }\n\n    .dataframe thead tr:last-of-type th {\n        text-align: right;\n    }\n</style>\n<table border=\"1\" class=\"dataframe\">\n  <thead>\n    <tr>\n      <th></th>\n      <th></th>\n      <th colspan=\"3\" halign=\"left\">tip_pct</th>\n      <th colspan=\"3\" halign=\"left\">total_bill</th>\n    </tr>\n    <tr>\n      <th></th>\n      <th></th>\n      <th>count</th>\n      <th>mean</th>\n      <th>max</th>\n      <th>count</th>\n      <th>mean</th>\n      <th>max</th>\n    </tr>\n    <tr>\n      <th>smoker</th>\n      <th>day</th>\n      <th></th>\n      <th></th>\n      <th></th>\n      <th></th>\n      <th></th>\n      <th></th>\n    </tr>\n  </thead>\n  <tbody>\n    <tr>\n      <th rowspan=\"4\" valign=\"top\">No</th>\n      <th>Fri</th>\n      <td>4</td>\n      <td>0.151650</td>\n      <td>0.187735</td>\n      <td>4</td>\n      <td>18.420000</td>\n      <td>22.75</td>\n    </tr>\n    <tr>\n      <th>Sat</th>\n      <td>45</td>\n      <td>0.158048</td>\n      <td>0.291990</td>\n      <td>45</td>\n      <td>19.661778</td>\n      <td>48.33</td>\n    </tr>\n    <tr>\n      <th>Sun</th>\n      <td>57</td>\n      <td>0.160113</td>\n      <td>0.252672</td>\n      <td>57</td>\n      <td>20.506667</td>\n      <td>48.17</td>\n    </tr>\n    <tr>\n      <th>Thur</th>\n      <td>45</td>\n      <td>0.160298</td>\n      <td>0.266312</td>\n      <td>45</td>\n      <td>17.113111</td>\n      <td>41.19</td>\n    </tr>\n    <tr>\n      <th rowspan=\"4\" valign=\"top\">Yes</th>\n      <th>Fri</th>\n      <td>15</td>\n      <td>0.174783</td>\n      <td>0.263480</td>\n      <td>15</td>\n      <td>16.813333</td>\n      <td>40.17</td>\n    </tr>\n    <tr>\n      <th>Sat</th>\n      <td>42</td>\n      <td>0.147906</td>\n      <td>0.325733</td>\n      <td>42</td>\n      <td>21.276667</td>\n      <td>50.81</td>\n    </tr>\n    <tr>\n      <th>Sun</th>\n      <td>19</td>\n      <td>0.187250</td>\n      <td>0.710345</td>\n      <td>19</td>\n      <td>24.120000</td>\n      <td>45.35</td>\n    </tr>\n    <tr>\n      <th>Thur</th>\n      <td>17</td>\n      <td>0.163863</td>\n      <td>0.241255</td>\n      <td>17</td>\n      <td>19.190588</td>\n      <td>43.11</td>\n    </tr>\n  </tbody>\n</table>\n</div>"
     },
     "execution_count": 54,
     "metadata": {},
     "output_type": "execute_result"
    }
   ],
   "source": [
    "# 在DataFrame，可以指定应用的所有列上的函数列表或每一列上应用的不同函数\n",
    "functions = ['count', 'mean', 'max']\n",
    "result = grouped[['tip_pct', 'total_bill']].agg(functions)\n",
    "result"
   ],
   "metadata": {
    "collapsed": false,
    "pycharm": {
     "name": "#%%\n"
    }
   }
  },
  {
   "cell_type": "code",
   "execution_count": 55,
   "outputs": [
    {
     "data": {
      "text/plain": "             count      mean       max\nsmoker day                            \nNo     Fri       4  0.151650  0.187735\n       Sat      45  0.158048  0.291990\n       Sun      57  0.160113  0.252672\n       Thur     45  0.160298  0.266312\nYes    Fri      15  0.174783  0.263480\n       Sat      42  0.147906  0.325733\n       Sun      19  0.187250  0.710345\n       Thur     17  0.163863  0.241255",
      "text/html": "<div>\n<style scoped>\n    .dataframe tbody tr th:only-of-type {\n        vertical-align: middle;\n    }\n\n    .dataframe tbody tr th {\n        vertical-align: top;\n    }\n\n    .dataframe thead th {\n        text-align: right;\n    }\n</style>\n<table border=\"1\" class=\"dataframe\">\n  <thead>\n    <tr style=\"text-align: right;\">\n      <th></th>\n      <th></th>\n      <th>count</th>\n      <th>mean</th>\n      <th>max</th>\n    </tr>\n    <tr>\n      <th>smoker</th>\n      <th>day</th>\n      <th></th>\n      <th></th>\n      <th></th>\n    </tr>\n  </thead>\n  <tbody>\n    <tr>\n      <th rowspan=\"4\" valign=\"top\">No</th>\n      <th>Fri</th>\n      <td>4</td>\n      <td>0.151650</td>\n      <td>0.187735</td>\n    </tr>\n    <tr>\n      <th>Sat</th>\n      <td>45</td>\n      <td>0.158048</td>\n      <td>0.291990</td>\n    </tr>\n    <tr>\n      <th>Sun</th>\n      <td>57</td>\n      <td>0.160113</td>\n      <td>0.252672</td>\n    </tr>\n    <tr>\n      <th>Thur</th>\n      <td>45</td>\n      <td>0.160298</td>\n      <td>0.266312</td>\n    </tr>\n    <tr>\n      <th rowspan=\"4\" valign=\"top\">Yes</th>\n      <th>Fri</th>\n      <td>15</td>\n      <td>0.174783</td>\n      <td>0.263480</td>\n    </tr>\n    <tr>\n      <th>Sat</th>\n      <td>42</td>\n      <td>0.147906</td>\n      <td>0.325733</td>\n    </tr>\n    <tr>\n      <th>Sun</th>\n      <td>19</td>\n      <td>0.187250</td>\n      <td>0.710345</td>\n    </tr>\n    <tr>\n      <th>Thur</th>\n      <td>17</td>\n      <td>0.163863</td>\n      <td>0.241255</td>\n    </tr>\n  </tbody>\n</table>\n</div>"
     },
     "execution_count": 55,
     "metadata": {},
     "output_type": "execute_result"
    }
   ],
   "source": [
    "result['tip_pct']"
   ],
   "metadata": {
    "collapsed": false,
    "pycharm": {
     "name": "#%%\n"
    }
   }
  },
  {
   "cell_type": "code",
   "execution_count": 56,
   "outputs": [
    {
     "data": {
      "text/plain": "              tip_pct           total_bill       \n                    A         B          A      B\nsmoker day                                       \nNo     Fri   0.151650  0.187735  18.420000  22.75\n       Sat   0.158048  0.291990  19.661778  48.33\n       Sun   0.160113  0.252672  20.506667  48.17\n       Thur  0.160298  0.266312  17.113111  41.19\nYes    Fri   0.174783  0.263480  16.813333  40.17\n       Sat   0.147906  0.325733  21.276667  50.81\n       Sun   0.187250  0.710345  24.120000  45.35\n       Thur  0.163863  0.241255  19.190588  43.11",
      "text/html": "<div>\n<style scoped>\n    .dataframe tbody tr th:only-of-type {\n        vertical-align: middle;\n    }\n\n    .dataframe tbody tr th {\n        vertical-align: top;\n    }\n\n    .dataframe thead tr th {\n        text-align: left;\n    }\n\n    .dataframe thead tr:last-of-type th {\n        text-align: right;\n    }\n</style>\n<table border=\"1\" class=\"dataframe\">\n  <thead>\n    <tr>\n      <th></th>\n      <th></th>\n      <th colspan=\"2\" halign=\"left\">tip_pct</th>\n      <th colspan=\"2\" halign=\"left\">total_bill</th>\n    </tr>\n    <tr>\n      <th></th>\n      <th></th>\n      <th>A</th>\n      <th>B</th>\n      <th>A</th>\n      <th>B</th>\n    </tr>\n    <tr>\n      <th>smoker</th>\n      <th>day</th>\n      <th></th>\n      <th></th>\n      <th></th>\n      <th></th>\n    </tr>\n  </thead>\n  <tbody>\n    <tr>\n      <th rowspan=\"4\" valign=\"top\">No</th>\n      <th>Fri</th>\n      <td>0.151650</td>\n      <td>0.187735</td>\n      <td>18.420000</td>\n      <td>22.75</td>\n    </tr>\n    <tr>\n      <th>Sat</th>\n      <td>0.158048</td>\n      <td>0.291990</td>\n      <td>19.661778</td>\n      <td>48.33</td>\n    </tr>\n    <tr>\n      <th>Sun</th>\n      <td>0.160113</td>\n      <td>0.252672</td>\n      <td>20.506667</td>\n      <td>48.17</td>\n    </tr>\n    <tr>\n      <th>Thur</th>\n      <td>0.160298</td>\n      <td>0.266312</td>\n      <td>17.113111</td>\n      <td>41.19</td>\n    </tr>\n    <tr>\n      <th rowspan=\"4\" valign=\"top\">Yes</th>\n      <th>Fri</th>\n      <td>0.174783</td>\n      <td>0.263480</td>\n      <td>16.813333</td>\n      <td>40.17</td>\n    </tr>\n    <tr>\n      <th>Sat</th>\n      <td>0.147906</td>\n      <td>0.325733</td>\n      <td>21.276667</td>\n      <td>50.81</td>\n    </tr>\n    <tr>\n      <th>Sun</th>\n      <td>0.187250</td>\n      <td>0.710345</td>\n      <td>24.120000</td>\n      <td>45.35</td>\n    </tr>\n    <tr>\n      <th>Thur</th>\n      <td>0.163863</td>\n      <td>0.241255</td>\n      <td>19.190588</td>\n      <td>43.11</td>\n    </tr>\n  </tbody>\n</table>\n</div>"
     },
     "execution_count": 56,
     "metadata": {},
     "output_type": "execute_result"
    }
   ],
   "source": [
    "# 也可以传递(name, function)\n",
    "ftuples = [('A', 'mean'), ('B', 'max')]\n",
    "grouped[['tip_pct', 'total_bill']].agg(ftuples)"
   ],
   "metadata": {
    "collapsed": false,
    "pycharm": {
     "name": "#%%\n"
    }
   }
  },
  {
   "cell_type": "code",
   "execution_count": 57,
   "outputs": [
    {
     "data": {
      "text/plain": "               tip  size\nsmoker day              \nNo     Fri    3.50     9\n       Sat    9.00   115\n       Sun    6.00   167\n       Thur   6.70   112\nYes    Fri    4.73    31\n       Sat   10.00   104\n       Sun    6.50    49\n       Thur   5.00    40",
      "text/html": "<div>\n<style scoped>\n    .dataframe tbody tr th:only-of-type {\n        vertical-align: middle;\n    }\n\n    .dataframe tbody tr th {\n        vertical-align: top;\n    }\n\n    .dataframe thead th {\n        text-align: right;\n    }\n</style>\n<table border=\"1\" class=\"dataframe\">\n  <thead>\n    <tr style=\"text-align: right;\">\n      <th></th>\n      <th></th>\n      <th>tip</th>\n      <th>size</th>\n    </tr>\n    <tr>\n      <th>smoker</th>\n      <th>day</th>\n      <th></th>\n      <th></th>\n    </tr>\n  </thead>\n  <tbody>\n    <tr>\n      <th rowspan=\"4\" valign=\"top\">No</th>\n      <th>Fri</th>\n      <td>3.50</td>\n      <td>9</td>\n    </tr>\n    <tr>\n      <th>Sat</th>\n      <td>9.00</td>\n      <td>115</td>\n    </tr>\n    <tr>\n      <th>Sun</th>\n      <td>6.00</td>\n      <td>167</td>\n    </tr>\n    <tr>\n      <th>Thur</th>\n      <td>6.70</td>\n      <td>112</td>\n    </tr>\n    <tr>\n      <th rowspan=\"4\" valign=\"top\">Yes</th>\n      <th>Fri</th>\n      <td>4.73</td>\n      <td>31</td>\n    </tr>\n    <tr>\n      <th>Sat</th>\n      <td>10.00</td>\n      <td>104</td>\n    </tr>\n    <tr>\n      <th>Sun</th>\n      <td>6.50</td>\n      <td>49</td>\n    </tr>\n    <tr>\n      <th>Thur</th>\n      <td>5.00</td>\n      <td>40</td>\n    </tr>\n  </tbody>\n</table>\n</div>"
     },
     "execution_count": 57,
     "metadata": {},
     "output_type": "execute_result"
    }
   ],
   "source": [
    "# 在不同列上应用不同的函数\n",
    "grouped.agg({'tip': np.max, 'size': sum})"
   ],
   "metadata": {
    "collapsed": false,
    "pycharm": {
     "name": "#%%\n"
    }
   }
  },
  {
   "cell_type": "code",
   "execution_count": 59,
   "outputs": [
    {
     "data": {
      "text/plain": "              tip                            size      \n              min    max      mean       std  sum count\nsmoker day                                             \nNo     Fri   1.50   3.50  2.812500  0.898494    9     4\n       Sat   1.00   9.00  3.102889  1.642088  115    45\n       Sun   1.01   6.00  3.167895  1.224785  167    57\n       Thur  1.25   6.70  2.673778  1.282964  112    45\nYes    Fri   1.00   4.73  2.714000  1.077668   31    15\n       Sat   1.00  10.00  2.875476  1.630580  104    42\n       Sun   1.50   6.50  3.516842  1.261151   49    19\n       Thur  2.00   5.00  3.030000  1.113491   40    17",
      "text/html": "<div>\n<style scoped>\n    .dataframe tbody tr th:only-of-type {\n        vertical-align: middle;\n    }\n\n    .dataframe tbody tr th {\n        vertical-align: top;\n    }\n\n    .dataframe thead tr th {\n        text-align: left;\n    }\n\n    .dataframe thead tr:last-of-type th {\n        text-align: right;\n    }\n</style>\n<table border=\"1\" class=\"dataframe\">\n  <thead>\n    <tr>\n      <th></th>\n      <th></th>\n      <th colspan=\"4\" halign=\"left\">tip</th>\n      <th colspan=\"2\" halign=\"left\">size</th>\n    </tr>\n    <tr>\n      <th></th>\n      <th></th>\n      <th>min</th>\n      <th>max</th>\n      <th>mean</th>\n      <th>std</th>\n      <th>sum</th>\n      <th>count</th>\n    </tr>\n    <tr>\n      <th>smoker</th>\n      <th>day</th>\n      <th></th>\n      <th></th>\n      <th></th>\n      <th></th>\n      <th></th>\n      <th></th>\n    </tr>\n  </thead>\n  <tbody>\n    <tr>\n      <th rowspan=\"4\" valign=\"top\">No</th>\n      <th>Fri</th>\n      <td>1.50</td>\n      <td>3.50</td>\n      <td>2.812500</td>\n      <td>0.898494</td>\n      <td>9</td>\n      <td>4</td>\n    </tr>\n    <tr>\n      <th>Sat</th>\n      <td>1.00</td>\n      <td>9.00</td>\n      <td>3.102889</td>\n      <td>1.642088</td>\n      <td>115</td>\n      <td>45</td>\n    </tr>\n    <tr>\n      <th>Sun</th>\n      <td>1.01</td>\n      <td>6.00</td>\n      <td>3.167895</td>\n      <td>1.224785</td>\n      <td>167</td>\n      <td>57</td>\n    </tr>\n    <tr>\n      <th>Thur</th>\n      <td>1.25</td>\n      <td>6.70</td>\n      <td>2.673778</td>\n      <td>1.282964</td>\n      <td>112</td>\n      <td>45</td>\n    </tr>\n    <tr>\n      <th rowspan=\"4\" valign=\"top\">Yes</th>\n      <th>Fri</th>\n      <td>1.00</td>\n      <td>4.73</td>\n      <td>2.714000</td>\n      <td>1.077668</td>\n      <td>31</td>\n      <td>15</td>\n    </tr>\n    <tr>\n      <th>Sat</th>\n      <td>1.00</td>\n      <td>10.00</td>\n      <td>2.875476</td>\n      <td>1.630580</td>\n      <td>104</td>\n      <td>42</td>\n    </tr>\n    <tr>\n      <th>Sun</th>\n      <td>1.50</td>\n      <td>6.50</td>\n      <td>3.516842</td>\n      <td>1.261151</td>\n      <td>49</td>\n      <td>19</td>\n    </tr>\n    <tr>\n      <th>Thur</th>\n      <td>2.00</td>\n      <td>5.00</td>\n      <td>3.030000</td>\n      <td>1.113491</td>\n      <td>40</td>\n      <td>17</td>\n    </tr>\n  </tbody>\n</table>\n</div>"
     },
     "execution_count": 59,
     "metadata": {},
     "output_type": "execute_result"
    }
   ],
   "source": [
    "grouped.agg({'tip': ['min', 'max', 'mean', 'std'], 'size': ['sum', 'count']})"
   ],
   "metadata": {
    "collapsed": false,
    "pycharm": {
     "name": "#%%\n"
    }
   }
  },
  {
   "cell_type": "code",
   "execution_count": 61,
   "outputs": [
    {
     "data": {
      "text/plain": "    day smoker  total_bill       tip      size   tip_pct\n0   Fri     No   18.420000  2.812500  2.250000  0.151650\n1   Fri    Yes   16.813333  2.714000  2.066667  0.174783\n2   Sat     No   19.661778  3.102889  2.555556  0.158048\n3   Sat    Yes   21.276667  2.875476  2.476190  0.147906\n4   Sun     No   20.506667  3.167895  2.929825  0.160113\n5   Sun    Yes   24.120000  3.516842  2.578947  0.187250\n6  Thur     No   17.113111  2.673778  2.488889  0.160298\n7  Thur    Yes   19.190588  3.030000  2.352941  0.163863",
      "text/html": "<div>\n<style scoped>\n    .dataframe tbody tr th:only-of-type {\n        vertical-align: middle;\n    }\n\n    .dataframe tbody tr th {\n        vertical-align: top;\n    }\n\n    .dataframe thead th {\n        text-align: right;\n    }\n</style>\n<table border=\"1\" class=\"dataframe\">\n  <thead>\n    <tr style=\"text-align: right;\">\n      <th></th>\n      <th>day</th>\n      <th>smoker</th>\n      <th>total_bill</th>\n      <th>tip</th>\n      <th>size</th>\n      <th>tip_pct</th>\n    </tr>\n  </thead>\n  <tbody>\n    <tr>\n      <th>0</th>\n      <td>Fri</td>\n      <td>No</td>\n      <td>18.420000</td>\n      <td>2.812500</td>\n      <td>2.250000</td>\n      <td>0.151650</td>\n    </tr>\n    <tr>\n      <th>1</th>\n      <td>Fri</td>\n      <td>Yes</td>\n      <td>16.813333</td>\n      <td>2.714000</td>\n      <td>2.066667</td>\n      <td>0.174783</td>\n    </tr>\n    <tr>\n      <th>2</th>\n      <td>Sat</td>\n      <td>No</td>\n      <td>19.661778</td>\n      <td>3.102889</td>\n      <td>2.555556</td>\n      <td>0.158048</td>\n    </tr>\n    <tr>\n      <th>3</th>\n      <td>Sat</td>\n      <td>Yes</td>\n      <td>21.276667</td>\n      <td>2.875476</td>\n      <td>2.476190</td>\n      <td>0.147906</td>\n    </tr>\n    <tr>\n      <th>4</th>\n      <td>Sun</td>\n      <td>No</td>\n      <td>20.506667</td>\n      <td>3.167895</td>\n      <td>2.929825</td>\n      <td>0.160113</td>\n    </tr>\n    <tr>\n      <th>5</th>\n      <td>Sun</td>\n      <td>Yes</td>\n      <td>24.120000</td>\n      <td>3.516842</td>\n      <td>2.578947</td>\n      <td>0.187250</td>\n    </tr>\n    <tr>\n      <th>6</th>\n      <td>Thur</td>\n      <td>No</td>\n      <td>17.113111</td>\n      <td>2.673778</td>\n      <td>2.488889</td>\n      <td>0.160298</td>\n    </tr>\n    <tr>\n      <th>7</th>\n      <td>Thur</td>\n      <td>Yes</td>\n      <td>19.190588</td>\n      <td>3.030000</td>\n      <td>2.352941</td>\n      <td>0.163863</td>\n    </tr>\n  </tbody>\n</table>\n</div>"
     },
     "execution_count": 61,
     "metadata": {},
     "output_type": "execute_result"
    }
   ],
   "source": [
    "# 返回不含索引的聚合数据\n",
    "no_index = tips.groupby(['day', 'smoker'], as_index=False).mean()\n",
    "no_index"
   ],
   "metadata": {
    "collapsed": false,
    "pycharm": {
     "name": "#%%\n"
    }
   }
  },
  {
   "cell_type": "code",
   "execution_count": 62,
   "outputs": [
    {
     "data": {
      "text/plain": "pandas.core.frame.DataFrame"
     },
     "execution_count": 62,
     "metadata": {},
     "output_type": "execute_result"
    }
   ],
   "source": [
    "type(no_index)"
   ],
   "metadata": {
    "collapsed": false,
    "pycharm": {
     "name": "#%%\n"
    }
   }
  },
  {
   "cell_type": "markdown",
   "source": [
    "\n",
    "## 10.3 应用：通用拆分(split)-应用(apply)-联合(combine)"
   ],
   "metadata": {
    "collapsed": false,
    "pycharm": {
     "name": "#%% md\n"
    }
   }
  },
  {
   "cell_type": "code",
   "execution_count": 63,
   "outputs": [
    {
     "data": {
      "text/plain": "     total_bill   tip smoker   day    time  size   tip_pct\n0         16.99  1.01     No   Sun  Dinner     2  0.059447\n1         10.34  1.66     No   Sun  Dinner     3  0.160542\n2         21.01  3.50     No   Sun  Dinner     3  0.166587\n3         23.68  3.31     No   Sun  Dinner     2  0.139780\n4         24.59  3.61     No   Sun  Dinner     4  0.146808\n..          ...   ...    ...   ...     ...   ...       ...\n239       29.03  5.92     No   Sat  Dinner     3  0.203927\n240       27.18  2.00    Yes   Sat  Dinner     2  0.073584\n241       22.67  2.00    Yes   Sat  Dinner     2  0.088222\n242       17.82  1.75     No   Sat  Dinner     2  0.098204\n243       18.78  3.00     No  Thur  Dinner     2  0.159744\n\n[244 rows x 7 columns]",
      "text/html": "<div>\n<style scoped>\n    .dataframe tbody tr th:only-of-type {\n        vertical-align: middle;\n    }\n\n    .dataframe tbody tr th {\n        vertical-align: top;\n    }\n\n    .dataframe thead th {\n        text-align: right;\n    }\n</style>\n<table border=\"1\" class=\"dataframe\">\n  <thead>\n    <tr style=\"text-align: right;\">\n      <th></th>\n      <th>total_bill</th>\n      <th>tip</th>\n      <th>smoker</th>\n      <th>day</th>\n      <th>time</th>\n      <th>size</th>\n      <th>tip_pct</th>\n    </tr>\n  </thead>\n  <tbody>\n    <tr>\n      <th>0</th>\n      <td>16.99</td>\n      <td>1.01</td>\n      <td>No</td>\n      <td>Sun</td>\n      <td>Dinner</td>\n      <td>2</td>\n      <td>0.059447</td>\n    </tr>\n    <tr>\n      <th>1</th>\n      <td>10.34</td>\n      <td>1.66</td>\n      <td>No</td>\n      <td>Sun</td>\n      <td>Dinner</td>\n      <td>3</td>\n      <td>0.160542</td>\n    </tr>\n    <tr>\n      <th>2</th>\n      <td>21.01</td>\n      <td>3.50</td>\n      <td>No</td>\n      <td>Sun</td>\n      <td>Dinner</td>\n      <td>3</td>\n      <td>0.166587</td>\n    </tr>\n    <tr>\n      <th>3</th>\n      <td>23.68</td>\n      <td>3.31</td>\n      <td>No</td>\n      <td>Sun</td>\n      <td>Dinner</td>\n      <td>2</td>\n      <td>0.139780</td>\n    </tr>\n    <tr>\n      <th>4</th>\n      <td>24.59</td>\n      <td>3.61</td>\n      <td>No</td>\n      <td>Sun</td>\n      <td>Dinner</td>\n      <td>4</td>\n      <td>0.146808</td>\n    </tr>\n    <tr>\n      <th>...</th>\n      <td>...</td>\n      <td>...</td>\n      <td>...</td>\n      <td>...</td>\n      <td>...</td>\n      <td>...</td>\n      <td>...</td>\n    </tr>\n    <tr>\n      <th>239</th>\n      <td>29.03</td>\n      <td>5.92</td>\n      <td>No</td>\n      <td>Sat</td>\n      <td>Dinner</td>\n      <td>3</td>\n      <td>0.203927</td>\n    </tr>\n    <tr>\n      <th>240</th>\n      <td>27.18</td>\n      <td>2.00</td>\n      <td>Yes</td>\n      <td>Sat</td>\n      <td>Dinner</td>\n      <td>2</td>\n      <td>0.073584</td>\n    </tr>\n    <tr>\n      <th>241</th>\n      <td>22.67</td>\n      <td>2.00</td>\n      <td>Yes</td>\n      <td>Sat</td>\n      <td>Dinner</td>\n      <td>2</td>\n      <td>0.088222</td>\n    </tr>\n    <tr>\n      <th>242</th>\n      <td>17.82</td>\n      <td>1.75</td>\n      <td>No</td>\n      <td>Sat</td>\n      <td>Dinner</td>\n      <td>2</td>\n      <td>0.098204</td>\n    </tr>\n    <tr>\n      <th>243</th>\n      <td>18.78</td>\n      <td>3.00</td>\n      <td>No</td>\n      <td>Thur</td>\n      <td>Dinner</td>\n      <td>2</td>\n      <td>0.159744</td>\n    </tr>\n  </tbody>\n</table>\n<p>244 rows × 7 columns</p>\n</div>"
     },
     "execution_count": 63,
     "metadata": {},
     "output_type": "execute_result"
    }
   ],
   "source": [
    "tips"
   ],
   "metadata": {
    "collapsed": false,
    "pycharm": {
     "name": "#%%\n"
    }
   }
  },
  {
   "cell_type": "code",
   "execution_count": 64,
   "outputs": [
    {
     "data": {
      "text/plain": "     total_bill   tip smoker  day    time  size   tip_pct\n183       23.17  6.50    Yes  Sun  Dinner     4  0.280535\n232       11.61  3.39     No  Sat  Dinner     2  0.291990\n67         3.07  1.00    Yes  Sat  Dinner     1  0.325733\n178        9.60  4.00    Yes  Sun  Dinner     2  0.416667\n172        7.25  5.15    Yes  Sun  Dinner     2  0.710345",
      "text/html": "<div>\n<style scoped>\n    .dataframe tbody tr th:only-of-type {\n        vertical-align: middle;\n    }\n\n    .dataframe tbody tr th {\n        vertical-align: top;\n    }\n\n    .dataframe thead th {\n        text-align: right;\n    }\n</style>\n<table border=\"1\" class=\"dataframe\">\n  <thead>\n    <tr style=\"text-align: right;\">\n      <th></th>\n      <th>total_bill</th>\n      <th>tip</th>\n      <th>smoker</th>\n      <th>day</th>\n      <th>time</th>\n      <th>size</th>\n      <th>tip_pct</th>\n    </tr>\n  </thead>\n  <tbody>\n    <tr>\n      <th>183</th>\n      <td>23.17</td>\n      <td>6.50</td>\n      <td>Yes</td>\n      <td>Sun</td>\n      <td>Dinner</td>\n      <td>4</td>\n      <td>0.280535</td>\n    </tr>\n    <tr>\n      <th>232</th>\n      <td>11.61</td>\n      <td>3.39</td>\n      <td>No</td>\n      <td>Sat</td>\n      <td>Dinner</td>\n      <td>2</td>\n      <td>0.291990</td>\n    </tr>\n    <tr>\n      <th>67</th>\n      <td>3.07</td>\n      <td>1.00</td>\n      <td>Yes</td>\n      <td>Sat</td>\n      <td>Dinner</td>\n      <td>1</td>\n      <td>0.325733</td>\n    </tr>\n    <tr>\n      <th>178</th>\n      <td>9.60</td>\n      <td>4.00</td>\n      <td>Yes</td>\n      <td>Sun</td>\n      <td>Dinner</td>\n      <td>2</td>\n      <td>0.416667</td>\n    </tr>\n    <tr>\n      <th>172</th>\n      <td>7.25</td>\n      <td>5.15</td>\n      <td>Yes</td>\n      <td>Sun</td>\n      <td>Dinner</td>\n      <td>2</td>\n      <td>0.710345</td>\n    </tr>\n  </tbody>\n</table>\n</div>"
     },
     "execution_count": 64,
     "metadata": {},
     "output_type": "execute_result"
    }
   ],
   "source": [
    "def top(df, n=5, column='tip_pct'):\n",
    "    return df.sort_values(by=column)[-n:]\n",
    "\n",
    "\n",
    "top(tips)"
   ],
   "metadata": {
    "collapsed": false,
    "pycharm": {
     "name": "#%%\n"
    }
   }
  },
  {
   "cell_type": "code",
   "execution_count": 65,
   "outputs": [
    {
     "data": {
      "text/plain": "            total_bill   tip smoker   day    time  size   tip_pct\nsmoker                                                           \nNo     88        24.71  5.85     No  Thur   Lunch     2  0.236746\n       185       20.69  5.00     No   Sun  Dinner     5  0.241663\n       51        10.29  2.60     No   Sun  Dinner     2  0.252672\n       149        7.51  2.00     No  Thur   Lunch     2  0.266312\n       232       11.61  3.39     No   Sat  Dinner     2  0.291990\nYes    109       14.31  4.00    Yes   Sat  Dinner     2  0.279525\n       183       23.17  6.50    Yes   Sun  Dinner     4  0.280535\n       67         3.07  1.00    Yes   Sat  Dinner     1  0.325733\n       178        9.60  4.00    Yes   Sun  Dinner     2  0.416667\n       172        7.25  5.15    Yes   Sun  Dinner     2  0.710345",
      "text/html": "<div>\n<style scoped>\n    .dataframe tbody tr th:only-of-type {\n        vertical-align: middle;\n    }\n\n    .dataframe tbody tr th {\n        vertical-align: top;\n    }\n\n    .dataframe thead th {\n        text-align: right;\n    }\n</style>\n<table border=\"1\" class=\"dataframe\">\n  <thead>\n    <tr style=\"text-align: right;\">\n      <th></th>\n      <th></th>\n      <th>total_bill</th>\n      <th>tip</th>\n      <th>smoker</th>\n      <th>day</th>\n      <th>time</th>\n      <th>size</th>\n      <th>tip_pct</th>\n    </tr>\n    <tr>\n      <th>smoker</th>\n      <th></th>\n      <th></th>\n      <th></th>\n      <th></th>\n      <th></th>\n      <th></th>\n      <th></th>\n      <th></th>\n    </tr>\n  </thead>\n  <tbody>\n    <tr>\n      <th rowspan=\"5\" valign=\"top\">No</th>\n      <th>88</th>\n      <td>24.71</td>\n      <td>5.85</td>\n      <td>No</td>\n      <td>Thur</td>\n      <td>Lunch</td>\n      <td>2</td>\n      <td>0.236746</td>\n    </tr>\n    <tr>\n      <th>185</th>\n      <td>20.69</td>\n      <td>5.00</td>\n      <td>No</td>\n      <td>Sun</td>\n      <td>Dinner</td>\n      <td>5</td>\n      <td>0.241663</td>\n    </tr>\n    <tr>\n      <th>51</th>\n      <td>10.29</td>\n      <td>2.60</td>\n      <td>No</td>\n      <td>Sun</td>\n      <td>Dinner</td>\n      <td>2</td>\n      <td>0.252672</td>\n    </tr>\n    <tr>\n      <th>149</th>\n      <td>7.51</td>\n      <td>2.00</td>\n      <td>No</td>\n      <td>Thur</td>\n      <td>Lunch</td>\n      <td>2</td>\n      <td>0.266312</td>\n    </tr>\n    <tr>\n      <th>232</th>\n      <td>11.61</td>\n      <td>3.39</td>\n      <td>No</td>\n      <td>Sat</td>\n      <td>Dinner</td>\n      <td>2</td>\n      <td>0.291990</td>\n    </tr>\n    <tr>\n      <th rowspan=\"5\" valign=\"top\">Yes</th>\n      <th>109</th>\n      <td>14.31</td>\n      <td>4.00</td>\n      <td>Yes</td>\n      <td>Sat</td>\n      <td>Dinner</td>\n      <td>2</td>\n      <td>0.279525</td>\n    </tr>\n    <tr>\n      <th>183</th>\n      <td>23.17</td>\n      <td>6.50</td>\n      <td>Yes</td>\n      <td>Sun</td>\n      <td>Dinner</td>\n      <td>4</td>\n      <td>0.280535</td>\n    </tr>\n    <tr>\n      <th>67</th>\n      <td>3.07</td>\n      <td>1.00</td>\n      <td>Yes</td>\n      <td>Sat</td>\n      <td>Dinner</td>\n      <td>1</td>\n      <td>0.325733</td>\n    </tr>\n    <tr>\n      <th>178</th>\n      <td>9.60</td>\n      <td>4.00</td>\n      <td>Yes</td>\n      <td>Sun</td>\n      <td>Dinner</td>\n      <td>2</td>\n      <td>0.416667</td>\n    </tr>\n    <tr>\n      <th>172</th>\n      <td>7.25</td>\n      <td>5.15</td>\n      <td>Yes</td>\n      <td>Sun</td>\n      <td>Dinner</td>\n      <td>2</td>\n      <td>0.710345</td>\n    </tr>\n  </tbody>\n</table>\n</div>"
     },
     "execution_count": 65,
     "metadata": {},
     "output_type": "execute_result"
    }
   ],
   "source": [
    "# 按照smoker进行分组，之后调用apply\n",
    "# top函数在DataFrame的每一行分组上被调用，之后使用pandas.concat将函数结果粘贴在一起\n",
    "# 并使用分组名作为各组的标签，因此结果包含分层索引，该层索引的内部层级包含原DataFrame的索引值\n",
    "tips.groupby('smoker').apply(top)"
   ],
   "metadata": {
    "collapsed": false,
    "pycharm": {
     "name": "#%%\n"
    }
   }
  },
  {
   "cell_type": "code",
   "execution_count": 66,
   "outputs": [
    {
     "data": {
      "text/plain": "            total_bill   tip smoker  day    time  size   tip_pct\nsmoker                                                          \nNo     212       48.33   9.0     No  Sat  Dinner     4  0.186220\nYes    170       50.81  10.0    Yes  Sat  Dinner     3  0.196812",
      "text/html": "<div>\n<style scoped>\n    .dataframe tbody tr th:only-of-type {\n        vertical-align: middle;\n    }\n\n    .dataframe tbody tr th {\n        vertical-align: top;\n    }\n\n    .dataframe thead th {\n        text-align: right;\n    }\n</style>\n<table border=\"1\" class=\"dataframe\">\n  <thead>\n    <tr style=\"text-align: right;\">\n      <th></th>\n      <th></th>\n      <th>total_bill</th>\n      <th>tip</th>\n      <th>smoker</th>\n      <th>day</th>\n      <th>time</th>\n      <th>size</th>\n      <th>tip_pct</th>\n    </tr>\n    <tr>\n      <th>smoker</th>\n      <th></th>\n      <th></th>\n      <th></th>\n      <th></th>\n      <th></th>\n      <th></th>\n      <th></th>\n      <th></th>\n    </tr>\n  </thead>\n  <tbody>\n    <tr>\n      <th>No</th>\n      <th>212</th>\n      <td>48.33</td>\n      <td>9.0</td>\n      <td>No</td>\n      <td>Sat</td>\n      <td>Dinner</td>\n      <td>4</td>\n      <td>0.186220</td>\n    </tr>\n    <tr>\n      <th>Yes</th>\n      <th>170</th>\n      <td>50.81</td>\n      <td>10.0</td>\n      <td>Yes</td>\n      <td>Sat</td>\n      <td>Dinner</td>\n      <td>3</td>\n      <td>0.196812</td>\n    </tr>\n  </tbody>\n</table>\n</div>"
     },
     "execution_count": 66,
     "metadata": {},
     "output_type": "execute_result"
    }
   ],
   "source": [
    "# 如果要传入其他参数或关键字，可以放在函数后进行传递\n",
    "tips.groupby('smoker').apply(top, n=1, column='total_bill')"
   ],
   "metadata": {
    "collapsed": false,
    "pycharm": {
     "name": "#%%\n"
    }
   }
  },
  {
   "cell_type": "code",
   "execution_count": 68,
   "outputs": [
    {
     "data": {
      "text/plain": "        count      mean       std       min       25%       50%       75%  \\\nsmoker                                                                      \nNo      151.0  0.159328  0.039910  0.056797  0.136906  0.155625  0.185014   \nYes      93.0  0.163196  0.085119  0.035638  0.106771  0.153846  0.195059   \n\n             max  \nsmoker            \nNo      0.291990  \nYes     0.710345  ",
      "text/html": "<div>\n<style scoped>\n    .dataframe tbody tr th:only-of-type {\n        vertical-align: middle;\n    }\n\n    .dataframe tbody tr th {\n        vertical-align: top;\n    }\n\n    .dataframe thead th {\n        text-align: right;\n    }\n</style>\n<table border=\"1\" class=\"dataframe\">\n  <thead>\n    <tr style=\"text-align: right;\">\n      <th></th>\n      <th>count</th>\n      <th>mean</th>\n      <th>std</th>\n      <th>min</th>\n      <th>25%</th>\n      <th>50%</th>\n      <th>75%</th>\n      <th>max</th>\n    </tr>\n    <tr>\n      <th>smoker</th>\n      <th></th>\n      <th></th>\n      <th></th>\n      <th></th>\n      <th></th>\n      <th></th>\n      <th></th>\n      <th></th>\n    </tr>\n  </thead>\n  <tbody>\n    <tr>\n      <th>No</th>\n      <td>151.0</td>\n      <td>0.159328</td>\n      <td>0.039910</td>\n      <td>0.056797</td>\n      <td>0.136906</td>\n      <td>0.155625</td>\n      <td>0.185014</td>\n      <td>0.291990</td>\n    </tr>\n    <tr>\n      <th>Yes</th>\n      <td>93.0</td>\n      <td>0.163196</td>\n      <td>0.085119</td>\n      <td>0.035638</td>\n      <td>0.106771</td>\n      <td>0.153846</td>\n      <td>0.195059</td>\n      <td>0.710345</td>\n    </tr>\n  </tbody>\n</table>\n</div>"
     },
     "execution_count": 68,
     "metadata": {},
     "output_type": "execute_result"
    }
   ],
   "source": [
    "# 除了基础的使用机制，需要一些创造力才能充分地使用apply。传递函数的内部发生的事情取决于子集，函数只返回一个pandas对应或一个标量值。\n",
    "# 之前在groupby对象上调用了describe方法\n",
    "result = tips.groupby('smoker')['tip_pct'].describe()\n",
    "result"
   ],
   "metadata": {
    "collapsed": false,
    "pycharm": {
     "name": "#%%\n"
    }
   }
  },
  {
   "cell_type": "code",
   "execution_count": 70,
   "outputs": [
    {
     "data": {
      "text/plain": "       smoker\ncount  No        151.000000\n       Yes        93.000000\nmean   No          0.159328\n       Yes         0.163196\nstd    No          0.039910\n       Yes         0.085119\nmin    No          0.056797\n       Yes         0.035638\n25%    No          0.136906\n       Yes         0.106771\n50%    No          0.155625\n       Yes         0.153846\n75%    No          0.185014\n       Yes         0.195059\nmax    No          0.291990\n       Yes         0.710345\ndtype: float64"
     },
     "execution_count": 70,
     "metadata": {},
     "output_type": "execute_result"
    }
   ],
   "source": [
    "result.unstack()"
   ],
   "metadata": {
    "collapsed": false,
    "pycharm": {
     "name": "#%%\n"
    }
   }
  },
  {
   "cell_type": "code",
   "execution_count": 72,
   "outputs": [
    {
     "data": {
      "text/plain": "                  total_bill       tip  size   tip_pct\nsmoker day                                            \nNo     Fri count    4.000000  4.000000  4.00  4.000000\n           mean    18.420000  2.812500  2.25  0.151650\n           std      5.059282  0.898494  0.50  0.028123\n           min     12.460000  1.500000  2.00  0.120385\n           25%     15.100000  2.625000  2.00  0.137239",
      "text/html": "<div>\n<style scoped>\n    .dataframe tbody tr th:only-of-type {\n        vertical-align: middle;\n    }\n\n    .dataframe tbody tr th {\n        vertical-align: top;\n    }\n\n    .dataframe thead th {\n        text-align: right;\n    }\n</style>\n<table border=\"1\" class=\"dataframe\">\n  <thead>\n    <tr style=\"text-align: right;\">\n      <th></th>\n      <th></th>\n      <th></th>\n      <th>total_bill</th>\n      <th>tip</th>\n      <th>size</th>\n      <th>tip_pct</th>\n    </tr>\n    <tr>\n      <th>smoker</th>\n      <th>day</th>\n      <th></th>\n      <th></th>\n      <th></th>\n      <th></th>\n      <th></th>\n    </tr>\n  </thead>\n  <tbody>\n    <tr>\n      <th rowspan=\"5\" valign=\"top\">No</th>\n      <th rowspan=\"5\" valign=\"top\">Fri</th>\n      <th>count</th>\n      <td>4.000000</td>\n      <td>4.000000</td>\n      <td>4.00</td>\n      <td>4.000000</td>\n    </tr>\n    <tr>\n      <th>mean</th>\n      <td>18.420000</td>\n      <td>2.812500</td>\n      <td>2.25</td>\n      <td>0.151650</td>\n    </tr>\n    <tr>\n      <th>std</th>\n      <td>5.059282</td>\n      <td>0.898494</td>\n      <td>0.50</td>\n      <td>0.028123</td>\n    </tr>\n    <tr>\n      <th>min</th>\n      <td>12.460000</td>\n      <td>1.500000</td>\n      <td>2.00</td>\n      <td>0.120385</td>\n    </tr>\n    <tr>\n      <th>25%</th>\n      <td>15.100000</td>\n      <td>2.625000</td>\n      <td>2.00</td>\n      <td>0.137239</td>\n    </tr>\n  </tbody>\n</table>\n</div>"
     },
     "execution_count": 72,
     "metadata": {},
     "output_type": "execute_result"
    }
   ],
   "source": [
    "# 在Groupby对象的内部，当你调用箱describe这样的方法时，实际上是以下代码的简写：\n",
    "f = lambda x: x.describe()\n",
    "grouped.apply(f)[:5]"
   ],
   "metadata": {
    "collapsed": false,
    "pycharm": {
     "name": "#%%\n"
    }
   }
  },
  {
   "cell_type": "markdown",
   "source": [
    "### 10.3.1 压缩分组键"
   ],
   "metadata": {
    "collapsed": false,
    "pycharm": {
     "name": "#%% md\n"
    }
   }
  },
  {
   "cell_type": "code",
   "execution_count": 73,
   "outputs": [
    {
     "data": {
      "text/plain": "     total_bill   tip smoker   day    time  size   tip_pct\n88        24.71  5.85     No  Thur   Lunch     2  0.236746\n185       20.69  5.00     No   Sun  Dinner     5  0.241663\n51        10.29  2.60     No   Sun  Dinner     2  0.252672\n149        7.51  2.00     No  Thur   Lunch     2  0.266312\n232       11.61  3.39     No   Sat  Dinner     2  0.291990\n109       14.31  4.00    Yes   Sat  Dinner     2  0.279525\n183       23.17  6.50    Yes   Sun  Dinner     4  0.280535\n67         3.07  1.00    Yes   Sat  Dinner     1  0.325733\n178        9.60  4.00    Yes   Sun  Dinner     2  0.416667\n172        7.25  5.15    Yes   Sun  Dinner     2  0.710345",
      "text/html": "<div>\n<style scoped>\n    .dataframe tbody tr th:only-of-type {\n        vertical-align: middle;\n    }\n\n    .dataframe tbody tr th {\n        vertical-align: top;\n    }\n\n    .dataframe thead th {\n        text-align: right;\n    }\n</style>\n<table border=\"1\" class=\"dataframe\">\n  <thead>\n    <tr style=\"text-align: right;\">\n      <th></th>\n      <th>total_bill</th>\n      <th>tip</th>\n      <th>smoker</th>\n      <th>day</th>\n      <th>time</th>\n      <th>size</th>\n      <th>tip_pct</th>\n    </tr>\n  </thead>\n  <tbody>\n    <tr>\n      <th>88</th>\n      <td>24.71</td>\n      <td>5.85</td>\n      <td>No</td>\n      <td>Thur</td>\n      <td>Lunch</td>\n      <td>2</td>\n      <td>0.236746</td>\n    </tr>\n    <tr>\n      <th>185</th>\n      <td>20.69</td>\n      <td>5.00</td>\n      <td>No</td>\n      <td>Sun</td>\n      <td>Dinner</td>\n      <td>5</td>\n      <td>0.241663</td>\n    </tr>\n    <tr>\n      <th>51</th>\n      <td>10.29</td>\n      <td>2.60</td>\n      <td>No</td>\n      <td>Sun</td>\n      <td>Dinner</td>\n      <td>2</td>\n      <td>0.252672</td>\n    </tr>\n    <tr>\n      <th>149</th>\n      <td>7.51</td>\n      <td>2.00</td>\n      <td>No</td>\n      <td>Thur</td>\n      <td>Lunch</td>\n      <td>2</td>\n      <td>0.266312</td>\n    </tr>\n    <tr>\n      <th>232</th>\n      <td>11.61</td>\n      <td>3.39</td>\n      <td>No</td>\n      <td>Sat</td>\n      <td>Dinner</td>\n      <td>2</td>\n      <td>0.291990</td>\n    </tr>\n    <tr>\n      <th>109</th>\n      <td>14.31</td>\n      <td>4.00</td>\n      <td>Yes</td>\n      <td>Sat</td>\n      <td>Dinner</td>\n      <td>2</td>\n      <td>0.279525</td>\n    </tr>\n    <tr>\n      <th>183</th>\n      <td>23.17</td>\n      <td>6.50</td>\n      <td>Yes</td>\n      <td>Sun</td>\n      <td>Dinner</td>\n      <td>4</td>\n      <td>0.280535</td>\n    </tr>\n    <tr>\n      <th>67</th>\n      <td>3.07</td>\n      <td>1.00</td>\n      <td>Yes</td>\n      <td>Sat</td>\n      <td>Dinner</td>\n      <td>1</td>\n      <td>0.325733</td>\n    </tr>\n    <tr>\n      <th>178</th>\n      <td>9.60</td>\n      <td>4.00</td>\n      <td>Yes</td>\n      <td>Sun</td>\n      <td>Dinner</td>\n      <td>2</td>\n      <td>0.416667</td>\n    </tr>\n    <tr>\n      <th>172</th>\n      <td>7.25</td>\n      <td>5.15</td>\n      <td>Yes</td>\n      <td>Sun</td>\n      <td>Dinner</td>\n      <td>2</td>\n      <td>0.710345</td>\n    </tr>\n  </tbody>\n</table>\n</div>"
     },
     "execution_count": 73,
     "metadata": {},
     "output_type": "execute_result"
    }
   ],
   "source": [
    "# 在之前例子中，可以看到得到的对象具有分组键所形成的分层索引以及每个原始对象的索引\n",
    "# 可以通过传递group_keys=False来禁用这个功能\n",
    "tips.groupby('smoker', group_keys=False).apply(top)"
   ],
   "metadata": {
    "collapsed": false,
    "pycharm": {
     "name": "#%%\n"
    }
   }
  },
  {
   "cell_type": "markdown",
   "source": [
    "### 10.3.2 分位数与桶分析"
   ],
   "metadata": {
    "collapsed": false,
    "pycharm": {
     "name": "#%% md\n"
    }
   }
  },
  {
   "cell_type": "code",
   "execution_count": 77,
   "outputs": [
    {
     "data": {
      "text/plain": "0     (-3.001, -1.504]\n1     (-0.0135, 1.477]\n2     (-0.0135, 1.477]\n3    (-1.504, -0.0135]\n4       (1.477, 2.968]\nName: data1, dtype: category\nCategories (4, interval[float64, right]): [(-3.001, -1.504] < (-1.504, -0.0135] < (-0.0135, 1.477] < (1.477, 2.968]]"
     },
     "execution_count": 77,
     "metadata": {},
     "output_type": "execute_result"
    }
   ],
   "source": [
    "# cut和qcut\n",
    "frame = pd.DataFrame({'data1': np.random.randn(1000),\n",
    "                      'data2': np.random.randn(1000)})\n",
    "quartiles = pd.cut(frame.data1, 4)\n",
    "quartiles[:5]"
   ],
   "metadata": {
    "collapsed": false,
    "pycharm": {
     "name": "#%%\n"
    }
   }
  },
  {
   "cell_type": "code",
   "execution_count": 78,
   "outputs": [],
   "source": [
    "def get_stats(group):\n",
    "    return {'min': group.min(),\n",
    "            'max': group.max(),\n",
    "            'count': group.count(),\n",
    "            'mean': group.mean()}"
   ],
   "metadata": {
    "collapsed": false,
    "pycharm": {
     "name": "#%%\n"
    }
   }
  },
  {
   "cell_type": "code",
   "execution_count": 81,
   "outputs": [
    {
     "data": {
      "text/plain": "                        min       max  count      mean\ndata1                                                 \n(-3.001, -1.504]  -2.511018  2.888787   61.0  0.027127\n(-1.504, -0.0135] -2.991909  3.035505  422.0  0.032793\n(-0.0135, 1.477]  -3.019117  2.524191  451.0 -0.015068\n(1.477, 2.968]    -1.859108  1.977192   66.0 -0.260528",
      "text/html": "<div>\n<style scoped>\n    .dataframe tbody tr th:only-of-type {\n        vertical-align: middle;\n    }\n\n    .dataframe tbody tr th {\n        vertical-align: top;\n    }\n\n    .dataframe thead th {\n        text-align: right;\n    }\n</style>\n<table border=\"1\" class=\"dataframe\">\n  <thead>\n    <tr style=\"text-align: right;\">\n      <th></th>\n      <th>min</th>\n      <th>max</th>\n      <th>count</th>\n      <th>mean</th>\n    </tr>\n    <tr>\n      <th>data1</th>\n      <th></th>\n      <th></th>\n      <th></th>\n      <th></th>\n    </tr>\n  </thead>\n  <tbody>\n    <tr>\n      <th>(-3.001, -1.504]</th>\n      <td>-2.511018</td>\n      <td>2.888787</td>\n      <td>61.0</td>\n      <td>0.027127</td>\n    </tr>\n    <tr>\n      <th>(-1.504, -0.0135]</th>\n      <td>-2.991909</td>\n      <td>3.035505</td>\n      <td>422.0</td>\n      <td>0.032793</td>\n    </tr>\n    <tr>\n      <th>(-0.0135, 1.477]</th>\n      <td>-3.019117</td>\n      <td>2.524191</td>\n      <td>451.0</td>\n      <td>-0.015068</td>\n    </tr>\n    <tr>\n      <th>(1.477, 2.968]</th>\n      <td>-1.859108</td>\n      <td>1.977192</td>\n      <td>66.0</td>\n      <td>-0.260528</td>\n    </tr>\n  </tbody>\n</table>\n</div>"
     },
     "execution_count": 81,
     "metadata": {},
     "output_type": "execute_result"
    }
   ],
   "source": [
    "# 使用分位数区间来分组DataFrame\n",
    "grouped = frame.data2.groupby(quartiles)\n",
    "# 将分组后的DataFrame应用get_stats函数\n",
    "grouped.apply(get_stats).unstack()"
   ],
   "metadata": {
    "collapsed": false,
    "pycharm": {
     "name": "#%%\n"
    }
   }
  },
  {
   "cell_type": "code",
   "execution_count": 86,
   "outputs": [
    {
     "data": {
      "text/plain": "            min       max  count      mean\ndata1                                     \n0     -2.511018  2.888787  100.0  0.034311\n1     -2.915698  3.035505  100.0 -0.023259\n2     -2.401430  2.158680  100.0 -0.002027\n3     -2.991909  2.741706  100.0  0.122747\n4     -2.043449  2.710128  100.0  0.017067\n5     -3.019117  2.327372  100.0 -0.100739\n6     -2.937367  2.097503  100.0  0.119491\n7     -2.899614  2.524191  100.0  0.045425\n8     -2.648311  2.478626  100.0 -0.060017\n9     -2.628571  1.977192  100.0 -0.237969",
      "text/html": "<div>\n<style scoped>\n    .dataframe tbody tr th:only-of-type {\n        vertical-align: middle;\n    }\n\n    .dataframe tbody tr th {\n        vertical-align: top;\n    }\n\n    .dataframe thead th {\n        text-align: right;\n    }\n</style>\n<table border=\"1\" class=\"dataframe\">\n  <thead>\n    <tr style=\"text-align: right;\">\n      <th></th>\n      <th>min</th>\n      <th>max</th>\n      <th>count</th>\n      <th>mean</th>\n    </tr>\n    <tr>\n      <th>data1</th>\n      <th></th>\n      <th></th>\n      <th></th>\n      <th></th>\n    </tr>\n  </thead>\n  <tbody>\n    <tr>\n      <th>0</th>\n      <td>-2.511018</td>\n      <td>2.888787</td>\n      <td>100.0</td>\n      <td>0.034311</td>\n    </tr>\n    <tr>\n      <th>1</th>\n      <td>-2.915698</td>\n      <td>3.035505</td>\n      <td>100.0</td>\n      <td>-0.023259</td>\n    </tr>\n    <tr>\n      <th>2</th>\n      <td>-2.401430</td>\n      <td>2.158680</td>\n      <td>100.0</td>\n      <td>-0.002027</td>\n    </tr>\n    <tr>\n      <th>3</th>\n      <td>-2.991909</td>\n      <td>2.741706</td>\n      <td>100.0</td>\n      <td>0.122747</td>\n    </tr>\n    <tr>\n      <th>4</th>\n      <td>-2.043449</td>\n      <td>2.710128</td>\n      <td>100.0</td>\n      <td>0.017067</td>\n    </tr>\n    <tr>\n      <th>5</th>\n      <td>-3.019117</td>\n      <td>2.327372</td>\n      <td>100.0</td>\n      <td>-0.100739</td>\n    </tr>\n    <tr>\n      <th>6</th>\n      <td>-2.937367</td>\n      <td>2.097503</td>\n      <td>100.0</td>\n      <td>0.119491</td>\n    </tr>\n    <tr>\n      <th>7</th>\n      <td>-2.899614</td>\n      <td>2.524191</td>\n      <td>100.0</td>\n      <td>0.045425</td>\n    </tr>\n    <tr>\n      <th>8</th>\n      <td>-2.648311</td>\n      <td>2.478626</td>\n      <td>100.0</td>\n      <td>-0.060017</td>\n    </tr>\n    <tr>\n      <th>9</th>\n      <td>-2.628571</td>\n      <td>1.977192</td>\n      <td>100.0</td>\n      <td>-0.237969</td>\n    </tr>\n  </tbody>\n</table>\n</div>"
     },
     "execution_count": 86,
     "metadata": {},
     "output_type": "execute_result"
    }
   ],
   "source": [
    "# 上面的分桶为\"等长桶\"，为了根据样本分位桶计算出\"等大小的桶\"，需要使用qcut\n",
    "grouping = pd.qcut(frame.data1, 10, labels=False)  # 传入10表示10分位\n",
    "grouped = frame.data2.groupby(grouping)\n",
    "grouped.apply(get_stats).unstack()"
   ],
   "metadata": {
    "collapsed": false,
    "pycharm": {
     "name": "#%%\n"
    }
   }
  },
  {
   "cell_type": "markdown",
   "source": [
    "### 10.3.3 示例：使用指定分组值填充缺失值"
   ],
   "metadata": {
    "collapsed": false,
    "pycharm": {
     "name": "#%% md\n"
    }
   }
  },
  {
   "cell_type": "code",
   "execution_count": 88,
   "outputs": [
    {
     "data": {
      "text/plain": "0         NaN\n1   -1.979274\n2         NaN\n3    0.122541\n4         NaN\n5   -0.901896\ndtype: float64"
     },
     "execution_count": 88,
     "metadata": {},
     "output_type": "execute_result"
    }
   ],
   "source": [
    "s = pd.Series(np.random.randn(6))\n",
    "s[::2] = np.nan\n",
    "s"
   ],
   "metadata": {
    "collapsed": false,
    "pycharm": {
     "name": "#%%\n"
    }
   }
  },
  {
   "cell_type": "code",
   "execution_count": 89,
   "outputs": [
    {
     "data": {
      "text/plain": "0   -0.919543\n1   -1.979274\n2   -0.919543\n3    0.122541\n4   -0.919543\n5   -0.901896\ndtype: float64"
     },
     "execution_count": 89,
     "metadata": {},
     "output_type": "execute_result"
    }
   ],
   "source": [
    "# 使用均值填充NA\n",
    "s.fillna(s.mean())"
   ],
   "metadata": {
    "collapsed": false,
    "pycharm": {
     "name": "#%%\n"
    }
   }
  },
  {
   "cell_type": "code",
   "execution_count": 90,
   "outputs": [
    {
     "data": {
      "text/plain": "['East', 'East', 'East', 'East', 'West', 'West', 'West', 'West']"
     },
     "execution_count": 90,
     "metadata": {},
     "output_type": "execute_result"
    }
   ],
   "source": [
    "states = ['Ohio', 'New York', 'Vermont', 'Florida', 'Oregon', 'Nevada', 'California', 'Idaho']\n",
    "group_key = ['East'] * 4 + ['West'] * 4\n",
    "group_key"
   ],
   "metadata": {
    "collapsed": false,
    "pycharm": {
     "name": "#%%\n"
    }
   }
  },
  {
   "cell_type": "code",
   "execution_count": 91,
   "outputs": [
    {
     "data": {
      "text/plain": "Ohio         -0.797169\nNew York      1.104516\nVermont       0.354852\nFlorida       0.168654\nOregon       -0.041550\nNevada        1.195868\nCalifornia   -0.363097\nIdaho         0.085700\ndtype: float64"
     },
     "execution_count": 91,
     "metadata": {},
     "output_type": "execute_result"
    }
   ],
   "source": [
    "data = pd.Series(np.random.randn(8), index=states)\n",
    "data"
   ],
   "metadata": {
    "collapsed": false,
    "pycharm": {
     "name": "#%%\n"
    }
   }
  },
  {
   "cell_type": "code",
   "execution_count": 92,
   "outputs": [
    {
     "data": {
      "text/plain": "Ohio         -0.797169\nNew York      1.104516\nVermont            NaN\nFlorida       0.168654\nOregon       -0.041550\nNevada             NaN\nCalifornia   -0.363097\nIdaho              NaN\ndtype: float64"
     },
     "execution_count": 92,
     "metadata": {},
     "output_type": "execute_result"
    }
   ],
   "source": [
    "# 将一些值置为NA\n",
    "data[['Vermont', 'Nevada', 'Idaho']] = np.nan\n",
    "data"
   ],
   "metadata": {
    "collapsed": false,
    "pycharm": {
     "name": "#%%\n"
    }
   }
  },
  {
   "cell_type": "code",
   "execution_count": 93,
   "outputs": [
    {
     "data": {
      "text/plain": "East    0.158667\nWest   -0.202324\ndtype: float64"
     },
     "execution_count": 93,
     "metadata": {},
     "output_type": "execute_result"
    }
   ],
   "source": [
    "data.groupby(group_key).mean()"
   ],
   "metadata": {
    "collapsed": false,
    "pycharm": {
     "name": "#%%\n"
    }
   }
  },
  {
   "cell_type": "code",
   "execution_count": 94,
   "outputs": [
    {
     "data": {
      "text/plain": "Ohio         -0.797169\nNew York      1.104516\nVermont       0.500000\nFlorida       0.168654\nOregon       -0.041550\nNevada       -1.000000\nCalifornia   -0.363097\nIdaho        -1.000000\ndtype: float64"
     },
     "execution_count": 94,
     "metadata": {},
     "output_type": "execute_result"
    }
   ],
   "source": [
    "fill_values = {'East': 0.5, 'West': -1}\n",
    "fill_func = lambda x: x.fillna(fill_values[x.name])\n",
    "data.groupby(group_key).apply(fill_func)"
   ],
   "metadata": {
    "collapsed": false,
    "pycharm": {
     "name": "#%%\n"
    }
   }
  },
  {
   "cell_type": "markdown",
   "source": [
    "### 10.3.4 示例：随机采样与排列"
   ],
   "metadata": {
    "collapsed": false,
    "pycharm": {
     "name": "#%% md\n"
    }
   }
  },
  {
   "cell_type": "code",
   "execution_count": 100,
   "outputs": [
    {
     "data": {
      "text/plain": "AH      1\n2H      2\n3H      3\n4H      4\n5H      5\n6H      6\n7H      7\n8H      8\n9H      9\n10H    10\nJH     10\nQH     10\nKH     10\ndtype: int64"
     },
     "execution_count": 100,
     "metadata": {},
     "output_type": "execute_result"
    }
   ],
   "source": [
    "suits = list('HSCD')\n",
    "card_val = (list(range(1, 11)) + [10] * 3) * 4\n",
    "base_names = ['A'] + list(range(2, 11)) + list('JQK')\n",
    "cards = []\n",
    "for suit in list('HSCD'):\n",
    "    cards.extend(str(num) + suit for num in base_names)\n",
    "deck = pd.Series(card_val, index=cards)\n",
    "deck[:13]"
   ],
   "metadata": {
    "collapsed": false,
    "pycharm": {
     "name": "#%%\n"
    }
   }
  },
  {
   "cell_type": "code",
   "execution_count": 106,
   "outputs": [
    {
     "data": {
      "text/plain": "10H    10\n9S      9\nJD     10\nAC      1\n9H      9\ndtype: int64"
     },
     "execution_count": 106,
     "metadata": {},
     "output_type": "execute_result"
    }
   ],
   "source": [
    "# 从这副牌中拿出五张牌\n",
    "def draw(deck, n=5):\n",
    "    return deck.sample(n)\n",
    "\n",
    "\n",
    "draw(deck)"
   ],
   "metadata": {
    "collapsed": false,
    "pycharm": {
     "name": "#%%\n"
    }
   }
  },
  {
   "cell_type": "code",
   "execution_count": 113,
   "outputs": [
    {
     "data": {
      "text/plain": "C  2C     2\n   AC     1\nD  9D     9\n   QD    10\nH  QH    10\n   8H     8\nS  JS    10\n   7S     7\ndtype: int64"
     },
     "execution_count": 113,
     "metadata": {},
     "output_type": "execute_result"
    }
   ],
   "source": [
    "get_suit = lambda card: card[-1]\n",
    "deck.groupby(get_suit).apply(draw, n=2)"
   ],
   "metadata": {
    "collapsed": false,
    "pycharm": {
     "name": "#%%\n"
    }
   }
  },
  {
   "cell_type": "code",
   "execution_count": 115,
   "outputs": [
    {
     "data": {
      "text/plain": "   count      mean       std  min  25%  50%   75%   max\nC   13.0  6.538462  3.281651  1.0  4.0  7.0  10.0  10.0\nD   13.0  6.538462  3.281651  1.0  4.0  7.0  10.0  10.0\nH   13.0  6.538462  3.281651  1.0  4.0  7.0  10.0  10.0\nS   13.0  6.538462  3.281651  1.0  4.0  7.0  10.0  10.0",
      "text/html": "<div>\n<style scoped>\n    .dataframe tbody tr th:only-of-type {\n        vertical-align: middle;\n    }\n\n    .dataframe tbody tr th {\n        vertical-align: top;\n    }\n\n    .dataframe thead th {\n        text-align: right;\n    }\n</style>\n<table border=\"1\" class=\"dataframe\">\n  <thead>\n    <tr style=\"text-align: right;\">\n      <th></th>\n      <th>count</th>\n      <th>mean</th>\n      <th>std</th>\n      <th>min</th>\n      <th>25%</th>\n      <th>50%</th>\n      <th>75%</th>\n      <th>max</th>\n    </tr>\n  </thead>\n  <tbody>\n    <tr>\n      <th>C</th>\n      <td>13.0</td>\n      <td>6.538462</td>\n      <td>3.281651</td>\n      <td>1.0</td>\n      <td>4.0</td>\n      <td>7.0</td>\n      <td>10.0</td>\n      <td>10.0</td>\n    </tr>\n    <tr>\n      <th>D</th>\n      <td>13.0</td>\n      <td>6.538462</td>\n      <td>3.281651</td>\n      <td>1.0</td>\n      <td>4.0</td>\n      <td>7.0</td>\n      <td>10.0</td>\n      <td>10.0</td>\n    </tr>\n    <tr>\n      <th>H</th>\n      <td>13.0</td>\n      <td>6.538462</td>\n      <td>3.281651</td>\n      <td>1.0</td>\n      <td>4.0</td>\n      <td>7.0</td>\n      <td>10.0</td>\n      <td>10.0</td>\n    </tr>\n    <tr>\n      <th>S</th>\n      <td>13.0</td>\n      <td>6.538462</td>\n      <td>3.281651</td>\n      <td>1.0</td>\n      <td>4.0</td>\n      <td>7.0</td>\n      <td>10.0</td>\n      <td>10.0</td>\n    </tr>\n  </tbody>\n</table>\n</div>"
     },
     "execution_count": 115,
     "metadata": {},
     "output_type": "execute_result"
    }
   ],
   "source": [
    "deck.groupby(get_suit).describe()"
   ],
   "metadata": {
    "collapsed": false,
    "pycharm": {
     "name": "#%%\n"
    }
   }
  },
  {
   "cell_type": "markdown",
   "source": [
    "### 10.3.5 示例：分组加权平均和相关性"
   ],
   "metadata": {
    "collapsed": false,
    "pycharm": {
     "name": "#%% md\n"
    }
   }
  },
  {
   "cell_type": "code",
   "execution_count": 116,
   "outputs": [
    {
     "data": {
      "text/plain": "  category      data   weights\n0        a -0.472005  0.320131\n1        a -0.296827  0.144299\n2        a -0.335415  0.081769\n3        a -0.212100  0.605111\n4        b  0.990875  0.218523\n5        b  0.070163  0.608457\n6        b  0.593190  0.938680\n7        b -0.383460  0.953651",
      "text/html": "<div>\n<style scoped>\n    .dataframe tbody tr th:only-of-type {\n        vertical-align: middle;\n    }\n\n    .dataframe tbody tr th {\n        vertical-align: top;\n    }\n\n    .dataframe thead th {\n        text-align: right;\n    }\n</style>\n<table border=\"1\" class=\"dataframe\">\n  <thead>\n    <tr style=\"text-align: right;\">\n      <th></th>\n      <th>category</th>\n      <th>data</th>\n      <th>weights</th>\n    </tr>\n  </thead>\n  <tbody>\n    <tr>\n      <th>0</th>\n      <td>a</td>\n      <td>-0.472005</td>\n      <td>0.320131</td>\n    </tr>\n    <tr>\n      <th>1</th>\n      <td>a</td>\n      <td>-0.296827</td>\n      <td>0.144299</td>\n    </tr>\n    <tr>\n      <th>2</th>\n      <td>a</td>\n      <td>-0.335415</td>\n      <td>0.081769</td>\n    </tr>\n    <tr>\n      <th>3</th>\n      <td>a</td>\n      <td>-0.212100</td>\n      <td>0.605111</td>\n    </tr>\n    <tr>\n      <th>4</th>\n      <td>b</td>\n      <td>0.990875</td>\n      <td>0.218523</td>\n    </tr>\n    <tr>\n      <th>5</th>\n      <td>b</td>\n      <td>0.070163</td>\n      <td>0.608457</td>\n    </tr>\n    <tr>\n      <th>6</th>\n      <td>b</td>\n      <td>0.593190</td>\n      <td>0.938680</td>\n    </tr>\n    <tr>\n      <th>7</th>\n      <td>b</td>\n      <td>-0.383460</td>\n      <td>0.953651</td>\n    </tr>\n  </tbody>\n</table>\n</div>"
     },
     "execution_count": 116,
     "metadata": {},
     "output_type": "execute_result"
    }
   ],
   "source": [
    "df = pd.DataFrame({'category': list('aaaabbbb'),\n",
    "                   'data': np.random.randn(8),\n",
    "                   'weights': np.random.rand(8)})\n",
    "df"
   ],
   "metadata": {
    "collapsed": false,
    "pycharm": {
     "name": "#%%\n"
    }
   }
  },
  {
   "cell_type": "code",
   "execution_count": 117,
   "outputs": [
    {
     "data": {
      "text/plain": "category\na   -0.303746\nb    0.165611\ndtype: float64"
     },
     "execution_count": 117,
     "metadata": {},
     "output_type": "execute_result"
    }
   ],
   "source": [
    "# 通过category进行分组加权平均\n",
    "grouped = df.groupby('category')\n",
    "get_wavg = lambda g: np.average(g['data'], weights=g['weights'])\n",
    "grouped.apply(get_wavg)"
   ],
   "metadata": {
    "collapsed": false,
    "pycharm": {
     "name": "#%%\n"
    }
   }
  },
  {
   "cell_type": "code",
   "execution_count": 121,
   "outputs": [
    {
     "data": {
      "text/plain": "              AAPL   MSFT    XOM      SPX\n2011-10-11  400.29  27.00  76.27  1195.54\n2011-10-12  402.19  26.96  77.16  1207.25\n2011-10-13  408.43  27.18  76.37  1203.66\n2011-10-14  422.00  27.27  78.11  1224.58",
      "text/html": "<div>\n<style scoped>\n    .dataframe tbody tr th:only-of-type {\n        vertical-align: middle;\n    }\n\n    .dataframe tbody tr th {\n        vertical-align: top;\n    }\n\n    .dataframe thead th {\n        text-align: right;\n    }\n</style>\n<table border=\"1\" class=\"dataframe\">\n  <thead>\n    <tr style=\"text-align: right;\">\n      <th></th>\n      <th>AAPL</th>\n      <th>MSFT</th>\n      <th>XOM</th>\n      <th>SPX</th>\n    </tr>\n  </thead>\n  <tbody>\n    <tr>\n      <th>2011-10-11</th>\n      <td>400.29</td>\n      <td>27.00</td>\n      <td>76.27</td>\n      <td>1195.54</td>\n    </tr>\n    <tr>\n      <th>2011-10-12</th>\n      <td>402.19</td>\n      <td>26.96</td>\n      <td>77.16</td>\n      <td>1207.25</td>\n    </tr>\n    <tr>\n      <th>2011-10-13</th>\n      <td>408.43</td>\n      <td>27.18</td>\n      <td>76.37</td>\n      <td>1203.66</td>\n    </tr>\n    <tr>\n      <th>2011-10-14</th>\n      <td>422.00</td>\n      <td>27.27</td>\n      <td>78.11</td>\n      <td>1224.58</td>\n    </tr>\n  </tbody>\n</table>\n</div>"
     },
     "execution_count": 121,
     "metadata": {},
     "output_type": "execute_result"
    }
   ],
   "source": [
    "# 股票的收盘价\n",
    "close_px = pd.read_csv('./examples/stock_px_2.csv',\n",
    "                       parse_dates=True,\n",
    "                       index_col=0)\n",
    "close_px[-4:]"
   ],
   "metadata": {
    "collapsed": false,
    "pycharm": {
     "name": "#%%\n"
    }
   }
  },
  {
   "cell_type": "code",
   "execution_count": 122,
   "outputs": [],
   "source": [
    "# 计算标普指数（SPX）每日收益的年度相关性（通过百分比幻化计算）。作为一种实现方式，首先创建一个每列与SPX列成对关联的函数\n",
    "spx_corr = lambda x: x.corrwith(x['SPX'])"
   ],
   "metadata": {
    "collapsed": false,
    "pycharm": {
     "name": "#%%\n"
    }
   }
  },
  {
   "cell_type": "code",
   "execution_count": 125,
   "outputs": [
    {
     "data": {
      "text/plain": "                AAPL      MSFT       XOM       SPX\n2011-10-11  0.029526  0.002227 -0.000131  0.000544\n2011-10-12  0.004747 -0.001481  0.011669  0.009795\n2011-10-13  0.015515  0.008160 -0.010238 -0.002974\n2011-10-14  0.033225  0.003311  0.022784  0.017380",
      "text/html": "<div>\n<style scoped>\n    .dataframe tbody tr th:only-of-type {\n        vertical-align: middle;\n    }\n\n    .dataframe tbody tr th {\n        vertical-align: top;\n    }\n\n    .dataframe thead th {\n        text-align: right;\n    }\n</style>\n<table border=\"1\" class=\"dataframe\">\n  <thead>\n    <tr style=\"text-align: right;\">\n      <th></th>\n      <th>AAPL</th>\n      <th>MSFT</th>\n      <th>XOM</th>\n      <th>SPX</th>\n    </tr>\n  </thead>\n  <tbody>\n    <tr>\n      <th>2011-10-11</th>\n      <td>0.029526</td>\n      <td>0.002227</td>\n      <td>-0.000131</td>\n      <td>0.000544</td>\n    </tr>\n    <tr>\n      <th>2011-10-12</th>\n      <td>0.004747</td>\n      <td>-0.001481</td>\n      <td>0.011669</td>\n      <td>0.009795</td>\n    </tr>\n    <tr>\n      <th>2011-10-13</th>\n      <td>0.015515</td>\n      <td>0.008160</td>\n      <td>-0.010238</td>\n      <td>-0.002974</td>\n    </tr>\n    <tr>\n      <th>2011-10-14</th>\n      <td>0.033225</td>\n      <td>0.003311</td>\n      <td>0.022784</td>\n      <td>0.017380</td>\n    </tr>\n  </tbody>\n</table>\n</div>"
     },
     "execution_count": 125,
     "metadata": {},
     "output_type": "execute_result"
    }
   ],
   "source": [
    "# 之后使用pct_change计算close-px百分比的变化\n",
    "rets = close_px.pct_change().dropna()\n",
    "rets[-4:]"
   ],
   "metadata": {
    "collapsed": false,
    "pycharm": {
     "name": "#%%\n"
    }
   }
  },
  {
   "cell_type": "code",
   "execution_count": 126,
   "outputs": [
    {
     "data": {
      "text/plain": "          AAPL      MSFT       XOM  SPX\n2003  0.541124  0.745174  0.661265  1.0\n2004  0.374283  0.588531  0.557742  1.0\n2005  0.467540  0.562374  0.631010  1.0\n2006  0.428267  0.406126  0.518514  1.0\n2007  0.508118  0.658770  0.786264  1.0\n2008  0.681434  0.804626  0.828303  1.0\n2009  0.707103  0.654902  0.797921  1.0\n2010  0.710105  0.730118  0.839057  1.0\n2011  0.691931  0.800996  0.859975  1.0",
      "text/html": "<div>\n<style scoped>\n    .dataframe tbody tr th:only-of-type {\n        vertical-align: middle;\n    }\n\n    .dataframe tbody tr th {\n        vertical-align: top;\n    }\n\n    .dataframe thead th {\n        text-align: right;\n    }\n</style>\n<table border=\"1\" class=\"dataframe\">\n  <thead>\n    <tr style=\"text-align: right;\">\n      <th></th>\n      <th>AAPL</th>\n      <th>MSFT</th>\n      <th>XOM</th>\n      <th>SPX</th>\n    </tr>\n  </thead>\n  <tbody>\n    <tr>\n      <th>2003</th>\n      <td>0.541124</td>\n      <td>0.745174</td>\n      <td>0.661265</td>\n      <td>1.0</td>\n    </tr>\n    <tr>\n      <th>2004</th>\n      <td>0.374283</td>\n      <td>0.588531</td>\n      <td>0.557742</td>\n      <td>1.0</td>\n    </tr>\n    <tr>\n      <th>2005</th>\n      <td>0.467540</td>\n      <td>0.562374</td>\n      <td>0.631010</td>\n      <td>1.0</td>\n    </tr>\n    <tr>\n      <th>2006</th>\n      <td>0.428267</td>\n      <td>0.406126</td>\n      <td>0.518514</td>\n      <td>1.0</td>\n    </tr>\n    <tr>\n      <th>2007</th>\n      <td>0.508118</td>\n      <td>0.658770</td>\n      <td>0.786264</td>\n      <td>1.0</td>\n    </tr>\n    <tr>\n      <th>2008</th>\n      <td>0.681434</td>\n      <td>0.804626</td>\n      <td>0.828303</td>\n      <td>1.0</td>\n    </tr>\n    <tr>\n      <th>2009</th>\n      <td>0.707103</td>\n      <td>0.654902</td>\n      <td>0.797921</td>\n      <td>1.0</td>\n    </tr>\n    <tr>\n      <th>2010</th>\n      <td>0.710105</td>\n      <td>0.730118</td>\n      <td>0.839057</td>\n      <td>1.0</td>\n    </tr>\n    <tr>\n      <th>2011</th>\n      <td>0.691931</td>\n      <td>0.800996</td>\n      <td>0.859975</td>\n      <td>1.0</td>\n    </tr>\n  </tbody>\n</table>\n</div>"
     },
     "execution_count": 126,
     "metadata": {},
     "output_type": "execute_result"
    }
   ],
   "source": [
    "# 按年对百分比变化进行分组，可以使用单行函数从每个行标签中提取每个datetime标签的year属性\n",
    "get_year = lambda x: x.year\n",
    "by_year = rets.groupby(get_year)\n",
    "by_year.apply(spx_corr)"
   ],
   "metadata": {
    "collapsed": false,
    "pycharm": {
     "name": "#%%\n"
    }
   }
  },
  {
   "cell_type": "code",
   "execution_count": 127,
   "outputs": [
    {
     "data": {
      "text/plain": "2003    0.480868\n2004    0.259024\n2005    0.300093\n2006    0.161735\n2007    0.417738\n2008    0.611901\n2009    0.432738\n2010    0.571946\n2011    0.581987\ndtype: float64"
     },
     "execution_count": 127,
     "metadata": {},
     "output_type": "execute_result"
    }
   ],
   "source": [
    "# 也可以计算内部相关性\n",
    "by_year.apply(lambda g: g['AAPL'].corr(g['MSFT']))"
   ],
   "metadata": {
    "collapsed": false,
    "pycharm": {
     "name": "#%%\n"
    }
   }
  },
  {
   "cell_type": "markdown",
   "source": [
    "### 10.3.6 示例：逐组线性回归"
   ],
   "metadata": {
    "collapsed": false,
    "pycharm": {
     "name": "#%% md\n"
    }
   }
  },
  {
   "cell_type": "code",
   "execution_count": 128,
   "outputs": [],
   "source": [
    "import statsmodels.api as sm\n",
    "\n",
    "\n",
    "def regress(data, yvar, xvars):\n",
    "    Y = data[yvar]\n",
    "    X = data[xvars]\n",
    "    X['intercept'] = 1.\n",
    "    result = sm.OLS(Y, X).fit()\n",
    "    return result.params"
   ],
   "metadata": {
    "collapsed": false,
    "pycharm": {
     "name": "#%%\n"
    }
   }
  },
  {
   "cell_type": "code",
   "execution_count": 129,
   "outputs": [
    {
     "data": {
      "text/plain": "           SPX  intercept\n2003  1.195406   0.000710\n2004  1.363463   0.004201\n2005  1.766415   0.003246\n2006  1.645496   0.000080\n2007  1.198761   0.003438\n2008  0.968016  -0.001110\n2009  0.879103   0.002954\n2010  1.052608   0.001261\n2011  0.806605   0.001514",
      "text/html": "<div>\n<style scoped>\n    .dataframe tbody tr th:only-of-type {\n        vertical-align: middle;\n    }\n\n    .dataframe tbody tr th {\n        vertical-align: top;\n    }\n\n    .dataframe thead th {\n        text-align: right;\n    }\n</style>\n<table border=\"1\" class=\"dataframe\">\n  <thead>\n    <tr style=\"text-align: right;\">\n      <th></th>\n      <th>SPX</th>\n      <th>intercept</th>\n    </tr>\n  </thead>\n  <tbody>\n    <tr>\n      <th>2003</th>\n      <td>1.195406</td>\n      <td>0.000710</td>\n    </tr>\n    <tr>\n      <th>2004</th>\n      <td>1.363463</td>\n      <td>0.004201</td>\n    </tr>\n    <tr>\n      <th>2005</th>\n      <td>1.766415</td>\n      <td>0.003246</td>\n    </tr>\n    <tr>\n      <th>2006</th>\n      <td>1.645496</td>\n      <td>0.000080</td>\n    </tr>\n    <tr>\n      <th>2007</th>\n      <td>1.198761</td>\n      <td>0.003438</td>\n    </tr>\n    <tr>\n      <th>2008</th>\n      <td>0.968016</td>\n      <td>-0.001110</td>\n    </tr>\n    <tr>\n      <th>2009</th>\n      <td>0.879103</td>\n      <td>0.002954</td>\n    </tr>\n    <tr>\n      <th>2010</th>\n      <td>1.052608</td>\n      <td>0.001261</td>\n    </tr>\n    <tr>\n      <th>2011</th>\n      <td>0.806605</td>\n      <td>0.001514</td>\n    </tr>\n  </tbody>\n</table>\n</div>"
     },
     "execution_count": 129,
     "metadata": {},
     "output_type": "execute_result"
    }
   ],
   "source": [
    "by_year.apply(regress, 'AAPL', ['SPX'])"
   ],
   "metadata": {
    "collapsed": false,
    "pycharm": {
     "name": "#%%\n"
    }
   }
  },
  {
   "cell_type": "code",
   "execution_count": null,
   "outputs": [],
   "source": [],
   "metadata": {
    "collapsed": false,
    "pycharm": {
     "name": "#%%\n"
    }
   }
  }
 ],
 "metadata": {
  "kernelspec": {
   "display_name": "Python 3",
   "language": "python",
   "name": "python3"
  },
  "language_info": {
   "codemirror_mode": {
    "name": "ipython",
    "version": 2
   },
   "file_extension": ".py",
   "mimetype": "text/x-python",
   "name": "python",
   "nbconvert_exporter": "python",
   "pygments_lexer": "ipython2",
   "version": "2.7.6"
  }
 },
 "nbformat": 4,
 "nbformat_minor": 0
}