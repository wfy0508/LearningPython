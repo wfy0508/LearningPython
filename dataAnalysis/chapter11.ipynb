{
 "cells": [
  {
   "cell_type": "markdown",
   "source": [
    "# 11 时间序列\n",
    "时间戳：具体的时刻\n",
    "固定的时间区间\n",
    "时间间隔"
   ],
   "metadata": {
    "collapsed": false,
    "pycharm": {
     "name": "#%% md\n"
    }
   }
  },
  {
   "cell_type": "markdown",
   "source": [
    "## 11.1 日期和时间数据的类型及工具\n",
    "Python标准库包含了日期和时间数据的类型\n",
    "1 datetime\n",
    "2 time\n",
    "3 calendar"
   ],
   "metadata": {
    "collapsed": false,
    "pycharm": {
     "name": "#%% md\n"
    }
   }
  },
  {
   "cell_type": "code",
   "execution_count": 1,
   "outputs": [
    {
     "data": {
      "text/plain": "datetime.datetime(2022, 5, 9, 11, 29, 29, 181423)"
     },
     "execution_count": 1,
     "metadata": {},
     "output_type": "execute_result"
    }
   ],
   "source": [
    "from datetime import datetime\n",
    "import pandas as pd\n",
    "import numpy as np\n",
    "\n",
    "import pandas as pd\n",
    "\n",
    "now = datetime.now()\n",
    "now"
   ],
   "metadata": {
    "collapsed": false,
    "pycharm": {
     "name": "#%%\n"
    }
   }
  },
  {
   "cell_type": "code",
   "execution_count": 2,
   "outputs": [
    {
     "data": {
      "text/plain": "(2022, 5, 9)"
     },
     "execution_count": 2,
     "metadata": {},
     "output_type": "execute_result"
    }
   ],
   "source": [
    "now.year, now.month, now.day"
   ],
   "metadata": {
    "collapsed": false,
    "pycharm": {
     "name": "#%%\n"
    }
   }
  },
  {
   "cell_type": "code",
   "execution_count": 3,
   "outputs": [
    {
     "data": {
      "text/plain": "datetime.timedelta(days=926, seconds=56700)"
     },
     "execution_count": 3,
     "metadata": {},
     "output_type": "execute_result"
    }
   ],
   "source": [
    "# timedelta表示两个时间之差\n",
    "delta = datetime(2011, 1, 7) - datetime(2008, 6, 24, 8, 15)\n",
    "delta"
   ],
   "metadata": {
    "collapsed": false,
    "pycharm": {
     "name": "#%%\n"
    }
   }
  },
  {
   "cell_type": "code",
   "execution_count": 4,
   "outputs": [
    {
     "data": {
      "text/plain": "926"
     },
     "execution_count": 4,
     "metadata": {},
     "output_type": "execute_result"
    }
   ],
   "source": [
    "delta.days"
   ],
   "metadata": {
    "collapsed": false,
    "pycharm": {
     "name": "#%%\n"
    }
   }
  },
  {
   "cell_type": "code",
   "execution_count": 5,
   "outputs": [
    {
     "data": {
      "text/plain": "56700"
     },
     "execution_count": 5,
     "metadata": {},
     "output_type": "execute_result"
    }
   ],
   "source": [
    "delta.seconds"
   ],
   "metadata": {
    "collapsed": false,
    "pycharm": {
     "name": "#%%\n"
    }
   }
  },
  {
   "cell_type": "code",
   "execution_count": 6,
   "outputs": [
    {
     "data": {
      "text/plain": "datetime.datetime(2022, 1, 13, 0, 0)"
     },
     "execution_count": 6,
     "metadata": {},
     "output_type": "execute_result"
    }
   ],
   "source": [
    "from datetime import timedelta\n",
    "\n",
    "start = datetime(2022, 1, 1)\n",
    "# 可以通过加上或减去一个timedelta或其整数倍来产生一个新的datetime\n",
    "start + timedelta(12)"
   ],
   "metadata": {
    "collapsed": false,
    "pycharm": {
     "name": "#%%\n"
    }
   }
  },
  {
   "cell_type": "code",
   "execution_count": 7,
   "outputs": [
    {
     "data": {
      "text/plain": "datetime.datetime(2021, 12, 8, 0, 0)"
     },
     "execution_count": 7,
     "metadata": {},
     "output_type": "execute_result"
    }
   ],
   "source": [
    "start - 2 * timedelta(12)"
   ],
   "metadata": {
    "collapsed": false,
    "pycharm": {
     "name": "#%%\n"
    }
   }
  },
  {
   "cell_type": "code",
   "execution_count": 8,
   "outputs": [],
   "source": [
    "start.tzinfo"
   ],
   "metadata": {
    "collapsed": false,
    "pycharm": {
     "name": "#%%\n"
    }
   }
  },
  {
   "cell_type": "markdown",
   "source": [
    "### 11.1.1 字符串与datetime互转"
   ],
   "metadata": {
    "collapsed": false,
    "pycharm": {
     "name": "#%% md\n"
    }
   }
  },
  {
   "cell_type": "code",
   "execution_count": 9,
   "outputs": [
    {
     "data": {
      "text/plain": "'2022-01-01 00:00:00'"
     },
     "execution_count": 9,
     "metadata": {},
     "output_type": "execute_result"
    }
   ],
   "source": [
    "stamp = datetime(2022, 1, 1)\n",
    "str(stamp)"
   ],
   "metadata": {
    "collapsed": false,
    "pycharm": {
     "name": "#%%\n"
    }
   }
  },
  {
   "cell_type": "code",
   "execution_count": 10,
   "outputs": [
    {
     "data": {
      "text/plain": "'2022-01-01'"
     },
     "execution_count": 10,
     "metadata": {},
     "output_type": "execute_result"
    }
   ],
   "source": [
    "stamp.strftime('%Y-%m-%d')"
   ],
   "metadata": {
    "collapsed": false,
    "pycharm": {
     "name": "#%%\n"
    }
   }
  },
  {
   "cell_type": "code",
   "execution_count": 11,
   "outputs": [
    {
     "data": {
      "text/plain": "'2022-01-01 00:00:00'"
     },
     "execution_count": 11,
     "metadata": {},
     "output_type": "execute_result"
    }
   ],
   "source": [
    "stamp.strftime('%Y-%m-%d %H:%M:%S')"
   ],
   "metadata": {
    "collapsed": false,
    "pycharm": {
     "name": "#%%\n"
    }
   }
  },
  {
   "cell_type": "code",
   "execution_count": 12,
   "outputs": [
    {
     "data": {
      "text/plain": "datetime.datetime(2022, 1, 1, 0, 0)"
     },
     "execution_count": 12,
     "metadata": {},
     "output_type": "execute_result"
    }
   ],
   "source": [
    "# 将字符串转化为datetime\n",
    "value = '2022-01-01'\n",
    "datetime.strptime(value, '%Y-%m-%d')"
   ],
   "metadata": {
    "collapsed": false,
    "pycharm": {
     "name": "#%%\n"
    }
   }
  },
  {
   "cell_type": "code",
   "execution_count": 13,
   "outputs": [
    {
     "data": {
      "text/plain": "[datetime.datetime(2022, 1, 1, 0, 0), datetime.datetime(2022, 5, 8, 0, 0)]"
     },
     "execution_count": 13,
     "metadata": {},
     "output_type": "execute_result"
    }
   ],
   "source": [
    "datestrs = ['2022-01-01', '2022-05-08']\n",
    "[datetime.strptime(x, '%Y-%m-%d') for x in datestrs]"
   ],
   "metadata": {
    "collapsed": false,
    "pycharm": {
     "name": "#%%\n"
    }
   }
  },
  {
   "cell_type": "code",
   "execution_count": 14,
   "outputs": [
    {
     "data": {
      "text/plain": "datetime.datetime(2022, 1, 1, 0, 0)"
     },
     "execution_count": 14,
     "metadata": {},
     "output_type": "execute_result"
    }
   ],
   "source": [
    "# datetime.strptime将字符串转化为时间，需要传入指定的格式\n",
    "# 每次传入比较麻烦，对于通用的日期，可以使用第三方库\n",
    "from dateutil.parser import parse\n",
    "\n",
    "parse('2022-01-01')"
   ],
   "metadata": {
    "collapsed": false,
    "pycharm": {
     "name": "#%%\n"
    }
   }
  },
  {
   "cell_type": "code",
   "execution_count": 15,
   "outputs": [
    {
     "data": {
      "text/plain": "datetime.datetime(2022, 3, 31, 22, 45)"
     },
     "execution_count": 15,
     "metadata": {},
     "output_type": "execute_result"
    }
   ],
   "source": [
    "# dateutil能够解析大部分人类可理解的日期\n",
    "parse('Mar 31, 2022 10:45 PM')"
   ],
   "metadata": {
    "collapsed": false,
    "pycharm": {
     "name": "#%%\n"
    }
   }
  },
  {
   "cell_type": "code",
   "execution_count": 16,
   "outputs": [
    {
     "data": {
      "text/plain": "datetime.datetime(2022, 3, 31, 22, 45)"
     },
     "execution_count": 16,
     "metadata": {},
     "output_type": "execute_result"
    }
   ],
   "source": [
    "# 国际场合下，一般日期出现在月份之前，可以传递dayfirst=True\n",
    "parse('Mar 31, 2022 10:45 PM', dayfirst=True)"
   ],
   "metadata": {
    "collapsed": false,
    "pycharm": {
     "name": "#%%\n"
    }
   }
  },
  {
   "cell_type": "code",
   "execution_count": 17,
   "outputs": [
    {
     "data": {
      "text/plain": "datetime.datetime(2022, 5, 8, 0, 0)"
     },
     "execution_count": 17,
     "metadata": {},
     "output_type": "execute_result"
    }
   ],
   "source": [
    "parse('8/5/2022', dayfirst=True)"
   ],
   "metadata": {
    "collapsed": false,
    "pycharm": {
     "name": "#%%\n"
    }
   }
  },
  {
   "cell_type": "markdown",
   "source": [
    "> dateutil.parse可能存在识别不准的情况"
   ],
   "metadata": {
    "collapsed": false,
    "pycharm": {
     "name": "#%% md\n"
    }
   }
  },
  {
   "cell_type": "code",
   "execution_count": 18,
   "outputs": [
    {
     "data": {
      "text/plain": "DatetimeIndex(['2022-05-08 21:00:00', '2022-05-09 22:00:00'], dtype='datetime64[ns]', freq=None)"
     },
     "execution_count": 18,
     "metadata": {},
     "output_type": "execute_result"
    }
   ],
   "source": [
    "# to_datetime方法可以转换很多不同的日期表示格式\n",
    "datestrs = ['2022-05-08 21:00:00', '2022-05-09 22:00:00']\n",
    "pd.to_datetime(datestrs)"
   ],
   "metadata": {
    "collapsed": false,
    "pycharm": {
     "name": "#%%\n"
    }
   }
  },
  {
   "cell_type": "code",
   "execution_count": 19,
   "outputs": [
    {
     "data": {
      "text/plain": "DatetimeIndex(['2022-05-08 21:00:00', '2022-05-09 22:00:00', 'NaT'], dtype='datetime64[ns]', freq=None)"
     },
     "execution_count": 19,
     "metadata": {},
     "output_type": "execute_result"
    }
   ],
   "source": [
    "# pandas.to_datetime方法可以处理那些被认为缺失值的值\n",
    "idx = pd.to_datetime(datestrs + [None])\n",
    "idx\n",
    "# NaT是pandas中时间吹数据的null值"
   ],
   "metadata": {
    "collapsed": false,
    "pycharm": {
     "name": "#%%\n"
    }
   }
  },
  {
   "cell_type": "markdown",
   "source": [
    "## 11.2 时间序列基础"
   ],
   "metadata": {
    "collapsed": false,
    "pycharm": {
     "name": "#%% md\n"
    }
   }
  },
  {
   "cell_type": "code",
   "execution_count": 20,
   "outputs": [
    {
     "data": {
      "text/plain": "2022-01-01   -0.675214\n2022-02-01    1.354869\n2022-03-01    0.416618\n2022-04-01   -0.668168\n2022-05-01    0.574560\n2022-06-01    0.722797\ndtype: float64"
     },
     "execution_count": 20,
     "metadata": {},
     "output_type": "execute_result"
    }
   ],
   "source": [
    "from datetime import datetime\n",
    "\n",
    "dates = [datetime(2022, 1, 1),\n",
    "         datetime(2022, 2, 1),\n",
    "         datetime(2022, 3, 1),\n",
    "         datetime(2022, 4, 1),\n",
    "         datetime(2022, 5, 1),\n",
    "         datetime(2022, 6, 1), ]\n",
    "# datetime对象可以被放入DatetimeIndex\n",
    "ts = pd.Series(np.random.randn(6), index=dates)\n",
    "ts"
   ],
   "metadata": {
    "collapsed": false,
    "pycharm": {
     "name": "#%%\n"
    }
   }
  },
  {
   "cell_type": "code",
   "execution_count": 21,
   "outputs": [
    {
     "data": {
      "text/plain": "DatetimeIndex(['2022-01-01', '2022-02-01', '2022-03-01', '2022-04-01',\n               '2022-05-01', '2022-06-01'],\n              dtype='datetime64[ns]', freq=None)"
     },
     "execution_count": 21,
     "metadata": {},
     "output_type": "execute_result"
    }
   ],
   "source": [
    "ts.index"
   ],
   "metadata": {
    "collapsed": false,
    "pycharm": {
     "name": "#%%\n"
    }
   }
  },
  {
   "cell_type": "code",
   "execution_count": 22,
   "outputs": [
    {
     "data": {
      "text/plain": "dtype('<M8[ns]')"
     },
     "execution_count": 22,
     "metadata": {},
     "output_type": "execute_result"
    }
   ],
   "source": [
    "ts.index.dtype"
   ],
   "metadata": {
    "collapsed": false,
    "pycharm": {
     "name": "#%%\n"
    }
   }
  },
  {
   "cell_type": "code",
   "execution_count": 23,
   "outputs": [
    {
     "data": {
      "text/plain": "Timestamp('2022-01-01 00:00:00')"
     },
     "execution_count": 23,
     "metadata": {},
     "output_type": "execute_result"
    }
   ],
   "source": [
    "# DatetimeIndex中的标量值是pandas的Timestamp对象\n",
    "stamp = ts.index[0]\n",
    "stamp"
   ],
   "metadata": {
    "collapsed": false,
    "pycharm": {
     "name": "#%%\n"
    }
   }
  },
  {
   "cell_type": "markdown",
   "source": [
    "### 11.2.1 索引、选择、子集"
   ],
   "metadata": {
    "collapsed": false,
    "pycharm": {
     "name": "#%% md\n"
    }
   }
  },
  {
   "cell_type": "code",
   "execution_count": 24,
   "outputs": [
    {
     "data": {
      "text/plain": "0.4166178572160783"
     },
     "execution_count": 24,
     "metadata": {},
     "output_type": "execute_result"
    }
   ],
   "source": [
    "stamp = ts.index[2]\n",
    "# 可以通过值来索引出数据\n",
    "ts[stamp]"
   ],
   "metadata": {
    "collapsed": false,
    "pycharm": {
     "name": "#%%\n"
    }
   }
  },
  {
   "cell_type": "code",
   "execution_count": 25,
   "outputs": [
    {
     "data": {
      "text/plain": "0.574559731641775"
     },
     "execution_count": 25,
     "metadata": {},
     "output_type": "execute_result"
    }
   ],
   "source": [
    "# 直接传入一个可解释的日期的字符串也可以\n",
    "ts['2022/5/1']"
   ],
   "metadata": {
    "collapsed": false,
    "pycharm": {
     "name": "#%%\n"
    }
   }
  },
  {
   "cell_type": "code",
   "execution_count": 26,
   "outputs": [
    {
     "data": {
      "text/plain": "2022-01-01    0.073769\n2022-01-02   -0.637217\n2022-01-03   -1.045233\n2022-01-04    1.947781\n2022-01-05   -0.374208\nFreq: D, dtype: float64"
     },
     "execution_count": 26,
     "metadata": {},
     "output_type": "execute_result"
    }
   ],
   "source": [
    "# 对于时间序列，可以传递一个年份或者月份来获取数据的切片\n",
    "longer_ts = pd.Series(np.random.randn(1000),\n",
    "                      index=pd.date_range('2022/1/1', periods=1000))\n",
    "longer_ts[:5]"
   ],
   "metadata": {
    "collapsed": false,
    "pycharm": {
     "name": "#%%\n"
    }
   }
  },
  {
   "cell_type": "code",
   "execution_count": 27,
   "outputs": [
    {
     "data": {
      "text/plain": "2022-01-01    0.073769\n2022-01-02   -0.637217\n2022-01-03   -1.045233\n2022-01-04    1.947781\n2022-01-05   -0.374208\nFreq: D, dtype: float64"
     },
     "execution_count": 27,
     "metadata": {},
     "output_type": "execute_result"
    }
   ],
   "source": [
    "# 传入年份，获取2022年的数据\n",
    "longer_ts['2022'].head()"
   ],
   "metadata": {
    "collapsed": false,
    "pycharm": {
     "name": "#%%\n"
    }
   }
  },
  {
   "cell_type": "code",
   "execution_count": 28,
   "outputs": [
    {
     "data": {
      "text/plain": "2022-05-01    0.551964\n2022-05-02    1.100962\n2022-05-03   -0.250867\n2022-05-04   -0.559415\n2022-05-05    1.370925\nFreq: D, dtype: float64"
     },
     "execution_count": 28,
     "metadata": {},
     "output_type": "execute_result"
    }
   ],
   "source": [
    "# 传入月份也可以\n",
    "longer_ts['2022-05'].head()"
   ],
   "metadata": {
    "collapsed": false,
    "pycharm": {
     "name": "#%%\n"
    }
   }
  },
  {
   "cell_type": "code",
   "execution_count": 29,
   "outputs": [
    {
     "data": {
      "text/plain": "2022-01-01    0.073769\n2022-01-02   -0.637217\n2022-01-03   -1.045233\n2022-01-04    1.947781\n2022-01-05   -0.374208\nFreq: D, dtype: float64"
     },
     "execution_count": 29,
     "metadata": {},
     "output_type": "execute_result"
    }
   ],
   "source": [
    "# 传入时间区间\n",
    "longer_ts['2022/1/1':'2022/1/5']"
   ],
   "metadata": {
    "collapsed": false,
    "pycharm": {
     "name": "#%%\n"
    }
   }
  },
  {
   "cell_type": "markdown",
   "source": [
    "> 在传入一个字符串的日期、datetime对象或时间戳，这种方式产生了一个原时间序列的试图。类似于Numpy的数组。这意味着没有数据被复制，并且在切片上的修改会反映在原始数据上。"
   ],
   "metadata": {
    "collapsed": false,
    "pycharm": {
     "name": "#%% md\n"
    }
   }
  },
  {
   "cell_type": "code",
   "execution_count": 30,
   "outputs": [
    {
     "data": {
      "text/plain": "2022-02-01    1.354869\n2022-03-01    0.416618\n2022-04-01   -0.668168\n2022-05-01    0.574560\n2022-06-01    0.722797\ndtype: float64"
     },
     "execution_count": 30,
     "metadata": {},
     "output_type": "execute_result"
    }
   ],
   "source": [
    "# truncate可以在两个日期对Series进行切片\n",
    "ts.truncate(before='2022/1/5')"
   ],
   "metadata": {
    "collapsed": false,
    "pycharm": {
     "name": "#%%\n"
    }
   }
  },
  {
   "cell_type": "code",
   "execution_count": 31,
   "outputs": [
    {
     "data": {
      "text/plain": "                   A         B         C         D\n2022-01-05 -0.486137 -0.446388  0.773388  1.484344\n2022-01-12  1.074472  0.788530 -0.970083 -0.238370\n2022-01-19  0.348979 -1.282156 -0.918742  0.542965\n2022-01-26 -1.262104 -0.103121 -0.498743  0.208666\n2022-02-02 -1.394357  1.632327  0.392644  0.261606\n...              ...       ...       ...       ...\n2023-11-01 -0.969542  1.451925  1.348902  1.756073\n2023-11-08  1.163092 -0.787219 -0.691400  0.562948\n2023-11-15  2.019919  0.290161  0.209302  0.894386\n2023-11-22  1.506755  0.498340 -1.972793 -0.570475\n2023-11-29  1.604218  2.063379 -0.039203  0.287958\n\n[100 rows x 4 columns]",
      "text/html": "<div>\n<style scoped>\n    .dataframe tbody tr th:only-of-type {\n        vertical-align: middle;\n    }\n\n    .dataframe tbody tr th {\n        vertical-align: top;\n    }\n\n    .dataframe thead th {\n        text-align: right;\n    }\n</style>\n<table border=\"1\" class=\"dataframe\">\n  <thead>\n    <tr style=\"text-align: right;\">\n      <th></th>\n      <th>A</th>\n      <th>B</th>\n      <th>C</th>\n      <th>D</th>\n    </tr>\n  </thead>\n  <tbody>\n    <tr>\n      <th>2022-01-05</th>\n      <td>-0.486137</td>\n      <td>-0.446388</td>\n      <td>0.773388</td>\n      <td>1.484344</td>\n    </tr>\n    <tr>\n      <th>2022-01-12</th>\n      <td>1.074472</td>\n      <td>0.788530</td>\n      <td>-0.970083</td>\n      <td>-0.238370</td>\n    </tr>\n    <tr>\n      <th>2022-01-19</th>\n      <td>0.348979</td>\n      <td>-1.282156</td>\n      <td>-0.918742</td>\n      <td>0.542965</td>\n    </tr>\n    <tr>\n      <th>2022-01-26</th>\n      <td>-1.262104</td>\n      <td>-0.103121</td>\n      <td>-0.498743</td>\n      <td>0.208666</td>\n    </tr>\n    <tr>\n      <th>2022-02-02</th>\n      <td>-1.394357</td>\n      <td>1.632327</td>\n      <td>0.392644</td>\n      <td>0.261606</td>\n    </tr>\n    <tr>\n      <th>...</th>\n      <td>...</td>\n      <td>...</td>\n      <td>...</td>\n      <td>...</td>\n    </tr>\n    <tr>\n      <th>2023-11-01</th>\n      <td>-0.969542</td>\n      <td>1.451925</td>\n      <td>1.348902</td>\n      <td>1.756073</td>\n    </tr>\n    <tr>\n      <th>2023-11-08</th>\n      <td>1.163092</td>\n      <td>-0.787219</td>\n      <td>-0.691400</td>\n      <td>0.562948</td>\n    </tr>\n    <tr>\n      <th>2023-11-15</th>\n      <td>2.019919</td>\n      <td>0.290161</td>\n      <td>0.209302</td>\n      <td>0.894386</td>\n    </tr>\n    <tr>\n      <th>2023-11-22</th>\n      <td>1.506755</td>\n      <td>0.498340</td>\n      <td>-1.972793</td>\n      <td>-0.570475</td>\n    </tr>\n    <tr>\n      <th>2023-11-29</th>\n      <td>1.604218</td>\n      <td>2.063379</td>\n      <td>-0.039203</td>\n      <td>0.287958</td>\n    </tr>\n  </tbody>\n</table>\n<p>100 rows × 4 columns</p>\n</div>"
     },
     "execution_count": 31,
     "metadata": {},
     "output_type": "execute_result"
    }
   ],
   "source": [
    "# 在DataFrame操作同样适用\n",
    "dates = pd.date_range('1/1/2022', periods=100, freq='W-WED')\n",
    "long_df = pd.DataFrame(np.random.randn(100, 4),\n",
    "                       index=dates,\n",
    "                       columns=list('ABCD'))\n",
    "long_df"
   ],
   "metadata": {
    "collapsed": false,
    "pycharm": {
     "name": "#%%\n"
    }
   }
  },
  {
   "cell_type": "code",
   "execution_count": 32,
   "outputs": [
    {
     "data": {
      "text/plain": "                   A         B         C         D\n2022-01-05 -0.486137 -0.446388  0.773388  1.484344\n2022-01-12  1.074472  0.788530 -0.970083 -0.238370\n2022-01-19  0.348979 -1.282156 -0.918742  0.542965\n2022-01-26 -1.262104 -0.103121 -0.498743  0.208666",
      "text/html": "<div>\n<style scoped>\n    .dataframe tbody tr th:only-of-type {\n        vertical-align: middle;\n    }\n\n    .dataframe tbody tr th {\n        vertical-align: top;\n    }\n\n    .dataframe thead th {\n        text-align: right;\n    }\n</style>\n<table border=\"1\" class=\"dataframe\">\n  <thead>\n    <tr style=\"text-align: right;\">\n      <th></th>\n      <th>A</th>\n      <th>B</th>\n      <th>C</th>\n      <th>D</th>\n    </tr>\n  </thead>\n  <tbody>\n    <tr>\n      <th>2022-01-05</th>\n      <td>-0.486137</td>\n      <td>-0.446388</td>\n      <td>0.773388</td>\n      <td>1.484344</td>\n    </tr>\n    <tr>\n      <th>2022-01-12</th>\n      <td>1.074472</td>\n      <td>0.788530</td>\n      <td>-0.970083</td>\n      <td>-0.238370</td>\n    </tr>\n    <tr>\n      <th>2022-01-19</th>\n      <td>0.348979</td>\n      <td>-1.282156</td>\n      <td>-0.918742</td>\n      <td>0.542965</td>\n    </tr>\n    <tr>\n      <th>2022-01-26</th>\n      <td>-1.262104</td>\n      <td>-0.103121</td>\n      <td>-0.498743</td>\n      <td>0.208666</td>\n    </tr>\n  </tbody>\n</table>\n</div>"
     },
     "execution_count": 32,
     "metadata": {},
     "output_type": "execute_result"
    }
   ],
   "source": [
    "long_df.loc['1/2022']"
   ],
   "metadata": {
    "collapsed": false,
    "pycharm": {
     "name": "#%%\n"
    }
   }
  },
  {
   "cell_type": "markdown",
   "source": [
    "### 11.2.2 含有重复索引的时间序列"
   ],
   "metadata": {
    "collapsed": false,
    "pycharm": {
     "name": "#%% md\n"
    }
   }
  },
  {
   "cell_type": "code",
   "execution_count": 33,
   "outputs": [
    {
     "data": {
      "text/plain": "2022-01-01   -0.418275\n2022-01-01    1.698695\n2022-01-01    0.302026\n2022-01-05    0.256676\n2022-05-05    0.654119\n2022-05-05   -0.549197\ndtype: float64"
     },
     "execution_count": 33,
     "metadata": {},
     "output_type": "execute_result"
    }
   ],
   "source": [
    "dates = pd.DatetimeIndex(['1/1/2022', '1/1/2022', '1/1/2022', '1/5/2022', '5/5/2022', '5/5/2022'])\n",
    "dup_ts = pd.Series(np.random.randn(6), index=dates)\n",
    "dup_ts"
   ],
   "metadata": {
    "collapsed": false,
    "pycharm": {
     "name": "#%%\n"
    }
   }
  },
  {
   "cell_type": "code",
   "execution_count": 34,
   "outputs": [
    {
     "data": {
      "text/plain": "False"
     },
     "execution_count": 34,
     "metadata": {},
     "output_type": "execute_result"
    }
   ],
   "source": [
    "dup_ts.index.is_unique"
   ],
   "metadata": {
    "collapsed": false,
    "pycharm": {
     "name": "#%%\n"
    }
   }
  },
  {
   "cell_type": "code",
   "execution_count": 35,
   "outputs": [
    {
     "data": {
      "text/plain": "2022-01-01    0.527482\n2022-01-05    0.256676\n2022-05-05    0.052461\ndtype: float64"
     },
     "execution_count": 35,
     "metadata": {},
     "output_type": "execute_result"
    }
   ],
   "source": [
    "# 使用groupby聚合数据\n",
    "grouped = dup_ts.groupby(level=0)\n",
    "grouped.mean()"
   ],
   "metadata": {
    "collapsed": false,
    "pycharm": {
     "name": "#%%\n"
    }
   }
  },
  {
   "cell_type": "code",
   "execution_count": 36,
   "outputs": [
    {
     "data": {
      "text/plain": "2022-01-01    3\n2022-01-05    1\n2022-05-05    2\ndtype: int64"
     },
     "execution_count": 36,
     "metadata": {},
     "output_type": "execute_result"
    }
   ],
   "source": [
    "grouped.count()"
   ],
   "metadata": {
    "collapsed": false,
    "pycharm": {
     "name": "#%%\n"
    }
   }
  },
  {
   "cell_type": "markdown",
   "source": [
    "## 11.3 日期范围、频率和移位"
   ],
   "metadata": {
    "collapsed": false,
    "pycharm": {
     "name": "#%% md\n"
    }
   }
  },
  {
   "cell_type": "code",
   "execution_count": 37,
   "outputs": [
    {
     "data": {
      "text/plain": "2022-01-01   -0.675214\n2022-02-01    1.354869\n2022-03-01    0.416618\n2022-04-01   -0.668168\n2022-05-01    0.574560\n2022-06-01    0.722797\ndtype: float64"
     },
     "execution_count": 37,
     "metadata": {},
     "output_type": "execute_result"
    }
   ],
   "source": [
    "# 调用resample方法将样本时间序列转换为固定的每日频率数据\n",
    "ts"
   ],
   "metadata": {
    "collapsed": false,
    "pycharm": {
     "name": "#%%\n"
    }
   }
  },
  {
   "cell_type": "code",
   "execution_count": 38,
   "outputs": [],
   "source": [
    "# 字符串D被解释为每日频率\n",
    "resampler = ts.resample('D')"
   ],
   "metadata": {
    "collapsed": false,
    "pycharm": {
     "name": "#%%\n"
    }
   }
  },
  {
   "cell_type": "markdown",
   "source": [
    "### 11.3.1 生成日期范围"
   ],
   "metadata": {
    "collapsed": false,
    "pycharm": {
     "name": "#%% md\n"
    }
   }
  },
  {
   "cell_type": "code",
   "execution_count": 39,
   "outputs": [
    {
     "data": {
      "text/plain": "DatetimeIndex(['2022-01-01', '2022-01-02', '2022-01-03', '2022-01-04',\n               '2022-01-05', '2022-01-06', '2022-01-07', '2022-01-08',\n               '2022-01-09', '2022-01-10',\n               ...\n               '2022-09-22', '2022-09-23', '2022-09-24', '2022-09-25',\n               '2022-09-26', '2022-09-27', '2022-09-28', '2022-09-29',\n               '2022-09-30', '2022-10-01'],\n              dtype='datetime64[ns]', length=274, freq='D')"
     },
     "execution_count": 39,
     "metadata": {},
     "output_type": "execute_result"
    }
   ],
   "source": [
    "# pandas.date_range生成日期范围序列\n",
    "date_range = pd.date_range('1/1/2022', '10/1/2022')\n",
    "date_range"
   ],
   "metadata": {
    "collapsed": false,
    "pycharm": {
     "name": "#%%\n"
    }
   }
  },
  {
   "cell_type": "code",
   "execution_count": 40,
   "outputs": [
    {
     "name": "stderr",
     "output_type": "stream",
     "text": [
      "/Users/summer/.conda/envs/PythonEnvironment/lib/python3.9/site-packages/IPython/core/interactiveshell.py:3369: UserWarning: Parsing '31/12/2022' in DD/MM/YYYY format. Provide format or specify infer_datetime_format=True for consistent parsing.\n",
      "  exec(code_obj, self.user_global_ns, self.user_ns)\n"
     ]
    },
    {
     "data": {
      "text/plain": "DatetimeIndex(['2022-01-31', '2022-02-28', '2022-03-31', '2022-04-29',\n               '2022-05-31', '2022-06-30', '2022-07-29', '2022-08-31',\n               '2022-09-30', '2022-10-31', '2022-11-30', '2022-12-30'],\n              dtype='datetime64[ns]', freq='BM')"
     },
     "execution_count": 40,
     "metadata": {},
     "output_type": "execute_result"
    }
   ],
   "source": [
    "# 可以针对freq传入不同的值，可以生成指定的序列\n",
    "pd.date_range('1/1/2022', '31/12/2022', freq='BM')  # BM为工作日的月底日期"
   ],
   "metadata": {
    "collapsed": false,
    "pycharm": {
     "name": "#%%\n"
    }
   }
  },
  {
   "cell_type": "code",
   "execution_count": 41,
   "outputs": [
    {
     "data": {
      "text/plain": "DatetimeIndex(['2022-01-01 12:34:56', '2022-01-02 12:34:56',\n               '2022-01-03 12:34:56', '2022-01-04 12:34:56',\n               '2022-01-05 12:34:56', '2022-01-06 12:34:56',\n               '2022-01-07 12:34:56', '2022-01-08 12:34:56',\n               '2022-01-09 12:34:56', '2022-01-10 12:34:56'],\n              dtype='datetime64[ns]', freq='D')"
     },
     "execution_count": 41,
     "metadata": {},
     "output_type": "execute_result"
    }
   ],
   "source": [
    "# 默认情况下，date_range保留开始或结束时间戳的时间\n",
    "pd.date_range('2022-1-1 12:34:56', periods=10)"
   ],
   "metadata": {
    "collapsed": false,
    "pycharm": {
     "name": "#%%\n"
    }
   }
  },
  {
   "cell_type": "code",
   "execution_count": 42,
   "outputs": [
    {
     "data": {
      "text/plain": "DatetimeIndex(['2022-01-01', '2022-01-02', '2022-01-03', '2022-01-04',\n               '2022-01-05', '2022-01-06', '2022-01-07', '2022-01-08',\n               '2022-01-09', '2022-01-10'],\n              dtype='datetime64[ns]', freq='D')"
     },
     "execution_count": 42,
     "metadata": {},
     "output_type": "execute_result"
    }
   ],
   "source": [
    "# 如果想生成标准化的零点时间戳，加上normalize=True\n",
    "pd.date_range('2022-1-1 12:34:56', '2022-1-10 12:23:34', normalize=True)"
   ],
   "metadata": {
    "collapsed": false,
    "pycharm": {
     "name": "#%%\n"
    }
   }
  },
  {
   "cell_type": "markdown",
   "source": [
    "### 11.3.2 频率和日期偏置"
   ],
   "metadata": {
    "collapsed": false,
    "pycharm": {
     "name": "#%% md\n"
    }
   }
  },
  {
   "cell_type": "code",
   "execution_count": 43,
   "outputs": [
    {
     "data": {
      "text/plain": "<Hour>"
     },
     "execution_count": 43,
     "metadata": {},
     "output_type": "execute_result"
    }
   ],
   "source": [
    "from pandas.tseries.offsets import Hour, Minute\n",
    "\n",
    "# 小时偏置频率\n",
    "hour = Hour()\n",
    "hour"
   ],
   "metadata": {
    "collapsed": false,
    "pycharm": {
     "name": "#%%\n"
    }
   }
  },
  {
   "cell_type": "code",
   "execution_count": 44,
   "outputs": [
    {
     "data": {
      "text/plain": "DatetimeIndex(['2000-01-01 00:00:00', '2000-01-01 04:00:00',\n               '2000-01-01 08:00:00', '2000-01-01 12:00:00',\n               '2000-01-01 16:00:00', '2000-01-01 20:00:00',\n               '2000-01-02 00:00:00', '2000-01-02 04:00:00',\n               '2000-01-02 08:00:00', '2000-01-02 12:00:00',\n               '2000-01-02 16:00:00', '2000-01-02 20:00:00',\n               '2000-01-03 00:00:00'],\n              dtype='datetime64[ns]', freq='4H')"
     },
     "execution_count": 44,
     "metadata": {},
     "output_type": "execute_result"
    }
   ],
   "source": [
    "# 生成4小时的日期序列\n",
    "pd.date_range('2000-1-1', '2000-1-3', freq='4H')"
   ],
   "metadata": {
    "collapsed": false,
    "pycharm": {
     "name": "#%%\n"
    }
   }
  },
  {
   "cell_type": "code",
   "execution_count": 45,
   "outputs": [
    {
     "data": {
      "text/plain": "<160 * Minutes>"
     },
     "execution_count": 45,
     "metadata": {},
     "output_type": "execute_result"
    }
   ],
   "source": [
    "Hour(2) + Minute(40)"
   ],
   "metadata": {
    "collapsed": false,
    "pycharm": {
     "name": "#%%\n"
    }
   }
  },
  {
   "cell_type": "code",
   "execution_count": 46,
   "outputs": [
    {
     "data": {
      "text/plain": "DatetimeIndex(['2000-01-01 00:00:00', '2000-01-01 01:30:00',\n               '2000-01-01 03:00:00', '2000-01-01 04:30:00',\n               '2000-01-01 06:00:00', '2000-01-01 07:30:00',\n               '2000-01-01 09:00:00', '2000-01-01 10:30:00',\n               '2000-01-01 12:00:00', '2000-01-01 13:30:00',\n               '2000-01-01 15:00:00', '2000-01-01 16:30:00',\n               '2000-01-01 18:00:00', '2000-01-01 19:30:00',\n               '2000-01-01 21:00:00', '2000-01-01 22:30:00',\n               '2000-01-02 00:00:00'],\n              dtype='datetime64[ns]', freq='90T')"
     },
     "execution_count": 46,
     "metadata": {},
     "output_type": "execute_result"
    }
   ],
   "source": [
    "# 还可以传递字符串频率\n",
    "pd.date_range('2000-1-1', '2000-1-2', freq='1h30min')"
   ],
   "metadata": {
    "collapsed": false,
    "pycharm": {
     "name": "#%%\n"
    }
   }
  },
  {
   "cell_type": "code",
   "execution_count": 47,
   "outputs": [
    {
     "data": {
      "text/plain": "DatetimeIndex(['2000-01-21'], dtype='datetime64[ns]', freq='WOM-3FRI')"
     },
     "execution_count": 47,
     "metadata": {},
     "output_type": "execute_result"
    }
   ],
   "source": [
    "# 月中某个星期的日期\n",
    "# freq='WOM-3FRI'：每个月第三个星期五\n",
    "rng = pd.date_range('2000-1-1', '2000-2-1', freq='WOM-3FRI')\n",
    "rng"
   ],
   "metadata": {
    "collapsed": false,
    "pycharm": {
     "name": "#%%\n"
    }
   }
  },
  {
   "cell_type": "markdown",
   "source": [
    "### 11.3.3 移位（前向和后向）日期"
   ],
   "metadata": {
    "collapsed": false,
    "pycharm": {
     "name": "#%% md\n"
    }
   }
  },
  {
   "cell_type": "code",
   "execution_count": 48,
   "outputs": [
    {
     "data": {
      "text/plain": "2000-01-31    0.925014\n2000-02-29   -0.911743\n2000-03-31   -0.385712\n2000-04-30    0.633384\nFreq: M, dtype: float64"
     },
     "execution_count": 48,
     "metadata": {},
     "output_type": "execute_result"
    }
   ],
   "source": [
    "ts = pd.Series(np.random.randn(4),\n",
    "               index=pd.date_range('1/1/2000', periods=4, freq='M'))\n",
    "ts"
   ],
   "metadata": {
    "collapsed": false,
    "pycharm": {
     "name": "#%%\n"
    }
   }
  },
  {
   "cell_type": "code",
   "execution_count": 49,
   "outputs": [
    {
     "data": {
      "text/plain": "2000-01-31         NaN\n2000-02-29         NaN\n2000-03-31    0.925014\n2000-04-30   -0.911743\nFreq: M, dtype: float64"
     },
     "execution_count": 49,
     "metadata": {},
     "output_type": "execute_result"
    }
   ],
   "source": [
    "# 将数据向前移位2\n",
    "ts.shift(2)"
   ],
   "metadata": {
    "collapsed": false,
    "pycharm": {
     "name": "#%%\n"
    }
   }
  },
  {
   "cell_type": "code",
   "execution_count": 50,
   "outputs": [
    {
     "data": {
      "text/plain": "2000-01-31   -0.385712\n2000-02-29    0.633384\n2000-03-31         NaN\n2000-04-30         NaN\nFreq: M, dtype: float64"
     },
     "execution_count": 50,
     "metadata": {},
     "output_type": "execute_result"
    }
   ],
   "source": [
    "# 将数据向后移动2\n",
    "ts.shift(-2)"
   ],
   "metadata": {
    "collapsed": false,
    "pycharm": {
     "name": "#%%\n"
    }
   }
  },
  {
   "cell_type": "code",
   "execution_count": 51,
   "outputs": [
    {
     "data": {
      "text/plain": "2000-03-31    0.925014\n2000-04-30   -0.911743\n2000-05-31   -0.385712\n2000-06-30    0.633384\nFreq: M, dtype: float64"
     },
     "execution_count": 51,
     "metadata": {},
     "output_type": "execute_result"
    }
   ],
   "source": [
    "# 移动时间戳而不是数据\n",
    "ts.shift(2, freq='M')"
   ],
   "metadata": {
    "collapsed": false,
    "pycharm": {
     "name": "#%%\n"
    }
   }
  },
  {
   "cell_type": "code",
   "execution_count": 52,
   "outputs": [
    {
     "data": {
      "text/plain": "2000-02-03    0.925014\n2000-03-03   -0.911743\n2000-04-03   -0.385712\n2000-05-03    0.633384\ndtype: float64"
     },
     "execution_count": 52,
     "metadata": {},
     "output_type": "execute_result"
    }
   ],
   "source": [
    "# 按天数移动\n",
    "ts.shift(3, freq='D')"
   ],
   "metadata": {
    "collapsed": false,
    "pycharm": {
     "name": "#%%\n"
    }
   }
  },
  {
   "cell_type": "code",
   "execution_count": 53,
   "outputs": [
    {
     "data": {
      "text/plain": "Timestamp('2000-01-04 00:00:00')"
     },
     "execution_count": 53,
     "metadata": {},
     "output_type": "execute_result"
    }
   ],
   "source": [
    "# 使用偏置移动日期\n",
    "from pandas.tseries.offsets import Day, MonthEnd\n",
    "\n",
    "now = datetime(2000, 1, 1)\n",
    "now + 3 * Day()"
   ],
   "metadata": {
    "collapsed": false,
    "pycharm": {
     "name": "#%%\n"
    }
   }
  },
  {
   "cell_type": "code",
   "execution_count": 54,
   "outputs": [
    {
     "data": {
      "text/plain": "Timestamp('2000-01-31 00:00:00')"
     },
     "execution_count": 54,
     "metadata": {},
     "output_type": "execute_result"
    }
   ],
   "source": [
    "now + MonthEnd()"
   ],
   "metadata": {
    "collapsed": false,
    "pycharm": {
     "name": "#%%\n"
    }
   }
  },
  {
   "cell_type": "code",
   "execution_count": 55,
   "outputs": [
    {
     "data": {
      "text/plain": "Timestamp('2000-03-31 00:00:00')"
     },
     "execution_count": 55,
     "metadata": {},
     "output_type": "execute_result"
    }
   ],
   "source": [
    "now + MonthEnd(3)"
   ],
   "metadata": {
    "collapsed": false,
    "pycharm": {
     "name": "#%%\n"
    }
   }
  },
  {
   "cell_type": "code",
   "execution_count": 56,
   "outputs": [
    {
     "data": {
      "text/plain": "2000-01-31   -0.417715\n2000-02-29   -0.411014\n2000-03-31   -0.319276\ndtype: float64"
     },
     "execution_count": 56,
     "metadata": {},
     "output_type": "execute_result"
    }
   ],
   "source": [
    "offset = MonthEnd()\n",
    "ts = pd.Series(np.random.randn(20),\n",
    "               index=pd.date_range('1/15/2000', periods=20, freq='4d'))\n",
    "ts.groupby(offset.rollforward).mean()"
   ],
   "metadata": {
    "collapsed": false,
    "pycharm": {
     "name": "#%%\n"
    }
   }
  },
  {
   "cell_type": "markdown",
   "source": [
    "## 11.4 时区处理"
   ],
   "metadata": {
    "collapsed": false,
    "pycharm": {
     "name": "#%% md\n"
    }
   }
  },
  {
   "cell_type": "markdown",
   "source": [
    ".................."
   ],
   "metadata": {
    "collapsed": false,
    "pycharm": {
     "name": "#%% md\n"
    }
   }
  },
  {
   "cell_type": "markdown",
   "source": [
    "## 11.5 时间区间和区间算术"
   ],
   "metadata": {
    "collapsed": false,
    "pycharm": {
     "name": "#%% md\n"
    }
   }
  },
  {
   "cell_type": "code",
   "execution_count": 57,
   "outputs": [
    {
     "data": {
      "text/plain": "Period('2007', 'A-DEC')"
     },
     "execution_count": 57,
     "metadata": {},
     "output_type": "execute_result"
    }
   ],
   "source": [
    "p = pd.Period(2007, freq='A-DEC')\n",
    "p"
   ],
   "metadata": {
    "collapsed": false,
    "pycharm": {
     "name": "#%%\n"
    }
   }
  },
  {
   "cell_type": "code",
   "execution_count": 58,
   "outputs": [
    {
     "data": {
      "text/plain": "Period('2012', 'A-DEC')"
     },
     "execution_count": 58,
     "metadata": {},
     "output_type": "execute_result"
    }
   ],
   "source": [
    "# 对时间段增加或减去整数可以方便地根据他们的频率移位\n",
    "p + 5"
   ],
   "metadata": {
    "collapsed": false,
    "pycharm": {
     "name": "#%%\n"
    }
   }
  },
  {
   "cell_type": "code",
   "execution_count": 59,
   "outputs": [
    {
     "data": {
      "text/plain": "Period('2005', 'A-DEC')"
     },
     "execution_count": 59,
     "metadata": {},
     "output_type": "execute_result"
    }
   ],
   "source": [
    "p - 2"
   ],
   "metadata": {
    "collapsed": false,
    "pycharm": {
     "name": "#%%\n"
    }
   }
  },
  {
   "cell_type": "code",
   "execution_count": 60,
   "outputs": [
    {
     "data": {
      "text/plain": "<7 * YearEnds: month=12>"
     },
     "execution_count": 60,
     "metadata": {},
     "output_type": "execute_result"
    }
   ],
   "source": [
    "# 如果两个区间拥有相同的频率，则它们之间的差是它们之间的单位数\n",
    "pd.Period('2014', freq='A-DEC') - p"
   ],
   "metadata": {
    "collapsed": false,
    "pycharm": {
     "name": "#%%\n"
    }
   }
  },
  {
   "cell_type": "code",
   "execution_count": 61,
   "outputs": [
    {
     "data": {
      "text/plain": "PeriodIndex(['2000-01', '2000-02', '2000-03', '2000-04', '2000-05', '2000-06'], dtype='period[M]')"
     },
     "execution_count": 61,
     "metadata": {},
     "output_type": "execute_result"
    }
   ],
   "source": [
    "# 使用period_range函数可以构造区间序列\n",
    "rng = pd.period_range('2000-1-1', '2000-6-30', freq='M')\n",
    "rng"
   ],
   "metadata": {
    "collapsed": false,
    "pycharm": {
     "name": "#%%\n"
    }
   }
  },
  {
   "cell_type": "code",
   "execution_count": 62,
   "outputs": [
    {
     "data": {
      "text/plain": "2000-01   -0.233865\n2000-02   -1.567741\n2000-03    0.835388\n2000-04   -1.520599\n2000-05    0.586424\n2000-06   -1.444248\nFreq: M, dtype: float64"
     },
     "execution_count": 62,
     "metadata": {},
     "output_type": "execute_result"
    }
   ],
   "source": [
    "pd.Series(np.random.randn(6), index=rng)"
   ],
   "metadata": {
    "collapsed": false,
    "pycharm": {
     "name": "#%%\n"
    }
   }
  },
  {
   "cell_type": "code",
   "execution_count": 63,
   "outputs": [
    {
     "data": {
      "text/plain": "PeriodIndex(['2001Q3', '2002Q2', '2003Q1'], dtype='period[Q-DEC]')"
     },
     "execution_count": 63,
     "metadata": {},
     "output_type": "execute_result"
    }
   ],
   "source": [
    "# 可以将字符串数组转化为period_range\n",
    "values = ['2001Q3', '2002Q2', '2003Q1']\n",
    "index = pd.PeriodIndex(values, freq='Q-DEC')\n",
    "index"
   ],
   "metadata": {
    "collapsed": false,
    "pycharm": {
     "name": "#%%\n"
    }
   }
  },
  {
   "cell_type": "markdown",
   "source": [
    "### 11.5.1 区间频率转换"
   ],
   "metadata": {
    "collapsed": false,
    "pycharm": {
     "name": "#%% md\n"
    }
   }
  },
  {
   "cell_type": "code",
   "execution_count": 64,
   "outputs": [
    {
     "data": {
      "text/plain": "Period('2007', 'A-DEC')"
     },
     "execution_count": 64,
     "metadata": {},
     "output_type": "execute_result"
    }
   ],
   "source": [
    "# A-DEC表示年末是12月\n",
    "p = pd.Period('2007', freq='A-DEC')\n",
    "p"
   ],
   "metadata": {
    "collapsed": false,
    "pycharm": {
     "name": "#%%\n"
    }
   }
  },
  {
   "cell_type": "code",
   "execution_count": 65,
   "outputs": [
    {
     "data": {
      "text/plain": "Period('2007-01', 'M')"
     },
     "execution_count": 65,
     "metadata": {},
     "output_type": "execute_result"
    }
   ],
   "source": [
    "# 使用asfreq将区间和PeriodIndex转换为其他的频率\n",
    "p.asfreq('M', how='start')"
   ],
   "metadata": {
    "collapsed": false,
    "pycharm": {
     "name": "#%%\n"
    }
   }
  },
  {
   "cell_type": "code",
   "execution_count": 66,
   "outputs": [
    {
     "data": {
      "text/plain": "Period('2007-12-31', 'D')"
     },
     "execution_count": 66,
     "metadata": {},
     "output_type": "execute_result"
    }
   ],
   "source": [
    "p.asfreq('D', how='end')"
   ],
   "metadata": {
    "collapsed": false,
    "pycharm": {
     "name": "#%%\n"
    }
   }
  },
  {
   "cell_type": "code",
   "execution_count": 67,
   "outputs": [
    {
     "data": {
      "text/plain": "2006   -0.665079\n2007   -1.163236\n2008    1.494213\n2009   -1.023406\nFreq: A-DEC, dtype: float64"
     },
     "execution_count": 67,
     "metadata": {},
     "output_type": "execute_result"
    }
   ],
   "source": [
    "# 完整的PeriodIndex对象或时间序列可以按照相同或的语义进行转换\n",
    "rng = pd.period_range('2006', '2009', freq='A-DEC')\n",
    "ts = pd.Series(np.random.randn(len(rng)), index=rng)\n",
    "ts"
   ],
   "metadata": {
    "collapsed": false,
    "pycharm": {
     "name": "#%%\n"
    }
   }
  },
  {
   "cell_type": "code",
   "execution_count": 68,
   "outputs": [
    {
     "data": {
      "text/plain": "2006-01   -0.665079\n2007-01   -1.163236\n2008-01    1.494213\n2009-01   -1.023406\nFreq: M, dtype: float64"
     },
     "execution_count": 68,
     "metadata": {},
     "output_type": "execute_result"
    }
   ],
   "source": [
    "ts.asfreq('M', how='start')"
   ],
   "metadata": {
    "collapsed": false,
    "pycharm": {
     "name": "#%%\n"
    }
   }
  },
  {
   "cell_type": "code",
   "execution_count": 69,
   "outputs": [
    {
     "data": {
      "text/plain": "Period('2012Q4', 'Q-JAN')"
     },
     "execution_count": 69,
     "metadata": {},
     "output_type": "execute_result"
    }
   ],
   "source": [
    "# 季度区间频率\n",
    "p = pd.Period('2012Q4', freq='Q-JAN')\n",
    "p"
   ],
   "metadata": {
    "collapsed": false,
    "pycharm": {
     "name": "#%%\n"
    }
   }
  },
  {
   "cell_type": "code",
   "execution_count": 70,
   "outputs": [
    {
     "data": {
      "text/plain": "Period('2011-11-01', 'D')"
     },
     "execution_count": 70,
     "metadata": {},
     "output_type": "execute_result"
    }
   ],
   "source": [
    "p.asfreq('D', how='start')"
   ],
   "metadata": {
    "collapsed": false,
    "pycharm": {
     "name": "#%%\n"
    }
   }
  },
  {
   "cell_type": "code",
   "execution_count": 71,
   "outputs": [
    {
     "data": {
      "text/plain": "Period('2012-01-31', 'D')"
     },
     "execution_count": 71,
     "metadata": {},
     "output_type": "execute_result"
    }
   ],
   "source": [
    "p.asfreq('D', how='end')"
   ],
   "metadata": {
    "collapsed": false,
    "pycharm": {
     "name": "#%%\n"
    }
   }
  },
  {
   "cell_type": "code",
   "execution_count": 72,
   "outputs": [
    {
     "data": {
      "text/plain": "Period('2012-01-30 16:00', 'T')"
     },
     "execution_count": 72,
     "metadata": {},
     "output_type": "execute_result"
    }
   ],
   "source": [
    "# 生成季度序列\n",
    "p4pm = (p.asfreq('B', 'e') - 1).asfreq('T', 's') + 16 * 60\n",
    "p4pm"
   ],
   "metadata": {
    "collapsed": false,
    "pycharm": {
     "name": "#%%\n"
    }
   }
  },
  {
   "cell_type": "markdown",
   "source": [
    "### 11.5.3 时间戳与区间互转"
   ],
   "metadata": {
    "collapsed": false,
    "pycharm": {
     "name": "#%% md\n"
    }
   }
  },
  {
   "cell_type": "code",
   "execution_count": 73,
   "outputs": [
    {
     "data": {
      "text/plain": "DatetimeIndex(['2000-01-31', '2000-02-29', '2000-03-31'], dtype='datetime64[ns]', freq='M')"
     },
     "execution_count": 73,
     "metadata": {},
     "output_type": "execute_result"
    }
   ],
   "source": [
    "rng = pd.date_range('2000-1-1', periods=3, freq='M')\n",
    "rng"
   ],
   "metadata": {
    "collapsed": false,
    "pycharm": {
     "name": "#%%\n"
    }
   }
  },
  {
   "cell_type": "code",
   "execution_count": 74,
   "outputs": [
    {
     "data": {
      "text/plain": "2000-01-31    0.810398\n2000-02-29   -0.018762\n2000-03-31   -0.600422\nFreq: M, dtype: float64"
     },
     "execution_count": 74,
     "metadata": {},
     "output_type": "execute_result"
    }
   ],
   "source": [
    "ts = pd.Series(np.random.randn(3), index=rng)\n",
    "ts"
   ],
   "metadata": {
    "collapsed": false,
    "pycharm": {
     "name": "#%%\n"
    }
   }
  },
  {
   "cell_type": "code",
   "execution_count": 75,
   "outputs": [
    {
     "data": {
      "text/plain": "2000-01    0.810398\n2000-02   -0.018762\n2000-03   -0.600422\nFreq: M, dtype: float64"
     },
     "execution_count": 75,
     "metadata": {},
     "output_type": "execute_result"
    }
   ],
   "source": [
    "ts.to_period()"
   ],
   "metadata": {
    "collapsed": false,
    "pycharm": {
     "name": "#%%\n"
    }
   }
  },
  {
   "cell_type": "code",
   "execution_count": 76,
   "outputs": [
    {
     "data": {
      "text/plain": "2000-01    0.364151\n2000-01    0.440048\n2000-01   -0.434049\n2000-02   -1.188335\n2000-02    0.055794\n2000-02   -0.117595\nFreq: M, dtype: float64"
     },
     "execution_count": 76,
     "metadata": {},
     "output_type": "execute_result"
    }
   ],
   "source": [
    "# 包含重复区间也没有问题\n",
    "rng = pd.date_range('1/29/2000', periods=6, freq='D')\n",
    "ts2 = pd.Series(np.random.randn(6), index=rng)\n",
    "ts2.to_period('M')"
   ],
   "metadata": {
    "collapsed": false,
    "pycharm": {
     "name": "#%%\n"
    }
   }
  },
  {
   "cell_type": "code",
   "execution_count": 77,
   "outputs": [
    {
     "data": {
      "text/plain": "2000-01-29    0.364151\n2000-01-30    0.440048\n2000-01-31   -0.434049\n2000-02-01   -1.188335\n2000-02-02    0.055794\n2000-02-03   -0.117595\nFreq: D, dtype: float64"
     },
     "execution_count": 77,
     "metadata": {},
     "output_type": "execute_result"
    }
   ],
   "source": [
    "# 使用to_timestamp可以将区间在转换为时间戳\n",
    "pts = ts2.to_period()\n",
    "pts"
   ],
   "metadata": {
    "collapsed": false,
    "pycharm": {
     "name": "#%%\n"
    }
   }
  },
  {
   "cell_type": "code",
   "execution_count": 78,
   "outputs": [
    {
     "data": {
      "text/plain": "2000-01-29 23:59:59.999999999    0.364151\n2000-01-30 23:59:59.999999999    0.440048\n2000-01-31 23:59:59.999999999   -0.434049\n2000-02-01 23:59:59.999999999   -1.188335\n2000-02-02 23:59:59.999999999    0.055794\n2000-02-03 23:59:59.999999999   -0.117595\nFreq: D, dtype: float64"
     },
     "execution_count": 78,
     "metadata": {},
     "output_type": "execute_result"
    }
   ],
   "source": [
    "pts.to_timestamp(how='end')"
   ],
   "metadata": {
    "collapsed": false,
    "pycharm": {
     "name": "#%%\n"
    }
   }
  },
  {
   "cell_type": "markdown",
   "source": [
    "### 11.5.4 从数组生成PeriodIndex"
   ],
   "metadata": {
    "collapsed": false,
    "pycharm": {
     "name": "#%% md\n"
    }
   }
  },
  {
   "cell_type": "code",
   "execution_count": 79,
   "outputs": [
    {
     "data": {
      "text/plain": "     year  quarter   realgdp  realcons  realinv  realgovt  realdpi    cpi  \\\n0  1959.0      1.0  2710.349    1707.4  286.898   470.045   1886.9  28.98   \n1  1959.0      2.0  2778.801    1733.7  310.859   481.301   1919.7  29.15   \n2  1959.0      3.0  2775.488    1751.8  289.226   491.260   1916.4  29.35   \n3  1959.0      4.0  2785.204    1753.7  299.356   484.052   1931.3  29.37   \n4  1960.0      1.0  2847.699    1770.5  331.722   462.199   1955.5  29.54   \n\n      m1  tbilrate  unemp      pop  infl  realint  \n0  139.7      2.82    5.8  177.146  0.00     0.00  \n1  141.7      3.08    5.1  177.830  2.34     0.74  \n2  140.5      3.82    5.3  178.657  2.74     1.09  \n3  140.0      4.33    5.6  179.386  0.27     4.06  \n4  139.6      3.50    5.2  180.007  2.31     1.19  ",
      "text/html": "<div>\n<style scoped>\n    .dataframe tbody tr th:only-of-type {\n        vertical-align: middle;\n    }\n\n    .dataframe tbody tr th {\n        vertical-align: top;\n    }\n\n    .dataframe thead th {\n        text-align: right;\n    }\n</style>\n<table border=\"1\" class=\"dataframe\">\n  <thead>\n    <tr style=\"text-align: right;\">\n      <th></th>\n      <th>year</th>\n      <th>quarter</th>\n      <th>realgdp</th>\n      <th>realcons</th>\n      <th>realinv</th>\n      <th>realgovt</th>\n      <th>realdpi</th>\n      <th>cpi</th>\n      <th>m1</th>\n      <th>tbilrate</th>\n      <th>unemp</th>\n      <th>pop</th>\n      <th>infl</th>\n      <th>realint</th>\n    </tr>\n  </thead>\n  <tbody>\n    <tr>\n      <th>0</th>\n      <td>1959.0</td>\n      <td>1.0</td>\n      <td>2710.349</td>\n      <td>1707.4</td>\n      <td>286.898</td>\n      <td>470.045</td>\n      <td>1886.9</td>\n      <td>28.98</td>\n      <td>139.7</td>\n      <td>2.82</td>\n      <td>5.8</td>\n      <td>177.146</td>\n      <td>0.00</td>\n      <td>0.00</td>\n    </tr>\n    <tr>\n      <th>1</th>\n      <td>1959.0</td>\n      <td>2.0</td>\n      <td>2778.801</td>\n      <td>1733.7</td>\n      <td>310.859</td>\n      <td>481.301</td>\n      <td>1919.7</td>\n      <td>29.15</td>\n      <td>141.7</td>\n      <td>3.08</td>\n      <td>5.1</td>\n      <td>177.830</td>\n      <td>2.34</td>\n      <td>0.74</td>\n    </tr>\n    <tr>\n      <th>2</th>\n      <td>1959.0</td>\n      <td>3.0</td>\n      <td>2775.488</td>\n      <td>1751.8</td>\n      <td>289.226</td>\n      <td>491.260</td>\n      <td>1916.4</td>\n      <td>29.35</td>\n      <td>140.5</td>\n      <td>3.82</td>\n      <td>5.3</td>\n      <td>178.657</td>\n      <td>2.74</td>\n      <td>1.09</td>\n    </tr>\n    <tr>\n      <th>3</th>\n      <td>1959.0</td>\n      <td>4.0</td>\n      <td>2785.204</td>\n      <td>1753.7</td>\n      <td>299.356</td>\n      <td>484.052</td>\n      <td>1931.3</td>\n      <td>29.37</td>\n      <td>140.0</td>\n      <td>4.33</td>\n      <td>5.6</td>\n      <td>179.386</td>\n      <td>0.27</td>\n      <td>4.06</td>\n    </tr>\n    <tr>\n      <th>4</th>\n      <td>1960.0</td>\n      <td>1.0</td>\n      <td>2847.699</td>\n      <td>1770.5</td>\n      <td>331.722</td>\n      <td>462.199</td>\n      <td>1955.5</td>\n      <td>29.54</td>\n      <td>139.6</td>\n      <td>3.50</td>\n      <td>5.2</td>\n      <td>180.007</td>\n      <td>2.31</td>\n      <td>1.19</td>\n    </tr>\n  </tbody>\n</table>\n</div>"
     },
     "execution_count": 79,
     "metadata": {},
     "output_type": "execute_result"
    }
   ],
   "source": [
    "data = pd.read_csv('./examples/macrodata.csv')\n",
    "data.head(5)"
   ],
   "metadata": {
    "collapsed": false,
    "pycharm": {
     "name": "#%%\n"
    }
   }
  },
  {
   "cell_type": "code",
   "execution_count": 80,
   "outputs": [
    {
     "data": {
      "text/plain": "0      1959.0\n1      1959.0\n2      1959.0\n3      1959.0\n4      1960.0\n        ...  \n198    2008.0\n199    2008.0\n200    2009.0\n201    2009.0\n202    2009.0\nName: year, Length: 203, dtype: float64"
     },
     "execution_count": 80,
     "metadata": {},
     "output_type": "execute_result"
    }
   ],
   "source": [
    "data.year"
   ],
   "metadata": {
    "collapsed": false,
    "pycharm": {
     "name": "#%%\n"
    }
   }
  },
  {
   "cell_type": "code",
   "execution_count": 81,
   "outputs": [
    {
     "data": {
      "text/plain": "PeriodIndex(['1959Q1', '1959Q2', '1959Q3', '1959Q4', '1960Q1', '1960Q2',\n             '1960Q3', '1960Q4', '1961Q1', '1961Q2',\n             ...\n             '2007Q2', '2007Q3', '2007Q4', '2008Q1', '2008Q2', '2008Q3',\n             '2008Q4', '2009Q1', '2009Q2', '2009Q3'],\n            dtype='period[Q-DEC]', length=203)"
     },
     "execution_count": 81,
     "metadata": {},
     "output_type": "execute_result"
    }
   ],
   "source": [
    "# 将数组和频率传递给PeriodIndex，可以联合这些数组DataFrame的索引\n",
    "index = pd.PeriodIndex(year=data.year, quarter=data.quarter, freq='Q-DEC')\n",
    "index"
   ],
   "metadata": {
    "collapsed": false,
    "pycharm": {
     "name": "#%%\n"
    }
   }
  },
  {
   "cell_type": "code",
   "execution_count": 82,
   "outputs": [
    {
     "data": {
      "text/plain": "1959Q1    0.00\n1959Q2    2.34\n1959Q3    2.74\n1959Q4    0.27\n1960Q1    2.31\nFreq: Q-DEC, Name: infl, dtype: float64"
     },
     "execution_count": 82,
     "metadata": {},
     "output_type": "execute_result"
    }
   ],
   "source": [
    "data.index = index\n",
    "data.infl.head(5)"
   ],
   "metadata": {
    "collapsed": false,
    "pycharm": {
     "name": "#%%\n"
    }
   }
  },
  {
   "cell_type": "markdown",
   "source": [
    "## 11.6 重新采样与频率转换"
   ],
   "metadata": {
    "collapsed": false,
    "pycharm": {
     "name": "#%% md\n"
    }
   }
  },
  {
   "cell_type": "code",
   "execution_count": 83,
   "outputs": [
    {
     "data": {
      "text/plain": "2000-01-01    0.044252\n2000-01-02    1.509002\n2000-01-03   -1.595902\n2000-01-04   -0.477827\n2000-01-05    0.865536\nFreq: D, dtype: float64"
     },
     "execution_count": 83,
     "metadata": {},
     "output_type": "execute_result"
    }
   ],
   "source": [
    "rng = pd.date_range('2000-1-1', periods=100, freq='D')\n",
    "ts = pd.Series(np.random.randn(100), index=rng)\n",
    "ts.head(5)"
   ],
   "metadata": {
    "collapsed": false,
    "pycharm": {
     "name": "#%%\n"
    }
   }
  },
  {
   "cell_type": "code",
   "execution_count": 84,
   "outputs": [
    {
     "data": {
      "text/plain": "2000-01-31    0.252317\n2000-02-29   -0.009060\n2000-03-31   -0.275503\n2000-04-30   -0.360012\nFreq: M, dtype: float64"
     },
     "execution_count": 84,
     "metadata": {},
     "output_type": "execute_result"
    }
   ],
   "source": [
    "ts.resample('M').mean()"
   ],
   "metadata": {
    "collapsed": false,
    "pycharm": {
     "name": "#%%\n"
    }
   }
  },
  {
   "cell_type": "code",
   "execution_count": 85,
   "outputs": [
    {
     "data": {
      "text/plain": "2000-01    0.252317\n2000-02   -0.009060\n2000-03   -0.275503\n2000-04   -0.360012\nFreq: M, dtype: float64"
     },
     "execution_count": 85,
     "metadata": {},
     "output_type": "execute_result"
    }
   ],
   "source": [
    "ts.resample('M', kind='period').mean()"
   ],
   "metadata": {
    "collapsed": false,
    "pycharm": {
     "name": "#%%\n"
    }
   }
  },
  {
   "cell_type": "markdown",
   "source": [
    "### 11.6.1 向下采样"
   ],
   "metadata": {
    "collapsed": false,
    "pycharm": {
     "name": "#%% md\n"
    }
   }
  },
  {
   "cell_type": "code",
   "execution_count": 86,
   "outputs": [
    {
     "data": {
      "text/plain": "2000-01-01 00:00:00   -0.583545\n2000-01-01 00:01:00   -1.100636\n2000-01-01 00:02:00   -0.410605\n2000-01-01 00:03:00    0.328634\n2000-01-01 00:04:00   -0.943690\n2000-01-01 00:05:00    0.896171\n2000-01-01 00:06:00    0.129617\n2000-01-01 00:07:00    1.019195\n2000-01-01 00:08:00    0.862208\n2000-01-01 00:09:00    1.207708\n2000-01-01 00:10:00   -0.395861\n2000-01-01 00:11:00   -0.578664\nFreq: T, dtype: float64"
     },
     "execution_count": 86,
     "metadata": {},
     "output_type": "execute_result"
    }
   ],
   "source": [
    "rng = pd.date_range('2000-1-1', periods=12, freq='T')  # 分钟\n",
    "ts = pd.Series(np.random.randn(12), index=rng)\n",
    "ts"
   ],
   "metadata": {
    "collapsed": false,
    "pycharm": {
     "name": "#%%\n"
    }
   }
  },
  {
   "cell_type": "code",
   "execution_count": 87,
   "outputs": [
    {
     "data": {
      "text/plain": "1999-12-31 23:55:00   -0.583545\n2000-01-01 00:00:00   -1.230125\n2000-01-01 00:05:00    2.822867\n2000-01-01 00:10:00   -0.578664\nFreq: 5T, dtype: float64"
     },
     "execution_count": 87,
     "metadata": {},
     "output_type": "execute_result"
    }
   ],
   "source": [
    "# 将分钟聚合到5分钟（左开右闭）\n",
    "ts.resample('5min', closed='right').sum()"
   ],
   "metadata": {
    "collapsed": false,
    "pycharm": {
     "name": "#%%\n"
    }
   }
  },
  {
   "cell_type": "code",
   "execution_count": 88,
   "outputs": [
    {
     "data": {
      "text/plain": "2000-01-01 00:00:00   -0.583545\n2000-01-01 00:05:00   -1.230125\n2000-01-01 00:10:00    2.822867\n2000-01-01 00:15:00   -0.578664\nFreq: 5T, dtype: float64"
     },
     "execution_count": 88,
     "metadata": {},
     "output_type": "execute_result"
    }
   ],
   "source": [
    "# 默认以左边的索引为标记，当传入label='right'则会已区间右侧的索引为标记\n",
    "ts.resample('5min', closed='right', label='right').sum()"
   ],
   "metadata": {
    "collapsed": false,
    "pycharm": {
     "name": "#%%\n"
    }
   }
  },
  {
   "cell_type": "code",
   "execution_count": 89,
   "outputs": [
    {
     "name": "stderr",
     "output_type": "stream",
     "text": [
      "/var/folders/ml/8mffbtvx25b6ftr05mlfbtqm0000gn/T/ipykernel_38648/2875458470.py:1: FutureWarning: 'loffset' in .resample() and in Grouper() is deprecated.\n",
      "\n",
      ">>> df.resample(freq=\"3s\", loffset=\"8H\")\n",
      "\n",
      "becomes:\n",
      "\n",
      ">>> from pandas.tseries.frequencies import to_offset\n",
      ">>> df = df.resample(freq=\"3s\").mean()\n",
      ">>> df.index = df.index.to_timestamp() + to_offset(\"8H\")\n",
      "\n",
      "  ts.resample('5min', closed='right', label='right', loffset='-1s').sum()\n"
     ]
    },
    {
     "data": {
      "text/plain": "1999-12-31 23:59:59   -0.583545\n2000-01-01 00:04:59   -1.230125\n2000-01-01 00:09:59    2.822867\n2000-01-01 00:14:59   -0.578664\nFreq: 5T, dtype: float64"
     },
     "execution_count": 89,
     "metadata": {},
     "output_type": "execute_result"
    }
   ],
   "source": [
    "ts.resample('5min', closed='right', label='right', loffset='-1s').sum()"
   ],
   "metadata": {
    "collapsed": false,
    "pycharm": {
     "name": "#%%\n"
    }
   }
  },
  {
   "cell_type": "markdown",
   "source": [
    "#### 11.6.1.1 开端-峰值-谷值-结束（OHLC）重新采样"
   ],
   "metadata": {
    "collapsed": false,
    "pycharm": {
     "name": "#%% md\n"
    }
   }
  },
  {
   "cell_type": "code",
   "execution_count": 90,
   "outputs": [
    {
     "data": {
      "text/plain": "                         open      high       low     close\n2000-01-01 00:00:00 -0.583545  0.328634 -1.100636 -0.943690\n2000-01-01 00:05:00  0.896171  1.207708  0.129617  1.207708\n2000-01-01 00:10:00 -0.395861 -0.395861 -0.578664 -0.578664",
      "text/html": "<div>\n<style scoped>\n    .dataframe tbody tr th:only-of-type {\n        vertical-align: middle;\n    }\n\n    .dataframe tbody tr th {\n        vertical-align: top;\n    }\n\n    .dataframe thead th {\n        text-align: right;\n    }\n</style>\n<table border=\"1\" class=\"dataframe\">\n  <thead>\n    <tr style=\"text-align: right;\">\n      <th></th>\n      <th>open</th>\n      <th>high</th>\n      <th>low</th>\n      <th>close</th>\n    </tr>\n  </thead>\n  <tbody>\n    <tr>\n      <th>2000-01-01 00:00:00</th>\n      <td>-0.583545</td>\n      <td>0.328634</td>\n      <td>-1.100636</td>\n      <td>-0.943690</td>\n    </tr>\n    <tr>\n      <th>2000-01-01 00:05:00</th>\n      <td>0.896171</td>\n      <td>1.207708</td>\n      <td>0.129617</td>\n      <td>1.207708</td>\n    </tr>\n    <tr>\n      <th>2000-01-01 00:10:00</th>\n      <td>-0.395861</td>\n      <td>-0.395861</td>\n      <td>-0.578664</td>\n      <td>-0.578664</td>\n    </tr>\n  </tbody>\n</table>\n</div>"
     },
     "execution_count": 90,
     "metadata": {},
     "output_type": "execute_result"
    }
   ],
   "source": [
    "ts.resample('5min').ohlc()"
   ],
   "metadata": {
    "collapsed": false,
    "pycharm": {
     "name": "#%%\n"
    }
   }
  },
  {
   "cell_type": "code",
   "execution_count": 91,
   "outputs": [
    {
     "data": {
      "text/plain": "            Colorado     Texas  New York      Ohio\n2000-01-05  0.647905  0.243935 -1.457749  1.654134\n2000-01-12  1.090787 -0.249846 -0.081422  0.980516",
      "text/html": "<div>\n<style scoped>\n    .dataframe tbody tr th:only-of-type {\n        vertical-align: middle;\n    }\n\n    .dataframe tbody tr th {\n        vertical-align: top;\n    }\n\n    .dataframe thead th {\n        text-align: right;\n    }\n</style>\n<table border=\"1\" class=\"dataframe\">\n  <thead>\n    <tr style=\"text-align: right;\">\n      <th></th>\n      <th>Colorado</th>\n      <th>Texas</th>\n      <th>New York</th>\n      <th>Ohio</th>\n    </tr>\n  </thead>\n  <tbody>\n    <tr>\n      <th>2000-01-05</th>\n      <td>0.647905</td>\n      <td>0.243935</td>\n      <td>-1.457749</td>\n      <td>1.654134</td>\n    </tr>\n    <tr>\n      <th>2000-01-12</th>\n      <td>1.090787</td>\n      <td>-0.249846</td>\n      <td>-0.081422</td>\n      <td>0.980516</td>\n    </tr>\n  </tbody>\n</table>\n</div>"
     },
     "execution_count": 91,
     "metadata": {},
     "output_type": "execute_result"
    }
   ],
   "source": [
    "# 从低频率转换到高频率时，并不需要任何聚合\n",
    "frame = pd.DataFrame(np.random.randn(2, 4),\n",
    "                     index=pd.date_range('1/1/2000', periods=2, freq='W-WED'),\n",
    "                     columns=['Colorado', 'Texas', 'New York', 'Ohio'])\n",
    "frame"
   ],
   "metadata": {
    "collapsed": false,
    "pycharm": {
     "name": "#%%\n"
    }
   }
  },
  {
   "cell_type": "code",
   "execution_count": 92,
   "outputs": [
    {
     "data": {
      "text/plain": "            Colorado     Texas  New York      Ohio\n2000-01-05  0.647905  0.243935 -1.457749  1.654134\n2000-01-06       NaN       NaN       NaN       NaN\n2000-01-07       NaN       NaN       NaN       NaN\n2000-01-08       NaN       NaN       NaN       NaN\n2000-01-09       NaN       NaN       NaN       NaN\n2000-01-10       NaN       NaN       NaN       NaN\n2000-01-11       NaN       NaN       NaN       NaN\n2000-01-12  1.090787 -0.249846 -0.081422  0.980516",
      "text/html": "<div>\n<style scoped>\n    .dataframe tbody tr th:only-of-type {\n        vertical-align: middle;\n    }\n\n    .dataframe tbody tr th {\n        vertical-align: top;\n    }\n\n    .dataframe thead th {\n        text-align: right;\n    }\n</style>\n<table border=\"1\" class=\"dataframe\">\n  <thead>\n    <tr style=\"text-align: right;\">\n      <th></th>\n      <th>Colorado</th>\n      <th>Texas</th>\n      <th>New York</th>\n      <th>Ohio</th>\n    </tr>\n  </thead>\n  <tbody>\n    <tr>\n      <th>2000-01-05</th>\n      <td>0.647905</td>\n      <td>0.243935</td>\n      <td>-1.457749</td>\n      <td>1.654134</td>\n    </tr>\n    <tr>\n      <th>2000-01-06</th>\n      <td>NaN</td>\n      <td>NaN</td>\n      <td>NaN</td>\n      <td>NaN</td>\n    </tr>\n    <tr>\n      <th>2000-01-07</th>\n      <td>NaN</td>\n      <td>NaN</td>\n      <td>NaN</td>\n      <td>NaN</td>\n    </tr>\n    <tr>\n      <th>2000-01-08</th>\n      <td>NaN</td>\n      <td>NaN</td>\n      <td>NaN</td>\n      <td>NaN</td>\n    </tr>\n    <tr>\n      <th>2000-01-09</th>\n      <td>NaN</td>\n      <td>NaN</td>\n      <td>NaN</td>\n      <td>NaN</td>\n    </tr>\n    <tr>\n      <th>2000-01-10</th>\n      <td>NaN</td>\n      <td>NaN</td>\n      <td>NaN</td>\n      <td>NaN</td>\n    </tr>\n    <tr>\n      <th>2000-01-11</th>\n      <td>NaN</td>\n      <td>NaN</td>\n      <td>NaN</td>\n      <td>NaN</td>\n    </tr>\n    <tr>\n      <th>2000-01-12</th>\n      <td>1.090787</td>\n      <td>-0.249846</td>\n      <td>-0.081422</td>\n      <td>0.980516</td>\n    </tr>\n  </tbody>\n</table>\n</div>"
     },
     "execution_count": 92,
     "metadata": {},
     "output_type": "execute_result"
    }
   ],
   "source": [
    "df_daily = frame.resample('D').asfreq()\n",
    "# 就是将重采样后产生的间隙以NA填充\n",
    "df_daily"
   ],
   "metadata": {
    "collapsed": false,
    "pycharm": {
     "name": "#%%\n"
    }
   }
  },
  {
   "cell_type": "code",
   "execution_count": 93,
   "outputs": [
    {
     "data": {
      "text/plain": "            Colorado     Texas  New York      Ohio\n2000-01-05  0.647905  0.243935 -1.457749  1.654134\n2000-01-06  0.647905  0.243935 -1.457749  1.654134\n2000-01-07  0.647905  0.243935 -1.457749  1.654134\n2000-01-08  0.647905  0.243935 -1.457749  1.654134\n2000-01-09  0.647905  0.243935 -1.457749  1.654134\n2000-01-10  0.647905  0.243935 -1.457749  1.654134\n2000-01-11  0.647905  0.243935 -1.457749  1.654134\n2000-01-12  1.090787 -0.249846 -0.081422  0.980516",
      "text/html": "<div>\n<style scoped>\n    .dataframe tbody tr th:only-of-type {\n        vertical-align: middle;\n    }\n\n    .dataframe tbody tr th {\n        vertical-align: top;\n    }\n\n    .dataframe thead th {\n        text-align: right;\n    }\n</style>\n<table border=\"1\" class=\"dataframe\">\n  <thead>\n    <tr style=\"text-align: right;\">\n      <th></th>\n      <th>Colorado</th>\n      <th>Texas</th>\n      <th>New York</th>\n      <th>Ohio</th>\n    </tr>\n  </thead>\n  <tbody>\n    <tr>\n      <th>2000-01-05</th>\n      <td>0.647905</td>\n      <td>0.243935</td>\n      <td>-1.457749</td>\n      <td>1.654134</td>\n    </tr>\n    <tr>\n      <th>2000-01-06</th>\n      <td>0.647905</td>\n      <td>0.243935</td>\n      <td>-1.457749</td>\n      <td>1.654134</td>\n    </tr>\n    <tr>\n      <th>2000-01-07</th>\n      <td>0.647905</td>\n      <td>0.243935</td>\n      <td>-1.457749</td>\n      <td>1.654134</td>\n    </tr>\n    <tr>\n      <th>2000-01-08</th>\n      <td>0.647905</td>\n      <td>0.243935</td>\n      <td>-1.457749</td>\n      <td>1.654134</td>\n    </tr>\n    <tr>\n      <th>2000-01-09</th>\n      <td>0.647905</td>\n      <td>0.243935</td>\n      <td>-1.457749</td>\n      <td>1.654134</td>\n    </tr>\n    <tr>\n      <th>2000-01-10</th>\n      <td>0.647905</td>\n      <td>0.243935</td>\n      <td>-1.457749</td>\n      <td>1.654134</td>\n    </tr>\n    <tr>\n      <th>2000-01-11</th>\n      <td>0.647905</td>\n      <td>0.243935</td>\n      <td>-1.457749</td>\n      <td>1.654134</td>\n    </tr>\n    <tr>\n      <th>2000-01-12</th>\n      <td>1.090787</td>\n      <td>-0.249846</td>\n      <td>-0.081422</td>\n      <td>0.980516</td>\n    </tr>\n  </tbody>\n</table>\n</div>"
     },
     "execution_count": 93,
     "metadata": {},
     "output_type": "execute_result"
    }
   ],
   "source": [
    "frame.resample('D').ffill()"
   ],
   "metadata": {
    "collapsed": false,
    "pycharm": {
     "name": "#%%\n"
    }
   }
  },
  {
   "cell_type": "code",
   "execution_count": 94,
   "outputs": [
    {
     "data": {
      "text/plain": "            Colorado     Texas  New York      Ohio\n2000-01-05  0.647905  0.243935 -1.457749  1.654134\n2000-01-06  0.647905  0.243935 -1.457749  1.654134\n2000-01-07  0.647905  0.243935 -1.457749  1.654134\n2000-01-08       NaN       NaN       NaN       NaN\n2000-01-09       NaN       NaN       NaN       NaN\n2000-01-10       NaN       NaN       NaN       NaN\n2000-01-11       NaN       NaN       NaN       NaN\n2000-01-12  1.090787 -0.249846 -0.081422  0.980516",
      "text/html": "<div>\n<style scoped>\n    .dataframe tbody tr th:only-of-type {\n        vertical-align: middle;\n    }\n\n    .dataframe tbody tr th {\n        vertical-align: top;\n    }\n\n    .dataframe thead th {\n        text-align: right;\n    }\n</style>\n<table border=\"1\" class=\"dataframe\">\n  <thead>\n    <tr style=\"text-align: right;\">\n      <th></th>\n      <th>Colorado</th>\n      <th>Texas</th>\n      <th>New York</th>\n      <th>Ohio</th>\n    </tr>\n  </thead>\n  <tbody>\n    <tr>\n      <th>2000-01-05</th>\n      <td>0.647905</td>\n      <td>0.243935</td>\n      <td>-1.457749</td>\n      <td>1.654134</td>\n    </tr>\n    <tr>\n      <th>2000-01-06</th>\n      <td>0.647905</td>\n      <td>0.243935</td>\n      <td>-1.457749</td>\n      <td>1.654134</td>\n    </tr>\n    <tr>\n      <th>2000-01-07</th>\n      <td>0.647905</td>\n      <td>0.243935</td>\n      <td>-1.457749</td>\n      <td>1.654134</td>\n    </tr>\n    <tr>\n      <th>2000-01-08</th>\n      <td>NaN</td>\n      <td>NaN</td>\n      <td>NaN</td>\n      <td>NaN</td>\n    </tr>\n    <tr>\n      <th>2000-01-09</th>\n      <td>NaN</td>\n      <td>NaN</td>\n      <td>NaN</td>\n      <td>NaN</td>\n    </tr>\n    <tr>\n      <th>2000-01-10</th>\n      <td>NaN</td>\n      <td>NaN</td>\n      <td>NaN</td>\n      <td>NaN</td>\n    </tr>\n    <tr>\n      <th>2000-01-11</th>\n      <td>NaN</td>\n      <td>NaN</td>\n      <td>NaN</td>\n      <td>NaN</td>\n    </tr>\n    <tr>\n      <th>2000-01-12</th>\n      <td>1.090787</td>\n      <td>-0.249846</td>\n      <td>-0.081422</td>\n      <td>0.980516</td>\n    </tr>\n  </tbody>\n</table>\n</div>"
     },
     "execution_count": 94,
     "metadata": {},
     "output_type": "execute_result"
    }
   ],
   "source": [
    "# 可以只填充一部分数据\n",
    "frame.resample('D').ffill(limit=2)"
   ],
   "metadata": {
    "collapsed": false,
    "pycharm": {
     "name": "#%%\n"
    }
   }
  },
  {
   "cell_type": "markdown",
   "source": [
    "### 11.6.3 使用区间进行重新采样"
   ],
   "metadata": {
    "collapsed": false,
    "pycharm": {
     "name": "#%% md\n"
    }
   }
  },
  {
   "cell_type": "code",
   "execution_count": 95,
   "outputs": [
    {
     "data": {
      "text/plain": "         Colorado     Texas  New York      Ohio\n2000-01 -0.864530 -0.790882 -1.679993 -0.653595\n2000-02  0.800666  0.225551 -0.057695 -1.446171\n2000-03 -0.832131 -1.423763 -0.866922  1.994290\n2000-04 -0.420156 -0.554886 -0.277271 -0.694533\n2000-05 -0.990208 -1.057548 -0.135287  1.202287",
      "text/html": "<div>\n<style scoped>\n    .dataframe tbody tr th:only-of-type {\n        vertical-align: middle;\n    }\n\n    .dataframe tbody tr th {\n        vertical-align: top;\n    }\n\n    .dataframe thead th {\n        text-align: right;\n    }\n</style>\n<table border=\"1\" class=\"dataframe\">\n  <thead>\n    <tr style=\"text-align: right;\">\n      <th></th>\n      <th>Colorado</th>\n      <th>Texas</th>\n      <th>New York</th>\n      <th>Ohio</th>\n    </tr>\n  </thead>\n  <tbody>\n    <tr>\n      <th>2000-01</th>\n      <td>-0.864530</td>\n      <td>-0.790882</td>\n      <td>-1.679993</td>\n      <td>-0.653595</td>\n    </tr>\n    <tr>\n      <th>2000-02</th>\n      <td>0.800666</td>\n      <td>0.225551</td>\n      <td>-0.057695</td>\n      <td>-1.446171</td>\n    </tr>\n    <tr>\n      <th>2000-03</th>\n      <td>-0.832131</td>\n      <td>-1.423763</td>\n      <td>-0.866922</td>\n      <td>1.994290</td>\n    </tr>\n    <tr>\n      <th>2000-04</th>\n      <td>-0.420156</td>\n      <td>-0.554886</td>\n      <td>-0.277271</td>\n      <td>-0.694533</td>\n    </tr>\n    <tr>\n      <th>2000-05</th>\n      <td>-0.990208</td>\n      <td>-1.057548</td>\n      <td>-0.135287</td>\n      <td>1.202287</td>\n    </tr>\n  </tbody>\n</table>\n</div>"
     },
     "execution_count": 95,
     "metadata": {},
     "output_type": "execute_result"
    }
   ],
   "source": [
    "frame = pd.DataFrame(np.random.randn(24, 4),\n",
    "                     index=pd.period_range('1-2000', '12-2001', freq='M'),\n",
    "                     columns=['Colorado', 'Texas', 'New York', 'Ohio'])\n",
    "frame[:5]"
   ],
   "metadata": {
    "collapsed": false,
    "pycharm": {
     "name": "#%%\n"
    }
   }
  },
  {
   "cell_type": "code",
   "execution_count": 96,
   "outputs": [
    {
     "data": {
      "text/plain": "      Colorado     Texas  New York      Ohio\n2000 -0.098774 -0.079602 -0.623339  0.039665\n2001  0.119563  0.062877 -0.137403 -0.490954",
      "text/html": "<div>\n<style scoped>\n    .dataframe tbody tr th:only-of-type {\n        vertical-align: middle;\n    }\n\n    .dataframe tbody tr th {\n        vertical-align: top;\n    }\n\n    .dataframe thead th {\n        text-align: right;\n    }\n</style>\n<table border=\"1\" class=\"dataframe\">\n  <thead>\n    <tr style=\"text-align: right;\">\n      <th></th>\n      <th>Colorado</th>\n      <th>Texas</th>\n      <th>New York</th>\n      <th>Ohio</th>\n    </tr>\n  </thead>\n  <tbody>\n    <tr>\n      <th>2000</th>\n      <td>-0.098774</td>\n      <td>-0.079602</td>\n      <td>-0.623339</td>\n      <td>0.039665</td>\n    </tr>\n    <tr>\n      <th>2001</th>\n      <td>0.119563</td>\n      <td>0.062877</td>\n      <td>-0.137403</td>\n      <td>-0.490954</td>\n    </tr>\n  </tbody>\n</table>\n</div>"
     },
     "execution_count": 96,
     "metadata": {},
     "output_type": "execute_result"
    }
   ],
   "source": [
    "annual_frame = frame.resample('A-DEC').mean()\n",
    "annual_frame"
   ],
   "metadata": {
    "collapsed": false,
    "pycharm": {
     "name": "#%%\n"
    }
   }
  },
  {
   "cell_type": "code",
   "execution_count": 99,
   "outputs": [
    {
     "data": {
      "text/plain": "         Colorado     Texas  New York      Ohio\n2000-01 -0.864530 -0.790882 -1.679993 -0.653595\n2000-02  0.800666  0.225551 -0.057695 -1.446171\n2000-03 -0.832131 -1.423763 -0.866922  1.994290\n2000-04 -0.420156 -0.554886 -0.277271 -0.694533\n2000-05 -0.990208 -1.057548 -0.135287  1.202287\n2000-06  0.157502  0.927436 -0.547741  0.328636\n2000-07  0.394477 -0.615345 -2.176008  0.537576\n2000-08  0.772972 -0.294142  1.142073 -0.779438\n2000-09 -0.287306  2.130181 -0.279703  0.843494\n2000-10 -0.445735  0.334903 -1.773750  1.744176\n2000-11 -1.417886  0.338031 -0.589737 -0.475530\n2000-12  1.947044 -0.174765 -0.238033 -2.125209\n2001-01 -1.294445  0.022887 -1.508196  0.422001\n2001-02  2.269897 -0.999960 -0.111064 -0.771773\n2001-03 -1.159708 -0.845453 -0.070193  1.008740\n2001-04  0.469880 -0.171159  0.505883 -0.472854\n2001-05 -1.008877  1.320161 -1.665429 -1.281938\n2001-06  0.793389  0.651289  1.981088 -1.614951\n2001-07 -0.289443  1.015292 -0.571229  0.875115\n2001-08  1.088795  0.964176 -0.543170 -1.685249\n2001-09 -0.583066 -0.525432  1.841765  0.852816\n2001-10  0.571608 -0.750071  0.123717 -1.934305\n2001-11  1.107153  0.432625 -0.107987 -1.221963\n2001-12 -0.530421 -0.359833 -1.524015 -0.067089",
      "text/html": "<div>\n<style scoped>\n    .dataframe tbody tr th:only-of-type {\n        vertical-align: middle;\n    }\n\n    .dataframe tbody tr th {\n        vertical-align: top;\n    }\n\n    .dataframe thead th {\n        text-align: right;\n    }\n</style>\n<table border=\"1\" class=\"dataframe\">\n  <thead>\n    <tr style=\"text-align: right;\">\n      <th></th>\n      <th>Colorado</th>\n      <th>Texas</th>\n      <th>New York</th>\n      <th>Ohio</th>\n    </tr>\n  </thead>\n  <tbody>\n    <tr>\n      <th>2000-01</th>\n      <td>-0.864530</td>\n      <td>-0.790882</td>\n      <td>-1.679993</td>\n      <td>-0.653595</td>\n    </tr>\n    <tr>\n      <th>2000-02</th>\n      <td>0.800666</td>\n      <td>0.225551</td>\n      <td>-0.057695</td>\n      <td>-1.446171</td>\n    </tr>\n    <tr>\n      <th>2000-03</th>\n      <td>-0.832131</td>\n      <td>-1.423763</td>\n      <td>-0.866922</td>\n      <td>1.994290</td>\n    </tr>\n    <tr>\n      <th>2000-04</th>\n      <td>-0.420156</td>\n      <td>-0.554886</td>\n      <td>-0.277271</td>\n      <td>-0.694533</td>\n    </tr>\n    <tr>\n      <th>2000-05</th>\n      <td>-0.990208</td>\n      <td>-1.057548</td>\n      <td>-0.135287</td>\n      <td>1.202287</td>\n    </tr>\n    <tr>\n      <th>2000-06</th>\n      <td>0.157502</td>\n      <td>0.927436</td>\n      <td>-0.547741</td>\n      <td>0.328636</td>\n    </tr>\n    <tr>\n      <th>2000-07</th>\n      <td>0.394477</td>\n      <td>-0.615345</td>\n      <td>-2.176008</td>\n      <td>0.537576</td>\n    </tr>\n    <tr>\n      <th>2000-08</th>\n      <td>0.772972</td>\n      <td>-0.294142</td>\n      <td>1.142073</td>\n      <td>-0.779438</td>\n    </tr>\n    <tr>\n      <th>2000-09</th>\n      <td>-0.287306</td>\n      <td>2.130181</td>\n      <td>-0.279703</td>\n      <td>0.843494</td>\n    </tr>\n    <tr>\n      <th>2000-10</th>\n      <td>-0.445735</td>\n      <td>0.334903</td>\n      <td>-1.773750</td>\n      <td>1.744176</td>\n    </tr>\n    <tr>\n      <th>2000-11</th>\n      <td>-1.417886</td>\n      <td>0.338031</td>\n      <td>-0.589737</td>\n      <td>-0.475530</td>\n    </tr>\n    <tr>\n      <th>2000-12</th>\n      <td>1.947044</td>\n      <td>-0.174765</td>\n      <td>-0.238033</td>\n      <td>-2.125209</td>\n    </tr>\n    <tr>\n      <th>2001-01</th>\n      <td>-1.294445</td>\n      <td>0.022887</td>\n      <td>-1.508196</td>\n      <td>0.422001</td>\n    </tr>\n    <tr>\n      <th>2001-02</th>\n      <td>2.269897</td>\n      <td>-0.999960</td>\n      <td>-0.111064</td>\n      <td>-0.771773</td>\n    </tr>\n    <tr>\n      <th>2001-03</th>\n      <td>-1.159708</td>\n      <td>-0.845453</td>\n      <td>-0.070193</td>\n      <td>1.008740</td>\n    </tr>\n    <tr>\n      <th>2001-04</th>\n      <td>0.469880</td>\n      <td>-0.171159</td>\n      <td>0.505883</td>\n      <td>-0.472854</td>\n    </tr>\n    <tr>\n      <th>2001-05</th>\n      <td>-1.008877</td>\n      <td>1.320161</td>\n      <td>-1.665429</td>\n      <td>-1.281938</td>\n    </tr>\n    <tr>\n      <th>2001-06</th>\n      <td>0.793389</td>\n      <td>0.651289</td>\n      <td>1.981088</td>\n      <td>-1.614951</td>\n    </tr>\n    <tr>\n      <th>2001-07</th>\n      <td>-0.289443</td>\n      <td>1.015292</td>\n      <td>-0.571229</td>\n      <td>0.875115</td>\n    </tr>\n    <tr>\n      <th>2001-08</th>\n      <td>1.088795</td>\n      <td>0.964176</td>\n      <td>-0.543170</td>\n      <td>-1.685249</td>\n    </tr>\n    <tr>\n      <th>2001-09</th>\n      <td>-0.583066</td>\n      <td>-0.525432</td>\n      <td>1.841765</td>\n      <td>0.852816</td>\n    </tr>\n    <tr>\n      <th>2001-10</th>\n      <td>0.571608</td>\n      <td>-0.750071</td>\n      <td>0.123717</td>\n      <td>-1.934305</td>\n    </tr>\n    <tr>\n      <th>2001-11</th>\n      <td>1.107153</td>\n      <td>0.432625</td>\n      <td>-0.107987</td>\n      <td>-1.221963</td>\n    </tr>\n    <tr>\n      <th>2001-12</th>\n      <td>-0.530421</td>\n      <td>-0.359833</td>\n      <td>-1.524015</td>\n      <td>-0.067089</td>\n    </tr>\n  </tbody>\n</table>\n</div>"
     },
     "execution_count": 99,
     "metadata": {},
     "output_type": "execute_result"
    }
   ],
   "source": [
    "frame"
   ],
   "metadata": {
    "collapsed": false,
    "pycharm": {
     "name": "#%%\n"
    }
   }
  },
  {
   "cell_type": "code",
   "execution_count": 102,
   "outputs": [
    {
     "data": {
      "text/plain": "        Colorado     Texas  New York      Ohio\n2000Q1 -0.098774 -0.079602 -0.623339  0.039665\n2000Q2 -0.098774 -0.079602 -0.623339  0.039665\n2000Q3 -0.098774 -0.079602 -0.623339  0.039665\n2000Q4 -0.098774 -0.079602 -0.623339  0.039665\n2001Q1  0.119563  0.062877 -0.137403 -0.490954\n2001Q2  0.119563  0.062877 -0.137403 -0.490954\n2001Q3  0.119563  0.062877 -0.137403 -0.490954\n2001Q4  0.119563  0.062877 -0.137403 -0.490954",
      "text/html": "<div>\n<style scoped>\n    .dataframe tbody tr th:only-of-type {\n        vertical-align: middle;\n    }\n\n    .dataframe tbody tr th {\n        vertical-align: top;\n    }\n\n    .dataframe thead th {\n        text-align: right;\n    }\n</style>\n<table border=\"1\" class=\"dataframe\">\n  <thead>\n    <tr style=\"text-align: right;\">\n      <th></th>\n      <th>Colorado</th>\n      <th>Texas</th>\n      <th>New York</th>\n      <th>Ohio</th>\n    </tr>\n  </thead>\n  <tbody>\n    <tr>\n      <th>2000Q1</th>\n      <td>-0.098774</td>\n      <td>-0.079602</td>\n      <td>-0.623339</td>\n      <td>0.039665</td>\n    </tr>\n    <tr>\n      <th>2000Q2</th>\n      <td>-0.098774</td>\n      <td>-0.079602</td>\n      <td>-0.623339</td>\n      <td>0.039665</td>\n    </tr>\n    <tr>\n      <th>2000Q3</th>\n      <td>-0.098774</td>\n      <td>-0.079602</td>\n      <td>-0.623339</td>\n      <td>0.039665</td>\n    </tr>\n    <tr>\n      <th>2000Q4</th>\n      <td>-0.098774</td>\n      <td>-0.079602</td>\n      <td>-0.623339</td>\n      <td>0.039665</td>\n    </tr>\n    <tr>\n      <th>2001Q1</th>\n      <td>0.119563</td>\n      <td>0.062877</td>\n      <td>-0.137403</td>\n      <td>-0.490954</td>\n    </tr>\n    <tr>\n      <th>2001Q2</th>\n      <td>0.119563</td>\n      <td>0.062877</td>\n      <td>-0.137403</td>\n      <td>-0.490954</td>\n    </tr>\n    <tr>\n      <th>2001Q3</th>\n      <td>0.119563</td>\n      <td>0.062877</td>\n      <td>-0.137403</td>\n      <td>-0.490954</td>\n    </tr>\n    <tr>\n      <th>2001Q4</th>\n      <td>0.119563</td>\n      <td>0.062877</td>\n      <td>-0.137403</td>\n      <td>-0.490954</td>\n    </tr>\n  </tbody>\n</table>\n</div>"
     },
     "execution_count": 102,
     "metadata": {},
     "output_type": "execute_result"
    }
   ],
   "source": [
    "# 向上采样更为细致，必须在重新采样前决定新频率中在时间段的哪一端放置数值，就行asfreq方法一样，convention参数的默认值是start，但也可以是end\n",
    "annual_frame.resample('Q-DEC').ffill()"
   ],
   "metadata": {
    "collapsed": false,
    "pycharm": {
     "name": "#%%\n"
    }
   }
  },
  {
   "cell_type": "code",
   "execution_count": 103,
   "outputs": [
    {
     "data": {
      "text/plain": "        Colorado     Texas  New York      Ohio\n2000Q4 -0.098774 -0.079602 -0.623339  0.039665\n2001Q1 -0.098774 -0.079602 -0.623339  0.039665\n2001Q2 -0.098774 -0.079602 -0.623339  0.039665\n2001Q3 -0.098774 -0.079602 -0.623339  0.039665\n2001Q4  0.119563  0.062877 -0.137403 -0.490954",
      "text/html": "<div>\n<style scoped>\n    .dataframe tbody tr th:only-of-type {\n        vertical-align: middle;\n    }\n\n    .dataframe tbody tr th {\n        vertical-align: top;\n    }\n\n    .dataframe thead th {\n        text-align: right;\n    }\n</style>\n<table border=\"1\" class=\"dataframe\">\n  <thead>\n    <tr style=\"text-align: right;\">\n      <th></th>\n      <th>Colorado</th>\n      <th>Texas</th>\n      <th>New York</th>\n      <th>Ohio</th>\n    </tr>\n  </thead>\n  <tbody>\n    <tr>\n      <th>2000Q4</th>\n      <td>-0.098774</td>\n      <td>-0.079602</td>\n      <td>-0.623339</td>\n      <td>0.039665</td>\n    </tr>\n    <tr>\n      <th>2001Q1</th>\n      <td>-0.098774</td>\n      <td>-0.079602</td>\n      <td>-0.623339</td>\n      <td>0.039665</td>\n    </tr>\n    <tr>\n      <th>2001Q2</th>\n      <td>-0.098774</td>\n      <td>-0.079602</td>\n      <td>-0.623339</td>\n      <td>0.039665</td>\n    </tr>\n    <tr>\n      <th>2001Q3</th>\n      <td>-0.098774</td>\n      <td>-0.079602</td>\n      <td>-0.623339</td>\n      <td>0.039665</td>\n    </tr>\n    <tr>\n      <th>2001Q4</th>\n      <td>0.119563</td>\n      <td>0.062877</td>\n      <td>-0.137403</td>\n      <td>-0.490954</td>\n    </tr>\n  </tbody>\n</table>\n</div>"
     },
     "execution_count": 103,
     "metadata": {},
     "output_type": "execute_result"
    }
   ],
   "source": [
    "annual_frame.resample('Q-DEC', convention='end').ffill()"
   ],
   "metadata": {
    "collapsed": false,
    "pycharm": {
     "name": "#%%\n"
    }
   }
  },
  {
   "cell_type": "code",
   "execution_count": 119,
   "outputs": [
    {
     "data": {
      "text/plain": "        Colorado     Texas  New York      Ohio\n2000Q4 -0.098774 -0.079602 -0.623339  0.039665\n2001Q1 -0.098774 -0.079602 -0.623339  0.039665\n2001Q2 -0.098774 -0.079602 -0.623339  0.039665\n2001Q3 -0.098774 -0.079602 -0.623339  0.039665\n2001Q4  0.119563  0.062877 -0.137403 -0.490954\n2002Q1  0.119563  0.062877 -0.137403 -0.490954\n2002Q2  0.119563  0.062877 -0.137403 -0.490954\n2002Q3  0.119563  0.062877 -0.137403 -0.490954",
      "text/html": "<div>\n<style scoped>\n    .dataframe tbody tr th:only-of-type {\n        vertical-align: middle;\n    }\n\n    .dataframe tbody tr th {\n        vertical-align: top;\n    }\n\n    .dataframe thead th {\n        text-align: right;\n    }\n</style>\n<table border=\"1\" class=\"dataframe\">\n  <thead>\n    <tr style=\"text-align: right;\">\n      <th></th>\n      <th>Colorado</th>\n      <th>Texas</th>\n      <th>New York</th>\n      <th>Ohio</th>\n    </tr>\n  </thead>\n  <tbody>\n    <tr>\n      <th>2000Q4</th>\n      <td>-0.098774</td>\n      <td>-0.079602</td>\n      <td>-0.623339</td>\n      <td>0.039665</td>\n    </tr>\n    <tr>\n      <th>2001Q1</th>\n      <td>-0.098774</td>\n      <td>-0.079602</td>\n      <td>-0.623339</td>\n      <td>0.039665</td>\n    </tr>\n    <tr>\n      <th>2001Q2</th>\n      <td>-0.098774</td>\n      <td>-0.079602</td>\n      <td>-0.623339</td>\n      <td>0.039665</td>\n    </tr>\n    <tr>\n      <th>2001Q3</th>\n      <td>-0.098774</td>\n      <td>-0.079602</td>\n      <td>-0.623339</td>\n      <td>0.039665</td>\n    </tr>\n    <tr>\n      <th>2001Q4</th>\n      <td>0.119563</td>\n      <td>0.062877</td>\n      <td>-0.137403</td>\n      <td>-0.490954</td>\n    </tr>\n    <tr>\n      <th>2002Q1</th>\n      <td>0.119563</td>\n      <td>0.062877</td>\n      <td>-0.137403</td>\n      <td>-0.490954</td>\n    </tr>\n    <tr>\n      <th>2002Q2</th>\n      <td>0.119563</td>\n      <td>0.062877</td>\n      <td>-0.137403</td>\n      <td>-0.490954</td>\n    </tr>\n    <tr>\n      <th>2002Q3</th>\n      <td>0.119563</td>\n      <td>0.062877</td>\n      <td>-0.137403</td>\n      <td>-0.490954</td>\n    </tr>\n  </tbody>\n</table>\n</div>"
     },
     "execution_count": 119,
     "metadata": {},
     "output_type": "execute_result"
    }
   ],
   "source": [
    "# 由于区间涉及时间范围，向上采样和向下采样就更为严格\n",
    "# 1 向下采样中，目标频率必须是原频率的子区间\n",
    "# 2 向上采样中，目标频率必须是原频率的父区间\n",
    "# 如果不满足这些条件，将引起异常。这主要会影响每季度、每年和每周的频率。例如，根据Q-MAR定义的时间范围将只和A-MAR、A-JUN、A-SEP和A-DEC保持一致。\n",
    "annual_frame.resample('Q-MAR', convention='start').ffill()"
   ],
   "metadata": {
    "collapsed": false,
    "pycharm": {
     "name": "#%%\n"
    }
   }
  },
  {
   "cell_type": "code",
   "execution_count": 113,
   "outputs": [
    {
     "data": {
      "text/plain": "      Colorado     Texas  New York      Ohio\n2000 -0.098774 -0.079602 -0.623339  0.039665\n2001  0.119563  0.062877 -0.137403 -0.490954",
      "text/html": "<div>\n<style scoped>\n    .dataframe tbody tr th:only-of-type {\n        vertical-align: middle;\n    }\n\n    .dataframe tbody tr th {\n        vertical-align: top;\n    }\n\n    .dataframe thead th {\n        text-align: right;\n    }\n</style>\n<table border=\"1\" class=\"dataframe\">\n  <thead>\n    <tr style=\"text-align: right;\">\n      <th></th>\n      <th>Colorado</th>\n      <th>Texas</th>\n      <th>New York</th>\n      <th>Ohio</th>\n    </tr>\n  </thead>\n  <tbody>\n    <tr>\n      <th>2000</th>\n      <td>-0.098774</td>\n      <td>-0.079602</td>\n      <td>-0.623339</td>\n      <td>0.039665</td>\n    </tr>\n    <tr>\n      <th>2001</th>\n      <td>0.119563</td>\n      <td>0.062877</td>\n      <td>-0.137403</td>\n      <td>-0.490954</td>\n    </tr>\n  </tbody>\n</table>\n</div>"
     },
     "execution_count": 113,
     "metadata": {},
     "output_type": "execute_result"
    }
   ],
   "source": [
    "annual_frame"
   ],
   "metadata": {
    "collapsed": false,
    "pycharm": {
     "name": "#%%\n"
    }
   }
  },
  {
   "cell_type": "code",
   "execution_count": 108,
   "outputs": [
    {
     "data": {
      "text/plain": "DatetimeIndex(['2000-03-31', '2000-06-30', '2000-09-30', '2000-12-31'], dtype='datetime64[ns]', freq='Q-DEC')"
     },
     "execution_count": 108,
     "metadata": {},
     "output_type": "execute_result"
    }
   ],
   "source": [
    "pd.date_range('2000/1/1','2000/12/31',freq='Q-DEC')"
   ],
   "metadata": {
    "collapsed": false,
    "pycharm": {
     "name": "#%%\n"
    }
   }
  },
  {
   "cell_type": "code",
   "execution_count": null,
   "outputs": [],
   "source": [],
   "metadata": {
    "collapsed": false,
    "pycharm": {
     "name": "#%%\n"
    }
   }
  }
 ],
 "metadata": {
  "kernelspec": {
   "display_name": "Python 3",
   "language": "python",
   "name": "python3"
  },
  "language_info": {
   "codemirror_mode": {
    "name": "ipython",
    "version": 2
   },
   "file_extension": ".py",
   "mimetype": "text/x-python",
   "name": "python",
   "nbconvert_exporter": "python",
   "pygments_lexer": "ipython2",
   "version": "2.7.6"
  }
 },
 "nbformat": 4,
 "nbformat_minor": 0
}