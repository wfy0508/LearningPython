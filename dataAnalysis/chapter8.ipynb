{
 "cells": [
  {
   "cell_type": "markdown",
   "source": [
    "# 8 数据规整：连接、联合与重塑\n",
    "重点关注数据联合、连接以及重排"
   ],
   "metadata": {
    "collapsed": false,
    "pycharm": {
     "name": "#%% md\n"
    }
   }
  },
  {
   "cell_type": "markdown",
   "source": [
    "## 8.1 分层索引"
   ],
   "metadata": {
    "collapsed": false,
    "pycharm": {
     "name": "#%% md\n"
    }
   }
  },
  {
   "cell_type": "code",
   "execution_count": 1,
   "outputs": [],
   "source": [
    "import pandas as pd\n",
    "import numpy as np"
   ],
   "metadata": {
    "collapsed": false,
    "pycharm": {
     "name": "#%%\n"
    }
   }
  },
  {
   "cell_type": "code",
   "execution_count": 2,
   "outputs": [
    {
     "data": {
      "text/plain": "a  1    0.737238\n   2   -0.931812\n   3   -0.130993\nb  1   -1.167149\n   3   -0.166761\nc  1    0.283305\n   2    2.316861\nd  2    1.008046\n   3    1.943403\ndtype: float64"
     },
     "execution_count": 2,
     "metadata": {},
     "output_type": "execute_result"
    }
   ],
   "source": [
    "# 双层索引的Series\n",
    "data = pd.Series(np.random.randn(9),\n",
    "                 index=[['a', 'a', 'a', 'b', 'b', 'c', 'c', 'd', 'd'],\n",
    "                        [1, 2, 3, 1, 3, 1, 2, 2, 3]])\n",
    "data"
   ],
   "metadata": {
    "collapsed": false,
    "pycharm": {
     "name": "#%%\n"
    }
   }
  },
  {
   "cell_type": "code",
   "execution_count": 3,
   "outputs": [
    {
     "data": {
      "text/plain": "MultiIndex([('a', 1),\n            ('a', 2),\n            ('a', 3),\n            ('b', 1),\n            ('b', 3),\n            ('c', 1),\n            ('c', 2),\n            ('d', 2),\n            ('d', 3)],\n           )"
     },
     "execution_count": 3,
     "metadata": {},
     "output_type": "execute_result"
    }
   ],
   "source": [
    "data.index"
   ],
   "metadata": {
    "collapsed": false,
    "pycharm": {
     "name": "#%%\n"
    }
   }
  },
  {
   "cell_type": "code",
   "execution_count": 4,
   "outputs": [
    {
     "data": {
      "text/plain": "1   -1.167149\n3   -0.166761\ndtype: float64"
     },
     "execution_count": 4,
     "metadata": {},
     "output_type": "execute_result"
    }
   ],
   "source": [
    "# 使用分层索引可以简洁地选择出数据的子集\n",
    "data['b']"
   ],
   "metadata": {
    "collapsed": false,
    "pycharm": {
     "name": "#%%\n"
    }
   }
  },
  {
   "cell_type": "code",
   "execution_count": 5,
   "outputs": [
    {
     "data": {
      "text/plain": "b  1   -1.167149\n   3   -0.166761\nc  1    0.283305\n   2    2.316861\ndtype: float64"
     },
     "execution_count": 5,
     "metadata": {},
     "output_type": "execute_result"
    }
   ],
   "source": [
    "data['b':'c']"
   ],
   "metadata": {
    "collapsed": false,
    "pycharm": {
     "name": "#%%\n"
    }
   }
  },
  {
   "cell_type": "code",
   "execution_count": 6,
   "outputs": [
    {
     "data": {
      "text/plain": "b  1   -1.167149\n   3   -0.166761\nd  2    1.008046\n   3    1.943403\ndtype: float64"
     },
     "execution_count": 6,
     "metadata": {},
     "output_type": "execute_result"
    }
   ],
   "source": [
    "data.loc[['b', 'd']]"
   ],
   "metadata": {
    "collapsed": false,
    "pycharm": {
     "name": "#%%\n"
    }
   }
  },
  {
   "cell_type": "code",
   "execution_count": 7,
   "outputs": [
    {
     "data": {
      "text/plain": "a   -0.931812\nc    2.316861\nd    1.008046\ndtype: float64"
     },
     "execution_count": 7,
     "metadata": {},
     "output_type": "execute_result"
    }
   ],
   "source": [
    "# 内部层级中也可以选择，比如选择内层中索引为2的\n",
    "data.loc[:, 2]"
   ],
   "metadata": {
    "collapsed": false,
    "pycharm": {
     "name": "#%%\n"
    }
   }
  },
  {
   "cell_type": "code",
   "execution_count": 8,
   "outputs": [
    {
     "data": {
      "text/plain": "          1         2         3\na  0.737238 -0.931812 -0.130993\nb -1.167149       NaN -0.166761\nc  0.283305  2.316861       NaN\nd       NaN  1.008046  1.943403",
      "text/html": "<div>\n<style scoped>\n    .dataframe tbody tr th:only-of-type {\n        vertical-align: middle;\n    }\n\n    .dataframe tbody tr th {\n        vertical-align: top;\n    }\n\n    .dataframe thead th {\n        text-align: right;\n    }\n</style>\n<table border=\"1\" class=\"dataframe\">\n  <thead>\n    <tr style=\"text-align: right;\">\n      <th></th>\n      <th>1</th>\n      <th>2</th>\n      <th>3</th>\n    </tr>\n  </thead>\n  <tbody>\n    <tr>\n      <th>a</th>\n      <td>0.737238</td>\n      <td>-0.931812</td>\n      <td>-0.130993</td>\n    </tr>\n    <tr>\n      <th>b</th>\n      <td>-1.167149</td>\n      <td>NaN</td>\n      <td>-0.166761</td>\n    </tr>\n    <tr>\n      <th>c</th>\n      <td>0.283305</td>\n      <td>2.316861</td>\n      <td>NaN</td>\n    </tr>\n    <tr>\n      <th>d</th>\n      <td>NaN</td>\n      <td>1.008046</td>\n      <td>1.943403</td>\n    </tr>\n  </tbody>\n</table>\n</div>"
     },
     "execution_count": 8,
     "metadata": {},
     "output_type": "execute_result"
    }
   ],
   "source": [
    "# 重塑数据\n",
    "data.unstack()"
   ],
   "metadata": {
    "collapsed": false,
    "pycharm": {
     "name": "#%%\n"
    }
   }
  },
  {
   "cell_type": "code",
   "execution_count": 9,
   "outputs": [
    {
     "data": {
      "text/plain": "State      Ohio     California\nColor     Green Red      Green\nkey1 key2                     \na    1        0   1          2\n     2        3   4          5\nb    1        6   7          8\n     2        9  10         11",
      "text/html": "<div>\n<style scoped>\n    .dataframe tbody tr th:only-of-type {\n        vertical-align: middle;\n    }\n\n    .dataframe tbody tr th {\n        vertical-align: top;\n    }\n\n    .dataframe thead tr th {\n        text-align: left;\n    }\n\n    .dataframe thead tr:last-of-type th {\n        text-align: right;\n    }\n</style>\n<table border=\"1\" class=\"dataframe\">\n  <thead>\n    <tr>\n      <th></th>\n      <th>State</th>\n      <th colspan=\"2\" halign=\"left\">Ohio</th>\n      <th>California</th>\n    </tr>\n    <tr>\n      <th></th>\n      <th>Color</th>\n      <th>Green</th>\n      <th>Red</th>\n      <th>Green</th>\n    </tr>\n    <tr>\n      <th>key1</th>\n      <th>key2</th>\n      <th></th>\n      <th></th>\n      <th></th>\n    </tr>\n  </thead>\n  <tbody>\n    <tr>\n      <th rowspan=\"2\" valign=\"top\">a</th>\n      <th>1</th>\n      <td>0</td>\n      <td>1</td>\n      <td>2</td>\n    </tr>\n    <tr>\n      <th>2</th>\n      <td>3</td>\n      <td>4</td>\n      <td>5</td>\n    </tr>\n    <tr>\n      <th rowspan=\"2\" valign=\"top\">b</th>\n      <th>1</th>\n      <td>6</td>\n      <td>7</td>\n      <td>8</td>\n    </tr>\n    <tr>\n      <th>2</th>\n      <td>9</td>\n      <td>10</td>\n      <td>11</td>\n    </tr>\n  </tbody>\n</table>\n</div>"
     },
     "execution_count": 9,
     "metadata": {},
     "output_type": "execute_result"
    }
   ],
   "source": [
    "# 在DataFrame中，每个轴都可以有分层索引\n",
    "df = pd.DataFrame(np.arange(12).reshape(4, 3),\n",
    "                  index=[['a', 'a', 'b', 'b'], [1, 2, 1, 2]],\n",
    "                  columns=[['Ohio', 'Ohio', 'California'], ['Green', 'Red', 'Green']])\n",
    "df.index.names = ['key1', 'key2']\n",
    "df.columns.names = ['State', 'Color']\n",
    "df"
   ],
   "metadata": {
    "collapsed": false,
    "pycharm": {
     "name": "#%%\n"
    }
   }
  },
  {
   "cell_type": "code",
   "execution_count": 10,
   "outputs": [
    {
     "data": {
      "text/plain": "Color      Green  Red\nkey1 key2            \na    1         0    1\n     2         3    4\nb    1         6    7\n     2         9   10",
      "text/html": "<div>\n<style scoped>\n    .dataframe tbody tr th:only-of-type {\n        vertical-align: middle;\n    }\n\n    .dataframe tbody tr th {\n        vertical-align: top;\n    }\n\n    .dataframe thead th {\n        text-align: right;\n    }\n</style>\n<table border=\"1\" class=\"dataframe\">\n  <thead>\n    <tr style=\"text-align: right;\">\n      <th></th>\n      <th>Color</th>\n      <th>Green</th>\n      <th>Red</th>\n    </tr>\n    <tr>\n      <th>key1</th>\n      <th>key2</th>\n      <th></th>\n      <th></th>\n    </tr>\n  </thead>\n  <tbody>\n    <tr>\n      <th rowspan=\"2\" valign=\"top\">a</th>\n      <th>1</th>\n      <td>0</td>\n      <td>1</td>\n    </tr>\n    <tr>\n      <th>2</th>\n      <td>3</td>\n      <td>4</td>\n    </tr>\n    <tr>\n      <th rowspan=\"2\" valign=\"top\">b</th>\n      <th>1</th>\n      <td>6</td>\n      <td>7</td>\n    </tr>\n    <tr>\n      <th>2</th>\n      <td>9</td>\n      <td>10</td>\n    </tr>\n  </tbody>\n</table>\n</div>"
     },
     "execution_count": 10,
     "metadata": {},
     "output_type": "execute_result"
    }
   ],
   "source": [
    "# 筛选出数据\n",
    "df['Ohio']"
   ],
   "metadata": {
    "collapsed": false,
    "pycharm": {
     "name": "#%%\n"
    }
   }
  },
  {
   "cell_type": "code",
   "execution_count": 11,
   "outputs": [
    {
     "data": {
      "text/plain": "State  Ohio     California\nColor Green Red      Green\nkey2                      \n1         0   1          2\n2         3   4          5",
      "text/html": "<div>\n<style scoped>\n    .dataframe tbody tr th:only-of-type {\n        vertical-align: middle;\n    }\n\n    .dataframe tbody tr th {\n        vertical-align: top;\n    }\n\n    .dataframe thead tr th {\n        text-align: left;\n    }\n\n    .dataframe thead tr:last-of-type th {\n        text-align: right;\n    }\n</style>\n<table border=\"1\" class=\"dataframe\">\n  <thead>\n    <tr>\n      <th>State</th>\n      <th colspan=\"2\" halign=\"left\">Ohio</th>\n      <th>California</th>\n    </tr>\n    <tr>\n      <th>Color</th>\n      <th>Green</th>\n      <th>Red</th>\n      <th>Green</th>\n    </tr>\n    <tr>\n      <th>key2</th>\n      <th></th>\n      <th></th>\n      <th></th>\n    </tr>\n  </thead>\n  <tbody>\n    <tr>\n      <th>1</th>\n      <td>0</td>\n      <td>1</td>\n      <td>2</td>\n    </tr>\n    <tr>\n      <th>2</th>\n      <td>3</td>\n      <td>4</td>\n      <td>5</td>\n    </tr>\n  </tbody>\n</table>\n</div>"
     },
     "execution_count": 11,
     "metadata": {},
     "output_type": "execute_result"
    }
   ],
   "source": [
    "df.loc['a']"
   ],
   "metadata": {
    "collapsed": false,
    "pycharm": {
     "name": "#%%\n"
    }
   }
  },
  {
   "cell_type": "code",
   "execution_count": 12,
   "outputs": [],
   "source": [
    "from pandas import MultiIndex\n",
    "\n",
    "columns = MultiIndex.from_arrays([['Ohio', 'Ohio', 'California'], ['Green', 'Red', 'Green']],\n",
    "                                 names=['State', 'Color'])\n",
    "indexes = MultiIndex.from_arrays([['a', 'a', 'b', 'b'], [1, 2, 1, 2]],\n",
    "                                 names=['key1', 'key2'])"
   ],
   "metadata": {
    "collapsed": false,
    "pycharm": {
     "name": "#%%\n"
    }
   }
  },
  {
   "cell_type": "code",
   "execution_count": 13,
   "outputs": [],
   "source": [
    "df2 = pd.DataFrame(np.arange(12).reshape(4, 3),\n",
    "                   columns=columns,\n",
    "                   index=indexes)"
   ],
   "metadata": {
    "collapsed": false,
    "pycharm": {
     "name": "#%%\n"
    }
   }
  },
  {
   "cell_type": "code",
   "execution_count": 14,
   "outputs": [
    {
     "data": {
      "text/plain": "State      Ohio     California\nColor     Green Red      Green\nkey1 key2                     \na    1        0   1          2\n     2        3   4          5\nb    1        6   7          8\n     2        9  10         11",
      "text/html": "<div>\n<style scoped>\n    .dataframe tbody tr th:only-of-type {\n        vertical-align: middle;\n    }\n\n    .dataframe tbody tr th {\n        vertical-align: top;\n    }\n\n    .dataframe thead tr th {\n        text-align: left;\n    }\n\n    .dataframe thead tr:last-of-type th {\n        text-align: right;\n    }\n</style>\n<table border=\"1\" class=\"dataframe\">\n  <thead>\n    <tr>\n      <th></th>\n      <th>State</th>\n      <th colspan=\"2\" halign=\"left\">Ohio</th>\n      <th>California</th>\n    </tr>\n    <tr>\n      <th></th>\n      <th>Color</th>\n      <th>Green</th>\n      <th>Red</th>\n      <th>Green</th>\n    </tr>\n    <tr>\n      <th>key1</th>\n      <th>key2</th>\n      <th></th>\n      <th></th>\n      <th></th>\n    </tr>\n  </thead>\n  <tbody>\n    <tr>\n      <th rowspan=\"2\" valign=\"top\">a</th>\n      <th>1</th>\n      <td>0</td>\n      <td>1</td>\n      <td>2</td>\n    </tr>\n    <tr>\n      <th>2</th>\n      <td>3</td>\n      <td>4</td>\n      <td>5</td>\n    </tr>\n    <tr>\n      <th rowspan=\"2\" valign=\"top\">b</th>\n      <th>1</th>\n      <td>6</td>\n      <td>7</td>\n      <td>8</td>\n    </tr>\n    <tr>\n      <th>2</th>\n      <td>9</td>\n      <td>10</td>\n      <td>11</td>\n    </tr>\n  </tbody>\n</table>\n</div>"
     },
     "execution_count": 14,
     "metadata": {},
     "output_type": "execute_result"
    }
   ],
   "source": [
    "df2"
   ],
   "metadata": {
    "collapsed": false,
    "pycharm": {
     "name": "#%%\n"
    }
   }
  },
  {
   "cell_type": "markdown",
   "source": [
    "### 8.1.1 重排序和层级排序"
   ],
   "metadata": {
    "collapsed": false,
    "pycharm": {
     "name": "#%% md\n"
    }
   }
  },
  {
   "cell_type": "code",
   "execution_count": 15,
   "outputs": [
    {
     "data": {
      "text/plain": "State      Ohio     California\nColor     Green Red      Green\nkey2 key1                     \n1    a        0   1          2\n2    a        3   4          5\n1    b        6   7          8\n2    b        9  10         11",
      "text/html": "<div>\n<style scoped>\n    .dataframe tbody tr th:only-of-type {\n        vertical-align: middle;\n    }\n\n    .dataframe tbody tr th {\n        vertical-align: top;\n    }\n\n    .dataframe thead tr th {\n        text-align: left;\n    }\n\n    .dataframe thead tr:last-of-type th {\n        text-align: right;\n    }\n</style>\n<table border=\"1\" class=\"dataframe\">\n  <thead>\n    <tr>\n      <th></th>\n      <th>State</th>\n      <th colspan=\"2\" halign=\"left\">Ohio</th>\n      <th>California</th>\n    </tr>\n    <tr>\n      <th></th>\n      <th>Color</th>\n      <th>Green</th>\n      <th>Red</th>\n      <th>Green</th>\n    </tr>\n    <tr>\n      <th>key2</th>\n      <th>key1</th>\n      <th></th>\n      <th></th>\n      <th></th>\n    </tr>\n  </thead>\n  <tbody>\n    <tr>\n      <th>1</th>\n      <th>a</th>\n      <td>0</td>\n      <td>1</td>\n      <td>2</td>\n    </tr>\n    <tr>\n      <th>2</th>\n      <th>a</th>\n      <td>3</td>\n      <td>4</td>\n      <td>5</td>\n    </tr>\n    <tr>\n      <th>1</th>\n      <th>b</th>\n      <td>6</td>\n      <td>7</td>\n      <td>8</td>\n    </tr>\n    <tr>\n      <th>2</th>\n      <th>b</th>\n      <td>9</td>\n      <td>10</td>\n      <td>11</td>\n    </tr>\n  </tbody>\n</table>\n</div>"
     },
     "execution_count": 15,
     "metadata": {},
     "output_type": "execute_result"
    }
   ],
   "source": [
    "# 重新排列轴上的层级顺序,\n",
    "# swaplevel接收两个层级序号或层级名称，返回一个层级变更的新对象\n",
    "df2.swaplevel('key1', 'key2')"
   ],
   "metadata": {
    "collapsed": false,
    "pycharm": {
     "name": "#%%\n"
    }
   }
  },
  {
   "cell_type": "code",
   "execution_count": 16,
   "outputs": [
    {
     "data": {
      "text/plain": "State      Ohio     California\nColor     Green Red      Green\nkey1 key2                     \nb    2        9  10         11\n     1        6   7          8\na    2        3   4          5\n     1        0   1          2",
      "text/html": "<div>\n<style scoped>\n    .dataframe tbody tr th:only-of-type {\n        vertical-align: middle;\n    }\n\n    .dataframe tbody tr th {\n        vertical-align: top;\n    }\n\n    .dataframe thead tr th {\n        text-align: left;\n    }\n\n    .dataframe thead tr:last-of-type th {\n        text-align: right;\n    }\n</style>\n<table border=\"1\" class=\"dataframe\">\n  <thead>\n    <tr>\n      <th></th>\n      <th>State</th>\n      <th colspan=\"2\" halign=\"left\">Ohio</th>\n      <th>California</th>\n    </tr>\n    <tr>\n      <th></th>\n      <th>Color</th>\n      <th>Green</th>\n      <th>Red</th>\n      <th>Green</th>\n    </tr>\n    <tr>\n      <th>key1</th>\n      <th>key2</th>\n      <th></th>\n      <th></th>\n      <th></th>\n    </tr>\n  </thead>\n  <tbody>\n    <tr>\n      <th rowspan=\"2\" valign=\"top\">b</th>\n      <th>2</th>\n      <td>9</td>\n      <td>10</td>\n      <td>11</td>\n    </tr>\n    <tr>\n      <th>1</th>\n      <td>6</td>\n      <td>7</td>\n      <td>8</td>\n    </tr>\n    <tr>\n      <th rowspan=\"2\" valign=\"top\">a</th>\n      <th>2</th>\n      <td>3</td>\n      <td>4</td>\n      <td>5</td>\n    </tr>\n    <tr>\n      <th>1</th>\n      <td>0</td>\n      <td>1</td>\n      <td>2</td>\n    </tr>\n  </tbody>\n</table>\n</div>"
     },
     "execution_count": 16,
     "metadata": {},
     "output_type": "execute_result"
    }
   ],
   "source": [
    "# level=0表示第一层(key1)，level=1表示第二层(key2)\n",
    "# 如果索引按照字典顺序从最外层开始排序，那么数据选择性能会更好\n",
    "df2.sort_index(level=0, ascending=False)"
   ],
   "metadata": {
    "collapsed": false,
    "pycharm": {
     "name": "#%%\n"
    }
   }
  },
  {
   "cell_type": "markdown",
   "source": [
    "### 8.1.2 按层级进行汇总统计\n",
    "Series和DataFrame上很多描述性和统计行统计有一个level选项，通过level可以指定要在某个特定的轴上进行聚合"
   ],
   "metadata": {
    "collapsed": false,
    "pycharm": {
     "name": "#%% md\n"
    }
   }
  },
  {
   "cell_type": "code",
   "execution_count": 17,
   "outputs": [
    {
     "data": {
      "text/plain": "State  Ohio     California\nColor Green Red      Green\nkey1                      \na         3   5          7\nb        15  17         19",
      "text/html": "<div>\n<style scoped>\n    .dataframe tbody tr th:only-of-type {\n        vertical-align: middle;\n    }\n\n    .dataframe tbody tr th {\n        vertical-align: top;\n    }\n\n    .dataframe thead tr th {\n        text-align: left;\n    }\n\n    .dataframe thead tr:last-of-type th {\n        text-align: right;\n    }\n</style>\n<table border=\"1\" class=\"dataframe\">\n  <thead>\n    <tr>\n      <th>State</th>\n      <th colspan=\"2\" halign=\"left\">Ohio</th>\n      <th>California</th>\n    </tr>\n    <tr>\n      <th>Color</th>\n      <th>Green</th>\n      <th>Red</th>\n      <th>Green</th>\n    </tr>\n    <tr>\n      <th>key1</th>\n      <th></th>\n      <th></th>\n      <th></th>\n    </tr>\n  </thead>\n  <tbody>\n    <tr>\n      <th>a</th>\n      <td>3</td>\n      <td>5</td>\n      <td>7</td>\n    </tr>\n    <tr>\n      <th>b</th>\n      <td>15</td>\n      <td>17</td>\n      <td>19</td>\n    </tr>\n  </tbody>\n</table>\n</div>"
     },
     "execution_count": 17,
     "metadata": {},
     "output_type": "execute_result"
    }
   ],
   "source": [
    "df2.groupby(level='key1').sum()"
   ],
   "metadata": {
    "collapsed": false,
    "pycharm": {
     "name": "#%%\n"
    }
   }
  },
  {
   "cell_type": "code",
   "execution_count": 18,
   "outputs": [
    {
     "data": {
      "text/plain": "Color      Green  Red\nkey1 key2            \na    1         2    1\n     2         8    4\nb    1        14    7\n     2        20   10",
      "text/html": "<div>\n<style scoped>\n    .dataframe tbody tr th:only-of-type {\n        vertical-align: middle;\n    }\n\n    .dataframe tbody tr th {\n        vertical-align: top;\n    }\n\n    .dataframe thead th {\n        text-align: right;\n    }\n</style>\n<table border=\"1\" class=\"dataframe\">\n  <thead>\n    <tr style=\"text-align: right;\">\n      <th></th>\n      <th>Color</th>\n      <th>Green</th>\n      <th>Red</th>\n    </tr>\n    <tr>\n      <th>key1</th>\n      <th>key2</th>\n      <th></th>\n      <th></th>\n    </tr>\n  </thead>\n  <tbody>\n    <tr>\n      <th rowspan=\"2\" valign=\"top\">a</th>\n      <th>1</th>\n      <td>2</td>\n      <td>1</td>\n    </tr>\n    <tr>\n      <th>2</th>\n      <td>8</td>\n      <td>4</td>\n    </tr>\n    <tr>\n      <th rowspan=\"2\" valign=\"top\">b</th>\n      <th>1</th>\n      <td>14</td>\n      <td>7</td>\n    </tr>\n    <tr>\n      <th>2</th>\n      <td>20</td>\n      <td>10</td>\n    </tr>\n  </tbody>\n</table>\n</div>"
     },
     "execution_count": 18,
     "metadata": {},
     "output_type": "execute_result"
    }
   ],
   "source": [
    "df2.groupby(level='Color', axis=1).sum()"
   ],
   "metadata": {
    "collapsed": false,
    "pycharm": {
     "name": "#%%\n"
    }
   }
  },
  {
   "cell_type": "markdown",
   "source": [
    "### 8.1.3 使用DataFrame的列进行索引"
   ],
   "metadata": {
    "collapsed": false,
    "pycharm": {
     "name": "#%% md\n"
    }
   }
  },
  {
   "cell_type": "code",
   "execution_count": 19,
   "outputs": [
    {
     "data": {
      "text/plain": "   a  b    c  d\n0  0  7  one  0\n1  1  6  one  1\n2  2  5  one  2\n3  3  4  two  0\n4  4  3  two  1\n5  5  2  two  2\n6  6  1  two  3",
      "text/html": "<div>\n<style scoped>\n    .dataframe tbody tr th:only-of-type {\n        vertical-align: middle;\n    }\n\n    .dataframe tbody tr th {\n        vertical-align: top;\n    }\n\n    .dataframe thead th {\n        text-align: right;\n    }\n</style>\n<table border=\"1\" class=\"dataframe\">\n  <thead>\n    <tr style=\"text-align: right;\">\n      <th></th>\n      <th>a</th>\n      <th>b</th>\n      <th>c</th>\n      <th>d</th>\n    </tr>\n  </thead>\n  <tbody>\n    <tr>\n      <th>0</th>\n      <td>0</td>\n      <td>7</td>\n      <td>one</td>\n      <td>0</td>\n    </tr>\n    <tr>\n      <th>1</th>\n      <td>1</td>\n      <td>6</td>\n      <td>one</td>\n      <td>1</td>\n    </tr>\n    <tr>\n      <th>2</th>\n      <td>2</td>\n      <td>5</td>\n      <td>one</td>\n      <td>2</td>\n    </tr>\n    <tr>\n      <th>3</th>\n      <td>3</td>\n      <td>4</td>\n      <td>two</td>\n      <td>0</td>\n    </tr>\n    <tr>\n      <th>4</th>\n      <td>4</td>\n      <td>3</td>\n      <td>two</td>\n      <td>1</td>\n    </tr>\n    <tr>\n      <th>5</th>\n      <td>5</td>\n      <td>2</td>\n      <td>two</td>\n      <td>2</td>\n    </tr>\n    <tr>\n      <th>6</th>\n      <td>6</td>\n      <td>1</td>\n      <td>two</td>\n      <td>3</td>\n    </tr>\n  </tbody>\n</table>\n</div>"
     },
     "execution_count": 19,
     "metadata": {},
     "output_type": "execute_result"
    }
   ],
   "source": [
    "df3 = pd.DataFrame({'a': range(7),\n",
    "                    'b': range(7, 0, -1),\n",
    "                    'c': ['one', 'one', 'one', 'two', 'two', 'two', 'two'],\n",
    "                    'd': [0, 1, 2, 0, 1, 2, 3]})\n",
    "df3"
   ],
   "metadata": {
    "collapsed": false,
    "pycharm": {
     "name": "#%%\n"
    }
   }
  },
  {
   "cell_type": "code",
   "execution_count": 20,
   "outputs": [
    {
     "data": {
      "text/plain": "       a  b\nc   d      \none 0  0  7\n    1  1  6\n    2  2  5\ntwo 0  3  4\n    1  4  3\n    2  5  2\n    3  6  1",
      "text/html": "<div>\n<style scoped>\n    .dataframe tbody tr th:only-of-type {\n        vertical-align: middle;\n    }\n\n    .dataframe tbody tr th {\n        vertical-align: top;\n    }\n\n    .dataframe thead th {\n        text-align: right;\n    }\n</style>\n<table border=\"1\" class=\"dataframe\">\n  <thead>\n    <tr style=\"text-align: right;\">\n      <th></th>\n      <th></th>\n      <th>a</th>\n      <th>b</th>\n    </tr>\n    <tr>\n      <th>c</th>\n      <th>d</th>\n      <th></th>\n      <th></th>\n    </tr>\n  </thead>\n  <tbody>\n    <tr>\n      <th rowspan=\"3\" valign=\"top\">one</th>\n      <th>0</th>\n      <td>0</td>\n      <td>7</td>\n    </tr>\n    <tr>\n      <th>1</th>\n      <td>1</td>\n      <td>6</td>\n    </tr>\n    <tr>\n      <th>2</th>\n      <td>2</td>\n      <td>5</td>\n    </tr>\n    <tr>\n      <th rowspan=\"4\" valign=\"top\">two</th>\n      <th>0</th>\n      <td>3</td>\n      <td>4</td>\n    </tr>\n    <tr>\n      <th>1</th>\n      <td>4</td>\n      <td>3</td>\n    </tr>\n    <tr>\n      <th>2</th>\n      <td>5</td>\n      <td>2</td>\n    </tr>\n    <tr>\n      <th>3</th>\n      <td>6</td>\n      <td>1</td>\n    </tr>\n  </tbody>\n</table>\n</div>"
     },
     "execution_count": 20,
     "metadata": {},
     "output_type": "execute_result"
    }
   ],
   "source": [
    "df3.set_index(['c', 'd'])"
   ],
   "metadata": {
    "collapsed": false,
    "pycharm": {
     "name": "#%%\n"
    }
   }
  },
  {
   "cell_type": "code",
   "execution_count": 21,
   "outputs": [
    {
     "data": {
      "text/plain": "       a  b    c  d\nc   d              \none 0  0  7  one  0\n    1  1  6  one  1\n    2  2  5  one  2\ntwo 0  3  4  two  0\n    1  4  3  two  1\n    2  5  2  two  2\n    3  6  1  two  3",
      "text/html": "<div>\n<style scoped>\n    .dataframe tbody tr th:only-of-type {\n        vertical-align: middle;\n    }\n\n    .dataframe tbody tr th {\n        vertical-align: top;\n    }\n\n    .dataframe thead th {\n        text-align: right;\n    }\n</style>\n<table border=\"1\" class=\"dataframe\">\n  <thead>\n    <tr style=\"text-align: right;\">\n      <th></th>\n      <th></th>\n      <th>a</th>\n      <th>b</th>\n      <th>c</th>\n      <th>d</th>\n    </tr>\n    <tr>\n      <th>c</th>\n      <th>d</th>\n      <th></th>\n      <th></th>\n      <th></th>\n      <th></th>\n    </tr>\n  </thead>\n  <tbody>\n    <tr>\n      <th rowspan=\"3\" valign=\"top\">one</th>\n      <th>0</th>\n      <td>0</td>\n      <td>7</td>\n      <td>one</td>\n      <td>0</td>\n    </tr>\n    <tr>\n      <th>1</th>\n      <td>1</td>\n      <td>6</td>\n      <td>one</td>\n      <td>1</td>\n    </tr>\n    <tr>\n      <th>2</th>\n      <td>2</td>\n      <td>5</td>\n      <td>one</td>\n      <td>2</td>\n    </tr>\n    <tr>\n      <th rowspan=\"4\" valign=\"top\">two</th>\n      <th>0</th>\n      <td>3</td>\n      <td>4</td>\n      <td>two</td>\n      <td>0</td>\n    </tr>\n    <tr>\n      <th>1</th>\n      <td>4</td>\n      <td>3</td>\n      <td>two</td>\n      <td>1</td>\n    </tr>\n    <tr>\n      <th>2</th>\n      <td>5</td>\n      <td>2</td>\n      <td>two</td>\n      <td>2</td>\n    </tr>\n    <tr>\n      <th>3</th>\n      <td>6</td>\n      <td>1</td>\n      <td>two</td>\n      <td>3</td>\n    </tr>\n  </tbody>\n</table>\n</div>"
     },
     "execution_count": 21,
     "metadata": {},
     "output_type": "execute_result"
    }
   ],
   "source": [
    "# 默认情况下，设置为index的列会从DataFrame中移除，也可以保留\n",
    "df3.set_index(['c', 'd'], drop=False)"
   ],
   "metadata": {
    "collapsed": false,
    "pycharm": {
     "name": "#%%\n"
    }
   }
  },
  {
   "cell_type": "code",
   "execution_count": 22,
   "outputs": [
    {
     "data": {
      "text/plain": "     c  d  a  b\n0  one  0  0  7\n1  one  1  1  6\n2  one  2  2  5\n3  two  0  3  4\n4  two  1  4  3\n5  two  2  5  2\n6  two  3  6  1",
      "text/html": "<div>\n<style scoped>\n    .dataframe tbody tr th:only-of-type {\n        vertical-align: middle;\n    }\n\n    .dataframe tbody tr th {\n        vertical-align: top;\n    }\n\n    .dataframe thead th {\n        text-align: right;\n    }\n</style>\n<table border=\"1\" class=\"dataframe\">\n  <thead>\n    <tr style=\"text-align: right;\">\n      <th></th>\n      <th>c</th>\n      <th>d</th>\n      <th>a</th>\n      <th>b</th>\n    </tr>\n  </thead>\n  <tbody>\n    <tr>\n      <th>0</th>\n      <td>one</td>\n      <td>0</td>\n      <td>0</td>\n      <td>7</td>\n    </tr>\n    <tr>\n      <th>1</th>\n      <td>one</td>\n      <td>1</td>\n      <td>1</td>\n      <td>6</td>\n    </tr>\n    <tr>\n      <th>2</th>\n      <td>one</td>\n      <td>2</td>\n      <td>2</td>\n      <td>5</td>\n    </tr>\n    <tr>\n      <th>3</th>\n      <td>two</td>\n      <td>0</td>\n      <td>3</td>\n      <td>4</td>\n    </tr>\n    <tr>\n      <th>4</th>\n      <td>two</td>\n      <td>1</td>\n      <td>4</td>\n      <td>3</td>\n    </tr>\n    <tr>\n      <th>5</th>\n      <td>two</td>\n      <td>2</td>\n      <td>5</td>\n      <td>2</td>\n    </tr>\n    <tr>\n      <th>6</th>\n      <td>two</td>\n      <td>3</td>\n      <td>6</td>\n      <td>1</td>\n    </tr>\n  </tbody>\n</table>\n</div>"
     },
     "execution_count": 22,
     "metadata": {},
     "output_type": "execute_result"
    }
   ],
   "source": [
    "# reset_index是set_index的反向操作\n",
    "df4 = df3.set_index(['c', 'd'])\n",
    "df4.reset_index()"
   ],
   "metadata": {
    "collapsed": false,
    "pycharm": {
     "name": "#%%\n"
    }
   }
  },
  {
   "cell_type": "markdown",
   "source": [
    "## 8.2 联合与合并数据集"
   ],
   "metadata": {
    "collapsed": false,
    "pycharm": {
     "name": "#%% md\n"
    }
   }
  },
  {
   "cell_type": "code",
   "execution_count": 23,
   "outputs": [
    {
     "data": {
      "text/plain": "  key  data1\n0   b      0\n1   b      1\n2   a      2\n3   c      3\n4   a      4\n5   a      5\n6   b      6",
      "text/html": "<div>\n<style scoped>\n    .dataframe tbody tr th:only-of-type {\n        vertical-align: middle;\n    }\n\n    .dataframe tbody tr th {\n        vertical-align: top;\n    }\n\n    .dataframe thead th {\n        text-align: right;\n    }\n</style>\n<table border=\"1\" class=\"dataframe\">\n  <thead>\n    <tr style=\"text-align: right;\">\n      <th></th>\n      <th>key</th>\n      <th>data1</th>\n    </tr>\n  </thead>\n  <tbody>\n    <tr>\n      <th>0</th>\n      <td>b</td>\n      <td>0</td>\n    </tr>\n    <tr>\n      <th>1</th>\n      <td>b</td>\n      <td>1</td>\n    </tr>\n    <tr>\n      <th>2</th>\n      <td>a</td>\n      <td>2</td>\n    </tr>\n    <tr>\n      <th>3</th>\n      <td>c</td>\n      <td>3</td>\n    </tr>\n    <tr>\n      <th>4</th>\n      <td>a</td>\n      <td>4</td>\n    </tr>\n    <tr>\n      <th>5</th>\n      <td>a</td>\n      <td>5</td>\n    </tr>\n    <tr>\n      <th>6</th>\n      <td>b</td>\n      <td>6</td>\n    </tr>\n  </tbody>\n</table>\n</div>"
     },
     "execution_count": 23,
     "metadata": {},
     "output_type": "execute_result"
    }
   ],
   "source": [
    "# 数据库风格的DataFrame连接\n",
    "df1 = pd.DataFrame({'key': ['b', 'b', 'a', 'c', 'a', 'a', 'b'],\n",
    "                    'data1': range(7)})\n",
    "df2 = pd.DataFrame({'key': ['a', 'b', 'd'],\n",
    "                    'data2': range(3)})\n",
    "df1"
   ],
   "metadata": {
    "collapsed": false,
    "pycharm": {
     "name": "#%%\n"
    }
   }
  },
  {
   "cell_type": "code",
   "execution_count": 24,
   "outputs": [
    {
     "data": {
      "text/plain": "  key  data2\n0   a      0\n1   b      1\n2   d      2",
      "text/html": "<div>\n<style scoped>\n    .dataframe tbody tr th:only-of-type {\n        vertical-align: middle;\n    }\n\n    .dataframe tbody tr th {\n        vertical-align: top;\n    }\n\n    .dataframe thead th {\n        text-align: right;\n    }\n</style>\n<table border=\"1\" class=\"dataframe\">\n  <thead>\n    <tr style=\"text-align: right;\">\n      <th></th>\n      <th>key</th>\n      <th>data2</th>\n    </tr>\n  </thead>\n  <tbody>\n    <tr>\n      <th>0</th>\n      <td>a</td>\n      <td>0</td>\n    </tr>\n    <tr>\n      <th>1</th>\n      <td>b</td>\n      <td>1</td>\n    </tr>\n    <tr>\n      <th>2</th>\n      <td>d</td>\n      <td>2</td>\n    </tr>\n  </tbody>\n</table>\n</div>"
     },
     "execution_count": 24,
     "metadata": {},
     "output_type": "execute_result"
    }
   ],
   "source": [
    "df2"
   ],
   "metadata": {
    "collapsed": false,
    "pycharm": {
     "name": "#%%\n"
    }
   }
  },
  {
   "cell_type": "code",
   "execution_count": 25,
   "outputs": [
    {
     "data": {
      "text/plain": "  key  data1  data2\n0   b      0      1\n1   b      1      1\n2   b      6      1\n3   a      2      0\n4   a      4      0\n5   a      5      0",
      "text/html": "<div>\n<style scoped>\n    .dataframe tbody tr th:only-of-type {\n        vertical-align: middle;\n    }\n\n    .dataframe tbody tr th {\n        vertical-align: top;\n    }\n\n    .dataframe thead th {\n        text-align: right;\n    }\n</style>\n<table border=\"1\" class=\"dataframe\">\n  <thead>\n    <tr style=\"text-align: right;\">\n      <th></th>\n      <th>key</th>\n      <th>data1</th>\n      <th>data2</th>\n    </tr>\n  </thead>\n  <tbody>\n    <tr>\n      <th>0</th>\n      <td>b</td>\n      <td>0</td>\n      <td>1</td>\n    </tr>\n    <tr>\n      <th>1</th>\n      <td>b</td>\n      <td>1</td>\n      <td>1</td>\n    </tr>\n    <tr>\n      <th>2</th>\n      <td>b</td>\n      <td>6</td>\n      <td>1</td>\n    </tr>\n    <tr>\n      <th>3</th>\n      <td>a</td>\n      <td>2</td>\n      <td>0</td>\n    </tr>\n    <tr>\n      <th>4</th>\n      <td>a</td>\n      <td>4</td>\n      <td>0</td>\n    </tr>\n    <tr>\n      <th>5</th>\n      <td>a</td>\n      <td>5</td>\n      <td>0</td>\n    </tr>\n  </tbody>\n</table>\n</div>"
     },
     "execution_count": 25,
     "metadata": {},
     "output_type": "execute_result"
    }
   ],
   "source": [
    "# 使用pd.merge连接\n",
    "pd.merge(df1, df2, on='key')"
   ],
   "metadata": {
    "collapsed": false,
    "pycharm": {
     "name": "#%%\n"
    }
   }
  },
  {
   "cell_type": "code",
   "execution_count": 26,
   "outputs": [
    {
     "data": {
      "text/plain": "  lkey  data1 rkey  data2\n0    b      0    b      1\n1    b      1    b      1\n2    b      6    b      1\n3    a      2    a      0\n4    a      4    a      0\n5    a      5    a      0",
      "text/html": "<div>\n<style scoped>\n    .dataframe tbody tr th:only-of-type {\n        vertical-align: middle;\n    }\n\n    .dataframe tbody tr th {\n        vertical-align: top;\n    }\n\n    .dataframe thead th {\n        text-align: right;\n    }\n</style>\n<table border=\"1\" class=\"dataframe\">\n  <thead>\n    <tr style=\"text-align: right;\">\n      <th></th>\n      <th>lkey</th>\n      <th>data1</th>\n      <th>rkey</th>\n      <th>data2</th>\n    </tr>\n  </thead>\n  <tbody>\n    <tr>\n      <th>0</th>\n      <td>b</td>\n      <td>0</td>\n      <td>b</td>\n      <td>1</td>\n    </tr>\n    <tr>\n      <th>1</th>\n      <td>b</td>\n      <td>1</td>\n      <td>b</td>\n      <td>1</td>\n    </tr>\n    <tr>\n      <th>2</th>\n      <td>b</td>\n      <td>6</td>\n      <td>b</td>\n      <td>1</td>\n    </tr>\n    <tr>\n      <th>3</th>\n      <td>a</td>\n      <td>2</td>\n      <td>a</td>\n      <td>0</td>\n    </tr>\n    <tr>\n      <th>4</th>\n      <td>a</td>\n      <td>4</td>\n      <td>a</td>\n      <td>0</td>\n    </tr>\n    <tr>\n      <th>5</th>\n      <td>a</td>\n      <td>5</td>\n      <td>a</td>\n      <td>0</td>\n    </tr>\n  </tbody>\n</table>\n</div>"
     },
     "execution_count": 26,
     "metadata": {},
     "output_type": "execute_result"
    }
   ],
   "source": [
    "# 如果列名不同，可以手动指定连接列\n",
    "df3 = pd.DataFrame({'lkey': ['b', 'b', 'a', 'c', 'a', 'a', 'b'],\n",
    "                    'data1': range(7)})\n",
    "df4 = pd.DataFrame({'rkey': ['a', 'b', 'd'],\n",
    "                    'data2': range(3)})\n",
    "pd.merge(df3, df4, left_on='lkey', right_on='rkey')"
   ],
   "metadata": {
    "collapsed": false,
    "pycharm": {
     "name": "#%%\n"
    }
   }
  },
  {
   "cell_type": "code",
   "execution_count": 27,
   "outputs": [
    {
     "data": {
      "text/plain": "  lkey  data1 rkey  data2\n0    b    0.0    b    1.0\n1    b    1.0    b    1.0\n2    b    6.0    b    1.0\n3    a    2.0    a    0.0\n4    a    4.0    a    0.0\n5    a    5.0    a    0.0\n6    c    3.0  NaN    NaN\n7  NaN    NaN    d    2.0",
      "text/html": "<div>\n<style scoped>\n    .dataframe tbody tr th:only-of-type {\n        vertical-align: middle;\n    }\n\n    .dataframe tbody tr th {\n        vertical-align: top;\n    }\n\n    .dataframe thead th {\n        text-align: right;\n    }\n</style>\n<table border=\"1\" class=\"dataframe\">\n  <thead>\n    <tr style=\"text-align: right;\">\n      <th></th>\n      <th>lkey</th>\n      <th>data1</th>\n      <th>rkey</th>\n      <th>data2</th>\n    </tr>\n  </thead>\n  <tbody>\n    <tr>\n      <th>0</th>\n      <td>b</td>\n      <td>0.0</td>\n      <td>b</td>\n      <td>1.0</td>\n    </tr>\n    <tr>\n      <th>1</th>\n      <td>b</td>\n      <td>1.0</td>\n      <td>b</td>\n      <td>1.0</td>\n    </tr>\n    <tr>\n      <th>2</th>\n      <td>b</td>\n      <td>6.0</td>\n      <td>b</td>\n      <td>1.0</td>\n    </tr>\n    <tr>\n      <th>3</th>\n      <td>a</td>\n      <td>2.0</td>\n      <td>a</td>\n      <td>0.0</td>\n    </tr>\n    <tr>\n      <th>4</th>\n      <td>a</td>\n      <td>4.0</td>\n      <td>a</td>\n      <td>0.0</td>\n    </tr>\n    <tr>\n      <th>5</th>\n      <td>a</td>\n      <td>5.0</td>\n      <td>a</td>\n      <td>0.0</td>\n    </tr>\n    <tr>\n      <th>6</th>\n      <td>c</td>\n      <td>3.0</td>\n      <td>NaN</td>\n      <td>NaN</td>\n    </tr>\n    <tr>\n      <th>7</th>\n      <td>NaN</td>\n      <td>NaN</td>\n      <td>d</td>\n      <td>2.0</td>\n    </tr>\n  </tbody>\n</table>\n</div>"
     },
     "execution_count": 27,
     "metadata": {},
     "output_type": "execute_result"
    }
   ],
   "source": [
    "# pd.merge默认情况下是内连接，取交集\n",
    "# 可以指定连接方式 outer为外连接，取并集\n",
    "pd.merge(df3, df4, how='outer', left_on='lkey', right_on='rkey')"
   ],
   "metadata": {
    "collapsed": false,
    "pycharm": {
     "name": "#%%\n"
    }
   }
  },
  {
   "cell_type": "code",
   "execution_count": 28,
   "outputs": [
    {
     "data": {
      "text/plain": "  key1 key2  lval_x  lval_y\n0  foo  one     1.0     4.0\n1  foo  one     1.0     5.0\n2  foo  two     2.0     NaN\n3  bar  one     3.0     6.0\n4  bar  two     NaN     7.0",
      "text/html": "<div>\n<style scoped>\n    .dataframe tbody tr th:only-of-type {\n        vertical-align: middle;\n    }\n\n    .dataframe tbody tr th {\n        vertical-align: top;\n    }\n\n    .dataframe thead th {\n        text-align: right;\n    }\n</style>\n<table border=\"1\" class=\"dataframe\">\n  <thead>\n    <tr style=\"text-align: right;\">\n      <th></th>\n      <th>key1</th>\n      <th>key2</th>\n      <th>lval_x</th>\n      <th>lval_y</th>\n    </tr>\n  </thead>\n  <tbody>\n    <tr>\n      <th>0</th>\n      <td>foo</td>\n      <td>one</td>\n      <td>1.0</td>\n      <td>4.0</td>\n    </tr>\n    <tr>\n      <th>1</th>\n      <td>foo</td>\n      <td>one</td>\n      <td>1.0</td>\n      <td>5.0</td>\n    </tr>\n    <tr>\n      <th>2</th>\n      <td>foo</td>\n      <td>two</td>\n      <td>2.0</td>\n      <td>NaN</td>\n    </tr>\n    <tr>\n      <th>3</th>\n      <td>bar</td>\n      <td>one</td>\n      <td>3.0</td>\n      <td>6.0</td>\n    </tr>\n    <tr>\n      <th>4</th>\n      <td>bar</td>\n      <td>two</td>\n      <td>NaN</td>\n      <td>7.0</td>\n    </tr>\n  </tbody>\n</table>\n</div>"
     },
     "execution_count": 28,
     "metadata": {},
     "output_type": "execute_result"
    }
   ],
   "source": [
    "# 使用多键合并时，传入一个列名的列表\n",
    "left = pd.DataFrame({'key1': ['foo', 'foo', 'bar'],\n",
    "                     'key2': ['one', 'two', 'one'],\n",
    "                     'lval': [1, 2, 3]})\n",
    "right = pd.DataFrame({'key1': ['foo', 'foo', 'bar', 'bar'],\n",
    "                      'key2': ['one', 'one', 'one', 'two'],\n",
    "                      'lval': [4, 5, 6, 7]})\n",
    "pd.merge(left, right, on=['key1', 'key2'], how='outer')"
   ],
   "metadata": {
    "collapsed": false,
    "pycharm": {
     "name": "#%%\n"
    }
   }
  },
  {
   "cell_type": "code",
   "execution_count": 29,
   "outputs": [
    {
     "data": {
      "text/plain": "  key1 key2_left  lval_left key2_right  lval_right\n0  foo       one          1        one           4\n1  foo       one          1        one           5\n2  foo       two          2        one           4\n3  foo       two          2        one           5\n4  bar       one          3        one           6\n5  bar       one          3        two           7",
      "text/html": "<div>\n<style scoped>\n    .dataframe tbody tr th:only-of-type {\n        vertical-align: middle;\n    }\n\n    .dataframe tbody tr th {\n        vertical-align: top;\n    }\n\n    .dataframe thead th {\n        text-align: right;\n    }\n</style>\n<table border=\"1\" class=\"dataframe\">\n  <thead>\n    <tr style=\"text-align: right;\">\n      <th></th>\n      <th>key1</th>\n      <th>key2_left</th>\n      <th>lval_left</th>\n      <th>key2_right</th>\n      <th>lval_right</th>\n    </tr>\n  </thead>\n  <tbody>\n    <tr>\n      <th>0</th>\n      <td>foo</td>\n      <td>one</td>\n      <td>1</td>\n      <td>one</td>\n      <td>4</td>\n    </tr>\n    <tr>\n      <th>1</th>\n      <td>foo</td>\n      <td>one</td>\n      <td>1</td>\n      <td>one</td>\n      <td>5</td>\n    </tr>\n    <tr>\n      <th>2</th>\n      <td>foo</td>\n      <td>two</td>\n      <td>2</td>\n      <td>one</td>\n      <td>4</td>\n    </tr>\n    <tr>\n      <th>3</th>\n      <td>foo</td>\n      <td>two</td>\n      <td>2</td>\n      <td>one</td>\n      <td>5</td>\n    </tr>\n    <tr>\n      <th>4</th>\n      <td>bar</td>\n      <td>one</td>\n      <td>3</td>\n      <td>one</td>\n      <td>6</td>\n    </tr>\n    <tr>\n      <th>5</th>\n      <td>bar</td>\n      <td>one</td>\n      <td>3</td>\n      <td>two</td>\n      <td>7</td>\n    </tr>\n  </tbody>\n</table>\n</div>"
     },
     "execution_count": 29,
     "metadata": {},
     "output_type": "execute_result"
    }
   ],
   "source": [
    "# 处理重叠的列名，使用suffixes参数\n",
    "pd.merge(left, right, on='key1', suffixes=('_left', '_right'))"
   ],
   "metadata": {
    "collapsed": false,
    "pycharm": {
     "name": "#%%\n"
    }
   }
  },
  {
   "cell_type": "markdown",
   "source": [
    "### 8.2.2 根据索引合并"
   ],
   "metadata": {
    "collapsed": false,
    "pycharm": {
     "name": "#%% md\n"
    }
   }
  },
  {
   "cell_type": "code",
   "execution_count": 30,
   "outputs": [
    {
     "data": {
      "text/plain": "  key  value  group_val\n0   a      0        3.5\n2   a      2        3.5\n3   a      3        3.5\n1   b      1        7.0\n4   b      4        7.0",
      "text/html": "<div>\n<style scoped>\n    .dataframe tbody tr th:only-of-type {\n        vertical-align: middle;\n    }\n\n    .dataframe tbody tr th {\n        vertical-align: top;\n    }\n\n    .dataframe thead th {\n        text-align: right;\n    }\n</style>\n<table border=\"1\" class=\"dataframe\">\n  <thead>\n    <tr style=\"text-align: right;\">\n      <th></th>\n      <th>key</th>\n      <th>value</th>\n      <th>group_val</th>\n    </tr>\n  </thead>\n  <tbody>\n    <tr>\n      <th>0</th>\n      <td>a</td>\n      <td>0</td>\n      <td>3.5</td>\n    </tr>\n    <tr>\n      <th>2</th>\n      <td>a</td>\n      <td>2</td>\n      <td>3.5</td>\n    </tr>\n    <tr>\n      <th>3</th>\n      <td>a</td>\n      <td>3</td>\n      <td>3.5</td>\n    </tr>\n    <tr>\n      <th>1</th>\n      <td>b</td>\n      <td>1</td>\n      <td>7.0</td>\n    </tr>\n    <tr>\n      <th>4</th>\n      <td>b</td>\n      <td>4</td>\n      <td>7.0</td>\n    </tr>\n  </tbody>\n</table>\n</div>"
     },
     "execution_count": 30,
     "metadata": {},
     "output_type": "execute_result"
    }
   ],
   "source": [
    "left1 = pd.DataFrame({'key': ['a', 'b', 'a', 'a', 'b', 'c'],\n",
    "                      'value': range(6)})\n",
    "right1 = pd.DataFrame({'group_val': [3.5, 7]},\n",
    "                      index=['a', 'b'])\n",
    "# left_index=True或者right_index=True表示需要用来作为合并的键\n",
    "pd.merge(left1, right1, left_on='key', right_index=True)"
   ],
   "metadata": {
    "collapsed": false,
    "pycharm": {
     "name": "#%%\n"
    }
   }
  },
  {
   "cell_type": "code",
   "execution_count": 31,
   "outputs": [
    {
     "data": {
      "text/plain": "  key  value  group_val\n0   a      0        3.5\n2   a      2        3.5\n3   a      3        3.5\n1   b      1        7.0\n4   b      4        7.0\n5   c      5        NaN",
      "text/html": "<div>\n<style scoped>\n    .dataframe tbody tr th:only-of-type {\n        vertical-align: middle;\n    }\n\n    .dataframe tbody tr th {\n        vertical-align: top;\n    }\n\n    .dataframe thead th {\n        text-align: right;\n    }\n</style>\n<table border=\"1\" class=\"dataframe\">\n  <thead>\n    <tr style=\"text-align: right;\">\n      <th></th>\n      <th>key</th>\n      <th>value</th>\n      <th>group_val</th>\n    </tr>\n  </thead>\n  <tbody>\n    <tr>\n      <th>0</th>\n      <td>a</td>\n      <td>0</td>\n      <td>3.5</td>\n    </tr>\n    <tr>\n      <th>2</th>\n      <td>a</td>\n      <td>2</td>\n      <td>3.5</td>\n    </tr>\n    <tr>\n      <th>3</th>\n      <td>a</td>\n      <td>3</td>\n      <td>3.5</td>\n    </tr>\n    <tr>\n      <th>1</th>\n      <td>b</td>\n      <td>1</td>\n      <td>7.0</td>\n    </tr>\n    <tr>\n      <th>4</th>\n      <td>b</td>\n      <td>4</td>\n      <td>7.0</td>\n    </tr>\n    <tr>\n      <th>5</th>\n      <td>c</td>\n      <td>5</td>\n      <td>NaN</td>\n    </tr>\n  </tbody>\n</table>\n</div>"
     },
     "execution_count": 31,
     "metadata": {},
     "output_type": "execute_result"
    }
   ],
   "source": [
    "pd.merge(left1, right1, left_on='key', right_index=True, how='outer')"
   ],
   "metadata": {
    "collapsed": false,
    "pycharm": {
     "name": "#%%\n"
    }
   }
  },
  {
   "cell_type": "code",
   "execution_count": 32,
   "outputs": [
    {
     "data": {
      "text/plain": "     key1  key2  data\n0    Ohio  2000   0.0\n1    Ohio  2001   1.0\n2    Ohio  2002   2.0\n3  Nevada  2001   3.0\n4  Nevada  2002   4.0",
      "text/html": "<div>\n<style scoped>\n    .dataframe tbody tr th:only-of-type {\n        vertical-align: middle;\n    }\n\n    .dataframe tbody tr th {\n        vertical-align: top;\n    }\n\n    .dataframe thead th {\n        text-align: right;\n    }\n</style>\n<table border=\"1\" class=\"dataframe\">\n  <thead>\n    <tr style=\"text-align: right;\">\n      <th></th>\n      <th>key1</th>\n      <th>key2</th>\n      <th>data</th>\n    </tr>\n  </thead>\n  <tbody>\n    <tr>\n      <th>0</th>\n      <td>Ohio</td>\n      <td>2000</td>\n      <td>0.0</td>\n    </tr>\n    <tr>\n      <th>1</th>\n      <td>Ohio</td>\n      <td>2001</td>\n      <td>1.0</td>\n    </tr>\n    <tr>\n      <th>2</th>\n      <td>Ohio</td>\n      <td>2002</td>\n      <td>2.0</td>\n    </tr>\n    <tr>\n      <th>3</th>\n      <td>Nevada</td>\n      <td>2001</td>\n      <td>3.0</td>\n    </tr>\n    <tr>\n      <th>4</th>\n      <td>Nevada</td>\n      <td>2002</td>\n      <td>4.0</td>\n    </tr>\n  </tbody>\n</table>\n</div>"
     },
     "execution_count": 32,
     "metadata": {},
     "output_type": "execute_result"
    }
   ],
   "source": [
    "# 在多层索引的情况下，事情会变的更复杂，在索引上的连接是一个隐式的多键合并\n",
    "df1 = pd.DataFrame({'key1': ['Ohio', 'Ohio', 'Ohio', 'Nevada', 'Nevada'],\n",
    "                    'key2': [2000, 2001, 2002, 2001, 2002],\n",
    "                    'data': np.arange(5.)})\n",
    "df2 = pd.DataFrame(np.arange(12).reshape(6, 2),\n",
    "                   index=[['Nevada', 'Nevada', 'Ohio', 'Ohio', 'Ohio', 'Ohio'],\n",
    "                          [2001, 2000, 2000, 2000, 2001, 2002]])\n",
    "df1"
   ],
   "metadata": {
    "collapsed": false,
    "pycharm": {
     "name": "#%%\n"
    }
   }
  },
  {
   "cell_type": "code",
   "execution_count": 33,
   "outputs": [
    {
     "data": {
      "text/plain": "              0   1\nNevada 2001   0   1\n       2000   2   3\nOhio   2000   4   5\n       2000   6   7\n       2001   8   9\n       2002  10  11",
      "text/html": "<div>\n<style scoped>\n    .dataframe tbody tr th:only-of-type {\n        vertical-align: middle;\n    }\n\n    .dataframe tbody tr th {\n        vertical-align: top;\n    }\n\n    .dataframe thead th {\n        text-align: right;\n    }\n</style>\n<table border=\"1\" class=\"dataframe\">\n  <thead>\n    <tr style=\"text-align: right;\">\n      <th></th>\n      <th></th>\n      <th>0</th>\n      <th>1</th>\n    </tr>\n  </thead>\n  <tbody>\n    <tr>\n      <th rowspan=\"2\" valign=\"top\">Nevada</th>\n      <th>2001</th>\n      <td>0</td>\n      <td>1</td>\n    </tr>\n    <tr>\n      <th>2000</th>\n      <td>2</td>\n      <td>3</td>\n    </tr>\n    <tr>\n      <th rowspan=\"4\" valign=\"top\">Ohio</th>\n      <th>2000</th>\n      <td>4</td>\n      <td>5</td>\n    </tr>\n    <tr>\n      <th>2000</th>\n      <td>6</td>\n      <td>7</td>\n    </tr>\n    <tr>\n      <th>2001</th>\n      <td>8</td>\n      <td>9</td>\n    </tr>\n    <tr>\n      <th>2002</th>\n      <td>10</td>\n      <td>11</td>\n    </tr>\n  </tbody>\n</table>\n</div>"
     },
     "execution_count": 33,
     "metadata": {},
     "output_type": "execute_result"
    }
   ],
   "source": [
    "df2"
   ],
   "metadata": {
    "collapsed": false,
    "pycharm": {
     "name": "#%%\n"
    }
   }
  },
  {
   "cell_type": "code",
   "execution_count": 34,
   "outputs": [
    {
     "data": {
      "text/plain": "     key1  key2  data     0     1\n0    Ohio  2000   0.0   4.0   5.0\n0    Ohio  2000   0.0   6.0   7.0\n1    Ohio  2001   1.0   8.0   9.0\n2    Ohio  2002   2.0  10.0  11.0\n3  Nevada  2001   3.0   0.0   1.0\n4  Nevada  2002   4.0   NaN   NaN\n4  Nevada  2000   NaN   2.0   3.0",
      "text/html": "<div>\n<style scoped>\n    .dataframe tbody tr th:only-of-type {\n        vertical-align: middle;\n    }\n\n    .dataframe tbody tr th {\n        vertical-align: top;\n    }\n\n    .dataframe thead th {\n        text-align: right;\n    }\n</style>\n<table border=\"1\" class=\"dataframe\">\n  <thead>\n    <tr style=\"text-align: right;\">\n      <th></th>\n      <th>key1</th>\n      <th>key2</th>\n      <th>data</th>\n      <th>0</th>\n      <th>1</th>\n    </tr>\n  </thead>\n  <tbody>\n    <tr>\n      <th>0</th>\n      <td>Ohio</td>\n      <td>2000</td>\n      <td>0.0</td>\n      <td>4.0</td>\n      <td>5.0</td>\n    </tr>\n    <tr>\n      <th>0</th>\n      <td>Ohio</td>\n      <td>2000</td>\n      <td>0.0</td>\n      <td>6.0</td>\n      <td>7.0</td>\n    </tr>\n    <tr>\n      <th>1</th>\n      <td>Ohio</td>\n      <td>2001</td>\n      <td>1.0</td>\n      <td>8.0</td>\n      <td>9.0</td>\n    </tr>\n    <tr>\n      <th>2</th>\n      <td>Ohio</td>\n      <td>2002</td>\n      <td>2.0</td>\n      <td>10.0</td>\n      <td>11.0</td>\n    </tr>\n    <tr>\n      <th>3</th>\n      <td>Nevada</td>\n      <td>2001</td>\n      <td>3.0</td>\n      <td>0.0</td>\n      <td>1.0</td>\n    </tr>\n    <tr>\n      <th>4</th>\n      <td>Nevada</td>\n      <td>2002</td>\n      <td>4.0</td>\n      <td>NaN</td>\n      <td>NaN</td>\n    </tr>\n    <tr>\n      <th>4</th>\n      <td>Nevada</td>\n      <td>2000</td>\n      <td>NaN</td>\n      <td>2.0</td>\n      <td>3.0</td>\n    </tr>\n  </tbody>\n</table>\n</div>"
     },
     "execution_count": 34,
     "metadata": {},
     "output_type": "execute_result"
    }
   ],
   "source": [
    "# 对于多重索引合并的情况，需要以列表的形式指明合并所需的多个列\n",
    "pd.merge(df1, df2, left_on=['key1', 'key2'], right_index=True, how='outer')"
   ],
   "metadata": {
    "collapsed": false,
    "pycharm": {
     "name": "#%%\n"
    }
   }
  },
  {
   "cell_type": "code",
   "execution_count": 35,
   "outputs": [
    {
     "data": {
      "text/plain": "   Ohio  Nevada\na     1       2\nc     3       4\ne     5       6",
      "text/html": "<div>\n<style scoped>\n    .dataframe tbody tr th:only-of-type {\n        vertical-align: middle;\n    }\n\n    .dataframe tbody tr th {\n        vertical-align: top;\n    }\n\n    .dataframe thead th {\n        text-align: right;\n    }\n</style>\n<table border=\"1\" class=\"dataframe\">\n  <thead>\n    <tr style=\"text-align: right;\">\n      <th></th>\n      <th>Ohio</th>\n      <th>Nevada</th>\n    </tr>\n  </thead>\n  <tbody>\n    <tr>\n      <th>a</th>\n      <td>1</td>\n      <td>2</td>\n    </tr>\n    <tr>\n      <th>c</th>\n      <td>3</td>\n      <td>4</td>\n    </tr>\n    <tr>\n      <th>e</th>\n      <td>5</td>\n      <td>6</td>\n    </tr>\n  </tbody>\n</table>\n</div>"
     },
     "execution_count": 35,
     "metadata": {},
     "output_type": "execute_result"
    }
   ],
   "source": [
    "# 使用两边的索引合并也是可以的\n",
    "df3 = pd.DataFrame([[1, 2], [3, 4], [5, 6]],\n",
    "                   index=['a', 'c', 'e'],\n",
    "                   columns=['Ohio', 'Nevada'])\n",
    "df4 = pd.DataFrame([[7, 8], [9, 10], [11, 12], [13, 14]],\n",
    "                   index=['b', 'c', 'd', 'e'],\n",
    "                   columns=['Missouri', 'Alabama'])\n",
    "df3"
   ],
   "metadata": {
    "collapsed": false,
    "pycharm": {
     "name": "#%%\n"
    }
   }
  },
  {
   "cell_type": "code",
   "execution_count": 36,
   "outputs": [
    {
     "data": {
      "text/plain": "   Missouri  Alabama\nb         7        8\nc         9       10\nd        11       12\ne        13       14",
      "text/html": "<div>\n<style scoped>\n    .dataframe tbody tr th:only-of-type {\n        vertical-align: middle;\n    }\n\n    .dataframe tbody tr th {\n        vertical-align: top;\n    }\n\n    .dataframe thead th {\n        text-align: right;\n    }\n</style>\n<table border=\"1\" class=\"dataframe\">\n  <thead>\n    <tr style=\"text-align: right;\">\n      <th></th>\n      <th>Missouri</th>\n      <th>Alabama</th>\n    </tr>\n  </thead>\n  <tbody>\n    <tr>\n      <th>b</th>\n      <td>7</td>\n      <td>8</td>\n    </tr>\n    <tr>\n      <th>c</th>\n      <td>9</td>\n      <td>10</td>\n    </tr>\n    <tr>\n      <th>d</th>\n      <td>11</td>\n      <td>12</td>\n    </tr>\n    <tr>\n      <th>e</th>\n      <td>13</td>\n      <td>14</td>\n    </tr>\n  </tbody>\n</table>\n</div>"
     },
     "execution_count": 36,
     "metadata": {},
     "output_type": "execute_result"
    }
   ],
   "source": [
    "df4"
   ],
   "metadata": {
    "collapsed": false,
    "pycharm": {
     "name": "#%%\n"
    }
   }
  },
  {
   "cell_type": "code",
   "execution_count": 37,
   "outputs": [
    {
     "data": {
      "text/plain": "   Ohio  Nevada  Missouri  Alabama\na   1.0     2.0       NaN      NaN\nb   NaN     NaN       7.0      8.0\nc   3.0     4.0       9.0     10.0\nd   NaN     NaN      11.0     12.0\ne   5.0     6.0      13.0     14.0",
      "text/html": "<div>\n<style scoped>\n    .dataframe tbody tr th:only-of-type {\n        vertical-align: middle;\n    }\n\n    .dataframe tbody tr th {\n        vertical-align: top;\n    }\n\n    .dataframe thead th {\n        text-align: right;\n    }\n</style>\n<table border=\"1\" class=\"dataframe\">\n  <thead>\n    <tr style=\"text-align: right;\">\n      <th></th>\n      <th>Ohio</th>\n      <th>Nevada</th>\n      <th>Missouri</th>\n      <th>Alabama</th>\n    </tr>\n  </thead>\n  <tbody>\n    <tr>\n      <th>a</th>\n      <td>1.0</td>\n      <td>2.0</td>\n      <td>NaN</td>\n      <td>NaN</td>\n    </tr>\n    <tr>\n      <th>b</th>\n      <td>NaN</td>\n      <td>NaN</td>\n      <td>7.0</td>\n      <td>8.0</td>\n    </tr>\n    <tr>\n      <th>c</th>\n      <td>3.0</td>\n      <td>4.0</td>\n      <td>9.0</td>\n      <td>10.0</td>\n    </tr>\n    <tr>\n      <th>d</th>\n      <td>NaN</td>\n      <td>NaN</td>\n      <td>11.0</td>\n      <td>12.0</td>\n    </tr>\n    <tr>\n      <th>e</th>\n      <td>5.0</td>\n      <td>6.0</td>\n      <td>13.0</td>\n      <td>14.0</td>\n    </tr>\n  </tbody>\n</table>\n</div>"
     },
     "execution_count": 37,
     "metadata": {},
     "output_type": "execute_result"
    }
   ],
   "source": [
    "pd.merge(df3, df4, how='outer', left_index=True, right_index=True)"
   ],
   "metadata": {
    "collapsed": false,
    "pycharm": {
     "name": "#%%\n"
    }
   }
  },
  {
   "cell_type": "code",
   "execution_count": 38,
   "outputs": [
    {
     "data": {
      "text/plain": "   Ohio  Nevada  Missouri  Alabama\na   1.0     2.0       NaN      NaN\nb   NaN     NaN       7.0      8.0\nc   3.0     4.0       9.0     10.0\nd   NaN     NaN      11.0     12.0\ne   5.0     6.0      13.0     14.0",
      "text/html": "<div>\n<style scoped>\n    .dataframe tbody tr th:only-of-type {\n        vertical-align: middle;\n    }\n\n    .dataframe tbody tr th {\n        vertical-align: top;\n    }\n\n    .dataframe thead th {\n        text-align: right;\n    }\n</style>\n<table border=\"1\" class=\"dataframe\">\n  <thead>\n    <tr style=\"text-align: right;\">\n      <th></th>\n      <th>Ohio</th>\n      <th>Nevada</th>\n      <th>Missouri</th>\n      <th>Alabama</th>\n    </tr>\n  </thead>\n  <tbody>\n    <tr>\n      <th>a</th>\n      <td>1.0</td>\n      <td>2.0</td>\n      <td>NaN</td>\n      <td>NaN</td>\n    </tr>\n    <tr>\n      <th>b</th>\n      <td>NaN</td>\n      <td>NaN</td>\n      <td>7.0</td>\n      <td>8.0</td>\n    </tr>\n    <tr>\n      <th>c</th>\n      <td>3.0</td>\n      <td>4.0</td>\n      <td>9.0</td>\n      <td>10.0</td>\n    </tr>\n    <tr>\n      <th>d</th>\n      <td>NaN</td>\n      <td>NaN</td>\n      <td>11.0</td>\n      <td>12.0</td>\n    </tr>\n    <tr>\n      <th>e</th>\n      <td>5.0</td>\n      <td>6.0</td>\n      <td>13.0</td>\n      <td>14.0</td>\n    </tr>\n  </tbody>\n</table>\n</div>"
     },
     "execution_count": 38,
     "metadata": {},
     "output_type": "execute_result"
    }
   ],
   "source": [
    "# 也可以使用join方法\n",
    "df3.join(df4, how='outer')"
   ],
   "metadata": {
    "collapsed": false,
    "pycharm": {
     "name": "#%%\n"
    }
   }
  },
  {
   "cell_type": "code",
   "execution_count": 39,
   "outputs": [
    {
     "data": {
      "text/plain": "   Ohio  Nevada  Missouri  Alabama\na     1       2       NaN      NaN\nc     3       4       9.0     10.0\ne     5       6      13.0     14.0",
      "text/html": "<div>\n<style scoped>\n    .dataframe tbody tr th:only-of-type {\n        vertical-align: middle;\n    }\n\n    .dataframe tbody tr th {\n        vertical-align: top;\n    }\n\n    .dataframe thead th {\n        text-align: right;\n    }\n</style>\n<table border=\"1\" class=\"dataframe\">\n  <thead>\n    <tr style=\"text-align: right;\">\n      <th></th>\n      <th>Ohio</th>\n      <th>Nevada</th>\n      <th>Missouri</th>\n      <th>Alabama</th>\n    </tr>\n  </thead>\n  <tbody>\n    <tr>\n      <th>a</th>\n      <td>1</td>\n      <td>2</td>\n      <td>NaN</td>\n      <td>NaN</td>\n    </tr>\n    <tr>\n      <th>c</th>\n      <td>3</td>\n      <td>4</td>\n      <td>9.0</td>\n      <td>10.0</td>\n    </tr>\n    <tr>\n      <th>e</th>\n      <td>5</td>\n      <td>6</td>\n      <td>13.0</td>\n      <td>14.0</td>\n    </tr>\n  </tbody>\n</table>\n</div>"
     },
     "execution_count": 39,
     "metadata": {},
     "output_type": "execute_result"
    }
   ],
   "source": [
    "df3.join(df4, how='left')"
   ],
   "metadata": {
    "collapsed": false,
    "pycharm": {
     "name": "#%%\n"
    }
   }
  },
  {
   "cell_type": "code",
   "execution_count": 40,
   "outputs": [
    {
     "data": {
      "text/plain": "   New York  Oregon\na         7       8\nc         9      10\ne        11      12\nf        16      17",
      "text/html": "<div>\n<style scoped>\n    .dataframe tbody tr th:only-of-type {\n        vertical-align: middle;\n    }\n\n    .dataframe tbody tr th {\n        vertical-align: top;\n    }\n\n    .dataframe thead th {\n        text-align: right;\n    }\n</style>\n<table border=\"1\" class=\"dataframe\">\n  <thead>\n    <tr style=\"text-align: right;\">\n      <th></th>\n      <th>New York</th>\n      <th>Oregon</th>\n    </tr>\n  </thead>\n  <tbody>\n    <tr>\n      <th>a</th>\n      <td>7</td>\n      <td>8</td>\n    </tr>\n    <tr>\n      <th>c</th>\n      <td>9</td>\n      <td>10</td>\n    </tr>\n    <tr>\n      <th>e</th>\n      <td>11</td>\n      <td>12</td>\n    </tr>\n    <tr>\n      <th>f</th>\n      <td>16</td>\n      <td>17</td>\n    </tr>\n  </tbody>\n</table>\n</div>"
     },
     "execution_count": 40,
     "metadata": {},
     "output_type": "execute_result"
    }
   ],
   "source": [
    "another = pd.DataFrame([[7, 8], [9, 10], [11, 12], [16, 17]],\n",
    "                       index=['a', 'c', 'e', 'f'],\n",
    "                       columns=['New York', 'Oregon'])\n",
    "another"
   ],
   "metadata": {
    "collapsed": false,
    "pycharm": {
     "name": "#%%\n"
    }
   }
  },
  {
   "cell_type": "code",
   "execution_count": 41,
   "outputs": [
    {
     "data": {
      "text/plain": "   Ohio  Nevada  Missouri  Alabama  New York  Oregon\na   1.0     2.0       NaN      NaN       7.0     8.0\nc   3.0     4.0       9.0     10.0       9.0    10.0\ne   5.0     6.0      13.0     14.0      11.0    12.0",
      "text/html": "<div>\n<style scoped>\n    .dataframe tbody tr th:only-of-type {\n        vertical-align: middle;\n    }\n\n    .dataframe tbody tr th {\n        vertical-align: top;\n    }\n\n    .dataframe thead th {\n        text-align: right;\n    }\n</style>\n<table border=\"1\" class=\"dataframe\">\n  <thead>\n    <tr style=\"text-align: right;\">\n      <th></th>\n      <th>Ohio</th>\n      <th>Nevada</th>\n      <th>Missouri</th>\n      <th>Alabama</th>\n      <th>New York</th>\n      <th>Oregon</th>\n    </tr>\n  </thead>\n  <tbody>\n    <tr>\n      <th>a</th>\n      <td>1.0</td>\n      <td>2.0</td>\n      <td>NaN</td>\n      <td>NaN</td>\n      <td>7.0</td>\n      <td>8.0</td>\n    </tr>\n    <tr>\n      <th>c</th>\n      <td>3.0</td>\n      <td>4.0</td>\n      <td>9.0</td>\n      <td>10.0</td>\n      <td>9.0</td>\n      <td>10.0</td>\n    </tr>\n    <tr>\n      <th>e</th>\n      <td>5.0</td>\n      <td>6.0</td>\n      <td>13.0</td>\n      <td>14.0</td>\n      <td>11.0</td>\n      <td>12.0</td>\n    </tr>\n  </tbody>\n</table>\n</div>"
     },
     "execution_count": 41,
     "metadata": {},
     "output_type": "execute_result"
    }
   ],
   "source": [
    "df3.join([df4, another])"
   ],
   "metadata": {
    "collapsed": false,
    "pycharm": {
     "name": "#%%\n"
    }
   }
  },
  {
   "cell_type": "code",
   "execution_count": 42,
   "outputs": [
    {
     "data": {
      "text/plain": "   Ohio  Nevada  Missouri  Alabama  New York  Oregon\na   1.0     2.0       NaN      NaN       7.0     8.0\nc   3.0     4.0       9.0     10.0       9.0    10.0\ne   5.0     6.0      13.0     14.0      11.0    12.0\nb   NaN     NaN       7.0      8.0       NaN     NaN\nd   NaN     NaN      11.0     12.0       NaN     NaN\nf   NaN     NaN       NaN      NaN      16.0    17.0",
      "text/html": "<div>\n<style scoped>\n    .dataframe tbody tr th:only-of-type {\n        vertical-align: middle;\n    }\n\n    .dataframe tbody tr th {\n        vertical-align: top;\n    }\n\n    .dataframe thead th {\n        text-align: right;\n    }\n</style>\n<table border=\"1\" class=\"dataframe\">\n  <thead>\n    <tr style=\"text-align: right;\">\n      <th></th>\n      <th>Ohio</th>\n      <th>Nevada</th>\n      <th>Missouri</th>\n      <th>Alabama</th>\n      <th>New York</th>\n      <th>Oregon</th>\n    </tr>\n  </thead>\n  <tbody>\n    <tr>\n      <th>a</th>\n      <td>1.0</td>\n      <td>2.0</td>\n      <td>NaN</td>\n      <td>NaN</td>\n      <td>7.0</td>\n      <td>8.0</td>\n    </tr>\n    <tr>\n      <th>c</th>\n      <td>3.0</td>\n      <td>4.0</td>\n      <td>9.0</td>\n      <td>10.0</td>\n      <td>9.0</td>\n      <td>10.0</td>\n    </tr>\n    <tr>\n      <th>e</th>\n      <td>5.0</td>\n      <td>6.0</td>\n      <td>13.0</td>\n      <td>14.0</td>\n      <td>11.0</td>\n      <td>12.0</td>\n    </tr>\n    <tr>\n      <th>b</th>\n      <td>NaN</td>\n      <td>NaN</td>\n      <td>7.0</td>\n      <td>8.0</td>\n      <td>NaN</td>\n      <td>NaN</td>\n    </tr>\n    <tr>\n      <th>d</th>\n      <td>NaN</td>\n      <td>NaN</td>\n      <td>11.0</td>\n      <td>12.0</td>\n      <td>NaN</td>\n      <td>NaN</td>\n    </tr>\n    <tr>\n      <th>f</th>\n      <td>NaN</td>\n      <td>NaN</td>\n      <td>NaN</td>\n      <td>NaN</td>\n      <td>16.0</td>\n      <td>17.0</td>\n    </tr>\n  </tbody>\n</table>\n</div>"
     },
     "execution_count": 42,
     "metadata": {},
     "output_type": "execute_result"
    }
   ],
   "source": [
    "df3.join([df4, another], how='outer')"
   ],
   "metadata": {
    "collapsed": false,
    "pycharm": {
     "name": "#%%\n"
    }
   }
  },
  {
   "cell_type": "code",
   "execution_count": 43,
   "outputs": [
    {
     "data": {
      "text/plain": "   Ohio  Nevada  Missouri  Alabama\nc     3       4         9       10\ne     5       6        13       14",
      "text/html": "<div>\n<style scoped>\n    .dataframe tbody tr th:only-of-type {\n        vertical-align: middle;\n    }\n\n    .dataframe tbody tr th {\n        vertical-align: top;\n    }\n\n    .dataframe thead th {\n        text-align: right;\n    }\n</style>\n<table border=\"1\" class=\"dataframe\">\n  <thead>\n    <tr style=\"text-align: right;\">\n      <th></th>\n      <th>Ohio</th>\n      <th>Nevada</th>\n      <th>Missouri</th>\n      <th>Alabama</th>\n    </tr>\n  </thead>\n  <tbody>\n    <tr>\n      <th>c</th>\n      <td>3</td>\n      <td>4</td>\n      <td>9</td>\n      <td>10</td>\n    </tr>\n    <tr>\n      <th>e</th>\n      <td>5</td>\n      <td>6</td>\n      <td>13</td>\n      <td>14</td>\n    </tr>\n  </tbody>\n</table>\n</div>"
     },
     "execution_count": 43,
     "metadata": {},
     "output_type": "execute_result"
    }
   ],
   "source": [
    "pd.merge(df3, df4, left_index=True, right_index=True)"
   ],
   "metadata": {
    "collapsed": false,
    "pycharm": {
     "name": "#%%\n"
    }
   }
  },
  {
   "cell_type": "markdown",
   "source": [
    "### 8.2.3 沿轴向连接"
   ],
   "metadata": {
    "collapsed": false,
    "pycharm": {
     "name": "#%% md\n"
    }
   }
  },
  {
   "cell_type": "code",
   "execution_count": 44,
   "outputs": [
    {
     "data": {
      "text/plain": "array([[ 0,  1,  2],\n       [ 3,  4,  5],\n       [ 6,  7,  8],\n       [ 9, 10, 11]])"
     },
     "execution_count": 44,
     "metadata": {},
     "output_type": "execute_result"
    }
   ],
   "source": [
    "# 拼接、绑定或堆叠\n",
    "arr = np.arange(12).reshape(4, 3)\n",
    "arr"
   ],
   "metadata": {
    "collapsed": false,
    "pycharm": {
     "name": "#%%\n"
    }
   }
  },
  {
   "cell_type": "code",
   "execution_count": 45,
   "outputs": [
    {
     "data": {
      "text/plain": "array([[ 0,  1,  2,  0,  1,  2],\n       [ 3,  4,  5,  3,  4,  5],\n       [ 6,  7,  8,  6,  7,  8],\n       [ 9, 10, 11,  9, 10, 11]])"
     },
     "execution_count": 45,
     "metadata": {},
     "output_type": "execute_result"
    }
   ],
   "source": [
    "# Numpy的拼接方法接收一个数组组成的列表\n",
    "np.concatenate([arr, arr], axis=1)"
   ],
   "metadata": {
    "collapsed": false,
    "pycharm": {
     "name": "#%%\n"
    }
   }
  },
  {
   "cell_type": "code",
   "execution_count": 46,
   "outputs": [
    {
     "data": {
      "text/plain": "a    0\nb    1\nc    2\nd    3\ne    4\nf    5\ng    7\ndtype: int64"
     },
     "execution_count": 46,
     "metadata": {},
     "output_type": "execute_result"
    }
   ],
   "source": [
    "# pandas的concat函数\n",
    "s1 = pd.Series([0, 1], index=['a', 'b'])\n",
    "s2 = pd.Series([2, 3, 4], index=['c', 'd', 'e'])\n",
    "s3 = pd.Series([5, 7], index=['f', 'g'])\n",
    "pd.concat([s1, s2, s3])  # 传入的对象是可迭代的，默认在0轴上进行连接"
   ],
   "metadata": {
    "collapsed": false,
    "pycharm": {
     "name": "#%%\n"
    }
   }
  },
  {
   "cell_type": "code",
   "execution_count": 47,
   "outputs": [
    {
     "data": {
      "text/plain": "     0    1    2\na  0.0  NaN  NaN\nb  1.0  NaN  NaN\nc  NaN  2.0  NaN\nd  NaN  3.0  NaN\ne  NaN  4.0  NaN\nf  NaN  NaN  5.0\ng  NaN  NaN  7.0",
      "text/html": "<div>\n<style scoped>\n    .dataframe tbody tr th:only-of-type {\n        vertical-align: middle;\n    }\n\n    .dataframe tbody tr th {\n        vertical-align: top;\n    }\n\n    .dataframe thead th {\n        text-align: right;\n    }\n</style>\n<table border=\"1\" class=\"dataframe\">\n  <thead>\n    <tr style=\"text-align: right;\">\n      <th></th>\n      <th>0</th>\n      <th>1</th>\n      <th>2</th>\n    </tr>\n  </thead>\n  <tbody>\n    <tr>\n      <th>a</th>\n      <td>0.0</td>\n      <td>NaN</td>\n      <td>NaN</td>\n    </tr>\n    <tr>\n      <th>b</th>\n      <td>1.0</td>\n      <td>NaN</td>\n      <td>NaN</td>\n    </tr>\n    <tr>\n      <th>c</th>\n      <td>NaN</td>\n      <td>2.0</td>\n      <td>NaN</td>\n    </tr>\n    <tr>\n      <th>d</th>\n      <td>NaN</td>\n      <td>3.0</td>\n      <td>NaN</td>\n    </tr>\n    <tr>\n      <th>e</th>\n      <td>NaN</td>\n      <td>4.0</td>\n      <td>NaN</td>\n    </tr>\n    <tr>\n      <th>f</th>\n      <td>NaN</td>\n      <td>NaN</td>\n      <td>5.0</td>\n    </tr>\n    <tr>\n      <th>g</th>\n      <td>NaN</td>\n      <td>NaN</td>\n      <td>7.0</td>\n    </tr>\n  </tbody>\n</table>\n</div>"
     },
     "execution_count": 47,
     "metadata": {},
     "output_type": "execute_result"
    }
   ],
   "source": [
    "pd.concat((s1, s2, s3), axis=1)"
   ],
   "metadata": {
    "collapsed": false,
    "pycharm": {
     "name": "#%%\n"
    }
   }
  },
  {
   "cell_type": "code",
   "execution_count": 48,
   "outputs": [
    {
     "data": {
      "text/plain": "one    a    0\n       b    1\ntwo    c    2\n       d    3\n       e    4\nthree  f    5\n       g    7\ndtype: int64"
     },
     "execution_count": 48,
     "metadata": {},
     "output_type": "execute_result"
    }
   ],
   "source": [
    "# 假如想在连接上创建多层索引\n",
    "# 添加的外层轴索引是和s1,s2,s3相关联的\n",
    "pd.concat([s1, s2, s3], keys=['one', 'two', 'three'])"
   ],
   "metadata": {
    "collapsed": false,
    "pycharm": {
     "name": "#%%\n"
    }
   }
  },
  {
   "cell_type": "code",
   "execution_count": 49,
   "outputs": [
    {
     "data": {
      "text/plain": "   one  two  three\na  0.0  NaN    NaN\nb  1.0  NaN    NaN\nc  NaN  2.0    NaN\nd  NaN  3.0    NaN\ne  NaN  4.0    NaN\nf  NaN  NaN    5.0\ng  NaN  NaN    7.0",
      "text/html": "<div>\n<style scoped>\n    .dataframe tbody tr th:only-of-type {\n        vertical-align: middle;\n    }\n\n    .dataframe tbody tr th {\n        vertical-align: top;\n    }\n\n    .dataframe thead th {\n        text-align: right;\n    }\n</style>\n<table border=\"1\" class=\"dataframe\">\n  <thead>\n    <tr style=\"text-align: right;\">\n      <th></th>\n      <th>one</th>\n      <th>two</th>\n      <th>three</th>\n    </tr>\n  </thead>\n  <tbody>\n    <tr>\n      <th>a</th>\n      <td>0.0</td>\n      <td>NaN</td>\n      <td>NaN</td>\n    </tr>\n    <tr>\n      <th>b</th>\n      <td>1.0</td>\n      <td>NaN</td>\n      <td>NaN</td>\n    </tr>\n    <tr>\n      <th>c</th>\n      <td>NaN</td>\n      <td>2.0</td>\n      <td>NaN</td>\n    </tr>\n    <tr>\n      <th>d</th>\n      <td>NaN</td>\n      <td>3.0</td>\n      <td>NaN</td>\n    </tr>\n    <tr>\n      <th>e</th>\n      <td>NaN</td>\n      <td>4.0</td>\n      <td>NaN</td>\n    </tr>\n    <tr>\n      <th>f</th>\n      <td>NaN</td>\n      <td>NaN</td>\n      <td>5.0</td>\n    </tr>\n    <tr>\n      <th>g</th>\n      <td>NaN</td>\n      <td>NaN</td>\n      <td>7.0</td>\n    </tr>\n  </tbody>\n</table>\n</div>"
     },
     "execution_count": 49,
     "metadata": {},
     "output_type": "execute_result"
    }
   ],
   "source": [
    "# 当沿着axis=1上添加时，就成了DataFrame的列头\n",
    "pd.concat([s1, s2, s3], keys=['one', 'two', 'three'], axis=1)"
   ],
   "metadata": {
    "collapsed": false,
    "pycharm": {
     "name": "#%%\n"
    }
   }
  },
  {
   "cell_type": "code",
   "execution_count": 50,
   "outputs": [
    {
     "data": {
      "text/plain": "   one  two\na    0    1\nb    2    3\nc    4    5",
      "text/html": "<div>\n<style scoped>\n    .dataframe tbody tr th:only-of-type {\n        vertical-align: middle;\n    }\n\n    .dataframe tbody tr th {\n        vertical-align: top;\n    }\n\n    .dataframe thead th {\n        text-align: right;\n    }\n</style>\n<table border=\"1\" class=\"dataframe\">\n  <thead>\n    <tr style=\"text-align: right;\">\n      <th></th>\n      <th>one</th>\n      <th>two</th>\n    </tr>\n  </thead>\n  <tbody>\n    <tr>\n      <th>a</th>\n      <td>0</td>\n      <td>1</td>\n    </tr>\n    <tr>\n      <th>b</th>\n      <td>2</td>\n      <td>3</td>\n    </tr>\n    <tr>\n      <th>c</th>\n      <td>4</td>\n      <td>5</td>\n    </tr>\n  </tbody>\n</table>\n</div>"
     },
     "execution_count": 50,
     "metadata": {},
     "output_type": "execute_result"
    }
   ],
   "source": [
    "# 相同的逻辑使用在DataFrame上\n",
    "df1 = pd.DataFrame(np.arange(6).reshape(3, 2),\n",
    "                   index=list('abc'),\n",
    "                   columns=['one', 'two'])\n",
    "df2 = pd.DataFrame(5 + np.arange(4).reshape(2, 2),\n",
    "                   index=list('ac'),\n",
    "                   columns=['three', 'four'])\n",
    "df1"
   ],
   "metadata": {
    "collapsed": false,
    "pycharm": {
     "name": "#%%\n"
    }
   }
  },
  {
   "cell_type": "code",
   "execution_count": 51,
   "outputs": [
    {
     "data": {
      "text/plain": "   three  four\na      5     6\nc      7     8",
      "text/html": "<div>\n<style scoped>\n    .dataframe tbody tr th:only-of-type {\n        vertical-align: middle;\n    }\n\n    .dataframe tbody tr th {\n        vertical-align: top;\n    }\n\n    .dataframe thead th {\n        text-align: right;\n    }\n</style>\n<table border=\"1\" class=\"dataframe\">\n  <thead>\n    <tr style=\"text-align: right;\">\n      <th></th>\n      <th>three</th>\n      <th>four</th>\n    </tr>\n  </thead>\n  <tbody>\n    <tr>\n      <th>a</th>\n      <td>5</td>\n      <td>6</td>\n    </tr>\n    <tr>\n      <th>c</th>\n      <td>7</td>\n      <td>8</td>\n    </tr>\n  </tbody>\n</table>\n</div>"
     },
     "execution_count": 51,
     "metadata": {},
     "output_type": "execute_result"
    }
   ],
   "source": [
    "df2"
   ],
   "metadata": {
    "collapsed": false,
    "pycharm": {
     "name": "#%%\n"
    }
   }
  },
  {
   "cell_type": "code",
   "execution_count": 52,
   "outputs": [
    {
     "data": {
      "text/plain": "   l1        l2     \n  one two three four\na   0   1   5.0  6.0\nb   2   3   NaN  NaN\nc   4   5   7.0  8.0",
      "text/html": "<div>\n<style scoped>\n    .dataframe tbody tr th:only-of-type {\n        vertical-align: middle;\n    }\n\n    .dataframe tbody tr th {\n        vertical-align: top;\n    }\n\n    .dataframe thead tr th {\n        text-align: left;\n    }\n</style>\n<table border=\"1\" class=\"dataframe\">\n  <thead>\n    <tr>\n      <th></th>\n      <th colspan=\"2\" halign=\"left\">l1</th>\n      <th colspan=\"2\" halign=\"left\">l2</th>\n    </tr>\n    <tr>\n      <th></th>\n      <th>one</th>\n      <th>two</th>\n      <th>three</th>\n      <th>four</th>\n    </tr>\n  </thead>\n  <tbody>\n    <tr>\n      <th>a</th>\n      <td>0</td>\n      <td>1</td>\n      <td>5.0</td>\n      <td>6.0</td>\n    </tr>\n    <tr>\n      <th>b</th>\n      <td>2</td>\n      <td>3</td>\n      <td>NaN</td>\n      <td>NaN</td>\n    </tr>\n    <tr>\n      <th>c</th>\n      <td>4</td>\n      <td>5</td>\n      <td>7.0</td>\n      <td>8.0</td>\n    </tr>\n  </tbody>\n</table>\n</div>"
     },
     "execution_count": 52,
     "metadata": {},
     "output_type": "execute_result"
    }
   ],
   "source": [
    "pd.concat([df1, df2], axis=1, keys=['l1', 'l2'])"
   ],
   "metadata": {
    "collapsed": false,
    "pycharm": {
     "name": "#%%\n"
    }
   }
  },
  {
   "cell_type": "code",
   "execution_count": 53,
   "outputs": [
    {
     "data": {
      "text/plain": "   l1        l2     \n  one two three four\na   0   1   5.0  6.0\nb   2   3   NaN  NaN\nc   4   5   7.0  8.0",
      "text/html": "<div>\n<style scoped>\n    .dataframe tbody tr th:only-of-type {\n        vertical-align: middle;\n    }\n\n    .dataframe tbody tr th {\n        vertical-align: top;\n    }\n\n    .dataframe thead tr th {\n        text-align: left;\n    }\n</style>\n<table border=\"1\" class=\"dataframe\">\n  <thead>\n    <tr>\n      <th></th>\n      <th colspan=\"2\" halign=\"left\">l1</th>\n      <th colspan=\"2\" halign=\"left\">l2</th>\n    </tr>\n    <tr>\n      <th></th>\n      <th>one</th>\n      <th>two</th>\n      <th>three</th>\n      <th>four</th>\n    </tr>\n  </thead>\n  <tbody>\n    <tr>\n      <th>a</th>\n      <td>0</td>\n      <td>1</td>\n      <td>5.0</td>\n      <td>6.0</td>\n    </tr>\n    <tr>\n      <th>b</th>\n      <td>2</td>\n      <td>3</td>\n      <td>NaN</td>\n      <td>NaN</td>\n    </tr>\n    <tr>\n      <th>c</th>\n      <td>4</td>\n      <td>5</td>\n      <td>7.0</td>\n      <td>8.0</td>\n    </tr>\n  </tbody>\n</table>\n</div>"
     },
     "execution_count": 53,
     "metadata": {},
     "output_type": "execute_result"
    }
   ],
   "source": [
    "# 如果传递的对象是字典而不是列表，则字典的键会用于keys选项\n",
    "pd.concat({'l1': df1, 'l2': df2}, axis=1)"
   ],
   "metadata": {
    "collapsed": false,
    "pycharm": {
     "name": "#%%\n"
    }
   }
  },
  {
   "cell_type": "code",
   "execution_count": 54,
   "outputs": [
    {
     "data": {
      "text/plain": "upper  l1        l2     \nlower one two three four\na       0   1   5.0  6.0\nb       2   3   NaN  NaN\nc       4   5   7.0  8.0",
      "text/html": "<div>\n<style scoped>\n    .dataframe tbody tr th:only-of-type {\n        vertical-align: middle;\n    }\n\n    .dataframe tbody tr th {\n        vertical-align: top;\n    }\n\n    .dataframe thead tr th {\n        text-align: left;\n    }\n</style>\n<table border=\"1\" class=\"dataframe\">\n  <thead>\n    <tr>\n      <th>upper</th>\n      <th colspan=\"2\" halign=\"left\">l1</th>\n      <th colspan=\"2\" halign=\"left\">l2</th>\n    </tr>\n    <tr>\n      <th>lower</th>\n      <th>one</th>\n      <th>two</th>\n      <th>three</th>\n      <th>four</th>\n    </tr>\n  </thead>\n  <tbody>\n    <tr>\n      <th>a</th>\n      <td>0</td>\n      <td>1</td>\n      <td>5.0</td>\n      <td>6.0</td>\n    </tr>\n    <tr>\n      <th>b</th>\n      <td>2</td>\n      <td>3</td>\n      <td>NaN</td>\n      <td>NaN</td>\n    </tr>\n    <tr>\n      <th>c</th>\n      <td>4</td>\n      <td>5</td>\n      <td>7.0</td>\n      <td>8.0</td>\n    </tr>\n  </tbody>\n</table>\n</div>"
     },
     "execution_count": 54,
     "metadata": {},
     "output_type": "execute_result"
    }
   ],
   "source": [
    "# 还有一些额外的参数负责多层索引生成\n",
    "pd.concat([df1, df2], axis=1, keys=['l1', 'l2'], names=['upper', 'lower'])"
   ],
   "metadata": {
    "collapsed": false,
    "pycharm": {
     "name": "#%%\n"
    }
   }
  },
  {
   "cell_type": "code",
   "execution_count": 55,
   "outputs": [
    {
     "data": {
      "text/plain": "          a         b         c         d\n0  3.117151  0.793419  0.068955  0.557880\n1  0.480597 -1.180502 -0.595152 -0.147631\n2  0.710013 -0.120387 -0.200739 -0.189948\n3  0.340164  0.842555       NaN -0.703790\n4  1.492002  0.552227       NaN  0.437791",
      "text/html": "<div>\n<style scoped>\n    .dataframe tbody tr th:only-of-type {\n        vertical-align: middle;\n    }\n\n    .dataframe tbody tr th {\n        vertical-align: top;\n    }\n\n    .dataframe thead th {\n        text-align: right;\n    }\n</style>\n<table border=\"1\" class=\"dataframe\">\n  <thead>\n    <tr style=\"text-align: right;\">\n      <th></th>\n      <th>a</th>\n      <th>b</th>\n      <th>c</th>\n      <th>d</th>\n    </tr>\n  </thead>\n  <tbody>\n    <tr>\n      <th>0</th>\n      <td>3.117151</td>\n      <td>0.793419</td>\n      <td>0.068955</td>\n      <td>0.557880</td>\n    </tr>\n    <tr>\n      <th>1</th>\n      <td>0.480597</td>\n      <td>-1.180502</td>\n      <td>-0.595152</td>\n      <td>-0.147631</td>\n    </tr>\n    <tr>\n      <th>2</th>\n      <td>0.710013</td>\n      <td>-0.120387</td>\n      <td>-0.200739</td>\n      <td>-0.189948</td>\n    </tr>\n    <tr>\n      <th>3</th>\n      <td>0.340164</td>\n      <td>0.842555</td>\n      <td>NaN</td>\n      <td>-0.703790</td>\n    </tr>\n    <tr>\n      <th>4</th>\n      <td>1.492002</td>\n      <td>0.552227</td>\n      <td>NaN</td>\n      <td>0.437791</td>\n    </tr>\n  </tbody>\n</table>\n</div>"
     },
     "execution_count": 55,
     "metadata": {},
     "output_type": "execute_result"
    }
   ],
   "source": [
    "# 最后需要考虑的是行索引中不包含任何相关数据的DataFrame\n",
    "df1 = pd.DataFrame(np.random.randn(3, 4),\n",
    "                   columns=list('abcd'))\n",
    "df2 = pd.DataFrame(np.random.randn(2, 3),\n",
    "                   columns=list('bda'))\n",
    "pd.concat([df1, df2], ignore_index=True)  # 忽略掉index，就是直接合并"
   ],
   "metadata": {
    "collapsed": false,
    "pycharm": {
     "name": "#%%\n"
    }
   }
  },
  {
   "cell_type": "markdown",
   "source": [
    "### 8.2.4 联合重叠数据"
   ],
   "metadata": {
    "collapsed": false,
    "pycharm": {
     "name": "#%% md\n"
    }
   }
  },
  {
   "cell_type": "code",
   "execution_count": 56,
   "outputs": [
    {
     "data": {
      "text/plain": "f    NaN\ne    2.5\nd    0.0\nc    3.5\nb    4.5\na    NaN\ndtype: float64"
     },
     "execution_count": 56,
     "metadata": {},
     "output_type": "execute_result"
    }
   ],
   "source": [
    "a = pd.Series([np.nan, 2.5, 0, 3.5, 4.5, np.nan],\n",
    "              index=list('fedcba'))\n",
    "b = pd.Series([0, np.nan, 2, np.nan, np.nan, 5],\n",
    "              index=list('abcdef'))\n",
    "a"
   ],
   "metadata": {
    "collapsed": false,
    "pycharm": {
     "name": "#%%\n"
    }
   }
  },
  {
   "cell_type": "code",
   "execution_count": 57,
   "outputs": [
    {
     "data": {
      "text/plain": "a    0.0\nb    NaN\nc    2.0\nd    NaN\ne    NaN\nf    5.0\ndtype: float64"
     },
     "execution_count": 57,
     "metadata": {},
     "output_type": "execute_result"
    }
   ],
   "source": [
    "b"
   ],
   "metadata": {
    "collapsed": false,
    "pycharm": {
     "name": "#%%\n"
    }
   }
  },
  {
   "cell_type": "code",
   "execution_count": 58,
   "outputs": [
    {
     "data": {
      "text/plain": "a    0.0\nb    4.5\nc    2.0\nd    0.0\ne    2.5\nf    5.0\ndtype: float64"
     },
     "execution_count": 58,
     "metadata": {},
     "output_type": "execute_result"
    }
   ],
   "source": [
    "# Series的combine_first函数就是去两者索引相同时出现的第一个值\n",
    "b.combine_first(a)"
   ],
   "metadata": {
    "collapsed": false,
    "pycharm": {
     "name": "#%%\n"
    }
   }
  },
  {
   "cell_type": "markdown",
   "source": [
    "## 8.3 重塑和透视"
   ],
   "metadata": {
    "collapsed": false,
    "pycharm": {
     "name": "#%% md\n"
    }
   }
  },
  {
   "cell_type": "markdown",
   "source": [
    "### 8.3.1 使用多层索引进行重塑"
   ],
   "metadata": {
    "collapsed": false,
    "pycharm": {
     "name": "#%% md\n"
    }
   }
  },
  {
   "cell_type": "code",
   "execution_count": 59,
   "outputs": [
    {
     "data": {
      "text/plain": "number    one  two  three\nstate                    \nOhio        0    1      2\nColorado    3    4      5",
      "text/html": "<div>\n<style scoped>\n    .dataframe tbody tr th:only-of-type {\n        vertical-align: middle;\n    }\n\n    .dataframe tbody tr th {\n        vertical-align: top;\n    }\n\n    .dataframe thead th {\n        text-align: right;\n    }\n</style>\n<table border=\"1\" class=\"dataframe\">\n  <thead>\n    <tr style=\"text-align: right;\">\n      <th>number</th>\n      <th>one</th>\n      <th>two</th>\n      <th>three</th>\n    </tr>\n    <tr>\n      <th>state</th>\n      <th></th>\n      <th></th>\n      <th></th>\n    </tr>\n  </thead>\n  <tbody>\n    <tr>\n      <th>Ohio</th>\n      <td>0</td>\n      <td>1</td>\n      <td>2</td>\n    </tr>\n    <tr>\n      <th>Colorado</th>\n      <td>3</td>\n      <td>4</td>\n      <td>5</td>\n    </tr>\n  </tbody>\n</table>\n</div>"
     },
     "execution_count": 59,
     "metadata": {},
     "output_type": "execute_result"
    }
   ],
   "source": [
    "# stack: 用于将列中数据透视到行\n",
    "# unstack: 用于将行数据透视到列\n",
    "data = pd.DataFrame(np.arange(6).reshape(2, 3),\n",
    "                    index=pd.Index(['Ohio', 'Colorado'], name='state'),\n",
    "                    columns=pd.Index(['one', 'two', 'three'], name='number'))\n",
    "data"
   ],
   "metadata": {
    "collapsed": false,
    "pycharm": {
     "name": "#%%\n"
    }
   }
  },
  {
   "cell_type": "code",
   "execution_count": 60,
   "outputs": [
    {
     "data": {
      "text/plain": "state     number\nOhio      one       0\n          two       1\n          three     2\nColorado  one       3\n          two       4\n          three     5\ndtype: int64"
     },
     "execution_count": 60,
     "metadata": {},
     "output_type": "execute_result"
    }
   ],
   "source": [
    "data.stack()"
   ],
   "metadata": {
    "collapsed": false,
    "pycharm": {
     "name": "#%%\n"
    }
   }
  },
  {
   "cell_type": "code",
   "execution_count": 61,
   "outputs": [
    {
     "data": {
      "text/plain": "number  state   \none     Ohio        0\n        Colorado    3\ntwo     Ohio        1\n        Colorado    4\nthree   Ohio        2\n        Colorado    5\ndtype: int64"
     },
     "execution_count": 61,
     "metadata": {},
     "output_type": "execute_result"
    }
   ],
   "source": [
    "data.unstack()"
   ],
   "metadata": {
    "collapsed": false,
    "pycharm": {
     "name": "#%%\n"
    }
   }
  },
  {
   "cell_type": "code",
   "execution_count": 62,
   "outputs": [
    {
     "data": {
      "text/plain": "pandas.core.series.Series"
     },
     "execution_count": 62,
     "metadata": {},
     "output_type": "execute_result"
    }
   ],
   "source": [
    "b = data.unstack()\n",
    "type(b)"
   ],
   "metadata": {
    "collapsed": false,
    "pycharm": {
     "name": "#%%\n"
    }
   }
  },
  {
   "cell_type": "code",
   "execution_count": 63,
   "outputs": [
    {
     "data": {
      "text/plain": "pandas.core.frame.DataFrame"
     },
     "execution_count": 63,
     "metadata": {},
     "output_type": "execute_result"
    }
   ],
   "source": [
    "# stack和unstack可以将DataFrame转化为Series\n",
    "# 对Series执行unstack，可以转化为DataFrame\n",
    "c = data.stack().unstack()  # 使用一对操作可将数据还原\n",
    "type(c)"
   ],
   "metadata": {
    "collapsed": false,
    "pycharm": {
     "name": "#%%\n"
    }
   }
  },
  {
   "cell_type": "code",
   "execution_count": 64,
   "outputs": [
    {
     "data": {
      "text/plain": "one  a    0\n     b    1\n     c    2\n     d    3\ntwo  c    4\n     d    5\n     e    6\ndtype: int64"
     },
     "execution_count": 64,
     "metadata": {},
     "output_type": "execute_result"
    }
   ],
   "source": [
    "# 如果层级汇总的所有值并未包含于每个子分组是，拆分可能会引入缺失值\n",
    "s1 = pd.Series([0, 1, 2, 3], index=list('abcd'))\n",
    "s2 = pd.Series([4, 5, 6], index=list('cde'))\n",
    "data2 = pd.concat([s1, s2], keys=['one', 'two'])\n",
    "data2"
   ],
   "metadata": {
    "collapsed": false,
    "pycharm": {
     "name": "#%%\n"
    }
   }
  },
  {
   "cell_type": "code",
   "execution_count": 65,
   "outputs": [
    {
     "data": {
      "text/plain": "       a    b    c    d    e\none  0.0  1.0  2.0  3.0  NaN\ntwo  NaN  NaN  4.0  5.0  6.0",
      "text/html": "<div>\n<style scoped>\n    .dataframe tbody tr th:only-of-type {\n        vertical-align: middle;\n    }\n\n    .dataframe tbody tr th {\n        vertical-align: top;\n    }\n\n    .dataframe thead th {\n        text-align: right;\n    }\n</style>\n<table border=\"1\" class=\"dataframe\">\n  <thead>\n    <tr style=\"text-align: right;\">\n      <th></th>\n      <th>a</th>\n      <th>b</th>\n      <th>c</th>\n      <th>d</th>\n      <th>e</th>\n    </tr>\n  </thead>\n  <tbody>\n    <tr>\n      <th>one</th>\n      <td>0.0</td>\n      <td>1.0</td>\n      <td>2.0</td>\n      <td>3.0</td>\n      <td>NaN</td>\n    </tr>\n    <tr>\n      <th>two</th>\n      <td>NaN</td>\n      <td>NaN</td>\n      <td>4.0</td>\n      <td>5.0</td>\n      <td>6.0</td>\n    </tr>\n  </tbody>\n</table>\n</div>"
     },
     "execution_count": 65,
     "metadata": {},
     "output_type": "execute_result"
    }
   ],
   "source": [
    "data2.unstack()"
   ],
   "metadata": {
    "collapsed": false,
    "pycharm": {
     "name": "#%%\n"
    }
   }
  },
  {
   "cell_type": "code",
   "execution_count": 66,
   "outputs": [
    {
     "data": {
      "text/plain": "one  a    0.0\n     b    1.0\n     c    2.0\n     d    3.0\ntwo  c    4.0\n     d    5.0\n     e    6.0\ndtype: float64"
     },
     "execution_count": 66,
     "metadata": {},
     "output_type": "execute_result"
    }
   ],
   "source": [
    "data2.unstack().stack()"
   ],
   "metadata": {
    "collapsed": false,
    "pycharm": {
     "name": "#%%\n"
    }
   }
  },
  {
   "cell_type": "code",
   "execution_count": 67,
   "outputs": [
    {
     "data": {
      "text/plain": "State      Ohio     California\nColor     Green Red      Green\nkey1 key2                     \na    1        0   1          2\n     2        3   4          5\nb    1        6   7          8\n     2        9  10         11",
      "text/html": "<div>\n<style scoped>\n    .dataframe tbody tr th:only-of-type {\n        vertical-align: middle;\n    }\n\n    .dataframe tbody tr th {\n        vertical-align: top;\n    }\n\n    .dataframe thead tr th {\n        text-align: left;\n    }\n\n    .dataframe thead tr:last-of-type th {\n        text-align: right;\n    }\n</style>\n<table border=\"1\" class=\"dataframe\">\n  <thead>\n    <tr>\n      <th></th>\n      <th>State</th>\n      <th colspan=\"2\" halign=\"left\">Ohio</th>\n      <th>California</th>\n    </tr>\n    <tr>\n      <th></th>\n      <th>Color</th>\n      <th>Green</th>\n      <th>Red</th>\n      <th>Green</th>\n    </tr>\n    <tr>\n      <th>key1</th>\n      <th>key2</th>\n      <th></th>\n      <th></th>\n      <th></th>\n    </tr>\n  </thead>\n  <tbody>\n    <tr>\n      <th rowspan=\"2\" valign=\"top\">a</th>\n      <th>1</th>\n      <td>0</td>\n      <td>1</td>\n      <td>2</td>\n    </tr>\n    <tr>\n      <th>2</th>\n      <td>3</td>\n      <td>4</td>\n      <td>5</td>\n    </tr>\n    <tr>\n      <th rowspan=\"2\" valign=\"top\">b</th>\n      <th>1</th>\n      <td>6</td>\n      <td>7</td>\n      <td>8</td>\n    </tr>\n    <tr>\n      <th>2</th>\n      <td>9</td>\n      <td>10</td>\n      <td>11</td>\n    </tr>\n  </tbody>\n</table>\n</div>"
     },
     "execution_count": 67,
     "metadata": {},
     "output_type": "execute_result"
    }
   ],
   "source": [
    "df"
   ],
   "metadata": {
    "collapsed": false,
    "pycharm": {
     "name": "#%%\n"
    }
   }
  },
  {
   "cell_type": "markdown",
   "source": [
    "### 8.3.2 将\"长\"透视为\"宽\""
   ],
   "metadata": {
    "collapsed": false,
    "pycharm": {
     "name": "#%% md\n"
    }
   }
  },
  {
   "cell_type": "code",
   "execution_count": 68,
   "outputs": [
    {
     "data": {
      "text/plain": "     year  quarter   realgdp  realcons  realinv  realgovt  realdpi    cpi  \\\n0  1959.0      1.0  2710.349    1707.4  286.898   470.045   1886.9  28.98   \n1  1959.0      2.0  2778.801    1733.7  310.859   481.301   1919.7  29.15   \n2  1959.0      3.0  2775.488    1751.8  289.226   491.260   1916.4  29.35   \n3  1959.0      4.0  2785.204    1753.7  299.356   484.052   1931.3  29.37   \n4  1960.0      1.0  2847.699    1770.5  331.722   462.199   1955.5  29.54   \n\n      m1  tbilrate  unemp      pop  infl  realint  \n0  139.7      2.82    5.8  177.146  0.00     0.00  \n1  141.7      3.08    5.1  177.830  2.34     0.74  \n2  140.5      3.82    5.3  178.657  2.74     1.09  \n3  140.0      4.33    5.6  179.386  0.27     4.06  \n4  139.6      3.50    5.2  180.007  2.31     1.19  ",
      "text/html": "<div>\n<style scoped>\n    .dataframe tbody tr th:only-of-type {\n        vertical-align: middle;\n    }\n\n    .dataframe tbody tr th {\n        vertical-align: top;\n    }\n\n    .dataframe thead th {\n        text-align: right;\n    }\n</style>\n<table border=\"1\" class=\"dataframe\">\n  <thead>\n    <tr style=\"text-align: right;\">\n      <th></th>\n      <th>year</th>\n      <th>quarter</th>\n      <th>realgdp</th>\n      <th>realcons</th>\n      <th>realinv</th>\n      <th>realgovt</th>\n      <th>realdpi</th>\n      <th>cpi</th>\n      <th>m1</th>\n      <th>tbilrate</th>\n      <th>unemp</th>\n      <th>pop</th>\n      <th>infl</th>\n      <th>realint</th>\n    </tr>\n  </thead>\n  <tbody>\n    <tr>\n      <th>0</th>\n      <td>1959.0</td>\n      <td>1.0</td>\n      <td>2710.349</td>\n      <td>1707.4</td>\n      <td>286.898</td>\n      <td>470.045</td>\n      <td>1886.9</td>\n      <td>28.98</td>\n      <td>139.7</td>\n      <td>2.82</td>\n      <td>5.8</td>\n      <td>177.146</td>\n      <td>0.00</td>\n      <td>0.00</td>\n    </tr>\n    <tr>\n      <th>1</th>\n      <td>1959.0</td>\n      <td>2.0</td>\n      <td>2778.801</td>\n      <td>1733.7</td>\n      <td>310.859</td>\n      <td>481.301</td>\n      <td>1919.7</td>\n      <td>29.15</td>\n      <td>141.7</td>\n      <td>3.08</td>\n      <td>5.1</td>\n      <td>177.830</td>\n      <td>2.34</td>\n      <td>0.74</td>\n    </tr>\n    <tr>\n      <th>2</th>\n      <td>1959.0</td>\n      <td>3.0</td>\n      <td>2775.488</td>\n      <td>1751.8</td>\n      <td>289.226</td>\n      <td>491.260</td>\n      <td>1916.4</td>\n      <td>29.35</td>\n      <td>140.5</td>\n      <td>3.82</td>\n      <td>5.3</td>\n      <td>178.657</td>\n      <td>2.74</td>\n      <td>1.09</td>\n    </tr>\n    <tr>\n      <th>3</th>\n      <td>1959.0</td>\n      <td>4.0</td>\n      <td>2785.204</td>\n      <td>1753.7</td>\n      <td>299.356</td>\n      <td>484.052</td>\n      <td>1931.3</td>\n      <td>29.37</td>\n      <td>140.0</td>\n      <td>4.33</td>\n      <td>5.6</td>\n      <td>179.386</td>\n      <td>0.27</td>\n      <td>4.06</td>\n    </tr>\n    <tr>\n      <th>4</th>\n      <td>1960.0</td>\n      <td>1.0</td>\n      <td>2847.699</td>\n      <td>1770.5</td>\n      <td>331.722</td>\n      <td>462.199</td>\n      <td>1955.5</td>\n      <td>29.54</td>\n      <td>139.6</td>\n      <td>3.50</td>\n      <td>5.2</td>\n      <td>180.007</td>\n      <td>2.31</td>\n      <td>1.19</td>\n    </tr>\n  </tbody>\n</table>\n</div>"
     },
     "execution_count": 68,
     "metadata": {},
     "output_type": "execute_result"
    }
   ],
   "source": [
    "# 在csv中存储时间序列的方式就是所谓的长格式或堆叠格式\n",
    "data = pd.read_csv(\"./examples/macrodata.csv\")\n",
    "data.fillna(0)\n",
    "data.head()"
   ],
   "metadata": {
    "collapsed": false,
    "pycharm": {
     "name": "#%%\n"
    }
   }
  },
  {
   "cell_type": "code",
   "execution_count": 69,
   "outputs": [
    {
     "data": {
      "text/plain": "item                            realgdp  infl  unemp\ndate                                                \n1959-03-31 23:59:59.999999999  2710.349  0.00    5.8\n1959-06-30 23:59:59.999999999  2778.801  2.34    5.1\n1959-09-30 23:59:59.999999999  2775.488  2.74    5.3\n1959-12-31 23:59:59.999999999  2785.204  0.27    5.6\n1960-03-31 23:59:59.999999999  2847.699  2.31    5.2",
      "text/html": "<div>\n<style scoped>\n    .dataframe tbody tr th:only-of-type {\n        vertical-align: middle;\n    }\n\n    .dataframe tbody tr th {\n        vertical-align: top;\n    }\n\n    .dataframe thead th {\n        text-align: right;\n    }\n</style>\n<table border=\"1\" class=\"dataframe\">\n  <thead>\n    <tr style=\"text-align: right;\">\n      <th>item</th>\n      <th>realgdp</th>\n      <th>infl</th>\n      <th>unemp</th>\n    </tr>\n    <tr>\n      <th>date</th>\n      <th></th>\n      <th></th>\n      <th></th>\n    </tr>\n  </thead>\n  <tbody>\n    <tr>\n      <th>1959-03-31 23:59:59.999999999</th>\n      <td>2710.349</td>\n      <td>0.00</td>\n      <td>5.8</td>\n    </tr>\n    <tr>\n      <th>1959-06-30 23:59:59.999999999</th>\n      <td>2778.801</td>\n      <td>2.34</td>\n      <td>5.1</td>\n    </tr>\n    <tr>\n      <th>1959-09-30 23:59:59.999999999</th>\n      <td>2775.488</td>\n      <td>2.74</td>\n      <td>5.3</td>\n    </tr>\n    <tr>\n      <th>1959-12-31 23:59:59.999999999</th>\n      <td>2785.204</td>\n      <td>0.27</td>\n      <td>5.6</td>\n    </tr>\n    <tr>\n      <th>1960-03-31 23:59:59.999999999</th>\n      <td>2847.699</td>\n      <td>2.31</td>\n      <td>5.2</td>\n    </tr>\n  </tbody>\n</table>\n</div>"
     },
     "execution_count": 69,
     "metadata": {},
     "output_type": "execute_result"
    }
   ],
   "source": [
    "periods = pd.PeriodIndex(year=data.year, quarter=data.quarter, name='date')\n",
    "columns = pd.Index(['realgdp', 'infl', 'unemp'], name='item')\n",
    "# 只取部分列数据\n",
    "data1 = data.reindex(columns=columns)\n",
    "# 将periods转换为时间戳格式\n",
    "data1.index = periods.to_timestamp('D', 'end')\n",
    "data1.head()"
   ],
   "metadata": {
    "collapsed": false,
    "pycharm": {
     "name": "#%%\n"
    }
   }
  },
  {
   "cell_type": "code",
   "execution_count": 70,
   "outputs": [
    {
     "data": {
      "text/plain": "                           date     item     value\n0 1959-03-31 23:59:59.999999999  realgdp  2710.349\n1 1959-03-31 23:59:59.999999999     infl     0.000\n2 1959-03-31 23:59:59.999999999    unemp     5.800\n3 1959-06-30 23:59:59.999999999  realgdp  2778.801\n4 1959-06-30 23:59:59.999999999     infl     2.340\n5 1959-06-30 23:59:59.999999999    unemp     5.100\n6 1959-09-30 23:59:59.999999999  realgdp  2775.488\n7 1959-09-30 23:59:59.999999999     infl     2.740\n8 1959-09-30 23:59:59.999999999    unemp     5.300\n9 1959-12-31 23:59:59.999999999  realgdp  2785.204",
      "text/html": "<div>\n<style scoped>\n    .dataframe tbody tr th:only-of-type {\n        vertical-align: middle;\n    }\n\n    .dataframe tbody tr th {\n        vertical-align: top;\n    }\n\n    .dataframe thead th {\n        text-align: right;\n    }\n</style>\n<table border=\"1\" class=\"dataframe\">\n  <thead>\n    <tr style=\"text-align: right;\">\n      <th></th>\n      <th>date</th>\n      <th>item</th>\n      <th>value</th>\n    </tr>\n  </thead>\n  <tbody>\n    <tr>\n      <th>0</th>\n      <td>1959-03-31 23:59:59.999999999</td>\n      <td>realgdp</td>\n      <td>2710.349</td>\n    </tr>\n    <tr>\n      <th>1</th>\n      <td>1959-03-31 23:59:59.999999999</td>\n      <td>infl</td>\n      <td>0.000</td>\n    </tr>\n    <tr>\n      <th>2</th>\n      <td>1959-03-31 23:59:59.999999999</td>\n      <td>unemp</td>\n      <td>5.800</td>\n    </tr>\n    <tr>\n      <th>3</th>\n      <td>1959-06-30 23:59:59.999999999</td>\n      <td>realgdp</td>\n      <td>2778.801</td>\n    </tr>\n    <tr>\n      <th>4</th>\n      <td>1959-06-30 23:59:59.999999999</td>\n      <td>infl</td>\n      <td>2.340</td>\n    </tr>\n    <tr>\n      <th>5</th>\n      <td>1959-06-30 23:59:59.999999999</td>\n      <td>unemp</td>\n      <td>5.100</td>\n    </tr>\n    <tr>\n      <th>6</th>\n      <td>1959-09-30 23:59:59.999999999</td>\n      <td>realgdp</td>\n      <td>2775.488</td>\n    </tr>\n    <tr>\n      <th>7</th>\n      <td>1959-09-30 23:59:59.999999999</td>\n      <td>infl</td>\n      <td>2.740</td>\n    </tr>\n    <tr>\n      <th>8</th>\n      <td>1959-09-30 23:59:59.999999999</td>\n      <td>unemp</td>\n      <td>5.300</td>\n    </tr>\n    <tr>\n      <th>9</th>\n      <td>1959-12-31 23:59:59.999999999</td>\n      <td>realgdp</td>\n      <td>2785.204</td>\n    </tr>\n  </tbody>\n</table>\n</div>"
     },
     "execution_count": 70,
     "metadata": {},
     "output_type": "execute_result"
    }
   ],
   "source": [
    "ldata = data1.stack().reset_index().rename(columns={0: 'value'})\n",
    "ldata[:10]"
   ],
   "metadata": {
    "collapsed": false,
    "pycharm": {
     "name": "#%%\n"
    }
   }
  },
  {
   "cell_type": "code",
   "execution_count": 71,
   "outputs": [
    {
     "data": {
      "text/plain": "item                           infl    realgdp  unemp\ndate                                                 \n1959-03-31 23:59:59.999999999  0.00   2710.349    5.8\n1959-06-30 23:59:59.999999999  2.34   2778.801    5.1\n1959-09-30 23:59:59.999999999  2.74   2775.488    5.3\n1959-12-31 23:59:59.999999999  0.27   2785.204    5.6\n1960-03-31 23:59:59.999999999  2.31   2847.699    5.2\n...                             ...        ...    ...\n2008-09-30 23:59:59.999999999 -3.16  13324.600    6.0\n2008-12-31 23:59:59.999999999 -8.79  13141.920    6.9\n2009-03-31 23:59:59.999999999  0.94  12925.410    8.1\n2009-06-30 23:59:59.999999999  3.37  12901.504    9.2\n2009-09-30 23:59:59.999999999  3.56  12990.341    9.6\n\n[203 rows x 3 columns]",
      "text/html": "<div>\n<style scoped>\n    .dataframe tbody tr th:only-of-type {\n        vertical-align: middle;\n    }\n\n    .dataframe tbody tr th {\n        vertical-align: top;\n    }\n\n    .dataframe thead th {\n        text-align: right;\n    }\n</style>\n<table border=\"1\" class=\"dataframe\">\n  <thead>\n    <tr style=\"text-align: right;\">\n      <th>item</th>\n      <th>infl</th>\n      <th>realgdp</th>\n      <th>unemp</th>\n    </tr>\n    <tr>\n      <th>date</th>\n      <th></th>\n      <th></th>\n      <th></th>\n    </tr>\n  </thead>\n  <tbody>\n    <tr>\n      <th>1959-03-31 23:59:59.999999999</th>\n      <td>0.00</td>\n      <td>2710.349</td>\n      <td>5.8</td>\n    </tr>\n    <tr>\n      <th>1959-06-30 23:59:59.999999999</th>\n      <td>2.34</td>\n      <td>2778.801</td>\n      <td>5.1</td>\n    </tr>\n    <tr>\n      <th>1959-09-30 23:59:59.999999999</th>\n      <td>2.74</td>\n      <td>2775.488</td>\n      <td>5.3</td>\n    </tr>\n    <tr>\n      <th>1959-12-31 23:59:59.999999999</th>\n      <td>0.27</td>\n      <td>2785.204</td>\n      <td>5.6</td>\n    </tr>\n    <tr>\n      <th>1960-03-31 23:59:59.999999999</th>\n      <td>2.31</td>\n      <td>2847.699</td>\n      <td>5.2</td>\n    </tr>\n    <tr>\n      <th>...</th>\n      <td>...</td>\n      <td>...</td>\n      <td>...</td>\n    </tr>\n    <tr>\n      <th>2008-09-30 23:59:59.999999999</th>\n      <td>-3.16</td>\n      <td>13324.600</td>\n      <td>6.0</td>\n    </tr>\n    <tr>\n      <th>2008-12-31 23:59:59.999999999</th>\n      <td>-8.79</td>\n      <td>13141.920</td>\n      <td>6.9</td>\n    </tr>\n    <tr>\n      <th>2009-03-31 23:59:59.999999999</th>\n      <td>0.94</td>\n      <td>12925.410</td>\n      <td>8.1</td>\n    </tr>\n    <tr>\n      <th>2009-06-30 23:59:59.999999999</th>\n      <td>3.37</td>\n      <td>12901.504</td>\n      <td>9.2</td>\n    </tr>\n    <tr>\n      <th>2009-09-30 23:59:59.999999999</th>\n      <td>3.56</td>\n      <td>12990.341</td>\n      <td>9.6</td>\n    </tr>\n  </tbody>\n</table>\n<p>203 rows × 3 columns</p>\n</div>"
     },
     "execution_count": 71,
     "metadata": {},
     "output_type": "execute_result"
    }
   ],
   "source": [
    "# 在关系数据库中，倾向于将data和item作为主键，但是在某些情况下，处理这种格式的数据更为困难\n",
    "# 更希望同一个时间戳单独成一行，每个不同的item单独一列，也就是转回原始的data格式\n",
    "# 可以使用DataFrame的pivot方法\n",
    "# date和item字段分别作为行和列的索引，然后是可选的数值列以填充DataFrame\n",
    "pivoted = ldata.pivot('date', 'item', 'value')\n",
    "pivoted"
   ],
   "metadata": {
    "collapsed": false,
    "pycharm": {
     "name": "#%%\n"
    }
   }
  },
  {
   "cell_type": "code",
   "execution_count": 72,
   "outputs": [
    {
     "data": {
      "text/plain": "                           date     item     value    value2\n0 1959-03-31 23:59:59.999999999  realgdp  2710.349 -0.350004\n1 1959-03-31 23:59:59.999999999     infl     0.000  0.020892\n2 1959-03-31 23:59:59.999999999    unemp     5.800 -1.269892\n3 1959-06-30 23:59:59.999999999  realgdp  2778.801  0.659837\n4 1959-06-30 23:59:59.999999999     infl     2.340  1.079641\n5 1959-06-30 23:59:59.999999999    unemp     5.100  0.071027\n6 1959-09-30 23:59:59.999999999  realgdp  2775.488  0.455204\n7 1959-09-30 23:59:59.999999999     infl     2.740 -1.714606\n8 1959-09-30 23:59:59.999999999    unemp     5.300  0.079527\n9 1959-12-31 23:59:59.999999999  realgdp  2785.204 -0.650964",
      "text/html": "<div>\n<style scoped>\n    .dataframe tbody tr th:only-of-type {\n        vertical-align: middle;\n    }\n\n    .dataframe tbody tr th {\n        vertical-align: top;\n    }\n\n    .dataframe thead th {\n        text-align: right;\n    }\n</style>\n<table border=\"1\" class=\"dataframe\">\n  <thead>\n    <tr style=\"text-align: right;\">\n      <th></th>\n      <th>date</th>\n      <th>item</th>\n      <th>value</th>\n      <th>value2</th>\n    </tr>\n  </thead>\n  <tbody>\n    <tr>\n      <th>0</th>\n      <td>1959-03-31 23:59:59.999999999</td>\n      <td>realgdp</td>\n      <td>2710.349</td>\n      <td>-0.350004</td>\n    </tr>\n    <tr>\n      <th>1</th>\n      <td>1959-03-31 23:59:59.999999999</td>\n      <td>infl</td>\n      <td>0.000</td>\n      <td>0.020892</td>\n    </tr>\n    <tr>\n      <th>2</th>\n      <td>1959-03-31 23:59:59.999999999</td>\n      <td>unemp</td>\n      <td>5.800</td>\n      <td>-1.269892</td>\n    </tr>\n    <tr>\n      <th>3</th>\n      <td>1959-06-30 23:59:59.999999999</td>\n      <td>realgdp</td>\n      <td>2778.801</td>\n      <td>0.659837</td>\n    </tr>\n    <tr>\n      <th>4</th>\n      <td>1959-06-30 23:59:59.999999999</td>\n      <td>infl</td>\n      <td>2.340</td>\n      <td>1.079641</td>\n    </tr>\n    <tr>\n      <th>5</th>\n      <td>1959-06-30 23:59:59.999999999</td>\n      <td>unemp</td>\n      <td>5.100</td>\n      <td>0.071027</td>\n    </tr>\n    <tr>\n      <th>6</th>\n      <td>1959-09-30 23:59:59.999999999</td>\n      <td>realgdp</td>\n      <td>2775.488</td>\n      <td>0.455204</td>\n    </tr>\n    <tr>\n      <th>7</th>\n      <td>1959-09-30 23:59:59.999999999</td>\n      <td>infl</td>\n      <td>2.740</td>\n      <td>-1.714606</td>\n    </tr>\n    <tr>\n      <th>8</th>\n      <td>1959-09-30 23:59:59.999999999</td>\n      <td>unemp</td>\n      <td>5.300</td>\n      <td>0.079527</td>\n    </tr>\n    <tr>\n      <th>9</th>\n      <td>1959-12-31 23:59:59.999999999</td>\n      <td>realgdp</td>\n      <td>2785.204</td>\n      <td>-0.650964</td>\n    </tr>\n  </tbody>\n</table>\n</div>"
     },
     "execution_count": 72,
     "metadata": {},
     "output_type": "execute_result"
    }
   ],
   "source": [
    "# 假如有两个数值列，同时又想重塑\n",
    "ldata['value2'] = np.random.randn(len(ldata))\n",
    "ldata[:10]"
   ],
   "metadata": {
    "collapsed": false,
    "pycharm": {
     "name": "#%%\n"
    }
   }
  },
  {
   "cell_type": "code",
   "execution_count": 73,
   "outputs": [
    {
     "data": {
      "text/plain": "                              value                    value2            \\\nitem                           infl   realgdp unemp      infl   realgdp   \ndate                                                                      \n1959-03-31 23:59:59.999999999  0.00  2710.349   5.8  0.020892 -0.350004   \n1959-06-30 23:59:59.999999999  2.34  2778.801   5.1  1.079641  0.659837   \n1959-09-30 23:59:59.999999999  2.74  2775.488   5.3 -1.714606  0.455204   \n1959-12-31 23:59:59.999999999  0.27  2785.204   5.6  0.540690 -0.650964   \n1960-03-31 23:59:59.999999999  2.31  2847.699   5.2  0.411236  1.338170   \n\n                                         \nitem                              unemp  \ndate                                     \n1959-03-31 23:59:59.999999999 -1.269892  \n1959-06-30 23:59:59.999999999  0.071027  \n1959-09-30 23:59:59.999999999  0.079527  \n1959-12-31 23:59:59.999999999 -0.690465  \n1960-03-31 23:59:59.999999999  1.379807  ",
      "text/html": "<div>\n<style scoped>\n    .dataframe tbody tr th:only-of-type {\n        vertical-align: middle;\n    }\n\n    .dataframe tbody tr th {\n        vertical-align: top;\n    }\n\n    .dataframe thead tr th {\n        text-align: left;\n    }\n\n    .dataframe thead tr:last-of-type th {\n        text-align: right;\n    }\n</style>\n<table border=\"1\" class=\"dataframe\">\n  <thead>\n    <tr>\n      <th></th>\n      <th colspan=\"3\" halign=\"left\">value</th>\n      <th colspan=\"3\" halign=\"left\">value2</th>\n    </tr>\n    <tr>\n      <th>item</th>\n      <th>infl</th>\n      <th>realgdp</th>\n      <th>unemp</th>\n      <th>infl</th>\n      <th>realgdp</th>\n      <th>unemp</th>\n    </tr>\n    <tr>\n      <th>date</th>\n      <th></th>\n      <th></th>\n      <th></th>\n      <th></th>\n      <th></th>\n      <th></th>\n    </tr>\n  </thead>\n  <tbody>\n    <tr>\n      <th>1959-03-31 23:59:59.999999999</th>\n      <td>0.00</td>\n      <td>2710.349</td>\n      <td>5.8</td>\n      <td>0.020892</td>\n      <td>-0.350004</td>\n      <td>-1.269892</td>\n    </tr>\n    <tr>\n      <th>1959-06-30 23:59:59.999999999</th>\n      <td>2.34</td>\n      <td>2778.801</td>\n      <td>5.1</td>\n      <td>1.079641</td>\n      <td>0.659837</td>\n      <td>0.071027</td>\n    </tr>\n    <tr>\n      <th>1959-09-30 23:59:59.999999999</th>\n      <td>2.74</td>\n      <td>2775.488</td>\n      <td>5.3</td>\n      <td>-1.714606</td>\n      <td>0.455204</td>\n      <td>0.079527</td>\n    </tr>\n    <tr>\n      <th>1959-12-31 23:59:59.999999999</th>\n      <td>0.27</td>\n      <td>2785.204</td>\n      <td>5.6</td>\n      <td>0.540690</td>\n      <td>-0.650964</td>\n      <td>-0.690465</td>\n    </tr>\n    <tr>\n      <th>1960-03-31 23:59:59.999999999</th>\n      <td>2.31</td>\n      <td>2847.699</td>\n      <td>5.2</td>\n      <td>0.411236</td>\n      <td>1.338170</td>\n      <td>1.379807</td>\n    </tr>\n  </tbody>\n</table>\n</div>"
     },
     "execution_count": 73,
     "metadata": {},
     "output_type": "execute_result"
    }
   ],
   "source": [
    "# 遗漏value参数，会得到一个含有多层列的DataFrame\n",
    "pivoted1 = ldata.pivot('date', 'item')\n",
    "pivoted1[:5]"
   ],
   "metadata": {
    "collapsed": false,
    "pycharm": {
     "name": "#%%\n"
    }
   }
  },
  {
   "cell_type": "code",
   "execution_count": 74,
   "outputs": [
    {
     "data": {
      "text/plain": "item                           infl   realgdp  unemp\ndate                                                \n1959-03-31 23:59:59.999999999  0.00  2710.349    5.8\n1959-06-30 23:59:59.999999999  2.34  2778.801    5.1\n1959-09-30 23:59:59.999999999  2.74  2775.488    5.3\n1959-12-31 23:59:59.999999999  0.27  2785.204    5.6\n1960-03-31 23:59:59.999999999  2.31  2847.699    5.2",
      "text/html": "<div>\n<style scoped>\n    .dataframe tbody tr th:only-of-type {\n        vertical-align: middle;\n    }\n\n    .dataframe tbody tr th {\n        vertical-align: top;\n    }\n\n    .dataframe thead th {\n        text-align: right;\n    }\n</style>\n<table border=\"1\" class=\"dataframe\">\n  <thead>\n    <tr style=\"text-align: right;\">\n      <th>item</th>\n      <th>infl</th>\n      <th>realgdp</th>\n      <th>unemp</th>\n    </tr>\n    <tr>\n      <th>date</th>\n      <th></th>\n      <th></th>\n      <th></th>\n    </tr>\n  </thead>\n  <tbody>\n    <tr>\n      <th>1959-03-31 23:59:59.999999999</th>\n      <td>0.00</td>\n      <td>2710.349</td>\n      <td>5.8</td>\n    </tr>\n    <tr>\n      <th>1959-06-30 23:59:59.999999999</th>\n      <td>2.34</td>\n      <td>2778.801</td>\n      <td>5.1</td>\n    </tr>\n    <tr>\n      <th>1959-09-30 23:59:59.999999999</th>\n      <td>2.74</td>\n      <td>2775.488</td>\n      <td>5.3</td>\n    </tr>\n    <tr>\n      <th>1959-12-31 23:59:59.999999999</th>\n      <td>0.27</td>\n      <td>2785.204</td>\n      <td>5.6</td>\n    </tr>\n    <tr>\n      <th>1960-03-31 23:59:59.999999999</th>\n      <td>2.31</td>\n      <td>2847.699</td>\n      <td>5.2</td>\n    </tr>\n  </tbody>\n</table>\n</div>"
     },
     "execution_count": 74,
     "metadata": {},
     "output_type": "execute_result"
    }
   ],
   "source": [
    "pivoted1['value'][:5]"
   ],
   "metadata": {
    "collapsed": false,
    "pycharm": {
     "name": "#%%\n"
    }
   }
  },
  {
   "cell_type": "code",
   "execution_count": 75,
   "outputs": [],
   "source": [
    "# pivot等价于使用set_index创建分层索引，然后调用unstack\n",
    "unstacked = ldata.set_index(['date', 'item']).unstack('item')"
   ],
   "metadata": {
    "collapsed": false,
    "pycharm": {
     "name": "#%%\n"
    }
   }
  },
  {
   "cell_type": "code",
   "execution_count": 76,
   "outputs": [
    {
     "data": {
      "text/plain": "                              value                    value2            \\\nitem                           infl   realgdp unemp      infl   realgdp   \ndate                                                                      \n1959-03-31 23:59:59.999999999  0.00  2710.349   5.8  0.020892 -0.350004   \n1959-06-30 23:59:59.999999999  2.34  2778.801   5.1  1.079641  0.659837   \n1959-09-30 23:59:59.999999999  2.74  2775.488   5.3 -1.714606  0.455204   \n1959-12-31 23:59:59.999999999  0.27  2785.204   5.6  0.540690 -0.650964   \n1960-03-31 23:59:59.999999999  2.31  2847.699   5.2  0.411236  1.338170   \n\n                                         \nitem                              unemp  \ndate                                     \n1959-03-31 23:59:59.999999999 -1.269892  \n1959-06-30 23:59:59.999999999  0.071027  \n1959-09-30 23:59:59.999999999  0.079527  \n1959-12-31 23:59:59.999999999 -0.690465  \n1960-03-31 23:59:59.999999999  1.379807  ",
      "text/html": "<div>\n<style scoped>\n    .dataframe tbody tr th:only-of-type {\n        vertical-align: middle;\n    }\n\n    .dataframe tbody tr th {\n        vertical-align: top;\n    }\n\n    .dataframe thead tr th {\n        text-align: left;\n    }\n\n    .dataframe thead tr:last-of-type th {\n        text-align: right;\n    }\n</style>\n<table border=\"1\" class=\"dataframe\">\n  <thead>\n    <tr>\n      <th></th>\n      <th colspan=\"3\" halign=\"left\">value</th>\n      <th colspan=\"3\" halign=\"left\">value2</th>\n    </tr>\n    <tr>\n      <th>item</th>\n      <th>infl</th>\n      <th>realgdp</th>\n      <th>unemp</th>\n      <th>infl</th>\n      <th>realgdp</th>\n      <th>unemp</th>\n    </tr>\n    <tr>\n      <th>date</th>\n      <th></th>\n      <th></th>\n      <th></th>\n      <th></th>\n      <th></th>\n      <th></th>\n    </tr>\n  </thead>\n  <tbody>\n    <tr>\n      <th>1959-03-31 23:59:59.999999999</th>\n      <td>0.00</td>\n      <td>2710.349</td>\n      <td>5.8</td>\n      <td>0.020892</td>\n      <td>-0.350004</td>\n      <td>-1.269892</td>\n    </tr>\n    <tr>\n      <th>1959-06-30 23:59:59.999999999</th>\n      <td>2.34</td>\n      <td>2778.801</td>\n      <td>5.1</td>\n      <td>1.079641</td>\n      <td>0.659837</td>\n      <td>0.071027</td>\n    </tr>\n    <tr>\n      <th>1959-09-30 23:59:59.999999999</th>\n      <td>2.74</td>\n      <td>2775.488</td>\n      <td>5.3</td>\n      <td>-1.714606</td>\n      <td>0.455204</td>\n      <td>0.079527</td>\n    </tr>\n    <tr>\n      <th>1959-12-31 23:59:59.999999999</th>\n      <td>0.27</td>\n      <td>2785.204</td>\n      <td>5.6</td>\n      <td>0.540690</td>\n      <td>-0.650964</td>\n      <td>-0.690465</td>\n    </tr>\n    <tr>\n      <th>1960-03-31 23:59:59.999999999</th>\n      <td>2.31</td>\n      <td>2847.699</td>\n      <td>5.2</td>\n      <td>0.411236</td>\n      <td>1.338170</td>\n      <td>1.379807</td>\n    </tr>\n  </tbody>\n</table>\n</div>"
     },
     "execution_count": 76,
     "metadata": {},
     "output_type": "execute_result"
    }
   ],
   "source": [
    "unstacked[:5]"
   ],
   "metadata": {
    "collapsed": false,
    "pycharm": {
     "name": "#%%\n"
    }
   }
  },
  {
   "cell_type": "markdown",
   "source": [
    "### 8.3.3 将\"宽\"透视为\"长\""
   ],
   "metadata": {
    "collapsed": false,
    "pycharm": {
     "name": "#%% md\n"
    }
   }
  },
  {
   "cell_type": "code",
   "execution_count": 77,
   "outputs": [
    {
     "data": {
      "text/plain": "   key  A  B  C\n0  foo  1  4  7\n1  bar  2  5  8\n2  baz  3  6  9",
      "text/html": "<div>\n<style scoped>\n    .dataframe tbody tr th:only-of-type {\n        vertical-align: middle;\n    }\n\n    .dataframe tbody tr th {\n        vertical-align: top;\n    }\n\n    .dataframe thead th {\n        text-align: right;\n    }\n</style>\n<table border=\"1\" class=\"dataframe\">\n  <thead>\n    <tr style=\"text-align: right;\">\n      <th></th>\n      <th>key</th>\n      <th>A</th>\n      <th>B</th>\n      <th>C</th>\n    </tr>\n  </thead>\n  <tbody>\n    <tr>\n      <th>0</th>\n      <td>foo</td>\n      <td>1</td>\n      <td>4</td>\n      <td>7</td>\n    </tr>\n    <tr>\n      <th>1</th>\n      <td>bar</td>\n      <td>2</td>\n      <td>5</td>\n      <td>8</td>\n    </tr>\n    <tr>\n      <th>2</th>\n      <td>baz</td>\n      <td>3</td>\n      <td>6</td>\n      <td>9</td>\n    </tr>\n  </tbody>\n</table>\n</div>"
     },
     "execution_count": 77,
     "metadata": {},
     "output_type": "execute_result"
    }
   ],
   "source": [
    "# pivot的反向操作是pandas.melt。将一列变换为新DataFrame中的多列不同，\n",
    "# 它将多列合并成一列，产生一个新的DataFrame，其长度比输入长度更长\n",
    "df = pd.DataFrame({'key': ['foo', 'bar', 'baz'],\n",
    "                   'A': [1, 2, 3],\n",
    "                   'B': [4, 5, 6],\n",
    "                   'C': [7, 8, 9]})\n",
    "df"
   ],
   "metadata": {
    "collapsed": false,
    "pycharm": {
     "name": "#%%\n"
    }
   }
  },
  {
   "cell_type": "code",
   "execution_count": 78,
   "outputs": [
    {
     "data": {
      "text/plain": "   key variable  value\n0  foo        A      1\n1  bar        A      2\n2  baz        A      3\n3  foo        B      4\n4  bar        B      5\n5  baz        B      6\n6  foo        C      7\n7  bar        C      8\n8  baz        C      9",
      "text/html": "<div>\n<style scoped>\n    .dataframe tbody tr th:only-of-type {\n        vertical-align: middle;\n    }\n\n    .dataframe tbody tr th {\n        vertical-align: top;\n    }\n\n    .dataframe thead th {\n        text-align: right;\n    }\n</style>\n<table border=\"1\" class=\"dataframe\">\n  <thead>\n    <tr style=\"text-align: right;\">\n      <th></th>\n      <th>key</th>\n      <th>variable</th>\n      <th>value</th>\n    </tr>\n  </thead>\n  <tbody>\n    <tr>\n      <th>0</th>\n      <td>foo</td>\n      <td>A</td>\n      <td>1</td>\n    </tr>\n    <tr>\n      <th>1</th>\n      <td>bar</td>\n      <td>A</td>\n      <td>2</td>\n    </tr>\n    <tr>\n      <th>2</th>\n      <td>baz</td>\n      <td>A</td>\n      <td>3</td>\n    </tr>\n    <tr>\n      <th>3</th>\n      <td>foo</td>\n      <td>B</td>\n      <td>4</td>\n    </tr>\n    <tr>\n      <th>4</th>\n      <td>bar</td>\n      <td>B</td>\n      <td>5</td>\n    </tr>\n    <tr>\n      <th>5</th>\n      <td>baz</td>\n      <td>B</td>\n      <td>6</td>\n    </tr>\n    <tr>\n      <th>6</th>\n      <td>foo</td>\n      <td>C</td>\n      <td>7</td>\n    </tr>\n    <tr>\n      <th>7</th>\n      <td>bar</td>\n      <td>C</td>\n      <td>8</td>\n    </tr>\n    <tr>\n      <th>8</th>\n      <td>baz</td>\n      <td>C</td>\n      <td>9</td>\n    </tr>\n  </tbody>\n</table>\n</div>"
     },
     "execution_count": 78,
     "metadata": {},
     "output_type": "execute_result"
    }
   ],
   "source": [
    "# key列可以作为分组指标，其他列均为数据值，但使用pandas.melt时，指定那些列是分组指标\n",
    "melted = pd.melt(df, ['key'])\n",
    "melted"
   ],
   "metadata": {
    "collapsed": false,
    "pycharm": {
     "name": "#%%\n"
    }
   }
  },
  {
   "cell_type": "code",
   "execution_count": 79,
   "outputs": [
    {
     "data": {
      "text/plain": "         value      \nvariable     A  B  C\nkey                 \nbar          2  5  8\nbaz          3  6  9\nfoo          1  4  7",
      "text/html": "<div>\n<style scoped>\n    .dataframe tbody tr th:only-of-type {\n        vertical-align: middle;\n    }\n\n    .dataframe tbody tr th {\n        vertical-align: top;\n    }\n\n    .dataframe thead tr th {\n        text-align: left;\n    }\n\n    .dataframe thead tr:last-of-type th {\n        text-align: right;\n    }\n</style>\n<table border=\"1\" class=\"dataframe\">\n  <thead>\n    <tr>\n      <th></th>\n      <th colspan=\"3\" halign=\"left\">value</th>\n    </tr>\n    <tr>\n      <th>variable</th>\n      <th>A</th>\n      <th>B</th>\n      <th>C</th>\n    </tr>\n    <tr>\n      <th>key</th>\n      <th></th>\n      <th></th>\n      <th></th>\n    </tr>\n  </thead>\n  <tbody>\n    <tr>\n      <th>bar</th>\n      <td>2</td>\n      <td>5</td>\n      <td>8</td>\n    </tr>\n    <tr>\n      <th>baz</th>\n      <td>3</td>\n      <td>6</td>\n      <td>9</td>\n    </tr>\n    <tr>\n      <th>foo</th>\n      <td>1</td>\n      <td>4</td>\n      <td>7</td>\n    </tr>\n  </tbody>\n</table>\n</div>"
     },
     "execution_count": 79,
     "metadata": {},
     "output_type": "execute_result"
    }
   ],
   "source": [
    "# 还原成原始的数据\n",
    "melted.pivot('key', 'variable')"
   ],
   "metadata": {
    "collapsed": false,
    "pycharm": {
     "name": "#%%\n"
    }
   }
  },
  {
   "cell_type": "code",
   "execution_count": 80,
   "outputs": [
    {
     "data": {
      "text/plain": "   key variable  value\n0  foo        A      1\n1  bar        A      2\n2  baz        A      3\n3  foo        B      4\n4  bar        B      5\n5  baz        B      6",
      "text/html": "<div>\n<style scoped>\n    .dataframe tbody tr th:only-of-type {\n        vertical-align: middle;\n    }\n\n    .dataframe tbody tr th {\n        vertical-align: top;\n    }\n\n    .dataframe thead th {\n        text-align: right;\n    }\n</style>\n<table border=\"1\" class=\"dataframe\">\n  <thead>\n    <tr style=\"text-align: right;\">\n      <th></th>\n      <th>key</th>\n      <th>variable</th>\n      <th>value</th>\n    </tr>\n  </thead>\n  <tbody>\n    <tr>\n      <th>0</th>\n      <td>foo</td>\n      <td>A</td>\n      <td>1</td>\n    </tr>\n    <tr>\n      <th>1</th>\n      <td>bar</td>\n      <td>A</td>\n      <td>2</td>\n    </tr>\n    <tr>\n      <th>2</th>\n      <td>baz</td>\n      <td>A</td>\n      <td>3</td>\n    </tr>\n    <tr>\n      <th>3</th>\n      <td>foo</td>\n      <td>B</td>\n      <td>4</td>\n    </tr>\n    <tr>\n      <th>4</th>\n      <td>bar</td>\n      <td>B</td>\n      <td>5</td>\n    </tr>\n    <tr>\n      <th>5</th>\n      <td>baz</td>\n      <td>B</td>\n      <td>6</td>\n    </tr>\n  </tbody>\n</table>\n</div>"
     },
     "execution_count": 80,
     "metadata": {},
     "output_type": "execute_result"
    }
   ],
   "source": [
    "# 也可以执行列的子集作为值列\n",
    "pd.melt(df, id_vars=['key'], value_vars=['A', 'B'])"
   ],
   "metadata": {
    "collapsed": false,
    "pycharm": {
     "name": "#%%\n"
    }
   }
  },
  {
   "cell_type": "code",
   "execution_count": 81,
   "outputs": [
    {
     "data": {
      "text/plain": "  variable  value\n0        A      1\n1        A      2\n2        A      3\n3        B      4\n4        B      5\n5        B      6\n6        C      7\n7        C      8\n8        C      9",
      "text/html": "<div>\n<style scoped>\n    .dataframe tbody tr th:only-of-type {\n        vertical-align: middle;\n    }\n\n    .dataframe tbody tr th {\n        vertical-align: top;\n    }\n\n    .dataframe thead th {\n        text-align: right;\n    }\n</style>\n<table border=\"1\" class=\"dataframe\">\n  <thead>\n    <tr style=\"text-align: right;\">\n      <th></th>\n      <th>variable</th>\n      <th>value</th>\n    </tr>\n  </thead>\n  <tbody>\n    <tr>\n      <th>0</th>\n      <td>A</td>\n      <td>1</td>\n    </tr>\n    <tr>\n      <th>1</th>\n      <td>A</td>\n      <td>2</td>\n    </tr>\n    <tr>\n      <th>2</th>\n      <td>A</td>\n      <td>3</td>\n    </tr>\n    <tr>\n      <th>3</th>\n      <td>B</td>\n      <td>4</td>\n    </tr>\n    <tr>\n      <th>4</th>\n      <td>B</td>\n      <td>5</td>\n    </tr>\n    <tr>\n      <th>5</th>\n      <td>B</td>\n      <td>6</td>\n    </tr>\n    <tr>\n      <th>6</th>\n      <td>C</td>\n      <td>7</td>\n    </tr>\n    <tr>\n      <th>7</th>\n      <td>C</td>\n      <td>8</td>\n    </tr>\n    <tr>\n      <th>8</th>\n      <td>C</td>\n      <td>9</td>\n    </tr>\n  </tbody>\n</table>\n</div>"
     },
     "execution_count": 81,
     "metadata": {},
     "output_type": "execute_result"
    }
   ],
   "source": [
    "# 也可以不指定任何分组指标\n",
    "pd.melt(df, value_vars=['A','B','C'])"
   ],
   "metadata": {
    "collapsed": false,
    "pycharm": {
     "name": "#%%\n"
    }
   }
  },
  {
   "cell_type": "code",
   "execution_count": 81,
   "outputs": [],
   "source": [],
   "metadata": {
    "collapsed": false,
    "pycharm": {
     "name": "#%%\n"
    }
   }
  }
 ],
 "metadata": {
  "kernelspec": {
   "display_name": "Python 3",
   "language": "python",
   "name": "python3"
  },
  "language_info": {
   "codemirror_mode": {
    "name": "ipython",
    "version": 2
   },
   "file_extension": ".py",
   "mimetype": "text/x-python",
   "name": "python",
   "nbconvert_exporter": "python",
   "pygments_lexer": "ipython2",
   "version": "2.7.6"
  }
 },
 "nbformat": 4,
 "nbformat_minor": 0
}