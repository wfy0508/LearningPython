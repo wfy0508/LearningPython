{
 "cells": [
  {
   "cell_type": "code",
   "execution_count": 3,
   "outputs": [],
   "source": [
    "import pandas as pd\n",
    "import numpy as np\n",
    "import xlwings as xw\n",
    "import datetime as dt"
   ],
   "metadata": {
    "collapsed": false,
    "pycharm": {
     "name": "#%%\n"
    }
   }
  },
  {
   "cell_type": "code",
   "execution_count": 2,
   "outputs": [
    {
     "data": {
      "text/plain": "     Trial1    Trial2    Trial3    Trial4    Trial5\n0  0.613029 -0.709623  0.079888  0.052574  0.919275\n1 -0.471089  0.828345  1.126787 -0.724273  0.025305\n2  0.955895  1.231486 -0.086140 -0.777691  0.117343\n3 -1.072141  0.255823  1.981712  0.279765 -2.880319\n4  0.389290 -0.118706  0.952180  0.594684  0.861016",
      "text/html": "<div>\n<style scoped>\n    .dataframe tbody tr th:only-of-type {\n        vertical-align: middle;\n    }\n\n    .dataframe tbody tr th {\n        vertical-align: top;\n    }\n\n    .dataframe thead th {\n        text-align: right;\n    }\n</style>\n<table border=\"1\" class=\"dataframe\">\n  <thead>\n    <tr style=\"text-align: right;\">\n      <th></th>\n      <th>Trial1</th>\n      <th>Trial2</th>\n      <th>Trial3</th>\n      <th>Trial4</th>\n      <th>Trial5</th>\n    </tr>\n  </thead>\n  <tbody>\n    <tr>\n      <th>0</th>\n      <td>0.613029</td>\n      <td>-0.709623</td>\n      <td>0.079888</td>\n      <td>0.052574</td>\n      <td>0.919275</td>\n    </tr>\n    <tr>\n      <th>1</th>\n      <td>-0.471089</td>\n      <td>0.828345</td>\n      <td>1.126787</td>\n      <td>-0.724273</td>\n      <td>0.025305</td>\n    </tr>\n    <tr>\n      <th>2</th>\n      <td>0.955895</td>\n      <td>1.231486</td>\n      <td>-0.086140</td>\n      <td>-0.777691</td>\n      <td>0.117343</td>\n    </tr>\n    <tr>\n      <th>3</th>\n      <td>-1.072141</td>\n      <td>0.255823</td>\n      <td>1.981712</td>\n      <td>0.279765</td>\n      <td>-2.880319</td>\n    </tr>\n    <tr>\n      <th>4</th>\n      <td>0.389290</td>\n      <td>-0.118706</td>\n      <td>0.952180</td>\n      <td>0.594684</td>\n      <td>0.861016</td>\n    </tr>\n  </tbody>\n</table>\n</div>"
     },
     "execution_count": 2,
     "metadata": {},
     "output_type": "execute_result"
    }
   ],
   "source": [
    "df = pd.DataFrame(data=np.random.randn(100, 5),\n",
    "                  columns=[f\"Trial{i}\" for i in range(1, 6)])\n",
    "df.head()"
   ],
   "metadata": {
    "collapsed": false,
    "pycharm": {
     "name": "#%%\n"
    }
   }
  },
  {
   "cell_type": "code",
   "execution_count": 3,
   "outputs": [],
   "source": [
    "# 在Excel中查看DataFrame数据\n",
    "xw.view(df)"
   ],
   "metadata": {
    "collapsed": false,
    "pycharm": {
     "name": "#%%\n"
    }
   }
  },
  {
   "cell_type": "code",
   "execution_count": 9,
   "outputs": [
    {
     "data": {
      "text/plain": "'工作簿1'"
     },
     "execution_count": 9,
     "metadata": {},
     "output_type": "execute_result"
    }
   ],
   "source": [
    "# 创建一个新的空工作簿并打印其名称\n",
    "book = xw.Book()\n",
    "book.name"
   ],
   "metadata": {
    "collapsed": false,
    "pycharm": {
     "name": "#%%\n"
    }
   }
  },
  {
   "cell_type": "code",
   "execution_count": 10,
   "outputs": [
    {
     "data": {
      "text/plain": "Sheets([<Sheet [工作簿1]Sheet1>])"
     },
     "execution_count": 10,
     "metadata": {},
     "output_type": "execute_result"
    }
   ],
   "source": [
    "# 访问工作表集合\n",
    "book.sheets"
   ],
   "metadata": {
    "collapsed": false,
    "pycharm": {
     "name": "#%%\n"
    }
   }
  },
  {
   "cell_type": "code",
   "execution_count": 11,
   "outputs": [
    {
     "data": {
      "text/plain": "<Sheet [工作簿1]Sheet1>"
     },
     "execution_count": 11,
     "metadata": {},
     "output_type": "execute_result"
    }
   ],
   "source": [
    "# 通过索引或者名称获取工作表对象\n",
    "sheet1 = book.sheets[0]\n",
    "sheet1"
   ],
   "metadata": {
    "collapsed": false,
    "pycharm": {
     "name": "#%%\n"
    }
   }
  },
  {
   "cell_type": "code",
   "execution_count": 12,
   "outputs": [
    {
     "data": {
      "text/plain": "<Sheet [工作簿1]Sheet1>"
     },
     "execution_count": 12,
     "metadata": {},
     "output_type": "execute_result"
    }
   ],
   "source": [
    "sheet1 = book.sheets['Sheet1']\n",
    "sheet1"
   ],
   "metadata": {
    "collapsed": false,
    "pycharm": {
     "name": "#%%\n"
    }
   }
  },
  {
   "cell_type": "code",
   "execution_count": 14,
   "outputs": [],
   "source": [
    "sheet1.range('A1').value"
   ],
   "metadata": {
    "collapsed": false,
    "pycharm": {
     "name": "#%%\n"
    }
   }
  },
  {
   "cell_type": "code",
   "execution_count": 15,
   "outputs": [
    {
     "data": {
      "text/plain": "'Hello World'"
     },
     "execution_count": 15,
     "metadata": {},
     "output_type": "execute_result"
    }
   ],
   "source": [
    "# 写入值\n",
    "sheet1.range('A1').value = 'Hello World'\n",
    "sheet1.range('A1').value"
   ],
   "metadata": {
    "collapsed": false,
    "pycharm": {
     "name": "#%%\n"
    }
   }
  },
  {
   "cell_type": "code",
   "execution_count": 16,
   "outputs": [],
   "source": [
    "# 写入数组\n",
    "sheet1.range('A1').value = np.random.randn(5, 5)"
   ],
   "metadata": {
    "collapsed": false,
    "pycharm": {
     "name": "#%%\n"
    }
   }
  },
  {
   "cell_type": "code",
   "execution_count": 18,
   "outputs": [
    {
     "data": {
      "text/plain": "0.8076891882012042"
     },
     "execution_count": 18,
     "metadata": {},
     "output_type": "execute_result"
    }
   ],
   "source": [
    "# [0, 0]表示第一行第一列\n",
    "book.sheets(0).range('A1:B2')[0, 0].value"
   ],
   "metadata": {
    "collapsed": false,
    "pycharm": {
     "name": "#%%\n"
    }
   }
  },
  {
   "cell_type": "code",
   "execution_count": 20,
   "outputs": [
    {
     "data": {
      "text/plain": "0.5961109198694295"
     },
     "execution_count": 20,
     "metadata": {},
     "output_type": "execute_result"
    }
   ],
   "source": [
    "# 通过sheet索引访问B4\n",
    "sheet1[3, 1].value"
   ],
   "metadata": {
    "collapsed": false,
    "pycharm": {
     "name": "#%%\n"
    }
   }
  },
  {
   "cell_type": "code",
   "execution_count": 22,
   "outputs": [
    {
     "data": {
      "text/plain": "0.5961109198694295"
     },
     "execution_count": 22,
     "metadata": {},
     "output_type": "execute_result"
    }
   ],
   "source": [
    "# 通过range索引访问B4\n",
    "sheet1.range((4, 2)).value"
   ],
   "metadata": {
    "collapsed": false,
    "pycharm": {
     "name": "#%%\n"
    }
   }
  },
  {
   "cell_type": "code",
   "execution_count": 26,
   "outputs": [
    {
     "data": {
      "text/plain": "[[-0.05001295664971908, -0.44165559163289325, -1.2071871396677831],\n [0.22931354821825464, -0.06067618766112328, 1.723477430590943]]"
     },
     "execution_count": 26,
     "metadata": {},
     "output_type": "execute_result"
    }
   ],
   "source": [
    "# 通过sheet切片来访问A2:C3\n",
    "sheet1[1:3, 0:3].value"
   ],
   "metadata": {
    "collapsed": false,
    "pycharm": {
     "name": "#%%\n"
    }
   }
  },
  {
   "cell_type": "code",
   "execution_count": 29,
   "outputs": [
    {
     "data": {
      "text/plain": "[[-0.05001295664971908, -0.44165559163289325, -1.2071871396677831],\n [0.22931354821825464, -0.06067618766112328, 1.723477430590943]]"
     },
     "execution_count": 29,
     "metadata": {},
     "output_type": "execute_result"
    }
   ],
   "source": [
    "# 通过range切片来访问A2:C3，注意range的切片是从左到右的\n",
    "# 传入的是A2和C3的索引\n",
    "sheet1.range((2, 1), (3, 3)).value"
   ],
   "metadata": {
    "collapsed": false,
    "pycharm": {
     "name": "#%%\n"
    }
   }
  },
  {
   "cell_type": "code",
   "execution_count": 30,
   "outputs": [
    {
     "data": {
      "text/plain": "<Excel App 6625>"
     },
     "execution_count": 30,
     "metadata": {},
     "output_type": "execute_result"
    }
   ],
   "source": [
    "# 通过自底向上的方式得到app对象\n",
    "# range->sheet->book->app\n",
    "sheet1['A1'].sheet.book.app"
   ],
   "metadata": {
    "collapsed": false,
    "pycharm": {
     "name": "#%%\n"
    }
   }
  },
  {
   "cell_type": "code",
   "execution_count": 31,
   "outputs": [
    {
     "data": {
      "text/plain": "['工作簿1']"
     },
     "execution_count": 31,
     "metadata": {},
     "output_type": "execute_result"
    }
   ],
   "source": [
    "# app的常见用例是在一个隐藏的Excel中打开工作簿，这样你就可以在后台运行xlwings脚本且不会弹出Excel窗口，并同时完成其他工作。\n",
    "# 可以通过app.visible设置是否显示Excel窗口\n",
    "visible_app = sheet1.book.app\n",
    "invisible_app = xw.App(visible=False)\n",
    "[book.name for book in visible_app.books]"
   ],
   "metadata": {
    "collapsed": false,
    "pycharm": {
     "name": "#%%\n"
    }
   }
  },
  {
   "cell_type": "code",
   "execution_count": 32,
   "outputs": [
    {
     "data": {
      "text/plain": "['工作簿2']"
     },
     "execution_count": 32,
     "metadata": {},
     "output_type": "execute_result"
    }
   ],
   "source": [
    "[book.name for book in invisible_app.books]"
   ],
   "metadata": {
    "collapsed": false,
    "pycharm": {
     "name": "#%%\n"
    }
   }
  },
  {
   "cell_type": "code",
   "execution_count": 33,
   "outputs": [
    {
     "data": {
      "text/plain": "[8973, 6625]"
     },
     "execution_count": 33,
     "metadata": {},
     "output_type": "execute_result"
    }
   ],
   "source": [
    "# 显示app的进程id\n",
    "xw.apps.keys()"
   ],
   "metadata": {
    "collapsed": false,
    "pycharm": {
     "name": "#%%\n"
    }
   }
  },
  {
   "cell_type": "code",
   "execution_count": 38,
   "outputs": [],
   "source": [
    "invisible_book = invisible_app.books[0]\n",
    "invisible_book.sheets[0]['A1'].value = 'Created by an invisible app.'\n",
    "invisible_book.save('./data/invisible_book.xlsx')\n",
    "invisible_app.quit()"
   ],
   "metadata": {
    "collapsed": false,
    "pycharm": {
     "name": "#%%\n"
    }
   }
  },
  {
   "cell_type": "markdown",
   "source": [
    "### 9.2.1 处理DataFrame"
   ],
   "metadata": {
    "collapsed": false,
    "pycharm": {
     "name": "#%% md\n"
    }
   }
  },
  {
   "cell_type": "code",
   "execution_count": 4,
   "outputs": [
    {
     "data": {
      "text/plain": "         name  age country  score      continent\nuser_id                                         \n1001     Mark   55   Italy    4.5         Europe\n1002     John   45     USA    3.5  North America",
      "text/html": "<div>\n<style scoped>\n    .dataframe tbody tr th:only-of-type {\n        vertical-align: middle;\n    }\n\n    .dataframe tbody tr th {\n        vertical-align: top;\n    }\n\n    .dataframe thead th {\n        text-align: right;\n    }\n</style>\n<table border=\"1\" class=\"dataframe\">\n  <thead>\n    <tr style=\"text-align: right;\">\n      <th></th>\n      <th>name</th>\n      <th>age</th>\n      <th>country</th>\n      <th>score</th>\n      <th>continent</th>\n    </tr>\n    <tr>\n      <th>user_id</th>\n      <th></th>\n      <th></th>\n      <th></th>\n      <th></th>\n      <th></th>\n    </tr>\n  </thead>\n  <tbody>\n    <tr>\n      <th>1001</th>\n      <td>Mark</td>\n      <td>55</td>\n      <td>Italy</td>\n      <td>4.5</td>\n      <td>Europe</td>\n    </tr>\n    <tr>\n      <th>1002</th>\n      <td>John</td>\n      <td>45</td>\n      <td>USA</td>\n      <td>3.5</td>\n      <td>North America</td>\n    </tr>\n  </tbody>\n</table>\n</div>"
     },
     "execution_count": 4,
     "metadata": {},
     "output_type": "execute_result"
    }
   ],
   "source": [
    "data = [['Mark', 55, 'Italy', 4.5, 'Europe'],\n",
    "        ['John', 45, 'USA', 3.5, 'North America']]\n",
    "df = pd.DataFrame(data=data,\n",
    "                  columns=['name', 'age', 'country', 'score', 'continent'],\n",
    "                  index=[1001, 1002])\n",
    "df.index.name = 'user_id'\n",
    "df.head()"
   ],
   "metadata": {
    "collapsed": false,
    "pycharm": {
     "name": "#%%\n"
    }
   }
  },
  {
   "cell_type": "code",
   "execution_count": 5,
   "outputs": [],
   "source": [
    "# 创建App对象\n",
    "import xlwings as xw\n",
    "\n",
    "app_1 = xw.App(visible=False)\n",
    "book_1 = app_1.books.add()\n",
    "sheet_1 = book_1.sheets[0]\n",
    "# 将DataFrame写入Excel\n",
    "sheet_1['A2'].value = df"
   ],
   "metadata": {
    "collapsed": false,
    "pycharm": {
     "name": "#%%\n"
    }
   }
  },
  {
   "cell_type": "code",
   "execution_count": 6,
   "outputs": [],
   "source": [
    "# 将DataFrame写入时，可以使用options参数指定写入的格式\n",
    "sheet_1['A10'].options(header=False, index=False).value = df"
   ],
   "metadata": {
    "collapsed": false,
    "pycharm": {
     "name": "#%%\n"
    }
   }
  },
  {
   "cell_type": "code",
   "execution_count": 10,
   "outputs": [
    {
     "data": {
      "text/plain": "         name   age country  score      continent\nuser_id                                          \n1001.0   Mark  55.0   Italy    4.5         Europe\n1002.0   John  45.0     USA    3.5  North America",
      "text/html": "<div>\n<style scoped>\n    .dataframe tbody tr th:only-of-type {\n        vertical-align: middle;\n    }\n\n    .dataframe tbody tr th {\n        vertical-align: top;\n    }\n\n    .dataframe thead th {\n        text-align: right;\n    }\n</style>\n<table border=\"1\" class=\"dataframe\">\n  <thead>\n    <tr style=\"text-align: right;\">\n      <th></th>\n      <th>name</th>\n      <th>age</th>\n      <th>country</th>\n      <th>score</th>\n      <th>continent</th>\n    </tr>\n    <tr>\n      <th>user_id</th>\n      <th></th>\n      <th></th>\n      <th></th>\n      <th></th>\n      <th></th>\n    </tr>\n  </thead>\n  <tbody>\n    <tr>\n      <th>1001.0</th>\n      <td>Mark</td>\n      <td>55.0</td>\n      <td>Italy</td>\n      <td>4.5</td>\n      <td>Europe</td>\n    </tr>\n    <tr>\n      <th>1002.0</th>\n      <td>John</td>\n      <td>45.0</td>\n      <td>USA</td>\n      <td>3.5</td>\n      <td>North America</td>\n    </tr>\n  </tbody>\n</table>\n</div>"
     },
     "execution_count": 10,
     "metadata": {},
     "output_type": "execute_result"
    }
   ],
   "source": [
    "# 使用expend来选取一块连续的单元格\n",
    "df2 = sheet_1['A2'].expand().options(pd.DataFrame).value\n",
    "df2"
   ],
   "metadata": {
    "collapsed": false,
    "pycharm": {
     "name": "#%%\n"
    }
   }
  },
  {
   "cell_type": "code",
   "execution_count": 11,
   "outputs": [],
   "source": [
    "# 如果需要整型索引，可以修改其数据类型\n",
    "df2.index = df2.index.astype(int)"
   ],
   "metadata": {
    "collapsed": false,
    "pycharm": {
     "name": "#%%\n"
    }
   }
  },
  {
   "cell_type": "code",
   "execution_count": 12,
   "outputs": [
    {
     "data": {
      "text/plain": "         name   age country  score      continent\nuser_id                                          \n1001     Mark  55.0   Italy    4.5         Europe\n1002     John  45.0     USA    3.5  North America",
      "text/html": "<div>\n<style scoped>\n    .dataframe tbody tr th:only-of-type {\n        vertical-align: middle;\n    }\n\n    .dataframe tbody tr th {\n        vertical-align: top;\n    }\n\n    .dataframe thead th {\n        text-align: right;\n    }\n</style>\n<table border=\"1\" class=\"dataframe\">\n  <thead>\n    <tr style=\"text-align: right;\">\n      <th></th>\n      <th>name</th>\n      <th>age</th>\n      <th>country</th>\n      <th>score</th>\n      <th>continent</th>\n    </tr>\n    <tr>\n      <th>user_id</th>\n      <th></th>\n      <th></th>\n      <th></th>\n      <th></th>\n      <th></th>\n    </tr>\n  </thead>\n  <tbody>\n    <tr>\n      <th>1001</th>\n      <td>Mark</td>\n      <td>55.0</td>\n      <td>Italy</td>\n      <td>4.5</td>\n      <td>Europe</td>\n    </tr>\n    <tr>\n      <th>1002</th>\n      <td>John</td>\n      <td>45.0</td>\n      <td>USA</td>\n      <td>3.5</td>\n      <td>North America</td>\n    </tr>\n  </tbody>\n</table>\n</div>"
     },
     "execution_count": 12,
     "metadata": {},
     "output_type": "execute_result"
    }
   ],
   "source": [
    "df2"
   ],
   "metadata": {
    "collapsed": false,
    "pycharm": {
     "name": "#%%\n"
    }
   }
  },
  {
   "cell_type": "code",
   "execution_count": 13,
   "outputs": [
    {
     "data": {
      "text/plain": "   user_id  name   age country  score      continent\n0   1001.0  Mark  55.0   Italy    4.5         Europe\n1   1002.0  John  45.0     USA    3.5  North America",
      "text/html": "<div>\n<style scoped>\n    .dataframe tbody tr th:only-of-type {\n        vertical-align: middle;\n    }\n\n    .dataframe tbody tr th {\n        vertical-align: top;\n    }\n\n    .dataframe thead th {\n        text-align: right;\n    }\n</style>\n<table border=\"1\" class=\"dataframe\">\n  <thead>\n    <tr style=\"text-align: right;\">\n      <th></th>\n      <th>user_id</th>\n      <th>name</th>\n      <th>age</th>\n      <th>country</th>\n      <th>score</th>\n      <th>continent</th>\n    </tr>\n  </thead>\n  <tbody>\n    <tr>\n      <th>0</th>\n      <td>1001.0</td>\n      <td>Mark</td>\n      <td>55.0</td>\n      <td>Italy</td>\n      <td>4.5</td>\n      <td>Europe</td>\n    </tr>\n    <tr>\n      <th>1</th>\n      <td>1002.0</td>\n      <td>John</td>\n      <td>45.0</td>\n      <td>USA</td>\n      <td>3.5</td>\n      <td>North America</td>\n    </tr>\n  </tbody>\n</table>\n</div>"
     },
     "execution_count": 13,
     "metadata": {},
     "output_type": "execute_result"
    }
   ],
   "source": [
    "# 通过设置index=False，Excel文件中的所有值都会被保存到DataFrame的数据部分并且使用默认索引\n",
    "sheet_1['A2'].expand().options(pd.DataFrame, index=False).value\n",
    "# 索引成为了数据的一部分\n",
    "\n",
    "# xlwings range对象的options方法修改的是读写Excel文件时处理值的方式\n",
    "# 只有在调用range对象的value属性时，options才会进行求值"
   ],
   "metadata": {
    "collapsed": false,
    "pycharm": {
     "name": "#%%\n"
    }
   }
  },
  {
   "cell_type": "code",
   "execution_count": 14,
   "outputs": [
    {
     "data": {
      "text/plain": "[None, None]"
     },
     "execution_count": 14,
     "metadata": {},
     "output_type": "execute_result"
    }
   ],
   "source": [
    "# ndim\n",
    "# 水平区域（一维）\n",
    "sheet_1['A1:B1'].value"
   ],
   "metadata": {
    "collapsed": false,
    "pycharm": {
     "name": "#%%\n"
    }
   }
  },
  {
   "cell_type": "code",
   "execution_count": 15,
   "outputs": [
    {
     "data": {
      "text/plain": "[None, 'user_id']"
     },
     "execution_count": 15,
     "metadata": {},
     "output_type": "execute_result"
    }
   ],
   "source": [
    "# 垂直区域（一维）\n",
    "sheet_1['A1:A2'].value"
   ],
   "metadata": {
    "collapsed": false,
    "pycharm": {
     "name": "#%%\n"
    }
   }
  },
  {
   "cell_type": "code",
   "execution_count": 16,
   "outputs": [
    {
     "data": {
      "text/plain": "[[None, None]]"
     },
     "execution_count": 16,
     "metadata": {},
     "output_type": "execute_result"
    }
   ],
   "source": [
    "# 水平区域（二维），强制转换为二维区域\n",
    "sheet_1['A1:B1'].options(ndim=2).value"
   ],
   "metadata": {
    "collapsed": false,
    "pycharm": {
     "name": "#%%\n"
    }
   }
  },
  {
   "cell_type": "code",
   "execution_count": 17,
   "outputs": [
    {
     "data": {
      "text/plain": "array([nan, nan])"
     },
     "execution_count": 17,
     "metadata": {},
     "output_type": "execute_result"
    }
   ],
   "source": [
    "# 使用np.array也可以转换，产生一个水平区域的一维数组\n",
    "sheet_1['A1:B1'].options(np.array).value"
   ],
   "metadata": {
    "collapsed": false,
    "pycharm": {
     "name": "#%%\n"
    }
   }
  },
  {
   "cell_type": "code",
   "execution_count": 18,
   "outputs": [
    {
     "data": {
      "text/plain": "array(['nan', 'user_id'], dtype='<U32')"
     },
     "execution_count": 18,
     "metadata": {},
     "output_type": "execute_result"
    }
   ],
   "source": [
    "sheet_1['A1:A2'].options(np.array).value"
   ],
   "metadata": {
    "collapsed": false,
    "pycharm": {
     "name": "#%%\n"
    }
   }
  },
  {
   "cell_type": "code",
   "execution_count": 22,
   "outputs": [],
   "source": [
    "# 如果需要垂直写入列表，那么此时可以使用transpose选项\n",
    "sheet_1['D1'].options(tranpose=True).value = [300, 200]"
   ],
   "metadata": {
    "collapsed": false,
    "pycharm": {
     "name": "#%%\n"
    }
   }
  },
  {
   "cell_type": "code",
   "execution_count": 23,
   "outputs": [],
   "source": [
    "# 写入一些示例数据\n",
    "sheet_1['A13'].value = [dt.date(2022, 6, 16), None, 1.0]"
   ],
   "metadata": {
    "collapsed": false,
    "pycharm": {
     "name": "#%%\n"
    }
   }
  },
  {
   "cell_type": "code",
   "execution_count": 24,
   "outputs": [
    {
     "data": {
      "text/plain": "[datetime.datetime(2022, 6, 16, 0, 0), None, 1.0]"
     },
     "execution_count": 24,
     "metadata": {},
     "output_type": "execute_result"
    }
   ],
   "source": [
    "sheet_1['A13:C13'].value"
   ],
   "metadata": {
    "collapsed": false,
    "pycharm": {
     "name": "#%%\n"
    }
   }
  },
  {
   "cell_type": "code",
   "execution_count": 25,
   "outputs": [
    {
     "data": {
      "text/plain": "[datetime.date(2022, 6, 16), 'NA', 1]"
     },
     "execution_count": 25,
     "metadata": {},
     "output_type": "execute_result"
    }
   ],
   "source": [
    "# 使用非默认选项读取\n",
    "sheet_1['A13:C13'].options(empty='NA', dates=dt.date, numbers=int).value"
   ],
   "metadata": {
    "collapsed": false,
    "pycharm": {
     "name": "#%%\n"
    }
   }
  },
  {
   "cell_type": "markdown",
   "source": [
    "### 9.2.3 图表、图片和以定义的名称"
   ],
   "metadata": {
    "collapsed": false,
    "pycharm": {
     "name": "#%% md\n"
    }
   }
  },
  {
   "cell_type": "code",
   "execution_count": 26,
   "outputs": [
    {
     "data": {
      "text/plain": "'0.24.6'"
     },
     "execution_count": 26,
     "metadata": {},
     "output_type": "execute_result"
    }
   ],
   "source": [
    "xw.__version__"
   ],
   "metadata": {
    "collapsed": false,
    "pycharm": {
     "name": "#%%\n"
    }
   }
  },
  {
   "cell_type": "markdown",
   "source": [
    "#### 图表"
   ],
   "metadata": {
    "collapsed": false,
    "pycharm": {
     "name": "#%% md\n"
    }
   }
  },
  {
   "cell_type": "code",
   "execution_count": 30,
   "outputs": [],
   "source": [
    "sheet_1['A15'].value = [[None, 'North', 'South'],\n",
    "                        ['Last Year', 2, 5],\n",
    "                        ['This Year', 3, 6]]"
   ],
   "metadata": {
    "collapsed": false,
    "pycharm": {
     "name": "#%%\n"
    }
   }
  },
  {
   "cell_type": "code",
   "execution_count": 28,
   "outputs": [],
   "source": [
    "chart = sheet_1.charts.add(top=sheet_1['A19'].top,\n",
    "                           left=sheet_1['A19'].left)"
   ],
   "metadata": {
    "collapsed": false,
    "pycharm": {
     "name": "#%%\n"
    }
   }
  },
  {
   "cell_type": "code",
   "execution_count": 31,
   "outputs": [],
   "source": [
    "chart.chart_type = 'column_clustered'\n",
    "chart.set_source_data(sheet_1['A15'].expand())"
   ],
   "metadata": {
    "collapsed": false,
    "pycharm": {
     "name": "#%%\n"
    }
   }
  },
  {
   "cell_type": "markdown",
   "source": [
    "#### 图片"
   ],
   "metadata": {
    "collapsed": false,
    "pycharm": {
     "name": "#%% md\n"
    }
   }
  },
  {
   "cell_type": "code",
   "execution_count": 32,
   "outputs": [
    {
     "data": {
      "text/plain": "           North  South\nLast Year    2.0    5.0\nThis Year    3.0    6.0",
      "text/html": "<div>\n<style scoped>\n    .dataframe tbody tr th:only-of-type {\n        vertical-align: middle;\n    }\n\n    .dataframe tbody tr th {\n        vertical-align: top;\n    }\n\n    .dataframe thead th {\n        text-align: right;\n    }\n</style>\n<table border=\"1\" class=\"dataframe\">\n  <thead>\n    <tr style=\"text-align: right;\">\n      <th></th>\n      <th>North</th>\n      <th>South</th>\n    </tr>\n  </thead>\n  <tbody>\n    <tr>\n      <th>Last Year</th>\n      <td>2.0</td>\n      <td>5.0</td>\n    </tr>\n    <tr>\n      <th>This Year</th>\n      <td>3.0</td>\n      <td>6.0</td>\n    </tr>\n  </tbody>\n</table>\n</div>"
     },
     "execution_count": 32,
     "metadata": {},
     "output_type": "execute_result"
    }
   ],
   "source": [
    "# 使用matplotlib生成图片，并放置到Excel中\n",
    "df = sheet_1['A15'].expand().options(pd.DataFrame).value\n",
    "df"
   ],
   "metadata": {
    "collapsed": false,
    "pycharm": {
     "name": "#%%\n"
    }
   }
  },
  {
   "cell_type": "code",
   "execution_count": 33,
   "outputs": [],
   "source": [
    "% matplotlib inline\n",
    "import matplotlib.pyplot as plt"
   ],
   "metadata": {
    "collapsed": false,
    "pycharm": {
     "name": "#%%\n"
    }
   }
  },
  {
   "cell_type": "code",
   "execution_count": 34,
   "outputs": [
    {
     "data": {
      "text/plain": "<Figure size 576x396 with 1 Axes>",
      "image/png": "[encoded data removed]"
     },
     "metadata": {},
     "output_type": "display_data"
    }
   ],
   "source": [
    "plt.style.use('seaborn')\n",
    "ax = df.T.plot.bar()\n",
    "fig = ax.get_figure()"
   ],
   "metadata": {
    "collapsed": false,
    "pycharm": {
     "name": "#%%\n"
    }
   }
  },
  {
   "cell_type": "code",
   "execution_count": 35,
   "outputs": [],
   "source": [
    "# 将图片保存到Excel中\n",
    "plot = sheet_1.pictures.add(fig, name='SalesPlot',\n",
    "                            top=sheet_1['H19'].top,\n",
    "                            left=sheet_1['H19'].left)\n",
    "# 将图像大小缩小为70%\n",
    "plot.width, plot.height = plot.width * 0.7, plot.height * 0.7"
   ],
   "metadata": {
    "collapsed": false,
    "pycharm": {
     "name": "#%%\n"
    }
   }
  },
  {
   "cell_type": "code",
   "execution_count": 36,
   "outputs": [],
   "source": [
    "# 想要使用新的图像来更新图片，只需要调用update方法并传递另一个figure对象即可\n",
    "# 虽然会替Excel中的图片，但会保留位置、尺寸、名称等属性\n",
    "ax = (df + 1).T.plot.bar()\n",
    "plot = plot.update(ax.get_figure())"
   ],
   "metadata": {
    "collapsed": false,
    "pycharm": {
     "name": "#%%\n"
    }
   }
  },
  {
   "cell_type": "markdown",
   "source": [
    "#### 已定义名称"
   ],
   "metadata": {
    "collapsed": false,
    "pycharm": {
     "name": "#%% md\n"
    }
   }
  },
  {
   "cell_type": "code",
   "execution_count": 37,
   "outputs": [],
   "source": [
    "# 给一个具体区域定义名称，可以让代码更加灵活且更加稳定。\n",
    "# 利用剧名区域读写值可以在不调整Python代码的情况下重新组织工作簿\n",
    "# 即使由于插入单元格导致原来单元格的移动，也不会影响已定义的名称，对应的名称依然引用的是原来的单元格。\n",
    "\n",
    "# 默认作用域是工作簿作用域\n",
    "sheet_1['A1:B2'].name = 'matrix1'"
   ],
   "metadata": {
    "collapsed": false,
    "pycharm": {
     "name": "#%%\n"
    }
   }
  },
  {
   "cell_type": "code",
   "execution_count": 38,
   "outputs": [],
   "source": [
    "sheet_1['B10:E11'].name = 'Sheet1!matrix2'"
   ],
   "metadata": {
    "collapsed": false,
    "pycharm": {
     "name": "#%%\n"
    }
   }
  },
  {
   "cell_type": "code",
   "execution_count": 39,
   "outputs": [
    {
     "data": {
      "text/plain": "[[None, None], ['user_id', 'name']]"
     },
     "execution_count": 39,
     "metadata": {},
     "output_type": "execute_result"
    }
   ],
   "source": [
    "# 可以通过名称来获取区域\n",
    "sheet_1['Sheet1!matrix1'].value"
   ],
   "metadata": {
    "collapsed": false,
    "pycharm": {
     "name": "#%%\n"
    }
   }
  },
  {
   "cell_type": "code",
   "execution_count": 40,
   "outputs": [
    {
     "data": {
      "text/plain": "[[55.0, 'Italy', 4.5, 'Europe'], [45.0, 'USA', 3.5, 'North America']]"
     },
     "execution_count": 40,
     "metadata": {},
     "output_type": "execute_result"
    }
   ],
   "source": [
    "sheet_1['Sheet1!matrix2'].value"
   ],
   "metadata": {
    "collapsed": false,
    "pycharm": {
     "name": "#%%\n"
    }
   }
  },
  {
   "cell_type": "markdown",
   "source": [
    "#### 9.2.4 案例研究"
   ],
   "metadata": {
    "collapsed": false,
    "pycharm": {
     "name": "#%% md\n"
    }
   }
  },
  {
   "cell_type": "code",
   "execution_count": 44,
   "outputs": [],
   "source": [
    "# 打开模板，粘贴数据，自动调整列并调整图表源，然后将其保存为不同名称的文件\n",
    "template = xw.Book('./data/xl/sales_report_template.xlsx')\n",
    "sheet = template.sheets['Sheet1']\n",
    "sheet['B3'].value = 'summary'\n",
    "sheet['B3'].expand().columns.autofit()\n",
    "sheet.charts['Chart 1'].set_source_data(sheet['B3'].expand()[:-1, -1:])\n",
    "template.save('./data/xl/sales_report_xlwings.xlsx')"
   ],
   "metadata": {
    "collapsed": false,
    "pycharm": {
     "name": "#%%\n"
    }
   }
  },
  {
   "cell_type": "code",
   "execution_count": 55,
   "outputs": [
    {
     "name": "stderr",
     "output_type": "stream",
     "text": [
      "/Users/summer/.conda/envs/PythonEnv/lib/python3.9/site-packages/xlwings/utils.py:230: UserWarning: Glyph 27719 (\\N{CJK UNIFIED IDEOGRAPH-6C47}) missing from current font.\n",
      "  canvas.draw()\n",
      "/Users/summer/.conda/envs/PythonEnv/lib/python3.9/site-packages/xlwings/utils.py:230: UserWarning: Glyph 24635 (\\N{CJK UNIFIED IDEOGRAPH-603B}) missing from current font.\n",
      "  canvas.draw()\n",
      "/Users/summer/.conda/envs/PythonEnv/lib/python3.9/site-packages/xlwings/utils.py:231: UserWarning: Glyph 27719 (\\N{CJK UNIFIED IDEOGRAPH-6C47}) missing from current font.\n",
      "  image.savefig(filename, bbox_inches='tight', dpi=300)\n",
      "/Users/summer/.conda/envs/PythonEnv/lib/python3.9/site-packages/xlwings/utils.py:231: UserWarning: Glyph 24635 (\\N{CJK UNIFIED IDEOGRAPH-603B}) missing from current font.\n",
      "  image.savefig(filename, bbox_inches='tight', dpi=300)\n"
     ]
    }
   ],
   "source": [
    "# test\n",
    "# 打开一个已有的工作表\n",
    "template_1 = xw.Book('./data/xl/sales_report_template.xlsx')\n",
    "# 使用工作表中的一个sheet页\n",
    "sheet_1 = template_1.sheets[0]\n",
    "# 设定标题\n",
    "sheet_1['B3'].value = '汇总'\n",
    "# 选定数据范围，通过expand()方法获取数据\n",
    "sheet_1['B3'].expand().columns.autofit()\n",
    "# 设置数据源\n",
    "sheet_1.charts['Chart 1'].set_source_data(sheet_1['B3'].expand()[:-1, -1:])\n",
    "\n",
    "# 增加一个图形\n",
    "chart_1 = sheet_1.charts.add(top=sheet_1['L3'].top, left=sheet_1['L3'].left)\n",
    "chart_1.chart_type = 'column_clustered'\n",
    "chart_1.set_source_data(sheet_1.range('B3:H15'))\n",
    "\n",
    "# 使用matplotlib绘图并保存至Excel中\n",
    "df = sheet_1.range('B3:H15').options(pd.DataFrame).value\n",
    "ax = df.plot.bar()\n",
    "fig = ax.get_figure()\n",
    "plot = sheet_1.pictures.add(fig, name='SalesPlot',\n",
    "                            top=sheet_1['B45'].top,\n",
    "                            left=sheet_1['B45'].left)\n",
    "\n",
    "plot.width, plot.height = plot.width*2, plot.height\n",
    "\n",
    "template_1.save('./data/xl/sales_report_xlwings_test.xlsx')"
   ],
   "metadata": {
    "collapsed": false,
    "pycharm": {
     "name": "#%%\n"
    }
   }
  },
  {
   "cell_type": "code",
   "execution_count": null,
   "outputs": [],
   "source": [],
   "metadata": {
    "collapsed": false,
    "pycharm": {
     "name": "#%%\n"
    }
   }
  }
 ],
 "metadata": {
  "kernelspec": {
   "display_name": "Python 3",
   "language": "python",
   "name": "python3"
  },
  "language_info": {
   "codemirror_mode": {
    "name": "ipython",
    "version": 2
   },
   "file_extension": ".py",
   "mimetype": "text/x-python",
   "name": "python",
   "nbconvert_exporter": "python",
   "pygments_lexer": "ipython2",
   "version": "2.7.6"
  }
 },
 "nbformat": 4,
 "nbformat_minor": 0
}