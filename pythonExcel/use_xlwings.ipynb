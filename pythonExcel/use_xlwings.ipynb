{
 "cells": [
  {
   "cell_type": "code",
   "execution_count": 1,
   "outputs": [],
   "source": [
    "import pandas as pd\n",
    "import numpy as np\n",
    "import xlwings as xw\n",
    "import datetime as dt"
   ],
   "metadata": {
    "collapsed": false,
    "pycharm": {
     "name": "#%%\n"
    }
   }
  },
  {
   "cell_type": "code",
   "execution_count": 2,
   "outputs": [
    {
     "data": {
      "text/plain": "     Trial1    Trial2    Trial3    Trial4    Trial5\n0  0.613029 -0.709623  0.079888  0.052574  0.919275\n1 -0.471089  0.828345  1.126787 -0.724273  0.025305\n2  0.955895  1.231486 -0.086140 -0.777691  0.117343\n3 -1.072141  0.255823  1.981712  0.279765 -2.880319\n4  0.389290 -0.118706  0.952180  0.594684  0.861016",
      "text/html": "<div>\n<style scoped>\n    .dataframe tbody tr th:only-of-type {\n        vertical-align: middle;\n    }\n\n    .dataframe tbody tr th {\n        vertical-align: top;\n    }\n\n    .dataframe thead th {\n        text-align: right;\n    }\n</style>\n<table border=\"1\" class=\"dataframe\">\n  <thead>\n    <tr style=\"text-align: right;\">\n      <th></th>\n      <th>Trial1</th>\n      <th>Trial2</th>\n      <th>Trial3</th>\n      <th>Trial4</th>\n      <th>Trial5</th>\n    </tr>\n  </thead>\n  <tbody>\n    <tr>\n      <th>0</th>\n      <td>0.613029</td>\n      <td>-0.709623</td>\n      <td>0.079888</td>\n      <td>0.052574</td>\n      <td>0.919275</td>\n    </tr>\n    <tr>\n      <th>1</th>\n      <td>-0.471089</td>\n      <td>0.828345</td>\n      <td>1.126787</td>\n      <td>-0.724273</td>\n      <td>0.025305</td>\n    </tr>\n    <tr>\n      <th>2</th>\n      <td>0.955895</td>\n      <td>1.231486</td>\n      <td>-0.086140</td>\n      <td>-0.777691</td>\n      <td>0.117343</td>\n    </tr>\n    <tr>\n      <th>3</th>\n      <td>-1.072141</td>\n      <td>0.255823</td>\n      <td>1.981712</td>\n      <td>0.279765</td>\n      <td>-2.880319</td>\n    </tr>\n    <tr>\n      <th>4</th>\n      <td>0.389290</td>\n      <td>-0.118706</td>\n      <td>0.952180</td>\n      <td>0.594684</td>\n      <td>0.861016</td>\n    </tr>\n  </tbody>\n</table>\n</div>"
     },
     "execution_count": 2,
     "metadata": {},
     "output_type": "execute_result"
    }
   ],
   "source": [
    "df = pd.DataFrame(data=np.random.randn(100, 5),\n",
    "                  columns=[f\"Trial{i}\" for i in range(1, 6)])\n",
    "df.head()"
   ],
   "metadata": {
    "collapsed": false,
    "pycharm": {
     "name": "#%%\n"
    }
   }
  },
  {
   "cell_type": "code",
   "execution_count": 3,
   "outputs": [],
   "source": [
    "# 在Excel中查看DataFrame数据\n",
    "xw.view(df)"
   ],
   "metadata": {
    "collapsed": false,
    "pycharm": {
     "name": "#%%\n"
    }
   }
  },
  {
   "cell_type": "code",
   "execution_count": 9,
   "outputs": [
    {
     "data": {
      "text/plain": "'工作簿1'"
     },
     "execution_count": 9,
     "metadata": {},
     "output_type": "execute_result"
    }
   ],
   "source": [
    "# 创建一个新的空工作簿并打印其名称\n",
    "book = xw.Book()\n",
    "book.name"
   ],
   "metadata": {
    "collapsed": false,
    "pycharm": {
     "name": "#%%\n"
    }
   }
  },
  {
   "cell_type": "code",
   "execution_count": 10,
   "outputs": [
    {
     "data": {
      "text/plain": "Sheets([<Sheet [工作簿1]Sheet1>])"
     },
     "execution_count": 10,
     "metadata": {},
     "output_type": "execute_result"
    }
   ],
   "source": [
    "# 访问工作表集合\n",
    "book.sheets"
   ],
   "metadata": {
    "collapsed": false,
    "pycharm": {
     "name": "#%%\n"
    }
   }
  },
  {
   "cell_type": "code",
   "execution_count": 11,
   "outputs": [
    {
     "data": {
      "text/plain": "<Sheet [工作簿1]Sheet1>"
     },
     "execution_count": 11,
     "metadata": {},
     "output_type": "execute_result"
    }
   ],
   "source": [
    "# 通过索引或者名称获取工作表对象\n",
    "sheet1 = book.sheets[0]\n",
    "sheet1"
   ],
   "metadata": {
    "collapsed": false,
    "pycharm": {
     "name": "#%%\n"
    }
   }
  },
  {
   "cell_type": "code",
   "execution_count": 12,
   "outputs": [
    {
     "data": {
      "text/plain": "<Sheet [工作簿1]Sheet1>"
     },
     "execution_count": 12,
     "metadata": {},
     "output_type": "execute_result"
    }
   ],
   "source": [
    "sheet1 = book.sheets['Sheet1']\n",
    "sheet1"
   ],
   "metadata": {
    "collapsed": false,
    "pycharm": {
     "name": "#%%\n"
    }
   }
  },
  {
   "cell_type": "code",
   "execution_count": 14,
   "outputs": [],
   "source": [
    "sheet1.range('A1').value"
   ],
   "metadata": {
    "collapsed": false,
    "pycharm": {
     "name": "#%%\n"
    }
   }
  },
  {
   "cell_type": "code",
   "execution_count": 15,
   "outputs": [
    {
     "data": {
      "text/plain": "'Hello World'"
     },
     "execution_count": 15,
     "metadata": {},
     "output_type": "execute_result"
    }
   ],
   "source": [
    "# 写入值\n",
    "sheet1.range('A1').value = 'Hello World'\n",
    "sheet1.range('A1').value"
   ],
   "metadata": {
    "collapsed": false,
    "pycharm": {
     "name": "#%%\n"
    }
   }
  },
  {
   "cell_type": "code",
   "execution_count": 16,
   "outputs": [],
   "source": [
    "# 写入数组\n",
    "sheet1.range('A1').value = np.random.randn(5, 5)"
   ],
   "metadata": {
    "collapsed": false,
    "pycharm": {
     "name": "#%%\n"
    }
   }
  },
  {
   "cell_type": "code",
   "execution_count": 18,
   "outputs": [
    {
     "data": {
      "text/plain": "0.8076891882012042"
     },
     "execution_count": 18,
     "metadata": {},
     "output_type": "execute_result"
    }
   ],
   "source": [
    "# [0, 0]表示第一行第一列\n",
    "book.sheets(0).range('A1:B2')[0, 0].value"
   ],
   "metadata": {
    "collapsed": false,
    "pycharm": {
     "name": "#%%\n"
    }
   }
  },
  {
   "cell_type": "code",
   "execution_count": 20,
   "outputs": [
    {
     "data": {
      "text/plain": "0.5961109198694295"
     },
     "execution_count": 20,
     "metadata": {},
     "output_type": "execute_result"
    }
   ],
   "source": [
    "# 通过sheet索引访问B4\n",
    "sheet1[3,1].value"
   ],
   "metadata": {
    "collapsed": false,
    "pycharm": {
     "name": "#%%\n"
    }
   }
  },
  {
   "cell_type": "code",
   "execution_count": 22,
   "outputs": [
    {
     "data": {
      "text/plain": "0.5961109198694295"
     },
     "execution_count": 22,
     "metadata": {},
     "output_type": "execute_result"
    }
   ],
   "source": [
    "# 通过range索引访问B4\n",
    "sheet1.range((4,2)).value"
   ],
   "metadata": {
    "collapsed": false,
    "pycharm": {
     "name": "#%%\n"
    }
   }
  },
  {
   "cell_type": "code",
   "execution_count": 26,
   "outputs": [
    {
     "data": {
      "text/plain": "[[-0.05001295664971908, -0.44165559163289325, -1.2071871396677831],\n [0.22931354821825464, -0.06067618766112328, 1.723477430590943]]"
     },
     "execution_count": 26,
     "metadata": {},
     "output_type": "execute_result"
    }
   ],
   "source": [
    "# 通过sheet切片来访问A2:C3\n",
    "sheet1[1:3, 0:3].value"
   ],
   "metadata": {
    "collapsed": false,
    "pycharm": {
     "name": "#%%\n"
    }
   }
  },
  {
   "cell_type": "code",
   "execution_count": 29,
   "outputs": [
    {
     "data": {
      "text/plain": "[[-0.05001295664971908, -0.44165559163289325, -1.2071871396677831],\n [0.22931354821825464, -0.06067618766112328, 1.723477430590943]]"
     },
     "execution_count": 29,
     "metadata": {},
     "output_type": "execute_result"
    }
   ],
   "source": [
    "# 通过range切片来访问A2:C3，注意range的切片是从左到右的\n",
    "# 传入的是A2和C3的索引\n",
    "sheet1.range((2,1),(3,3)).value"
   ],
   "metadata": {
    "collapsed": false,
    "pycharm": {
     "name": "#%%\n"
    }
   }
  },
  {
   "cell_type": "code",
   "execution_count": 30,
   "outputs": [
    {
     "data": {
      "text/plain": "<Excel App 6625>"
     },
     "execution_count": 30,
     "metadata": {},
     "output_type": "execute_result"
    }
   ],
   "source": [
    "# 通过自底向上的方式得到app对象\n",
    "# range->sheet->book->app\n",
    "sheet1['A1'].sheet.book.app"
   ],
   "metadata": {
    "collapsed": false,
    "pycharm": {
     "name": "#%%\n"
    }
   }
  },
  {
   "cell_type": "code",
   "execution_count": 31,
   "outputs": [
    {
     "data": {
      "text/plain": "['工作簿1']"
     },
     "execution_count": 31,
     "metadata": {},
     "output_type": "execute_result"
    }
   ],
   "source": [
    "# app的常见用例是在一个隐藏的Excel中打开工作簿，这样你就可以在后台运行xlwings脚本且不会弹出Excel窗口，并同时完成其他工作。\n",
    "# 可以通过app.visible设置是否显示Excel窗口\n",
    "visible_app = sheet1.book.app\n",
    "invisible_app = xw.App(visible=False)\n",
    "[book.name for book in visible_app.books]"
   ],
   "metadata": {
    "collapsed": false,
    "pycharm": {
     "name": "#%%\n"
    }
   }
  },
  {
   "cell_type": "code",
   "execution_count": 32,
   "outputs": [
    {
     "data": {
      "text/plain": "['工作簿2']"
     },
     "execution_count": 32,
     "metadata": {},
     "output_type": "execute_result"
    }
   ],
   "source": [
    "[book.name for book in invisible_app.books]"
   ],
   "metadata": {
    "collapsed": false,
    "pycharm": {
     "name": "#%%\n"
    }
   }
  },
  {
   "cell_type": "code",
   "execution_count": 33,
   "outputs": [
    {
     "data": {
      "text/plain": "[8973, 6625]"
     },
     "execution_count": 33,
     "metadata": {},
     "output_type": "execute_result"
    }
   ],
   "source": [
    "# 显示app的进程id\n",
    "xw.apps.keys()"
   ],
   "metadata": {
    "collapsed": false,
    "pycharm": {
     "name": "#%%\n"
    }
   }
  },
  {
   "cell_type": "code",
   "execution_count": 38,
   "outputs": [],
   "source": [
    "invisible_book = invisible_app.books[0]\n",
    "invisible_book.sheets[0]['A1'].value = 'Created by an invisible app.'\n",
    "invisible_book.save('./data/invisible_book.xlsx')\n",
    "invisible_app.quit()"
   ],
   "metadata": {
    "collapsed": false,
    "pycharm": {
     "name": "#%%\n"
    }
   }
  },
  {
   "cell_type": "code",
   "execution_count": null,
   "outputs": [],
   "source": [],
   "metadata": {
    "collapsed": false,
    "pycharm": {
     "name": "#%%\n"
    }
   }
  }
 ],
 "metadata": {
  "kernelspec": {
   "display_name": "Python 3",
   "language": "python",
   "name": "python3"
  },
  "language_info": {
   "codemirror_mode": {
    "name": "ipython",
    "version": 2
   },
   "file_extension": ".py",
   "mimetype": "text/x-python",
   "name": "python",
   "nbconvert_exporter": "python",
   "pygments_lexer": "ipython2",
   "version": "2.7.6"
  }
 },
 "nbformat": 4,
 "nbformat_minor": 0
}