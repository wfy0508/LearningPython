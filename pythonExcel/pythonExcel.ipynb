{
 "cells": [
  {
   "cell_type": "markdown",
   "source": [
    "# Excel报表"
   ],
   "metadata": {
    "collapsed": false,
    "pycharm": {
     "name": "#%% md\n"
    }
   }
  },
  {
   "cell_type": "code",
   "execution_count": 1,
   "outputs": [
    {
     "data": {
      "text/plain": "  transaction_id          store  status transaction_date    plan  \\\n0       abfbdd6d        Chicago  ACTIVE       2019-01-01  Silver   \n1       136a9997  San Francisco  ACTIVE       2019-01-01    Gold   \n2       c6688f32  San Francisco  ACTIVE       2019-01-01  Bronze   \n3       6ef349c1        Chicago  ACTIVE       2019-01-01    Gold   \n4       22066f29  San Francisco  ACTIVE       2019-01-01  Silver   \n\n  contract_type  amount  \n0           NEW   14.25  \n1           NEW   19.35  \n2           NEW   12.20  \n3           NEW   19.35  \n4           NEW   14.25  ",
      "text/html": "<div>\n<style scoped>\n    .dataframe tbody tr th:only-of-type {\n        vertical-align: middle;\n    }\n\n    .dataframe tbody tr th {\n        vertical-align: top;\n    }\n\n    .dataframe thead th {\n        text-align: right;\n    }\n</style>\n<table border=\"1\" class=\"dataframe\">\n  <thead>\n    <tr style=\"text-align: right;\">\n      <th></th>\n      <th>transaction_id</th>\n      <th>store</th>\n      <th>status</th>\n      <th>transaction_date</th>\n      <th>plan</th>\n      <th>contract_type</th>\n      <th>amount</th>\n    </tr>\n  </thead>\n  <tbody>\n    <tr>\n      <th>0</th>\n      <td>abfbdd6d</td>\n      <td>Chicago</td>\n      <td>ACTIVE</td>\n      <td>2019-01-01</td>\n      <td>Silver</td>\n      <td>NEW</td>\n      <td>14.25</td>\n    </tr>\n    <tr>\n      <th>1</th>\n      <td>136a9997</td>\n      <td>San Francisco</td>\n      <td>ACTIVE</td>\n      <td>2019-01-01</td>\n      <td>Gold</td>\n      <td>NEW</td>\n      <td>19.35</td>\n    </tr>\n    <tr>\n      <th>2</th>\n      <td>c6688f32</td>\n      <td>San Francisco</td>\n      <td>ACTIVE</td>\n      <td>2019-01-01</td>\n      <td>Bronze</td>\n      <td>NEW</td>\n      <td>12.20</td>\n    </tr>\n    <tr>\n      <th>3</th>\n      <td>6ef349c1</td>\n      <td>Chicago</td>\n      <td>ACTIVE</td>\n      <td>2019-01-01</td>\n      <td>Gold</td>\n      <td>NEW</td>\n      <td>19.35</td>\n    </tr>\n    <tr>\n      <th>4</th>\n      <td>22066f29</td>\n      <td>San Francisco</td>\n      <td>ACTIVE</td>\n      <td>2019-01-01</td>\n      <td>Silver</td>\n      <td>NEW</td>\n      <td>14.25</td>\n    </tr>\n  </tbody>\n</table>\n</div>"
     },
     "execution_count": 1,
     "metadata": {},
     "output_type": "execute_result"
    }
   ],
   "source": [
    "# 读取一月的交易记录\n",
    "import pandas as pd\n",
    "import numpy as np\n",
    "\n",
    "# 展示内容设置为10行\n",
    "pd.options.display.max_rows = 10\n",
    "df = pd.read_excel('./data/sales_data/new/January.xlsx')\n",
    "df.head()"
   ],
   "metadata": {
    "collapsed": false,
    "pycharm": {
     "name": "#%%\n"
    }
   }
  },
  {
   "cell_type": "code",
   "execution_count": 14,
   "outputs": [],
   "source": [
    "from pathlib import Path\n",
    "\n",
    "# 获取当前文件的目录\n",
    "this_dir = Path(\".\").resolve()\n",
    "# 从sales_data的所有子文件夹中读取Excel文件\n",
    "parts = []\n",
    "for path in (this_dir / \"data/sales_data\").rglob(\"*.xls*\"):\n",
    "    #print(f'Reading {path.name}')\n",
    "    part = pd.read_excel(path, index_col=\"transaction_id\")\n",
    "    parts.append(part)\n",
    "df = pd.concat(parts)\n",
    "pivot = pd.pivot_table(df,\n",
    "                       index='transaction_date',\n",
    "                       columns=\"store\",\n",
    "                       values=\"amount\",\n",
    "                       aggfunc=sum)\n",
    "# 按月采样，并赋予一个索引名称\n",
    "summary = pivot.resample('M').sum()\n",
    "summary.index.name = \"Month\"\n",
    "summary.to_excel(this_dir / \"sales_report_pandas.xlsx\")"
   ],
   "metadata": {
    "collapsed": false,
    "pycharm": {
     "name": "#%%\n"
    }
   }
  },
  {
   "cell_type": "code",
   "execution_count": 14,
   "outputs": [],
   "source": [],
   "metadata": {
    "collapsed": false,
    "pycharm": {
     "name": "#%%\n"
    }
   }
  },
  {
   "cell_type": "code",
   "execution_count": null,
   "outputs": [],
   "source": [],
   "metadata": {
    "collapsed": false,
    "pycharm": {
     "name": "#%%\n"
    }
   }
  }
 ],
 "metadata": {
  "kernelspec": {
   "display_name": "Python 3",
   "language": "python",
   "name": "python3"
  },
  "language_info": {
   "codemirror_mode": {
    "name": "ipython",
    "version": 2
   },
   "file_extension": ".py",
   "mimetype": "text/x-python",
   "name": "python",
   "nbconvert_exporter": "python",
   "pygments_lexer": "ipython2",
   "version": "2.7.6"
  }
 },
 "nbformat": 4,
 "nbformat_minor": 0
}