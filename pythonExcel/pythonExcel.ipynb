{
 "cells": [
  {
   "cell_type": "markdown",
   "source": [
    "# Excel报表"
   ],
   "metadata": {
    "collapsed": false,
    "pycharm": {
     "name": "#%% md\n"
    }
   }
  },
  {
   "cell_type": "code",
   "execution_count": 21,
   "outputs": [
    {
     "data": {
      "text/plain": "  transaction_id          store  status transaction_date    plan  \\\n0       abfbdd6d        Chicago  ACTIVE       2019-01-01  Silver   \n1       136a9997  San Francisco  ACTIVE       2019-01-01    Gold   \n2       c6688f32  San Francisco  ACTIVE       2019-01-01  Bronze   \n3       6ef349c1        Chicago  ACTIVE       2019-01-01    Gold   \n4       22066f29  San Francisco  ACTIVE       2019-01-01  Silver   \n\n  contract_type  amount  \n0           NEW   14.25  \n1           NEW   19.35  \n2           NEW   12.20  \n3           NEW   19.35  \n4           NEW   14.25  ",
      "text/html": "<div>\n<style scoped>\n    .dataframe tbody tr th:only-of-type {\n        vertical-align: middle;\n    }\n\n    .dataframe tbody tr th {\n        vertical-align: top;\n    }\n\n    .dataframe thead th {\n        text-align: right;\n    }\n</style>\n<table border=\"1\" class=\"dataframe\">\n  <thead>\n    <tr style=\"text-align: right;\">\n      <th></th>\n      <th>transaction_id</th>\n      <th>store</th>\n      <th>status</th>\n      <th>transaction_date</th>\n      <th>plan</th>\n      <th>contract_type</th>\n      <th>amount</th>\n    </tr>\n  </thead>\n  <tbody>\n    <tr>\n      <th>0</th>\n      <td>abfbdd6d</td>\n      <td>Chicago</td>\n      <td>ACTIVE</td>\n      <td>2019-01-01</td>\n      <td>Silver</td>\n      <td>NEW</td>\n      <td>14.25</td>\n    </tr>\n    <tr>\n      <th>1</th>\n      <td>136a9997</td>\n      <td>San Francisco</td>\n      <td>ACTIVE</td>\n      <td>2019-01-01</td>\n      <td>Gold</td>\n      <td>NEW</td>\n      <td>19.35</td>\n    </tr>\n    <tr>\n      <th>2</th>\n      <td>c6688f32</td>\n      <td>San Francisco</td>\n      <td>ACTIVE</td>\n      <td>2019-01-01</td>\n      <td>Bronze</td>\n      <td>NEW</td>\n      <td>12.20</td>\n    </tr>\n    <tr>\n      <th>3</th>\n      <td>6ef349c1</td>\n      <td>Chicago</td>\n      <td>ACTIVE</td>\n      <td>2019-01-01</td>\n      <td>Gold</td>\n      <td>NEW</td>\n      <td>19.35</td>\n    </tr>\n    <tr>\n      <th>4</th>\n      <td>22066f29</td>\n      <td>San Francisco</td>\n      <td>ACTIVE</td>\n      <td>2019-01-01</td>\n      <td>Silver</td>\n      <td>NEW</td>\n      <td>14.25</td>\n    </tr>\n  </tbody>\n</table>\n</div>"
     },
     "execution_count": 21,
     "metadata": {},
     "output_type": "execute_result"
    }
   ],
   "source": [
    "# 读取一月的交易记录\n",
    "import pandas as pd\n",
    "import numpy as np\n",
    "\n",
    "# 展示内容设置为10行\n",
    "pd.options.display.max_rows = 10\n",
    "df = pd.read_excel('./data/sales_data/new/January.xlsx')\n",
    "df.head()"
   ],
   "metadata": {
    "collapsed": false,
    "pycharm": {
     "name": "#%%\n"
    }
   }
  },
  {
   "cell_type": "code",
   "execution_count": 22,
   "outputs": [],
   "source": [
    "from pathlib import Path\n",
    "\n",
    "# 获取当前文件的目录\n",
    "this_dir = Path(\".\").resolve()\n",
    "# 从sales_data的所有子文件夹中读取Excel文件\n",
    "parts = []\n",
    "for path in (this_dir / \"data/sales_data\").rglob(\"*.xls*\"):\n",
    "    #print(f'Reading {path.name}')\n",
    "    part = pd.read_excel(path, index_col=\"transaction_id\")\n",
    "    parts.append(part)\n",
    "df = pd.concat(parts)\n",
    "pivot = pd.pivot_table(df,\n",
    "                       index='transaction_date',\n",
    "                       columns=\"store\",\n",
    "                       values=\"amount\",\n",
    "                       aggfunc=sum)\n",
    "# 按月采样，并赋予一个索引名称\n",
    "summary = pivot.resample('M').sum()\n",
    "summary.index.name = \"Month\"\n",
    "summary.to_excel(this_dir / \"sales_report_pandas.xlsx\")"
   ],
   "metadata": {
    "collapsed": false,
    "pycharm": {
     "name": "#%%\n"
    }
   }
  },
  {
   "cell_type": "markdown",
   "source": [
    "### read_excel函数和ExcelFile类"
   ],
   "metadata": {
    "collapsed": false,
    "pycharm": {
     "name": "#%% md\n"
    }
   }
  },
  {
   "cell_type": "code",
   "execution_count": 23,
   "outputs": [
    {
     "data": {
      "text/plain": "           Store  Employees    Manager      Since Flagship\n0       New York         10      Sarah 2018-07-20    False\n1  San Francisco         12     Neriah 2019-11-02  MISSING\n2        Chicago          4    Katelin 2020-01-31      NaN\n3         Boston          5  Georgiana 2017-04-01     True\n4  Washington DC          3       Evan        NaT    False",
      "text/html": "<div>\n<style scoped>\n    .dataframe tbody tr th:only-of-type {\n        vertical-align: middle;\n    }\n\n    .dataframe tbody tr th {\n        vertical-align: top;\n    }\n\n    .dataframe thead th {\n        text-align: right;\n    }\n</style>\n<table border=\"1\" class=\"dataframe\">\n  <thead>\n    <tr style=\"text-align: right;\">\n      <th></th>\n      <th>Store</th>\n      <th>Employees</th>\n      <th>Manager</th>\n      <th>Since</th>\n      <th>Flagship</th>\n    </tr>\n  </thead>\n  <tbody>\n    <tr>\n      <th>0</th>\n      <td>New York</td>\n      <td>10</td>\n      <td>Sarah</td>\n      <td>2018-07-20</td>\n      <td>False</td>\n    </tr>\n    <tr>\n      <th>1</th>\n      <td>San Francisco</td>\n      <td>12</td>\n      <td>Neriah</td>\n      <td>2019-11-02</td>\n      <td>MISSING</td>\n    </tr>\n    <tr>\n      <th>2</th>\n      <td>Chicago</td>\n      <td>4</td>\n      <td>Katelin</td>\n      <td>2020-01-31</td>\n      <td>NaN</td>\n    </tr>\n    <tr>\n      <th>3</th>\n      <td>Boston</td>\n      <td>5</td>\n      <td>Georgiana</td>\n      <td>2017-04-01</td>\n      <td>True</td>\n    </tr>\n    <tr>\n      <th>4</th>\n      <td>Washington DC</td>\n      <td>3</td>\n      <td>Evan</td>\n      <td>NaT</td>\n      <td>False</td>\n    </tr>\n  </tbody>\n</table>\n</div>"
     },
     "execution_count": 23,
     "metadata": {},
     "output_type": "execute_result"
    }
   ],
   "source": [
    "# 通过sheet_name、skiprows和usecols这些参数，告诉pandas关于我们想要读取的列的详细信息\n",
    "df = pd.read_excel('./data/xl/stores.xls', sheet_name='2019', skiprows=1, usecols='B:F')\n",
    "df.head()"
   ],
   "metadata": {
    "collapsed": false,
    "pycharm": {
     "name": "#%%\n"
    }
   }
  },
  {
   "cell_type": "code",
   "execution_count": 24,
   "outputs": [
    {
     "name": "stdout",
     "output_type": "stream",
     "text": [
      "<class 'pandas.core.frame.DataFrame'>\n",
      "RangeIndex: 6 entries, 0 to 5\n",
      "Data columns (total 5 columns):\n",
      " #   Column     Non-Null Count  Dtype         \n",
      "---  ------     --------------  -----         \n",
      " 0   Store      6 non-null      object        \n",
      " 1   Employees  6 non-null      int64         \n",
      " 2   Manager    6 non-null      object        \n",
      " 3   Since      5 non-null      datetime64[ns]\n",
      " 4   Flagship   5 non-null      object        \n",
      "dtypes: datetime64[ns](1), int64(1), object(3)\n",
      "memory usage: 368.0+ bytes\n"
     ]
    }
   ],
   "source": [
    "# 可以通过执行info方法了解生成的DataFrame的数据类型\n",
    "df.info()"
   ],
   "metadata": {
    "collapsed": false,
    "pycharm": {
     "name": "#%%\n"
    }
   }
  },
  {
   "cell_type": "code",
   "execution_count": 25,
   "outputs": [
    {
     "data": {
      "text/plain": "           Store  Employees    Manager      Since  Flagship\n0       New York         10      Sarah 2018-07-20     False\n1  San Francisco         12     Neriah 2019-11-02     False\n2        Chicago          4    Katelin 2020-01-31     False\n3         Boston          5  Georgiana 2017-04-01      True\n4  Washington DC          3       Evan        NaT     False",
      "text/html": "<div>\n<style scoped>\n    .dataframe tbody tr th:only-of-type {\n        vertical-align: middle;\n    }\n\n    .dataframe tbody tr th {\n        vertical-align: top;\n    }\n\n    .dataframe thead th {\n        text-align: right;\n    }\n</style>\n<table border=\"1\" class=\"dataframe\">\n  <thead>\n    <tr style=\"text-align: right;\">\n      <th></th>\n      <th>Store</th>\n      <th>Employees</th>\n      <th>Manager</th>\n      <th>Since</th>\n      <th>Flagship</th>\n    </tr>\n  </thead>\n  <tbody>\n    <tr>\n      <th>0</th>\n      <td>New York</td>\n      <td>10</td>\n      <td>Sarah</td>\n      <td>2018-07-20</td>\n      <td>False</td>\n    </tr>\n    <tr>\n      <th>1</th>\n      <td>San Francisco</td>\n      <td>12</td>\n      <td>Neriah</td>\n      <td>2019-11-02</td>\n      <td>False</td>\n    </tr>\n    <tr>\n      <th>2</th>\n      <td>Chicago</td>\n      <td>4</td>\n      <td>Katelin</td>\n      <td>2020-01-31</td>\n      <td>False</td>\n    </tr>\n    <tr>\n      <th>3</th>\n      <td>Boston</td>\n      <td>5</td>\n      <td>Georgiana</td>\n      <td>2017-04-01</td>\n      <td>True</td>\n    </tr>\n    <tr>\n      <th>4</th>\n      <td>Washington DC</td>\n      <td>3</td>\n      <td>Evan</td>\n      <td>NaT</td>\n      <td>False</td>\n    </tr>\n  </tbody>\n</table>\n</div>"
     },
     "execution_count": 25,
     "metadata": {},
     "output_type": "execute_result"
    }
   ],
   "source": [
    "# Flagship应该是bool而不是object，要修正这一问题，可以编写一个转换函数\n",
    "def fix_missing(x):\n",
    "    return False if x in [\"\", \"MISSING\"] else x\n",
    "\n",
    "\n",
    "df = pd.read_excel('./data/xl/stores.xls',\n",
    "                   sheet_name='2019',\n",
    "                   skiprows=1,\n",
    "                   usecols='B:F',\n",
    "                   converters={'Flagship': fix_missing})\n",
    "df.head()"
   ],
   "metadata": {
    "collapsed": false,
    "pycharm": {
     "name": "#%%\n"
    }
   }
  },
  {
   "cell_type": "code",
   "execution_count": 26,
   "outputs": [
    {
     "data": {
      "text/plain": "           Store  Employees\n0       New York         11\n1  San Francisco         10\n2        Chicago          5\n3         Boston          4\n4  Washington DC          7",
      "text/html": "<div>\n<style scoped>\n    .dataframe tbody tr th:only-of-type {\n        vertical-align: middle;\n    }\n\n    .dataframe tbody tr th {\n        vertical-align: top;\n    }\n\n    .dataframe thead th {\n        text-align: right;\n    }\n</style>\n<table border=\"1\" class=\"dataframe\">\n  <thead>\n    <tr style=\"text-align: right;\">\n      <th></th>\n      <th>Store</th>\n      <th>Employees</th>\n    </tr>\n  </thead>\n  <tbody>\n    <tr>\n      <th>0</th>\n      <td>New York</td>\n      <td>11</td>\n    </tr>\n    <tr>\n      <th>1</th>\n      <td>San Francisco</td>\n      <td>10</td>\n    </tr>\n    <tr>\n      <th>2</th>\n      <td>Chicago</td>\n      <td>5</td>\n    </tr>\n    <tr>\n      <th>3</th>\n      <td>Boston</td>\n      <td>4</td>\n    </tr>\n    <tr>\n      <th>4</th>\n      <td>Washington DC</td>\n      <td>7</td>\n    </tr>\n  </tbody>\n</table>\n</div>"
     },
     "execution_count": 26,
     "metadata": {},
     "output_type": "execute_result"
    }
   ],
   "source": [
    "# 要读入所有的工作表，sheet_name=None\n",
    "sheets = pd.read_excel('./data/xl/stores.xls',\n",
    "                       sheet_name=['2019', '2020'],\n",
    "                       usecols=['Store', 'Employees'],\n",
    "                       skiprows=1)\n",
    "sheets['2020'].head()"
   ],
   "metadata": {
    "collapsed": false,
    "pycharm": {
     "name": "#%%\n"
    }
   }
  },
  {
   "cell_type": "code",
   "execution_count": 27,
   "outputs": [
    {
     "data": {
      "text/plain": "          Branch  Employee_Count Is_Flagship\n0       New York              10       False\n1  San Francisco              12     MISSING\n2        Chicago               4         NaN",
      "text/html": "<div>\n<style scoped>\n    .dataframe tbody tr th:only-of-type {\n        vertical-align: middle;\n    }\n\n    .dataframe tbody tr th {\n        vertical-align: top;\n    }\n\n    .dataframe thead th {\n        text-align: right;\n    }\n</style>\n<table border=\"1\" class=\"dataframe\">\n  <thead>\n    <tr style=\"text-align: right;\">\n      <th></th>\n      <th>Branch</th>\n      <th>Employee_Count</th>\n      <th>Is_Flagship</th>\n    </tr>\n  </thead>\n  <tbody>\n    <tr>\n      <th>0</th>\n      <td>New York</td>\n      <td>10</td>\n      <td>False</td>\n    </tr>\n    <tr>\n      <th>1</th>\n      <td>San Francisco</td>\n      <td>12</td>\n      <td>MISSING</td>\n    </tr>\n    <tr>\n      <th>2</th>\n      <td>Chicago</td>\n      <td>4</td>\n      <td>NaN</td>\n    </tr>\n  </tbody>\n</table>\n</div>"
     },
     "execution_count": 27,
     "metadata": {},
     "output_type": "execute_result"
    }
   ],
   "source": [
    "# 如果源文件的列没有标题，则设置参数header=None，并通过names参数设置对应的列名。注意sheet_name也接受工作表切片\n",
    "df = pd.read_excel('./data/xl/stores.xls',\n",
    "                   header=None,\n",
    "                   skiprows=2,\n",
    "                   skipfooter=3,\n",
    "                   sheet_name=0,  # 第一个工作表\n",
    "                   usecols='B:C, F',\n",
    "                   names=['Branch', 'Employee_Count', 'Is_Flagship'])\n",
    "df.head()"
   ],
   "metadata": {
    "collapsed": false,
    "pycharm": {
     "name": "#%%\n"
    }
   }
  },
  {
   "cell_type": "code",
   "execution_count": 28,
   "outputs": [
    {
     "data": {
      "text/plain": "           Store  Employees Flagship\n0       New York         10    False\n1  San Francisco         12      NaN\n2        Chicago          4         \n3         Boston          5     True",
      "text/html": "<div>\n<style scoped>\n    .dataframe tbody tr th:only-of-type {\n        vertical-align: middle;\n    }\n\n    .dataframe tbody tr th {\n        vertical-align: top;\n    }\n\n    .dataframe thead th {\n        text-align: right;\n    }\n</style>\n<table border=\"1\" class=\"dataframe\">\n  <thead>\n    <tr style=\"text-align: right;\">\n      <th></th>\n      <th>Store</th>\n      <th>Employees</th>\n      <th>Flagship</th>\n    </tr>\n  </thead>\n  <tbody>\n    <tr>\n      <th>0</th>\n      <td>New York</td>\n      <td>10</td>\n      <td>False</td>\n    </tr>\n    <tr>\n      <th>1</th>\n      <td>San Francisco</td>\n      <td>12</td>\n      <td>NaN</td>\n    </tr>\n    <tr>\n      <th>2</th>\n      <td>Chicago</td>\n      <td>4</td>\n      <td></td>\n    </tr>\n    <tr>\n      <th>3</th>\n      <td>Boston</td>\n      <td>5</td>\n      <td>True</td>\n    </tr>\n  </tbody>\n</table>\n</div>"
     },
     "execution_count": 28,
     "metadata": {},
     "output_type": "execute_result"
    }
   ],
   "source": [
    "# 为了处理NaN，可以把na_values和keep_default_na结合起来。\n",
    "# 直将含有MISSING的单元格解释为NaN，除此之外什么也不做：\n",
    "df = pd.read_excel('./data/xl/stores.xls',\n",
    "                   sheet_name='2019',\n",
    "                   skiprows=1,\n",
    "                   usecols='B,C,F',\n",
    "                   skipfooter=2,\n",
    "                   na_values='MISSING',\n",
    "                   keep_default_na=False)\n",
    "df.head()"
   ],
   "metadata": {
    "collapsed": false,
    "pycharm": {
     "name": "#%%\n"
    }
   }
  },
  {
   "cell_type": "code",
   "execution_count": 29,
   "outputs": [],
   "source": [
    "#  使用ExcelFile类来读取Excel文件\n",
    "with pd.ExcelFile('./data/xl/stores.xls') as f:\n",
    "    df1 = pd.read_excel(f, sheet_name='2019', skiprows=1, usecols='B:F', nrows=2)\n",
    "    df2 = pd.read_excel(f, sheet_name='2020', skiprows=1, usecols='B:F', nrows=2)"
   ],
   "metadata": {
    "collapsed": false,
    "pycharm": {
     "name": "#%%\n"
    }
   }
  },
  {
   "cell_type": "code",
   "execution_count": 30,
   "outputs": [
    {
     "data": {
      "text/plain": "           Store  Employees Manager      Since Flagship\n0       New York         10   Sarah 2018-07-20    False\n1  San Francisco         12  Neriah 2019-11-02  MISSING",
      "text/html": "<div>\n<style scoped>\n    .dataframe tbody tr th:only-of-type {\n        vertical-align: middle;\n    }\n\n    .dataframe tbody tr th {\n        vertical-align: top;\n    }\n\n    .dataframe thead th {\n        text-align: right;\n    }\n</style>\n<table border=\"1\" class=\"dataframe\">\n  <thead>\n    <tr style=\"text-align: right;\">\n      <th></th>\n      <th>Store</th>\n      <th>Employees</th>\n      <th>Manager</th>\n      <th>Since</th>\n      <th>Flagship</th>\n    </tr>\n  </thead>\n  <tbody>\n    <tr>\n      <th>0</th>\n      <td>New York</td>\n      <td>10</td>\n      <td>Sarah</td>\n      <td>2018-07-20</td>\n      <td>False</td>\n    </tr>\n    <tr>\n      <th>1</th>\n      <td>San Francisco</td>\n      <td>12</td>\n      <td>Neriah</td>\n      <td>2019-11-02</td>\n      <td>MISSING</td>\n    </tr>\n  </tbody>\n</table>\n</div>"
     },
     "execution_count": 30,
     "metadata": {},
     "output_type": "execute_result"
    }
   ],
   "source": [
    "df1"
   ],
   "metadata": {
    "collapsed": false,
    "pycharm": {
     "name": "#%%\n"
    }
   }
  },
  {
   "cell_type": "code",
   "execution_count": 31,
   "outputs": [
    {
     "data": {
      "text/plain": "           Store  Employees Manager      Since  Flagship\n0       New York         11   Sarah 2018-07-20     False\n1  San Francisco         10  Neriah 2019-11-02      True",
      "text/html": "<div>\n<style scoped>\n    .dataframe tbody tr th:only-of-type {\n        vertical-align: middle;\n    }\n\n    .dataframe tbody tr th {\n        vertical-align: top;\n    }\n\n    .dataframe thead th {\n        text-align: right;\n    }\n</style>\n<table border=\"1\" class=\"dataframe\">\n  <thead>\n    <tr style=\"text-align: right;\">\n      <th></th>\n      <th>Store</th>\n      <th>Employees</th>\n      <th>Manager</th>\n      <th>Since</th>\n      <th>Flagship</th>\n    </tr>\n  </thead>\n  <tbody>\n    <tr>\n      <th>0</th>\n      <td>New York</td>\n      <td>11</td>\n      <td>Sarah</td>\n      <td>2018-07-20</td>\n      <td>False</td>\n    </tr>\n    <tr>\n      <th>1</th>\n      <td>San Francisco</td>\n      <td>10</td>\n      <td>Neriah</td>\n      <td>2019-11-02</td>\n      <td>True</td>\n    </tr>\n  </tbody>\n</table>\n</div>"
     },
     "execution_count": 31,
     "metadata": {},
     "output_type": "execute_result"
    }
   ],
   "source": [
    "df2"
   ],
   "metadata": {
    "collapsed": false,
    "pycharm": {
     "name": "#%%\n"
    }
   }
  },
  {
   "cell_type": "code",
   "execution_count": 32,
   "outputs": [
    {
     "data": {
      "text/plain": "['2019', '2020', '2019-2020']"
     },
     "execution_count": 32,
     "metadata": {},
     "output_type": "execute_result"
    }
   ],
   "source": [
    "# 也可以通过ExcelFile防伪所有工作表的名称\n",
    "stores = pd.ExcelFile('./data/xl/stores.xls')\n",
    "stores.sheet_names"
   ],
   "metadata": {
    "collapsed": false,
    "pycharm": {
     "name": "#%%\n"
    }
   }
  },
  {
   "cell_type": "code",
   "execution_count": 33,
   "outputs": [
    {
     "data": {
      "text/plain": "           Store  Employees Manager      Since Flagship\n0       New York         10   Sarah 2018-07-20    False\n1  San Francisco         12  Neriah 2019-11-02  MISSING",
      "text/html": "<div>\n<style scoped>\n    .dataframe tbody tr th:only-of-type {\n        vertical-align: middle;\n    }\n\n    .dataframe tbody tr th {\n        vertical-align: top;\n    }\n\n    .dataframe thead th {\n        text-align: right;\n    }\n</style>\n<table border=\"1\" class=\"dataframe\">\n  <thead>\n    <tr style=\"text-align: right;\">\n      <th></th>\n      <th>Store</th>\n      <th>Employees</th>\n      <th>Manager</th>\n      <th>Since</th>\n      <th>Flagship</th>\n    </tr>\n  </thead>\n  <tbody>\n    <tr>\n      <th>0</th>\n      <td>New York</td>\n      <td>10</td>\n      <td>Sarah</td>\n      <td>2018-07-20</td>\n      <td>False</td>\n    </tr>\n    <tr>\n      <th>1</th>\n      <td>San Francisco</td>\n      <td>12</td>\n      <td>Neriah</td>\n      <td>2019-11-02</td>\n      <td>MISSING</td>\n    </tr>\n  </tbody>\n</table>\n</div>"
     },
     "execution_count": 33,
     "metadata": {},
     "output_type": "execute_result"
    }
   ],
   "source": [
    "# 还可以通过URL读取Excel文件\n",
    "url = \"https://raw.githubusercontent.com/fzumstein/python-for-excel/1st-edition/xl/stores.xls\"\n",
    "pd.read_excel(url, skiprows=1, usecols='B:F', nrows=2)"
   ],
   "metadata": {
    "collapsed": false,
    "pycharm": {
     "name": "#%%\n"
    }
   }
  },
  {
   "cell_type": "markdown",
   "source": [
    "### to_excel方法和ExcelWriter类"
   ],
   "metadata": {
    "collapsed": false,
    "pycharm": {
     "name": "#%% md\n"
    }
   }
  },
  {
   "cell_type": "code",
   "execution_count": 34,
   "outputs": [
    {
     "data": {
      "text/plain": "                    Dates  Floats Integers Booleans\nindex                                              \n0     2022-05-01 22:42:00   2.222        1     True\n1     2022-05-14 22:43:00     NaN        2    False\n2     2022-05-14 22:44:00     inf     True     None",
      "text/html": "<div>\n<style scoped>\n    .dataframe tbody tr th:only-of-type {\n        vertical-align: middle;\n    }\n\n    .dataframe tbody tr th {\n        vertical-align: top;\n    }\n\n    .dataframe thead th {\n        text-align: right;\n    }\n</style>\n<table border=\"1\" class=\"dataframe\">\n  <thead>\n    <tr style=\"text-align: right;\">\n      <th></th>\n      <th>Dates</th>\n      <th>Floats</th>\n      <th>Integers</th>\n      <th>Booleans</th>\n    </tr>\n    <tr>\n      <th>index</th>\n      <th></th>\n      <th></th>\n      <th></th>\n      <th></th>\n    </tr>\n  </thead>\n  <tbody>\n    <tr>\n      <th>0</th>\n      <td>2022-05-01 22:42:00</td>\n      <td>2.222</td>\n      <td>1</td>\n      <td>True</td>\n    </tr>\n    <tr>\n      <th>1</th>\n      <td>2022-05-14 22:43:00</td>\n      <td>NaN</td>\n      <td>2</td>\n      <td>False</td>\n    </tr>\n    <tr>\n      <th>2</th>\n      <td>2022-05-14 22:44:00</td>\n      <td>inf</td>\n      <td>True</td>\n      <td>None</td>\n    </tr>\n  </tbody>\n</table>\n</div>"
     },
     "execution_count": 34,
     "metadata": {},
     "output_type": "execute_result"
    }
   ],
   "source": [
    "# 将DataFrame导出为Excel\n",
    "import numpy as np\n",
    "from datetime import datetime\n",
    "\n",
    "data = [[datetime(2022, 5, 1, 22, 42), 2.222, 1, True],\n",
    "        [datetime(2022, 5, 14, 22, 43), np.nan, 2, False],\n",
    "        [datetime(2022, 5, 14, 22, 44), np.inf, True]]\n",
    "df = pd.DataFrame(data, columns=['Dates', 'Floats', 'Integers', 'Booleans'])\n",
    "df.index.name = 'index'\n",
    "df"
   ],
   "metadata": {
    "collapsed": false,
    "pycharm": {
     "name": "#%%\n"
    }
   }
  },
  {
   "cell_type": "code",
   "execution_count": 35,
   "outputs": [],
   "source": [
    "df.to_excel('write_with_pandas.xlsx',\n",
    "            sheet_name='Output',\n",
    "            startrow=1,\n",
    "            startcol=1,\n",
    "            index=True,\n",
    "            header=True,\n",
    "            na_rep='<NA>',\n",
    "            inf_rep='<INF>')"
   ],
   "metadata": {
    "collapsed": false,
    "pycharm": {
     "name": "#%%\n"
    }
   }
  },
  {
   "cell_type": "code",
   "execution_count": 36,
   "outputs": [],
   "source": [
    "# 使用ExcelWriter将DataFrame导出为Excel\n",
    "with pd.ExcelWriter('written_with_pandas2.xlsx') as writer:\n",
    "    df.to_excel(writer, sheet_name='sheet1', startrow=1, startcol=1)\n",
    "    df.to_excel(writer, sheet_name='sheet1', startrow=10, startcol=1)\n",
    "    df.to_excel(writer, sheet_name='sheet2')"
   ],
   "metadata": {
    "collapsed": false,
    "pycharm": {
     "name": "#%%\n"
    }
   }
  },
  {
   "cell_type": "markdown",
   "source": [
    "# 8 使用读写包操作Excel文件"
   ],
   "metadata": {
    "collapsed": false,
    "pycharm": {
     "name": "#%% md\n"
    }
   }
  },
  {
   "cell_type": "markdown",
   "source": [
    "## 8.1 使用OpenPyXL读取文件"
   ],
   "metadata": {
    "collapsed": false,
    "pycharm": {
     "name": "#%% md\n"
    }
   }
  },
  {
   "cell_type": "code",
   "execution_count": 37,
   "outputs": [],
   "source": [
    "import openpyxl\n",
    "import excel"
   ],
   "metadata": {
    "collapsed": false,
    "pycharm": {
     "name": "#%%\n"
    }
   }
  },
  {
   "cell_type": "code",
   "execution_count": 42,
   "outputs": [
    {
     "data": {
      "text/plain": "['2019', '2020', '2019-2020']"
     },
     "execution_count": 42,
     "metadata": {},
     "output_type": "execute_result"
    }
   ],
   "source": [
    "# 打开工作簿，在加载数据之后文件会自动关闭\n",
    "book = openpyxl.load_workbook('./data/xl/stores.xlsx', data_only=True)\n",
    "sheet = book['2019']\n",
    "sheet = book.sheetnames\n",
    "sheet"
   ],
   "metadata": {
    "collapsed": false,
    "pycharm": {
     "name": "#%%\n"
    }
   }
  },
  {
   "cell_type": "code",
   "execution_count": 43,
   "outputs": [
    {
     "name": "stdout",
     "output_type": "stream",
     "text": [
      "2019\n",
      "2020\n",
      "2019-2020\n"
     ]
    }
   ],
   "source": [
    "# 遍历所有工作表对象\n",
    "for i in book.worksheets:\n",
    "    print(i.title)"
   ],
   "metadata": {
    "collapsed": false,
    "pycharm": {
     "name": "#%%\n"
    }
   }
  },
  {
   "cell_type": "code",
   "execution_count": 44,
   "outputs": [
    {
     "data": {
      "text/plain": "(8, 6)"
     },
     "execution_count": 44,
     "metadata": {},
     "output_type": "execute_result"
    }
   ],
   "source": [
    "# 获取维度\n",
    "sheet = book.worksheets[0]\n",
    "sheet.max_row, sheet.max_column"
   ],
   "metadata": {
    "collapsed": false,
    "pycharm": {
     "name": "#%%\n"
    }
   }
  },
  {
   "cell_type": "code",
   "execution_count": 45,
   "outputs": [
    {
     "data": {
      "text/plain": "'Boston'"
     },
     "execution_count": 45,
     "metadata": {},
     "output_type": "execute_result"
    }
   ],
   "source": [
    "# 读取某个单元格的值\n",
    "sheet['B6'].value"
   ],
   "metadata": {
    "collapsed": false,
    "pycharm": {
     "name": "#%%\n"
    }
   }
  },
  {
   "cell_type": "code",
   "execution_count": 46,
   "outputs": [
    {
     "data": {
      "text/plain": "'Boston'"
     },
     "execution_count": 46,
     "metadata": {},
     "output_type": "execute_result"
    }
   ],
   "source": [
    "# 或者使用单元格索引方法\n",
    "sheet.cell(row=6, column=2).value"
   ],
   "metadata": {
    "collapsed": false,
    "pycharm": {
     "name": "#%%\n"
    }
   }
  },
  {
   "cell_type": "code",
   "execution_count": 47,
   "outputs": [
    {
     "data": {
      "text/plain": "[['Store', 'Employees', 'Manager', 'Since', 'Flagship'],\n ['New York', 10, 'Sarah', datetime.datetime(2018, 7, 20, 0, 0), False]]"
     },
     "execution_count": 47,
     "metadata": {},
     "output_type": "execute_result"
    }
   ],
   "source": [
    "# 使用excel模块读取一个单元格区域的值，读取生成为一个列表\n",
    "data = excel.read(book['2019'], (2, 2), (8, 6))\n",
    "# 打印前两行\n",
    "data[:2]"
   ],
   "metadata": {
    "collapsed": false,
    "pycharm": {
     "name": "#%%\n"
    }
   }
  },
  {
   "cell_type": "code",
   "execution_count": 48,
   "outputs": [
    {
     "data": {
      "text/plain": "list"
     },
     "execution_count": 48,
     "metadata": {},
     "output_type": "execute_result"
    }
   ],
   "source": [
    "type(data)"
   ],
   "metadata": {
    "collapsed": false,
    "pycharm": {
     "name": "#%%\n"
    }
   }
  },
  {
   "cell_type": "markdown",
   "source": [
    "### 使用OpenPyXL写入文件"
   ],
   "metadata": {
    "collapsed": false,
    "pycharm": {
     "name": "#%% md\n"
    }
   }
  },
  {
   "cell_type": "code",
   "execution_count": 59,
   "outputs": [],
   "source": [
    "# OpenPyXL会在内存中构建Excel文件，调用save方法时会将其写入文件\n",
    "from openpyxl.drawing.image import Image\n",
    "from openpyxl.styles import Font, colors\n",
    "from openpyxl.styles.borders import Border, Side\n",
    "from openpyxl.styles.alignment import Alignment\n",
    "from openpyxl.styles.fills import PatternFill\n",
    "from openpyxl.chart import BarChart, Reference\n",
    "import datetime as dt"
   ],
   "metadata": {
    "collapsed": false,
    "pycharm": {
     "name": "#%%\n"
    }
   }
  },
  {
   "cell_type": "code",
   "execution_count": 66,
   "outputs": [],
   "source": [
    "# 实例化工作簿\n",
    "book = openpyxl.Workbook()\n",
    "# 获取第一张工作表并赋予一个名称\n",
    "sheet = book.active\n",
    "sheet.title = 'Sheet1'\n",
    "# 使用A1表示法和单元格索引\n",
    "sheet['A1'].value = 'Hello 1'\n",
    "sheet.cell(row=2, column=1, value='Hello 2')\n",
    "# 格式化：填充颜色、对齐、边框和字体\n",
    "font_format = Font(color='FF0000', bold=True)\n",
    "thin = Side(border_style='thin', color='FF0000')\n",
    "sheet['A3'].value = 'Hello 3'\n",
    "sheet['A3'].font = font_format\n",
    "sheet['A3'].border = Border(top=thin, left=thin, right=thin, bottom=thin)\n",
    "sheet['A3'].alignment = Alignment(horizontal=\"center\")\n",
    "sheet['A3'].fill = PatternFill(fgColor='FFFF00', fill_type='solid')\n",
    "# 数字格式化（使用Excel的格式化字符串）\n",
    "sheet['A4'].value = 3.3333\n",
    "sheet['A4'].number_format = '0.00'\n",
    "sheet['A5'].value = dt.date(2022, 5, 15)\n",
    "sheet['A5'].number_format = 'mm/dd/yy'\n",
    "# 使用公式，必须使用以逗号分隔的英文公式名称\n",
    "sheet['A6'].value = 'SUM(A4, 2)'\n",
    "# 加载图片\n",
    "sheet.add_image(Image('./data/python.png'), 'C1')\n",
    "# 二维列表（使用excel模块）\n",
    "data = [[None, 'North', 'South'],\n",
    "        ['Last Year', 2, 5],\n",
    "        ['This Year', 3, 6]]\n",
    "excel.write(sheet, data, 'A10')\n",
    "# 图表\n",
    "chart = BarChart()\n",
    "chart.type = 'col'\n",
    "chart.title = \"Sales Per Region\"\n",
    "chart.x_axis.title = 'Region'\n",
    "chart.y_axis.title = 'Sales'\n",
    "# 图表数据来源\n",
    "chart_data = Reference(sheet, min_row=11, min_col=1, max_row=12, max_col=3)\n",
    "# 图表标题\n",
    "chart_categories = Reference(sheet, min_row=10, min_col=2, max_row=10, max_col=3)\n",
    "# titles_from_data 就像手动在Excel中添加图表解释数据\n",
    "chart.add_data(chart_data, titles_from_data=True, from_rows=True)\n",
    "chart.set_categories(chart_categories)\n",
    "sheet.add_chart(chart, 'A15')\n",
    "book.save(datetime.now().strftime('%Y%m%d%H%M%S_') + 'openpyxl.xlsx')"
   ],
   "metadata": {
    "collapsed": false,
    "pycharm": {
     "name": "#%%\n"
    }
   }
  },
  {
   "cell_type": "code",
   "execution_count": 67,
   "outputs": [
    {
     "data": {
      "text/plain": "'3.0.9'"
     },
     "execution_count": 67,
     "metadata": {},
     "output_type": "execute_result"
    }
   ],
   "source": [
    "# 如果Excel中包含图表或者其他高级内容，那么OpenPyXL的功能就显得非常有限了，这些内容要么被修改，要么会被直接丢弃掉\n",
    "# 在3.0.5版本汇总图表会被重命名且标题会被丢弃掉，\n",
    "openpyxl.__version__"
   ],
   "metadata": {
    "collapsed": false,
    "pycharm": {
     "name": "#%%\n"
    }
   }
  },
  {
   "cell_type": "code",
   "execution_count": 68,
   "outputs": [],
   "source": [
    "# 读取并修改stores.xlsx文件，修改一个单元格\n",
    "# 并将其以最新的名称保存到新的位置\n",
    "book = openpyxl.load_workbook('./data/xl/stores.xlsx')\n",
    "book['2019']['A1'].value = 'modified'\n",
    "book.save('stores_edited.xlsx')"
   ],
   "metadata": {
    "collapsed": false,
    "pycharm": {
     "name": "#%%\n"
    }
   }
  },
  {
   "cell_type": "code",
   "execution_count": 69,
   "outputs": [],
   "source": [
    "# 如果想编写带vba格式的Excel文件，那么就必须处理一个已经存在的文件，并且在加载的时候需要将keep_vba参数设置为True\n",
    "book = openpyxl.load_workbook('./data/xl/macro.xlsm', keep_vba=True)\n",
    "book['Sheet1']['A1'].value = 'Click the button!'\n",
    "book.save('macro_openpyxl.xlsm')"
   ],
   "metadata": {
    "collapsed": false,
    "pycharm": {
     "name": "#%%\n"
    }
   }
  },
  {
   "cell_type": "markdown",
   "source": [
    "### XlsxWriter"
   ],
   "metadata": {
    "collapsed": false,
    "pycharm": {
     "name": "#%% md\n"
    }
   }
  },
  {
   "cell_type": "markdown",
   "source": [
    "> XlsxWriter从0开始索引单元格，OpenPyXL从1开始索引"
   ],
   "metadata": {
    "collapsed": false,
    "pycharm": {
     "name": "#%% md\n"
    }
   }
  },
  {
   "cell_type": "code",
   "execution_count": 70,
   "outputs": [],
   "source": [
    "import datetime as dt\n",
    "import xlsxwriter\n",
    "import excel"
   ],
   "metadata": {
    "collapsed": false,
    "pycharm": {
     "name": "#%%\n"
    }
   }
  },
  {
   "cell_type": "code",
   "execution_count": 72,
   "outputs": [],
   "source": [
    "book = xlsxwriter.Workbook('xlsxwriter.xlsx')\n",
    "# 添加工作表\n",
    "sheet = book.add_worksheet('Sheet1')\n",
    "# 使用A0或者单元格索引添加数据\n",
    "sheet.write('A1', 'Hello 1')\n",
    "sheet.write(1, 0, 'Hello 2')\n",
    "# 格式化填充颜色、对齐、边框和字体\n",
    "formatting = book.add_format({'font_color': 'FF0000',\n",
    "                              'bg_color': 'FFFF00',\n",
    "                              'bold': True,\n",
    "                              'border': 1,\n",
    "                              'border_color': 'FF0000'})\n",
    "sheet.write('A3', 'Hello 3', formatting)\n",
    "# 数字格式化\n",
    "number_format = book.add_format({'num_format': '0.00'})\n",
    "sheet.write('A4', 3.3333, number_format)\n",
    "# 日期格式化\n",
    "date_format = book.add_format({'num_format': 'mm/dd/yy'})\n",
    "sheet.write('A5', dt.date(2022, 5, 15), date_format)\n",
    "# 公式\n",
    "sheet.write('A6', '=SUM(A4, 2)')\n",
    "# 图片\n",
    "sheet.insert_image(0, 2, './data/python.png')\n",
    "# 二维列表\n",
    "data = [[None, 'North', 'South'],\n",
    "        ['LastYear', 2, 5],\n",
    "        ['ThisYear', 3, 6]]\n",
    "excel.write(sheet, data, 'A10')\n",
    "# 图表\n",
    "chart = book.add_chart({'type': 'column'})\n",
    "chart.set_title({'name': 'Sales per Region'})\n",
    "chart.add_series({'name': '=Sheet1!A11',\n",
    "                  'categories': '=Sheet1!B10:C10',\n",
    "                  'values': '=Sheet1!B 11:C11'})\n",
    "chart.add_series({'name': '=Sheet1!A12',\n",
    "                  'categories': '=Sheet1!B10:C10',\n",
    "                  'values': '=Sheet1!B12:C12'})\n",
    "chart.set_x_axis({'name': 'Region'})\n",
    "chart.set_y_axis({'name': 'Sales'})\n",
    "sheet.insert_chart('A15', chart)\n",
    "# 关闭工作簿并在磁盘上创建文件\n",
    "book.close()"
   ],
   "metadata": {
    "collapsed": false,
    "pycharm": {
     "name": "#%%\n"
    }
   }
  },
  {
   "cell_type": "markdown",
   "source": [
    "### 使用xlrd读取文件"
   ],
   "metadata": {
    "collapsed": false,
    "pycharm": {
     "name": "#%% md\n"
    }
   }
  },
  {
   "cell_type": "code",
   "execution_count": 73,
   "outputs": [],
   "source": [
    "import xlrd\n",
    "import xlwt\n",
    "from xlwt.Utils import cell_to_rowcol2\n",
    "import xlutils\n",
    "import excel"
   ],
   "metadata": {
    "collapsed": false,
    "pycharm": {
     "name": "#%%\n"
    }
   }
  },
  {
   "cell_type": "code",
   "execution_count": 74,
   "outputs": [
    {
     "data": {
      "text/plain": "['2019', '2020', '2019-2020']"
     },
     "execution_count": 74,
     "metadata": {},
     "output_type": "execute_result"
    }
   ],
   "source": [
    "# 打开工作簿来读取单元格的值\n",
    "# 在加载数据后文件会自动关闭\n",
    "book = xlrd.open_workbook('./data/xl/stores.xls')\n",
    "book.sheet_names()"
   ],
   "metadata": {
    "collapsed": false,
    "pycharm": {
     "name": "#%%\n"
    }
   }
  },
  {
   "cell_type": "code",
   "execution_count": 75,
   "outputs": [
    {
     "name": "stdout",
     "output_type": "stream",
     "text": [
      "2019\n",
      "2020\n",
      "2019-2020\n"
     ]
    }
   ],
   "source": [
    "for sheet in book.sheets():\n",
    "    print(sheet.name)"
   ],
   "metadata": {
    "collapsed": false,
    "pycharm": {
     "name": "#%%\n"
    }
   }
  },
  {
   "cell_type": "code",
   "execution_count": 76,
   "outputs": [
    {
     "data": {
      "text/plain": "(8, 6)"
     },
     "execution_count": 76,
     "metadata": {},
     "output_type": "execute_result"
    }
   ],
   "source": [
    "# 通过名称或索引（从0开始）获取工作表对象\n",
    "sheet = book.sheet_by_index(0)\n",
    "sheet = book.sheet_by_name('2019')\n",
    "sheet.nrows, sheet.ncols"
   ],
   "metadata": {
    "collapsed": false,
    "pycharm": {
     "name": "#%%\n"
    }
   }
  },
  {
   "cell_type": "code",
   "execution_count": 77,
   "outputs": [
    {
     "data": {
      "text/plain": "'New York'"
     },
     "execution_count": 77,
     "metadata": {},
     "output_type": "execute_result"
    }
   ],
   "source": [
    "# 使用A1表示法或者单元格索引\n",
    "# 从0开始，读取哥哥单元格的值\n",
    "# *会解包cell_to_rowcol2返回的元组以生成各个参数\n",
    "sheet.cell(*cell_to_rowcol2('B3')).value"
   ],
   "metadata": {
    "collapsed": false,
    "pycharm": {
     "name": "#%%\n"
    }
   }
  },
  {
   "cell_type": "code",
   "execution_count": 78,
   "outputs": [
    {
     "data": {
      "text/plain": "[['Store', 'Employees', 'Manager', 'Since', 'Flagship'],\n ['New York', 10.0, 'Sarah', datetime.datetime(2018, 7, 20, 0, 0), False]]"
     },
     "execution_count": 78,
     "metadata": {},
     "output_type": "execute_result"
    }
   ],
   "source": [
    "# 使用excel模块读取一个区间中单元格的值\n",
    "data = excel.read(sheet, 'B2')\n",
    "data[:2]"
   ],
   "metadata": {
    "collapsed": false,
    "pycharm": {
     "name": "#%%\n"
    }
   }
  },
  {
   "cell_type": "code",
   "execution_count": null,
   "outputs": [],
   "source": [],
   "metadata": {
    "collapsed": false,
    "pycharm": {
     "name": "#%%\n"
    }
   }
  }
 ],
 "metadata": {
  "kernelspec": {
   "display_name": "Python 3",
   "language": "python",
   "name": "python3"
  },
  "language_info": {
   "codemirror_mode": {
    "name": "ipython",
    "version": 2
   },
   "file_extension": ".py",
   "mimetype": "text/x-python",
   "name": "python",
   "nbconvert_exporter": "python",
   "pygments_lexer": "ipython2",
   "version": "2.7.6"
  }
 },
 "nbformat": 4,
 "nbformat_minor": 0
}