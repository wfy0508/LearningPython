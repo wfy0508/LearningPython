{
 "cells": [
  {
   "cell_type": "markdown",
   "source": [
    "# 案例研究：Excel报表"
   ],
   "metadata": {
    "collapsed": false,
    "pycharm": {
     "name": "#%% md\n"
    }
   }
  },
  {
   "cell_type": "code",
   "execution_count": 1,
   "outputs": [],
   "source": [
    "import pandas as pd\n",
    "import numpy as np\n",
    "from pathlib import Path\n",
    "from openpyxl.styles import Font, Alignment\n",
    "from openpyxl.formatting.rule import CellIsRule\n",
    "from openpyxl.chart import BarChart, Reference\n",
    "from openpyxl.chart.shapes import GraphicalProperties\n",
    "from openpyxl.drawing.line import LineProperties"
   ],
   "metadata": {
    "collapsed": false,
    "pycharm": {
     "name": "#%%\n"
    }
   }
  },
  {
   "cell_type": "code",
   "execution_count": 30,
   "outputs": [],
   "source": [
    "# 获取当前文件夹\n",
    "this_path = Path(\".\").resolve()\n",
    "# 扫描该文件夹下左右Excel文件\n",
    "data_list = []\n",
    "for path in (this_path / 'data/sales_data').rglob('*.xls*'):\n",
    "    data_frame = pd.read_excel(path)\n",
    "    data_list.append(data_frame)\n",
    "# 将列表转换为DataFrame\n",
    "df = pd.concat(data_list)\n",
    "# 透视表得到汇总数据\n",
    "pivot = pd.pivot_table(data=df,\n",
    "                       values='amount',\n",
    "                       index='transaction_date',\n",
    "                       columns='store',\n",
    "                       aggfunc='sum')\n",
    "# 采样得到月份汇总数据\n",
    "summary = pivot.resample('M').sum()\n",
    "summary.index.name = 'Month'\n",
    "# 对销售数据降序排列\n",
    "summary = summary.loc[:, summary.sum().sort_values().index]"
   ],
   "metadata": {
    "collapsed": false,
    "pycharm": {
     "name": "#%%\n"
    }
   }
  },
  {
   "cell_type": "code",
   "execution_count": 31,
   "outputs": [
    {
     "name": "stderr",
     "output_type": "stream",
     "text": [
      "/var/folders/ml/8mffbtvx25b6ftr05mlfbtqm0000gn/T/ipykernel_10651/2383763196.py:4: FutureWarning: The frame.append method is deprecated and will be removed from pandas in a future version. Use pandas.concat instead.\n",
      "  summary = summary.append(summary.sum(axis=0).rename('Total'))\n"
     ]
    }
   ],
   "source": [
    "# 加入列汇总\n",
    "summary['Total'] = summary.sum(axis=1)\n",
    "# 加入行汇总\n",
    "summary = summary.append(summary.sum(axis=0).rename('Total'))"
   ],
   "metadata": {
    "collapsed": false,
    "pycharm": {
     "name": "#%%\n"
    }
   }
  },
  {
   "cell_type": "code",
   "execution_count": 32,
   "outputs": [
    {
     "data": {
      "text/plain": "store                Washington DC     Boston  Las Vegas   New York  \\\nMonth                                                                 \n2019-01-31 00:00:00       14057.60   21784.10   23012.75   49872.85   \n2019-02-28 00:00:00       15235.40   21454.90   25493.10   46669.85   \n2019-03-31 00:00:00       14177.05   20043.00   23451.10   41572.25   \n2019-04-30 00:00:00       13339.15   18791.05   22710.15   41714.30   \n2019-05-31 00:00:00       13147.10   18036.75   21526.55   40610.40   \n2019-06-30 00:00:00       14284.30   21556.25   21985.05   47265.65   \n2019-07-31 00:00:00       14161.50   19853.00   23444.30   40408.30   \n2019-08-31 00:00:00       16127.05   22332.90   24927.65   45396.85   \n2019-09-30 00:00:00       14994.40   19924.50   24410.70   42830.60   \n2019-10-31 00:00:00       12846.70   16550.95   22827.50   34090.05   \n2019-11-30 00:00:00       14057.60   21312.90   24860.25   46959.85   \n2019-12-31 00:00:00       14702.15   19722.60   24535.75   42364.35   \nTotal                    171130.00  241362.90  283184.85  519755.30   \n\nstore                  Chicago  San Francisco       Total  \nMonth                                                      \n2019-01-31 00:00:00   51187.70       58629.85   218544.85  \n2019-02-28 00:00:00   52330.85       55218.65   216402.75  \n2019-03-31 00:00:00   48897.25       52712.95   200853.60  \n2019-04-30 00:00:00   47396.35       49324.65   193275.65  \n2019-05-31 00:00:00   45117.05       47759.60   186197.45  \n2019-06-30 00:00:00   49460.45       53462.40   208014.10  \n2019-07-31 00:00:00   47993.80       50181.60   196042.50  \n2019-08-31 00:00:00   50838.90       55336.35   214959.70  \n2019-09-30 00:00:00   49096.25       49931.45   201187.90  \n2019-10-31 00:00:00   42543.80       44311.65   173170.65  \n2019-11-30 00:00:00   52011.60       55056.45   214258.65  \n2019-12-31 00:00:00   49355.10       50933.45   201613.40  \nTotal                586229.10      622859.05  2424521.20  ",
      "text/html": "<div>\n<style scoped>\n    .dataframe tbody tr th:only-of-type {\n        vertical-align: middle;\n    }\n\n    .dataframe tbody tr th {\n        vertical-align: top;\n    }\n\n    .dataframe thead th {\n        text-align: right;\n    }\n</style>\n<table border=\"1\" class=\"dataframe\">\n  <thead>\n    <tr style=\"text-align: right;\">\n      <th>store</th>\n      <th>Washington DC</th>\n      <th>Boston</th>\n      <th>Las Vegas</th>\n      <th>New York</th>\n      <th>Chicago</th>\n      <th>San Francisco</th>\n      <th>Total</th>\n    </tr>\n    <tr>\n      <th>Month</th>\n      <th></th>\n      <th></th>\n      <th></th>\n      <th></th>\n      <th></th>\n      <th></th>\n      <th></th>\n    </tr>\n  </thead>\n  <tbody>\n    <tr>\n      <th>2019-01-31 00:00:00</th>\n      <td>14057.60</td>\n      <td>21784.10</td>\n      <td>23012.75</td>\n      <td>49872.85</td>\n      <td>51187.70</td>\n      <td>58629.85</td>\n      <td>218544.85</td>\n    </tr>\n    <tr>\n      <th>2019-02-28 00:00:00</th>\n      <td>15235.40</td>\n      <td>21454.90</td>\n      <td>25493.10</td>\n      <td>46669.85</td>\n      <td>52330.85</td>\n      <td>55218.65</td>\n      <td>216402.75</td>\n    </tr>\n    <tr>\n      <th>2019-03-31 00:00:00</th>\n      <td>14177.05</td>\n      <td>20043.00</td>\n      <td>23451.10</td>\n      <td>41572.25</td>\n      <td>48897.25</td>\n      <td>52712.95</td>\n      <td>200853.60</td>\n    </tr>\n    <tr>\n      <th>2019-04-30 00:00:00</th>\n      <td>13339.15</td>\n      <td>18791.05</td>\n      <td>22710.15</td>\n      <td>41714.30</td>\n      <td>47396.35</td>\n      <td>49324.65</td>\n      <td>193275.65</td>\n    </tr>\n    <tr>\n      <th>2019-05-31 00:00:00</th>\n      <td>13147.10</td>\n      <td>18036.75</td>\n      <td>21526.55</td>\n      <td>40610.40</td>\n      <td>45117.05</td>\n      <td>47759.60</td>\n      <td>186197.45</td>\n    </tr>\n    <tr>\n      <th>2019-06-30 00:00:00</th>\n      <td>14284.30</td>\n      <td>21556.25</td>\n      <td>21985.05</td>\n      <td>47265.65</td>\n      <td>49460.45</td>\n      <td>53462.40</td>\n      <td>208014.10</td>\n    </tr>\n    <tr>\n      <th>2019-07-31 00:00:00</th>\n      <td>14161.50</td>\n      <td>19853.00</td>\n      <td>23444.30</td>\n      <td>40408.30</td>\n      <td>47993.80</td>\n      <td>50181.60</td>\n      <td>196042.50</td>\n    </tr>\n    <tr>\n      <th>2019-08-31 00:00:00</th>\n      <td>16127.05</td>\n      <td>22332.90</td>\n      <td>24927.65</td>\n      <td>45396.85</td>\n      <td>50838.90</td>\n      <td>55336.35</td>\n      <td>214959.70</td>\n    </tr>\n    <tr>\n      <th>2019-09-30 00:00:00</th>\n      <td>14994.40</td>\n      <td>19924.50</td>\n      <td>24410.70</td>\n      <td>42830.60</td>\n      <td>49096.25</td>\n      <td>49931.45</td>\n      <td>201187.90</td>\n    </tr>\n    <tr>\n      <th>2019-10-31 00:00:00</th>\n      <td>12846.70</td>\n      <td>16550.95</td>\n      <td>22827.50</td>\n      <td>34090.05</td>\n      <td>42543.80</td>\n      <td>44311.65</td>\n      <td>173170.65</td>\n    </tr>\n    <tr>\n      <th>2019-11-30 00:00:00</th>\n      <td>14057.60</td>\n      <td>21312.90</td>\n      <td>24860.25</td>\n      <td>46959.85</td>\n      <td>52011.60</td>\n      <td>55056.45</td>\n      <td>214258.65</td>\n    </tr>\n    <tr>\n      <th>2019-12-31 00:00:00</th>\n      <td>14702.15</td>\n      <td>19722.60</td>\n      <td>24535.75</td>\n      <td>42364.35</td>\n      <td>49355.10</td>\n      <td>50933.45</td>\n      <td>201613.40</td>\n    </tr>\n    <tr>\n      <th>Total</th>\n      <td>171130.00</td>\n      <td>241362.90</td>\n      <td>283184.85</td>\n      <td>519755.30</td>\n      <td>586229.10</td>\n      <td>622859.05</td>\n      <td>2424521.20</td>\n    </tr>\n  </tbody>\n</table>\n</div>"
     },
     "execution_count": 32,
     "metadata": {},
     "output_type": "execute_result"
    }
   ],
   "source": [
    "summary"
   ],
   "metadata": {
    "collapsed": false,
    "pycharm": {
     "name": "#%%\n"
    }
   }
  },
  {
   "cell_type": "code",
   "execution_count": 33,
   "outputs": [
    {
     "data": {
      "text/plain": "(13, 7)"
     },
     "execution_count": 33,
     "metadata": {},
     "output_type": "execute_result"
    }
   ],
   "source": [
    "summary.shape"
   ],
   "metadata": {
    "collapsed": false,
    "pycharm": {
     "name": "#%%\n"
    }
   }
  },
  {
   "cell_type": "code",
   "execution_count": null,
   "outputs": [],
   "source": [
    "# 设置数据开始的行列位置\n",
    "start_row, start_col = 3,2\n",
    "nrows, ncols = summary.shape\n"
   ],
   "metadata": {
    "collapsed": false,
    "pycharm": {
     "name": "#%%\n"
    }
   }
  }
 ],
 "metadata": {
  "kernelspec": {
   "display_name": "Python 3",
   "language": "python",
   "name": "python3"
  },
  "language_info": {
   "codemirror_mode": {
    "name": "ipython",
    "version": 2
   },
   "file_extension": ".py",
   "mimetype": "text/x-python",
   "name": "python",
   "nbconvert_exporter": "python",
   "pygments_lexer": "ipython2",
   "version": "2.7.6"
  }
 },
 "nbformat": 4,
 "nbformat_minor": 0
}