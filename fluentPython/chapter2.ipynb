{
 "cells": [
  {
   "cell_type": "code",
   "id": "initial_id",
   "metadata": {
    "collapsed": true,
    "ExecuteTime": {
     "end_time": "2025-03-29T02:12:26.734914Z",
     "start_time": "2025-03-29T02:12:26.730874Z"
    }
   },
   "source": [
    "import array\n",
    "from collections import abc\n",
    "from decimal import InvalidOperation\n",
    "\n",
    "issubclass(tuple, abc.Sequence)"
   ],
   "outputs": [
    {
     "data": {
      "text/plain": [
       "True"
      ]
     },
     "execution_count": 1,
     "metadata": {},
     "output_type": "execute_result"
    }
   ],
   "execution_count": 1
  },
  {
   "metadata": {
    "ExecuteTime": {
     "end_time": "2025-03-29T02:12:36.555334Z",
     "start_time": "2025-03-29T02:12:36.551644Z"
    }
   },
   "cell_type": "code",
   "source": "issubclass(list, abc.MutableSequence)",
   "id": "b33fb48ff839f218",
   "outputs": [
    {
     "data": {
      "text/plain": [
       "True"
      ]
     },
     "execution_count": 2,
     "metadata": {},
     "output_type": "execute_result"
    }
   ],
   "execution_count": 2
  },
  {
   "metadata": {
    "ExecuteTime": {
     "end_time": "2025-03-29T02:23:16.261982Z",
     "start_time": "2025-03-29T02:23:16.256190Z"
    }
   },
   "cell_type": "code",
   "source": [
    "symbols = '$¢£¥€¤'\n",
    "codes = []\n",
    "for symbol in symbols:\n",
    "    codes.append(ord(symbol))\n",
    "codes"
   ],
   "id": "8f4698cffe3b797f",
   "outputs": [
    {
     "data": {
      "text/plain": [
       "[36, 162, 163, 165, 8364, 164]"
      ]
     },
     "execution_count": 2,
     "metadata": {},
     "output_type": "execute_result"
    }
   ],
   "execution_count": 2
  },
  {
   "metadata": {
    "ExecuteTime": {
     "end_time": "2025-03-29T02:23:55.521385Z",
     "start_time": "2025-03-29T02:23:55.516877Z"
    }
   },
   "cell_type": "code",
   "source": "[ord(i) for i in symbols]",
   "id": "ee7fe12a68432eaa",
   "outputs": [
    {
     "data": {
      "text/plain": [
       "[36, 162, 163, 165, 8364, 164]"
      ]
     },
     "execution_count": 4,
     "metadata": {},
     "output_type": "execute_result"
    }
   ],
   "execution_count": 4
  },
  {
   "metadata": {
    "ExecuteTime": {
     "end_time": "2025-03-29T07:07:11.265783Z",
     "start_time": "2025-03-29T07:07:11.258226Z"
    }
   },
   "cell_type": "code",
   "source": [
    "x = 'ABC'\n",
    "codes = [ord(i) for i in x]\n",
    "codes"
   ],
   "id": "84cd2098629b8e60",
   "outputs": [
    {
     "data": {
      "text/plain": [
       "[65, 66, 67]"
      ]
     },
     "execution_count": 5,
     "metadata": {},
     "output_type": "execute_result"
    }
   ],
   "execution_count": 5
  },
  {
   "metadata": {
    "ExecuteTime": {
     "end_time": "2025-03-29T07:08:04.308408Z",
     "start_time": "2025-03-29T07:08:04.304993Z"
    }
   },
   "cell_type": "code",
   "source": [
    "codes = [last := ord(i) for i in x]\n",
    "last"
   ],
   "id": "3624a5a6fc1e1671",
   "outputs": [
    {
     "data": {
      "text/plain": [
       "67"
      ]
     },
     "execution_count": 7,
     "metadata": {},
     "output_type": "execute_result"
    }
   ],
   "execution_count": 7
  },
  {
   "metadata": {
    "ExecuteTime": {
     "end_time": "2025-03-29T11:23:06.149231Z",
     "start_time": "2025-03-29T11:23:06.139827Z"
    }
   },
   "cell_type": "code",
   "source": [
    "codes1 = [first := ord(i) for i in x]\n",
    "codes1"
   ],
   "id": "16db043e52e2a49a",
   "outputs": [
    {
     "data": {
      "text/plain": [
       "[65, 66, 67]"
      ]
     },
     "execution_count": 8,
     "metadata": {},
     "output_type": "execute_result"
    }
   ],
   "execution_count": 8
  },
  {
   "metadata": {
    "ExecuteTime": {
     "end_time": "2025-03-29T11:23:12.746058Z",
     "start_time": "2025-03-29T11:23:12.741912Z"
    }
   },
   "cell_type": "code",
   "source": "first",
   "id": "bb99f022bca19387",
   "outputs": [
    {
     "data": {
      "text/plain": [
       "67"
      ]
     },
     "execution_count": 9,
     "metadata": {},
     "output_type": "execute_result"
    }
   ],
   "execution_count": 9
  },
  {
   "metadata": {
    "ExecuteTime": {
     "end_time": "2025-03-29T11:24:40.924180Z",
     "start_time": "2025-03-29T11:24:40.920028Z"
    }
   },
   "cell_type": "code",
   "source": "symbols",
   "id": "e19d13a99d0ca55b",
   "outputs": [
    {
     "data": {
      "text/plain": [
       "'$¢£¥€¤'"
      ]
     },
     "execution_count": 10,
     "metadata": {},
     "output_type": "execute_result"
    }
   ],
   "execution_count": 10
  },
  {
   "metadata": {
    "ExecuteTime": {
     "end_time": "2025-03-29T11:25:36.787506Z",
     "start_time": "2025-03-29T11:25:36.783750Z"
    }
   },
   "cell_type": "code",
   "source": [
    "beyond_ascii = [ord(x) for x in symbol if ord(x) > 127]\n",
    "beyond_ascii"
   ],
   "id": "97e164f9c6e3ea56",
   "outputs": [
    {
     "data": {
      "text/plain": [
       "[164]"
      ]
     },
     "execution_count": 11,
     "metadata": {},
     "output_type": "execute_result"
    }
   ],
   "execution_count": 11
  },
  {
   "metadata": {
    "ExecuteTime": {
     "end_time": "2025-03-29T11:26:39.737253Z",
     "start_time": "2025-03-29T11:26:39.733170Z"
    }
   },
   "cell_type": "code",
   "source": "list(filter(lambda c: c > 127, map(ord, symbols)))",
   "id": "7f69df981821414b",
   "outputs": [
    {
     "data": {
      "text/plain": [
       "[162, 163, 165, 8364, 164]"
      ]
     },
     "execution_count": 12,
     "metadata": {},
     "output_type": "execute_result"
    }
   ],
   "execution_count": 12
  },
  {
   "metadata": {
    "ExecuteTime": {
     "end_time": "2025-03-29T11:58:37.096934Z",
     "start_time": "2025-03-29T11:58:37.093383Z"
    }
   },
   "cell_type": "code",
   "source": [
    "import timeit\n",
    "\n",
    "TIMES = 10000\n",
    "\n",
    "SETUP = \"\"\"\n",
    "symbols = '$¢£¥€¤'\n",
    "def non_ascii(c):\n",
    "    return c > 127\n",
    "\"\"\"\n",
    "\n",
    "\n",
    "def clock(label, cmd):\n",
    "    res = timeit.repeat(cmd, setup=SETUP, number=TIMES)\n",
    "    print(label, *(f'{x:.3f}' for x in res))"
   ],
   "id": "76711822038148e3",
   "outputs": [],
   "execution_count": 4
  },
  {
   "metadata": {
    "ExecuteTime": {
     "end_time": "2025-03-29T11:58:38.112336Z",
     "start_time": "2025-03-29T11:58:38.088941Z"
    }
   },
   "cell_type": "code",
   "source": "clock('list_comp: ', '[ord(c) for c in symbols if ord(c) > 127]')",
   "id": "a4f6740d5f0ba008",
   "outputs": [
    {
     "name": "stdout",
     "output_type": "stream",
     "text": [
      "listcomp:  0.004 0.004 0.004 0.004 0.004\n"
     ]
    }
   ],
   "execution_count": 5
  },
  {
   "metadata": {
    "ExecuteTime": {
     "end_time": "2025-03-29T11:59:53.088409Z",
     "start_time": "2025-03-29T11:59:53.058456Z"
    }
   },
   "cell_type": "code",
   "source": "clock('list_comp + func: ', '[ord(c) for c in symbols if non_ascii(ord(c))]')",
   "id": "3c3f6d427c4f07d6",
   "outputs": [
    {
     "name": "stdout",
     "output_type": "stream",
     "text": [
      "listcomp + func:  0.005 0.006 0.006 0.005 0.005\n"
     ]
    }
   ],
   "execution_count": 6
  },
  {
   "metadata": {
    "ExecuteTime": {
     "end_time": "2025-03-29T12:00:58.404124Z",
     "start_time": "2025-03-29T12:00:58.371725Z"
    }
   },
   "cell_type": "code",
   "source": "clock('list_comp + lambda: ', 'list(filter(lambda c: c > 127, map(ord, symbols)))')",
   "id": "af7f4dc1e01c915d",
   "outputs": [
    {
     "name": "stdout",
     "output_type": "stream",
     "text": [
      "listcomp + lambda:  0.006 0.006 0.006 0.006 0.005\n"
     ]
    }
   ],
   "execution_count": 7
  },
  {
   "metadata": {
    "ExecuteTime": {
     "end_time": "2025-03-29T12:01:48.317344Z",
     "start_time": "2025-03-29T12:01:48.284402Z"
    }
   },
   "cell_type": "code",
   "source": "clock('filter + func: ', 'list(filter(non_ascii, map(ord, symbols)))')",
   "id": "f56b1855024d580c",
   "outputs": [
    {
     "name": "stdout",
     "output_type": "stream",
     "text": [
      "filter + func:  0.007 0.006 0.006 0.006 0.005\n"
     ]
    }
   ],
   "execution_count": 9
  },
  {
   "metadata": {
    "ExecuteTime": {
     "end_time": "2025-03-29T13:45:25.003997Z",
     "start_time": "2025-03-29T13:45:24.999896Z"
    }
   },
   "cell_type": "code",
   "source": [
    "# 列表推导式\n",
    "colors = ['black', 'red']\n",
    "sizes = ['S', 'M', 'L']\n",
    "tshirts = [(color, size) for color in colors for size in sizes]\n",
    "tshirts"
   ],
   "id": "67e6b83b382283d",
   "outputs": [
    {
     "data": {
      "text/plain": [
       "[('black', 'S'),\n",
       " ('black', 'M'),\n",
       " ('black', 'L'),\n",
       " ('red', 'S'),\n",
       " ('red', 'M'),\n",
       " ('red', 'L')]"
      ]
     },
     "execution_count": 1,
     "metadata": {},
     "output_type": "execute_result"
    }
   ],
   "execution_count": 1
  },
  {
   "metadata": {
    "ExecuteTime": {
     "end_time": "2025-03-29T13:46:55.654997Z",
     "start_time": "2025-03-29T13:46:55.651355Z"
    }
   },
   "cell_type": "code",
   "source": [
    "# 生成器表达式\n",
    "colors = ['black', 'red']\n",
    "sizes = ['S', 'M', 'L']\n",
    "tshirts_tuple = tuple((color, size) for color in colors for size in sizes)\n",
    "tshirts_tuple"
   ],
   "id": "77a04edc30b08ed7",
   "outputs": [
    {
     "data": {
      "text/plain": [
       "(('black', 'S'),\n",
       " ('black', 'M'),\n",
       " ('black', 'L'),\n",
       " ('red', 'S'),\n",
       " ('red', 'M'),\n",
       " ('red', 'L'))"
      ]
     },
     "execution_count": 2,
     "metadata": {},
     "output_type": "execute_result"
    }
   ],
   "execution_count": 2
  },
  {
   "metadata": {
    "ExecuteTime": {
     "end_time": "2025-03-29T13:49:38.859323Z",
     "start_time": "2025-03-29T13:49:38.856631Z"
    }
   },
   "cell_type": "code",
   "source": [
    "for shirts in (f'({c}, {s})' for c in colors for s in sizes):\n",
    "    print(shirts)"
   ],
   "id": "9ab87b4762aea909",
   "outputs": [
    {
     "name": "stdout",
     "output_type": "stream",
     "text": [
      "(black, S)\n",
      "(black, M)\n",
      "(black, L)\n",
      "(red, S)\n",
      "(red, M)\n",
      "(red, L)\n"
     ]
    }
   ],
   "execution_count": 4
  },
  {
   "metadata": {
    "ExecuteTime": {
     "end_time": "2025-03-29T14:14:50.507135Z",
     "start_time": "2025-03-29T14:14:50.504590Z"
    }
   },
   "cell_type": "code",
   "source": [
    "lax_coordinates = (33.9425, -118408065)\n",
    "city, year, pop, chg, area = ('Tokyo', 2003, 32_450, 0.66, 8014)\n",
    "traveler_ids = [('USA', '31195855'),\n",
    "                ('BRE', 'CE342567'),\n",
    "                ('ESP', 'XDA205856')]\n",
    "for passport in sorted(traveler_ids):\n",
    "    print('%s/%s' % passport)"
   ],
   "id": "b33f847ac30ed405",
   "outputs": [
    {
     "name": "stdout",
     "output_type": "stream",
     "text": [
      "BRE/CE342567\n",
      "ESP/XDA205856\n",
      "USA/31195855\n"
     ]
    }
   ],
   "execution_count": 9
  },
  {
   "metadata": {
    "ExecuteTime": {
     "end_time": "2025-03-29T14:15:26.469806Z",
     "start_time": "2025-03-29T14:15:26.467683Z"
    }
   },
   "cell_type": "code",
   "source": [
    "for country, _ in sorted(traveler_ids):\n",
    "    print(country)"
   ],
   "id": "4cabe0dd6570efb6",
   "outputs": [
    {
     "name": "stdout",
     "output_type": "stream",
     "text": [
      "BRE\n",
      "ESP\n",
      "USA\n"
     ]
    }
   ],
   "execution_count": 10
  },
  {
   "metadata": {
    "ExecuteTime": {
     "end_time": "2025-04-02T13:33:30.968460Z",
     "start_time": "2025-04-02T13:33:30.964645Z"
    }
   },
   "cell_type": "code",
   "source": [
    "metro_map = [\n",
    "    ('Tokyo', 'JP', 36.933, (35.689722, 139.691667)),\n",
    "    ('Delhi NCR', 'IN', 21.935, (28.613889, 77.208889)),\n",
    "    ('Mexico City', 'MX', 20.142, (19.433333, -99.133333)),\n",
    "    ('New York-Newark', 'US', 20.104, (40.808611, -74.020386)),\n",
    "    ('São Paulo', 'BR', 19.649, (-23.547778, -46.635833)),\n",
    "]\n",
    "\n",
    "\n",
    "def main():\n",
    "    print(f'{\"City_name\":15} | {\"latitude\":>9} | {\"longitude\":>9}')\n",
    "    for name, _, _, (lat, long) in metro_map:\n",
    "        if long <= 0:\n",
    "            print(f'{name:15} | {lat:9.4f} | {long:9.4f}')\n",
    "\n",
    "\n",
    "if __name__ == '__main__':\n",
    "    main()\n"
   ],
   "id": "10381ae818853075",
   "outputs": [
    {
     "name": "stdout",
     "output_type": "stream",
     "text": [
      "City_name       |  latitude | longitude\n",
      "Mexico City     |   19.4333 |  -99.1333\n",
      "New York-Newark |   40.8086 |  -74.0204\n",
      "São Paulo       |  -23.5478 |  -46.6358\n"
     ]
    }
   ],
   "execution_count": 1
  },
  {
   "metadata": {
    "ExecuteTime": {
     "end_time": "2025-04-02T13:35:02.317352Z",
     "start_time": "2025-04-02T13:35:02.315242Z"
    }
   },
   "cell_type": "code",
   "source": [
    "def fixed(o):\n",
    "    try:\n",
    "        hash(o)  # 不可hash的元祖不能作为字典的键\n",
    "    except TypeError:\n",
    "        return False\n",
    "    return True\n",
    "\n",
    "\n",
    "a = (1, 2, [4, 5])\n",
    "b = (1, 2, (4, 5))"
   ],
   "id": "bf8933f807326210",
   "outputs": [],
   "execution_count": 2
  },
  {
   "metadata": {
    "ExecuteTime": {
     "end_time": "2025-04-02T13:35:06.064754Z",
     "start_time": "2025-04-02T13:35:06.048660Z"
    }
   },
   "cell_type": "code",
   "source": "fixed(a)",
   "id": "21176e9661071d10",
   "outputs": [
    {
     "data": {
      "text/plain": [
       "False"
      ]
     },
     "execution_count": 3,
     "metadata": {},
     "output_type": "execute_result"
    }
   ],
   "execution_count": 3
  },
  {
   "metadata": {
    "ExecuteTime": {
     "end_time": "2025-04-02T13:35:13.055485Z",
     "start_time": "2025-04-02T13:35:13.052805Z"
    }
   },
   "cell_type": "code",
   "source": "fixed(b)",
   "id": "6274e672a450f136",
   "outputs": [
    {
     "data": {
      "text/plain": [
       "True"
      ]
     },
     "execution_count": 4,
     "metadata": {},
     "output_type": "execute_result"
    }
   ],
   "execution_count": 4
  },
  {
   "metadata": {
    "ExecuteTime": {
     "end_time": "2025-04-02T14:08:35.587444Z",
     "start_time": "2025-04-02T14:08:35.579370Z"
    }
   },
   "cell_type": "code",
   "source": [
    "def func(a, b, c, d, *rest):\n",
    "    return a, b, c, d, rest\n",
    "\n",
    "\n",
    "func(*[1, 2], 3, *range(4, 7))"
   ],
   "id": "9eb82c0f5411ae5b",
   "outputs": [
    {
     "data": {
      "text/plain": [
       "(1, 2, 3, 4, (5, 6))"
      ]
     },
     "execution_count": 5,
     "metadata": {},
     "output_type": "execute_result"
    }
   ],
   "execution_count": 5
  },
  {
   "metadata": {
    "ExecuteTime": {
     "end_time": "2025-04-06T02:19:22.458486Z",
     "start_time": "2025-04-06T02:19:22.438270Z"
    }
   },
   "cell_type": "code",
   "source": [
    "# 切片对象\n",
    "invoice = \"\"\"\n",
    "0.....6.................................40........52...55........￼\n",
    "1909  Pimoroni PiBrella                     $17.50    3    $52.50￼\n",
    "1489  6mm Tactile Switch x20                 $4.95    2     $9.90￼\n",
    "1510  Panavise Jr. - PV-201                 $28.00    1    $28.00￼\n",
    "1601  PiTFT Mini Kit 320x240                $34.95    1    $34.95￼\n",
    "\"\"\"\n",
    "SKU = slice(0, 6)\n",
    "DESCRIPTION = slice(6, 40)\n",
    "UNIT_PRICE = slice(40, 52)\n",
    "QUANTITY = slice(52, 55)\n",
    "ITEM_TOTAL = slice(55, None)\n",
    "line_items = invoice.split('\\n')[2:]\n",
    "for item in line_items:\n",
    "    print(item[UNIT_PRICE], item[DESCRIPTION])\n"
   ],
   "id": "878657ce5ca026f2",
   "outputs": [
    {
     "name": "stdout",
     "output_type": "stream",
     "text": [
      "    $17.50   Pimoroni PiBrella                 \n",
      "     $4.95   6mm Tactile Switch x20            \n",
      "    $28.00   Panavise Jr. - PV-201             \n",
      "    $34.95   PiTFT Mini Kit 320x240            \n",
      " \n"
     ]
    }
   ],
   "execution_count": 6
  },
  {
   "metadata": {
    "ExecuteTime": {
     "end_time": "2025-04-06T02:32:37.859843Z",
     "start_time": "2025-04-06T02:32:37.856393Z"
    }
   },
   "cell_type": "code",
   "source": [
    "a = [i for i in range(10)]\n",
    "type(a)"
   ],
   "id": "63d59279d4de037",
   "outputs": [
    {
     "data": {
      "text/plain": [
       "list"
      ]
     },
     "execution_count": 17,
     "metadata": {},
     "output_type": "execute_result"
    }
   ],
   "execution_count": 17
  },
  {
   "metadata": {
    "ExecuteTime": {
     "end_time": "2025-04-06T02:44:58.942551Z",
     "start_time": "2025-04-06T02:44:58.939852Z"
    }
   },
   "cell_type": "code",
   "source": "a.__getitem__(8)",
   "id": "c94bc70b430eafc0",
   "outputs": [
    {
     "data": {
      "text/plain": [
       "8"
      ]
     },
     "execution_count": 20,
     "metadata": {},
     "output_type": "execute_result"
    }
   ],
   "execution_count": 20
  },
  {
   "metadata": {
    "ExecuteTime": {
     "end_time": "2025-04-06T03:22:33.393977Z",
     "start_time": "2025-04-06T03:22:33.236138Z"
    }
   },
   "cell_type": "code",
   "source": [
    "import numpy as np\n",
    "\n",
    "a = np.array([i for i in range(0, 10)])\n",
    "a"
   ],
   "id": "f893c36cc227e018",
   "outputs": [
    {
     "data": {
      "text/plain": [
       "array([0, 1, 2, 3, 4, 5, 6, 7, 8, 9])"
      ]
     },
     "execution_count": 21,
     "metadata": {},
     "output_type": "execute_result"
    }
   ],
   "execution_count": 21
  },
  {
   "metadata": {
    "ExecuteTime": {
     "end_time": "2025-04-06T03:25:14.286487Z",
     "start_time": "2025-04-06T03:25:14.284151Z"
    }
   },
   "cell_type": "code",
   "source": "a[[1, 9]]",
   "id": "72e8cce9bfeaed41",
   "outputs": [
    {
     "data": {
      "text/plain": [
       "array([1, 9])"
      ]
     },
     "execution_count": 35,
     "metadata": {},
     "output_type": "execute_result"
    }
   ],
   "execution_count": 35
  },
  {
   "metadata": {
    "ExecuteTime": {
     "end_time": "2025-04-06T06:33:21.908099Z",
     "start_time": "2025-04-06T06:33:21.905676Z"
    }
   },
   "cell_type": "code",
   "source": [
    "my_list = [[]] * 3\n",
    "my_list"
   ],
   "id": "a05976c259b0f13e",
   "outputs": [
    {
     "data": {
      "text/plain": [
       "[[], [], []]"
      ]
     },
     "execution_count": 37,
     "metadata": {},
     "output_type": "execute_result"
    }
   ],
   "execution_count": 37
  },
  {
   "metadata": {
    "ExecuteTime": {
     "end_time": "2025-04-07T14:18:08.821784Z",
     "start_time": "2025-04-07T14:18:08.807648Z"
    }
   },
   "cell_type": "code",
   "source": [
    "board = [['_'] * 3 for i in range(3)]\n",
    "board"
   ],
   "id": "86c80d7dc6ac34db",
   "outputs": [
    {
     "data": {
      "text/plain": [
       "[['_', '_', '_'], ['_', '_', '_'], ['_', '_', '_']]"
      ]
     },
     "execution_count": 38,
     "metadata": {},
     "output_type": "execute_result"
    }
   ],
   "execution_count": 38
  },
  {
   "metadata": {
    "ExecuteTime": {
     "end_time": "2025-04-07T14:18:36.501659Z",
     "start_time": "2025-04-07T14:18:36.498807Z"
    }
   },
   "cell_type": "code",
   "source": [
    "board[1][2] = 'X'\n",
    "board"
   ],
   "id": "f5746b93ba1558ae",
   "outputs": [
    {
     "data": {
      "text/plain": [
       "[['_', '_', '_'], ['_', '_', 'X'], ['_', '_', '_']]"
      ]
     },
     "execution_count": 41,
     "metadata": {},
     "output_type": "execute_result"
    }
   ],
   "execution_count": 41
  },
  {
   "metadata": {
    "ExecuteTime": {
     "end_time": "2025-04-19T14:14:14.290388Z",
     "start_time": "2025-04-19T14:14:14.286251Z"
    }
   },
   "cell_type": "code",
   "source": [
    "row = ['_']*3\n",
    "row"
   ],
   "id": "b787fcce611389da",
   "outputs": [
    {
     "data": {
      "text/plain": [
       "['_', '_', '_']"
      ]
     },
     "execution_count": 1,
     "metadata": {},
     "output_type": "execute_result"
    }
   ],
   "execution_count": 1
  },
  {
   "metadata": {
    "ExecuteTime": {
     "end_time": "2025-04-19T14:14:54.925399Z",
     "start_time": "2025-04-19T14:14:54.922821Z"
    }
   },
   "cell_type": "code",
   "source": [
    "board = []\n",
    "for i in range(3):\n",
    "    board.append(row)\n",
    "board"
   ],
   "id": "4db50c2d38ef0ce9",
   "outputs": [
    {
     "data": {
      "text/plain": [
       "[['_', '_', '_'], ['_', '_', '_'], ['_', '_', '_']]"
      ]
     },
     "execution_count": 2,
     "metadata": {},
     "output_type": "execute_result"
    }
   ],
   "execution_count": 2
  },
  {
   "metadata": {
    "ExecuteTime": {
     "end_time": "2025-04-19T14:15:15.231201Z",
     "start_time": "2025-04-19T14:15:15.228411Z"
    }
   },
   "cell_type": "code",
   "source": [
    "board[1][2] = '0'\n",
    "board"
   ],
   "id": "91f386d6f83e9826",
   "outputs": [
    {
     "data": {
      "text/plain": [
       "[['_', '_', '0'], ['_', '_', '0'], ['_', '_', '0']]"
      ]
     },
     "execution_count": 3,
     "metadata": {},
     "output_type": "execute_result"
    }
   ],
   "execution_count": 3
  },
  {
   "metadata": {
    "ExecuteTime": {
     "end_time": "2025-04-19T14:16:12.298218Z",
     "start_time": "2025-04-19T14:16:12.295357Z"
    }
   },
   "cell_type": "code",
   "source": "type(board)",
   "id": "2a22d9887315e3e2",
   "outputs": [
    {
     "data": {
      "text/plain": [
       "list"
      ]
     },
     "execution_count": 6,
     "metadata": {},
     "output_type": "execute_result"
    }
   ],
   "execution_count": 6
  },
  {
   "metadata": {
    "ExecuteTime": {
     "end_time": "2025-04-19T14:18:35.789521Z",
     "start_time": "2025-04-19T14:18:35.786380Z"
    }
   },
   "cell_type": "code",
   "source": "len(board)",
   "id": "f14e2c038c40e58b",
   "outputs": [
    {
     "data": {
      "text/plain": [
       "3"
      ]
     },
     "execution_count": 13,
     "metadata": {},
     "output_type": "execute_result"
    }
   ],
   "execution_count": 13
  },
  {
   "metadata": {
    "ExecuteTime": {
     "end_time": "2025-04-19T14:46:24.431473Z",
     "start_time": "2025-04-19T14:46:24.428576Z"
    }
   },
   "cell_type": "code",
   "source": [
    "a = [1,4,3,8,9]\n",
    "list.sort(a)"
   ],
   "id": "255fdeece58c364f",
   "outputs": [],
   "execution_count": 14
  },
  {
   "metadata": {
    "ExecuteTime": {
     "end_time": "2025-04-20T11:08:10.655236Z",
     "start_time": "2025-04-20T11:08:10.649970Z"
    }
   },
   "cell_type": "code",
   "source": "a",
   "id": "38eb1e99280ee7e4",
   "outputs": [
    {
     "data": {
      "text/plain": [
       "[1, 3, 4, 8, 9]"
      ]
     },
     "execution_count": 15,
     "metadata": {},
     "output_type": "execute_result"
    }
   ],
   "execution_count": 15
  },
  {
   "metadata": {
    "ExecuteTime": {
     "end_time": "2025-04-20T11:09:06.476697Z",
     "start_time": "2025-04-20T11:09:06.473861Z"
    }
   },
   "cell_type": "code",
   "source": [
    "list.sort(a, reverse=True)\n",
    "a"
   ],
   "id": "963d7c461288e342",
   "outputs": [
    {
     "data": {
      "text/plain": [
       "[9, 8, 4, 3, 1]"
      ]
     },
     "execution_count": 16,
     "metadata": {},
     "output_type": "execute_result"
    }
   ],
   "execution_count": 16
  },
  {
   "metadata": {
    "ExecuteTime": {
     "end_time": "2025-04-20T11:27:36.243872Z",
     "start_time": "2025-04-20T11:27:36.240952Z"
    }
   },
   "cell_type": "code",
   "source": [
    "a = bytearray([1])\n",
    "a"
   ],
   "id": "916a7af9b9dd48d9",
   "outputs": [
    {
     "data": {
      "text/plain": [
       "bytearray(b'\\x01')"
      ]
     },
     "execution_count": 20,
     "metadata": {},
     "output_type": "execute_result"
    }
   ],
   "execution_count": 20
  },
  {
   "metadata": {
    "ExecuteTime": {
     "end_time": "2025-04-20T11:29:58.074706Z",
     "start_time": "2025-04-20T11:29:57.398242Z"
    }
   },
   "cell_type": "code",
   "source": [
    "from array import array\n",
    "from random import random\n",
    "\n",
    "floats = array('d', (random() for i in range(10**7)))\n",
    "floats[-1]"
   ],
   "id": "acd0fc660fc23de5",
   "outputs": [
    {
     "data": {
      "text/plain": [
       "0.736565864676342"
      ]
     },
     "execution_count": 22,
     "metadata": {},
     "output_type": "execute_result"
    }
   ],
   "execution_count": 22
  },
  {
   "metadata": {
    "ExecuteTime": {
     "end_time": "2025-04-20T11:43:09.771027Z",
     "start_time": "2025-04-20T11:43:09.768334Z"
    }
   },
   "cell_type": "code",
   "source": [
    "octets = array('B', range(6))\n",
    "octets"
   ],
   "id": "62c85449f2b69a97",
   "outputs": [
    {
     "data": {
      "text/plain": [
       "array('B', [0, 1, 2, 3, 4, 5])"
      ]
     },
     "execution_count": 24,
     "metadata": {},
     "output_type": "execute_result"
    }
   ],
   "execution_count": 24
  },
  {
   "metadata": {
    "ExecuteTime": {
     "end_time": "2025-04-20T11:43:36.414549Z",
     "start_time": "2025-04-20T11:43:36.411586Z"
    }
   },
   "cell_type": "code",
   "source": [
    "m1 = memoryview(octets)\n",
    "m1.tolist()"
   ],
   "id": "cdde7b5da2660345",
   "outputs": [
    {
     "data": {
      "text/plain": [
       "[0, 1, 2, 3, 4, 5]"
      ]
     },
     "execution_count": 25,
     "metadata": {},
     "output_type": "execute_result"
    }
   ],
   "execution_count": 25
  },
  {
   "metadata": {
    "ExecuteTime": {
     "end_time": "2025-04-20T11:44:03.342637Z",
     "start_time": "2025-04-20T11:44:03.339363Z"
    }
   },
   "cell_type": "code",
   "source": [
    "m2 = m1.cast('B', [2, 3])\n",
    "m2.tolist()"
   ],
   "id": "89162af7d49757c0",
   "outputs": [
    {
     "data": {
      "text/plain": [
       "[[0, 1, 2], [3, 4, 5]]"
      ]
     },
     "execution_count": 27,
     "metadata": {},
     "output_type": "execute_result"
    }
   ],
   "execution_count": 27
  },
  {
   "metadata": {
    "ExecuteTime": {
     "end_time": "2025-04-20T11:44:27.284888Z",
     "start_time": "2025-04-20T11:44:27.282241Z"
    }
   },
   "cell_type": "code",
   "source": [
    "m3 = m1.cast('B', [3, 2])\n",
    "m3.tolist()"
   ],
   "id": "a5736450a927b61f",
   "outputs": [
    {
     "data": {
      "text/plain": [
       "[[0, 1], [2, 3], [4, 5]]"
      ]
     },
     "execution_count": 28,
     "metadata": {},
     "output_type": "execute_result"
    }
   ],
   "execution_count": 28
  },
  {
   "metadata": {
    "ExecuteTime": {
     "end_time": "2025-04-20T11:45:22.096591Z",
     "start_time": "2025-04-20T11:45:22.094506Z"
    }
   },
   "cell_type": "code",
   "source": [
    "m2[1, 1] = 22\n",
    "m3[1, 1] = 33"
   ],
   "id": "f83119203e03b561",
   "outputs": [],
   "execution_count": 29
  },
  {
   "metadata": {
    "ExecuteTime": {
     "end_time": "2025-04-20T11:45:25.106029Z",
     "start_time": "2025-04-20T11:45:25.103675Z"
    }
   },
   "cell_type": "code",
   "source": [
    "# octets，m1, m2, m3是共享内存的\n",
    "octets"
   ],
   "id": "d171ef84ada9751c",
   "outputs": [
    {
     "data": {
      "text/plain": [
       "array('B', [0, 1, 2, 33, 22, 5])"
      ]
     },
     "execution_count": 30,
     "metadata": {},
     "output_type": "execute_result"
    }
   ],
   "execution_count": 30
  },
  {
   "metadata": {
    "ExecuteTime": {
     "end_time": "2025-04-20T11:47:19.186100Z",
     "start_time": "2025-04-20T11:47:19.183542Z"
    }
   },
   "cell_type": "code",
   "source": [
    "from array import array\n",
    "numbers = array('h', [-2, -1, 0, 1, 2])\n",
    "numbers"
   ],
   "id": "c8dce38405288490",
   "outputs": [
    {
     "data": {
      "text/plain": [
       "array('h', [-2, -1, 0, 1, 2])"
      ]
     },
     "execution_count": 33,
     "metadata": {},
     "output_type": "execute_result"
    }
   ],
   "execution_count": 33
  },
  {
   "metadata": {
    "ExecuteTime": {
     "end_time": "2025-04-20T11:48:08.038180Z",
     "start_time": "2025-04-20T11:48:08.036075Z"
    }
   },
   "cell_type": "code",
   "source": [
    "memv = memoryview(numbers)\n",
    "len(memv)"
   ],
   "id": "d2b98ef50dfe986f",
   "outputs": [
    {
     "data": {
      "text/plain": [
       "5"
      ]
     },
     "execution_count": 37,
     "metadata": {},
     "output_type": "execute_result"
    }
   ],
   "execution_count": 37
  },
  {
   "metadata": {
    "ExecuteTime": {
     "end_time": "2025-04-20T11:48:12.446056Z",
     "start_time": "2025-04-20T11:48:12.443084Z"
    }
   },
   "cell_type": "code",
   "source": "memv[0]",
   "id": "f14ce2c2ecfbddf4",
   "outputs": [
    {
     "data": {
      "text/plain": [
       "-2"
      ]
     },
     "execution_count": 38,
     "metadata": {},
     "output_type": "execute_result"
    }
   ],
   "execution_count": 38
  },
  {
   "metadata": {
    "ExecuteTime": {
     "end_time": "2025-04-20T11:48:38.554322Z",
     "start_time": "2025-04-20T11:48:38.551858Z"
    }
   },
   "cell_type": "code",
   "source": [
    "memv_oct = memv.cast('B')\n",
    "memv_oct.tolist()"
   ],
   "id": "ab7e46ae14145e86",
   "outputs": [
    {
     "data": {
      "text/plain": [
       "[254, 255, 255, 255, 0, 0, 1, 0, 2, 0]"
      ]
     },
     "execution_count": 40,
     "metadata": {},
     "output_type": "execute_result"
    }
   ],
   "execution_count": 40
  },
  {
   "metadata": {},
   "cell_type": "code",
   "outputs": [],
   "execution_count": null,
   "source": "",
   "id": "3ba4e4d85ae6aa91"
  }
 ],
 "metadata": {
  "kernelspec": {
   "display_name": "Python 3",
   "language": "python",
   "name": "python3"
  },
  "language_info": {
   "codemirror_mode": {
    "name": "ipython",
    "version": 2
   },
   "file_extension": ".py",
   "mimetype": "text/x-python",
   "name": "python",
   "nbconvert_exporter": "python",
   "pygments_lexer": "ipython2",
   "version": "2.7.6"
  }
 },
 "nbformat": 4,
 "nbformat_minor": 5
}
