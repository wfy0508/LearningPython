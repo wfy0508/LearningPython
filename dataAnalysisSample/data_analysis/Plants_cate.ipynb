{
 "cells": [
  {
   "attachments": {
    "21a30155-b1b1-4071-842f-c44adf388c3c.png": {
     "image/png": "[encoded data removed]"
    }
   },
   "cell_type": "markdown",
   "id": "0aaa0c84",
   "metadata": {},
   "source": [
    "### 背景说明\n",
    "\n",
    "　Covtype数据集是一个广泛用于机器学习研究和实验的数据集，它提供了美国罗基山脉森林地区的地理和环境特征数据。这些数据主要用于预测森林覆盖类型，根据地形、土壤和其他环境特征来分类。每个样本代表了一个30米×30米的土地区块，具有54个特征，包括海拔、坡度、地形朝向、水源距离、火源距离、阳影等级以及四个野外区域和40种不同的土壤类型。  该数据集的主要目标是根据这些地理特征来预测每个区块的植被覆盖类型，覆盖类型包括了森林中的不同树种或者其他植被类型。这种预测对于森林资源管理、生态学研究以及自然资源保护都具有重要意义。因此，Covtype数据集成为了研究地理信息系统（GIS）、遥感技术和机器学习模型应用的重要基准数据集之一。\n",
    "\n",
    "### 数据说明\n",
    "\n",
    "　**covtype.csv**数据主要包含**海拔、地形、斜坡**等维度，**约有58万余条**。\n",
    "\n",
    "**订单数据**\n",
    "\n",
    "- **数据样例**\n",
    "\n",
    "![image.png](attachment:21a30155-b1b1-4071-842f-c44adf388c3c.png)\n",
    "\n",
    "- **字段解读**\n",
    "\n",
    "| 字段名称     | 字段说明                         |\n",
    "| ------------ | -------------------------------- |\n",
    "| Elevation | 海拔高度 |\n",
    "| Aspect | 地形朝向，即斜坡方向的方位角度 |\n",
    "| Slope | 斜坡的坡度 |\n",
    "| Horizontal_Distance_To_Fire_Points | 距离最近的火源的水平距离 |\n",
    "| Horizontal_Distance_To_Hydrology | 距离最近的水源的水平距离 |\n",
    "| Vertical_Distance_To_Hydrology | 距离最近的水源的垂直距离 |\n",
    "| Horizontal_Distance_To_Roadways | 距离最近的道路的水平距离 |\n",
    "| Hillshade_9am | 早上9点的山阴指数 |\n",
    "| Hillshade_Noon | 中午12点的山阴指数 |\n",
    "| Hillshade_3pm | 下午3点的山阴指数 |\n",
    "| Wilderness_Area_1 至 Wilderness_Area_4 | 野外区域标志 |\n",
    "| Soil_Type_1 至 Soil_Type_40 | 土壤类型标志 |\n",
    "| Cover_Type | 地块的覆盖类型分类 |\n",
    "\n",
    "### 分析思路\n",
    "#### 1.数据导入\n",
    "　对数据进行分割，读入训练集“covtype_train.csv”与测试集“covtype_test.csv”数据，并计算训练集特征的“均值向量”与“标准差向量”。</br>\n",
    "#### 2.数据处理\n",
    "　数据归一化，并划分训练集、测试集、验证集。</br>\n",
    "#### 3.搭建模型\n",
    "　利用Pytorch框架，构建全连接神经网络模型。</br>\n",
    "#### 4.训练模型\n",
    "　利用训练集对模型进行训练，并保存验证集上准确率最优的预测模型。</br>\n",
    "#### 5.模型测试\n",
    "　训练完成后，对测试集样本点进行预测，并计算预测准确率（Accuracy）。</br>"
   ]
  },
  {
   "metadata": {
    "ExecuteTime": {
     "end_time": "2024-09-26T10:57:08.166013Z",
     "start_time": "2024-09-26T10:57:05.203553Z"
    }
   },
   "cell_type": "code",
   "source": [
    "from sklearn.model_selection import train_test_split\n",
    "from sklearn.preprocessing import StandardScaler\n",
    "import matplotlib.pyplot as plt\n",
    "import numpy as np\n",
    "import pandas as pd\n",
    "import torch\n",
    "from torch import nn\n",
    "from torch import optim\n",
    "from torch.utils.data import Dataset, DataLoader\n",
    "import os"
   ],
   "id": "e39c231de361ce96",
   "outputs": [],
   "execution_count": 1
  },
  {
   "cell_type": "markdown",
   "id": "f0fbd9c0",
   "metadata": {},
   "source": "#### 1、将原始《covtype.csv》数据集划分为训练集（70%）和测试集（30%）"
  },
  {
   "metadata": {
    "ExecuteTime": {
     "end_time": "2024-09-21T05:33:40.341836Z",
     "start_time": "2024-09-21T05:33:39.364937Z"
    }
   },
   "cell_type": "code",
   "source": [
    "# 读取数据集\n",
    "data = pd.read_csv('../dataset/cov_type.csv')\n",
    "data.iloc[:, -1] = data.iloc[:, -1] - 1\n",
    "\n",
    "# 划分特征和标签\n",
    "features = data.iloc[:, :-1]\n",
    "labels = data.iloc[:, -1]\n",
    "\n",
    "# 划分数据集\n",
    "train_data, test_data = train_test_split(data, test_size=0.3, random_state=42)\n",
    "\n",
    "# 保存数据集\n",
    "if os.path.exists('../dataset/cov_type_train.csv'):\n",
    "    pass\n",
    "else:\n",
    "    train_data.to_csv('../dataset/cov_type_train.csv', index=False)\n",
    "\n",
    "if os.path.exists('../dataset/cov_type_test.csv'):\n",
    "    pass\n",
    "else:\n",
    "    test_data.to_csv('../dataset/cov_type_test.csv', index=False)\n",
    "\n",
    "# 训练集与测试集样本量\n",
    "print('Train data shape:', train_data.shape)\n",
    "print('Test data shape:', test_data.shape)"
   ],
   "id": "33d85fa0",
   "outputs": [
    {
     "name": "stdout",
     "output_type": "stream",
     "text": [
      "Train data shape: (406708, 55)\n",
      "Test data shape: (174304, 55)\n"
     ]
    }
   ],
   "execution_count": 12
  },
  {
   "cell_type": "markdown",
   "id": "1e00719b599bc6fe",
   "metadata": {},
   "source": "#### 2、使用`pandas`读入 《covtype_train.csv》 与 《covtype_test.csv》 数据。</font>"
  },
  {
   "cell_type": "code",
   "id": "460638a62853ecdb",
   "metadata": {
    "ExecuteTime": {
     "end_time": "2024-09-21T05:34:59.322948Z",
     "start_time": "2024-09-21T05:34:58.552140Z"
    }
   },
   "source": [
    "# 读取训练集和测试集\n",
    "train_data = pd.read_csv('../dataset/cov_type_train.csv')\n",
    "test_data = pd.read_csv('../dataset/cov_type_test.csv')\n",
    "\n",
    "# 划分训练集特征和标签\n",
    "train_features = train_data.iloc[:, :-1]\n",
    "train_labels = train_data.iloc[:, -1]\n",
    "# 划分测试集特征和标签\n",
    "test_features = test_data.iloc[:, :-1]\n",
    "test_labels = test_data.iloc[:, -1]\n",
    "print('train_features shape:', train_features.shape)\n",
    "print('train_labels shape:', train_labels.shape)\n",
    "print('test_features shape:', test_features.shape)\n",
    "print('test_labels shape:', test_labels.shape)"
   ],
   "outputs": [
    {
     "name": "stdout",
     "output_type": "stream",
     "text": [
      "train_features shape: (406708, 54)\n",
      "train_labels shape: (406708,)\n",
      "test_features shape: (174304, 54)\n",
      "test_labels shape: (174304,)\n"
     ]
    }
   ],
   "execution_count": 13
  },
  {
   "cell_type": "markdown",
   "id": "5541ef8b87e15b71",
   "metadata": {},
   "source": "#### 3、利用StandardScaler获得训练集特征的均值向量 μ 和标准差向量 s。"
  },
  {
   "cell_type": "code",
   "id": "3fce9e5fcf1bddcc",
   "metadata": {
    "ExecuteTime": {
     "end_time": "2024-09-21T05:52:26.243957Z",
     "start_time": "2024-09-21T05:52:26.057096Z"
    }
   },
   "source": [
    "# 创建StandardScaler对象\n",
    "scaler = StandardScaler()\n",
    "\n",
    "\n",
    "# 使用训练数据拟合scaler，该方法用于计算训练数据的均值和标准差，它不会修改原始数据\n",
    "scaler.fit(train_features)\n",
    "\n",
    "print('训练集特征均值向量 μ = ', scaler.mean_)\n",
    "print('训练集特征标准差向量 s = ', np.std(scaler.var_))"
   ],
   "outputs": [
    {
     "name": "stdout",
     "output_type": "stream",
     "text": [
      "训练集特征均值向量 μ =  [2.95906510e+03 1.55610822e+02 1.40975761e+01 4.63558622e+01\n",
      " 2.69411034e+02 2.35023056e+03 2.12141750e+02 2.23300793e+02\n",
      " 1.42526668e+02 1.98175277e+03 4.48688002e-01 5.16365550e-02\n",
      " 4.35828653e-01 6.38467893e-02 5.22733755e-03 1.29085241e-02\n",
      " 8.32538332e-03 2.14109386e-02 2.78086490e-03 1.12636093e-02\n",
      " 1.54902289e-04 3.22098410e-04 1.97438949e-03 5.63303402e-02\n",
      " 2.13642220e-02 5.18504677e-02 2.96650177e-02 1.01547056e-03\n",
      " 4.91753297e-06 4.82655861e-03 5.83465287e-03 3.36113379e-03\n",
      " 6.73210264e-03 1.57926571e-02 1.45558976e-03 5.77465897e-02\n",
      " 9.95382437e-02 3.64733421e-02 8.18769240e-04 4.38398064e-03\n",
      " 1.87358006e-03 1.63507971e-03 1.98036429e-01 5.18922667e-02\n",
      " 4.42061627e-02 9.06547203e-02 7.76675158e-02 2.76365353e-03\n",
      " 3.31441722e-03 2.08995151e-04 5.08964663e-04 2.68374362e-02\n",
      " 2.38819989e-02 1.49566765e-02]\n",
      "训练集特征标准差向量 s =  400824.6375147823\n"
     ]
    }
   ],
   "execution_count": 15
  },
  {
   "cell_type": "markdown",
   "id": "5ad6aa1b78c6716c",
   "metadata": {},
   "source": "#### 4、利用 μ 和 s 对训练集和测试集特征进行归一化。"
  },
  {
   "metadata": {
    "ExecuteTime": {
     "end_time": "2024-09-21T05:52:29.020674Z",
     "start_time": "2024-09-21T05:52:28.879513Z"
    }
   },
   "cell_type": "code",
   "source": [
    "# 对训练集特征进行归一化，将训练数据或测试数据标准化。它接受一个二维数组作为输入，并返回标准化后的数据。标准化是通过减去均值并除以标准差来实现的\n",
    "train_features = scaler.transform(train_features)\n",
    "\n",
    "# 对测试集特征进行归一化\n",
    "test_features = scaler.transform(test_features)\n",
    "\n",
    "print('归一化后，训练集特征均值向量 μ = ', np.mean(train_features, axis=0))\n",
    "print('归一化后，训练集特征标准差向量 s =', np.std(train_features, axis=0))\n",
    "print('归一化后，测试集特征均值向量 μ = ', np.mean(test_features, axis=0))\n",
    "print('归一化后，测试特征标准差向量 s =', np.std(test_features, axis=0))"
   ],
   "id": "2a7699764eaf94d9",
   "outputs": [
    {
     "name": "stdout",
     "output_type": "stream",
     "text": [
      "归一化后，训练集特征均值向量 μ =  [-2.24566921e-16 -6.96726996e-17 -3.51508204e-17  6.46411706e-18\n",
      "  9.76780500e-17 -4.23487021e-17 -2.31939508e-16  1.13995578e-16\n",
      " -1.87389512e-16  3.21284089e-17 -1.32077635e-17 -4.81314662e-17\n",
      " -1.74007043e-17  1.27054841e-17  1.46883957e-17  4.22526138e-17\n",
      " -2.54721153e-17 -1.91477630e-17 -5.49449950e-17 -2.68260858e-17\n",
      "  5.41588186e-18  9.71364618e-18  1.08667049e-17  3.32639970e-17\n",
      " -2.27991156e-17  7.67657578e-17  3.81907024e-17 -7.92291105e-18\n",
      " -2.14014687e-19  2.75511152e-17  3.31242323e-17 -2.94029973e-17\n",
      "  9.32929327e-18 -2.47907625e-17 -2.04405864e-17 -9.45158738e-18\n",
      " -3.78412907e-17 -1.13384107e-17 -1.73308220e-17  4.33270549e-18\n",
      "  2.90011738e-18 -2.12966451e-17 -2.68872329e-17 -5.38792892e-17\n",
      "  3.57972321e-17  4.91622308e-17 -1.70512926e-17 -3.76665848e-17\n",
      "  1.92176453e-18  1.67717632e-17 -6.49905824e-18 -8.31425219e-17\n",
      " -4.55720253e-17 -6.65279940e-17]\n",
      "归一化后，训练集特征标准差向量 s = [1. 1. 1. 1. 1. 1. 1. 1. 1. 1. 1. 1. 1. 1. 1. 1. 1. 1. 1. 1. 1. 1. 1. 1.\n",
      " 1. 1. 1. 1. 1. 1. 1. 1. 1. 1. 1. 1. 1. 1. 1. 1. 1. 1. 1. 1. 1. 1. 1. 1.\n",
      " 1. 1. 1. 1. 1. 1.]\n",
      "归一化后，测试集特征均值向量 μ =  [ 3.57014043e-03  1.36919883e-03  2.72944251e-03  3.60439814e-03\n",
      "  2.69575631e-04 -1.79413539e-04  5.35535730e-04  3.02245559e-03\n",
      "  1.39074596e-04 -3.67251203e-03  1.18680656e-03 -3.04515570e-03\n",
      "  1.64665438e-03 -2.99787261e-03 -4.88958499e-04  1.27024502e-03\n",
      " -8.93283159e-04 -1.74440787e-03 -2.03900143e-03  1.66940996e-03\n",
      "  6.91490256e-03 -2.60348418e-03 -1.86090302e-05 -2.35406910e-03\n",
      " -1.13847169e-04 -4.00397603e-03  6.60301481e-03  1.62104139e-03\n",
      "  3.69584281e-04  3.37009284e-03  2.41024145e-03 -5.33875062e-03\n",
      "  7.68716421e-03  3.83217380e-03 -1.16099942e-03 -4.38925007e-03\n",
      " -1.55056084e-03  2.64876248e-03 -3.43946958e-04  3.63459464e-03\n",
      " -3.41286405e-04 -5.68119830e-04  2.66986299e-03  5.16533031e-04\n",
      " -5.11070241e-04 -3.04682125e-03  6.05360914e-04  5.77465055e-04\n",
      " -3.46530845e-03 -9.63922607e-04  5.81334448e-04 -7.05474749e-04\n",
      " -2.62007026e-03  2.83554676e-03]\n",
      "归一化后，测试特征标准差向量 s = [0.99642174 0.99882439 1.00230022 1.00225172 1.00141275 0.99894859\n",
      " 1.00201775 1.00035342 1.00403338 0.99405117 1.00012173 0.99380635\n",
      " 1.00021172 0.99463288 0.99663937 1.00546553 0.99515415 0.99421417\n",
      " 0.98055671 1.00770037 1.24716341 0.92466155 0.9997912  0.99545691\n",
      " 0.99962307 0.99186609 1.01811891 1.02508034 1.08012124 1.02378993\n",
      " 1.01551527 0.95307385 1.04531413 1.01476714 0.98470015 0.99163362\n",
      " 0.99792258 1.00652456 0.99397911 1.02689763 0.99606094 0.99296745\n",
      " 1.00201739 1.00104284 0.99886598 0.99564199 1.00095459 1.00545446\n",
      " 0.96958534 0.96609693 1.01279222 0.9979321  0.99179253 1.01126365]\n"
     ]
    }
   ],
   "execution_count": 16
  },
  {
   "cell_type": "markdown",
   "id": "878c9cc868a30fa9",
   "metadata": {},
   "source": "#### 5、保留 10% 的训练集作为验证集。"
  },
  {
   "cell_type": "code",
   "id": "fff39a3886ede0a1",
   "metadata": {
    "ExecuteTime": {
     "end_time": "2024-09-21T05:53:31.807220Z",
     "start_time": "2024-09-21T05:53:31.657554Z"
    }
   },
   "source": [
    "train_features, valid_features, train_labels, valid_labels = train_test_split(train_features, train_labels,\n",
    "test_size = 0.1, random_state = 42)\n",
    "\n",
    "print('训练集特征矩阵维度:', train_features.shape, '测试集标签矩阵维度:', train_labels.shape)\n",
    "print('验证集特征矩阵维度:', valid_features.shape, '验证集标签矩阵维度:', valid_labels.shape)\n",
    "print('测试集特征矩阵维度:', test_features.shape, '测试集标签矩阵维度:', test_labels.shape)"
   ],
   "outputs": [
    {
     "name": "stdout",
     "output_type": "stream",
     "text": [
      "训练集特征矩阵维度: (366037, 54) 测试集标签矩阵维度: (366037,)\n",
      "验证集特征矩阵维度: (40671, 54) 验证集标签矩阵维度: (40671,)\n",
      "测试集特征矩阵维度: (174304, 54) 测试集标签矩阵维度: (174304,)\n"
     ]
    }
   ],
   "execution_count": 17
  },
  {
   "cell_type": "markdown",
   "id": "654d24da8cc7565d",
   "metadata": {},
   "source": "#### 6、定义分类预测神经网络模型。"
  },
  {
   "cell_type": "code",
   "id": "92d2b7e4f47df6ea",
   "metadata": {
    "ExecuteTime": {
     "end_time": "2024-09-21T06:04:01.596919Z",
     "start_time": "2024-09-21T06:04:01.573694Z"
    }
   },
   "source": [
    "# 定义神经网络模型\n",
    "class Net(nn.Module):\n",
    "    def __init__(self, input_size, hidden_size, num_classes):\n",
    "        super(Net, self).__init__()\n",
    "        self.fc1 = nn.Linear(input_size, hidden_size)\n",
    "        self.fc2 = nn.Linear(hidden_size, num_classes)\n",
    "\n",
    "        self.relu = nn.ReLU()\n",
    "\n",
    "    def forward(self, x):\n",
    "        out = self.fc1(x)\n",
    "        out = self.relu(out)\n",
    "        out = self.fc2(out)\n",
    "        return out\n",
    "\n",
    "\n",
    "# 初始化模型\n",
    "net = Net(input_size=54, hidden_size=50, num_classes=7)\n",
    "\n",
    "# 打印模型结构信息及参数量\n",
    "print('模型结构信息：', net)\n",
    "print('模型参数量：', sum(p.numel() for p in net.parameters()))"
   ],
   "outputs": [
    {
     "name": "stdout",
     "output_type": "stream",
     "text": [
      "模型结构信息： Net(\n",
      "  (fc1): Linear(in_features=54, out_features=50, bias=True)\n",
      "  (fc2): Linear(in_features=50, out_features=7, bias=True)\n",
      "  (relu): ReLU()\n",
      ")\n",
      "模型参数量： 3107\n"
     ]
    }
   ],
   "execution_count": 18
  },
  {
   "cell_type": "markdown",
   "id": "66067530b6b8bf8e",
   "metadata": {},
   "source": "#### 7、定义损失函数和优化器。"
  },
  {
   "cell_type": "code",
   "id": "43d3e50187dbf84a",
   "metadata": {
    "ExecuteTime": {
     "end_time": "2024-09-21T06:04:07.517132Z",
     "start_time": "2024-09-21T06:04:06.965514Z"
    }
   },
   "source": [
    "# 定义损失函数和优化器\n",
    "criterion = nn.CrossEntropyLoss()\n",
    "optimizer = optim.Adam(net.parameters(), lr=0.01)"
   ],
   "outputs": [],
   "execution_count": 19
  },
  {
   "cell_type": "markdown",
   "id": "a7d4584b40249df7",
   "metadata": {},
   "source": "#### 8、将所有数据转换为Tensor。"
  },
  {
   "cell_type": "code",
   "id": "ce8946a987db4f74",
   "metadata": {
    "ExecuteTime": {
     "end_time": "2024-09-21T06:04:09.119438Z",
     "start_time": "2024-09-21T06:04:09.055620Z"
    }
   },
   "source": [
    "from torch.utils.data import TensorDataset\n",
    "\n",
    "# 将数据转换为PyTorch张量\n",
    "train_features_tensor = torch.tensor(train_features, dtype=torch.float32)\n",
    "train_labels_tensor = torch.tensor(train_labels.values, dtype=torch.int64)\n",
    "\n",
    "valid_features_tensor = torch.tensor(valid_features, dtype=torch.float32)\n",
    "valid_labels_tensor = torch.tensor(valid_labels.values, dtype=torch.int64)\n",
    "\n",
    "# 创建数据加载器\n",
    "train_data = TensorDataset(train_features_tensor, train_labels_tensor)\n",
    "train_loader = DataLoader(train_data, batch_size=64, shuffle=True)"
   ],
   "outputs": [],
   "execution_count": 20
  },
  {
   "cell_type": "markdown",
   "id": "c0f6340bb24e57cb",
   "metadata": {},
   "source": "#### 9、训练模型，并保存验证集上准确率最优的预测模型。"
  },
  {
   "cell_type": "code",
   "id": "b35a7ab7ffc21b44",
   "metadata": {
    "ExecuteTime": {
     "end_time": "2024-09-21T06:05:25.603470Z",
     "start_time": "2024-09-21T06:04:12.685847Z"
    }
   },
   "source": [
    "best_model = None\n",
    "best_acc = 0\n",
    "\n",
    "# 初始化准确率列表\n",
    "train_acc_list = []\n",
    "valid_acc_list = []\n",
    "\n",
    "# 训练模型\n",
    "for epoch in range(20):\n",
    "    running_loss = 0.0\n",
    "    correct_train = 0\n",
    "    total_train = 0\n",
    "\n",
    "    # 遍历训练集数据加载器\n",
    "    for i, data in enumerate(train_loader, 0):\n",
    "        # 获得输入数据\n",
    "        inputs, labels = data\n",
    "\n",
    "        # 梯度清零\n",
    "        optimizer.zero_grad()\n",
    "\n",
    "        # 前向传播 + 反向传播 + 优化\n",
    "        outputs = net(inputs)  # 执行前向传播\n",
    "        loss = criterion(outputs, labels)  # 计算损失\n",
    "        loss.backward()  # 反向传播，计算梯度\n",
    "        optimizer.step()  # 根据梯度更新模型参数\n",
    "\n",
    "        running_loss += loss.item()\n",
    "\n",
    "        # 计算训练集准确率\n",
    "        _, predicted = torch.max(outputs.data, 1)\n",
    "        total_train += labels.size(0)\n",
    "        correct_train += (predicted == labels).sum().item()\n",
    "\n",
    "    train_acc = 100 * correct_train / total_train\n",
    "    train_acc_list.append(train_acc)\n",
    "\n",
    "    print('============== Epoch %d ==============' % (epoch + 1))\n",
    "    print('Train Accuracy: %.2f %%' % train_acc)\n",
    "\n",
    "    # 使用验证集评估模型\n",
    "    with torch.no_grad():\n",
    "        valid_outputs = net(valid_features_tensor)\n",
    "        _, predicted = torch.max(valid_outputs, 1)\n",
    "\n",
    "        # 计算验证集准确率\n",
    "        correct_valid = (predicted == valid_labels_tensor).sum().item()\n",
    "        valid_acc = 100 * correct_valid / valid_labels_tensor.size(0)\n",
    "        print('Validation Accuracy: %d %%' % valid_acc)\n",
    "        valid_acc_list.append(valid_acc)\n",
    "\n",
    "        # 保存最佳验证集上Accuracy最高的模型\n",
    "        if valid_acc > best_acc:\n",
    "            best_acc = valid_acc\n",
    "            best_model = net\n",
    "\n",
    "print('Finished Training')\n"
   ],
   "outputs": [
    {
     "name": "stdout",
     "output_type": "stream",
     "text": [
      "============== Epoch 1 ==============\n",
      "Train Accuracy: 74.95 %\n",
      "Validation Accuracy: 76 %\n",
      "============== Epoch 2 ==============\n",
      "Train Accuracy: 77.42 %\n",
      "Validation Accuracy: 77 %\n",
      "============== Epoch 3 ==============\n",
      "Train Accuracy: 78.19 %\n",
      "Validation Accuracy: 78 %\n",
      "============== Epoch 4 ==============\n",
      "Train Accuracy: 78.80 %\n",
      "Validation Accuracy: 77 %\n",
      "============== Epoch 5 ==============\n",
      "Train Accuracy: 79.34 %\n",
      "Validation Accuracy: 79 %\n",
      "============== Epoch 6 ==============\n",
      "Train Accuracy: 79.68 %\n",
      "Validation Accuracy: 79 %\n",
      "============== Epoch 7 ==============\n",
      "Train Accuracy: 79.91 %\n",
      "Validation Accuracy: 80 %\n",
      "============== Epoch 8 ==============\n",
      "Train Accuracy: 80.09 %\n",
      "Validation Accuracy: 80 %\n",
      "============== Epoch 9 ==============\n",
      "Train Accuracy: 80.23 %\n",
      "Validation Accuracy: 80 %\n",
      "============== Epoch 10 ==============\n",
      "Train Accuracy: 80.36 %\n",
      "Validation Accuracy: 80 %\n",
      "============== Epoch 11 ==============\n",
      "Train Accuracy: 80.53 %\n",
      "Validation Accuracy: 81 %\n",
      "============== Epoch 12 ==============\n",
      "Train Accuracy: 80.38 %\n",
      "Validation Accuracy: 80 %\n",
      "============== Epoch 13 ==============\n",
      "Train Accuracy: 80.56 %\n",
      "Validation Accuracy: 80 %\n",
      "============== Epoch 14 ==============\n",
      "Train Accuracy: 80.48 %\n",
      "Validation Accuracy: 80 %\n",
      "============== Epoch 15 ==============\n",
      "Train Accuracy: 80.65 %\n",
      "Validation Accuracy: 81 %\n",
      "============== Epoch 16 ==============\n",
      "Train Accuracy: 80.70 %\n",
      "Validation Accuracy: 81 %\n",
      "============== Epoch 17 ==============\n",
      "Train Accuracy: 80.71 %\n",
      "Validation Accuracy: 79 %\n",
      "============== Epoch 18 ==============\n",
      "Train Accuracy: 80.85 %\n",
      "Validation Accuracy: 80 %\n",
      "============== Epoch 19 ==============\n",
      "Train Accuracy: 80.91 %\n",
      "Validation Accuracy: 81 %\n",
      "============== Epoch 20 ==============\n",
      "Train Accuracy: 80.79 %\n",
      "Validation Accuracy: 81 %\n",
      "Finished Training\n"
     ]
    }
   ],
   "execution_count": 21
  },
  {
   "cell_type": "markdown",
   "id": "2e0c507b220cc0f8",
   "metadata": {},
   "source": "#### 10、绘制训练集和验证集的准确率变化曲线。"
  },
  {
   "cell_type": "code",
   "id": "e906153d6109d5d6",
   "metadata": {
    "ExecuteTime": {
     "end_time": "2024-09-21T06:07:01.628430Z",
     "start_time": "2024-09-21T06:07:01.595461Z"
    }
   },
   "source": [
    "epochs = list(range(1, len(train_acc_list) + 1))\n",
    "\n",
    "plt.plot(epochs, train_acc_list, label='Train Accuracy')\n",
    "plt.plot(epochs, valid_acc_list, label='Validation Accuracy')\n",
    "plt.xlabel('Epoch')\n",
    "plt.ylabel('Accuracy')\n",
    "plt.legend()\n",
    "plt.show()"
   ],
   "outputs": [
    {
     "ename": "NameError",
     "evalue": "name 'plt' is not defined",
     "output_type": "error",
     "traceback": [
      "\u001B[0;31m---------------------------------------------------------------------------\u001B[0m",
      "\u001B[0;31mNameError\u001B[0m                                 Traceback (most recent call last)",
      "Cell \u001B[0;32mIn[22], line 3\u001B[0m\n\u001B[1;32m      1\u001B[0m epochs \u001B[38;5;241m=\u001B[39m \u001B[38;5;28mlist\u001B[39m(\u001B[38;5;28mrange\u001B[39m(\u001B[38;5;241m1\u001B[39m, \u001B[38;5;28mlen\u001B[39m(train_acc_list) \u001B[38;5;241m+\u001B[39m \u001B[38;5;241m1\u001B[39m))\n\u001B[0;32m----> 3\u001B[0m plt\u001B[38;5;241m.\u001B[39mplot(epochs, train_acc_list, label\u001B[38;5;241m=\u001B[39m\u001B[38;5;124m'\u001B[39m\u001B[38;5;124mTrain Accuracy\u001B[39m\u001B[38;5;124m'\u001B[39m)\n\u001B[1;32m      4\u001B[0m plt\u001B[38;5;241m.\u001B[39mplot(epochs, valid_acc_list, label\u001B[38;5;241m=\u001B[39m\u001B[38;5;124m'\u001B[39m\u001B[38;5;124mValidation Accuracy\u001B[39m\u001B[38;5;124m'\u001B[39m)\n\u001B[1;32m      5\u001B[0m plt\u001B[38;5;241m.\u001B[39mxlabel(\u001B[38;5;124m'\u001B[39m\u001B[38;5;124mEpoch\u001B[39m\u001B[38;5;124m'\u001B[39m)\n",
      "\u001B[0;31mNameError\u001B[0m: name 'plt' is not defined"
     ]
    }
   ],
   "execution_count": 22
  },
  {
   "cell_type": "markdown",
   "id": "11a6d453090d2d83",
   "metadata": {},
   "source": "#### 11、对测试集样本点进行预测，计算预测准确率。"
  },
  {
   "cell_type": "code",
   "id": "4a76045bc26159f3",
   "metadata": {
    "ExecuteTime": {
     "end_time": "2024-09-21T06:07:14.415993Z",
     "start_time": "2024-09-21T06:07:14.374566Z"
    }
   },
   "source": [
    "with torch.no_grad():\n",
    "    test_outputs = best_model(torch.tensor(test_features, dtype=torch.float32))\n",
    "    _, predicted = torch.max(test_outputs, 1)\n",
    "    correct_test = (predicted == torch.tensor(test_labels.values, dtype=torch.int64)).sum().item()\n",
    "    print('Test Accuracy: %d %%' % (100 * correct_test / test_labels.size))"
   ],
   "outputs": [
    {
     "name": "stdout",
     "output_type": "stream",
     "text": [
      "Test Accuracy: 81 %\n"
     ]
    }
   ],
   "execution_count": 24
  },
  {
   "metadata": {},
   "cell_type": "code",
   "outputs": [],
   "execution_count": null,
   "source": "",
   "id": "269419d294b14abd"
  }
 ],
 "metadata": {
  "kernelspec": {
   "display_name": "Python 3 (ipykernel)",
   "language": "python",
   "name": "python3"
  },
  "language_info": {
   "codemirror_mode": {
    "name": "ipython",
    "version": 3
   },
   "file_extension": ".py",
   "mimetype": "text/x-python",
   "name": "python",
   "nbconvert_exporter": "python",
   "pygments_lexer": "ipython3",
   "version": "3.9.13"
  }
 },
 "nbformat": 4,
 "nbformat_minor": 5
}
