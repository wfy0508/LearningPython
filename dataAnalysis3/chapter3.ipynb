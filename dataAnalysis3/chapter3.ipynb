{
 "cells": [
  {
   "metadata": {},
   "cell_type": "markdown",
   "source": "## 第3章 Python的数据结构、函数和文件",
   "id": "3e3e4061b87ac865"
  },
  {
   "metadata": {},
   "cell_type": "markdown",
   "source": [
    "#### 3.1 元组\n",
    "长度固定且不可变"
   ],
   "id": "1a246376f8de0b73"
  },
  {
   "metadata": {
    "ExecuteTime": {
     "end_time": "2024-09-21T06:15:08.709822Z",
     "start_time": "2024-09-21T06:15:08.704063Z"
    }
   },
   "cell_type": "code",
   "source": [
    "tup = (4, 5, 6)\n",
    "tup"
   ],
   "id": "1b9e9c688531eb09",
   "outputs": [
    {
     "data": {
      "text/plain": [
       "(4, 5, 6)"
      ]
     },
     "execution_count": 2,
     "metadata": {},
     "output_type": "execute_result"
    }
   ],
   "execution_count": 2
  },
  {
   "metadata": {
    "ExecuteTime": {
     "end_time": "2024-09-21T06:15:57.199438Z",
     "start_time": "2024-09-21T06:15:57.194792Z"
    }
   },
   "cell_type": "code",
   "source": [
    "tup = 4, 5, 6\n",
    "tup"
   ],
   "id": "8f28bd797e9b6886",
   "outputs": [
    {
     "data": {
      "text/plain": [
       "(4, 5, 6)"
      ]
     },
     "execution_count": 3,
     "metadata": {},
     "output_type": "execute_result"
    }
   ],
   "execution_count": 3
  },
  {
   "metadata": {
    "ExecuteTime": {
     "end_time": "2024-09-21T06:16:26.539685Z",
     "start_time": "2024-09-21T06:16:26.535925Z"
    }
   },
   "cell_type": "code",
   "source": "tuple(range(10))",
   "id": "440cc8915b290981",
   "outputs": [
    {
     "data": {
      "text/plain": [
       "(0, 1, 2, 3, 4, 5, 6, 7, 8, 9)"
      ]
     },
     "execution_count": 4,
     "metadata": {},
     "output_type": "execute_result"
    }
   ],
   "execution_count": 4
  },
  {
   "metadata": {
    "ExecuteTime": {
     "end_time": "2024-09-21T06:16:39.724325Z",
     "start_time": "2024-09-21T06:16:39.720241Z"
    }
   },
   "cell_type": "code",
   "source": "tuple[4]",
   "id": "a768e7481945aaaa",
   "outputs": [
    {
     "data": {
      "text/plain": [
       "tuple[4]"
      ]
     },
     "execution_count": 6,
     "metadata": {},
     "output_type": "execute_result"
    }
   ],
   "execution_count": 6
  },
  {
   "metadata": {
    "ExecuteTime": {
     "end_time": "2024-09-21T06:16:55.162457Z",
     "start_time": "2024-09-21T06:16:55.158110Z"
    }
   },
   "cell_type": "code",
   "source": [
    "tup = tuple('string')\n",
    "tup"
   ],
   "id": "68748618306aca12",
   "outputs": [
    {
     "data": {
      "text/plain": [
       "('s', 't', 'r', 'i', 'n', 'g')"
      ]
     },
     "execution_count": 7,
     "metadata": {},
     "output_type": "execute_result"
    }
   ],
   "execution_count": 7
  },
  {
   "metadata": {
    "ExecuteTime": {
     "end_time": "2024-09-21T07:13:02.822985Z",
     "start_time": "2024-09-21T07:13:02.819665Z"
    }
   },
   "cell_type": "code",
   "source": "nested_tup = (4, 5, 6), (7, 8)",
   "id": "47945da3e46371eb",
   "outputs": [],
   "execution_count": 8
  },
  {
   "metadata": {
    "ExecuteTime": {
     "end_time": "2024-09-21T07:13:09.458926Z",
     "start_time": "2024-09-21T07:13:09.454823Z"
    }
   },
   "cell_type": "code",
   "source": "nested_tup[1]",
   "id": "bed507d48c938b99",
   "outputs": [
    {
     "data": {
      "text/plain": [
       "(7, 8)"
      ]
     },
     "execution_count": 9,
     "metadata": {},
     "output_type": "execute_result"
    }
   ],
   "execution_count": 9
  },
  {
   "metadata": {
    "ExecuteTime": {
     "end_time": "2024-09-21T07:13:57.967231Z",
     "start_time": "2024-09-21T07:13:57.963982Z"
    }
   },
   "cell_type": "code",
   "source": [
    "tup = tuple([[1, 2, 3, 4], 'string'])\n",
    "tup"
   ],
   "id": "f282ed5d8cfd8c43",
   "outputs": [
    {
     "data": {
      "text/plain": [
       "([1, 2, 3, 4], 'string')"
      ]
     },
     "execution_count": 11,
     "metadata": {},
     "output_type": "execute_result"
    }
   ],
   "execution_count": 11
  },
  {
   "metadata": {
    "ExecuteTime": {
     "end_time": "2024-09-21T07:14:11.691304Z",
     "start_time": "2024-09-21T07:14:11.687097Z"
    }
   },
   "cell_type": "code",
   "source": [
    "tup[0].append(5)\n",
    "tup"
   ],
   "id": "4421feed342ee04e",
   "outputs": [
    {
     "data": {
      "text/plain": [
       "([1, 2, 3, 4, 5], 'string')"
      ]
     },
     "execution_count": 12,
     "metadata": {},
     "output_type": "execute_result"
    }
   ],
   "execution_count": 12
  },
  {
   "metadata": {
    "ExecuteTime": {
     "end_time": "2024-09-21T07:14:48.666308Z",
     "start_time": "2024-09-21T07:14:48.663959Z"
    }
   },
   "cell_type": "code",
   "source": "a, b = tup",
   "id": "153d45b93c5f780f",
   "outputs": [],
   "execution_count": 13
  },
  {
   "metadata": {
    "ExecuteTime": {
     "end_time": "2024-09-21T07:14:51.028988Z",
     "start_time": "2024-09-21T07:14:51.025362Z"
    }
   },
   "cell_type": "code",
   "source": "a",
   "id": "8ffa9d95247174c0",
   "outputs": [
    {
     "data": {
      "text/plain": [
       "[1, 2, 3, 4, 5]"
      ]
     },
     "execution_count": 14,
     "metadata": {},
     "output_type": "execute_result"
    }
   ],
   "execution_count": 14
  },
  {
   "metadata": {
    "ExecuteTime": {
     "end_time": "2024-09-21T07:14:54.209805Z",
     "start_time": "2024-09-21T07:14:54.207072Z"
    }
   },
   "cell_type": "code",
   "source": "b",
   "id": "6251fa8731f36a43",
   "outputs": [
    {
     "data": {
      "text/plain": [
       "'string'"
      ]
     },
     "execution_count": 15,
     "metadata": {},
     "output_type": "execute_result"
    }
   ],
   "execution_count": 15
  },
  {
   "metadata": {
    "ExecuteTime": {
     "end_time": "2024-09-21T07:15:02.121551Z",
     "start_time": "2024-09-21T07:15:02.116960Z"
    }
   },
   "cell_type": "code",
   "source": "tup * 4",
   "id": "6a693db0517c4ddd",
   "outputs": [
    {
     "data": {
      "text/plain": [
       "([1, 2, 3, 4, 5],\n",
       " 'string',\n",
       " [1, 2, 3, 4, 5],\n",
       " 'string',\n",
       " [1, 2, 3, 4, 5],\n",
       " 'string',\n",
       " [1, 2, 3, 4, 5],\n",
       " 'string')"
      ]
     },
     "execution_count": 16,
     "metadata": {},
     "output_type": "execute_result"
    }
   ],
   "execution_count": 16
  },
  {
   "metadata": {
    "ExecuteTime": {
     "end_time": "2024-09-21T07:15:10.280026Z",
     "start_time": "2024-09-21T07:15:10.275804Z"
    }
   },
   "cell_type": "code",
   "source": "tup",
   "id": "d31a5bc4d89eaf2c",
   "outputs": [
    {
     "data": {
      "text/plain": [
       "([1, 2, 3, 4, 5], 'string')"
      ]
     },
     "execution_count": 17,
     "metadata": {},
     "output_type": "execute_result"
    }
   ],
   "execution_count": 17
  },
  {
   "metadata": {
    "ExecuteTime": {
     "end_time": "2024-09-21T07:15:46.999009Z",
     "start_time": "2024-09-21T07:15:46.995739Z"
    }
   },
   "cell_type": "code",
   "source": [
    "tup = 1, 2, (5, 6)\n",
    "a, b, c = tup"
   ],
   "id": "35a79e3d05213e2a",
   "outputs": [],
   "execution_count": 18
  },
  {
   "metadata": {
    "ExecuteTime": {
     "end_time": "2024-09-21T07:15:48.361769Z",
     "start_time": "2024-09-21T07:15:48.359241Z"
    }
   },
   "cell_type": "code",
   "source": "a",
   "id": "a880aea28cf804b8",
   "outputs": [
    {
     "data": {
      "text/plain": [
       "1"
      ]
     },
     "execution_count": 19,
     "metadata": {},
     "output_type": "execute_result"
    }
   ],
   "execution_count": 19
  },
  {
   "metadata": {
    "ExecuteTime": {
     "end_time": "2024-09-21T07:15:50.574891Z",
     "start_time": "2024-09-21T07:15:50.571747Z"
    }
   },
   "cell_type": "code",
   "source": "c",
   "id": "1017287ca135e0fb",
   "outputs": [
    {
     "data": {
      "text/plain": [
       "(5, 6)"
      ]
     },
     "execution_count": 20,
     "metadata": {},
     "output_type": "execute_result"
    }
   ],
   "execution_count": 20
  },
  {
   "metadata": {
    "ExecuteTime": {
     "end_time": "2024-09-21T07:18:19.312125Z",
     "start_time": "2024-09-21T07:18:19.309041Z"
    }
   },
   "cell_type": "code",
   "source": [
    "seq = [(1, 2, 3), (4, 5, 6), (7, 8, 9)]\n",
    "for a, b, c in seq:\n",
    "    print(f'a ={a}, b={b}, c={c}')\n"
   ],
   "id": "b30dc53c7c9e7746",
   "outputs": [
    {
     "name": "stdout",
     "output_type": "stream",
     "text": [
      "a =1, b=2, c=3\n",
      "a =4, b=5, c=6\n",
      "a =7, b=8, c=9\n"
     ]
    }
   ],
   "execution_count": 21
  },
  {
   "metadata": {
    "ExecuteTime": {
     "end_time": "2024-09-21T07:19:03.914342Z",
     "start_time": "2024-09-21T07:19:03.911061Z"
    }
   },
   "cell_type": "code",
   "source": [
    "value = 1, 2, 3, 4, 5\n",
    "a, b, *rest = value\n",
    "a"
   ],
   "id": "27ac01aa4fff200e",
   "outputs": [
    {
     "data": {
      "text/plain": [
       "1"
      ]
     },
     "execution_count": 22,
     "metadata": {},
     "output_type": "execute_result"
    }
   ],
   "execution_count": 22
  },
  {
   "metadata": {
    "ExecuteTime": {
     "end_time": "2024-09-21T07:19:08.547753Z",
     "start_time": "2024-09-21T07:19:08.543387Z"
    }
   },
   "cell_type": "code",
   "source": "rest",
   "id": "85b28666320648c5",
   "outputs": [
    {
     "data": {
      "text/plain": [
       "[3, 4, 5]"
      ]
     },
     "execution_count": 23,
     "metadata": {},
     "output_type": "execute_result"
    }
   ],
   "execution_count": 23
  },
  {
   "metadata": {
    "ExecuteTime": {
     "end_time": "2024-09-21T07:20:04.319374Z",
     "start_time": "2024-09-21T07:20:04.316070Z"
    }
   },
   "cell_type": "code",
   "source": [
    "a = (1, 2, 3, 3, 4, 5, 6, 7, 8, 9, 9,)\n",
    "a.count(2)"
   ],
   "id": "64955451d310aa59",
   "outputs": [
    {
     "data": {
      "text/plain": [
       "1"
      ]
     },
     "execution_count": 24,
     "metadata": {},
     "output_type": "execute_result"
    }
   ],
   "execution_count": 24
  },
  {
   "metadata": {
    "ExecuteTime": {
     "end_time": "2024-09-21T07:20:46.162753Z",
     "start_time": "2024-09-21T07:20:46.158449Z"
    }
   },
   "cell_type": "code",
   "source": "a.count(9)",
   "id": "9e0940db08441e77",
   "outputs": [
    {
     "data": {
      "text/plain": [
       "2"
      ]
     },
     "execution_count": 25,
     "metadata": {},
     "output_type": "execute_result"
    }
   ],
   "execution_count": 25
  },
  {
   "metadata": {},
   "cell_type": "markdown",
   "source": "### 3.2 列表",
   "id": "2f84547225c6649"
  },
  {
   "metadata": {
    "ExecuteTime": {
     "end_time": "2024-09-21T07:23:12.640498Z",
     "start_time": "2024-09-21T07:23:12.636047Z"
    }
   },
   "cell_type": "code",
   "source": [
    "# tup to list\n",
    "tup = (\"foo\", \"bar\", \"baz\")\n",
    "b_list = list(tup)\n",
    "b_list"
   ],
   "id": "794c04a69f83e789",
   "outputs": [
    {
     "data": {
      "text/plain": [
       "['foo', 'bar', 'baz']"
      ]
     },
     "execution_count": 26,
     "metadata": {},
     "output_type": "execute_result"
    }
   ],
   "execution_count": 26
  },
  {
   "metadata": {
    "ExecuteTime": {
     "end_time": "2024-09-21T07:23:27.975168Z",
     "start_time": "2024-09-21T07:23:27.972191Z"
    }
   },
   "cell_type": "code",
   "source": "b_list.pop(1)",
   "id": "73c52c26a9b6bd68",
   "outputs": [
    {
     "data": {
      "text/plain": [
       "'bar'"
      ]
     },
     "execution_count": 27,
     "metadata": {},
     "output_type": "execute_result"
    }
   ],
   "execution_count": 27
  },
  {
   "metadata": {
    "ExecuteTime": {
     "end_time": "2024-09-21T07:23:31.753948Z",
     "start_time": "2024-09-21T07:23:31.750008Z"
    }
   },
   "cell_type": "code",
   "source": "b_list",
   "id": "5e68ada972fa7e83",
   "outputs": [
    {
     "data": {
      "text/plain": [
       "['foo', 'baz']"
      ]
     },
     "execution_count": 28,
     "metadata": {},
     "output_type": "execute_result"
    }
   ],
   "execution_count": 28
  },
  {
   "metadata": {
    "ExecuteTime": {
     "end_time": "2024-09-21T07:24:24.491142Z",
     "start_time": "2024-09-21T07:24:24.488359Z"
    }
   },
   "cell_type": "code",
   "source": "'foo' in b_list",
   "id": "5df38da718f82408",
   "outputs": [
    {
     "data": {
      "text/plain": [
       "True"
      ]
     },
     "execution_count": 29,
     "metadata": {},
     "output_type": "execute_result"
    }
   ],
   "execution_count": 29
  },
  {
   "metadata": {
    "ExecuteTime": {
     "end_time": "2024-09-22T04:04:06.300762Z",
     "start_time": "2024-09-22T04:04:06.290087Z"
    }
   },
   "cell_type": "code",
   "source": [
    "# 串联和组合列表\n",
    "[1, 2, 3] + [4, 5, 6]"
   ],
   "id": "8957ede6ed4f54c2",
   "outputs": [
    {
     "data": {
      "text/plain": [
       "[1, 2, 3, 4, 5, 6]"
      ]
     },
     "execution_count": 30,
     "metadata": {},
     "output_type": "execute_result"
    }
   ],
   "execution_count": 30
  },
  {
   "metadata": {},
   "cell_type": "markdown",
   "source": "### 3.3 字典",
   "id": "adaa20c79905694b"
  },
  {
   "metadata": {
    "ExecuteTime": {
     "end_time": "2024-09-22T04:06:59.875620Z",
     "start_time": "2024-09-22T04:06:59.869752Z"
    }
   },
   "cell_type": "code",
   "source": [
    "# 按照首字母分组\n",
    "words = ['apple', 'bat', 'atom', 'book', 'echo']\n",
    "by_letter = {}\n",
    "for word in words:\n",
    "    temp = word[0]\n",
    "    if temp in by_letter:\n",
    "        by_letter[temp].append(word)\n",
    "    else:\n",
    "        by_letter[temp] = [word]\n",
    "\n",
    "by_letter"
   ],
   "id": "c40d145e1521e1ba",
   "outputs": [
    {
     "data": {
      "text/plain": [
       "{'a': ['apple', 'atom'], 'b': ['bat', 'book'], 'e': ['echo']}"
      ]
     },
     "execution_count": 31,
     "metadata": {},
     "output_type": "execute_result"
    }
   ],
   "execution_count": 31
  },
  {
   "metadata": {
    "ExecuteTime": {
     "end_time": "2024-09-22T04:09:51.387948Z",
     "start_time": "2024-09-22T04:09:51.382349Z"
    }
   },
   "cell_type": "code",
   "source": [
    "by_letter = {}\n",
    "for word in words:\n",
    "    letter = word[0]\n",
    "    by_letter.setdefault(letter, []).append(word)\n",
    "by_letter"
   ],
   "id": "a28b87c495560cd4",
   "outputs": [
    {
     "data": {
      "text/plain": [
       "{'a': ['apple', 'atom'], 'b': ['bat', 'book'], 'e': ['echo']}"
      ]
     },
     "execution_count": 32,
     "metadata": {},
     "output_type": "execute_result"
    }
   ],
   "execution_count": 32
  },
  {
   "metadata": {
    "ExecuteTime": {
     "end_time": "2024-09-22T04:13:28.567613Z",
     "start_time": "2024-09-22T04:13:28.547849Z"
    }
   },
   "cell_type": "code",
   "source": [
    "from collections import defaultdict\n",
    "\n",
    "by_letter = defaultdict(list)\n",
    "\n",
    "by_letter"
   ],
   "id": "27b6cea4973390de",
   "outputs": [
    {
     "data": {
      "text/plain": [
       "defaultdict(list, {})"
      ]
     },
     "execution_count": 34,
     "metadata": {},
     "output_type": "execute_result"
    }
   ],
   "execution_count": 34
  },
  {
   "metadata": {
    "ExecuteTime": {
     "end_time": "2024-09-22T04:13:34.147142Z",
     "start_time": "2024-09-22T04:13:34.144399Z"
    }
   },
   "cell_type": "code",
   "source": [
    "for word in words:\n",
    "    by_letter[word[0]].append(word)\n",
    "by_letter"
   ],
   "id": "705dafe8c304b3c3",
   "outputs": [
    {
     "data": {
      "text/plain": [
       "defaultdict(list,\n",
       "            {'a': ['apple', 'atom'], 'b': ['bat', 'book'], 'e': ['echo']})"
      ]
     },
     "execution_count": 35,
     "metadata": {},
     "output_type": "execute_result"
    }
   ],
   "execution_count": 35
  },
  {
   "metadata": {
    "ExecuteTime": {
     "end_time": "2024-09-22T04:14:24.190218Z",
     "start_time": "2024-09-22T04:14:24.185274Z"
    }
   },
   "cell_type": "code",
   "source": "hash(\"string\")",
   "id": "cb7c905b13f0efc5",
   "outputs": [
    {
     "data": {
      "text/plain": [
       "-8526660847985079660"
      ]
     },
     "execution_count": 36,
     "metadata": {},
     "output_type": "execute_result"
    }
   ],
   "execution_count": 36
  },
  {
   "metadata": {
    "ExecuteTime": {
     "end_time": "2024-09-22T04:14:32.167661Z",
     "start_time": "2024-09-22T04:14:32.164529Z"
    }
   },
   "cell_type": "code",
   "source": "hash('string')",
   "id": "ee6e78b5b29f1fc5",
   "outputs": [
    {
     "data": {
      "text/plain": [
       "-8526660847985079660"
      ]
     },
     "execution_count": 37,
     "metadata": {},
     "output_type": "execute_result"
    }
   ],
   "execution_count": 37
  },
  {
   "metadata": {
    "ExecuteTime": {
     "end_time": "2024-09-22T04:14:44.537103Z",
     "start_time": "2024-09-22T04:14:44.522920Z"
    }
   },
   "cell_type": "code",
   "source": "hash((1, 2, [3, 4]))",
   "id": "a7b980305377e07e",
   "outputs": [
    {
     "ename": "TypeError",
     "evalue": "unhashable type: 'list'",
     "output_type": "error",
     "traceback": [
      "\u001B[0;31m---------------------------------------------------------------------------\u001B[0m",
      "\u001B[0;31mTypeError\u001B[0m                                 Traceback (most recent call last)",
      "Cell \u001B[0;32mIn[38], line 1\u001B[0m\n\u001B[0;32m----> 1\u001B[0m \u001B[38;5;28mhash\u001B[39m((\u001B[38;5;241m1\u001B[39m,\u001B[38;5;241m2\u001B[39m,[\u001B[38;5;241m3\u001B[39m,\u001B[38;5;241m4\u001B[39m]))\n",
      "\u001B[0;31mTypeError\u001B[0m: unhashable type: 'list'"
     ]
    }
   ],
   "execution_count": 38
  },
  {
   "metadata": {},
   "cell_type": "markdown",
   "source": "### 3.4 集合",
   "id": "6b572f699ffe0a7b"
  },
  {
   "metadata": {
    "ExecuteTime": {
     "end_time": "2024-09-22T04:43:25.110912Z",
     "start_time": "2024-09-22T04:43:25.107670Z"
    }
   },
   "cell_type": "code",
   "source": [
    "a = set([1, 2, 3, 4])\n",
    "a"
   ],
   "id": "4abe81a3c1b55b02",
   "outputs": [
    {
     "data": {
      "text/plain": [
       "{1, 2, 3, 4}"
      ]
     },
     "execution_count": 40,
     "metadata": {},
     "output_type": "execute_result"
    }
   ],
   "execution_count": 40
  },
  {
   "metadata": {
    "ExecuteTime": {
     "end_time": "2024-09-22T04:43:32.204339Z",
     "start_time": "2024-09-22T04:43:32.200829Z"
    }
   },
   "cell_type": "code",
   "source": "1 in a",
   "id": "2db825e86c0eda09",
   "outputs": [
    {
     "data": {
      "text/plain": [
       "True"
      ]
     },
     "execution_count": 41,
     "metadata": {},
     "output_type": "execute_result"
    }
   ],
   "execution_count": 41
  },
  {
   "metadata": {
    "ExecuteTime": {
     "end_time": "2024-09-22T04:44:01.336145Z",
     "start_time": "2024-09-22T04:44:01.333688Z"
    }
   },
   "cell_type": "code",
   "source": [
    "a = {1, 2, 3, 4, 5, 6, 7, 8, 9}\n",
    "b = {3, 4, 5, 6, 7, 8}\n",
    "a.union(b)"
   ],
   "id": "e409a4dae43c65dc",
   "outputs": [
    {
     "data": {
      "text/plain": [
       "{1, 2, 3, 4, 5, 6, 7, 8, 9}"
      ]
     },
     "execution_count": 42,
     "metadata": {},
     "output_type": "execute_result"
    }
   ],
   "execution_count": 42
  },
  {
   "metadata": {
    "ExecuteTime": {
     "end_time": "2024-09-22T04:44:13.173004Z",
     "start_time": "2024-09-22T04:44:13.170302Z"
    }
   },
   "cell_type": "code",
   "source": "a | b",
   "id": "1290bdf0cec3533e",
   "outputs": [
    {
     "data": {
      "text/plain": [
       "{1, 2, 3, 4, 5, 6, 7, 8, 9}"
      ]
     },
     "execution_count": 43,
     "metadata": {},
     "output_type": "execute_result"
    }
   ],
   "execution_count": 43
  },
  {
   "metadata": {
    "ExecuteTime": {
     "end_time": "2024-09-22T04:44:20.868101Z",
     "start_time": "2024-09-22T04:44:20.865477Z"
    }
   },
   "cell_type": "code",
   "source": [
    "# 交集\n",
    "a.intersection(b)"
   ],
   "id": "9fb640f6fa5eb01c",
   "outputs": [
    {
     "data": {
      "text/plain": [
       "{3, 4, 5, 6, 7, 8}"
      ]
     },
     "execution_count": 44,
     "metadata": {},
     "output_type": "execute_result"
    }
   ],
   "execution_count": 44
  },
  {
   "metadata": {
    "ExecuteTime": {
     "end_time": "2024-09-22T04:44:28.501912Z",
     "start_time": "2024-09-22T04:44:28.498557Z"
    }
   },
   "cell_type": "code",
   "source": "a & b",
   "id": "8e23c07d0982d88c",
   "outputs": [
    {
     "data": {
      "text/plain": [
       "{3, 4, 5, 6, 7, 8}"
      ]
     },
     "execution_count": 45,
     "metadata": {},
     "output_type": "execute_result"
    }
   ],
   "execution_count": 45
  },
  {
   "metadata": {
    "ExecuteTime": {
     "end_time": "2024-09-22T04:44:56.159786Z",
     "start_time": "2024-09-22T04:44:56.156815Z"
    }
   },
   "cell_type": "code",
   "source": "a.add(10)",
   "id": "248ebd870046fee3",
   "outputs": [],
   "execution_count": 46
  },
  {
   "metadata": {
    "ExecuteTime": {
     "end_time": "2024-09-22T04:44:57.493488Z",
     "start_time": "2024-09-22T04:44:57.490165Z"
    }
   },
   "cell_type": "code",
   "source": "a",
   "id": "42c335d148b47814",
   "outputs": [
    {
     "data": {
      "text/plain": [
       "{1, 2, 3, 4, 5, 6, 7, 8, 9, 10}"
      ]
     },
     "execution_count": 47,
     "metadata": {},
     "output_type": "execute_result"
    }
   ],
   "execution_count": 47
  },
  {
   "metadata": {
    "ExecuteTime": {
     "end_time": "2024-09-22T04:45:08.064339Z",
     "start_time": "2024-09-22T04:45:08.059542Z"
    }
   },
   "cell_type": "code",
   "source": [
    "a.remove(10)\n",
    "a"
   ],
   "id": "2779fde48fbc2cf9",
   "outputs": [
    {
     "data": {
      "text/plain": [
       "{1, 2, 3, 4, 5, 6, 7, 8, 9}"
      ]
     },
     "execution_count": 48,
     "metadata": {},
     "output_type": "execute_result"
    }
   ],
   "execution_count": 48
  },
  {
   "metadata": {
    "ExecuteTime": {
     "end_time": "2024-09-22T04:45:14.709294Z",
     "start_time": "2024-09-22T04:45:14.704671Z"
    }
   },
   "cell_type": "code",
   "source": "a.pop()",
   "id": "53fbd6f2b103674b",
   "outputs": [
    {
     "data": {
      "text/plain": [
       "1"
      ]
     },
     "execution_count": 49,
     "metadata": {},
     "output_type": "execute_result"
    }
   ],
   "execution_count": 49
  },
  {
   "metadata": {
    "ExecuteTime": {
     "end_time": "2024-09-22T04:45:27.375113Z",
     "start_time": "2024-09-22T04:45:27.371324Z"
    }
   },
   "cell_type": "code",
   "source": "a.pop",
   "id": "855b75bccb8ac483",
   "outputs": [
    {
     "data": {
      "text/plain": [
       "<function set.pop>"
      ]
     },
     "execution_count": 50,
     "metadata": {},
     "output_type": "execute_result"
    }
   ],
   "execution_count": 50
  },
  {
   "metadata": {
    "ExecuteTime": {
     "end_time": "2024-09-22T04:45:33.397032Z",
     "start_time": "2024-09-22T04:45:33.393338Z"
    }
   },
   "cell_type": "code",
   "source": "a.pop()",
   "id": "ad132a737b96f079",
   "outputs": [
    {
     "data": {
      "text/plain": [
       "2"
      ]
     },
     "execution_count": 51,
     "metadata": {},
     "output_type": "execute_result"
    }
   ],
   "execution_count": 51
  },
  {
   "metadata": {
    "ExecuteTime": {
     "end_time": "2024-09-22T04:45:39.287413Z",
     "start_time": "2024-09-22T04:45:39.279665Z"
    }
   },
   "cell_type": "code",
   "source": "a.pop(7)",
   "id": "3488fc14c997420c",
   "outputs": [
    {
     "ename": "TypeError",
     "evalue": "set.pop() takes no arguments (1 given)",
     "output_type": "error",
     "traceback": [
      "\u001B[0;31m---------------------------------------------------------------------------\u001B[0m",
      "\u001B[0;31mTypeError\u001B[0m                                 Traceback (most recent call last)",
      "Cell \u001B[0;32mIn[52], line 1\u001B[0m\n\u001B[0;32m----> 1\u001B[0m a\u001B[38;5;241m.\u001B[39mpop(\u001B[38;5;241m7\u001B[39m)\n",
      "\u001B[0;31mTypeError\u001B[0m: set.pop() takes no arguments (1 given)"
     ]
    }
   ],
   "execution_count": 52
  },
  {
   "metadata": {
    "ExecuteTime": {
     "end_time": "2024-09-22T04:46:03.368213Z",
     "start_time": "2024-09-22T04:46:03.366013Z"
    }
   },
   "cell_type": "code",
   "source": "a.update(b)",
   "id": "31e3ae3685a4b769",
   "outputs": [],
   "execution_count": 53
  },
  {
   "metadata": {
    "ExecuteTime": {
     "end_time": "2024-09-22T04:46:04.719389Z",
     "start_time": "2024-09-22T04:46:04.716608Z"
    }
   },
   "cell_type": "code",
   "source": "a",
   "id": "188812ca8a1f1d45",
   "outputs": [
    {
     "data": {
      "text/plain": [
       "{3, 4, 5, 6, 7, 8, 9}"
      ]
     },
     "execution_count": 54,
     "metadata": {},
     "output_type": "execute_result"
    }
   ],
   "execution_count": 54
  },
  {
   "metadata": {
    "ExecuteTime": {
     "end_time": "2024-09-22T04:46:24.231238Z",
     "start_time": "2024-09-22T04:46:24.228874Z"
    }
   },
   "cell_type": "code",
   "source": "a",
   "id": "c77f061ecaac5098",
   "outputs": [
    {
     "data": {
      "text/plain": [
       "{3, 4, 5, 6, 7, 8, 9}"
      ]
     },
     "execution_count": 55,
     "metadata": {},
     "output_type": "execute_result"
    }
   ],
   "execution_count": 55
  },
  {
   "metadata": {
    "ExecuteTime": {
     "end_time": "2024-09-22T04:46:51.362479Z",
     "start_time": "2024-09-22T04:46:51.357832Z"
    }
   },
   "cell_type": "code",
   "source": [
    "a = {1, 2, 3, 4}\n",
    "b = {2, 3, 5, 6}\n",
    "a.intersection(b)"
   ],
   "id": "9cce27b84c29e69e",
   "outputs": [
    {
     "data": {
      "text/plain": [
       "{2, 3}"
      ]
     },
     "execution_count": 56,
     "metadata": {},
     "output_type": "execute_result"
    }
   ],
   "execution_count": 56
  },
  {
   "metadata": {
    "ExecuteTime": {
     "end_time": "2024-09-22T04:59:36.488679Z",
     "start_time": "2024-09-22T04:59:36.485087Z"
    }
   },
   "cell_type": "code",
   "source": [
    "c = a.copy()\n",
    "c"
   ],
   "id": "3e0001f29a143330",
   "outputs": [
    {
     "data": {
      "text/plain": [
       "{1, 2, 3, 4}"
      ]
     },
     "execution_count": 57,
     "metadata": {},
     "output_type": "execute_result"
    }
   ],
   "execution_count": 57
  },
  {
   "metadata": {
    "ExecuteTime": {
     "end_time": "2024-09-22T04:59:49.010257Z",
     "start_time": "2024-09-22T04:59:49.007856Z"
    }
   },
   "cell_type": "code",
   "source": "c |= b",
   "id": "5d84e6aedcecf66e",
   "outputs": [],
   "execution_count": 58
  },
  {
   "metadata": {
    "ExecuteTime": {
     "end_time": "2024-09-22T04:59:50.647803Z",
     "start_time": "2024-09-22T04:59:50.644851Z"
    }
   },
   "cell_type": "code",
   "source": "c",
   "id": "ca632825fd2526b9",
   "outputs": [
    {
     "data": {
      "text/plain": [
       "{1, 2, 3, 4, 5, 6}"
      ]
     },
     "execution_count": 59,
     "metadata": {},
     "output_type": "execute_result"
    }
   ],
   "execution_count": 59
  },
  {
   "metadata": {
    "ExecuteTime": {
     "end_time": "2024-09-22T05:00:33.207321Z",
     "start_time": "2024-09-22T05:00:33.204179Z"
    }
   },
   "cell_type": "code",
   "source": "b",
   "id": "53d17c57e7e7d5ef",
   "outputs": [
    {
     "data": {
      "text/plain": [
       "{2, 3, 5, 6}"
      ]
     },
     "execution_count": 60,
     "metadata": {},
     "output_type": "execute_result"
    }
   ],
   "execution_count": 60
  },
  {
   "metadata": {
    "ExecuteTime": {
     "end_time": "2024-09-22T05:00:40.342108Z",
     "start_time": "2024-09-22T05:00:40.339983Z"
    }
   },
   "cell_type": "code",
   "source": [
    "d = a.copy()\n",
    "d"
   ],
   "id": "ade8e2e94b59b266",
   "outputs": [
    {
     "data": {
      "text/plain": [
       "{1, 2, 3, 4}"
      ]
     },
     "execution_count": 61,
     "metadata": {},
     "output_type": "execute_result"
    }
   ],
   "execution_count": 61
  },
  {
   "metadata": {
    "ExecuteTime": {
     "end_time": "2024-09-22T05:00:45.998354Z",
     "start_time": "2024-09-22T05:00:45.995382Z"
    }
   },
   "cell_type": "code",
   "source": "d &= b",
   "id": "de2eb2846b61f9a",
   "outputs": [],
   "execution_count": 62
  },
  {
   "metadata": {
    "ExecuteTime": {
     "end_time": "2024-09-22T05:00:48.322082Z",
     "start_time": "2024-09-22T05:00:48.318282Z"
    }
   },
   "cell_type": "code",
   "source": "d",
   "id": "841dcc0f7284896c",
   "outputs": [
    {
     "data": {
      "text/plain": [
       "{2, 3}"
      ]
     },
     "execution_count": 63,
     "metadata": {},
     "output_type": "execute_result"
    }
   ],
   "execution_count": 63
  },
  {
   "metadata": {
    "ExecuteTime": {
     "end_time": "2024-09-22T05:02:30.450681Z",
     "start_time": "2024-09-22T05:02:30.446399Z"
    }
   },
   "cell_type": "code",
   "source": "{1, 2, 3} == {2, 3, 1}",
   "id": "89278ca70163a77c",
   "outputs": [
    {
     "data": {
      "text/plain": [
       "True"
      ]
     },
     "execution_count": 64,
     "metadata": {},
     "output_type": "execute_result"
    }
   ],
   "execution_count": 64
  },
  {
   "metadata": {
    "ExecuteTime": {
     "end_time": "2024-09-22T05:03:31.652678Z",
     "start_time": "2024-09-22T05:03:31.649644Z"
    }
   },
   "cell_type": "code",
   "source": [
    "a = range(10)\n",
    "a"
   ],
   "id": "b88780ce287d026c",
   "outputs": [
    {
     "data": {
      "text/plain": [
       "range(0, 10)"
      ]
     },
     "execution_count": 67,
     "metadata": {},
     "output_type": "execute_result"
    }
   ],
   "execution_count": 67
  },
  {
   "metadata": {
    "ExecuteTime": {
     "end_time": "2024-09-22T05:03:45.617272Z",
     "start_time": "2024-09-22T05:03:45.614128Z"
    }
   },
   "cell_type": "code",
   "source": "type(a)",
   "id": "3051bbfc08c074a0",
   "outputs": [
    {
     "data": {
      "text/plain": [
       "range"
      ]
     },
     "execution_count": 68,
     "metadata": {},
     "output_type": "execute_result"
    }
   ],
   "execution_count": 68
  },
  {
   "metadata": {
    "ExecuteTime": {
     "end_time": "2024-09-22T05:05:18.025801Z",
     "start_time": "2024-09-22T05:05:18.022350Z"
    }
   },
   "cell_type": "code",
   "source": [
    "# Python内置了一个enumerate函数，可以返回(i, value)元组序列\n",
    "a = ['Tom', 'Jack', 'Sally', 'Lucy']\n",
    "for index, value in enumerate(a):\n",
    "    print(index, value)"
   ],
   "id": "af90deb444f1ccad",
   "outputs": [
    {
     "name": "stdout",
     "output_type": "stream",
     "text": [
      "0 Tom\n",
      "1 Jack\n",
      "2 Sally\n",
      "3 Lucy\n"
     ]
    }
   ],
   "execution_count": 70
  },
  {
   "metadata": {
    "ExecuteTime": {
     "end_time": "2024-09-22T05:06:16.272402Z",
     "start_time": "2024-09-22T05:06:16.268443Z"
    }
   },
   "cell_type": "code",
   "source": "sorted(a)",
   "id": "a31e7def89ecde47",
   "outputs": [
    {
     "data": {
      "text/plain": [
       "['Jack', 'Lucy', 'Sally', 'Tom']"
      ]
     },
     "execution_count": 71,
     "metadata": {},
     "output_type": "execute_result"
    }
   ],
   "execution_count": 71
  },
  {
   "metadata": {
    "ExecuteTime": {
     "end_time": "2024-09-22T05:06:31.980581Z",
     "start_time": "2024-09-22T05:06:31.977512Z"
    }
   },
   "cell_type": "code",
   "source": "sorted(\"hello, world\")",
   "id": "487782f7f960b274",
   "outputs": [
    {
     "data": {
      "text/plain": [
       "[' ', ',', 'd', 'e', 'h', 'l', 'l', 'l', 'o', 'o', 'r', 'w']"
      ]
     },
     "execution_count": 72,
     "metadata": {},
     "output_type": "execute_result"
    }
   ],
   "execution_count": 72
  },
  {
   "metadata": {
    "ExecuteTime": {
     "end_time": "2024-09-22T05:08:13.210077Z",
     "start_time": "2024-09-22T05:08:13.207439Z"
    }
   },
   "cell_type": "code",
   "source": [
    "# zip方法\n",
    "seq1 = ['foo', 'bar', 'baz']\n",
    "seq2 = [1, 2, 3]\n",
    "zipped = zip(seq1, seq2)"
   ],
   "id": "dfcec5b8e77eabda",
   "outputs": [],
   "execution_count": 75
  },
  {
   "metadata": {
    "ExecuteTime": {
     "end_time": "2024-09-22T05:08:15.754557Z",
     "start_time": "2024-09-22T05:08:15.750814Z"
    }
   },
   "cell_type": "code",
   "source": "type(zipped)",
   "id": "9c90232704b57409",
   "outputs": [
    {
     "data": {
      "text/plain": [
       "zip"
      ]
     },
     "execution_count": 76,
     "metadata": {},
     "output_type": "execute_result"
    }
   ],
   "execution_count": 76
  },
  {
   "metadata": {
    "ExecuteTime": {
     "end_time": "2024-09-22T05:09:40.317027Z",
     "start_time": "2024-09-22T05:09:40.313227Z"
    }
   },
   "cell_type": "code",
   "source": "list(zipped)",
   "id": "4ef3dfa38ae51122",
   "outputs": [
    {
     "data": {
      "text/plain": [
       "[('foo', 1), ('bar', 2), ('baz', 3)]"
      ]
     },
     "execution_count": 77,
     "metadata": {},
     "output_type": "execute_result"
    }
   ],
   "execution_count": 77
  },
  {
   "metadata": {
    "ExecuteTime": {
     "end_time": "2024-09-22T05:19:20.212870Z",
     "start_time": "2024-09-22T05:19:20.210071Z"
    }
   },
   "cell_type": "code",
   "source": "seq3 = [False, True]",
   "id": "17bdf96a16bc972c",
   "outputs": [],
   "execution_count": 78
  },
  {
   "metadata": {
    "ExecuteTime": {
     "end_time": "2024-09-22T05:19:34.451304Z",
     "start_time": "2024-09-22T05:19:34.448601Z"
    }
   },
   "cell_type": "code",
   "source": "list(zip(seq1, seq2, seq3))",
   "id": "77d32c78601937fa",
   "outputs": [
    {
     "data": {
      "text/plain": [
       "[('foo', 1, False), ('bar', 2, True)]"
      ]
     },
     "execution_count": 79,
     "metadata": {},
     "output_type": "execute_result"
    }
   ],
   "execution_count": 79
  },
  {
   "metadata": {
    "ExecuteTime": {
     "end_time": "2024-09-22T05:20:40.142847Z",
     "start_time": "2024-09-22T05:20:40.137842Z"
    }
   },
   "cell_type": "code",
   "source": [
    "for index, (a, b) in enumerate(zip(seq1, seq2)):\n",
    "    print(f\"{index}: {a}, {b}\")"
   ],
   "id": "d931bf9d7b17458d",
   "outputs": [
    {
     "name": "stdout",
     "output_type": "stream",
     "text": [
      "0: foo, 1\n",
      "1: bar, 2\n",
      "2: baz, 3\n"
     ]
    }
   ],
   "execution_count": 80
  },
  {
   "metadata": {
    "ExecuteTime": {
     "end_time": "2024-09-22T05:21:36.822779Z",
     "start_time": "2024-09-22T05:21:36.819292Z"
    }
   },
   "cell_type": "code",
   "source": [
    "a = [i for i in range(10)]\n",
    "a"
   ],
   "id": "f34fb0c6ffc99d38",
   "outputs": [
    {
     "data": {
      "text/plain": [
       "[0, 1, 2, 3, 4, 5, 6, 7, 8, 9]"
      ]
     },
     "execution_count": 81,
     "metadata": {},
     "output_type": "execute_result"
    }
   ],
   "execution_count": 81
  },
  {
   "metadata": {
    "ExecuteTime": {
     "end_time": "2024-09-22T05:22:34.918134Z",
     "start_time": "2024-09-22T05:22:34.914954Z"
    }
   },
   "cell_type": "code",
   "source": [
    "strings = [\"a\", \"b\", \"as\", \"car\", \"dove\", \"python\"]\n",
    "[i.upper() for i in strings]"
   ],
   "id": "bcaa114fdbbe4641",
   "outputs": [
    {
     "data": {
      "text/plain": [
       "['A', 'B', 'AS', 'CAR', 'DOVE', 'PYTHON']"
      ]
     },
     "execution_count": 82,
     "metadata": {},
     "output_type": "execute_result"
    }
   ],
   "execution_count": 82
  },
  {
   "metadata": {
    "ExecuteTime": {
     "end_time": "2024-09-22T05:23:03.193553Z",
     "start_time": "2024-09-22T05:23:03.189308Z"
    }
   },
   "cell_type": "code",
   "source": "[i.upper() for i in strings if len(i) > 2]",
   "id": "28fd9dbe203d0f3",
   "outputs": [
    {
     "data": {
      "text/plain": [
       "['CAR', 'DOVE', 'PYTHON']"
      ]
     },
     "execution_count": 83,
     "metadata": {},
     "output_type": "execute_result"
    }
   ],
   "execution_count": 83
  },
  {
   "metadata": {
    "ExecuteTime": {
     "end_time": "2024-09-22T05:27:09.269326Z",
     "start_time": "2024-09-22T05:27:09.264843Z"
    }
   },
   "cell_type": "code",
   "source": [
    "a = [1, 1, 1, 2, 3, 4, 6, 6, 7, 3]\n",
    "{i for i in a}"
   ],
   "id": "67af1dd754462801",
   "outputs": [
    {
     "data": {
      "text/plain": [
       "{1, 2, 3, 4, 6, 7}"
      ]
     },
     "execution_count": 85,
     "metadata": {},
     "output_type": "execute_result"
    }
   ],
   "execution_count": 85
  },
  {
   "metadata": {
    "ExecuteTime": {
     "end_time": "2024-09-22T05:32:14.491685Z",
     "start_time": "2024-09-22T05:32:14.488365Z"
    }
   },
   "cell_type": "code",
   "source": "strings",
   "id": "6bfdc09bf166a327",
   "outputs": [
    {
     "data": {
      "text/plain": [
       "['a', 'b', 'as', 'car', 'dove', 'python']"
      ]
     },
     "execution_count": 86,
     "metadata": {},
     "output_type": "execute_result"
    }
   ],
   "execution_count": 86
  },
  {
   "metadata": {
    "ExecuteTime": {
     "end_time": "2024-09-22T05:32:28.073853Z",
     "start_time": "2024-09-22T05:32:28.070099Z"
    }
   },
   "cell_type": "code",
   "source": "set(map(len, strings))",
   "id": "a7258667dfae9c6b",
   "outputs": [
    {
     "data": {
      "text/plain": [
       "{1, 2, 3, 4, 6}"
      ]
     },
     "execution_count": 87,
     "metadata": {},
     "output_type": "execute_result"
    }
   ],
   "execution_count": 87
  },
  {
   "metadata": {
    "ExecuteTime": {
     "end_time": "2024-09-22T05:33:46.055844Z",
     "start_time": "2024-09-22T05:33:46.052856Z"
    }
   },
   "cell_type": "code",
   "source": "loc_mapping = {value: index for index, value in enumerate(strings)}",
   "id": "e9fcd49ed180bc11",
   "outputs": [],
   "execution_count": 88
  },
  {
   "metadata": {
    "ExecuteTime": {
     "end_time": "2024-09-22T05:33:50.163675Z",
     "start_time": "2024-09-22T05:33:50.161194Z"
    }
   },
   "cell_type": "code",
   "source": "loc_mapping",
   "id": "8cb2396110c57868",
   "outputs": [
    {
     "data": {
      "text/plain": [
       "{'a': 0, 'b': 1, 'as': 2, 'car': 3, 'dove': 4, 'python': 5}"
      ]
     },
     "execution_count": 89,
     "metadata": {},
     "output_type": "execute_result"
    }
   ],
   "execution_count": 89
  },
  {
   "metadata": {
    "ExecuteTime": {
     "end_time": "2024-09-22T05:36:15.984387Z",
     "start_time": "2024-09-22T05:36:15.980713Z"
    }
   },
   "cell_type": "code",
   "source": "all_data = [[\"John\", \"Emily\", \"Michael\", \"Mary\", \"Steven\"], [\"Maria\", \"Juan\", \"Javier\", \"Natalia\", \"Pilar\"]]",
   "id": "4ecee5b57fa1748a",
   "outputs": [],
   "execution_count": 90
  },
  {
   "metadata": {
    "ExecuteTime": {
     "end_time": "2024-09-22T05:42:02.953668Z",
     "start_time": "2024-09-22T05:42:02.951267Z"
    }
   },
   "cell_type": "code",
   "source": "result = [names for names in all_data for name in names if name.count(\"a\") >= 2]",
   "id": "f8bf875866d8504a",
   "outputs": [],
   "execution_count": 100
  },
  {
   "metadata": {
    "ExecuteTime": {
     "end_time": "2024-09-22T05:42:03.651495Z",
     "start_time": "2024-09-22T05:42:03.648134Z"
    }
   },
   "cell_type": "code",
   "source": "result",
   "id": "29d32c8b90507571",
   "outputs": [
    {
     "data": {
      "text/plain": [
       "[['Maria', 'Juan', 'Javier', 'Natalia', 'Pilar'],\n",
       " ['Maria', 'Juan', 'Javier', 'Natalia', 'Pilar']]"
      ]
     },
     "execution_count": 101,
     "metadata": {},
     "output_type": "execute_result"
    }
   ],
   "execution_count": 101
  },
  {
   "metadata": {
    "ExecuteTime": {
     "end_time": "2024-09-22T05:43:00.928146Z",
     "start_time": "2024-09-22T05:43:00.925132Z"
    }
   },
   "cell_type": "code",
   "source": [
    "some_tuples = [(1, 2, 3), (4, 5, 6), (7, 8, 9)]\n",
    "flattened = [i for tup in some_tuples for i in tup]\n",
    "flattened"
   ],
   "id": "963d20e3ea32ca26",
   "outputs": [
    {
     "data": {
      "text/plain": [
       "[1, 2, 3, 4, 5, 6, 7, 8, 9]"
      ]
     },
     "execution_count": 102,
     "metadata": {},
     "output_type": "execute_result"
    }
   ],
   "execution_count": 102
  },
  {
   "metadata": {
    "ExecuteTime": {
     "end_time": "2024-09-22T05:43:24.080812Z",
     "start_time": "2024-09-22T05:43:24.076234Z"
    }
   },
   "cell_type": "code",
   "source": [
    "flattened = [tup for tup in some_tuples for i in tup]\n",
    "flattened"
   ],
   "id": "26806c74a50ff7a2",
   "outputs": [
    {
     "data": {
      "text/plain": [
       "[(1, 2, 3),\n",
       " (1, 2, 3),\n",
       " (1, 2, 3),\n",
       " (4, 5, 6),\n",
       " (4, 5, 6),\n",
       " (4, 5, 6),\n",
       " (7, 8, 9),\n",
       " (7, 8, 9),\n",
       " (7, 8, 9)]"
      ]
     },
     "execution_count": 103,
     "metadata": {},
     "output_type": "execute_result"
    }
   ],
   "execution_count": 103
  },
  {
   "metadata": {
    "ExecuteTime": {
     "end_time": "2024-09-22T05:48:52.916862Z",
     "start_time": "2024-09-22T05:48:52.913620Z"
    }
   },
   "cell_type": "code",
   "source": [
    "state = [\"    Alabama\", \"Georgia!\", \"Georgia\", \"georgia\", \"FlOrIda\", \"south    carolina##\", \"West virginia\"]\n",
    "state"
   ],
   "id": "aa62b6eadd68f5ad",
   "outputs": [
    {
     "data": {
      "text/plain": [
       "['    Alabama',\n",
       " 'Georgia!',\n",
       " 'Georgia',\n",
       " 'georgia',\n",
       " 'FlOrIda',\n",
       " 'south    carolina##',\n",
       " 'West virginia']"
      ]
     },
     "execution_count": 104,
     "metadata": {},
     "output_type": "execute_result"
    }
   ],
   "execution_count": 104
  },
  {
   "metadata": {
    "ExecuteTime": {
     "end_time": "2024-09-22T05:52:50.222045Z",
     "start_time": "2024-09-22T05:52:50.218965Z"
    }
   },
   "cell_type": "code",
   "source": [
    "# 去除空格、删除标点符号、调整为正确的大小写格式。\n",
    "import re\n",
    "\n",
    "\n",
    "def clean_strings(strings):\n",
    "    result = []\n",
    "    for value in strings:\n",
    "        value = value.strip()\n",
    "        value = re.sub(\"[!#?]\", \"\", value)\n",
    "        value = value.title()\n",
    "        result.append(value)\n",
    "    return result\n",
    "\n",
    "\n",
    "clean_strings(state)"
   ],
   "id": "4c6e953c0b6e092d",
   "outputs": [
    {
     "data": {
      "text/plain": [
       "['Alabama',\n",
       " 'Georgia',\n",
       " 'Georgia',\n",
       " 'Georgia',\n",
       " 'Florida',\n",
       " 'South    Carolina',\n",
       " 'West Virginia']"
      ]
     },
     "execution_count": 109,
     "metadata": {},
     "output_type": "execute_result"
    }
   ],
   "execution_count": 109
  },
  {
   "metadata": {
    "ExecuteTime": {
     "end_time": "2024-09-22T05:55:56.530920Z",
     "start_time": "2024-09-22T05:55:56.526995Z"
    }
   },
   "cell_type": "code",
   "source": [
    "# 将操作过程做成一个列表\n",
    "def remove_punctuation(value):\n",
    "    return re.sub(\"[!#?]\", \"\", value)\n",
    "\n",
    "\n",
    "clean_ops = [str.strip, remove_punctuation, str.title]\n",
    "\n",
    "\n",
    "def clean_strings(strings):\n",
    "    result = []\n",
    "    for value in strings:\n",
    "        for func in clean_ops:\n",
    "            value = func(value)\n",
    "        result.append(value)\n",
    "    return result\n",
    "\n",
    "\n",
    "clean_strings(state)"
   ],
   "id": "26597439a0aa739f",
   "outputs": [
    {
     "data": {
      "text/plain": [
       "['Alabama',\n",
       " 'Georgia',\n",
       " 'Georgia',\n",
       " 'Georgia',\n",
       " 'Florida',\n",
       " 'South    Carolina',\n",
       " 'West Virginia']"
      ]
     },
     "execution_count": 110,
     "metadata": {},
     "output_type": "execute_result"
    }
   ],
   "execution_count": 110
  },
  {
   "metadata": {
    "ExecuteTime": {
     "end_time": "2024-09-22T05:59:55.017110Z",
     "start_time": "2024-09-22T05:59:55.014553Z"
    }
   },
   "cell_type": "code",
   "source": [
    "# 生成器\n",
    "def squares(n=10):\n",
    "    print(f\"Generating squares from 1 to {n ** 2}\")\n",
    "    for i in range(1, n+1):\n",
    "        yield i ** 2\n",
    "\n",
    "gen = squares()"
   ],
   "id": "4a3e5dc819cfc968",
   "outputs": [],
   "execution_count": 111
  },
  {
   "metadata": {
    "ExecuteTime": {
     "end_time": "2024-09-22T05:59:58.799157Z",
     "start_time": "2024-09-22T05:59:58.795872Z"
    }
   },
   "cell_type": "code",
   "source": "gen",
   "id": "20392aefe03bcaf2",
   "outputs": [
    {
     "data": {
      "text/plain": [
       "<generator object squares at 0x108330ac0>"
      ]
     },
     "execution_count": 112,
     "metadata": {},
     "output_type": "execute_result"
    }
   ],
   "execution_count": 112
  },
  {
   "metadata": {
    "ExecuteTime": {
     "end_time": "2024-09-22T06:00:20.669375Z",
     "start_time": "2024-09-22T06:00:20.667189Z"
    }
   },
   "cell_type": "code",
   "source": [
    "for x in gen:\n",
    "    print(x, end=\" \")"
   ],
   "id": "997316f9a6ad55d7",
   "outputs": [
    {
     "name": "stdout",
     "output_type": "stream",
     "text": [
      "Generating squares from 1 to 100\n",
      "1 4 9 16 25 36 49 64 81 100 "
     ]
    }
   ],
   "execution_count": 113
  },
  {
   "metadata": {
    "ExecuteTime": {
     "end_time": "2024-09-22T06:01:52.090467Z",
     "start_time": "2024-09-22T06:01:52.087243Z"
    }
   },
   "cell_type": "code",
   "source": [
    "gen = (x**2 for x in range(10))\n",
    "gen"
   ],
   "id": "d66074df7434b248",
   "outputs": [
    {
     "data": {
      "text/plain": [
       "<generator object <genexpr> at 0x108387b90>"
      ]
     },
     "execution_count": 116,
     "metadata": {},
     "output_type": "execute_result"
    }
   ],
   "execution_count": 116
  },
  {
   "metadata": {
    "ExecuteTime": {
     "end_time": "2024-09-22T06:01:52.674336Z",
     "start_time": "2024-09-22T06:01:52.671900Z"
    }
   },
   "cell_type": "code",
   "source": "list(gen)",
   "id": "69a78aaea6660898",
   "outputs": [
    {
     "data": {
      "text/plain": [
       "[0, 1, 4, 9, 16, 25, 36, 49, 64, 81]"
      ]
     },
     "execution_count": 117,
     "metadata": {},
     "output_type": "execute_result"
    }
   ],
   "execution_count": 117
  },
  {
   "metadata": {
    "ExecuteTime": {
     "end_time": "2024-09-22T06:02:32.136182Z",
     "start_time": "2024-09-22T06:02:32.132868Z"
    }
   },
   "cell_type": "code",
   "source": "dict((i, i**2) for i in range(10))",
   "id": "16f73d51cbcf6c05",
   "outputs": [
    {
     "data": {
      "text/plain": [
       "{0: 0, 1: 1, 2: 4, 3: 9, 4: 16, 5: 25, 6: 36, 7: 49, 8: 64, 9: 81}"
      ]
     },
     "execution_count": 118,
     "metadata": {},
     "output_type": "execute_result"
    }
   ],
   "execution_count": 118
  },
  {
   "metadata": {
    "ExecuteTime": {
     "end_time": "2024-09-22T06:05:22.580883Z",
     "start_time": "2024-09-22T06:05:22.577319Z"
    }
   },
   "cell_type": "code",
   "source": [
    "import itertools\n",
    "def first_letter(strings):\n",
    "    return strings[0]\n",
    "\n",
    "names = [\"Alan\", \"Adam\", \"Wes\", \"Will\", \"Albert\", \"Steven\"]\n",
    "for letter, names in itertools.groupby(names, first_letter):\n",
    "    print(letter, list(names))"
   ],
   "id": "745699d8992ab5e3",
   "outputs": [
    {
     "name": "stdout",
     "output_type": "stream",
     "text": [
      "A ['Alan', 'Adam']\n",
      "W ['Wes', 'Will']\n",
      "A ['Albert']\n",
      "S ['Steven']\n"
     ]
    }
   ],
   "execution_count": 119
  },
  {
   "metadata": {},
   "cell_type": "code",
   "outputs": [],
   "execution_count": null,
   "source": "",
   "id": "b50e0482f9cc5cf"
  }
 ],
 "metadata": {
  "kernelspec": {
   "display_name": "Python 3",
   "language": "python",
   "name": "python3"
  },
  "language_info": {
   "codemirror_mode": {
    "name": "ipython",
    "version": 2
   },
   "file_extension": ".py",
   "mimetype": "text/x-python",
   "name": "python",
   "nbconvert_exporter": "python",
   "pygments_lexer": "ipython2",
   "version": "2.7.6"
  }
 },
 "nbformat": 4,
 "nbformat_minor": 5
}
